{
 "cells": [
  {
   "cell_type": "code",
   "execution_count": 1,
   "metadata": {},
   "outputs": [],
   "source": [
    "import numpy as np\n",
    "import pandas as pd\n",
    "from sklearn.preprocessing import StandardScaler, MinMaxScaler, OneHotEncoder"
   ]
  },
  {
   "cell_type": "code",
   "execution_count": 2,
   "metadata": {},
   "outputs": [],
   "source": [
    "import matplotlib.pyplot as plt\n",
    "import seaborn as sns\n",
    "%matplotlib inline\n",
    "sns.set()\n",
    "sns.set_style('whitegrid')"
   ]
  },
  {
   "cell_type": "code",
   "execution_count": 3,
   "metadata": {},
   "outputs": [],
   "source": [
    "import category_encoders as ce"
   ]
  },
  {
   "cell_type": "code",
   "execution_count": 4,
   "metadata": {},
   "outputs": [],
   "source": [
    "from sklearn.decomposition import PCA\n",
    "from sklearn.cluster import MeanShift, estimate_bandwidth"
   ]
  },
  {
   "cell_type": "code",
   "execution_count": 5,
   "metadata": {},
   "outputs": [],
   "source": [
    "from sklearn.model_selection import train_test_split\n",
    "from sklearn import metrics"
   ]
  },
  {
   "cell_type": "code",
   "execution_count": 6,
   "metadata": {},
   "outputs": [],
   "source": [
    "import tensorflow as tf"
   ]
  },
  {
   "cell_type": "code",
   "execution_count": 7,
   "metadata": {},
   "outputs": [],
   "source": [
    "import keras\n",
    "from keras.models import Model\n",
    "import kerastuner"
   ]
  },
  {
   "cell_type": "code",
   "execution_count": 8,
   "metadata": {},
   "outputs": [],
   "source": [
    "from keras.layers import Dense, Input, Dropout"
   ]
  },
  {
   "cell_type": "code",
   "execution_count": 49,
   "metadata": {},
   "outputs": [],
   "source": [
    "def fast_loss(arr_true,arr_pred):\n",
    "    assert arr_true.shape == arr_pred.shape\n",
    "    epsilon = 1e-20\n",
    "    y = arr_true\n",
    "    y_c = 1-arr_true\n",
    "    y_hat = np.log(np.abs(arr_pred)+epsilon)\n",
    "    y_hat_c = np.log(np.abs(1-arr_pred)+epsilon)\n",
    "    runner = np.sum(y * y_hat + y_c * y_hat_c)\n",
    "    return -1 / (arr_true.shape[0]*arr_true.shape[1]) * runner"
   ]
  },
  {
   "cell_type": "markdown",
   "metadata": {},
   "source": [
    "## Keras notebook with clustering added, raw inputs to NN\n",
    "In this notebook, do PCA on `g-` and `c-` features separately to cluster, then pass raw inputs plus clusters to NN.\n",
    "1. Plot PCA explained variance.\n",
    "1. Visualize 2D PCA of this dataset.\n",
    "1. Select an optimal Mean Shift bandwidth and number of PCA dimensions to cluster on, then cluster.\n",
    "1. Make cluster id a categorical feature, hot encode it.\n",
    "1. Pass features and cluster id to three layer NN.\n",
    "1. Tune the network & train up the best candidate.\n",
    "\n",
    "### This version\n",
    "Hack out the clustering exploration and hardcode the bw30, 2D bandwidth.\n",
    "Hack out the tuner and go with the hardcoded model from the previous raw-inputs notebook.\n",
    "Calculate the log loss here so as not to take up scoring chances on Kaggle."
   ]
  },
  {
   "cell_type": "code",
   "execution_count": 10,
   "metadata": {},
   "outputs": [],
   "source": [
    "tf_df = pd.read_csv('../train_features.csv',index_col='sig_id')\n",
    "tts_df = pd.read_csv('../train_targets_scored.csv',index_col='sig_id')\n",
    "tf_df['cp_type']=tf_df['cp_type'].astype('category')\n",
    "scaler = MinMaxScaler(feature_range=(-0.5,0.5))\n",
    "tf_df['cp_time']=scaler.fit_transform((np.array(tf_df['cp_time'])).reshape(-1,1))\n",
    "tf_df['cp_dose']=tf_df['cp_dose'].astype('category')"
   ]
  },
  {
   "cell_type": "code",
   "execution_count": 11,
   "metadata": {},
   "outputs": [
    {
     "data": {
      "text/html": [
       "<div>\n",
       "<style scoped>\n",
       "    .dataframe tbody tr th:only-of-type {\n",
       "        vertical-align: middle;\n",
       "    }\n",
       "\n",
       "    .dataframe tbody tr th {\n",
       "        vertical-align: top;\n",
       "    }\n",
       "\n",
       "    .dataframe thead th {\n",
       "        text-align: right;\n",
       "    }\n",
       "</style>\n",
       "<table border=\"1\" class=\"dataframe\">\n",
       "  <thead>\n",
       "    <tr style=\"text-align: right;\">\n",
       "      <th></th>\n",
       "      <th>cp_type</th>\n",
       "      <th>cp_time</th>\n",
       "      <th>cp_dose</th>\n",
       "      <th>g-0</th>\n",
       "      <th>g-1</th>\n",
       "      <th>g-2</th>\n",
       "      <th>g-3</th>\n",
       "      <th>g-4</th>\n",
       "      <th>g-5</th>\n",
       "      <th>g-6</th>\n",
       "      <th>...</th>\n",
       "      <th>c-90</th>\n",
       "      <th>c-91</th>\n",
       "      <th>c-92</th>\n",
       "      <th>c-93</th>\n",
       "      <th>c-94</th>\n",
       "      <th>c-95</th>\n",
       "      <th>c-96</th>\n",
       "      <th>c-97</th>\n",
       "      <th>c-98</th>\n",
       "      <th>c-99</th>\n",
       "    </tr>\n",
       "    <tr>\n",
       "      <th>sig_id</th>\n",
       "      <th></th>\n",
       "      <th></th>\n",
       "      <th></th>\n",
       "      <th></th>\n",
       "      <th></th>\n",
       "      <th></th>\n",
       "      <th></th>\n",
       "      <th></th>\n",
       "      <th></th>\n",
       "      <th></th>\n",
       "      <th></th>\n",
       "      <th></th>\n",
       "      <th></th>\n",
       "      <th></th>\n",
       "      <th></th>\n",
       "      <th></th>\n",
       "      <th></th>\n",
       "      <th></th>\n",
       "      <th></th>\n",
       "      <th></th>\n",
       "      <th></th>\n",
       "    </tr>\n",
       "  </thead>\n",
       "  <tbody>\n",
       "    <tr>\n",
       "      <th>id_f60fe0087</th>\n",
       "      <td>1</td>\n",
       "      <td>0.0</td>\n",
       "      <td>1</td>\n",
       "      <td>-0.5219</td>\n",
       "      <td>0.1022</td>\n",
       "      <td>-0.1297</td>\n",
       "      <td>0.5591</td>\n",
       "      <td>-1.1960</td>\n",
       "      <td>-1.6930</td>\n",
       "      <td>-0.6188</td>\n",
       "      <td>...</td>\n",
       "      <td>-0.6261</td>\n",
       "      <td>-2.1440</td>\n",
       "      <td>-0.3391</td>\n",
       "      <td>-3.0990</td>\n",
       "      <td>-0.5826</td>\n",
       "      <td>0.5375</td>\n",
       "      <td>0.5113</td>\n",
       "      <td>0.2707</td>\n",
       "      <td>-1.0200</td>\n",
       "      <td>-0.2763</td>\n",
       "    </tr>\n",
       "    <tr>\n",
       "      <th>id_801bb18e1</th>\n",
       "      <td>1</td>\n",
       "      <td>0.0</td>\n",
       "      <td>1</td>\n",
       "      <td>1.9630</td>\n",
       "      <td>-2.1280</td>\n",
       "      <td>0.0017</td>\n",
       "      <td>0.5831</td>\n",
       "      <td>2.5180</td>\n",
       "      <td>0.7979</td>\n",
       "      <td>1.3740</td>\n",
       "      <td>...</td>\n",
       "      <td>-0.3203</td>\n",
       "      <td>-0.1104</td>\n",
       "      <td>-0.4862</td>\n",
       "      <td>-0.7279</td>\n",
       "      <td>0.4452</td>\n",
       "      <td>-1.0190</td>\n",
       "      <td>-0.4927</td>\n",
       "      <td>-1.6730</td>\n",
       "      <td>-2.1210</td>\n",
       "      <td>0.3475</td>\n",
       "    </tr>\n",
       "    <tr>\n",
       "      <th>id_3c87e6253</th>\n",
       "      <td>1</td>\n",
       "      <td>-0.5</td>\n",
       "      <td>1</td>\n",
       "      <td>0.2192</td>\n",
       "      <td>0.4785</td>\n",
       "      <td>2.0330</td>\n",
       "      <td>-0.0534</td>\n",
       "      <td>-0.4128</td>\n",
       "      <td>-0.3449</td>\n",
       "      <td>-0.0512</td>\n",
       "      <td>...</td>\n",
       "      <td>-0.2353</td>\n",
       "      <td>-0.5609</td>\n",
       "      <td>0.8464</td>\n",
       "      <td>-0.6068</td>\n",
       "      <td>0.5180</td>\n",
       "      <td>-0.4832</td>\n",
       "      <td>0.1162</td>\n",
       "      <td>0.3042</td>\n",
       "      <td>0.3074</td>\n",
       "      <td>0.4916</td>\n",
       "    </tr>\n",
       "    <tr>\n",
       "      <th>id_a0764cc51</th>\n",
       "      <td>1</td>\n",
       "      <td>-0.5</td>\n",
       "      <td>1</td>\n",
       "      <td>5.1830</td>\n",
       "      <td>0.7361</td>\n",
       "      <td>2.1850</td>\n",
       "      <td>2.0050</td>\n",
       "      <td>1.1870</td>\n",
       "      <td>-1.9570</td>\n",
       "      <td>-1.3220</td>\n",
       "      <td>...</td>\n",
       "      <td>-7.3180</td>\n",
       "      <td>-6.6420</td>\n",
       "      <td>-6.3470</td>\n",
       "      <td>-8.4400</td>\n",
       "      <td>-6.5260</td>\n",
       "      <td>-1.9180</td>\n",
       "      <td>-6.3230</td>\n",
       "      <td>-4.0370</td>\n",
       "      <td>-4.3000</td>\n",
       "      <td>-2.4400</td>\n",
       "    </tr>\n",
       "    <tr>\n",
       "      <th>id_cbb3e6f5c</th>\n",
       "      <td>1</td>\n",
       "      <td>0.0</td>\n",
       "      <td>2</td>\n",
       "      <td>-0.3684</td>\n",
       "      <td>0.1838</td>\n",
       "      <td>-0.6387</td>\n",
       "      <td>-0.3298</td>\n",
       "      <td>-0.0493</td>\n",
       "      <td>0.0668</td>\n",
       "      <td>-0.2451</td>\n",
       "      <td>...</td>\n",
       "      <td>-0.0345</td>\n",
       "      <td>-0.5872</td>\n",
       "      <td>-0.0103</td>\n",
       "      <td>-0.5175</td>\n",
       "      <td>0.1426</td>\n",
       "      <td>0.1095</td>\n",
       "      <td>-0.1131</td>\n",
       "      <td>-0.0934</td>\n",
       "      <td>0.5375</td>\n",
       "      <td>-0.4306</td>\n",
       "    </tr>\n",
       "  </tbody>\n",
       "</table>\n",
       "<p>5 rows × 875 columns</p>\n",
       "</div>"
      ],
      "text/plain": [
       "              cp_type  cp_time  cp_dose     g-0     g-1     g-2     g-3  \\\n",
       "sig_id                                                                    \n",
       "id_f60fe0087        1      0.0        1 -0.5219  0.1022 -0.1297  0.5591   \n",
       "id_801bb18e1        1      0.0        1  1.9630 -2.1280  0.0017  0.5831   \n",
       "id_3c87e6253        1     -0.5        1  0.2192  0.4785  2.0330 -0.0534   \n",
       "id_a0764cc51        1     -0.5        1  5.1830  0.7361  2.1850  2.0050   \n",
       "id_cbb3e6f5c        1      0.0        2 -0.3684  0.1838 -0.6387 -0.3298   \n",
       "\n",
       "                 g-4     g-5     g-6  ...    c-90    c-91    c-92    c-93  \\\n",
       "sig_id                                ...                                   \n",
       "id_f60fe0087 -1.1960 -1.6930 -0.6188  ... -0.6261 -2.1440 -0.3391 -3.0990   \n",
       "id_801bb18e1  2.5180  0.7979  1.3740  ... -0.3203 -0.1104 -0.4862 -0.7279   \n",
       "id_3c87e6253 -0.4128 -0.3449 -0.0512  ... -0.2353 -0.5609  0.8464 -0.6068   \n",
       "id_a0764cc51  1.1870 -1.9570 -1.3220  ... -7.3180 -6.6420 -6.3470 -8.4400   \n",
       "id_cbb3e6f5c -0.0493  0.0668 -0.2451  ... -0.0345 -0.5872 -0.0103 -0.5175   \n",
       "\n",
       "                c-94    c-95    c-96    c-97    c-98    c-99  \n",
       "sig_id                                                        \n",
       "id_f60fe0087 -0.5826  0.5375  0.5113  0.2707 -1.0200 -0.2763  \n",
       "id_801bb18e1  0.4452 -1.0190 -0.4927 -1.6730 -2.1210  0.3475  \n",
       "id_3c87e6253  0.5180 -0.4832  0.1162  0.3042  0.3074  0.4916  \n",
       "id_a0764cc51 -6.5260 -1.9180 -6.3230 -4.0370 -4.3000 -2.4400  \n",
       "id_cbb3e6f5c  0.1426  0.1095 -0.1131 -0.0934  0.5375 -0.4306  \n",
       "\n",
       "[5 rows x 875 columns]"
      ]
     },
     "execution_count": 11,
     "metadata": {},
     "output_type": "execute_result"
    }
   ],
   "source": [
    "oenc = ce.ordinal.OrdinalEncoder()\n",
    "tf_df = oenc.fit_transform(tf_df)\n",
    "tf_df.sample(5)"
   ]
  },
  {
   "cell_type": "code",
   "execution_count": 12,
   "metadata": {},
   "outputs": [
    {
     "data": {
      "text/html": [
       "<div>\n",
       "<style scoped>\n",
       "    .dataframe tbody tr th:only-of-type {\n",
       "        vertical-align: middle;\n",
       "    }\n",
       "\n",
       "    .dataframe tbody tr th {\n",
       "        vertical-align: top;\n",
       "    }\n",
       "\n",
       "    .dataframe thead th {\n",
       "        text-align: right;\n",
       "    }\n",
       "</style>\n",
       "<table border=\"1\" class=\"dataframe\">\n",
       "  <thead>\n",
       "    <tr style=\"text-align: right;\">\n",
       "      <th></th>\n",
       "      <th>cp_type</th>\n",
       "      <th>cp_time</th>\n",
       "      <th>cp_dose</th>\n",
       "      <th>g-0</th>\n",
       "      <th>g-1</th>\n",
       "      <th>g-2</th>\n",
       "      <th>g-3</th>\n",
       "      <th>g-4</th>\n",
       "      <th>g-5</th>\n",
       "      <th>g-6</th>\n",
       "      <th>...</th>\n",
       "      <th>c-90</th>\n",
       "      <th>c-91</th>\n",
       "      <th>c-92</th>\n",
       "      <th>c-93</th>\n",
       "      <th>c-94</th>\n",
       "      <th>c-95</th>\n",
       "      <th>c-96</th>\n",
       "      <th>c-97</th>\n",
       "      <th>c-98</th>\n",
       "      <th>c-99</th>\n",
       "    </tr>\n",
       "    <tr>\n",
       "      <th>sig_id</th>\n",
       "      <th></th>\n",
       "      <th></th>\n",
       "      <th></th>\n",
       "      <th></th>\n",
       "      <th></th>\n",
       "      <th></th>\n",
       "      <th></th>\n",
       "      <th></th>\n",
       "      <th></th>\n",
       "      <th></th>\n",
       "      <th></th>\n",
       "      <th></th>\n",
       "      <th></th>\n",
       "      <th></th>\n",
       "      <th></th>\n",
       "      <th></th>\n",
       "      <th></th>\n",
       "      <th></th>\n",
       "      <th></th>\n",
       "      <th></th>\n",
       "      <th></th>\n",
       "    </tr>\n",
       "  </thead>\n",
       "  <tbody>\n",
       "    <tr>\n",
       "      <th>id_000644bb2</th>\n",
       "      <td>0</td>\n",
       "      <td>-0.5</td>\n",
       "      <td>0</td>\n",
       "      <td>1.0620</td>\n",
       "      <td>0.5577</td>\n",
       "      <td>-0.2479</td>\n",
       "      <td>-0.6208</td>\n",
       "      <td>-0.1944</td>\n",
       "      <td>-1.0120</td>\n",
       "      <td>-1.0220</td>\n",
       "      <td>...</td>\n",
       "      <td>0.2862</td>\n",
       "      <td>0.2584</td>\n",
       "      <td>0.8076</td>\n",
       "      <td>0.5523</td>\n",
       "      <td>-0.1912</td>\n",
       "      <td>0.6584</td>\n",
       "      <td>-0.3981</td>\n",
       "      <td>0.2139</td>\n",
       "      <td>0.3801</td>\n",
       "      <td>0.4176</td>\n",
       "    </tr>\n",
       "    <tr>\n",
       "      <th>id_000779bfc</th>\n",
       "      <td>0</td>\n",
       "      <td>0.5</td>\n",
       "      <td>0</td>\n",
       "      <td>0.0743</td>\n",
       "      <td>0.4087</td>\n",
       "      <td>0.2991</td>\n",
       "      <td>0.0604</td>\n",
       "      <td>1.0190</td>\n",
       "      <td>0.5207</td>\n",
       "      <td>0.2341</td>\n",
       "      <td>...</td>\n",
       "      <td>-0.4265</td>\n",
       "      <td>0.7543</td>\n",
       "      <td>0.4708</td>\n",
       "      <td>0.0230</td>\n",
       "      <td>0.2957</td>\n",
       "      <td>0.4899</td>\n",
       "      <td>0.1522</td>\n",
       "      <td>0.1241</td>\n",
       "      <td>0.6077</td>\n",
       "      <td>0.7371</td>\n",
       "    </tr>\n",
       "    <tr>\n",
       "      <th>id_000a6266a</th>\n",
       "      <td>0</td>\n",
       "      <td>0.0</td>\n",
       "      <td>0</td>\n",
       "      <td>0.6280</td>\n",
       "      <td>0.5817</td>\n",
       "      <td>1.5540</td>\n",
       "      <td>-0.0764</td>\n",
       "      <td>-0.0323</td>\n",
       "      <td>1.2390</td>\n",
       "      <td>0.1715</td>\n",
       "      <td>...</td>\n",
       "      <td>-0.7250</td>\n",
       "      <td>-0.6297</td>\n",
       "      <td>0.6103</td>\n",
       "      <td>0.0223</td>\n",
       "      <td>-1.3240</td>\n",
       "      <td>-0.3174</td>\n",
       "      <td>-0.6417</td>\n",
       "      <td>-0.2187</td>\n",
       "      <td>-1.4080</td>\n",
       "      <td>0.6931</td>\n",
       "    </tr>\n",
       "    <tr>\n",
       "      <th>id_0015fd391</th>\n",
       "      <td>0</td>\n",
       "      <td>0.0</td>\n",
       "      <td>0</td>\n",
       "      <td>-0.5138</td>\n",
       "      <td>-0.2491</td>\n",
       "      <td>-0.2656</td>\n",
       "      <td>0.5288</td>\n",
       "      <td>4.0620</td>\n",
       "      <td>-0.8095</td>\n",
       "      <td>-1.9590</td>\n",
       "      <td>...</td>\n",
       "      <td>-2.0990</td>\n",
       "      <td>-0.6441</td>\n",
       "      <td>-5.6300</td>\n",
       "      <td>-1.3780</td>\n",
       "      <td>-0.8632</td>\n",
       "      <td>-1.2880</td>\n",
       "      <td>-1.6210</td>\n",
       "      <td>-0.8784</td>\n",
       "      <td>-0.3876</td>\n",
       "      <td>-0.8154</td>\n",
       "    </tr>\n",
       "    <tr>\n",
       "      <th>id_001626bd3</th>\n",
       "      <td>0</td>\n",
       "      <td>0.5</td>\n",
       "      <td>1</td>\n",
       "      <td>-0.3254</td>\n",
       "      <td>-0.4009</td>\n",
       "      <td>0.9700</td>\n",
       "      <td>0.6919</td>\n",
       "      <td>1.4180</td>\n",
       "      <td>-0.8244</td>\n",
       "      <td>-0.2800</td>\n",
       "      <td>...</td>\n",
       "      <td>0.0042</td>\n",
       "      <td>0.0048</td>\n",
       "      <td>0.6670</td>\n",
       "      <td>1.0690</td>\n",
       "      <td>0.5523</td>\n",
       "      <td>-0.3031</td>\n",
       "      <td>0.1094</td>\n",
       "      <td>0.2885</td>\n",
       "      <td>-0.3786</td>\n",
       "      <td>0.7125</td>\n",
       "    </tr>\n",
       "  </tbody>\n",
       "</table>\n",
       "<p>5 rows × 875 columns</p>\n",
       "</div>"
      ],
      "text/plain": [
       "              cp_type  cp_time  cp_dose     g-0     g-1     g-2     g-3  \\\n",
       "sig_id                                                                    \n",
       "id_000644bb2        0     -0.5        0  1.0620  0.5577 -0.2479 -0.6208   \n",
       "id_000779bfc        0      0.5        0  0.0743  0.4087  0.2991  0.0604   \n",
       "id_000a6266a        0      0.0        0  0.6280  0.5817  1.5540 -0.0764   \n",
       "id_0015fd391        0      0.0        0 -0.5138 -0.2491 -0.2656  0.5288   \n",
       "id_001626bd3        0      0.5        1 -0.3254 -0.4009  0.9700  0.6919   \n",
       "\n",
       "                 g-4     g-5     g-6  ...    c-90    c-91    c-92    c-93  \\\n",
       "sig_id                                ...                                   \n",
       "id_000644bb2 -0.1944 -1.0120 -1.0220  ...  0.2862  0.2584  0.8076  0.5523   \n",
       "id_000779bfc  1.0190  0.5207  0.2341  ... -0.4265  0.7543  0.4708  0.0230   \n",
       "id_000a6266a -0.0323  1.2390  0.1715  ... -0.7250 -0.6297  0.6103  0.0223   \n",
       "id_0015fd391  4.0620 -0.8095 -1.9590  ... -2.0990 -0.6441 -5.6300 -1.3780   \n",
       "id_001626bd3  1.4180 -0.8244 -0.2800  ...  0.0042  0.0048  0.6670  1.0690   \n",
       "\n",
       "                c-94    c-95    c-96    c-97    c-98    c-99  \n",
       "sig_id                                                        \n",
       "id_000644bb2 -0.1912  0.6584 -0.3981  0.2139  0.3801  0.4176  \n",
       "id_000779bfc  0.2957  0.4899  0.1522  0.1241  0.6077  0.7371  \n",
       "id_000a6266a -1.3240 -0.3174 -0.6417 -0.2187 -1.4080  0.6931  \n",
       "id_0015fd391 -0.8632 -1.2880 -1.6210 -0.8784 -0.3876 -0.8154  \n",
       "id_001626bd3  0.5523 -0.3031  0.1094  0.2885 -0.3786  0.7125  \n",
       "\n",
       "[5 rows x 875 columns]"
      ]
     },
     "execution_count": 12,
     "metadata": {},
     "output_type": "execute_result"
    }
   ],
   "source": [
    "tf_df['cp_type']=tf_df['cp_type']-1\n",
    "tf_df['cp_dose']=tf_df['cp_dose']-1\n",
    "tf_df.head()"
   ]
  },
  {
   "cell_type": "markdown",
   "metadata": {},
   "source": [
    "1. Plot PCA explained variance for `g-` and `c-` features."
   ]
  },
  {
   "cell_type": "code",
   "execution_count": 13,
   "metadata": {},
   "outputs": [
    {
     "data": {
      "image/png": "[encoded data removed]",
      "text/plain": [
       "<Figure size 432x288 with 1 Axes>"
      ]
     },
     "metadata": {},
     "output_type": "display_data"
    }
   ],
   "source": [
    "pca_g = PCA()\n",
    "g_pca_df = pd.DataFrame(pca_g.fit_transform(tf_df.loc[:,'g-0':'g-771']),index=tf_df.index)\n",
    "g_var_explain = np.cumsum(pca_g.explained_variance_ratio_)\n",
    "plt.plot(g_var_explain)\n",
    "plt.show()"
   ]
  },
  {
   "cell_type": "code",
   "execution_count": 14,
   "metadata": {},
   "outputs": [
    {
     "data": {
      "image/png": "[encoded data removed]",
      "text/plain": [
       "<Figure size 432x288 with 1 Axes>"
      ]
     },
     "metadata": {},
     "output_type": "display_data"
    }
   ],
   "source": [
    "pca_c = PCA()\n",
    "c_pca_df = pd.DataFrame(pca_c.fit_transform(tf_df.loc[:,'c-0':'c-99']),index=tf_df.index)\n",
    "c_var_explain = np.cumsum(pca_c.explained_variance_ratio_)\n",
    "plt.plot(c_var_explain)\n",
    "plt.show()"
   ]
  },
  {
   "cell_type": "markdown",
   "metadata": {},
   "source": [
    "1. Pick a number of PCA dimension to pass as NN inputs:"
   ]
  },
  {
   "cell_type": "code",
   "execution_count": 15,
   "metadata": {},
   "outputs": [
    {
     "data": {
      "text/plain": [
       "array([0.29734508, 0.34410798, 0.3745819 , 0.40162744, 0.42326748,\n",
       "       0.44320877, 0.46072195, 0.47737419, 0.48957602, 0.50039008,\n",
       "       0.51033589, 0.51953365, 0.52730413, 0.53490378, 0.54224014,\n",
       "       0.54930426, 0.5556887 , 0.56180496, 0.56751932, 0.57271804,\n",
       "       0.57760574, 0.58201959, 0.58627179, 0.59023977, 0.59400926,\n",
       "       0.59756794])"
      ]
     },
     "execution_count": 15,
     "metadata": {},
     "output_type": "execute_result"
    }
   ],
   "source": [
    "g_var_explain[g_var_explain<0.6]"
   ]
  },
  {
   "cell_type": "code",
   "execution_count": 16,
   "metadata": {},
   "outputs": [
    {
     "data": {
      "text/plain": [
       "array([0.84853809, 0.85991709])"
      ]
     },
     "execution_count": 16,
     "metadata": {},
     "output_type": "execute_result"
    }
   ],
   "source": [
    "c_var_explain[c_var_explain<0.86]"
   ]
  },
  {
   "cell_type": "markdown",
   "metadata": {},
   "source": [
    "Ok, THAT'S interesting. Straight-no-chaser, as-provided `c-` variation is concentrated in that first PCA dimension, which I'm strongly suspecting is basically \"SCREECH KILL KILL\" (or if I'm being less cryptic, the primary effect of drugs on the cell viability, if there is any, is broad spectrum toxicity). Let's check the components; I did that once..."
   ]
  },
  {
   "cell_type": "code",
   "execution_count": 17,
   "metadata": {},
   "outputs": [
    {
     "data": {
      "text/plain": [
       "array([-0.08971376, -0.10644446, -0.11072059, -0.07823494, -0.11310322,\n",
       "       -0.10078192, -0.11997049, -0.0726784 , -0.10468699, -0.08259113,\n",
       "       -0.11140378, -0.11101845, -0.11329532, -0.1179659 , -0.08060507,\n",
       "       -0.1056513 , -0.07695712, -0.11049436, -0.12126021, -0.08234373,\n",
       "       -0.1041336 , -0.10733322, -0.0788044 , -0.07823044, -0.10512867,\n",
       "       -0.09914511, -0.12150564, -0.10145941, -0.09999348, -0.07524781,\n",
       "       -0.08984445, -0.10738283, -0.09064616, -0.11790382, -0.10448263,\n",
       "       -0.09047495, -0.1037094 , -0.06094476, -0.12372822, -0.09656622,\n",
       "       -0.10769672, -0.10616105, -0.11130871, -0.10373436, -0.10298574,\n",
       "       -0.11192068, -0.09156892, -0.09876522, -0.10558409, -0.08858353,\n",
       "       -0.09176933, -0.10584508, -0.10875898, -0.09057859, -0.09879073,\n",
       "       -0.11409073, -0.07302758, -0.1012047 , -0.05850324, -0.11428751,\n",
       "       -0.11385208, -0.08748818, -0.10217313, -0.1230526 , -0.09170258,\n",
       "       -0.11661172, -0.10732093, -0.10915382, -0.09788615, -0.07350698,\n",
       "       -0.11432371, -0.08959616, -0.10251855, -0.10888086, -0.04602732,\n",
       "       -0.10743903, -0.07173032, -0.09936253, -0.0984329 , -0.09428836,\n",
       "       -0.10596627, -0.11107878, -0.11035086, -0.10613264, -0.10669469,\n",
       "       -0.10118086, -0.08342498, -0.07995175, -0.08483031, -0.09364655,\n",
       "       -0.10740848, -0.10802158, -0.10505849, -0.11164558, -0.11713314,\n",
       "       -0.08184308, -0.11070541, -0.0895781 , -0.09278026, -0.06903268])"
      ]
     },
     "execution_count": 17,
     "metadata": {},
     "output_type": "execute_result"
    }
   ],
   "source": [
    "pca_c.components_[0,:]"
   ]
  },
  {
   "cell_type": "markdown",
   "metadata": {},
   "source": [
    "SCREECH KILL KILL (I believe that was Shining Force I, by the way)"
   ]
  },
  {
   "cell_type": "code",
   "execution_count": 18,
   "metadata": {},
   "outputs": [
    {
     "data": {
      "text/plain": [
       "array([ 0.1101463 , -0.06771955, -0.03404396, -0.00180231, -0.07534766,\n",
       "       -0.06441954, -0.07374153,  0.11120286, -0.01567694, -0.07525599,\n",
       "        0.01619381, -0.05184685,  0.02176484, -0.02443001,  0.10515687,\n",
       "        0.03016075,  0.21255264,  0.12691543, -0.2747343 ,  0.06549926,\n",
       "        0.16814088, -0.048238  , -0.24909016,  0.02744452, -0.03689499,\n",
       "       -0.04011473, -0.15472372,  0.13227548, -0.06714169,  0.13011023,\n",
       "        0.08051755,  0.06047939,  0.17896899,  0.02799002, -0.01910719,\n",
       "        0.13953236, -0.11916257,  0.06113058, -0.13932054,  0.10348494,\n",
       "       -0.06301378, -0.03557659, -0.02379655, -0.05974368,  0.13835461,\n",
       "        0.06887495, -0.02225931, -0.03415981, -0.23159697, -0.12171719,\n",
       "       -0.14988872,  0.01280294, -0.04208199,  0.17699338, -0.00565648,\n",
       "       -0.07420319,  0.08754961, -0.1032785 ,  0.0428991 ,  0.04517922,\n",
       "        0.03143235,  0.16497721, -0.01536609, -0.15141172, -0.05098021,\n",
       "       -0.04689361, -0.0317495 , -0.10117603,  0.13451299,  0.06975161,\n",
       "        0.02520745,  0.10360159,  0.06605797,  0.04563457,  0.0197545 ,\n",
       "        0.0159959 , -0.07195525, -0.0188059 ,  0.15279271, -0.12709471,\n",
       "        0.07429636, -0.17972128, -0.03401785,  0.09606078, -0.12968566,\n",
       "        0.10233535, -0.00072015,  0.12863126,  0.08823769,  0.18479878,\n",
       "        0.02570439,  0.08435668, -0.14721386,  0.10874951, -0.02714538,\n",
       "       -0.00468422,  0.01612197, -0.00819261, -0.03314893,  0.05745394])"
      ]
     },
     "execution_count": 18,
     "metadata": {},
     "output_type": "execute_result"
    }
   ],
   "source": [
    "pca_c.components_[1,:]"
   ]
  },
  {
   "cell_type": "markdown",
   "metadata": {},
   "source": [
    "Note that the coefficients are now not all negative; this component picks winner cell types and loser cell types."
   ]
  },
  {
   "cell_type": "markdown",
   "metadata": {},
   "source": [
    "2. Visualize 2D PCA of this dataset."
   ]
  },
  {
   "cell_type": "code",
   "execution_count": 19,
   "metadata": {},
   "outputs": [
    {
     "data": {
      "text/plain": [
       "<AxesSubplot:xlabel='0', ylabel='0'>"
      ]
     },
     "execution_count": 19,
     "metadata": {},
     "output_type": "execute_result"
    },
    {
     "data": {
      "image/png": "[encoded data removed]",
      "text/plain": [
       "<Figure size 432x288 with 1 Axes>"
      ]
     },
     "metadata": {},
     "output_type": "display_data"
    }
   ],
   "source": [
    "sns.scatterplot(x=g_pca_df[0],y=c_pca_df[0],alpha=0.1)"
   ]
  },
  {
   "cell_type": "markdown",
   "metadata": {},
   "source": [
    "This breakdown doesn't look as friendly for clustering until I turn alpha down. Meanwhile, why do the first genetic activation component and the SCREECH KILL KILL component covary so strongly?"
   ]
  },
  {
   "cell_type": "code",
   "execution_count": 20,
   "metadata": {},
   "outputs": [
    {
     "data": {
      "text/plain": [
       "array([ 5.53246127e-02, -1.58525631e-04,  1.05175076e-02,  7.15220862e-03,\n",
       "        2.30255984e-02, -1.17511714e-02,  6.25641099e-03, -3.92960995e-02,\n",
       "       -6.41859684e-02, -3.08449114e-02, -5.04009907e-02,  2.12190636e-02,\n",
       "       -2.31165221e-02,  4.18796917e-02, -3.29443674e-02, -3.36047759e-03,\n",
       "       -4.73824237e-02, -3.58621456e-02,  4.38583492e-03, -1.60226674e-03,\n",
       "       -3.29427921e-02, -6.46195994e-03,  1.72477018e-04, -8.75743732e-03,\n",
       "       -3.38128983e-02, -1.40356687e-02, -3.54874353e-02,  8.37797509e-03,\n",
       "       -3.42583031e-02, -2.78724799e-02, -5.39863771e-02,  6.37238017e-02,\n",
       "       -1.85259882e-02,  9.61765028e-04, -9.34873276e-03,  1.79990478e-02,\n",
       "       -2.81570516e-02, -1.02034313e-01,  9.32322594e-02,  3.45450114e-02,\n",
       "       -4.03076474e-02, -4.12312078e-02, -1.39338630e-02, -4.17086512e-03,\n",
       "       -2.81784660e-04, -1.37378255e-02,  4.12157765e-02,  2.81731328e-03,\n",
       "        2.50406539e-02,  2.26993564e-02, -1.03553851e-01,  2.43090148e-02,\n",
       "       -2.23072603e-02,  2.42169578e-02,  2.61778427e-02, -4.21503976e-02,\n",
       "       -8.81943218e-03, -8.62397179e-03, -7.28369721e-02, -3.15302967e-02,\n",
       "        8.16279014e-03, -3.65512998e-02, -7.14861796e-02, -8.12248774e-02,\n",
       "       -2.07903914e-02,  4.20591621e-02,  2.06119205e-02, -8.69795245e-02,\n",
       "        4.49373729e-02,  1.89564973e-02, -3.61300759e-02, -2.20795198e-03,\n",
       "       -9.06680477e-02,  7.44322213e-03,  5.02700571e-02, -9.91790321e-02,\n",
       "        6.95530081e-03,  7.84291981e-04,  1.06088727e-02, -3.00843437e-02,\n",
       "       -3.02086912e-02, -9.33730304e-03,  1.44062994e-02,  5.09623192e-02,\n",
       "        1.82846867e-02,  3.21432484e-02,  6.20248103e-02, -1.16504731e-02,\n",
       "        1.76992945e-02, -1.41116796e-02,  4.39876280e-02,  8.11070087e-02,\n",
       "        3.33274092e-02,  8.50320476e-03, -2.58769312e-03,  5.37469851e-02,\n",
       "       -6.41417088e-02,  4.77740570e-02, -5.52384520e-02, -7.68857366e-03,\n",
       "        8.88778015e-02,  2.24896541e-03,  6.29751926e-02,  2.54207913e-02,\n",
       "        5.78938776e-03,  2.86147463e-02,  5.99047908e-02, -2.81149146e-02,\n",
       "       -9.96193243e-03, -2.51091868e-02, -1.46444538e-02,  2.97498121e-02,\n",
       "       -3.44827725e-02, -7.55197500e-02, -2.94701021e-02,  3.50200122e-03,\n",
       "        2.26987665e-02, -1.28124873e-02,  2.14282514e-02, -1.41335108e-02,\n",
       "        1.59208059e-03, -7.42999211e-02, -1.77360741e-03,  8.51627432e-02,\n",
       "        9.86830415e-03, -1.75667228e-02,  5.63470022e-02, -4.30454421e-03,\n",
       "       -6.58844416e-02,  1.87517191e-03, -5.36321096e-03,  9.77188809e-02,\n",
       "        4.41601280e-02, -2.45595201e-02, -3.63809254e-02,  3.26753851e-02,\n",
       "        6.64682135e-04, -2.78727236e-02, -4.12829543e-02,  4.38440017e-02,\n",
       "        4.28421297e-02, -2.02081228e-02,  5.51476947e-02, -1.37668346e-02,\n",
       "        6.03328932e-02,  4.23357460e-02,  4.72315768e-02,  7.44550600e-02,\n",
       "        4.45543430e-02,  4.76284456e-03, -1.45643480e-02, -8.34385547e-04,\n",
       "       -6.34443857e-02, -1.09867879e-02, -1.39521935e-02,  5.32253930e-02,\n",
       "       -1.93943172e-02,  1.05468892e-02,  7.04877657e-02,  1.34939984e-03,\n",
       "       -6.63484172e-02, -5.97751823e-03,  2.77476347e-02,  6.49895054e-02,\n",
       "        4.43928560e-02, -2.31778545e-02, -8.47911899e-03,  8.79834097e-03,\n",
       "        3.54395992e-02, -8.36720491e-03,  5.50889864e-02,  1.72839224e-02,\n",
       "       -2.60287108e-02,  2.20250626e-03,  3.33377126e-02, -3.06144766e-02,\n",
       "        1.89613257e-02,  4.03522162e-02, -3.08893249e-02, -1.04413804e-02,\n",
       "        2.18046526e-02,  5.43507688e-02,  1.93577646e-02, -5.86534048e-02,\n",
       "       -1.02920282e-02, -7.80984518e-02, -5.76895972e-02,  6.81908561e-03,\n",
       "        9.94696792e-04, -5.69154981e-02, -1.80820902e-02,  3.21864519e-02,\n",
       "        2.76514087e-02, -6.80840774e-06, -3.93243781e-02, -8.14004527e-02,\n",
       "       -4.07569447e-02,  4.47289523e-02,  3.24799738e-02, -3.34102196e-02,\n",
       "       -2.02694879e-02,  7.27758664e-02, -1.13916993e-02, -2.75823851e-02,\n",
       "        8.74231529e-03,  9.44002360e-03, -5.12328096e-02,  1.76009341e-02,\n",
       "        7.51174329e-02, -3.82542580e-03,  3.66475174e-02, -5.97135197e-03,\n",
       "       -3.22277507e-03,  4.39584432e-02, -3.39278367e-02,  6.24172290e-02,\n",
       "        1.33244317e-03, -1.20089753e-03, -3.46299219e-02,  4.66035741e-03,\n",
       "        4.54459934e-02,  1.32449185e-02,  1.27343676e-02, -2.43208316e-02,\n",
       "       -1.66019137e-02,  4.80179962e-03,  5.50425846e-02,  1.01899189e-02,\n",
       "       -1.05213396e-01,  5.31984464e-02,  2.06830635e-02, -3.52868065e-02,\n",
       "        3.43711399e-02,  1.69212895e-02, -1.27187794e-02,  3.65291144e-02,\n",
       "        2.21095571e-02, -1.62494201e-02, -3.69402044e-02, -9.47267890e-03,\n",
       "       -4.89209042e-03, -4.16344262e-02,  3.40012814e-02,  6.73763756e-02,\n",
       "        3.45311367e-02,  4.58622685e-02, -8.30135278e-03, -1.19332183e-03,\n",
       "        8.28237204e-02,  3.14932186e-02, -5.77150224e-02,  5.08704115e-02,\n",
       "        3.42761148e-02, -2.24213988e-02,  2.47529119e-02,  3.16728493e-02,\n",
       "        1.23624305e-02, -7.39401447e-02,  1.68108026e-02,  5.47453448e-02,\n",
       "        1.16426580e-02,  7.47873721e-02, -8.70958648e-03,  2.77466124e-03,\n",
       "        2.85698646e-02, -1.89798304e-02,  5.47286612e-02, -8.65883877e-03,\n",
       "        1.55798707e-02,  1.30679791e-03,  5.98271694e-02, -4.79328870e-02,\n",
       "       -4.61387116e-02, -9.92282897e-03,  7.30443445e-03, -2.36570304e-02,\n",
       "       -1.79463109e-02, -1.94948831e-02,  2.54562645e-02,  1.31069663e-02,\n",
       "       -1.60858172e-02, -1.67634894e-02, -3.16968839e-02,  7.22949137e-03,\n",
       "        7.69589566e-03, -2.79144575e-02,  1.95905793e-03, -2.53562284e-02,\n",
       "       -2.49038125e-02,  4.35751570e-02, -2.41470156e-02, -5.38142357e-02,\n",
       "       -2.76780219e-03, -2.40276895e-02, -5.14501975e-02,  2.04001464e-02,\n",
       "       -7.55304272e-03, -3.70587099e-02, -5.71572617e-02,  2.98394163e-03,\n",
       "        4.54974457e-02, -3.60413810e-02,  2.06000186e-02, -1.08388079e-02,\n",
       "       -4.31253146e-02,  6.74595539e-04, -4.72456087e-02, -1.07891896e-02,\n",
       "        4.30283696e-02, -2.98289411e-02,  3.82467773e-02,  3.58340373e-02,\n",
       "        4.69744954e-04, -1.43541773e-02, -4.59524276e-02, -3.59145049e-02,\n",
       "       -4.48265845e-02,  4.58688164e-02, -1.29786476e-02, -1.42027995e-02,\n",
       "        5.37530628e-02, -3.05185294e-02, -3.83178546e-02,  1.56517656e-02,\n",
       "        4.26042272e-03, -3.21849705e-03,  1.83707193e-02, -4.94260251e-02,\n",
       "        8.92886888e-02, -3.01620757e-02, -6.49243630e-03,  1.52046184e-02,\n",
       "       -6.39898219e-02,  2.73062991e-02,  6.12258477e-02,  4.11919971e-02,\n",
       "        2.53092926e-02,  3.10400254e-02, -9.35160664e-03, -3.75815466e-02,\n",
       "        5.58281842e-03,  1.60735209e-02, -2.62706297e-02,  4.09363350e-03,\n",
       "        4.43689133e-02,  1.69786903e-02,  1.67654687e-02, -1.05701422e-02,\n",
       "        1.82924359e-02,  8.47913591e-02,  2.79338373e-02, -3.53355785e-02,\n",
       "        7.98659454e-03, -6.18591130e-02,  2.70957047e-02,  2.96746019e-02,\n",
       "        2.48346913e-02, -3.72601568e-02,  6.34095688e-04,  4.77338154e-02,\n",
       "       -4.34884798e-02,  1.37127056e-02,  5.47655889e-03, -1.14766638e-03,\n",
       "       -4.79168526e-02,  5.20871752e-02,  3.37046640e-02,  5.26663746e-02,\n",
       "        6.78742879e-02, -7.89311475e-02, -1.61900032e-02, -1.86720677e-02,\n",
       "       -1.24374536e-03, -2.04535829e-02,  6.97284897e-02, -4.62974263e-02,\n",
       "        4.84815527e-03,  3.19929035e-02, -7.28000938e-03, -5.87405704e-02,\n",
       "       -8.27111916e-03, -1.64784665e-02,  6.74617124e-03, -1.03235531e-02,\n",
       "       -7.98593263e-03, -6.47919935e-02,  7.68592104e-02,  2.12978255e-02,\n",
       "       -2.44050151e-02,  1.32871409e-02, -3.86629239e-02, -1.56404250e-02,\n",
       "        6.17542408e-02,  4.24631038e-02,  2.05405474e-03, -1.41840271e-02,\n",
       "       -6.71696239e-03, -2.61261855e-03,  2.31016987e-02, -4.75685186e-04,\n",
       "       -3.28335768e-02, -6.94653709e-03,  4.92084556e-02,  2.26839116e-02,\n",
       "       -5.05525124e-03, -2.22444154e-02, -8.90597268e-02, -4.38312772e-02,\n",
       "        1.19348475e-02,  4.88964510e-02, -5.46501271e-02, -7.79466416e-02,\n",
       "        5.25168187e-03,  4.00008632e-03, -4.00781358e-02, -3.26036776e-03,\n",
       "        1.16541709e-02,  9.14565440e-02,  4.75857134e-02, -2.05354804e-02,\n",
       "       -5.72448622e-03, -3.80049989e-02, -7.43666054e-03, -5.84944264e-02,\n",
       "        5.39061192e-02,  2.10482041e-02,  3.04725388e-02,  5.53350484e-02,\n",
       "       -1.78675831e-02, -3.20198972e-02,  2.77409487e-03,  1.63854657e-02,\n",
       "       -2.40365312e-02, -4.77857544e-02, -4.88950904e-02,  2.76071121e-03,\n",
       "        1.75763334e-02,  2.60389496e-02, -2.91333157e-02, -5.84583163e-02,\n",
       "       -2.76746334e-02, -1.41691586e-02,  5.81869189e-03,  6.71924824e-02,\n",
       "       -2.30313871e-02, -1.33716659e-02, -1.79930461e-02,  1.07796506e-02,\n",
       "       -3.30348973e-03, -3.95673373e-02, -1.50561610e-02, -1.16489914e-02,\n",
       "        4.60197906e-03, -1.76542117e-02,  7.23780450e-03,  2.37368770e-02,\n",
       "        7.89064253e-03, -6.44250178e-03,  3.22011387e-02, -2.83260854e-02,\n",
       "        8.42105878e-02,  2.22164278e-02,  6.09147883e-03, -5.70514082e-03,\n",
       "       -5.04696099e-02,  5.41056694e-04, -1.03508864e-02,  4.84310539e-02,\n",
       "        5.15466886e-02,  1.41163976e-02, -2.61109263e-02,  1.24868987e-02,\n",
       "        2.14991362e-03, -2.40030588e-02, -1.49847675e-02,  2.17495099e-02,\n",
       "       -2.16949047e-03, -5.02469202e-02,  5.65059091e-02, -2.24245670e-02,\n",
       "        3.37550674e-02,  8.84964982e-03, -1.69870040e-02,  8.70000750e-03,\n",
       "        3.88062216e-02, -1.40048793e-02, -6.24352788e-02,  3.92490040e-02,\n",
       "        4.14018254e-02, -8.38827731e-02, -1.12889667e-02,  2.84132547e-02,\n",
       "        2.43276312e-02, -1.19587708e-03,  4.19609232e-02, -7.43880815e-03,\n",
       "        2.94996439e-02, -1.45857240e-02, -3.19862733e-02, -1.85999210e-02,\n",
       "        5.84613674e-02,  1.56999782e-02,  2.95613878e-02, -6.62195597e-02,\n",
       "        3.56608930e-02,  6.24190182e-03,  5.18136628e-02,  5.42485324e-03,\n",
       "       -7.80374281e-02, -3.49260276e-02, -6.68929865e-03,  7.15237299e-03,\n",
       "        6.55832061e-02,  2.50263203e-03,  1.07885311e-02, -2.55893859e-03,\n",
       "       -2.75652017e-03,  2.80179705e-02,  9.91675008e-03,  2.99289790e-02,\n",
       "       -2.01029483e-02, -6.96737575e-03, -5.28082568e-02, -1.97859627e-02,\n",
       "       -7.90055476e-03, -8.70365562e-03,  1.05604236e-02,  1.71076713e-02,\n",
       "        7.48370535e-03,  5.46700167e-02, -2.12297963e-02,  4.60356359e-02,\n",
       "       -3.77169704e-03, -3.47691990e-02, -6.43056051e-02,  2.11223885e-02,\n",
       "       -4.39715927e-03,  4.06849572e-02,  1.37764446e-02,  3.40825237e-02,\n",
       "       -2.99357056e-02,  5.11618194e-02, -1.03125627e-02, -1.72827217e-02,\n",
       "        1.88219215e-03, -2.29253790e-02,  5.63050197e-02,  1.94660754e-02,\n",
       "       -2.13762542e-02,  9.71746977e-03, -8.00828340e-03,  2.70333939e-02,\n",
       "       -4.96272284e-03, -4.31251802e-02, -1.79811350e-02,  1.19587552e-02,\n",
       "       -1.80138799e-02,  1.53676765e-03,  1.32510188e-02, -3.64647520e-02,\n",
       "       -8.21577414e-03, -5.87198783e-02, -3.12499732e-02, -2.88671758e-02,\n",
       "        1.83344448e-02, -5.44204817e-02, -7.08260277e-03, -7.46857353e-03,\n",
       "       -6.04583724e-02, -7.27887717e-02,  9.48931948e-03, -1.65438231e-02,\n",
       "       -9.42646444e-04,  3.59609955e-03, -4.00228581e-02,  1.02293362e-02,\n",
       "        3.02419986e-02, -1.50012842e-02,  5.24788308e-02,  4.83975388e-03,\n",
       "        2.65720689e-02, -8.50000598e-03,  2.41503003e-02, -1.12470392e-02,\n",
       "       -8.02599152e-03, -1.70267971e-02, -2.65318683e-02, -1.80737795e-02,\n",
       "       -3.66654086e-02,  3.77699375e-03, -3.49130618e-02,  2.21242274e-02,\n",
       "       -1.58256341e-02,  2.67442663e-02,  2.90066989e-02, -2.15120960e-02,\n",
       "        3.55787316e-02, -4.83199855e-02, -1.90602512e-02,  2.88662013e-02,\n",
       "        3.80449251e-02, -2.05406081e-02, -2.42376115e-02,  3.56545505e-02,\n",
       "        4.53714446e-03, -7.75078451e-03,  8.07420576e-03,  3.70880604e-02,\n",
       "       -1.03655674e-02,  6.10923657e-03, -1.58054015e-02,  9.12554090e-03,\n",
       "       -1.03398582e-02, -1.55484009e-02, -1.81570008e-02, -3.52733627e-02,\n",
       "        1.25657802e-02,  1.91150677e-02, -3.34575228e-02,  1.66509953e-02,\n",
       "        4.84108284e-02, -1.67125590e-02,  9.06608180e-03,  1.76348872e-02,\n",
       "       -3.91490142e-02,  5.65900076e-02, -2.61954330e-02, -1.16839783e-02,\n",
       "        2.67180611e-02,  7.20232039e-02, -1.93709403e-02, -1.03843890e-02,\n",
       "       -6.61927363e-02,  5.33622002e-03,  2.65498137e-02,  4.09794810e-02,\n",
       "        2.69789568e-02, -1.16097112e-02, -3.34676011e-02, -3.35723665e-02,\n",
       "        1.58860739e-03, -3.38506095e-02,  1.22024412e-02, -4.30005826e-02,\n",
       "       -5.90410820e-02,  4.22134881e-02,  4.38003913e-02,  4.24880786e-02,\n",
       "        3.51263562e-02,  7.40466959e-03,  2.17479327e-02, -9.54511049e-03,\n",
       "       -2.75416551e-02, -2.41170333e-02, -1.38974188e-02,  9.65477335e-03,\n",
       "        1.09855073e-02, -1.52334942e-02,  6.23636771e-03, -1.42581672e-02,\n",
       "        1.41582342e-03, -3.19083670e-02,  3.16273851e-02,  3.86143328e-02,\n",
       "       -4.82636304e-02, -3.41752765e-02,  1.54256919e-02, -1.83284671e-02,\n",
       "       -2.67453317e-02, -5.89213728e-02, -2.71159784e-02,  4.32972320e-02,\n",
       "       -9.37488564e-02, -4.89543858e-02, -6.47123042e-02, -7.86746994e-03,\n",
       "        7.61212146e-03, -4.09170133e-02, -4.21306208e-02,  1.73240920e-02,\n",
       "       -3.19797494e-02,  2.42766913e-02, -1.69524686e-02,  4.46642945e-02,\n",
       "       -2.04455740e-02, -1.36654017e-02,  2.07504770e-02,  9.68489740e-03,\n",
       "        1.11278645e-02,  5.08670804e-02,  1.93029632e-02, -5.82208182e-02,\n",
       "        8.71239216e-03,  3.16288887e-02, -3.05784097e-03,  3.82280475e-02,\n",
       "       -1.74135790e-02,  2.60025456e-02,  2.25345773e-02, -1.39534630e-02,\n",
       "       -1.18685701e-02, -2.87157171e-02, -3.26497053e-02, -4.60777534e-02,\n",
       "       -6.35770598e-02, -6.28102054e-02, -2.91869174e-02,  3.59584053e-04,\n",
       "        4.03899783e-02, -1.80423230e-02,  2.25577050e-02,  4.11899736e-02,\n",
       "        7.73571083e-02,  3.09350814e-03, -2.74719123e-02, -5.46959748e-03,\n",
       "       -9.11636422e-03, -2.42147626e-02, -3.41870231e-03, -5.66088809e-03,\n",
       "        4.12606814e-02,  4.95732954e-02,  1.18031366e-03,  8.16863920e-02,\n",
       "        4.99721762e-02,  2.38983702e-02, -4.81157463e-02, -1.21879477e-02,\n",
       "        4.67345093e-02,  2.33997369e-02, -6.55686152e-03,  9.24836875e-02,\n",
       "        2.79270087e-02, -5.12518810e-02,  1.01396927e-02,  1.69241919e-03,\n",
       "       -1.66981275e-02, -6.30166477e-03, -2.58365935e-02, -2.55479440e-02,\n",
       "       -5.43283534e-04, -8.79940638e-03, -3.40940443e-02, -4.47938326e-02,\n",
       "        9.88556639e-02,  4.93153294e-02,  3.02817542e-02,  3.15818313e-03,\n",
       "        2.35496485e-02, -1.93050983e-02,  4.92337513e-02,  1.96051587e-03,\n",
       "        2.88266622e-02, -5.83720510e-04,  1.61419613e-02, -1.58274963e-02,\n",
       "       -7.24243346e-03,  1.09233513e-02,  1.60375865e-02, -7.96669058e-03,\n",
       "       -9.08442499e-02, -6.46489989e-02,  6.71236682e-03, -6.51058968e-03,\n",
       "        5.34136787e-02,  2.86895561e-02, -3.11065697e-02, -1.96031375e-03,\n",
       "        2.66464388e-02, -6.74825241e-03, -4.97473867e-02,  4.70608900e-02])"
      ]
     },
     "execution_count": 20,
     "metadata": {},
     "output_type": "execute_result"
    }
   ],
   "source": [
    "pca_g.components_[0,:]"
   ]
  },
  {
   "cell_type": "markdown",
   "metadata": {},
   "source": [
    "Nothing obvious. I wondered if it was a global TURN DEM GENES OFF signal, but no, certainly not."
   ]
  },
  {
   "cell_type": "code",
   "execution_count": 21,
   "metadata": {},
   "outputs": [
    {
     "data": {
      "text/plain": [
       "<AxesSubplot:xlabel='0', ylabel='1'>"
      ]
     },
     "execution_count": 21,
     "metadata": {},
     "output_type": "execute_result"
    },
    {
     "data": {
      "image/png": "[encoded data removed]",
      "text/plain": [
       "<Figure size 432x288 with 1 Axes>"
      ]
     },
     "metadata": {},
     "output_type": "display_data"
    }
   ],
   "source": [
    "sns.scatterplot(x=g_pca_df[0],y=g_pca_df[1],alpha=0.1)"
   ]
  },
  {
   "cell_type": "code",
   "execution_count": 22,
   "metadata": {},
   "outputs": [
    {
     "data": {
      "text/plain": [
       "<AxesSubplot:xlabel='0', ylabel='1'>"
      ]
     },
     "execution_count": 22,
     "metadata": {},
     "output_type": "execute_result"
    },
    {
     "data": {
      "image/png": "[encoded data removed]",
      "text/plain": [
       "<Figure size 432x288 with 1 Axes>"
      ]
     },
     "metadata": {},
     "output_type": "display_data"
    }
   ],
   "source": [
    "sns.scatterplot(x=c_pca_df[0],y=c_pca_df[1],alpha=0.1)"
   ]
  },
  {
   "cell_type": "code",
   "execution_count": 23,
   "metadata": {},
   "outputs": [
    {
     "data": {
      "text/plain": [
       "<AxesSubplot:xlabel='0', ylabel='2'>"
      ]
     },
     "execution_count": 23,
     "metadata": {},
     "output_type": "execute_result"
    },
    {
     "data": {
      "image/png": "[encoded data removed]",
      "text/plain": [
       "<Figure size 432x288 with 1 Axes>"
      ]
     },
     "metadata": {},
     "output_type": "display_data"
    }
   ],
   "source": [
    "sns.scatterplot(x=g_pca_df[0],y=g_pca_df[2],alpha=0.1)"
   ]
  },
  {
   "cell_type": "code",
   "execution_count": 24,
   "metadata": {},
   "outputs": [
    {
     "data": {
      "text/plain": [
       "<AxesSubplot:xlabel='0', ylabel='2'>"
      ]
     },
     "execution_count": 24,
     "metadata": {},
     "output_type": "execute_result"
    },
    {
     "data": {
      "image/png": "[encoded data removed]",
      "text/plain": [
       "<Figure size 432x288 with 1 Axes>"
      ]
     },
     "metadata": {},
     "output_type": "display_data"
    }
   ],
   "source": [
    "sns.scatterplot(x=c_pca_df[0],y=c_pca_df[2],alpha=0.1)"
   ]
  },
  {
   "cell_type": "markdown",
   "metadata": {},
   "source": [
    "In the original clustering notebook I checked the total range of the first several PCA columns and then shrank them to be proportional to the amount of variation those dimensions explained. I didn't have any theoretical justification for this; it just sounded reasonable.\n",
    "\n",
    "Here I will at least look at the six dimensions I have chosen and what their ranges are. I may simply go ahead and cluster after stretching them to have consistent ranges, or I may squint at the pairplot and decide which ones to stretch relative to others.\n",
    "\n",
    "I'm going to put the `c` dimensions in front because I suspect they will cluster better."
   ]
  },
  {
   "cell_type": "code",
   "execution_count": 25,
   "metadata": {},
   "outputs": [
    {
     "data": {
      "text/plain": [
       "c0    126.274358\n",
       "c1     26.116123\n",
       "c2     24.195421\n",
       "g0    126.771720\n",
       "g1    105.892402\n",
       "g2     82.084268\n",
       "dtype: float64"
      ]
     },
     "execution_count": 25,
     "metadata": {},
     "output_type": "execute_result"
    }
   ],
   "source": [
    "top_six_df = pd.concat([c_pca_df.loc[:,0:2],g_pca_df.loc[:,0:2]],axis=1)\n",
    "top_six_df.columns = ['c0','c1','c2','g0','g1','g2']\n",
    "ranges = top_six_df.max()-top_six_df.min()\n",
    "ranges"
   ]
  },
  {
   "cell_type": "code",
   "execution_count": 26,
   "metadata": {},
   "outputs": [
    {
     "data": {
      "text/html": [
       "<div>\n",
       "<style scoped>\n",
       "    .dataframe tbody tr th:only-of-type {\n",
       "        vertical-align: middle;\n",
       "    }\n",
       "\n",
       "    .dataframe tbody tr th {\n",
       "        vertical-align: top;\n",
       "    }\n",
       "\n",
       "    .dataframe thead th {\n",
       "        text-align: right;\n",
       "    }\n",
       "</style>\n",
       "<table border=\"1\" class=\"dataframe\">\n",
       "  <thead>\n",
       "    <tr style=\"text-align: right;\">\n",
       "      <th></th>\n",
       "      <th>c0</th>\n",
       "      <th>c1</th>\n",
       "      <th>c2</th>\n",
       "      <th>g0</th>\n",
       "      <th>g1</th>\n",
       "      <th>g2</th>\n",
       "    </tr>\n",
       "    <tr>\n",
       "      <th>sig_id</th>\n",
       "      <th></th>\n",
       "      <th></th>\n",
       "      <th></th>\n",
       "      <th></th>\n",
       "      <th></th>\n",
       "      <th></th>\n",
       "    </tr>\n",
       "  </thead>\n",
       "  <tbody>\n",
       "    <tr>\n",
       "      <th>id_000644bb2</th>\n",
       "      <td>0.203641</td>\n",
       "      <td>0.308912</td>\n",
       "      <td>0.392035</td>\n",
       "      <td>0.060027</td>\n",
       "      <td>0.454355</td>\n",
       "      <td>0.416942</td>\n",
       "    </tr>\n",
       "    <tr>\n",
       "      <th>id_000779bfc</th>\n",
       "      <td>0.202553</td>\n",
       "      <td>0.257087</td>\n",
       "      <td>0.396663</td>\n",
       "      <td>0.073002</td>\n",
       "      <td>0.490896</td>\n",
       "      <td>0.578668</td>\n",
       "    </tr>\n",
       "    <tr>\n",
       "      <th>id_000a6266a</th>\n",
       "      <td>0.243526</td>\n",
       "      <td>0.294398</td>\n",
       "      <td>0.396881</td>\n",
       "      <td>0.111641</td>\n",
       "      <td>0.480585</td>\n",
       "      <td>0.458304</td>\n",
       "    </tr>\n",
       "    <tr>\n",
       "      <th>id_0015fd391</th>\n",
       "      <td>0.371792</td>\n",
       "      <td>0.566739</td>\n",
       "      <td>0.400866</td>\n",
       "      <td>0.198017</td>\n",
       "      <td>0.413769</td>\n",
       "      <td>0.450402</td>\n",
       "    </tr>\n",
       "    <tr>\n",
       "      <th>id_001626bd3</th>\n",
       "      <td>0.211369</td>\n",
       "      <td>0.295778</td>\n",
       "      <td>0.403855</td>\n",
       "      <td>0.067992</td>\n",
       "      <td>0.461327</td>\n",
       "      <td>0.568124</td>\n",
       "    </tr>\n",
       "  </tbody>\n",
       "</table>\n",
       "</div>"
      ],
      "text/plain": [
       "                    c0        c1        c2        g0        g1        g2\n",
       "sig_id                                                                  \n",
       "id_000644bb2  0.203641  0.308912  0.392035  0.060027  0.454355  0.416942\n",
       "id_000779bfc  0.202553  0.257087  0.396663  0.073002  0.490896  0.578668\n",
       "id_000a6266a  0.243526  0.294398  0.396881  0.111641  0.480585  0.458304\n",
       "id_0015fd391  0.371792  0.566739  0.400866  0.198017  0.413769  0.450402\n",
       "id_001626bd3  0.211369  0.295778  0.403855  0.067992  0.461327  0.568124"
      ]
     },
     "execution_count": 26,
     "metadata": {},
     "output_type": "execute_result"
    }
   ],
   "source": [
    "t6scaler = MinMaxScaler()\n",
    "cluster_df = pd.DataFrame(t6scaler.fit_transform(top_six_df),\n",
    "                          index=top_six_df.index,\n",
    "                          columns=top_six_df.columns)\n",
    "cluster_df.head()"
   ]
  },
  {
   "cell_type": "markdown",
   "metadata": {},
   "source": [
    "3. Conduct silhouette tests of the data reduced to various PCA dimensions, up to 6.\n",
    "\n",
    "Previously I found MeanShift seemed far and away better than KMeans or DBSCAN.\n",
    "\n",
    "I also found that the silhouette scores did in fact go down if I fed the algorithms the raw PCA output rather than my questionably rescaled values, so questionably rescaled values it is."
   ]
  },
  {
   "cell_type": "markdown",
   "metadata": {},
   "source": [
    "I can take some steps to speed up MeanShift by\n",
    "1. calculating `estimate_bandwidth` ahead of time in an optimized fashion, using less than all the points\n",
    "1. using bin seeding with a cutoff number of points for bins\n",
    "1. setting n_jobs=2"
   ]
  },
  {
   "cell_type": "markdown",
   "metadata": {},
   "source": [
    "Let me deliberately plan out how I will gridsearch, save models, and plot the metrics for each hyperparameter choice in [ #dims, bandwidth ]. I recalculate the bandwidth at different quantiles."
   ]
  },
  {
   "cell_type": "code",
   "execution_count": 27,
   "metadata": {},
   "outputs": [
    {
     "name": "stdout",
     "output_type": "stream",
     "text": [
      "Bandwidth for 1 dimensions is 0.051835677942629194\n",
      "\n",
      "Bandwidth for 2 dimensions is 0.07420975650688903\n",
      "\n",
      "Bandwidth for 3 dimensions is 0.09101919502095929\n",
      "\n",
      "Bandwidth for 4 dimensions is 0.11452954572576132\n",
      "\n",
      "Bandwidth for 5 dimensions is 0.12398050757559648\n",
      "\n",
      "Bandwidth for 6 dimensions is 0.14571247336408055\n",
      "\n"
     ]
    }
   ],
   "source": [
    "bw30 = []\n",
    "for dim in range(6):\n",
    "    # quantile = 0.3 is the default\n",
    "    bw30.append(estimate_bandwidth(cluster_df.iloc[:,0:dim+1],quantile=0.3,n_samples=1000,n_jobs=2))\n",
    "    print(f'Bandwidth for {dim+1} dimensions is {bw30[dim]}\\n')"
   ]
  },
  {
   "cell_type": "markdown",
   "metadata": {},
   "source": [
    "I want\n",
    "* a plot of silhouette scores per number of PCA dimensions clustered\n",
    "* a different color and legend entry for each bandwidth quantile\n",
    "* I will need to fit a MeanShift model at each of these combinations\n",
    "    * save the model\n",
    "        * perhaps in a two-layer dictionary with bw -> #dims\n",
    "    * save the silhouette score\n",
    "        * preferably in a dataframe with column labels `bw30, bw50, bw80`"
   ]
  },
  {
   "cell_type": "code",
   "execution_count": 28,
   "metadata": {},
   "outputs": [],
   "source": [
    "data = cluster_df.iloc[:,0:2]\n",
    "ms_model = MeanShift(bandwidth=0.0742,\n",
    "                                    bin_seeding=True,\n",
    "                                    min_bin_freq=10,\n",
    "                                    n_jobs=2).fit(data)\n",
    "labels = pd.Series(ms_model.labels_,index=tf_df.index)"
   ]
  },
  {
   "cell_type": "code",
   "execution_count": 29,
   "metadata": {},
   "outputs": [
    {
     "data": {
      "text/plain": [
       "0     21739\n",
       "1       473\n",
       "3       362\n",
       "5       350\n",
       "2       237\n",
       "4       137\n",
       "7       126\n",
       "6       119\n",
       "9       112\n",
       "8        82\n",
       "10       77\n",
       "dtype: int64"
      ]
     },
     "execution_count": 29,
     "metadata": {},
     "output_type": "execute_result"
    }
   ],
   "source": [
    "labels.value_counts()"
   ]
  },
  {
   "cell_type": "markdown",
   "metadata": {},
   "source": [
    "4. Hot encode the cluster labels. Definitely want to drop a feature so that these columns are not mutually collinear, and it seems reasonable to drop cluster 0 and regard the small clusters as 'flavor' (or is that 'flava')."
   ]
  },
  {
   "cell_type": "code",
   "execution_count": 30,
   "metadata": {},
   "outputs": [
    {
     "data": {
      "text/plain": [
       "array([[0, 0, 0, 0, 0, 0, 0, 0, 0, 0],\n",
       "       [0, 0, 0, 0, 0, 0, 0, 0, 0, 0],\n",
       "       [0, 0, 0, 0, 0, 0, 0, 0, 0, 0],\n",
       "       [0, 0, 0, 0, 1, 0, 0, 0, 0, 0],\n",
       "       [0, 0, 0, 0, 0, 0, 0, 0, 0, 0]])"
      ]
     },
     "execution_count": 30,
     "metadata": {},
     "output_type": "execute_result"
    }
   ],
   "source": [
    "ohenc = OneHotEncoder(drop='first',sparse=False,dtype=np.int)\n",
    "cats = ohenc.fit_transform(np.array(labels).reshape(-1,1))\n",
    "cats[:5,:]"
   ]
  },
  {
   "cell_type": "markdown",
   "metadata": {},
   "source": [
    "5. Pass original features and cluster id to three layer NN.\n",
    "6. Tune the network & train up the best candidate.\n",
    "\n",
    "I might want to increase the number of layers, but let's not get too far ahead of myself.\n",
    "* I had the model where I was feeding PCA `g` and `c` components to the model, and at most 512 neurons per layer, peg at 512 per layer.\n",
    "* I'm running a second model where the options are now 512, 1024, 2048 per layer on Kaggle now.\n",
    "* Now I'm going to throw the scaled original features in along with the clusters and the large layer sizes.\n",
    "\n",
    "Speaking of another notebook, at some point I should implement the \"if it's a control experiment, predict 0\" circuit breaker. That may or may not be contrary to the spirit of the thing in terms of creating a tool for actual use, but it would be instructive."
   ]
  },
  {
   "cell_type": "code",
   "execution_count": 31,
   "metadata": {},
   "outputs": [
    {
     "name": "stdout",
     "output_type": "stream",
     "text": [
      "(23814, 10) (23814, 875)\n"
     ]
    }
   ],
   "source": [
    "transformer = StandardScaler()\n",
    "tf_df.loc[:,'g-0':'c-99']=transformer.fit_transform(tf_df.loc[:,'g-0':'c-99'])\n",
    "print(cats.shape,tf_df.shape)"
   ]
  },
  {
   "cell_type": "code",
   "execution_count": 32,
   "metadata": {},
   "outputs": [
    {
     "data": {
      "text/plain": [
       "(23814, 885)"
      ]
     },
     "execution_count": 32,
     "metadata": {},
     "output_type": "execute_result"
    }
   ],
   "source": [
    "tf_arr = np.concatenate((cats,np.array(tf_df)),axis=1)\n",
    "tf_arr.shape"
   ]
  },
  {
   "cell_type": "code",
   "execution_count": 33,
   "metadata": {},
   "outputs": [
    {
     "data": {
      "text/plain": [
       "(23814, 206)"
      ]
     },
     "execution_count": 33,
     "metadata": {},
     "output_type": "execute_result"
    }
   ],
   "source": [
    "tts_arr = np.array(tts_df)\n",
    "tts_arr.shape"
   ]
  },
  {
   "cell_type": "markdown",
   "metadata": {},
   "source": [
    "Get crackalackin'."
   ]
  },
  {
   "cell_type": "code",
   "execution_count": 34,
   "metadata": {},
   "outputs": [
    {
     "name": "stdout",
     "output_type": "stream",
     "text": [
      "Number of accelerators:  1\n"
     ]
    }
   ],
   "source": [
    "strategy = tf.distribute.get_strategy()\n",
    "print(\"Number of accelerators: \", strategy.num_replicas_in_sync)"
   ]
  },
  {
   "cell_type": "code",
   "execution_count": 35,
   "metadata": {},
   "outputs": [],
   "source": [
    "with strategy.scope():\n",
    "    inputs = Input(shape=(885,))\n",
    "    x = Dense(1024,activation='relu')(inputs)\n",
    "    x = Dropout(0.35,input_shape=(1024,))(x)\n",
    "    x = Dense(1024,activation='elu')(x)\n",
    "    x = Dropout(0.35,input_shape=(256,))(x)\n",
    "    x = Dense(1024,activation='elu')(x)\n",
    "    x = Dropout(0.2,input_shape=(64,))(x)\n",
    "    outputs = Dense(206,activation='sigmoid')(x)\n",
    "    model = Model(inputs,outputs)\n",
    "    model.compile(\"adam\", 'binary_crossentropy', metrics=[\"binary_crossentropy\",\"accuracy\"])"
   ]
  },
  {
   "cell_type": "code",
   "execution_count": 36,
   "metadata": {},
   "outputs": [
    {
     "name": "stdout",
     "output_type": "stream",
     "text": [
      "Epoch 1/50\n",
      "596/596 [==============================] - 42s 71ms/step - loss: 0.0238 - binary_crossentropy: 0.0238 - accuracy: 0.0805 - val_loss: 0.0182 - val_binary_crossentropy: 0.0182 - val_accuracy: 0.1199\n",
      "Epoch 2/50\n",
      "596/596 [==============================] - 57s 96ms/step - loss: 0.0177 - binary_crossentropy: 0.0177 - accuracy: 0.1063 - val_loss: 0.0177 - val_binary_crossentropy: 0.0177 - val_accuracy: 0.1056\n",
      "Epoch 3/50\n",
      "596/596 [==============================] - 69s 115ms/step - loss: 0.0168 - binary_crossentropy: 0.0168 - accuracy: 0.1255 - val_loss: 0.0181 - val_binary_crossentropy: 0.0181 - val_accuracy: 0.1121\n",
      "Epoch 4/50\n",
      "596/596 [==============================] - 80s 134ms/step - loss: 0.0163 - binary_crossentropy: 0.0163 - accuracy: 0.1371 - val_loss: 0.0177 - val_binary_crossentropy: 0.0177 - val_accuracy: 0.1048\n",
      "Epoch 5/50\n",
      "596/596 [==============================] - 78s 131ms/step - loss: 0.0155 - binary_crossentropy: 0.0155 - accuracy: 0.1514 - val_loss: 0.0193 - val_binary_crossentropy: 0.0193 - val_accuracy: 0.1377\n",
      "Epoch 6/50\n",
      "596/596 [==============================] - 59s 98ms/step - loss: 0.0147 - binary_crossentropy: 0.0147 - accuracy: 0.1714 - val_loss: 0.0193 - val_binary_crossentropy: 0.0193 - val_accuracy: 0.1094\n",
      "Epoch 7/50\n",
      "596/596 [==============================] - 64s 107ms/step - loss: 0.0137 - binary_crossentropy: 0.0137 - accuracy: 0.1996 - val_loss: 0.0188 - val_binary_crossentropy: 0.0188 - val_accuracy: 0.1209\n",
      "Epoch 8/50\n",
      "596/596 [==============================] - 59s 98ms/step - loss: 0.0126 - binary_crossentropy: 0.0126 - accuracy: 0.2369 - val_loss: 0.0190 - val_binary_crossentropy: 0.0190 - val_accuracy: 0.1069\n",
      "Epoch 9/50\n",
      "596/596 [==============================] - 65s 109ms/step - loss: 0.0134 - binary_crossentropy: 0.0134 - accuracy: 0.2374 - val_loss: 0.0190 - val_binary_crossentropy: 0.0190 - val_accuracy: 0.1046\n",
      "Epoch 10/50\n",
      "596/596 [==============================] - 63s 106ms/step - loss: 0.0118 - binary_crossentropy: 0.0118 - accuracy: 0.2596 - val_loss: 0.0200 - val_binary_crossentropy: 0.0200 - val_accuracy: 0.1159\n",
      "Epoch 11/50\n",
      "596/596 [==============================] - 58s 98ms/step - loss: 0.0121 - binary_crossentropy: 0.0121 - accuracy: 0.2627 - val_loss: 0.0201 - val_binary_crossentropy: 0.0201 - val_accuracy: 0.1064\n",
      "Epoch 12/50\n",
      "596/596 [==============================] - 64s 107ms/step - loss: 0.0107 - binary_crossentropy: 0.0107 - accuracy: 0.2965 - val_loss: 0.0211 - val_binary_crossentropy: 0.0211 - val_accuracy: 0.1004\n",
      "Epoch 13/50\n",
      "596/596 [==============================] - 59s 98ms/step - loss: 0.0137 - binary_crossentropy: 0.0137 - accuracy: 0.2963 - val_loss: 0.0215 - val_binary_crossentropy: 0.0215 - val_accuracy: 0.1075\n",
      "Epoch 14/50\n",
      "596/596 [==============================] - 64s 107ms/step - loss: 0.0200 - binary_crossentropy: 0.0200 - accuracy: 0.2937 - val_loss: 0.0222 - val_binary_crossentropy: 0.0222 - val_accuracy: 0.1083\n",
      "Epoch 15/50\n",
      "596/596 [==============================] - 59s 98ms/step - loss: 0.0114 - binary_crossentropy: 0.0114 - accuracy: 0.2889 - val_loss: 0.0212 - val_binary_crossentropy: 0.0212 - val_accuracy: 0.1205\n",
      "Epoch 16/50\n",
      "596/596 [==============================] - 64s 107ms/step - loss: 0.0096 - binary_crossentropy: 0.0096 - accuracy: 0.3294 - val_loss: 0.0205 - val_binary_crossentropy: 0.0205 - val_accuracy: 0.1113\n",
      "Epoch 17/50\n",
      "596/596 [==============================] - 65s 109ms/step - loss: 0.0092 - binary_crossentropy: 0.0092 - accuracy: 0.3438 - val_loss: 0.0210 - val_binary_crossentropy: 0.0210 - val_accuracy: 0.1054\n",
      "Epoch 18/50\n",
      "596/596 [==============================] - 64s 107ms/step - loss: 0.0102 - binary_crossentropy: 0.0102 - accuracy: 0.3275 - val_loss: 0.0211 - val_binary_crossentropy: 0.0211 - val_accuracy: 0.1125\n",
      "Epoch 19/50\n",
      "596/596 [==============================] - 61s 102ms/step - loss: 0.0085 - binary_crossentropy: 0.0085 - accuracy: 0.3672 - val_loss: 0.0224 - val_binary_crossentropy: 0.0224 - val_accuracy: 0.1062\n",
      "Epoch 20/50\n",
      "596/596 [==============================] - 66s 110ms/step - loss: 0.0104 - binary_crossentropy: 0.0104 - accuracy: 0.3730 - val_loss: 0.0233 - val_binary_crossentropy: 0.0233 - val_accuracy: 0.1060\n",
      "Epoch 21/50\n",
      "596/596 [==============================] - 64s 108ms/step - loss: 0.0090 - binary_crossentropy: 0.0090 - accuracy: 0.3642 - val_loss: 0.0228 - val_binary_crossentropy: 0.0228 - val_accuracy: 0.1031\n",
      "Epoch 22/50\n",
      "596/596 [==============================] - 59s 100ms/step - loss: 0.0089 - binary_crossentropy: 0.0089 - accuracy: 0.3724 - val_loss: 0.0223 - val_binary_crossentropy: 0.0223 - val_accuracy: 0.1027\n",
      "Epoch 23/50\n",
      "596/596 [==============================] - 65s 110ms/step - loss: 0.0098 - binary_crossentropy: 0.0098 - accuracy: 0.3552 - val_loss: 0.0221 - val_binary_crossentropy: 0.0221 - val_accuracy: 0.1041\n",
      "Epoch 24/50\n",
      "596/596 [==============================] - 66s 111ms/step - loss: 0.0175 - binary_crossentropy: 0.0175 - accuracy: 0.2845 - val_loss: 0.0212 - val_binary_crossentropy: 0.0212 - val_accuracy: 0.0924\n",
      "Epoch 25/50\n",
      "596/596 [==============================] - 59s 100ms/step - loss: 0.0129 - binary_crossentropy: 0.0129 - accuracy: 0.2781 - val_loss: 0.0211 - val_binary_crossentropy: 0.0211 - val_accuracy: 0.1006\n",
      "Epoch 26/50\n",
      "596/596 [==============================] - 64s 107ms/step - loss: 0.0131 - binary_crossentropy: 0.0131 - accuracy: 0.2884 - val_loss: 0.0213 - val_binary_crossentropy: 0.0213 - val_accuracy: 0.0932\n",
      "Epoch 27/50\n",
      "596/596 [==============================] - 57s 95ms/step - loss: 0.0173 - binary_crossentropy: 0.0173 - accuracy: 0.3129 - val_loss: 0.0230 - val_binary_crossentropy: 0.0230 - val_accuracy: 0.1039\n",
      "Epoch 28/50\n",
      "596/596 [==============================] - 61s 103ms/step - loss: 0.0110 - binary_crossentropy: 0.0110 - accuracy: 0.3128 - val_loss: 0.0215 - val_binary_crossentropy: 0.0215 - val_accuracy: 0.1008\n",
      "Epoch 29/50\n",
      "596/596 [==============================] - 57s 96ms/step - loss: 0.0121 - binary_crossentropy: 0.0121 - accuracy: 0.3279 - val_loss: 0.0223 - val_binary_crossentropy: 0.0223 - val_accuracy: 0.1029\n",
      "Epoch 30/50\n",
      "596/596 [==============================] - 56s 95ms/step - loss: 0.0110 - binary_crossentropy: 0.0110 - accuracy: 0.3327 - val_loss: 0.0215 - val_binary_crossentropy: 0.0215 - val_accuracy: 0.1020\n",
      "Epoch 31/50\n",
      "596/596 [==============================] - 57s 95ms/step - loss: 0.0101 - binary_crossentropy: 0.0101 - accuracy: 0.3360 - val_loss: 0.0231 - val_binary_crossentropy: 0.0231 - val_accuracy: 0.1081\n",
      "Epoch 32/50\n",
      "596/596 [==============================] - 62s 104ms/step - loss: 0.0094 - binary_crossentropy: 0.0094 - accuracy: 0.3585 - val_loss: 0.0221 - val_binary_crossentropy: 0.0221 - val_accuracy: 0.1033\n",
      "Epoch 33/50\n",
      "596/596 [==============================] - 59s 99ms/step - loss: 0.0093 - binary_crossentropy: 0.0093 - accuracy: 0.3617 - val_loss: 0.0238 - val_binary_crossentropy: 0.0238 - val_accuracy: 0.1062\n",
      "Epoch 34/50\n",
      "596/596 [==============================] - 63s 106ms/step - loss: 0.0086 - binary_crossentropy: 0.0086 - accuracy: 0.3818 - val_loss: 0.0231 - val_binary_crossentropy: 0.0231 - val_accuracy: 0.1079\n",
      "Epoch 35/50\n",
      "596/596 [==============================] - 58s 97ms/step - loss: 0.0096 - binary_crossentropy: 0.0096 - accuracy: 0.3718 - val_loss: 0.0241 - val_binary_crossentropy: 0.0241 - val_accuracy: 0.0985\n",
      "Epoch 36/50\n",
      "596/596 [==============================] - 60s 101ms/step - loss: 0.0109 - binary_crossentropy: 0.0109 - accuracy: 0.3448 - val_loss: 0.0226 - val_binary_crossentropy: 0.0226 - val_accuracy: 0.1031\n",
      "Epoch 37/50\n",
      "596/596 [==============================] - 60s 101ms/step - loss: 0.0098 - binary_crossentropy: 0.0098 - accuracy: 0.3540 - val_loss: 0.0226 - val_binary_crossentropy: 0.0226 - val_accuracy: 0.1014\n",
      "Epoch 38/50\n",
      "596/596 [==============================] - 58s 97ms/step - loss: 0.0117 - binary_crossentropy: 0.0117 - accuracy: 0.3447 - val_loss: 0.0225 - val_binary_crossentropy: 0.0225 - val_accuracy: 0.0959\n",
      "Epoch 39/50\n",
      "596/596 [==============================] - 63s 105ms/step - loss: 0.0133 - binary_crossentropy: 0.0133 - accuracy: 0.3355 - val_loss: 0.0221 - val_binary_crossentropy: 0.0221 - val_accuracy: 0.1010\n",
      "Epoch 40/50\n"
     ]
    },
    {
     "name": "stdout",
     "output_type": "stream",
     "text": [
      "596/596 [==============================] - 56s 93ms/step - loss: 0.0099 - binary_crossentropy: 0.0099 - accuracy: 0.3575 - val_loss: 0.0224 - val_binary_crossentropy: 0.0224 - val_accuracy: 0.0997\n",
      "Epoch 41/50\n",
      "596/596 [==============================] - 56s 94ms/step - loss: 0.0097 - binary_crossentropy: 0.0097 - accuracy: 0.3688 - val_loss: 0.0233 - val_binary_crossentropy: 0.0233 - val_accuracy: 0.1008\n",
      "Epoch 42/50\n",
      "596/596 [==============================] - 56s 95ms/step - loss: 0.0191 - binary_crossentropy: 0.0191 - accuracy: 0.3584 - val_loss: 0.0219 - val_binary_crossentropy: 0.0219 - val_accuracy: 0.1014\n",
      "Epoch 43/50\n",
      "596/596 [==============================] - 63s 105ms/step - loss: 0.0096 - binary_crossentropy: 0.0096 - accuracy: 0.3674 - val_loss: 0.0235 - val_binary_crossentropy: 0.0235 - val_accuracy: 0.0976\n",
      "Epoch 44/50\n",
      "596/596 [==============================] - 56s 94ms/step - loss: 0.0090 - binary_crossentropy: 0.0090 - accuracy: 0.3747 - val_loss: 0.0233 - val_binary_crossentropy: 0.0233 - val_accuracy: 0.0987\n",
      "Epoch 45/50\n",
      "596/596 [==============================] - 56s 94ms/step - loss: 0.0239 - binary_crossentropy: 0.0239 - accuracy: 0.3553 - val_loss: 0.0229 - val_binary_crossentropy: 0.0229 - val_accuracy: 0.1020\n",
      "Epoch 46/50\n",
      "596/596 [==============================] - 55s 93ms/step - loss: 0.0089 - binary_crossentropy: 0.0089 - accuracy: 0.3808 - val_loss: 0.0237 - val_binary_crossentropy: 0.0237 - val_accuracy: 0.1006\n",
      "Epoch 47/50\n",
      "596/596 [==============================] - 59s 99ms/step - loss: 0.0084 - binary_crossentropy: 0.0084 - accuracy: 0.3928 - val_loss: 0.0241 - val_binary_crossentropy: 0.0241 - val_accuracy: 0.1025\n",
      "Epoch 48/50\n",
      "596/596 [==============================] - 57s 96ms/step - loss: 0.0105 - binary_crossentropy: 0.0105 - accuracy: 0.3865 - val_loss: 0.0232 - val_binary_crossentropy: 0.0232 - val_accuracy: 0.1018\n",
      "Epoch 49/50\n",
      "596/596 [==============================] - 56s 94ms/step - loss: 0.0222 - binary_crossentropy: 0.0222 - accuracy: 0.3656 - val_loss: 0.0281 - val_binary_crossentropy: 0.0281 - val_accuracy: 0.1041\n",
      "Epoch 50/50\n",
      "596/596 [==============================] - 57s 96ms/step - loss: 0.0124 - binary_crossentropy: 0.0124 - accuracy: 0.3466 - val_loss: 0.0239 - val_binary_crossentropy: 0.0239 - val_accuracy: 0.1029\n"
     ]
    }
   ],
   "source": [
    "history = model.fit(tf_arr, tts_arr, validation_split=0.2, epochs=50)"
   ]
  },
  {
   "cell_type": "code",
   "execution_count": 37,
   "metadata": {},
   "outputs": [
    {
     "name": "stdout",
     "output_type": "stream",
     "text": [
      "Model: \"functional_1\"\n",
      "_________________________________________________________________\n",
      "Layer (type)                 Output Shape              Param #   \n",
      "=================================================================\n",
      "input_1 (InputLayer)         [(None, 885)]             0         \n",
      "_________________________________________________________________\n",
      "dense (Dense)                (None, 1024)              907264    \n",
      "_________________________________________________________________\n",
      "dropout (Dropout)            (None, 1024)              0         \n",
      "_________________________________________________________________\n",
      "dense_1 (Dense)              (None, 1024)              1049600   \n",
      "_________________________________________________________________\n",
      "dropout_1 (Dropout)          (None, 1024)              0         \n",
      "_________________________________________________________________\n",
      "dense_2 (Dense)              (None, 1024)              1049600   \n",
      "_________________________________________________________________\n",
      "dropout_2 (Dropout)          (None, 1024)              0         \n",
      "_________________________________________________________________\n",
      "dense_3 (Dense)              (None, 206)               211150    \n",
      "=================================================================\n",
      "Total params: 3,217,614\n",
      "Trainable params: 3,217,614\n",
      "Non-trainable params: 0\n",
      "_________________________________________________________________\n"
     ]
    }
   ],
   "source": [
    "model.summary()"
   ]
  },
  {
   "cell_type": "code",
   "execution_count": 38,
   "metadata": {},
   "outputs": [
    {
     "name": "stdout",
     "output_type": "stream",
     "text": [
      "745/745 [==============================] - 22s 30ms/step - loss: 0.0089 - binary_crossentropy: 0.0089 - accuracy: 0.3646\n"
     ]
    },
    {
     "data": {
      "text/plain": [
       "[0.008852388709783554, 0.008852388709783554, 0.36457544565200806]"
      ]
     },
     "execution_count": 38,
     "metadata": {},
     "output_type": "execute_result"
    }
   ],
   "source": [
    "model.evaluate(tf_arr,tts_arr)"
   ]
  },
  {
   "cell_type": "code",
   "execution_count": 50,
   "metadata": {},
   "outputs": [
    {
     "data": {
      "text/plain": [
       "0.008868063512722938"
      ]
     },
     "execution_count": 50,
     "metadata": {},
     "output_type": "execute_result"
    }
   ],
   "source": [
    "tts_pred = model.predict(tf_arr)\n",
    "fast_loss(tts_arr,tts_pred)"
   ]
  },
  {
   "cell_type": "markdown",
   "metadata": {},
   "source": [
    "Here I need to implement the same preprocessing steps to recreate the input data characteristics... in particular, mapping the test data points to the correct clusters."
   ]
  },
  {
   "cell_type": "code",
   "execution_count": 40,
   "metadata": {},
   "outputs": [],
   "source": [
    "testf_df = pd.read_csv('../test_features.csv',index_col='sig_id')"
   ]
  },
  {
   "cell_type": "code",
   "execution_count": 41,
   "metadata": {},
   "outputs": [],
   "source": [
    "testf_df['cp_type']=testf_df['cp_type'].astype('category')\n",
    "testf_df['cp_time']=scaler.transform((np.array(testf_df['cp_time'])).reshape(-1,1))\n",
    "testf_df['cp_dose']=testf_df['cp_dose'].astype('category')\n",
    "testf_df = oenc.transform(testf_df)\n",
    "testf_df['cp_type']=testf_df['cp_type']-1\n",
    "testf_df['cp_dose']=testf_df['cp_dose']-1"
   ]
  },
  {
   "cell_type": "markdown",
   "metadata": {},
   "source": [
    "Got to get the new cluster ids, encode them, then reassemble the input matrix."
   ]
  },
  {
   "cell_type": "code",
   "execution_count": 42,
   "metadata": {},
   "outputs": [
    {
     "data": {
      "text/html": [
       "<div>\n",
       "<style scoped>\n",
       "    .dataframe tbody tr th:only-of-type {\n",
       "        vertical-align: middle;\n",
       "    }\n",
       "\n",
       "    .dataframe tbody tr th {\n",
       "        vertical-align: top;\n",
       "    }\n",
       "\n",
       "    .dataframe thead th {\n",
       "        text-align: right;\n",
       "    }\n",
       "</style>\n",
       "<table border=\"1\" class=\"dataframe\">\n",
       "  <thead>\n",
       "    <tr style=\"text-align: right;\">\n",
       "      <th></th>\n",
       "      <th>c0</th>\n",
       "      <th>c1</th>\n",
       "      <th>c2</th>\n",
       "      <th>g0</th>\n",
       "      <th>g1</th>\n",
       "      <th>g2</th>\n",
       "    </tr>\n",
       "    <tr>\n",
       "      <th>sig_id</th>\n",
       "      <th></th>\n",
       "      <th></th>\n",
       "      <th></th>\n",
       "      <th></th>\n",
       "      <th></th>\n",
       "      <th></th>\n",
       "    </tr>\n",
       "  </thead>\n",
       "  <tbody>\n",
       "    <tr>\n",
       "      <th>id_0004d9e33</th>\n",
       "      <td>0.235691</td>\n",
       "      <td>0.243136</td>\n",
       "      <td>0.347117</td>\n",
       "      <td>0.085562</td>\n",
       "      <td>0.480570</td>\n",
       "      <td>0.480080</td>\n",
       "    </tr>\n",
       "    <tr>\n",
       "      <th>id_001897cda</th>\n",
       "      <td>0.272467</td>\n",
       "      <td>0.287161</td>\n",
       "      <td>0.436074</td>\n",
       "      <td>0.094228</td>\n",
       "      <td>0.430544</td>\n",
       "      <td>0.434638</td>\n",
       "    </tr>\n",
       "    <tr>\n",
       "      <th>id_002429b5b</th>\n",
       "      <td>0.213936</td>\n",
       "      <td>0.308580</td>\n",
       "      <td>0.356619</td>\n",
       "      <td>0.053329</td>\n",
       "      <td>0.472502</td>\n",
       "      <td>0.438228</td>\n",
       "    </tr>\n",
       "    <tr>\n",
       "      <th>id_00276f245</th>\n",
       "      <td>0.241837</td>\n",
       "      <td>0.276511</td>\n",
       "      <td>0.339692</td>\n",
       "      <td>0.094207</td>\n",
       "      <td>0.461743</td>\n",
       "      <td>0.392647</td>\n",
       "    </tr>\n",
       "    <tr>\n",
       "      <th>id_0027f1083</th>\n",
       "      <td>0.186619</td>\n",
       "      <td>0.331795</td>\n",
       "      <td>0.375232</td>\n",
       "      <td>0.054899</td>\n",
       "      <td>0.476455</td>\n",
       "      <td>0.513740</td>\n",
       "    </tr>\n",
       "  </tbody>\n",
       "</table>\n",
       "</div>"
      ],
      "text/plain": [
       "                    c0        c1        c2        g0        g1        g2\n",
       "sig_id                                                                  \n",
       "id_0004d9e33  0.235691  0.243136  0.347117  0.085562  0.480570  0.480080\n",
       "id_001897cda  0.272467  0.287161  0.436074  0.094228  0.430544  0.434638\n",
       "id_002429b5b  0.213936  0.308580  0.356619  0.053329  0.472502  0.438228\n",
       "id_00276f245  0.241837  0.276511  0.339692  0.094207  0.461743  0.392647\n",
       "id_0027f1083  0.186619  0.331795  0.375232  0.054899  0.476455  0.513740"
      ]
     },
     "execution_count": 42,
     "metadata": {},
     "output_type": "execute_result"
    }
   ],
   "source": [
    "g_test_df = pd.DataFrame(pca_g.transform(testf_df.loc[:,'g-0':'g-771']),index=testf_df.index)\n",
    "c_test_df = pd.DataFrame(pca_c.transform(testf_df.loc[:,'c-0':'c-99']),index=testf_df.index)\n",
    "# remember that the clustering was done on just the first two c dimensions\n",
    "# however, the scaler took in 6 dimensions\n",
    "# I suppose it won't matter what I feed to the garbage dimensions of the scaler\n",
    "# but I'll do it the same way for consistency: 3 c, 3 g\n",
    "test_six_df = pd.concat([c_test_df.loc[:,0:2],g_test_df.loc[:,0:2]],axis=1)\n",
    "test_six_df.columns=top_six_df.columns\n",
    "tcluster_df = pd.DataFrame(t6scaler.transform(test_six_df),\n",
    "                          index=test_six_df.index,\n",
    "                          columns=test_six_df.columns)\n",
    "tcluster_df.head()"
   ]
  },
  {
   "cell_type": "code",
   "execution_count": 43,
   "metadata": {},
   "outputs": [
    {
     "data": {
      "text/plain": [
       "0     3675\n",
       "1       89\n",
       "5       47\n",
       "2       47\n",
       "3       41\n",
       "4       19\n",
       "6       16\n",
       "7       15\n",
       "10      14\n",
       "9       10\n",
       "8        9\n",
       "dtype: int64"
      ]
     },
     "execution_count": 43,
     "metadata": {},
     "output_type": "execute_result"
    }
   ],
   "source": [
    "test_labels = pd.Series(ms_model.predict(tcluster_df.loc[:,'c0':'c1']))\n",
    "test_labels.value_counts()"
   ]
  },
  {
   "cell_type": "code",
   "execution_count": 44,
   "metadata": {},
   "outputs": [
    {
     "data": {
      "text/plain": [
       "array([[0, 0, 0, 0, 0, 0, 0, 0, 0, 0],\n",
       "       [0, 0, 0, 0, 0, 0, 0, 0, 0, 0],\n",
       "       [0, 0, 0, 0, 0, 0, 0, 0, 0, 0],\n",
       "       [0, 0, 0, 0, 0, 0, 0, 0, 0, 0],\n",
       "       [0, 0, 0, 0, 0, 0, 0, 0, 0, 0],\n",
       "       [0, 0, 0, 0, 0, 0, 0, 0, 0, 0],\n",
       "       [0, 0, 0, 0, 0, 0, 0, 0, 0, 0],\n",
       "       [0, 0, 0, 0, 0, 0, 0, 0, 0, 0],\n",
       "       [0, 0, 0, 0, 0, 0, 0, 0, 0, 0],\n",
       "       [0, 0, 0, 0, 0, 0, 0, 0, 0, 0]])"
      ]
     },
     "execution_count": 44,
     "metadata": {},
     "output_type": "execute_result"
    }
   ],
   "source": [
    "test_cats = ohenc.transform(np.array(test_labels).reshape(-1,1))\n",
    "test_cats[:10,:]"
   ]
  },
  {
   "cell_type": "code",
   "execution_count": 45,
   "metadata": {},
   "outputs": [
    {
     "name": "stdout",
     "output_type": "stream",
     "text": [
      "(3982, 10) (3982, 875)\n"
     ]
    }
   ],
   "source": [
    "testf_df.loc[:,'g-0':'c-99']=transformer.transform(testf_df.loc[:,'g-0':'c-99'])\n",
    "print(test_cats.shape,testf_df.shape)"
   ]
  },
  {
   "cell_type": "code",
   "execution_count": 46,
   "metadata": {},
   "outputs": [
    {
     "data": {
      "text/plain": [
       "(3982, 885)"
      ]
     },
     "execution_count": 46,
     "metadata": {},
     "output_type": "execute_result"
    }
   ],
   "source": [
    "testf_arr = np.concatenate((test_cats,np.array(testf_df)),axis=1)\n",
    "testf_arr.shape"
   ]
  },
  {
   "cell_type": "code",
   "execution_count": 47,
   "metadata": {},
   "outputs": [
    {
     "data": {
      "text/html": [
       "<div>\n",
       "<style scoped>\n",
       "    .dataframe tbody tr th:only-of-type {\n",
       "        vertical-align: middle;\n",
       "    }\n",
       "\n",
       "    .dataframe tbody tr th {\n",
       "        vertical-align: top;\n",
       "    }\n",
       "\n",
       "    .dataframe thead th {\n",
       "        text-align: right;\n",
       "    }\n",
       "</style>\n",
       "<table border=\"1\" class=\"dataframe\">\n",
       "  <thead>\n",
       "    <tr style=\"text-align: right;\">\n",
       "      <th></th>\n",
       "      <th>5-alpha_reductase_inhibitor</th>\n",
       "      <th>11-beta-hsd1_inhibitor</th>\n",
       "      <th>acat_inhibitor</th>\n",
       "      <th>acetylcholine_receptor_agonist</th>\n",
       "      <th>acetylcholine_receptor_antagonist</th>\n",
       "      <th>acetylcholinesterase_inhibitor</th>\n",
       "      <th>adenosine_receptor_agonist</th>\n",
       "      <th>adenosine_receptor_antagonist</th>\n",
       "      <th>adenylyl_cyclase_activator</th>\n",
       "      <th>adrenergic_receptor_agonist</th>\n",
       "      <th>...</th>\n",
       "      <th>tropomyosin_receptor_kinase_inhibitor</th>\n",
       "      <th>trpv_agonist</th>\n",
       "      <th>trpv_antagonist</th>\n",
       "      <th>tubulin_inhibitor</th>\n",
       "      <th>tyrosine_kinase_inhibitor</th>\n",
       "      <th>ubiquitin_specific_protease_inhibitor</th>\n",
       "      <th>vegfr_inhibitor</th>\n",
       "      <th>vitamin_b</th>\n",
       "      <th>vitamin_d_receptor_agonist</th>\n",
       "      <th>wnt_inhibitor</th>\n",
       "    </tr>\n",
       "    <tr>\n",
       "      <th>sig_id</th>\n",
       "      <th></th>\n",
       "      <th></th>\n",
       "      <th></th>\n",
       "      <th></th>\n",
       "      <th></th>\n",
       "      <th></th>\n",
       "      <th></th>\n",
       "      <th></th>\n",
       "      <th></th>\n",
       "      <th></th>\n",
       "      <th></th>\n",
       "      <th></th>\n",
       "      <th></th>\n",
       "      <th></th>\n",
       "      <th></th>\n",
       "      <th></th>\n",
       "      <th></th>\n",
       "      <th></th>\n",
       "      <th></th>\n",
       "      <th></th>\n",
       "      <th></th>\n",
       "    </tr>\n",
       "  </thead>\n",
       "  <tbody>\n",
       "    <tr>\n",
       "      <th>id_0004d9e33</th>\n",
       "      <td>5.231931e-13</td>\n",
       "      <td>2.390809e-11</td>\n",
       "      <td>3.370071e-07</td>\n",
       "      <td>2.719125e-05</td>\n",
       "      <td>3.444254e-04</td>\n",
       "      <td>2.482687e-06</td>\n",
       "      <td>1.553499e-08</td>\n",
       "      <td>5.688706e-05</td>\n",
       "      <td>3.892361e-12</td>\n",
       "      <td>6.075497e-06</td>\n",
       "      <td>...</td>\n",
       "      <td>3.201144e-10</td>\n",
       "      <td>1.298821e-09</td>\n",
       "      <td>1.324945e-06</td>\n",
       "      <td>3.300588e-07</td>\n",
       "      <td>3.318848e-07</td>\n",
       "      <td>6.328445e-15</td>\n",
       "      <td>1.035329e-08</td>\n",
       "      <td>1.495120e-05</td>\n",
       "      <td>2.200958e-11</td>\n",
       "      <td>7.250403e-06</td>\n",
       "    </tr>\n",
       "    <tr>\n",
       "      <th>id_001897cda</th>\n",
       "      <td>1.877348e-07</td>\n",
       "      <td>1.750219e-06</td>\n",
       "      <td>3.843663e-06</td>\n",
       "      <td>6.503698e-05</td>\n",
       "      <td>4.091859e-04</td>\n",
       "      <td>3.077778e-05</td>\n",
       "      <td>1.661181e-04</td>\n",
       "      <td>4.617191e-05</td>\n",
       "      <td>1.197664e-06</td>\n",
       "      <td>9.768009e-04</td>\n",
       "      <td>...</td>\n",
       "      <td>7.739816e-06</td>\n",
       "      <td>1.034715e-05</td>\n",
       "      <td>4.141927e-04</td>\n",
       "      <td>2.908409e-04</td>\n",
       "      <td>1.198831e-04</td>\n",
       "      <td>1.613334e-09</td>\n",
       "      <td>3.237128e-04</td>\n",
       "      <td>1.280508e-05</td>\n",
       "      <td>7.793782e-10</td>\n",
       "      <td>1.389411e-05</td>\n",
       "    </tr>\n",
       "    <tr>\n",
       "      <th>id_002429b5b</th>\n",
       "      <td>0.000000e+00</td>\n",
       "      <td>0.000000e+00</td>\n",
       "      <td>3.583333e-25</td>\n",
       "      <td>3.660532e-13</td>\n",
       "      <td>2.039982e-13</td>\n",
       "      <td>4.667564e-24</td>\n",
       "      <td>5.110648e-27</td>\n",
       "      <td>3.081071e-25</td>\n",
       "      <td>0.000000e+00</td>\n",
       "      <td>1.940608e-16</td>\n",
       "      <td>...</td>\n",
       "      <td>2.856156e-30</td>\n",
       "      <td>9.873570e-34</td>\n",
       "      <td>2.458991e-27</td>\n",
       "      <td>1.130799e-16</td>\n",
       "      <td>1.055544e-26</td>\n",
       "      <td>0.000000e+00</td>\n",
       "      <td>8.369651e-35</td>\n",
       "      <td>1.043326e-26</td>\n",
       "      <td>0.000000e+00</td>\n",
       "      <td>4.647666e-38</td>\n",
       "    </tr>\n",
       "    <tr>\n",
       "      <th>id_00276f245</th>\n",
       "      <td>6.157087e-08</td>\n",
       "      <td>6.266569e-09</td>\n",
       "      <td>2.410942e-07</td>\n",
       "      <td>2.634525e-04</td>\n",
       "      <td>8.087754e-04</td>\n",
       "      <td>2.655089e-04</td>\n",
       "      <td>6.475854e-05</td>\n",
       "      <td>3.201577e-06</td>\n",
       "      <td>7.382774e-11</td>\n",
       "      <td>6.845355e-03</td>\n",
       "      <td>...</td>\n",
       "      <td>4.195060e-09</td>\n",
       "      <td>8.964406e-08</td>\n",
       "      <td>5.405961e-05</td>\n",
       "      <td>2.523065e-04</td>\n",
       "      <td>2.860129e-04</td>\n",
       "      <td>1.112101e-11</td>\n",
       "      <td>2.441858e-06</td>\n",
       "      <td>1.482152e-07</td>\n",
       "      <td>8.483828e-13</td>\n",
       "      <td>2.767462e-08</td>\n",
       "    </tr>\n",
       "    <tr>\n",
       "      <th>id_0027f1083</th>\n",
       "      <td>2.551132e-07</td>\n",
       "      <td>5.454120e-07</td>\n",
       "      <td>1.952169e-06</td>\n",
       "      <td>4.018843e-04</td>\n",
       "      <td>7.192194e-04</td>\n",
       "      <td>2.605071e-05</td>\n",
       "      <td>2.181117e-05</td>\n",
       "      <td>2.191663e-04</td>\n",
       "      <td>1.085201e-09</td>\n",
       "      <td>6.979108e-04</td>\n",
       "      <td>...</td>\n",
       "      <td>1.551701e-06</td>\n",
       "      <td>1.937409e-07</td>\n",
       "      <td>8.871137e-06</td>\n",
       "      <td>5.124855e-05</td>\n",
       "      <td>5.049524e-06</td>\n",
       "      <td>1.436501e-09</td>\n",
       "      <td>6.794893e-07</td>\n",
       "      <td>1.398921e-04</td>\n",
       "      <td>2.099035e-08</td>\n",
       "      <td>1.684185e-07</td>\n",
       "    </tr>\n",
       "  </tbody>\n",
       "</table>\n",
       "<p>5 rows × 206 columns</p>\n",
       "</div>"
      ],
      "text/plain": [
       "              5-alpha_reductase_inhibitor  11-beta-hsd1_inhibitor  \\\n",
       "sig_id                                                              \n",
       "id_0004d9e33                 5.231931e-13            2.390809e-11   \n",
       "id_001897cda                 1.877348e-07            1.750219e-06   \n",
       "id_002429b5b                 0.000000e+00            0.000000e+00   \n",
       "id_00276f245                 6.157087e-08            6.266569e-09   \n",
       "id_0027f1083                 2.551132e-07            5.454120e-07   \n",
       "\n",
       "              acat_inhibitor  acetylcholine_receptor_agonist  \\\n",
       "sig_id                                                         \n",
       "id_0004d9e33    3.370071e-07                    2.719125e-05   \n",
       "id_001897cda    3.843663e-06                    6.503698e-05   \n",
       "id_002429b5b    3.583333e-25                    3.660532e-13   \n",
       "id_00276f245    2.410942e-07                    2.634525e-04   \n",
       "id_0027f1083    1.952169e-06                    4.018843e-04   \n",
       "\n",
       "              acetylcholine_receptor_antagonist  \\\n",
       "sig_id                                            \n",
       "id_0004d9e33                       3.444254e-04   \n",
       "id_001897cda                       4.091859e-04   \n",
       "id_002429b5b                       2.039982e-13   \n",
       "id_00276f245                       8.087754e-04   \n",
       "id_0027f1083                       7.192194e-04   \n",
       "\n",
       "              acetylcholinesterase_inhibitor  adenosine_receptor_agonist  \\\n",
       "sig_id                                                                     \n",
       "id_0004d9e33                    2.482687e-06                1.553499e-08   \n",
       "id_001897cda                    3.077778e-05                1.661181e-04   \n",
       "id_002429b5b                    4.667564e-24                5.110648e-27   \n",
       "id_00276f245                    2.655089e-04                6.475854e-05   \n",
       "id_0027f1083                    2.605071e-05                2.181117e-05   \n",
       "\n",
       "              adenosine_receptor_antagonist  adenylyl_cyclase_activator  \\\n",
       "sig_id                                                                    \n",
       "id_0004d9e33                   5.688706e-05                3.892361e-12   \n",
       "id_001897cda                   4.617191e-05                1.197664e-06   \n",
       "id_002429b5b                   3.081071e-25                0.000000e+00   \n",
       "id_00276f245                   3.201577e-06                7.382774e-11   \n",
       "id_0027f1083                   2.191663e-04                1.085201e-09   \n",
       "\n",
       "              adrenergic_receptor_agonist  ...  \\\n",
       "sig_id                                     ...   \n",
       "id_0004d9e33                 6.075497e-06  ...   \n",
       "id_001897cda                 9.768009e-04  ...   \n",
       "id_002429b5b                 1.940608e-16  ...   \n",
       "id_00276f245                 6.845355e-03  ...   \n",
       "id_0027f1083                 6.979108e-04  ...   \n",
       "\n",
       "              tropomyosin_receptor_kinase_inhibitor  trpv_agonist  \\\n",
       "sig_id                                                              \n",
       "id_0004d9e33                           3.201144e-10  1.298821e-09   \n",
       "id_001897cda                           7.739816e-06  1.034715e-05   \n",
       "id_002429b5b                           2.856156e-30  9.873570e-34   \n",
       "id_00276f245                           4.195060e-09  8.964406e-08   \n",
       "id_0027f1083                           1.551701e-06  1.937409e-07   \n",
       "\n",
       "              trpv_antagonist  tubulin_inhibitor  tyrosine_kinase_inhibitor  \\\n",
       "sig_id                                                                        \n",
       "id_0004d9e33     1.324945e-06       3.300588e-07               3.318848e-07   \n",
       "id_001897cda     4.141927e-04       2.908409e-04               1.198831e-04   \n",
       "id_002429b5b     2.458991e-27       1.130799e-16               1.055544e-26   \n",
       "id_00276f245     5.405961e-05       2.523065e-04               2.860129e-04   \n",
       "id_0027f1083     8.871137e-06       5.124855e-05               5.049524e-06   \n",
       "\n",
       "              ubiquitin_specific_protease_inhibitor  vegfr_inhibitor  \\\n",
       "sig_id                                                                 \n",
       "id_0004d9e33                           6.328445e-15     1.035329e-08   \n",
       "id_001897cda                           1.613334e-09     3.237128e-04   \n",
       "id_002429b5b                           0.000000e+00     8.369651e-35   \n",
       "id_00276f245                           1.112101e-11     2.441858e-06   \n",
       "id_0027f1083                           1.436501e-09     6.794893e-07   \n",
       "\n",
       "                 vitamin_b  vitamin_d_receptor_agonist  wnt_inhibitor  \n",
       "sig_id                                                                 \n",
       "id_0004d9e33  1.495120e-05                2.200958e-11   7.250403e-06  \n",
       "id_001897cda  1.280508e-05                7.793782e-10   1.389411e-05  \n",
       "id_002429b5b  1.043326e-26                0.000000e+00   4.647666e-38  \n",
       "id_00276f245  1.482152e-07                8.483828e-13   2.767462e-08  \n",
       "id_0027f1083  1.398921e-04                2.099035e-08   1.684185e-07  \n",
       "\n",
       "[5 rows x 206 columns]"
      ]
     },
     "execution_count": 47,
     "metadata": {},
     "output_type": "execute_result"
    }
   ],
   "source": [
    "test_pred = model.predict(testf_arr)\n",
    "sub_df = pd.DataFrame(test_pred,index=testf_df.index,columns=tts_df.columns)\n",
    "sub_df.head()"
   ]
  },
  {
   "cell_type": "code",
   "execution_count": 48,
   "metadata": {},
   "outputs": [],
   "source": [
    "sub_df.to_csv('submission.csv')"
   ]
  },
  {
   "cell_type": "code",
   "execution_count": null,
   "metadata": {},
   "outputs": [],
   "source": []
  }
 ],
 "metadata": {
  "kernelspec": {
   "display_name": "Python 3",
   "language": "python",
   "name": "python3"
  },
  "language_info": {
   "codemirror_mode": {
    "name": "ipython",
    "version": 3
   },
   "file_extension": ".py",
   "mimetype": "text/x-python",
   "name": "python",
   "nbconvert_exporter": "python",
   "pygments_lexer": "ipython3",
   "version": "3.8.5"
  }
 },
 "nbformat": 4,
 "nbformat_minor": 4
}

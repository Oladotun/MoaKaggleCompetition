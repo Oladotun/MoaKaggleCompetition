{
 "cells": [
  {
   "cell_type": "markdown",
   "metadata": {},
   "source": [
    "## Keras model on SAS-transformed data\n",
    "Matt Doughty performed the transformation. We'll start with an analysis of the sample results on the first 11 columns of g-data."
   ]
  },
  {
   "cell_type": "code",
   "execution_count": 1,
   "metadata": {},
   "outputs": [],
   "source": [
    "import pandas as pd\n",
    "import numpy as np\n",
    "import matplotlib.pyplot as plt\n",
    "import seaborn as sns"
   ]
  },
  {
   "cell_type": "code",
   "execution_count": 8,
   "metadata": {},
   "outputs": [],
   "source": [
    "datafile = \"../train_features_transform_g0_g10.csv\"\n",
    "cols = ['sig_id']\n",
    "for i in range(11):\n",
    "    cols.append('g_'+str(i)+'_t')\n",
    "samp_df = pd.read_csv(datafile,index_col='sig_id',usecols=cols)"
   ]
  },
  {
   "cell_type": "code",
   "execution_count": 9,
   "metadata": {},
   "outputs": [
    {
     "data": {
      "text/html": [
       "<div>\n",
       "<style scoped>\n",
       "    .dataframe tbody tr th:only-of-type {\n",
       "        vertical-align: middle;\n",
       "    }\n",
       "\n",
       "    .dataframe tbody tr th {\n",
       "        vertical-align: top;\n",
       "    }\n",
       "\n",
       "    .dataframe thead th {\n",
       "        text-align: right;\n",
       "    }\n",
       "</style>\n",
       "<table border=\"1\" class=\"dataframe\">\n",
       "  <thead>\n",
       "    <tr style=\"text-align: right;\">\n",
       "      <th></th>\n",
       "      <th>g_0_t</th>\n",
       "      <th>g_1_t</th>\n",
       "      <th>g_2_t</th>\n",
       "      <th>g_3_t</th>\n",
       "      <th>g_4_t</th>\n",
       "      <th>g_5_t</th>\n",
       "      <th>g_6_t</th>\n",
       "      <th>g_7_t</th>\n",
       "      <th>g_8_t</th>\n",
       "      <th>g_9_t</th>\n",
       "      <th>g_10_t</th>\n",
       "    </tr>\n",
       "    <tr>\n",
       "      <th>sig_id</th>\n",
       "      <th></th>\n",
       "      <th></th>\n",
       "      <th></th>\n",
       "      <th></th>\n",
       "      <th></th>\n",
       "      <th></th>\n",
       "      <th></th>\n",
       "      <th></th>\n",
       "      <th></th>\n",
       "      <th></th>\n",
       "      <th></th>\n",
       "    </tr>\n",
       "  </thead>\n",
       "  <tbody>\n",
       "    <tr>\n",
       "      <th>id_42215c7fd</th>\n",
       "      <td>0.41175</td>\n",
       "      <td>0.34360</td>\n",
       "      <td>0.86345</td>\n",
       "      <td>3.86219</td>\n",
       "      <td>-0.25946</td>\n",
       "      <td>-0.51286</td>\n",
       "      <td>-1.73248</td>\n",
       "      <td>-2.43975</td>\n",
       "      <td>0.53971</td>\n",
       "      <td>0.99766</td>\n",
       "      <td>1.88716</td>\n",
       "    </tr>\n",
       "    <tr>\n",
       "      <th>id_dbf8478fa</th>\n",
       "      <td>0.72264</td>\n",
       "      <td>1.21329</td>\n",
       "      <td>-0.53749</td>\n",
       "      <td>0.04845</td>\n",
       "      <td>-0.22536</td>\n",
       "      <td>-1.37805</td>\n",
       "      <td>-0.58401</td>\n",
       "      <td>0.27267</td>\n",
       "      <td>0.95185</td>\n",
       "      <td>0.67996</td>\n",
       "      <td>0.22553</td>\n",
       "    </tr>\n",
       "    <tr>\n",
       "      <th>id_84a3d00c9</th>\n",
       "      <td>-0.24679</td>\n",
       "      <td>-0.40422</td>\n",
       "      <td>-0.46749</td>\n",
       "      <td>0.38444</td>\n",
       "      <td>-2.42535</td>\n",
       "      <td>-0.18871</td>\n",
       "      <td>-0.34036</td>\n",
       "      <td>0.25205</td>\n",
       "      <td>0.65806</td>\n",
       "      <td>0.25501</td>\n",
       "      <td>0.24303</td>\n",
       "    </tr>\n",
       "    <tr>\n",
       "      <th>id_4cf86d157</th>\n",
       "      <td>-0.39305</td>\n",
       "      <td>0.04521</td>\n",
       "      <td>-1.31761</td>\n",
       "      <td>-0.58849</td>\n",
       "      <td>0.09564</td>\n",
       "      <td>0.24584</td>\n",
       "      <td>0.14718</td>\n",
       "      <td>-0.03360</td>\n",
       "      <td>0.13848</td>\n",
       "      <td>1.02250</td>\n",
       "      <td>0.20888</td>\n",
       "    </tr>\n",
       "    <tr>\n",
       "      <th>id_c5fddd133</th>\n",
       "      <td>0.11083</td>\n",
       "      <td>0.48504</td>\n",
       "      <td>-0.21530</td>\n",
       "      <td>0.06582</td>\n",
       "      <td>0.42720</td>\n",
       "      <td>0.33063</td>\n",
       "      <td>0.29688</td>\n",
       "      <td>0.54348</td>\n",
       "      <td>0.34426</td>\n",
       "      <td>-0.40017</td>\n",
       "      <td>-0.17602</td>\n",
       "    </tr>\n",
       "  </tbody>\n",
       "</table>\n",
       "</div>"
      ],
      "text/plain": [
       "                g_0_t    g_1_t    g_2_t    g_3_t    g_4_t    g_5_t    g_6_t  \\\n",
       "sig_id                                                                        \n",
       "id_42215c7fd  0.41175  0.34360  0.86345  3.86219 -0.25946 -0.51286 -1.73248   \n",
       "id_dbf8478fa  0.72264  1.21329 -0.53749  0.04845 -0.22536 -1.37805 -0.58401   \n",
       "id_84a3d00c9 -0.24679 -0.40422 -0.46749  0.38444 -2.42535 -0.18871 -0.34036   \n",
       "id_4cf86d157 -0.39305  0.04521 -1.31761 -0.58849  0.09564  0.24584  0.14718   \n",
       "id_c5fddd133  0.11083  0.48504 -0.21530  0.06582  0.42720  0.33063  0.29688   \n",
       "\n",
       "                g_7_t    g_8_t    g_9_t   g_10_t  \n",
       "sig_id                                            \n",
       "id_42215c7fd -2.43975  0.53971  0.99766  1.88716  \n",
       "id_dbf8478fa  0.27267  0.95185  0.67996  0.22553  \n",
       "id_84a3d00c9  0.25205  0.65806  0.25501  0.24303  \n",
       "id_4cf86d157 -0.03360  0.13848  1.02250  0.20888  \n",
       "id_c5fddd133  0.54348  0.34426 -0.40017 -0.17602  "
      ]
     },
     "execution_count": 9,
     "metadata": {},
     "output_type": "execute_result"
    }
   ],
   "source": [
    "samp_df.head()"
   ]
  },
  {
   "cell_type": "code",
   "execution_count": 10,
   "metadata": {},
   "outputs": [
    {
     "name": "stdout",
     "output_type": "stream",
     "text": [
      "Column g_0_t mean is -0.025818099999999986 and std dev is 0.9590606397230838\n",
      "Column g_1_t mean is 0.03570359999999998 and std dev is 0.9144737145843488\n",
      "Column g_2_t mean is -0.0475556 and std dev is 1.043986633533498\n",
      "Column g_3_t mean is -0.12573319999999996 and std dev is 1.3390364950540468\n",
      "Column g_4_t mean is 0.09063029999999998 and std dev is 1.2144091202716238\n",
      "Column g_5_t mean is -0.09525360000000001 and std dev is 0.8647872955685739\n",
      "Column g_6_t mean is -0.04426179999999999 and std dev is 0.9160173368197257\n",
      "Column g_7_t mean is 0.042381600000000005 and std dev is 0.9212646113767704\n",
      "Column g_8_t mean is 0.1269368 and std dev is 0.9200405075918443\n",
      "Column g_9_t mean is -0.0758008 and std dev is 1.0050341786787576\n",
      "Column g_10_t mean is 0.08425149999999998 and std dev is 0.9683205954144463\n"
     ]
    }
   ],
   "source": [
    "for col in list(samp_df.columns):\n",
    "    print('Column',col,'mean is',samp_df[col].mean(),'and std dev is',samp_df[col].std())"
   ]
  },
  {
   "cell_type": "markdown",
   "metadata": {},
   "source": [
    "That looks good enough for the purpose."
   ]
  },
  {
   "cell_type": "code",
   "execution_count": null,
   "metadata": {},
   "outputs": [],
   "source": []
  }
 ],
 "metadata": {
  "kernelspec": {
   "display_name": "Python 3",
   "language": "python",
   "name": "python3"
  },
  "language_info": {
   "codemirror_mode": {
    "name": "ipython",
    "version": 3
   },
   "file_extension": ".py",
   "mimetype": "text/x-python",
   "name": "python",
   "nbconvert_exporter": "python",
   "pygments_lexer": "ipython3",
   "version": "3.8.5"
  }
 },
 "nbformat": 4,
 "nbformat_minor": 4
}

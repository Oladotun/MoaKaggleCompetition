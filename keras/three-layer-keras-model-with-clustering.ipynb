{
 "cells": [
  {
   "cell_type": "code",
   "execution_count": 1,
   "metadata": {},
   "outputs": [],
   "source": [
    "import numpy as np\n",
    "import pandas as pd\n",
    "from sklearn.preprocessing import StandardScaler, MinMaxScaler, OneHotEncoder"
   ]
  },
  {
   "cell_type": "code",
   "execution_count": 2,
   "metadata": {},
   "outputs": [],
   "source": [
    "import matplotlib.pyplot as plt\n",
    "import seaborn as sns\n",
    "%matplotlib inline\n",
    "sns.set()\n",
    "sns.set_style('whitegrid')"
   ]
  },
  {
   "cell_type": "code",
   "execution_count": 3,
   "metadata": {},
   "outputs": [],
   "source": [
    "import category_encoders as ce"
   ]
  },
  {
   "cell_type": "code",
   "execution_count": 4,
   "metadata": {},
   "outputs": [],
   "source": [
    "from sklearn.decomposition import PCA\n",
    "from sklearn.cluster import KMeans, MeanShift, DBSCAN, estimate_bandwidth"
   ]
  },
  {
   "cell_type": "code",
   "execution_count": 5,
   "metadata": {},
   "outputs": [],
   "source": [
    "from sklearn.model_selection import train_test_split"
   ]
  },
  {
   "cell_type": "code",
   "execution_count": 6,
   "metadata": {},
   "outputs": [],
   "source": [
    "import tensorflow as tf"
   ]
  },
  {
   "cell_type": "code",
   "execution_count": 7,
   "metadata": {},
   "outputs": [],
   "source": [
    "import keras\n",
    "from keras.models import Model\n",
    "import kerastuner"
   ]
  },
  {
   "cell_type": "code",
   "execution_count": 8,
   "metadata": {},
   "outputs": [],
   "source": [
    "from sklearn import metrics"
   ]
  },
  {
   "cell_type": "code",
   "execution_count": 9,
   "metadata": {},
   "outputs": [],
   "source": [
    "from keras.layers import Dense, Input, Dropout"
   ]
  },
  {
   "cell_type": "markdown",
   "metadata": {},
   "source": [
    "## Keras notebook with clustering added\n",
    "1. Plot PCA explained variance, pick a number of PCA dimensions to pass to NN.\n",
    "1. Visualize 2D PCA of this dataset.\n",
    "1. Conduct elbow and/or silhouette tests of the data reduced to various PCA dimensions.\n",
    "1. Select an optimal clustering algorithm and hyperparameters and number of PCA dimensions to cluster on, then cluster.\n",
    "1. Make cluster id a categorical feature, hot encode it.\n",
    "1. Pass PCA dimensions and cluster id to three layer NN.\n",
    "1. Tune the network & train up the best candidate."
   ]
  },
  {
   "cell_type": "code",
   "execution_count": 10,
   "metadata": {},
   "outputs": [],
   "source": [
    "tf_df = pd.read_csv('../train_features.csv',index_col='sig_id')\n",
    "tts_df = pd.read_csv('../train_targets_scored.csv',index_col='sig_id')\n",
    "tf_df['cp_type']=tf_df['cp_type'].astype('category')\n",
    "scaler = MinMaxScaler(feature_range=(-0.5,0.5))\n",
    "tf_df['cp_time']=scaler.fit_transform((np.array(tf_df['cp_time'])).reshape(-1,1))\n",
    "tf_df['cp_dose']=tf_df['cp_dose'].astype('category')\n",
    "transformer = StandardScaler()\n",
    "tf_df.loc[:,'g-0':'c-99']=transformer.fit_transform(tf_df.loc[:,'g-0':'c-99'])"
   ]
  },
  {
   "cell_type": "code",
   "execution_count": 11,
   "metadata": {},
   "outputs": [
    {
     "name": "stdout",
     "output_type": "stream",
     "text": [
      "['trt_cp', 'ctl_vehicle']\n",
      "Categories (2, object): ['trt_cp', 'ctl_vehicle'] ['D1', 'D2']\n",
      "Categories (2, object): ['D1', 'D2']\n"
     ]
    }
   ],
   "source": [
    "print(tf_df['cp_type'].unique(),tf_df['cp_dose'].unique())"
   ]
  },
  {
   "cell_type": "code",
   "execution_count": 12,
   "metadata": {},
   "outputs": [
    {
     "data": {
      "text/html": [
       "<div>\n",
       "<style scoped>\n",
       "    .dataframe tbody tr th:only-of-type {\n",
       "        vertical-align: middle;\n",
       "    }\n",
       "\n",
       "    .dataframe tbody tr th {\n",
       "        vertical-align: top;\n",
       "    }\n",
       "\n",
       "    .dataframe thead th {\n",
       "        text-align: right;\n",
       "    }\n",
       "</style>\n",
       "<table border=\"1\" class=\"dataframe\">\n",
       "  <thead>\n",
       "    <tr style=\"text-align: right;\">\n",
       "      <th></th>\n",
       "      <th>cp_type</th>\n",
       "      <th>cp_time</th>\n",
       "      <th>cp_dose</th>\n",
       "      <th>g-0</th>\n",
       "      <th>g-1</th>\n",
       "      <th>g-2</th>\n",
       "      <th>g-3</th>\n",
       "      <th>g-4</th>\n",
       "      <th>g-5</th>\n",
       "      <th>g-6</th>\n",
       "      <th>...</th>\n",
       "      <th>c-90</th>\n",
       "      <th>c-91</th>\n",
       "      <th>c-92</th>\n",
       "      <th>c-93</th>\n",
       "      <th>c-94</th>\n",
       "      <th>c-95</th>\n",
       "      <th>c-96</th>\n",
       "      <th>c-97</th>\n",
       "      <th>c-98</th>\n",
       "      <th>c-99</th>\n",
       "    </tr>\n",
       "    <tr>\n",
       "      <th>sig_id</th>\n",
       "      <th></th>\n",
       "      <th></th>\n",
       "      <th></th>\n",
       "      <th></th>\n",
       "      <th></th>\n",
       "      <th></th>\n",
       "      <th></th>\n",
       "      <th></th>\n",
       "      <th></th>\n",
       "      <th></th>\n",
       "      <th></th>\n",
       "      <th></th>\n",
       "      <th></th>\n",
       "      <th></th>\n",
       "      <th></th>\n",
       "      <th></th>\n",
       "      <th></th>\n",
       "      <th></th>\n",
       "      <th></th>\n",
       "      <th></th>\n",
       "      <th></th>\n",
       "    </tr>\n",
       "  </thead>\n",
       "  <tbody>\n",
       "    <tr>\n",
       "      <th>id_a21963499</th>\n",
       "      <td>1</td>\n",
       "      <td>0.0</td>\n",
       "      <td>1</td>\n",
       "      <td>-0.206526</td>\n",
       "      <td>-0.260500</td>\n",
       "      <td>-0.234577</td>\n",
       "      <td>0.023820</td>\n",
       "      <td>0.830616</td>\n",
       "      <td>0.166306</td>\n",
       "      <td>-0.370206</td>\n",
       "      <td>...</td>\n",
       "      <td>0.695367</td>\n",
       "      <td>0.165200</td>\n",
       "      <td>-0.015959</td>\n",
       "      <td>0.116723</td>\n",
       "      <td>0.453102</td>\n",
       "      <td>-0.292510</td>\n",
       "      <td>0.247070</td>\n",
       "      <td>-0.501156</td>\n",
       "      <td>0.385086</td>\n",
       "      <td>0.331493</td>\n",
       "    </tr>\n",
       "    <tr>\n",
       "      <th>id_e3bd8f784</th>\n",
       "      <td>1</td>\n",
       "      <td>-0.5</td>\n",
       "      <td>1</td>\n",
       "      <td>-0.239683</td>\n",
       "      <td>-1.264628</td>\n",
       "      <td>0.399674</td>\n",
       "      <td>-0.817977</td>\n",
       "      <td>0.123784</td>\n",
       "      <td>-0.394166</td>\n",
       "      <td>0.180693</td>\n",
       "      <td>...</td>\n",
       "      <td>-0.252822</td>\n",
       "      <td>0.251176</td>\n",
       "      <td>0.195415</td>\n",
       "      <td>-0.354929</td>\n",
       "      <td>0.045145</td>\n",
       "      <td>-0.276368</td>\n",
       "      <td>0.166038</td>\n",
       "      <td>0.199252</td>\n",
       "      <td>0.016543</td>\n",
       "      <td>0.243631</td>\n",
       "    </tr>\n",
       "    <tr>\n",
       "      <th>id_3a6b64518</th>\n",
       "      <td>1</td>\n",
       "      <td>0.5</td>\n",
       "      <td>1</td>\n",
       "      <td>-0.568239</td>\n",
       "      <td>0.097229</td>\n",
       "      <td>-1.023891</td>\n",
       "      <td>-0.955346</td>\n",
       "      <td>-0.127459</td>\n",
       "      <td>-1.936778</td>\n",
       "      <td>-1.723710</td>\n",
       "      <td>...</td>\n",
       "      <td>-1.567529</td>\n",
       "      <td>0.047351</td>\n",
       "      <td>-1.794872</td>\n",
       "      <td>-0.184740</td>\n",
       "      <td>-0.733445</td>\n",
       "      <td>-0.944771</td>\n",
       "      <td>-0.797461</td>\n",
       "      <td>0.174598</td>\n",
       "      <td>-1.065380</td>\n",
       "      <td>0.014067</td>\n",
       "    </tr>\n",
       "    <tr>\n",
       "      <th>id_484cbb788</th>\n",
       "      <td>1</td>\n",
       "      <td>-0.5</td>\n",
       "      <td>1</td>\n",
       "      <td>-0.844476</td>\n",
       "      <td>0.212205</td>\n",
       "      <td>-0.855600</td>\n",
       "      <td>-0.733660</td>\n",
       "      <td>-0.575297</td>\n",
       "      <td>-0.029562</td>\n",
       "      <td>0.797664</td>\n",
       "      <td>...</td>\n",
       "      <td>0.822439</td>\n",
       "      <td>0.298571</td>\n",
       "      <td>-0.527431</td>\n",
       "      <td>0.400626</td>\n",
       "      <td>0.372992</td>\n",
       "      <td>0.510310</td>\n",
       "      <td>0.072140</td>\n",
       "      <td>0.844834</td>\n",
       "      <td>0.330530</td>\n",
       "      <td>0.220192</td>\n",
       "    </tr>\n",
       "    <tr>\n",
       "      <th>id_bd44b33fd</th>\n",
       "      <td>1</td>\n",
       "      <td>0.0</td>\n",
       "      <td>1</td>\n",
       "      <td>-0.114447</td>\n",
       "      <td>0.228700</td>\n",
       "      <td>-0.444481</td>\n",
       "      <td>-0.253446</td>\n",
       "      <td>2.218507</td>\n",
       "      <td>0.156301</td>\n",
       "      <td>1.490339</td>\n",
       "      <td>...</td>\n",
       "      <td>0.363691</td>\n",
       "      <td>0.287995</td>\n",
       "      <td>0.483124</td>\n",
       "      <td>0.708305</td>\n",
       "      <td>0.540852</td>\n",
       "      <td>-0.304172</td>\n",
       "      <td>0.329461</td>\n",
       "      <td>0.507309</td>\n",
       "      <td>0.812220</td>\n",
       "      <td>0.783447</td>\n",
       "    </tr>\n",
       "  </tbody>\n",
       "</table>\n",
       "<p>5 rows × 875 columns</p>\n",
       "</div>"
      ],
      "text/plain": [
       "              cp_type  cp_time  cp_dose       g-0       g-1       g-2  \\\n",
       "sig_id                                                                  \n",
       "id_a21963499        1      0.0        1 -0.206526 -0.260500 -0.234577   \n",
       "id_e3bd8f784        1     -0.5        1 -0.239683 -1.264628  0.399674   \n",
       "id_3a6b64518        1      0.5        1 -0.568239  0.097229 -1.023891   \n",
       "id_484cbb788        1     -0.5        1 -0.844476  0.212205 -0.855600   \n",
       "id_bd44b33fd        1      0.0        1 -0.114447  0.228700 -0.444481   \n",
       "\n",
       "                   g-3       g-4       g-5       g-6  ...      c-90      c-91  \\\n",
       "sig_id                                                ...                       \n",
       "id_a21963499  0.023820  0.830616  0.166306 -0.370206  ...  0.695367  0.165200   \n",
       "id_e3bd8f784 -0.817977  0.123784 -0.394166  0.180693  ... -0.252822  0.251176   \n",
       "id_3a6b64518 -0.955346 -0.127459 -1.936778 -1.723710  ... -1.567529  0.047351   \n",
       "id_484cbb788 -0.733660 -0.575297 -0.029562  0.797664  ...  0.822439  0.298571   \n",
       "id_bd44b33fd -0.253446  2.218507  0.156301  1.490339  ...  0.363691  0.287995   \n",
       "\n",
       "                  c-92      c-93      c-94      c-95      c-96      c-97  \\\n",
       "sig_id                                                                     \n",
       "id_a21963499 -0.015959  0.116723  0.453102 -0.292510  0.247070 -0.501156   \n",
       "id_e3bd8f784  0.195415 -0.354929  0.045145 -0.276368  0.166038  0.199252   \n",
       "id_3a6b64518 -1.794872 -0.184740 -0.733445 -0.944771 -0.797461  0.174598   \n",
       "id_484cbb788 -0.527431  0.400626  0.372992  0.510310  0.072140  0.844834   \n",
       "id_bd44b33fd  0.483124  0.708305  0.540852 -0.304172  0.329461  0.507309   \n",
       "\n",
       "                  c-98      c-99  \n",
       "sig_id                            \n",
       "id_a21963499  0.385086  0.331493  \n",
       "id_e3bd8f784  0.016543  0.243631  \n",
       "id_3a6b64518 -1.065380  0.014067  \n",
       "id_484cbb788  0.330530  0.220192  \n",
       "id_bd44b33fd  0.812220  0.783447  \n",
       "\n",
       "[5 rows x 875 columns]"
      ]
     },
     "execution_count": 12,
     "metadata": {},
     "output_type": "execute_result"
    }
   ],
   "source": [
    "oenc = ce.ordinal.OrdinalEncoder()\n",
    "tf_df = oenc.fit_transform(tf_df)\n",
    "tf_df.sample(5)"
   ]
  },
  {
   "cell_type": "code",
   "execution_count": 13,
   "metadata": {},
   "outputs": [
    {
     "data": {
      "text/html": [
       "<div>\n",
       "<style scoped>\n",
       "    .dataframe tbody tr th:only-of-type {\n",
       "        vertical-align: middle;\n",
       "    }\n",
       "\n",
       "    .dataframe tbody tr th {\n",
       "        vertical-align: top;\n",
       "    }\n",
       "\n",
       "    .dataframe thead th {\n",
       "        text-align: right;\n",
       "    }\n",
       "</style>\n",
       "<table border=\"1\" class=\"dataframe\">\n",
       "  <thead>\n",
       "    <tr style=\"text-align: right;\">\n",
       "      <th></th>\n",
       "      <th>cp_type</th>\n",
       "      <th>cp_time</th>\n",
       "      <th>cp_dose</th>\n",
       "      <th>g-0</th>\n",
       "      <th>g-1</th>\n",
       "      <th>g-2</th>\n",
       "      <th>g-3</th>\n",
       "      <th>g-4</th>\n",
       "      <th>g-5</th>\n",
       "      <th>g-6</th>\n",
       "      <th>...</th>\n",
       "      <th>c-90</th>\n",
       "      <th>c-91</th>\n",
       "      <th>c-92</th>\n",
       "      <th>c-93</th>\n",
       "      <th>c-94</th>\n",
       "      <th>c-95</th>\n",
       "      <th>c-96</th>\n",
       "      <th>c-97</th>\n",
       "      <th>c-98</th>\n",
       "      <th>c-99</th>\n",
       "    </tr>\n",
       "    <tr>\n",
       "      <th>sig_id</th>\n",
       "      <th></th>\n",
       "      <th></th>\n",
       "      <th></th>\n",
       "      <th></th>\n",
       "      <th></th>\n",
       "      <th></th>\n",
       "      <th></th>\n",
       "      <th></th>\n",
       "      <th></th>\n",
       "      <th></th>\n",
       "      <th></th>\n",
       "      <th></th>\n",
       "      <th></th>\n",
       "      <th></th>\n",
       "      <th></th>\n",
       "      <th></th>\n",
       "      <th></th>\n",
       "      <th></th>\n",
       "      <th></th>\n",
       "      <th></th>\n",
       "      <th></th>\n",
       "    </tr>\n",
       "  </thead>\n",
       "  <tbody>\n",
       "    <tr>\n",
       "      <th>id_000644bb2</th>\n",
       "      <td>0</td>\n",
       "      <td>-0.5</td>\n",
       "      <td>0</td>\n",
       "      <td>0.583933</td>\n",
       "      <td>0.804317</td>\n",
       "      <td>-0.386357</td>\n",
       "      <td>-0.739765</td>\n",
       "      <td>-0.243924</td>\n",
       "      <td>-0.740369</td>\n",
       "      <td>-1.198991</td>\n",
       "      <td>...</td>\n",
       "      <td>0.377638</td>\n",
       "      <td>0.352428</td>\n",
       "      <td>0.659876</td>\n",
       "      <td>0.499484</td>\n",
       "      <td>0.146278</td>\n",
       "      <td>0.621219</td>\n",
       "      <td>0.031745</td>\n",
       "      <td>0.347587</td>\n",
       "      <td>0.463460</td>\n",
       "      <td>0.510769</td>\n",
       "    </tr>\n",
       "    <tr>\n",
       "      <th>id_000779bfc</th>\n",
       "      <td>0</td>\n",
       "      <td>0.5</td>\n",
       "      <td>0</td>\n",
       "      <td>-0.124925</td>\n",
       "      <td>0.620898</td>\n",
       "      <td>0.141784</td>\n",
       "      <td>-0.022707</td>\n",
       "      <td>0.931772</td>\n",
       "      <td>0.559230</td>\n",
       "      <td>0.224552</td>\n",
       "      <td>...</td>\n",
       "      <td>0.021367</td>\n",
       "      <td>0.595227</td>\n",
       "      <td>0.491617</td>\n",
       "      <td>0.248281</td>\n",
       "      <td>0.371742</td>\n",
       "      <td>0.517798</td>\n",
       "      <td>0.298922</td>\n",
       "      <td>0.294874</td>\n",
       "      <td>0.587507</td>\n",
       "      <td>0.737704</td>\n",
       "    </tr>\n",
       "    <tr>\n",
       "      <th>id_000a6266a</th>\n",
       "      <td>0</td>\n",
       "      <td>0.0</td>\n",
       "      <td>0</td>\n",
       "      <td>0.272457</td>\n",
       "      <td>0.833861</td>\n",
       "      <td>1.353417</td>\n",
       "      <td>-0.166708</td>\n",
       "      <td>-0.086861</td>\n",
       "      <td>1.168288</td>\n",
       "      <td>0.153607</td>\n",
       "      <td>...</td>\n",
       "      <td>-0.127850</td>\n",
       "      <td>-0.082397</td>\n",
       "      <td>0.561309</td>\n",
       "      <td>0.247948</td>\n",
       "      <td>-0.378278</td>\n",
       "      <td>0.022296</td>\n",
       "      <td>-0.086525</td>\n",
       "      <td>0.093651</td>\n",
       "      <td>-0.511093</td>\n",
       "      <td>0.706452</td>\n",
       "    </tr>\n",
       "    <tr>\n",
       "      <th>id_0015fd391</th>\n",
       "      <td>0</td>\n",
       "      <td>0.0</td>\n",
       "      <td>0</td>\n",
       "      <td>-0.546995</td>\n",
       "      <td>-0.188856</td>\n",
       "      <td>-0.403446</td>\n",
       "      <td>0.470350</td>\n",
       "      <td>3.880216</td>\n",
       "      <td>-0.568667</td>\n",
       "      <td>-2.260896</td>\n",
       "      <td>...</td>\n",
       "      <td>-0.814697</td>\n",
       "      <td>-0.089447</td>\n",
       "      <td>-2.556236</td>\n",
       "      <td>-0.416627</td>\n",
       "      <td>-0.164899</td>\n",
       "      <td>-0.573436</td>\n",
       "      <td>-0.561987</td>\n",
       "      <td>-0.293593</td>\n",
       "      <td>0.045047</td>\n",
       "      <td>-0.365011</td>\n",
       "    </tr>\n",
       "    <tr>\n",
       "      <th>id_001626bd3</th>\n",
       "      <td>0</td>\n",
       "      <td>0.5</td>\n",
       "      <td>1</td>\n",
       "      <td>-0.411783</td>\n",
       "      <td>-0.375722</td>\n",
       "      <td>0.789552</td>\n",
       "      <td>0.642035</td>\n",
       "      <td>1.318373</td>\n",
       "      <td>-0.581300</td>\n",
       "      <td>-0.358079</td>\n",
       "      <td>...</td>\n",
       "      <td>0.236669</td>\n",
       "      <td>0.228262</td>\n",
       "      <td>0.589635</td>\n",
       "      <td>0.744707</td>\n",
       "      <td>0.490563</td>\n",
       "      <td>0.031073</td>\n",
       "      <td>0.278143</td>\n",
       "      <td>0.391377</td>\n",
       "      <td>0.049952</td>\n",
       "      <td>0.720231</td>\n",
       "    </tr>\n",
       "  </tbody>\n",
       "</table>\n",
       "<p>5 rows × 875 columns</p>\n",
       "</div>"
      ],
      "text/plain": [
       "              cp_type  cp_time  cp_dose       g-0       g-1       g-2  \\\n",
       "sig_id                                                                  \n",
       "id_000644bb2        0     -0.5        0  0.583933  0.804317 -0.386357   \n",
       "id_000779bfc        0      0.5        0 -0.124925  0.620898  0.141784   \n",
       "id_000a6266a        0      0.0        0  0.272457  0.833861  1.353417   \n",
       "id_0015fd391        0      0.0        0 -0.546995 -0.188856 -0.403446   \n",
       "id_001626bd3        0      0.5        1 -0.411783 -0.375722  0.789552   \n",
       "\n",
       "                   g-3       g-4       g-5       g-6  ...      c-90      c-91  \\\n",
       "sig_id                                                ...                       \n",
       "id_000644bb2 -0.739765 -0.243924 -0.740369 -1.198991  ...  0.377638  0.352428   \n",
       "id_000779bfc -0.022707  0.931772  0.559230  0.224552  ...  0.021367  0.595227   \n",
       "id_000a6266a -0.166708 -0.086861  1.168288  0.153607  ... -0.127850 -0.082397   \n",
       "id_0015fd391  0.470350  3.880216 -0.568667 -2.260896  ... -0.814697 -0.089447   \n",
       "id_001626bd3  0.642035  1.318373 -0.581300 -0.358079  ...  0.236669  0.228262   \n",
       "\n",
       "                  c-92      c-93      c-94      c-95      c-96      c-97  \\\n",
       "sig_id                                                                     \n",
       "id_000644bb2  0.659876  0.499484  0.146278  0.621219  0.031745  0.347587   \n",
       "id_000779bfc  0.491617  0.248281  0.371742  0.517798  0.298922  0.294874   \n",
       "id_000a6266a  0.561309  0.247948 -0.378278  0.022296 -0.086525  0.093651   \n",
       "id_0015fd391 -2.556236 -0.416627 -0.164899 -0.573436 -0.561987 -0.293593   \n",
       "id_001626bd3  0.589635  0.744707  0.490563  0.031073  0.278143  0.391377   \n",
       "\n",
       "                  c-98      c-99  \n",
       "sig_id                            \n",
       "id_000644bb2  0.463460  0.510769  \n",
       "id_000779bfc  0.587507  0.737704  \n",
       "id_000a6266a -0.511093  0.706452  \n",
       "id_0015fd391  0.045047 -0.365011  \n",
       "id_001626bd3  0.049952  0.720231  \n",
       "\n",
       "[5 rows x 875 columns]"
      ]
     },
     "execution_count": 13,
     "metadata": {},
     "output_type": "execute_result"
    }
   ],
   "source": [
    "tf_df['cp_type']=tf_df['cp_type']-1\n",
    "tf_df['cp_dose']=tf_df['cp_dose']-1\n",
    "tf_df.head()"
   ]
  },
  {
   "cell_type": "markdown",
   "metadata": {},
   "source": [
    "1. Plot PCA explained variance."
   ]
  },
  {
   "cell_type": "code",
   "execution_count": 14,
   "metadata": {},
   "outputs": [
    {
     "data": {
      "image/png": "[encoded data removed]",
      "text/plain": [
       "<Figure size 432x288 with 1 Axes>"
      ]
     },
     "metadata": {},
     "output_type": "display_data"
    }
   ],
   "source": [
    "pca = PCA()\n",
    "pca_df = pd.DataFrame(pca.fit_transform(tf_df),index=tf_df.index)\n",
    "var_explain = np.cumsum(pca.explained_variance_ratio_)\n",
    "plt.plot(var_explain)\n",
    "plt.show()"
   ]
  },
  {
   "cell_type": "markdown",
   "metadata": {},
   "source": [
    "1. Pick a number of PCA dimension to pass as NN inputs:"
   ]
  },
  {
   "cell_type": "code",
   "execution_count": 15,
   "metadata": {},
   "outputs": [
    {
     "data": {
      "text/plain": [
       "array([0.28775034, 0.32782045, 0.36001795, 0.38915401, 0.41040127,\n",
       "       0.43118162, 0.44850562, 0.46499128, 0.47759148, 0.48873435,\n",
       "       0.4990097 , 0.50816347, 0.51619619, 0.52375074, 0.53113156,\n",
       "       0.5382704 , 0.54462608, 0.55056391, 0.55589954, 0.56097575,\n",
       "       0.56532816, 0.56965964, 0.5737198 , 0.5775231 , 0.58112902,\n",
       "       0.58458155, 0.58797941, 0.59125316, 0.59438609, 0.59741847])"
      ]
     },
     "execution_count": 15,
     "metadata": {},
     "output_type": "execute_result"
    }
   ],
   "source": [
    "var_explain[var_explain<0.6]"
   ]
  },
  {
   "cell_type": "markdown",
   "metadata": {},
   "source": [
    "Thirty is a surprisingly tractable number."
   ]
  },
  {
   "cell_type": "code",
   "execution_count": 16,
   "metadata": {},
   "outputs": [
    {
     "data": {
      "text/html": [
       "<div>\n",
       "<style scoped>\n",
       "    .dataframe tbody tr th:only-of-type {\n",
       "        vertical-align: middle;\n",
       "    }\n",
       "\n",
       "    .dataframe tbody tr th {\n",
       "        vertical-align: top;\n",
       "    }\n",
       "\n",
       "    .dataframe thead th {\n",
       "        text-align: right;\n",
       "    }\n",
       "</style>\n",
       "<table border=\"1\" class=\"dataframe\">\n",
       "  <thead>\n",
       "    <tr style=\"text-align: right;\">\n",
       "      <th></th>\n",
       "      <th>0</th>\n",
       "      <th>1</th>\n",
       "      <th>2</th>\n",
       "      <th>3</th>\n",
       "      <th>4</th>\n",
       "      <th>5</th>\n",
       "      <th>6</th>\n",
       "      <th>7</th>\n",
       "      <th>8</th>\n",
       "      <th>9</th>\n",
       "      <th>...</th>\n",
       "      <th>865</th>\n",
       "      <th>866</th>\n",
       "      <th>867</th>\n",
       "      <th>868</th>\n",
       "      <th>869</th>\n",
       "      <th>870</th>\n",
       "      <th>871</th>\n",
       "      <th>872</th>\n",
       "      <th>873</th>\n",
       "      <th>874</th>\n",
       "    </tr>\n",
       "    <tr>\n",
       "      <th>sig_id</th>\n",
       "      <th></th>\n",
       "      <th></th>\n",
       "      <th></th>\n",
       "      <th></th>\n",
       "      <th></th>\n",
       "      <th></th>\n",
       "      <th></th>\n",
       "      <th></th>\n",
       "      <th></th>\n",
       "      <th></th>\n",
       "      <th></th>\n",
       "      <th></th>\n",
       "      <th></th>\n",
       "      <th></th>\n",
       "      <th></th>\n",
       "      <th></th>\n",
       "      <th></th>\n",
       "      <th></th>\n",
       "      <th></th>\n",
       "      <th></th>\n",
       "      <th></th>\n",
       "    </tr>\n",
       "  </thead>\n",
       "  <tbody>\n",
       "    <tr>\n",
       "      <th>id_000644bb2</th>\n",
       "      <td>-7.107259</td>\n",
       "      <td>-1.168778</td>\n",
       "      <td>-0.310614</td>\n",
       "      <td>7.708409</td>\n",
       "      <td>-4.206789</td>\n",
       "      <td>-2.876220</td>\n",
       "      <td>2.219229</td>\n",
       "      <td>3.733861</td>\n",
       "      <td>-2.235870</td>\n",
       "      <td>-1.567758</td>\n",
       "      <td>...</td>\n",
       "      <td>-0.084736</td>\n",
       "      <td>-0.026212</td>\n",
       "      <td>0.031605</td>\n",
       "      <td>-0.263764</td>\n",
       "      <td>-0.086280</td>\n",
       "      <td>-0.098859</td>\n",
       "      <td>-0.105082</td>\n",
       "      <td>0.025546</td>\n",
       "      <td>-0.127693</td>\n",
       "      <td>0.157130</td>\n",
       "    </tr>\n",
       "    <tr>\n",
       "      <th>id_000779bfc</th>\n",
       "      <td>-6.361546</td>\n",
       "      <td>3.714502</td>\n",
       "      <td>7.178185</td>\n",
       "      <td>-4.380409</td>\n",
       "      <td>3.715265</td>\n",
       "      <td>3.302999</td>\n",
       "      <td>1.701060</td>\n",
       "      <td>0.001956</td>\n",
       "      <td>0.150894</td>\n",
       "      <td>1.241798</td>\n",
       "      <td>...</td>\n",
       "      <td>0.173947</td>\n",
       "      <td>-0.148990</td>\n",
       "      <td>0.103297</td>\n",
       "      <td>-0.281370</td>\n",
       "      <td>-0.210922</td>\n",
       "      <td>0.142719</td>\n",
       "      <td>-0.128665</td>\n",
       "      <td>0.015662</td>\n",
       "      <td>-0.100796</td>\n",
       "      <td>-0.173679</td>\n",
       "    </tr>\n",
       "    <tr>\n",
       "      <th>id_000a6266a</th>\n",
       "      <td>-1.731815</td>\n",
       "      <td>2.388899</td>\n",
       "      <td>-3.213443</td>\n",
       "      <td>-5.197731</td>\n",
       "      <td>0.391750</td>\n",
       "      <td>-1.006098</td>\n",
       "      <td>1.554354</td>\n",
       "      <td>-2.843535</td>\n",
       "      <td>0.268474</td>\n",
       "      <td>-3.741226</td>\n",
       "      <td>...</td>\n",
       "      <td>-0.167156</td>\n",
       "      <td>0.017084</td>\n",
       "      <td>0.165514</td>\n",
       "      <td>-0.069780</td>\n",
       "      <td>-0.144941</td>\n",
       "      <td>0.343237</td>\n",
       "      <td>-0.026656</td>\n",
       "      <td>0.052571</td>\n",
       "      <td>-0.037894</td>\n",
       "      <td>0.029508</td>\n",
       "    </tr>\n",
       "    <tr>\n",
       "      <th>id_0015fd391</th>\n",
       "      <td>9.183812</td>\n",
       "      <td>-2.753994</td>\n",
       "      <td>-5.093871</td>\n",
       "      <td>-8.610308</td>\n",
       "      <td>-4.969259</td>\n",
       "      <td>-6.347330</td>\n",
       "      <td>1.799940</td>\n",
       "      <td>-6.918809</td>\n",
       "      <td>-0.713619</td>\n",
       "      <td>4.037423</td>\n",
       "      <td>...</td>\n",
       "      <td>0.119759</td>\n",
       "      <td>-0.337072</td>\n",
       "      <td>0.247771</td>\n",
       "      <td>-0.249129</td>\n",
       "      <td>-0.185941</td>\n",
       "      <td>-0.461194</td>\n",
       "      <td>-0.197853</td>\n",
       "      <td>0.209215</td>\n",
       "      <td>0.192482</td>\n",
       "      <td>0.067413</td>\n",
       "    </tr>\n",
       "    <tr>\n",
       "      <th>id_001626bd3</th>\n",
       "      <td>-6.472174</td>\n",
       "      <td>1.019788</td>\n",
       "      <td>4.140000</td>\n",
       "      <td>-8.496081</td>\n",
       "      <td>-3.039038</td>\n",
       "      <td>-2.312408</td>\n",
       "      <td>-0.923099</td>\n",
       "      <td>0.415253</td>\n",
       "      <td>6.733137</td>\n",
       "      <td>4.569647</td>\n",
       "      <td>...</td>\n",
       "      <td>-0.301818</td>\n",
       "      <td>-0.322237</td>\n",
       "      <td>0.228351</td>\n",
       "      <td>0.021456</td>\n",
       "      <td>-0.265926</td>\n",
       "      <td>0.164691</td>\n",
       "      <td>-0.063793</td>\n",
       "      <td>0.038360</td>\n",
       "      <td>0.059974</td>\n",
       "      <td>0.017034</td>\n",
       "    </tr>\n",
       "  </tbody>\n",
       "</table>\n",
       "<p>5 rows × 875 columns</p>\n",
       "</div>"
      ],
      "text/plain": [
       "                   0         1         2         3         4         5    \\\n",
       "sig_id                                                                     \n",
       "id_000644bb2 -7.107259 -1.168778 -0.310614  7.708409 -4.206789 -2.876220   \n",
       "id_000779bfc -6.361546  3.714502  7.178185 -4.380409  3.715265  3.302999   \n",
       "id_000a6266a -1.731815  2.388899 -3.213443 -5.197731  0.391750 -1.006098   \n",
       "id_0015fd391  9.183812 -2.753994 -5.093871 -8.610308 -4.969259 -6.347330   \n",
       "id_001626bd3 -6.472174  1.019788  4.140000 -8.496081 -3.039038 -2.312408   \n",
       "\n",
       "                   6         7         8         9    ...       865       866  \\\n",
       "sig_id                                                ...                       \n",
       "id_000644bb2  2.219229  3.733861 -2.235870 -1.567758  ... -0.084736 -0.026212   \n",
       "id_000779bfc  1.701060  0.001956  0.150894  1.241798  ...  0.173947 -0.148990   \n",
       "id_000a6266a  1.554354 -2.843535  0.268474 -3.741226  ... -0.167156  0.017084   \n",
       "id_0015fd391  1.799940 -6.918809 -0.713619  4.037423  ...  0.119759 -0.337072   \n",
       "id_001626bd3 -0.923099  0.415253  6.733137  4.569647  ... -0.301818 -0.322237   \n",
       "\n",
       "                   867       868       869       870       871       872  \\\n",
       "sig_id                                                                     \n",
       "id_000644bb2  0.031605 -0.263764 -0.086280 -0.098859 -0.105082  0.025546   \n",
       "id_000779bfc  0.103297 -0.281370 -0.210922  0.142719 -0.128665  0.015662   \n",
       "id_000a6266a  0.165514 -0.069780 -0.144941  0.343237 -0.026656  0.052571   \n",
       "id_0015fd391  0.247771 -0.249129 -0.185941 -0.461194 -0.197853  0.209215   \n",
       "id_001626bd3  0.228351  0.021456 -0.265926  0.164691 -0.063793  0.038360   \n",
       "\n",
       "                   873       874  \n",
       "sig_id                            \n",
       "id_000644bb2 -0.127693  0.157130  \n",
       "id_000779bfc -0.100796 -0.173679  \n",
       "id_000a6266a -0.037894  0.029508  \n",
       "id_0015fd391  0.192482  0.067413  \n",
       "id_001626bd3  0.059974  0.017034  \n",
       "\n",
       "[5 rows x 875 columns]"
      ]
     },
     "execution_count": 16,
     "metadata": {},
     "output_type": "execute_result"
    }
   ],
   "source": [
    "pca_df.head()"
   ]
  },
  {
   "cell_type": "code",
   "execution_count": 17,
   "metadata": {},
   "outputs": [
    {
     "data": {
      "text/plain": [
       "RangeIndex(start=0, stop=875, step=1)"
      ]
     },
     "execution_count": 17,
     "metadata": {},
     "output_type": "execute_result"
    }
   ],
   "source": [
    "pca_df.columns"
   ]
  },
  {
   "cell_type": "markdown",
   "metadata": {},
   "source": [
    "2. Visualize 2D PCA of this dataset."
   ]
  },
  {
   "cell_type": "code",
   "execution_count": 18,
   "metadata": {},
   "outputs": [
    {
     "data": {
      "text/plain": [
       "<AxesSubplot:xlabel='0', ylabel='1'>"
      ]
     },
     "execution_count": 18,
     "metadata": {},
     "output_type": "execute_result"
    },
    {
     "data": {
      "image/png": "[encoded data removed]",
      "text/plain": [
       "<Figure size 432x288 with 1 Axes>"
      ]
     },
     "metadata": {},
     "output_type": "display_data"
    }
   ],
   "source": [
    "sns.scatterplot(x=pca_df[0],y=pca_df[1])"
   ]
  },
  {
   "cell_type": "markdown",
   "metadata": {},
   "source": [
    "Hrmmmm... there might even be some clusters in that.\n",
    "\n",
    "It seems to me that I should check the total range of the first several PCA columns and then shrink them to be proportional to the amount of variation those dimensions explain. I don't have any theoretical justification for this; it just sounds reasonable."
   ]
  },
  {
   "cell_type": "code",
   "execution_count": 19,
   "metadata": {},
   "outputs": [
    {
     "name": "stdout",
     "output_type": "stream",
     "text": [
      "0   -13.264071\n",
      "1   -39.080326\n",
      "2   -27.349713\n",
      "3   -36.893205\n",
      "4   -24.195581\n",
      "5   -24.178498\n",
      "6   -35.158631\n",
      "dtype: float64 \n",
      " 0    97.329572\n",
      "1    43.987695\n",
      "2    41.765544\n",
      "3    42.829925\n",
      "4    31.531683\n",
      "5    32.382433\n",
      "6    45.266259\n",
      "dtype: float64\n"
     ]
    }
   ],
   "source": [
    "print(pca_df.loc[:,0:6].min(),'\\n',pca_df.loc[:,0:6].max())"
   ]
  },
  {
   "cell_type": "code",
   "execution_count": 20,
   "metadata": {},
   "outputs": [
    {
     "data": {
      "text/plain": [
       "0    110.593643\n",
       "1     83.068021\n",
       "2     69.115257\n",
       "3     79.723130\n",
       "4     55.727264\n",
       "5     56.560931\n",
       "6     80.424890\n",
       "dtype: float64"
      ]
     },
     "execution_count": 20,
     "metadata": {},
     "output_type": "execute_result"
    }
   ],
   "source": [
    "ranges = pca_df.loc[:,0:6].max()-pca_df.loc[:,0:6].min()\n",
    "ranges"
   ]
  },
  {
   "cell_type": "markdown",
   "metadata": {},
   "source": [
    "They definitely do not taper evenly."
   ]
  },
  {
   "cell_type": "code",
   "execution_count": 15,
   "metadata": {},
   "outputs": [
    {
     "data": {
      "text/plain": [
       "array([100.        ,  13.92530325,  11.18938767,  10.12546597,\n",
       "         7.3839208 ,   7.22165958])"
      ]
     },
     "execution_count": 15,
     "metadata": {},
     "output_type": "execute_result"
    }
   ],
   "source": [
    "variances = pca.explained_variance_ratio_\n",
    "top_var = variances[0]\n",
    "scaled_variances = variances * 100 / top_var\n",
    "scaled_variances[0:6]"
   ]
  },
  {
   "cell_type": "code",
   "execution_count": 22,
   "metadata": {},
   "outputs": [
    {
     "name": "stdout",
     "output_type": "stream",
     "text": [
      "0   -13.264071\n",
      "1   -39.080326\n",
      "2   -27.349713\n",
      "3   -36.893205\n",
      "4   -24.195581\n",
      "5   -24.178498\n",
      "6   -35.158631\n",
      "dtype: float64 \n",
      " 0    97.329572\n",
      "1    43.987695\n",
      "2    41.765544\n",
      "3    42.829925\n",
      "4    31.531683\n",
      "5    32.382433\n",
      "6    45.266259\n",
      "dtype: float64\n"
     ]
    },
    {
     "data": {
      "text/plain": [
       "0    110.593643\n",
       "1     83.068021\n",
       "2     69.115257\n",
       "3     79.723130\n",
       "4     55.727264\n",
       "5     56.560931\n",
       "6     80.424890\n",
       "dtype: float64"
      ]
     },
     "execution_count": 22,
     "metadata": {},
     "output_type": "execute_result"
    }
   ],
   "source": [
    "print(pca_df.loc[:,0:6].min(),'\\n',pca_df.loc[:,0:6].max())\n",
    "pca_df.loc[:,0:6].max()-pca_df.loc[:,0:6].min()"
   ]
  },
  {
   "cell_type": "code",
   "execution_count": 16,
   "metadata": {},
   "outputs": [
    {
     "ename": "NameError",
     "evalue": "name 'ranges' is not defined",
     "output_type": "error",
     "traceback": [
      "\u001b[0;31m---------------------------------------------------------------------------\u001b[0m",
      "\u001b[0;31mNameError\u001b[0m                                 Traceback (most recent call last)",
      "\u001b[0;32m<ipython-input-16-958c16141d77>\u001b[0m in \u001b[0;36m<module>\u001b[0;34m\u001b[0m\n\u001b[1;32m      1\u001b[0m \u001b[0mscaled_pca6\u001b[0m \u001b[0;34m=\u001b[0m \u001b[0mpca_df\u001b[0m\u001b[0;34m.\u001b[0m\u001b[0mloc\u001b[0m\u001b[0;34m[\u001b[0m\u001b[0;34m:\u001b[0m\u001b[0;34m,\u001b[0m\u001b[0;36m0\u001b[0m\u001b[0;34m:\u001b[0m\u001b[0;36m6\u001b[0m\u001b[0;34m]\u001b[0m\u001b[0;34m.\u001b[0m\u001b[0mcopy\u001b[0m\u001b[0;34m(\u001b[0m\u001b[0;34m)\u001b[0m\u001b[0;34m\u001b[0m\u001b[0;34m\u001b[0m\u001b[0m\n\u001b[1;32m      2\u001b[0m \u001b[0;32mfor\u001b[0m \u001b[0mcol\u001b[0m \u001b[0;32min\u001b[0m \u001b[0mrange\u001b[0m\u001b[0;34m(\u001b[0m\u001b[0;36m6\u001b[0m\u001b[0;34m)\u001b[0m\u001b[0;34m:\u001b[0m\u001b[0;34m\u001b[0m\u001b[0;34m\u001b[0m\u001b[0m\n\u001b[0;32m----> 3\u001b[0;31m     \u001b[0mscaled_pca6\u001b[0m\u001b[0;34m.\u001b[0m\u001b[0mloc\u001b[0m\u001b[0;34m[\u001b[0m\u001b[0;34m:\u001b[0m\u001b[0;34m,\u001b[0m\u001b[0mcol\u001b[0m\u001b[0;34m]\u001b[0m \u001b[0;34m=\u001b[0m \u001b[0mscaled_pca6\u001b[0m\u001b[0;34m.\u001b[0m\u001b[0mloc\u001b[0m\u001b[0;34m[\u001b[0m\u001b[0;34m:\u001b[0m\u001b[0;34m,\u001b[0m\u001b[0mcol\u001b[0m\u001b[0;34m]\u001b[0m \u001b[0;34m*\u001b[0m \u001b[0mscaled_variances\u001b[0m\u001b[0;34m[\u001b[0m\u001b[0mcol\u001b[0m\u001b[0;34m]\u001b[0m \u001b[0;34m/\u001b[0m \u001b[0mranges\u001b[0m\u001b[0;34m[\u001b[0m\u001b[0mcol\u001b[0m\u001b[0;34m]\u001b[0m\u001b[0;34m\u001b[0m\u001b[0;34m\u001b[0m\u001b[0m\n\u001b[0m\u001b[1;32m      4\u001b[0m \u001b[0mprint\u001b[0m\u001b[0;34m(\u001b[0m\u001b[0mscaled_pca6\u001b[0m\u001b[0;34m.\u001b[0m\u001b[0mloc\u001b[0m\u001b[0;34m[\u001b[0m\u001b[0;34m:\u001b[0m\u001b[0;34m,\u001b[0m\u001b[0;36m0\u001b[0m\u001b[0;34m:\u001b[0m\u001b[0;36m6\u001b[0m\u001b[0;34m]\u001b[0m\u001b[0;34m.\u001b[0m\u001b[0mmin\u001b[0m\u001b[0;34m(\u001b[0m\u001b[0;34m)\u001b[0m\u001b[0;34m,\u001b[0m\u001b[0;34m'\\n'\u001b[0m\u001b[0;34m,\u001b[0m\u001b[0mscaled_pca6\u001b[0m\u001b[0;34m.\u001b[0m\u001b[0mloc\u001b[0m\u001b[0;34m[\u001b[0m\u001b[0;34m:\u001b[0m\u001b[0;34m,\u001b[0m\u001b[0;36m0\u001b[0m\u001b[0;34m:\u001b[0m\u001b[0;36m6\u001b[0m\u001b[0;34m]\u001b[0m\u001b[0;34m.\u001b[0m\u001b[0mmax\u001b[0m\u001b[0;34m(\u001b[0m\u001b[0;34m)\u001b[0m\u001b[0;34m)\u001b[0m\u001b[0;34m\u001b[0m\u001b[0;34m\u001b[0m\u001b[0m\n\u001b[1;32m      5\u001b[0m \u001b[0mscaled_pca6\u001b[0m\u001b[0;34m.\u001b[0m\u001b[0mloc\u001b[0m\u001b[0;34m[\u001b[0m\u001b[0;34m:\u001b[0m\u001b[0;34m,\u001b[0m\u001b[0;36m0\u001b[0m\u001b[0;34m:\u001b[0m\u001b[0;36m6\u001b[0m\u001b[0;34m]\u001b[0m\u001b[0;34m.\u001b[0m\u001b[0mmax\u001b[0m\u001b[0;34m(\u001b[0m\u001b[0;34m)\u001b[0m\u001b[0;34m-\u001b[0m\u001b[0mscaled_pca6\u001b[0m\u001b[0;34m.\u001b[0m\u001b[0mloc\u001b[0m\u001b[0;34m[\u001b[0m\u001b[0;34m:\u001b[0m\u001b[0;34m,\u001b[0m\u001b[0;36m0\u001b[0m\u001b[0;34m:\u001b[0m\u001b[0;36m6\u001b[0m\u001b[0;34m]\u001b[0m\u001b[0;34m.\u001b[0m\u001b[0mmin\u001b[0m\u001b[0;34m(\u001b[0m\u001b[0;34m)\u001b[0m\u001b[0;34m\u001b[0m\u001b[0;34m\u001b[0m\u001b[0m\n",
      "\u001b[0;31mNameError\u001b[0m: name 'ranges' is not defined"
     ]
    }
   ],
   "source": [
    "scaled_pca6 = pca_df.loc[:,0:6].copy()\n",
    "for col in range(6):\n",
    "    scaled_pca6.loc[:,col] = scaled_pca6.loc[:,col] * scaled_variances[col] / ranges[col]\n",
    "print(scaled_pca6.loc[:,0:6].min(),'\\n',scaled_pca6.loc[:,0:6].max())\n",
    "scaled_pca6.loc[:,0:6].max()-scaled_pca6.loc[:,0:6].min()"
   ]
  },
  {
   "cell_type": "markdown",
   "metadata": {},
   "source": [
    "3. Conduct elbow and/or silhouette tests of the data reduced to various PCA dimensions. (I semi-intentionally picked a maximum of 6.)\n",
    "\n",
    "This calls for a gridsearch loop:\n",
    "* Loop over dimensions 1 to 6\n",
    "    * Loop over k = 1 to 10\n",
    "        * KMeans\n",
    "        * save scores and silhouette_scores\n",
    "    * plot scores and silhouette_scores\n",
    "    * DBSCAN, defaults\n",
    "        * save score and silhouette_score\n",
    "    * MeanShift, defaults\n",
    "        * save score and silhouette_score\n",
    "* Plot DBSCAN and MeanShift results"
   ]
  },
  {
   "cell_type": "code",
   "execution_count": null,
   "metadata": {},
   "outputs": [],
   "source": [
    "del scaled_pca6[6]\n",
    "scaled_pca6.head()"
   ]
  },
  {
   "cell_type": "code",
   "execution_count": 29,
   "metadata": {},
   "outputs": [],
   "source": [
    "def plot_sil_scores(pca_input):\n",
    "    k_sils = []\n",
    "    d_sils = []\n",
    "    m_sils = []\n",
    "    for dim in range(1,6):\n",
    "        k_sils.append([])\n",
    "        data = pca_input.loc[:,0:dim-1].copy()\n",
    "        for k in range(2,11):\n",
    "            model = KMeans(n_clusters=k)\n",
    "            model.fit(data)\n",
    "            labels = model.labels_\n",
    "            k_sils[dim-1].append(metrics.silhouette_score(data,labels))\n",
    "        k_df = pd.DataFrame(k_sils,index=[f'd{i+1}' for i in range(len(k_sils))],\n",
    "            columns=[f'k={k+2}' for k in range(len(k_sils[0]))]).T\n",
    "        plt.title(f'KMeans in {dim} PCA dimensions')\n",
    "        for col in list(k_df.columns):\n",
    "            sns.scatterplot(x=range(2,11),y=k_df[col])\n",
    "        plt.legend()\n",
    "        plt.show()\n",
    "        db = DBSCAN()\n",
    "        db.fit(data)\n",
    "        labels = db.labels_\n",
    "        d_sils.append(metrics.silhouette_score(data,labels))\n",
    "        ms = MeanShift()\n",
    "        ms.fit(data)\n",
    "        labels = ms.labels_\n",
    "        m_sils.append(metrics.silhouette_score(data,labels))\n",
    "    plt.title('DBSCAN results for varying PCA dimensions')\n",
    "    sns.scatterplot(x=range(1,6),y=d_sils)\n",
    "    plt.legend()\n",
    "    plt.show()\n",
    "    plt.title('Mean Shift results for varying PCA dimensions')\n",
    "    sns.scatterplot(x=range(1,6),y=m_sils)\n",
    "    plt.legend()\n",
    "    plt.show()\n",
    "    return k_sils, d_sils, m_sils"
   ]
  },
  {
   "cell_type": "code",
   "execution_count": 30,
   "metadata": {},
   "outputs": [
    {
     "name": "stderr",
     "output_type": "stream",
     "text": [
      "No handles with labels found to put in legend.\n"
     ]
    },
    {
     "data": {
      "image/png": "[encoded data removed]",
      "text/plain": [
       "<Figure size 432x288 with 1 Axes>"
      ]
     },
     "metadata": {},
     "output_type": "display_data"
    },
    {
     "name": "stderr",
     "output_type": "stream",
     "text": [
      "No handles with labels found to put in legend.\n"
     ]
    },
    {
     "data": {
      "image/png": "[encoded data removed]",
      "text/plain": [
       "<Figure size 432x288 with 1 Axes>"
      ]
     },
     "metadata": {},
     "output_type": "display_data"
    },
    {
     "name": "stderr",
     "output_type": "stream",
     "text": [
      "No handles with labels found to put in legend.\n"
     ]
    },
    {
     "data": {
      "image/png": "[encoded data removed]",
      "text/plain": [
       "<Figure size 432x288 with 1 Axes>"
      ]
     },
     "metadata": {},
     "output_type": "display_data"
    },
    {
     "name": "stderr",
     "output_type": "stream",
     "text": [
      "No handles with labels found to put in legend.\n"
     ]
    },
    {
     "data": {
      "image/png": "[encoded data removed]",
      "text/plain": [
       "<Figure size 432x288 with 1 Axes>"
      ]
     },
     "metadata": {},
     "output_type": "display_data"
    },
    {
     "name": "stderr",
     "output_type": "stream",
     "text": [
      "No handles with labels found to put in legend.\n"
     ]
    },
    {
     "data": {
      "image/png": "[encoded data removed]",
      "text/plain": [
       "<Figure size 432x288 with 1 Axes>"
      ]
     },
     "metadata": {},
     "output_type": "display_data"
    },
    {
     "name": "stderr",
     "output_type": "stream",
     "text": [
      "No handles with labels found to put in legend.\n"
     ]
    },
    {
     "data": {
      "image/png": "[encoded data removed]",
      "text/plain": [
       "<Figure size 432x288 with 1 Axes>"
      ]
     },
     "metadata": {},
     "output_type": "display_data"
    },
    {
     "name": "stderr",
     "output_type": "stream",
     "text": [
      "No handles with labels found to put in legend.\n"
     ]
    },
    {
     "data": {
      "image/png": "[encoded data removed]",
      "text/plain": [
       "<Figure size 432x288 with 1 Axes>"
      ]
     },
     "metadata": {},
     "output_type": "display_data"
    }
   ],
   "source": [
    "k_sils, d_sils, m_sils = plot_sil_scores(scaled_pca6)"
   ]
  },
  {
   "cell_type": "code",
   "execution_count": 31,
   "metadata": {},
   "outputs": [
    {
     "data": {
      "text/html": [
       "<div>\n",
       "<style scoped>\n",
       "    .dataframe tbody tr th:only-of-type {\n",
       "        vertical-align: middle;\n",
       "    }\n",
       "\n",
       "    .dataframe tbody tr th {\n",
       "        vertical-align: top;\n",
       "    }\n",
       "\n",
       "    .dataframe thead th {\n",
       "        text-align: right;\n",
       "    }\n",
       "</style>\n",
       "<table border=\"1\" class=\"dataframe\">\n",
       "  <thead>\n",
       "    <tr style=\"text-align: right;\">\n",
       "      <th></th>\n",
       "      <th>d1</th>\n",
       "      <th>d2</th>\n",
       "      <th>d3</th>\n",
       "      <th>d4</th>\n",
       "      <th>d5</th>\n",
       "    </tr>\n",
       "  </thead>\n",
       "  <tbody>\n",
       "    <tr>\n",
       "      <th>k=2</th>\n",
       "      <td>0.907701</td>\n",
       "      <td>0.905620</td>\n",
       "      <td>0.901629</td>\n",
       "      <td>0.899602</td>\n",
       "      <td>0.898656</td>\n",
       "    </tr>\n",
       "    <tr>\n",
       "      <th>k=3</th>\n",
       "      <td>0.840075</td>\n",
       "      <td>0.835749</td>\n",
       "      <td>0.824947</td>\n",
       "      <td>0.820743</td>\n",
       "      <td>0.818225</td>\n",
       "    </tr>\n",
       "    <tr>\n",
       "      <th>k=4</th>\n",
       "      <td>0.798806</td>\n",
       "      <td>0.792007</td>\n",
       "      <td>0.776689</td>\n",
       "      <td>0.768718</td>\n",
       "      <td>0.765935</td>\n",
       "    </tr>\n",
       "    <tr>\n",
       "      <th>k=5</th>\n",
       "      <td>0.717975</td>\n",
       "      <td>0.696095</td>\n",
       "      <td>0.668389</td>\n",
       "      <td>0.654706</td>\n",
       "      <td>0.650776</td>\n",
       "    </tr>\n",
       "    <tr>\n",
       "      <th>k=6</th>\n",
       "      <td>0.535339</td>\n",
       "      <td>0.508561</td>\n",
       "      <td>0.451603</td>\n",
       "      <td>0.423260</td>\n",
       "      <td>0.412728</td>\n",
       "    </tr>\n",
       "    <tr>\n",
       "      <th>k=7</th>\n",
       "      <td>0.533575</td>\n",
       "      <td>0.497871</td>\n",
       "      <td>0.433898</td>\n",
       "      <td>0.403568</td>\n",
       "      <td>0.384955</td>\n",
       "    </tr>\n",
       "    <tr>\n",
       "      <th>k=8</th>\n",
       "      <td>0.532047</td>\n",
       "      <td>0.495445</td>\n",
       "      <td>0.424944</td>\n",
       "      <td>0.393533</td>\n",
       "      <td>0.381073</td>\n",
       "    </tr>\n",
       "    <tr>\n",
       "      <th>k=9</th>\n",
       "      <td>0.525096</td>\n",
       "      <td>0.479661</td>\n",
       "      <td>0.392397</td>\n",
       "      <td>0.358474</td>\n",
       "      <td>0.341308</td>\n",
       "    </tr>\n",
       "    <tr>\n",
       "      <th>k=10</th>\n",
       "      <td>0.524647</td>\n",
       "      <td>0.476193</td>\n",
       "      <td>0.385195</td>\n",
       "      <td>0.354258</td>\n",
       "      <td>0.336414</td>\n",
       "    </tr>\n",
       "  </tbody>\n",
       "</table>\n",
       "</div>"
      ],
      "text/plain": [
       "            d1        d2        d3        d4        d5\n",
       "k=2   0.907701  0.905620  0.901629  0.899602  0.898656\n",
       "k=3   0.840075  0.835749  0.824947  0.820743  0.818225\n",
       "k=4   0.798806  0.792007  0.776689  0.768718  0.765935\n",
       "k=5   0.717975  0.696095  0.668389  0.654706  0.650776\n",
       "k=6   0.535339  0.508561  0.451603  0.423260  0.412728\n",
       "k=7   0.533575  0.497871  0.433898  0.403568  0.384955\n",
       "k=8   0.532047  0.495445  0.424944  0.393533  0.381073\n",
       "k=9   0.525096  0.479661  0.392397  0.358474  0.341308\n",
       "k=10  0.524647  0.476193  0.385195  0.354258  0.336414"
      ]
     },
     "execution_count": 31,
     "metadata": {},
     "output_type": "execute_result"
    }
   ],
   "source": [
    "k_df = pd.DataFrame(k_sils,index=[f'd{i+1}' for i in range(len(k_sils))],\n",
    "                    columns=[f'k={k+2}' for k in range(len(k_sils[0]))]).T\n",
    "k_df"
   ]
  },
  {
   "cell_type": "markdown",
   "metadata": {},
   "source": [
    "Let me check what happens when I just pass the raw PCA to the clusterer."
   ]
  },
  {
   "cell_type": "code",
   "execution_count": 32,
   "metadata": {},
   "outputs": [
    {
     "name": "stderr",
     "output_type": "stream",
     "text": [
      "No handles with labels found to put in legend.\n"
     ]
    },
    {
     "data": {
      "image/png": "[encoded data removed]",
      "text/plain": [
       "<Figure size 432x288 with 1 Axes>"
      ]
     },
     "metadata": {},
     "output_type": "display_data"
    },
    {
     "name": "stderr",
     "output_type": "stream",
     "text": [
      "No handles with labels found to put in legend.\n"
     ]
    },
    {
     "data": {
      "image/png": "[encoded data removed]",
      "text/plain": [
       "<Figure size 432x288 with 1 Axes>"
      ]
     },
     "metadata": {},
     "output_type": "display_data"
    },
    {
     "name": "stderr",
     "output_type": "stream",
     "text": [
      "No handles with labels found to put in legend.\n"
     ]
    },
    {
     "data": {
      "image/png": "[encoded data removed]",
      "text/plain": [
       "<Figure size 432x288 with 1 Axes>"
      ]
     },
     "metadata": {},
     "output_type": "display_data"
    },
    {
     "name": "stderr",
     "output_type": "stream",
     "text": [
      "No handles with labels found to put in legend.\n"
     ]
    },
    {
     "data": {
      "image/png": "[encoded data removed]",
      "text/plain": [
       "<Figure size 432x288 with 1 Axes>"
      ]
     },
     "metadata": {},
     "output_type": "display_data"
    },
    {
     "name": "stderr",
     "output_type": "stream",
     "text": [
      "No handles with labels found to put in legend.\n"
     ]
    },
    {
     "data": {
      "image/png": "[encoded data removed]",
      "text/plain": [
       "<Figure size 432x288 with 1 Axes>"
      ]
     },
     "metadata": {},
     "output_type": "display_data"
    },
    {
     "name": "stderr",
     "output_type": "stream",
     "text": [
      "No handles with labels found to put in legend.\n"
     ]
    },
    {
     "data": {
      "image/png": "[encoded data removed]",
      "text/plain": [
       "<Figure size 432x288 with 1 Axes>"
      ]
     },
     "metadata": {},
     "output_type": "display_data"
    },
    {
     "name": "stderr",
     "output_type": "stream",
     "text": [
      "No handles with labels found to put in legend.\n"
     ]
    },
    {
     "data": {
      "image/png": "[encoded data removed]",
      "text/plain": [
       "<Figure size 432x288 with 1 Axes>"
      ]
     },
     "metadata": {},
     "output_type": "display_data"
    }
   ],
   "source": [
    "k2, d2, m2 = plot_sil_scores(pca_df)"
   ]
  },
  {
   "cell_type": "markdown",
   "metadata": {},
   "source": [
    "Mean Shift looks like the most promising algorithm here. I can take some steps to speed it up by\n",
    "1. calculating `estimate_bandwidth` ahead of time in an optimized fashion, using less than all the points\n",
    "1. using bin seeding with a cutoff number of points for bins\n",
    "1. setting n_jobs=2 (3 or higher I expect will break my 4-core machine)"
   ]
  },
  {
   "cell_type": "code",
   "execution_count": 35,
   "metadata": {},
   "outputs": [
    {
     "name": "stdout",
     "output_type": "stream",
     "text": [
      "Bandwidth for 1 dimensions is 6.140993474077628\n",
      "\n",
      "Bandwidth for 2 dimensions is 6.203362341232365\n",
      "\n",
      "Bandwidth for 3 dimensions is 6.421802506858066\n",
      "\n",
      "Bandwidth for 4 dimensions is 6.543295133853511\n",
      "\n",
      "Bandwidth for 5 dimensions is 6.591527651937368\n",
      "\n",
      "Bandwidth for 6 dimensions is 6.661549341989982\n",
      "\n"
     ]
    }
   ],
   "source": [
    "bw = []\n",
    "for dim in range(1,7):\n",
    "    bw.append(estimate_bandwidth(scaled_pca6.loc[:,0:dim-1],quantile=0.5,n_samples=1000,n_jobs=2))\n",
    "    print(f'Bandwidth for {dim} dimensions is {bw[-1]}\\n')"
   ]
  },
  {
   "cell_type": "markdown",
   "metadata": {},
   "source": [
    "Let me deliberately plan out how I will gridsearch, save models, and plot the metrics for each hyperparameter choice in [ #dims, ...] well, I guess I could fiddle with the bandwidth, [ 1/3, nominal, 3x ]. I could also recalculate the bandwidth at different quantiles..."
   ]
  },
  {
   "cell_type": "code",
   "execution_count": 17,
   "metadata": {},
   "outputs": [
    {
     "name": "stdout",
     "output_type": "stream",
     "text": [
      "Bandwidth for 1 dimensions is 5.790471904877106\n",
      "\n",
      "Bandwidth for 2 dimensions is 7.339769981251628\n",
      "\n",
      "Bandwidth for 3 dimensions is 9.532310771558953\n",
      "\n",
      "Bandwidth for 4 dimensions is 11.338723659210908\n",
      "\n",
      "Bandwidth for 5 dimensions is 12.222327848948535\n",
      "\n",
      "Bandwidth for 6 dimensions is 13.286100045708617\n",
      "\n"
     ]
    }
   ],
   "source": [
    "bw30 = []\n",
    "for dim in range(1,7):\n",
    "    # quantile = 0.3 is the default\n",
    "    bw30.append(estimate_bandwidth(scaled_pca6.loc[:,0:dim-1],quantile=0.3,n_samples=1000,n_jobs=2))\n",
    "    print(f'Bandwidth for {dim} dimensions is {bw30[-1]}\\n')"
   ]
  },
  {
   "cell_type": "code",
   "execution_count": 38,
   "metadata": {},
   "outputs": [
    {
     "name": "stdout",
     "output_type": "stream",
     "text": [
      "Bandwidth for 1 dimensions is 8.44176225731409\n",
      "\n",
      "Bandwidth for 2 dimensions is 8.489214574856891\n",
      "\n",
      "Bandwidth for 3 dimensions is 8.618164810712285\n",
      "\n",
      "Bandwidth for 4 dimensions is 8.695545166637151\n",
      "\n",
      "Bandwidth for 5 dimensions is 8.734472820312549\n",
      "\n",
      "Bandwidth for 6 dimensions is 8.794040475802609\n",
      "\n"
     ]
    }
   ],
   "source": [
    "bw80 = []\n",
    "for dim in range(1,7):\n",
    "    # quantile = 0.3 is the default\n",
    "    bw80.append(estimate_bandwidth(scaled_pca6.loc[:,0:dim-1],quantile=0.8,n_samples=1000,n_jobs=2))\n",
    "    print(f'Bandwidth for {dim} dimensions is {bw80[-1]}\\n')"
   ]
  },
  {
   "cell_type": "markdown",
   "metadata": {},
   "source": [
    "I want\n",
    "* a plot of silhouette scores per number of PCA dimensions clustered\n",
    "* a different color and legend entry for each bandwidth quantile\n",
    "* I will need to fit a MeanShift model at each of these combinations\n",
    "    * save the model\n",
    "        * perhaps in a two-layer dictionary with bw -> #dims\n",
    "    * save the silhouette score\n",
    "        * preferably in a dataframe with column labels `bw30, bw50, bw80`"
   ]
  },
  {
   "cell_type": "code",
   "execution_count": 40,
   "metadata": {},
   "outputs": [],
   "source": [
    "ms_models = {}\n",
    "ms_sils = {}\n",
    "bws = ['bw30','bw50','bw80']\n",
    "for i, bwq in enumerate([bw30, bw, bw80]):\n",
    "    bw_lbl = bws[i]\n",
    "    ms_models[bw_lbl]={}\n",
    "    ms_sils[bw_lbl]=[]\n",
    "    for dim in range(1,7):\n",
    "        data = scaled_pca6.loc[:,0:dim-1].copy()\n",
    "        ms_models[bw_lbl][dim]=MeanShift(bandwidth=bwq[dim-1],\n",
    "                                    bin_seeding=True,\n",
    "                                    min_bin_freq=10,\n",
    "                                    n_jobs=2).fit(data)\n",
    "        labels = ms_models[bw_lbl][dim].labels_\n",
    "        ms_sils[bw_lbl].append(metrics.silhouette_score(data,labels))\n",
    "mssil_df = pd.DataFrame(ms_sils,index=range(1,7))"
   ]
  },
  {
   "cell_type": "code",
   "execution_count": 20,
   "metadata": {},
   "outputs": [],
   "source": [
    "# alternative code\n",
    "data = np.array(scaled_pca6.loc[:,0].copy())\n",
    "ms30_model = MeanShift(bandwidth=bw30[0],\n",
    "                                    bin_seeding=True,\n",
    "                                    min_bin_freq=10,\n",
    "                                    n_jobs=2).fit(data.reshape(-1,1))"
   ]
  },
  {
   "cell_type": "code",
   "execution_count": 44,
   "metadata": {},
   "outputs": [
    {
     "data": {
      "image/png": "[encoded data removed]",
      "text/plain": [
       "<Figure size 432x288 with 1 Axes>"
      ]
     },
     "metadata": {},
     "output_type": "display_data"
    }
   ],
   "source": [
    "plt.xlabel('PCA dimensions')\n",
    "plt.ylabel('silhouette score')\n",
    "sns.scatterplot(data=mssil_df)\n",
    "plt.show()"
   ]
  },
  {
   "cell_type": "markdown",
   "metadata": {},
   "source": [
    "I should really store the number of clusters for each model; that's interesting, too. For a given silhouette score, more clusters presumably means more data for the neural net to use."
   ]
  },
  {
   "cell_type": "code",
   "execution_count": 46,
   "metadata": {},
   "outputs": [],
   "source": [
    "ms_clusts = {}\n",
    "for bw_lbl in bws:\n",
    "    ms_clusts[bw_lbl] = []\n",
    "    for dim in range(1,7):\n",
    "        ms_clusts[bw_lbl].append(len(ms_models[bw_lbl][dim].cluster_centers_))\n",
    "msclusts_df = pd.DataFrame(ms_clusts,index=range(1,7))"
   ]
  },
  {
   "cell_type": "code",
   "execution_count": 52,
   "metadata": {},
   "outputs": [
    {
     "data": {
      "image/png": "[encoded data removed]",
      "text/plain": [
       "<Figure size 432x288 with 1 Axes>"
      ]
     },
     "metadata": {},
     "output_type": "display_data"
    }
   ],
   "source": [
    "plt.xlabel('PCA dimensions')\n",
    "plt.ylabel('number of clusters')\n",
    "sns.scatterplot(data=msclusts_df.loc[:,'bw30':'bw50'])\n",
    "plt.show()"
   ]
  },
  {
   "cell_type": "code",
   "execution_count": 25,
   "metadata": {},
   "outputs": [
    {
     "data": {
      "text/plain": [
       "(23814, 3)"
      ]
     },
     "execution_count": 25,
     "metadata": {},
     "output_type": "execute_result"
    }
   ],
   "source": [
    "# plot 2d rep with cluster colored\n",
    "plot_df = pca_df.loc[:,0:1].copy()\n",
    "plot_df['cluster']=ms30_model.labels_\n",
    "plot_df.shape"
   ]
  },
  {
   "cell_type": "code",
   "execution_count": 27,
   "metadata": {},
   "outputs": [
    {
     "data": {
      "text/plain": [
       "<AxesSubplot:xlabel='0', ylabel='1'>"
      ]
     },
     "execution_count": 27,
     "metadata": {},
     "output_type": "execute_result"
    },
    {
     "data": {
      "image/png": "[encoded data removed]",
      "text/plain": [
       "<Figure size 432x288 with 1 Axes>"
      ]
     },
     "metadata": {},
     "output_type": "display_data"
    }
   ],
   "source": [
    "sns.scatterplot(x=plot_df[0],y=plot_df[1],hue='cluster',data=plot_df)"
   ]
  },
  {
   "cell_type": "markdown",
   "metadata": {},
   "source": [
    "I will gladly take that minor silhouette score hit to go from three to five clusters.\n",
    "\n",
    "I wonder how many points are orphaned?"
   ]
  },
  {
   "cell_type": "code",
   "execution_count": 49,
   "metadata": {},
   "outputs": [
    {
     "data": {
      "text/plain": [
       "0"
      ]
     },
     "execution_count": 49,
     "metadata": {},
     "output_type": "execute_result"
    }
   ],
   "source": [
    "labels = pd.Series(ms_models['bw30'][1].labels_)\n",
    "labels[labels==-1].count()"
   ]
  },
  {
   "cell_type": "code",
   "execution_count": 51,
   "metadata": {},
   "outputs": [
    {
     "data": {
      "text/plain": [
       "0    21808\n",
       "1      984\n",
       "2      448\n",
       "3      358\n",
       "4      216\n",
       "dtype: int64"
      ]
     },
     "execution_count": 51,
     "metadata": {},
     "output_type": "execute_result"
    }
   ],
   "source": [
    "labels.value_counts()"
   ]
  },
  {
   "cell_type": "markdown",
   "metadata": {},
   "source": [
    "4. Totally have the model hyperparameters selected and model built.\n",
    "5. Hot encode the cluster labels. Definitely want to drop a feature so that these columns are not mutually collinear, and it seems reasonable to drop cluster 0 and regard the small clusters as 'flavor' (or is that 'flava').\n",
    "6. Merge the encoded cluster labels with the chosen number of PCA dimensions (30).\n",
    "    * I will need to restandardize the first 30 PCA columns. Hmmm. How did those features get so big? More math that I have yet to explore."
   ]
  },
  {
   "cell_type": "code",
   "execution_count": 55,
   "metadata": {},
   "outputs": [
    {
     "data": {
      "text/plain": [
       "array([[0, 0, 0, 0],\n",
       "       [0, 0, 0, 0],\n",
       "       [0, 0, 0, 0],\n",
       "       [0, 0, 0, 0],\n",
       "       [0, 0, 0, 0]])"
      ]
     },
     "execution_count": 55,
     "metadata": {},
     "output_type": "execute_result"
    }
   ],
   "source": [
    "ohenc = OneHotEncoder(drop='first',sparse=False,dtype=np.int)\n",
    "cats = ohenc.fit_transform(np.array(labels).reshape(-1,1))\n",
    "cats[:5,:]"
   ]
  },
  {
   "cell_type": "code",
   "execution_count": 56,
   "metadata": {},
   "outputs": [
    {
     "name": "stdout",
     "output_type": "stream",
     "text": [
      "(23814, 4) (23814, 875)\n"
     ]
    }
   ],
   "source": [
    "pca_scaler = StandardScaler()\n",
    "pca_sc = pca_scaler.fit_transform(pca_df)\n",
    "print(cats.shape,pca_sc.shape)"
   ]
  },
  {
   "cell_type": "code",
   "execution_count": 57,
   "metadata": {},
   "outputs": [
    {
     "data": {
      "text/plain": [
       "(23814, 34)"
      ]
     },
     "execution_count": 57,
     "metadata": {},
     "output_type": "execute_result"
    }
   ],
   "source": [
    "tf_arr = np.concatenate((cats,pca_sc[:,:30]),axis=1)\n",
    "tf_arr.shape"
   ]
  },
  {
   "cell_type": "code",
   "execution_count": 58,
   "metadata": {},
   "outputs": [
    {
     "data": {
      "text/plain": [
       "(23814, 206)"
      ]
     },
     "execution_count": 58,
     "metadata": {},
     "output_type": "execute_result"
    }
   ],
   "source": [
    "tts_arr = np.array(tts_df)\n",
    "tts_arr.shape"
   ]
  },
  {
   "cell_type": "markdown",
   "metadata": {},
   "source": [
    "7. Get crackalackin'."
   ]
  },
  {
   "cell_type": "code",
   "execution_count": 59,
   "metadata": {},
   "outputs": [
    {
     "name": "stdout",
     "output_type": "stream",
     "text": [
      "Number of accelerators:  1\n"
     ]
    }
   ],
   "source": [
    "strategy = tf.distribute.get_strategy()\n",
    "print(\"Number of accelerators: \", strategy.num_replicas_in_sync)"
   ]
  },
  {
   "cell_type": "code",
   "execution_count": 60,
   "metadata": {},
   "outputs": [],
   "source": [
    "with strategy.scope():\n",
    "    inputs = Input(shape=(34,))\n",
    "    x = Dense(256,activation='elu')(inputs)\n",
    "    x = Dropout(0.2,input_shape=(256,))(x)\n",
    "    x = Dense(64,activation='elu')(x)\n",
    "    x = Dropout(0.2,input_shape=(64,))(x)\n",
    "    x = Dense(256,activation='elu')(x)\n",
    "    x = Dropout(0.2,input_shape=(256,))(x)\n",
    "    outputs = Dense(206,activation='sigmoid')(x)\n",
    "    model1 = Model(inputs,outputs)\n",
    "    model1.compile(\"adam\", \"binary_crossentropy\", metrics=[\"binary_crossentropy\"])"
   ]
  },
  {
   "cell_type": "code",
   "execution_count": 61,
   "metadata": {},
   "outputs": [
    {
     "name": "stdout",
     "output_type": "stream",
     "text": [
      "Model: \"functional_1\"\n",
      "_________________________________________________________________\n",
      "Layer (type)                 Output Shape              Param #   \n",
      "=================================================================\n",
      "input_1 (InputLayer)         [(None, 34)]              0         \n",
      "_________________________________________________________________\n",
      "dense (Dense)                (None, 256)               8960      \n",
      "_________________________________________________________________\n",
      "dropout (Dropout)            (None, 256)               0         \n",
      "_________________________________________________________________\n",
      "dense_1 (Dense)              (None, 64)                16448     \n",
      "_________________________________________________________________\n",
      "dropout_1 (Dropout)          (None, 64)                0         \n",
      "_________________________________________________________________\n",
      "dense_2 (Dense)              (None, 256)               16640     \n",
      "_________________________________________________________________\n",
      "dropout_2 (Dropout)          (None, 256)               0         \n",
      "_________________________________________________________________\n",
      "dense_3 (Dense)              (None, 206)               52942     \n",
      "=================================================================\n",
      "Total params: 94,990\n",
      "Trainable params: 94,990\n",
      "Non-trainable params: 0\n",
      "_________________________________________________________________\n"
     ]
    }
   ],
   "source": [
    "model1.summary()"
   ]
  },
  {
   "cell_type": "code",
   "execution_count": 62,
   "metadata": {},
   "outputs": [
    {
     "name": "stdout",
     "output_type": "stream",
     "text": [
      "Starting Training\n",
      "Epoch 1/40\n",
      "745/745 [==============================] - 4s 5ms/step - loss: 0.0427 - binary_crossentropy: 0.0427\n",
      "Epoch 2/40\n",
      "745/745 [==============================] - 4s 5ms/step - loss: 0.0183 - binary_crossentropy: 0.0183\n",
      "Epoch 3/40\n",
      "745/745 [==============================] - 4s 5ms/step - loss: 0.0176 - binary_crossentropy: 0.0176\n",
      "Epoch 4/40\n",
      "745/745 [==============================] - 4s 5ms/step - loss: 0.0172 - binary_crossentropy: 0.0172\n",
      "Epoch 5/40\n",
      "745/745 [==============================] - 3s 5ms/step - loss: 0.0170 - binary_crossentropy: 0.0170\n",
      "Epoch 6/40\n",
      "745/745 [==============================] - 4s 5ms/step - loss: 0.0169 - binary_crossentropy: 0.0169\n",
      "Epoch 7/40\n",
      "745/745 [==============================] - 4s 5ms/step - loss: 0.0168 - binary_crossentropy: 0.0168\n",
      "Epoch 8/40\n",
      "745/745 [==============================] - 4s 5ms/step - loss: 0.0167 - binary_crossentropy: 0.0167\n",
      "Epoch 9/40\n",
      "745/745 [==============================] - 4s 5ms/step - loss: 0.0166 - binary_crossentropy: 0.0166\n",
      "Epoch 10/40\n",
      "745/745 [==============================] - 4s 5ms/step - loss: 0.0164 - binary_crossentropy: 0.0164\n",
      "Epoch 11/40\n",
      "745/745 [==============================] - 4s 5ms/step - loss: 0.0164 - binary_crossentropy: 0.0164\n",
      "Epoch 12/40\n",
      "745/745 [==============================] - 3s 5ms/step - loss: 0.0163 - binary_crossentropy: 0.0163\n",
      "Epoch 13/40\n",
      "745/745 [==============================] - 4s 5ms/step - loss: 0.0163 - binary_crossentropy: 0.0163\n",
      "Epoch 14/40\n",
      "745/745 [==============================] - 4s 5ms/step - loss: 0.0162 - binary_crossentropy: 0.0162\n",
      "Epoch 15/40\n",
      "745/745 [==============================] - 4s 5ms/step - loss: 0.0161 - binary_crossentropy: 0.0161\n",
      "Epoch 16/40\n",
      "745/745 [==============================] - 3s 5ms/step - loss: 0.0161 - binary_crossentropy: 0.0161\n",
      "Epoch 17/40\n",
      "745/745 [==============================] - 3s 4ms/step - loss: 0.0161 - binary_crossentropy: 0.0161\n",
      "Epoch 18/40\n",
      "745/745 [==============================] - 3s 5ms/step - loss: 0.0160 - binary_crossentropy: 0.0160\n",
      "Epoch 19/40\n",
      "745/745 [==============================] - 3s 5ms/step - loss: 0.0159 - binary_crossentropy: 0.0159\n",
      "Epoch 20/40\n",
      "745/745 [==============================] - 4s 6ms/step - loss: 0.0159 - binary_crossentropy: 0.0159\n",
      "Epoch 21/40\n",
      "745/745 [==============================] - 4s 5ms/step - loss: 0.0159 - binary_crossentropy: 0.0159\n",
      "Epoch 22/40\n",
      "745/745 [==============================] - 4s 5ms/step - loss: 0.0159 - binary_crossentropy: 0.0159\n",
      "Epoch 23/40\n",
      "745/745 [==============================] - 3s 5ms/step - loss: 0.0158 - binary_crossentropy: 0.0158\n",
      "Epoch 24/40\n",
      "745/745 [==============================] - 3s 5ms/step - loss: 0.0158 - binary_crossentropy: 0.0158\n",
      "Epoch 25/40\n",
      "745/745 [==============================] - 4s 6ms/step - loss: 0.0158 - binary_crossentropy: 0.0158\n",
      "Epoch 26/40\n",
      "745/745 [==============================] - 4s 5ms/step - loss: 0.0157 - binary_crossentropy: 0.0157\n",
      "Epoch 27/40\n",
      "745/745 [==============================] - 4s 5ms/step - loss: 0.0157 - binary_crossentropy: 0.0157\n",
      "Epoch 28/40\n",
      "745/745 [==============================] - 4s 5ms/step - loss: 0.0157 - binary_crossentropy: 0.0157\n",
      "Epoch 29/40\n",
      "745/745 [==============================] - 4s 5ms/step - loss: 0.0157 - binary_crossentropy: 0.0157\n",
      "Epoch 30/40\n",
      "745/745 [==============================] - 4s 5ms/step - loss: 0.0156 - binary_crossentropy: 0.0156\n",
      "Epoch 31/40\n",
      "745/745 [==============================] - 4s 5ms/step - loss: 0.0156 - binary_crossentropy: 0.0156\n",
      "Epoch 32/40\n",
      "745/745 [==============================] - 8s 11ms/step - loss: 0.0156 - binary_crossentropy: 0.0156\n",
      "Epoch 33/40\n",
      "745/745 [==============================] - 8s 11ms/step - loss: 0.0155 - binary_crossentropy: 0.0155\n",
      "Epoch 34/40\n",
      "745/745 [==============================] - 9s 12ms/step - loss: 0.0155 - binary_crossentropy: 0.0155: 0s - loss: 0.0155 - binary_crossentro\n",
      "Epoch 35/40\n",
      "745/745 [==============================] - 7s 10ms/step - loss: 0.0155 - binary_crossentropy: 0.0155\n",
      "Epoch 36/40\n",
      "745/745 [==============================] - 7s 9ms/step - loss: 0.0155 - binary_crossentropy: 0.0155\n",
      "Epoch 37/40\n",
      "745/745 [==============================] - 6s 8ms/step - loss: 0.0154 - binary_crossentropy: 0.0154\n",
      "Epoch 38/40\n",
      "745/745 [==============================] - 4s 5ms/step - loss: 0.0154 - binary_crossentropy: 0.0154\n",
      "Epoch 39/40\n",
      "745/745 [==============================] - 4s 5ms/step - loss: 0.0154 - binary_crossentropy: 0.0154\n",
      "Epoch 40/40\n",
      "745/745 [==============================] - 4s 5ms/step - loss: 0.0154 - binary_crossentropy: 0.0154\n",
      "Finished Training\n"
     ]
    }
   ],
   "source": [
    "n_epochs = 40\n",
    "n_batch = 32\n",
    "print('Starting Training')\n",
    "model1.fit(tf_arr,tts_arr,epochs=n_epochs,batch_size=n_batch)\n",
    "print('Finished Training')"
   ]
  },
  {
   "cell_type": "code",
   "execution_count": 64,
   "metadata": {},
   "outputs": [
    {
     "data": {
      "text/plain": [
       "2.1105761049153973"
      ]
     },
     "execution_count": 64,
     "metadata": {},
     "output_type": "execute_result"
    }
   ],
   "source": [
    "tts_pred = model1.predict(tf_arr)\n",
    "metrics.log_loss(tts_arr,tts_pred)"
   ]
  },
  {
   "cell_type": "markdown",
   "metadata": {},
   "source": [
    "Wow, that's worse than my single layer model.\n",
    "Now let's tune."
   ]
  },
  {
   "cell_type": "code",
   "execution_count": 65,
   "metadata": {},
   "outputs": [],
   "source": [
    "!rm -R ./keras_tune"
   ]
  },
  {
   "cell_type": "code",
   "execution_count": 66,
   "metadata": {},
   "outputs": [],
   "source": [
    "def build_model(hp):\n",
    "    inputs = Input(shape=(34,))\n",
    "    x = Dense(\n",
    "        units = hp.Choice('units 1',values=[32,128,512]),\n",
    "        activation = hp.Choice('activation function 1',values=['relu','elu'])\n",
    "    )(inputs)\n",
    "    x = Dropout(hp.Choice('dropout 1',values=[0.2,0.35,0.5]))(x)\n",
    "    x = Dense(\n",
    "        units = hp.Choice('units 2',values=[32,128,512]),\n",
    "        activation = hp.Choice('activation function 2',values=['relu','elu'])\n",
    "    )(x)\n",
    "    x = Dropout(hp.Choice('dropout 2',values=[0.2,0.35,0.5]))(x)\n",
    "    x = Dense(\n",
    "        units = hp.Choice('units 3',values=[32,128,512]),\n",
    "        activation = hp.Choice('activation function 3',values=['relu','elu'])\n",
    "    )(x)\n",
    "    x = Dropout(hp.Choice('dropout 3',values=[0.2,0.35,0.5]))(x)\n",
    "\n",
    "    outputs = Dense(206,activation = 'sigmoid')(x)\n",
    "    model = Model(inputs, outputs)\n",
    "    # should throw in a choice of optimizer here: adam, etc.\n",
    "    opt = tf.keras.optimizers.Adam(\n",
    "        learning_rate=hp.Choice('learn rate',values=[0.01,0.001,0.0001]),\n",
    "        beta_1=0.9,\n",
    "        beta_2=0.999,\n",
    "        epsilon=1e-07,\n",
    "        amsgrad=False\n",
    "    )\n",
    "    model.compile(optimizer=opt,loss='binary_crossentropy',metrics=['binary_crossentropy'])\n",
    "    return model"
   ]
  },
  {
   "cell_type": "code",
   "execution_count": 67,
   "metadata": {},
   "outputs": [],
   "source": [
    "# let's try this\n",
    "with strategy.scope():\n",
    "    tuner = kerastuner.tuners.Hyperband(\n",
    "            build_model,\n",
    "            objective='binary_crossentropy',\n",
    "            max_epochs=18,\n",
    "            executions_per_trial=2,\n",
    "            directory='keras_tune'\n",
    "    )"
   ]
  },
  {
   "cell_type": "code",
   "execution_count": 68,
   "metadata": {},
   "outputs": [
    {
     "name": "stdout",
     "output_type": "stream",
     "text": [
      "Trial 30 Complete [00h 02m 32s]\n",
      "binary_crossentropy: 0.02001611515879631\n",
      "\n",
      "Best binary_crossentropy So Far: 0.016802136786282063\n",
      "Total elapsed time: 00h 46m 30s\n",
      "INFO:tensorflow:Oracle triggered exit\n",
      "Finished Tuning\n"
     ]
    }
   ],
   "source": [
    "print('Starting Tuning')\n",
    "X_train, X_val, y_train, y_val = train_test_split(tf_arr,tts_arr,test_size=0.2,random_state=84)\n",
    "tuner.search(X_train,y_train,validation_data=(X_val,y_val))\n",
    "print('Finished Tuning')"
   ]
  },
  {
   "cell_type": "markdown",
   "metadata": {},
   "source": [
    "Chollet put this reasonably comprehensible notebook up on Kaggle: https://www.kaggle.com/fchollet/keras-kerastuner-best-practices/ Let's try the next steps from there."
   ]
  },
  {
   "cell_type": "code",
   "execution_count": 69,
   "metadata": {},
   "outputs": [
    {
     "name": "stdout",
     "output_type": "stream",
     "text": [
      "{'units 1': 512, 'activation function 1': 'relu', 'dropout 1': 0.2, 'units 2': 512, 'activation function 2': 'elu', 'dropout 2': 0.2, 'units 3': 512, 'activation function 3': 'relu', 'dropout 3': 0.35, 'learn rate': 0.0001, 'tuner/epochs': 18, 'tuner/initial_epoch': 6, 'tuner/bracket': 2, 'tuner/round': 2, 'tuner/trial_id': '7e080c50d548ab898f6d7a1ce8a7509c'}\n"
     ]
    }
   ],
   "source": [
    "best_hp = tuner.get_best_hyperparameters()[0]\n",
    "print(best_hp.values)"
   ]
  },
  {
   "cell_type": "code",
   "execution_count": 70,
   "metadata": {},
   "outputs": [
    {
     "name": "stdout",
     "output_type": "stream",
     "text": [
      "Epoch 1/50\n",
      "596/596 [==============================] - 12s 20ms/step - loss: 0.0749 - binary_crossentropy: 0.0749 - val_loss: 0.0223 - val_binary_crossentropy: 0.0223\n",
      "Epoch 2/50\n",
      "596/596 [==============================] - 12s 20ms/step - loss: 0.0222 - binary_crossentropy: 0.0222 - val_loss: 0.0196 - val_binary_crossentropy: 0.0196\n",
      "Epoch 3/50\n",
      "596/596 [==============================] - 12s 20ms/step - loss: 0.0204 - binary_crossentropy: 0.0204 - val_loss: 0.0190 - val_binary_crossentropy: 0.0190\n",
      "Epoch 4/50\n",
      "596/596 [==============================] - 12s 20ms/step - loss: 0.0194 - binary_crossentropy: 0.0194 - val_loss: 0.0183 - val_binary_crossentropy: 0.0183\n",
      "Epoch 5/50\n",
      "596/596 [==============================] - 12s 20ms/step - loss: 0.0188 - binary_crossentropy: 0.0188 - val_loss: 0.0179 - val_binary_crossentropy: 0.0179\n",
      "Epoch 6/50\n",
      "596/596 [==============================] - 12s 20ms/step - loss: 0.0182 - binary_crossentropy: 0.0182 - val_loss: 0.0176 - val_binary_crossentropy: 0.0176\n",
      "Epoch 7/50\n",
      "596/596 [==============================] - 12s 21ms/step - loss: 0.0179 - binary_crossentropy: 0.0179 - val_loss: 0.0174 - val_binary_crossentropy: 0.0174\n",
      "Epoch 8/50\n",
      "596/596 [==============================] - 13s 22ms/step - loss: 0.0175 - binary_crossentropy: 0.0175 - val_loss: 0.0171 - val_binary_crossentropy: 0.0171\n",
      "Epoch 9/50\n",
      "596/596 [==============================] - 15s 24ms/step - loss: 0.0172 - binary_crossentropy: 0.0172 - val_loss: 0.0170 - val_binary_crossentropy: 0.0170\n",
      "Epoch 10/50\n",
      "596/596 [==============================] - 16s 26ms/step - loss: 0.0171 - binary_crossentropy: 0.0171 - val_loss: 0.0169 - val_binary_crossentropy: 0.0169\n",
      "Epoch 11/50\n",
      "596/596 [==============================] - 16s 27ms/step - loss: 0.0169 - binary_crossentropy: 0.0169 - val_loss: 0.0168 - val_binary_crossentropy: 0.0168\n",
      "Epoch 12/50\n",
      "596/596 [==============================] - 20s 33ms/step - loss: 0.0167 - binary_crossentropy: 0.0167 - val_loss: 0.0168 - val_binary_crossentropy: 0.0168\n",
      "Epoch 13/50\n",
      "596/596 [==============================] - 20s 34ms/step - loss: 0.0166 - binary_crossentropy: 0.0166 - val_loss: 0.0166 - val_binary_crossentropy: 0.0166\n",
      "Epoch 14/50\n",
      "596/596 [==============================] - 23s 39ms/step - loss: 0.0164 - binary_crossentropy: 0.0164 - val_loss: 0.0166 - val_binary_crossentropy: 0.0166\n",
      "Epoch 15/50\n",
      "596/596 [==============================] - 20s 34ms/step - loss: 0.0163 - binary_crossentropy: 0.0163 - val_loss: 0.0166 - val_binary_crossentropy: 0.0166\n",
      "Epoch 16/50\n",
      "596/596 [==============================] - 26s 43ms/step - loss: 0.0162 - binary_crossentropy: 0.0162 - val_loss: 0.0165 - val_binary_crossentropy: 0.0165\n",
      "Epoch 17/50\n",
      "596/596 [==============================] - 20s 33ms/step - loss: 0.0161 - binary_crossentropy: 0.0161 - val_loss: 0.0165 - val_binary_crossentropy: 0.0165\n",
      "Epoch 18/50\n",
      "596/596 [==============================] - 24s 40ms/step - loss: 0.0160 - binary_crossentropy: 0.0160 - val_loss: 0.0165 - val_binary_crossentropy: 0.0165\n",
      "Epoch 19/50\n",
      "596/596 [==============================] - 20s 33ms/step - loss: 0.0159 - binary_crossentropy: 0.0159 - val_loss: 0.0164 - val_binary_crossentropy: 0.0164\n",
      "Epoch 20/50\n",
      "596/596 [==============================] - 24s 40ms/step - loss: 0.0157 - binary_crossentropy: 0.0157 - val_loss: 0.0164 - val_binary_crossentropy: 0.0164\n",
      "Epoch 21/50\n",
      "596/596 [==============================] - 20s 33ms/step - loss: 0.0157 - binary_crossentropy: 0.0157 - val_loss: 0.0163 - val_binary_crossentropy: 0.0163\n",
      "Epoch 22/50\n",
      "596/596 [==============================] - 24s 40ms/step - loss: 0.0156 - binary_crossentropy: 0.0156 - val_loss: 0.0164 - val_binary_crossentropy: 0.0164\n",
      "Epoch 23/50\n",
      "596/596 [==============================] - 19s 32ms/step - loss: 0.0155 - binary_crossentropy: 0.0155 - val_loss: 0.0163 - val_binary_crossentropy: 0.0163\n",
      "Epoch 24/50\n",
      "596/596 [==============================] - 21s 35ms/step - loss: 0.0154 - binary_crossentropy: 0.0154 - val_loss: 0.0163 - val_binary_crossentropy: 0.0163\n",
      "Epoch 25/50\n",
      "596/596 [==============================] - 21s 35ms/step - loss: 0.0154 - binary_crossentropy: 0.0154 - val_loss: 0.0163 - val_binary_crossentropy: 0.0163\n",
      "Epoch 26/50\n",
      "596/596 [==============================] - 25s 42ms/step - loss: 0.0153 - binary_crossentropy: 0.0153 - val_loss: 0.0163 - val_binary_crossentropy: 0.0163\n",
      "Epoch 27/50\n",
      "596/596 [==============================] - 17s 29ms/step - loss: 0.0153 - binary_crossentropy: 0.0153 - val_loss: 0.0163 - val_binary_crossentropy: 0.0163\n",
      "Epoch 28/50\n",
      "596/596 [==============================] - 19s 31ms/step - loss: 0.0152 - binary_crossentropy: 0.0152 - val_loss: 0.0162 - val_binary_crossentropy: 0.0162\n",
      "Epoch 29/50\n",
      "596/596 [==============================] - 24s 40ms/step - loss: 0.0151 - binary_crossentropy: 0.0151 - val_loss: 0.0163 - val_binary_crossentropy: 0.0163\n",
      "Epoch 30/50\n",
      "596/596 [==============================] - 20s 34ms/step - loss: 0.0151 - binary_crossentropy: 0.0151 - val_loss: 0.0163 - val_binary_crossentropy: 0.0163\n",
      "Epoch 31/50\n",
      "596/596 [==============================] - 22s 38ms/step - loss: 0.0150 - binary_crossentropy: 0.0150 - val_loss: 0.0162 - val_binary_crossentropy: 0.0162\n",
      "Epoch 32/50\n",
      "596/596 [==============================] - 18s 30ms/step - loss: 0.0149 - binary_crossentropy: 0.0149 - val_loss: 0.0162 - val_binary_crossentropy: 0.0162\n",
      "Epoch 33/50\n",
      "596/596 [==============================] - 17s 29ms/step - loss: 0.0149 - binary_crossentropy: 0.0149 - val_loss: 0.0163 - val_binary_crossentropy: 0.0163\n",
      "Epoch 34/50\n",
      "596/596 [==============================] - 22s 37ms/step - loss: 0.0148 - binary_crossentropy: 0.0148 - val_loss: 0.0163 - val_binary_crossentropy: 0.0163\n",
      "Epoch 35/50\n",
      "596/596 [==============================] - 20s 34ms/step - loss: 0.0147 - binary_crossentropy: 0.0147 - val_loss: 0.0163 - val_binary_crossentropy: 0.0163\n",
      "Epoch 36/50\n",
      "596/596 [==============================] - 23s 38ms/step - loss: 0.0147 - binary_crossentropy: 0.0147 - val_loss: 0.0162 - val_binary_crossentropy: 0.0162\n",
      "Epoch 37/50\n",
      "596/596 [==============================] - 18s 31ms/step - loss: 0.0146 - binary_crossentropy: 0.0146 - val_loss: 0.0163 - val_binary_crossentropy: 0.0163\n",
      "Epoch 38/50\n",
      "596/596 [==============================] - 23s 39ms/step - loss: 0.0146 - binary_crossentropy: 0.0146 - val_loss: 0.0163 - val_binary_crossentropy: 0.0163\n",
      "Epoch 39/50\n",
      "596/596 [==============================] - 18s 31ms/step - loss: 0.0145 - binary_crossentropy: 0.0145 - val_loss: 0.0163 - val_binary_crossentropy: 0.0163\n",
      "Epoch 40/50\n",
      "596/596 [==============================] - 24s 40ms/step - loss: 0.0144 - binary_crossentropy: 0.0144 - val_loss: 0.0163 - val_binary_crossentropy: 0.0163\n",
      "Epoch 41/50\n",
      "596/596 [==============================] - 18s 31ms/step - loss: 0.0144 - binary_crossentropy: 0.0144 - val_loss: 0.0163 - val_binary_crossentropy: 0.0163\n",
      "Epoch 42/50\n",
      "596/596 [==============================] - 25s 42ms/step - loss: 0.0144 - binary_crossentropy: 0.0144 - val_loss: 0.0163 - val_binary_crossentropy: 0.0163\n",
      "Epoch 43/50\n",
      "596/596 [==============================] - 17s 29ms/step - loss: 0.0143 - binary_crossentropy: 0.0143 - val_loss: 0.0163 - val_binary_crossentropy: 0.0163\n",
      "Epoch 44/50\n",
      "596/596 [==============================] - 25s 42ms/step - loss: 0.0143 - binary_crossentropy: 0.0143 - val_loss: 0.0163 - val_binary_crossentropy: 0.0163\n",
      "Epoch 45/50\n",
      "596/596 [==============================] - 17s 28ms/step - loss: 0.0142 - binary_crossentropy: 0.0142 - val_loss: 0.0163 - val_binary_crossentropy: 0.0163\n",
      "Epoch 46/50\n",
      "596/596 [==============================] - 21s 35ms/step - loss: 0.0142 - binary_crossentropy: 0.0142 - val_loss: 0.0163 - val_binary_crossentropy: 0.0163\n",
      "Epoch 47/50\n",
      "596/596 [==============================] - 20s 33ms/step - loss: 0.0141 - binary_crossentropy: 0.0141 - val_loss: 0.0163 - val_binary_crossentropy: 0.0163\n",
      "Epoch 48/50\n",
      "596/596 [==============================] - 17s 29ms/step - loss: 0.0141 - binary_crossentropy: 0.0141 - val_loss: 0.0163 - val_binary_crossentropy: 0.0163\n",
      "Epoch 49/50\n",
      "596/596 [==============================] - 23s 38ms/step - loss: 0.0141 - binary_crossentropy: 0.0141 - val_loss: 0.0164 - val_binary_crossentropy: 0.0164\n",
      "Epoch 50/50\n",
      "596/596 [==============================] - 16s 27ms/step - loss: 0.0140 - binary_crossentropy: 0.0140 - val_loss: 0.0164 - val_binary_crossentropy: 0.0164\n"
     ]
    }
   ],
   "source": [
    "model2 = build_model(best_hp)\n",
    "history = model2.fit(tf_arr, tts_arr, validation_split=0.2, epochs=50)"
   ]
  },
  {
   "cell_type": "code",
   "execution_count": 71,
   "metadata": {},
   "outputs": [
    {
     "name": "stdout",
     "output_type": "stream",
     "text": [
      "Model: \"functional_3\"\n",
      "_________________________________________________________________\n",
      "Layer (type)                 Output Shape              Param #   \n",
      "=================================================================\n",
      "input_2 (InputLayer)         [(None, 34)]              0         \n",
      "_________________________________________________________________\n",
      "dense_4 (Dense)              (None, 512)               17920     \n",
      "_________________________________________________________________\n",
      "dropout_3 (Dropout)          (None, 512)               0         \n",
      "_________________________________________________________________\n",
      "dense_5 (Dense)              (None, 512)               262656    \n",
      "_________________________________________________________________\n",
      "dropout_4 (Dropout)          (None, 512)               0         \n",
      "_________________________________________________________________\n",
      "dense_6 (Dense)              (None, 512)               262656    \n",
      "_________________________________________________________________\n",
      "dropout_5 (Dropout)          (None, 512)               0         \n",
      "_________________________________________________________________\n",
      "dense_7 (Dense)              (None, 206)               105678    \n",
      "=================================================================\n",
      "Total params: 648,910\n",
      "Trainable params: 648,910\n",
      "Non-trainable params: 0\n",
      "_________________________________________________________________\n"
     ]
    }
   ],
   "source": [
    "model2.summary()"
   ]
  },
  {
   "cell_type": "code",
   "execution_count": 72,
   "metadata": {},
   "outputs": [
    {
     "name": "stdout",
     "output_type": "stream",
     "text": [
      "745/745 [==============================] - 4s 5ms/step - loss: 0.0136 - binary_crossentropy: 0.0136\n"
     ]
    },
    {
     "data": {
      "text/plain": [
       "[0.013574095442891121, 0.013574095442891121]"
      ]
     },
     "execution_count": 72,
     "metadata": {},
     "output_type": "execute_result"
    }
   ],
   "source": [
    "model2.evaluate(tf_arr,tts_arr)"
   ]
  },
  {
   "cell_type": "code",
   "execution_count": 73,
   "metadata": {},
   "outputs": [
    {
     "name": "stdout",
     "output_type": "stream",
     "text": [
      "WARNING:tensorflow:From /home/paulus/.pyenv/versions/miniconda3-latest/envs/autokeras/lib/python3.8/site-packages/tensorflow/python/training/tracking/tracking.py:111: Model.state_updates (from tensorflow.python.keras.engine.training) is deprecated and will be removed in a future version.\n",
      "Instructions for updating:\n",
      "This property should not be used in TensorFlow 2.0, as updates are applied automatically.\n",
      "WARNING:tensorflow:From /home/paulus/.pyenv/versions/miniconda3-latest/envs/autokeras/lib/python3.8/site-packages/tensorflow/python/training/tracking/tracking.py:111: Layer.updates (from tensorflow.python.keras.engine.base_layer) is deprecated and will be removed in a future version.\n",
      "Instructions for updating:\n",
      "This property should not be used in TensorFlow 2.0, as updates are applied automatically.\n",
      "INFO:tensorflow:Assets written to: keras-cluster-model/assets\n"
     ]
    }
   ],
   "source": [
    "model2.save('keras-cluster-model')"
   ]
  },
  {
   "cell_type": "code",
   "execution_count": null,
   "metadata": {},
   "outputs": [],
   "source": []
  },
  {
   "cell_type": "markdown",
   "metadata": {},
   "source": [
    "Here I need to implement the same preprocessing steps to recreate the input data characteristics... in particular, mapping the test data points to the correct clusters."
   ]
  },
  {
   "cell_type": "code",
   "execution_count": 74,
   "metadata": {},
   "outputs": [],
   "source": [
    "testf_df = pd.read_csv('../test_features.csv',index_col='sig_id')"
   ]
  },
  {
   "cell_type": "code",
   "execution_count": 75,
   "metadata": {},
   "outputs": [],
   "source": [
    "testf_df['cp_type']=testf_df['cp_type'].astype('category')\n",
    "testf_df['cp_time']=scaler.transform((np.array(testf_df['cp_time'])).reshape(-1,1))\n",
    "testf_df['cp_dose']=testf_df['cp_dose'].astype('category')\n",
    "testf_df.loc[:,'g-0':'c-99']=transformer.transform(testf_df.loc[:,'g-0':'c-99'])\n",
    "testf_df = oenc.transform(testf_df)\n",
    "testf_df['cp_type']=testf_df['cp_type']-1\n",
    "testf_df['cp_dose']=testf_df['cp_dose']-1\n",
    "testf_arr = np.array(testf_df)"
   ]
  },
  {
   "cell_type": "code",
   "execution_count": 76,
   "metadata": {},
   "outputs": [
    {
     "data": {
      "text/plain": [
       "(3982, 6)"
      ]
     },
     "execution_count": 76,
     "metadata": {},
     "output_type": "execute_result"
    }
   ],
   "source": [
    "pca_testf_arr = pca.transform(testf_arr)\n",
    "scaled_pca_testf_arr = pca_testf_arr[:,0:6].copy()\n",
    "for col in range(6):\n",
    "    scaled_pca_testf_arr[:,col] = scaled_pca_testf_arr[:,col] * scaled_variances[col] / ranges[col]\n",
    "scaled_pca_testf_arr.shape"
   ]
  },
  {
   "cell_type": "code",
   "execution_count": 79,
   "metadata": {},
   "outputs": [
    {
     "data": {
      "text/plain": [
       "(3982, 4)"
      ]
     },
     "execution_count": 79,
     "metadata": {},
     "output_type": "execute_result"
    }
   ],
   "source": [
    "test_labels = ms_models['bw30'][1].predict(scaled_pca_testf_arr[:,0].reshape(-1,1))\n",
    "test_label_arr = ohenc.transform(test_labels.reshape(-1,1))\n",
    "test_label_arr.shape"
   ]
  },
  {
   "cell_type": "code",
   "execution_count": 80,
   "metadata": {},
   "outputs": [
    {
     "data": {
      "text/plain": [
       "(3982, 34)"
      ]
     },
     "execution_count": 80,
     "metadata": {},
     "output_type": "execute_result"
    }
   ],
   "source": [
    "transf_testf_arr = np.concatenate((test_label_arr,pca_scaler(pca_testf_arr)[:,:30]),axis=1)\n",
    "transf_testf_arr.shape"
   ]
  },
  {
   "cell_type": "code",
   "execution_count": 81,
   "metadata": {},
   "outputs": [
    {
     "data": {
      "text/html": [
       "<div>\n",
       "<style scoped>\n",
       "    .dataframe tbody tr th:only-of-type {\n",
       "        vertical-align: middle;\n",
       "    }\n",
       "\n",
       "    .dataframe tbody tr th {\n",
       "        vertical-align: top;\n",
       "    }\n",
       "\n",
       "    .dataframe thead th {\n",
       "        text-align: right;\n",
       "    }\n",
       "</style>\n",
       "<table border=\"1\" class=\"dataframe\">\n",
       "  <thead>\n",
       "    <tr style=\"text-align: right;\">\n",
       "      <th></th>\n",
       "      <th>5-alpha_reductase_inhibitor</th>\n",
       "      <th>11-beta-hsd1_inhibitor</th>\n",
       "      <th>acat_inhibitor</th>\n",
       "      <th>acetylcholine_receptor_agonist</th>\n",
       "      <th>acetylcholine_receptor_antagonist</th>\n",
       "      <th>acetylcholinesterase_inhibitor</th>\n",
       "      <th>adenosine_receptor_agonist</th>\n",
       "      <th>adenosine_receptor_antagonist</th>\n",
       "      <th>adenylyl_cyclase_activator</th>\n",
       "      <th>adrenergic_receptor_agonist</th>\n",
       "      <th>...</th>\n",
       "      <th>tropomyosin_receptor_kinase_inhibitor</th>\n",
       "      <th>trpv_agonist</th>\n",
       "      <th>trpv_antagonist</th>\n",
       "      <th>tubulin_inhibitor</th>\n",
       "      <th>tyrosine_kinase_inhibitor</th>\n",
       "      <th>ubiquitin_specific_protease_inhibitor</th>\n",
       "      <th>vegfr_inhibitor</th>\n",
       "      <th>vitamin_b</th>\n",
       "      <th>vitamin_d_receptor_agonist</th>\n",
       "      <th>wnt_inhibitor</th>\n",
       "    </tr>\n",
       "    <tr>\n",
       "      <th>sig_id</th>\n",
       "      <th></th>\n",
       "      <th></th>\n",
       "      <th></th>\n",
       "      <th></th>\n",
       "      <th></th>\n",
       "      <th></th>\n",
       "      <th></th>\n",
       "      <th></th>\n",
       "      <th></th>\n",
       "      <th></th>\n",
       "      <th></th>\n",
       "      <th></th>\n",
       "      <th></th>\n",
       "      <th></th>\n",
       "      <th></th>\n",
       "      <th></th>\n",
       "      <th></th>\n",
       "      <th></th>\n",
       "      <th></th>\n",
       "      <th></th>\n",
       "      <th></th>\n",
       "    </tr>\n",
       "  </thead>\n",
       "  <tbody>\n",
       "    <tr>\n",
       "      <th>id_0004d9e33</th>\n",
       "      <td>4.417585e-07</td>\n",
       "      <td>1.747741e-09</td>\n",
       "      <td>2.144889e-08</td>\n",
       "      <td>5.807897e-05</td>\n",
       "      <td>0.004595</td>\n",
       "      <td>7.598462e-05</td>\n",
       "      <td>1.307091e-06</td>\n",
       "      <td>1.953014e-05</td>\n",
       "      <td>5.157091e-16</td>\n",
       "      <td>4.807107e-05</td>\n",
       "      <td>...</td>\n",
       "      <td>1.811777e-09</td>\n",
       "      <td>2.922726e-09</td>\n",
       "      <td>3.471247e-07</td>\n",
       "      <td>7.368826e-07</td>\n",
       "      <td>1.199534e-10</td>\n",
       "      <td>1.202678e-09</td>\n",
       "      <td>2.287582e-08</td>\n",
       "      <td>1.189231e-07</td>\n",
       "      <td>9.016154e-07</td>\n",
       "      <td>4.282496e-08</td>\n",
       "    </tr>\n",
       "    <tr>\n",
       "      <th>id_001897cda</th>\n",
       "      <td>8.197366e-12</td>\n",
       "      <td>3.285365e-08</td>\n",
       "      <td>1.710342e-06</td>\n",
       "      <td>1.441626e-05</td>\n",
       "      <td>0.000629</td>\n",
       "      <td>4.281237e-05</td>\n",
       "      <td>2.619995e-05</td>\n",
       "      <td>1.215375e-04</td>\n",
       "      <td>5.760241e-06</td>\n",
       "      <td>2.123392e-02</td>\n",
       "      <td>...</td>\n",
       "      <td>4.978219e-11</td>\n",
       "      <td>2.094252e-08</td>\n",
       "      <td>1.022586e-05</td>\n",
       "      <td>1.314176e-09</td>\n",
       "      <td>5.245864e-03</td>\n",
       "      <td>7.503177e-13</td>\n",
       "      <td>1.849681e-03</td>\n",
       "      <td>1.383942e-07</td>\n",
       "      <td>6.770074e-03</td>\n",
       "      <td>1.043500e-05</td>\n",
       "    </tr>\n",
       "    <tr>\n",
       "      <th>id_002429b5b</th>\n",
       "      <td>2.946096e-18</td>\n",
       "      <td>2.077645e-23</td>\n",
       "      <td>3.951437e-10</td>\n",
       "      <td>1.467225e-08</td>\n",
       "      <td>0.000019</td>\n",
       "      <td>2.386894e-08</td>\n",
       "      <td>9.542210e-09</td>\n",
       "      <td>8.373842e-07</td>\n",
       "      <td>7.978516e-21</td>\n",
       "      <td>4.319991e-07</td>\n",
       "      <td>...</td>\n",
       "      <td>9.145554e-12</td>\n",
       "      <td>2.389026e-19</td>\n",
       "      <td>4.324323e-09</td>\n",
       "      <td>6.171203e-13</td>\n",
       "      <td>2.283557e-09</td>\n",
       "      <td>1.984580e-27</td>\n",
       "      <td>2.129482e-11</td>\n",
       "      <td>2.796172e-08</td>\n",
       "      <td>9.971095e-11</td>\n",
       "      <td>5.934254e-10</td>\n",
       "    </tr>\n",
       "    <tr>\n",
       "      <th>id_00276f245</th>\n",
       "      <td>3.104426e-09</td>\n",
       "      <td>1.858999e-09</td>\n",
       "      <td>1.234209e-06</td>\n",
       "      <td>2.619782e-05</td>\n",
       "      <td>0.000271</td>\n",
       "      <td>1.140535e-03</td>\n",
       "      <td>8.204218e-06</td>\n",
       "      <td>4.051030e-04</td>\n",
       "      <td>8.866064e-13</td>\n",
       "      <td>5.418062e-04</td>\n",
       "      <td>...</td>\n",
       "      <td>1.938971e-07</td>\n",
       "      <td>2.599168e-10</td>\n",
       "      <td>1.123833e-05</td>\n",
       "      <td>3.418442e-06</td>\n",
       "      <td>3.618186e-05</td>\n",
       "      <td>2.359696e-13</td>\n",
       "      <td>1.093158e-04</td>\n",
       "      <td>1.942877e-06</td>\n",
       "      <td>1.659393e-03</td>\n",
       "      <td>1.996253e-05</td>\n",
       "    </tr>\n",
       "    <tr>\n",
       "      <th>id_0027f1083</th>\n",
       "      <td>1.329875e-07</td>\n",
       "      <td>4.798821e-16</td>\n",
       "      <td>3.131337e-12</td>\n",
       "      <td>8.160203e-09</td>\n",
       "      <td>0.000049</td>\n",
       "      <td>1.887505e-07</td>\n",
       "      <td>6.691449e-09</td>\n",
       "      <td>2.219321e-07</td>\n",
       "      <td>5.758406e-21</td>\n",
       "      <td>9.833519e-08</td>\n",
       "      <td>...</td>\n",
       "      <td>4.254374e-13</td>\n",
       "      <td>1.129019e-16</td>\n",
       "      <td>9.485367e-11</td>\n",
       "      <td>1.115118e-13</td>\n",
       "      <td>9.463207e-12</td>\n",
       "      <td>1.435533e-19</td>\n",
       "      <td>2.222883e-12</td>\n",
       "      <td>4.324506e-12</td>\n",
       "      <td>5.861631e-13</td>\n",
       "      <td>1.852593e-12</td>\n",
       "    </tr>\n",
       "  </tbody>\n",
       "</table>\n",
       "<p>5 rows × 206 columns</p>\n",
       "</div>"
      ],
      "text/plain": [
       "              5-alpha_reductase_inhibitor  11-beta-hsd1_inhibitor  \\\n",
       "sig_id                                                              \n",
       "id_0004d9e33                 4.417585e-07            1.747741e-09   \n",
       "id_001897cda                 8.197366e-12            3.285365e-08   \n",
       "id_002429b5b                 2.946096e-18            2.077645e-23   \n",
       "id_00276f245                 3.104426e-09            1.858999e-09   \n",
       "id_0027f1083                 1.329875e-07            4.798821e-16   \n",
       "\n",
       "              acat_inhibitor  acetylcholine_receptor_agonist  \\\n",
       "sig_id                                                         \n",
       "id_0004d9e33    2.144889e-08                    5.807897e-05   \n",
       "id_001897cda    1.710342e-06                    1.441626e-05   \n",
       "id_002429b5b    3.951437e-10                    1.467225e-08   \n",
       "id_00276f245    1.234209e-06                    2.619782e-05   \n",
       "id_0027f1083    3.131337e-12                    8.160203e-09   \n",
       "\n",
       "              acetylcholine_receptor_antagonist  \\\n",
       "sig_id                                            \n",
       "id_0004d9e33                           0.004595   \n",
       "id_001897cda                           0.000629   \n",
       "id_002429b5b                           0.000019   \n",
       "id_00276f245                           0.000271   \n",
       "id_0027f1083                           0.000049   \n",
       "\n",
       "              acetylcholinesterase_inhibitor  adenosine_receptor_agonist  \\\n",
       "sig_id                                                                     \n",
       "id_0004d9e33                    7.598462e-05                1.307091e-06   \n",
       "id_001897cda                    4.281237e-05                2.619995e-05   \n",
       "id_002429b5b                    2.386894e-08                9.542210e-09   \n",
       "id_00276f245                    1.140535e-03                8.204218e-06   \n",
       "id_0027f1083                    1.887505e-07                6.691449e-09   \n",
       "\n",
       "              adenosine_receptor_antagonist  adenylyl_cyclase_activator  \\\n",
       "sig_id                                                                    \n",
       "id_0004d9e33                   1.953014e-05                5.157091e-16   \n",
       "id_001897cda                   1.215375e-04                5.760241e-06   \n",
       "id_002429b5b                   8.373842e-07                7.978516e-21   \n",
       "id_00276f245                   4.051030e-04                8.866064e-13   \n",
       "id_0027f1083                   2.219321e-07                5.758406e-21   \n",
       "\n",
       "              adrenergic_receptor_agonist  ...  \\\n",
       "sig_id                                     ...   \n",
       "id_0004d9e33                 4.807107e-05  ...   \n",
       "id_001897cda                 2.123392e-02  ...   \n",
       "id_002429b5b                 4.319991e-07  ...   \n",
       "id_00276f245                 5.418062e-04  ...   \n",
       "id_0027f1083                 9.833519e-08  ...   \n",
       "\n",
       "              tropomyosin_receptor_kinase_inhibitor  trpv_agonist  \\\n",
       "sig_id                                                              \n",
       "id_0004d9e33                           1.811777e-09  2.922726e-09   \n",
       "id_001897cda                           4.978219e-11  2.094252e-08   \n",
       "id_002429b5b                           9.145554e-12  2.389026e-19   \n",
       "id_00276f245                           1.938971e-07  2.599168e-10   \n",
       "id_0027f1083                           4.254374e-13  1.129019e-16   \n",
       "\n",
       "              trpv_antagonist  tubulin_inhibitor  tyrosine_kinase_inhibitor  \\\n",
       "sig_id                                                                        \n",
       "id_0004d9e33     3.471247e-07       7.368826e-07               1.199534e-10   \n",
       "id_001897cda     1.022586e-05       1.314176e-09               5.245864e-03   \n",
       "id_002429b5b     4.324323e-09       6.171203e-13               2.283557e-09   \n",
       "id_00276f245     1.123833e-05       3.418442e-06               3.618186e-05   \n",
       "id_0027f1083     9.485367e-11       1.115118e-13               9.463207e-12   \n",
       "\n",
       "              ubiquitin_specific_protease_inhibitor  vegfr_inhibitor  \\\n",
       "sig_id                                                                 \n",
       "id_0004d9e33                           1.202678e-09     2.287582e-08   \n",
       "id_001897cda                           7.503177e-13     1.849681e-03   \n",
       "id_002429b5b                           1.984580e-27     2.129482e-11   \n",
       "id_00276f245                           2.359696e-13     1.093158e-04   \n",
       "id_0027f1083                           1.435533e-19     2.222883e-12   \n",
       "\n",
       "                 vitamin_b  vitamin_d_receptor_agonist  wnt_inhibitor  \n",
       "sig_id                                                                 \n",
       "id_0004d9e33  1.189231e-07                9.016154e-07   4.282496e-08  \n",
       "id_001897cda  1.383942e-07                6.770074e-03   1.043500e-05  \n",
       "id_002429b5b  2.796172e-08                9.971095e-11   5.934254e-10  \n",
       "id_00276f245  1.942877e-06                1.659393e-03   1.996253e-05  \n",
       "id_0027f1083  4.324506e-12                5.861631e-13   1.852593e-12  \n",
       "\n",
       "[5 rows x 206 columns]"
      ]
     },
     "execution_count": 81,
     "metadata": {},
     "output_type": "execute_result"
    }
   ],
   "source": [
    "tts_pred2 = model2.predict(transf_testf_arr)\n",
    "sub_df = pd.DataFrame(tts_pred2,index=testf_df.index,columns=tts_df.columns)\n",
    "sub_df.head()"
   ]
  },
  {
   "cell_type": "code",
   "execution_count": 82,
   "metadata": {},
   "outputs": [],
   "source": [
    "sub_df.to_csv('cluster-submission.csv')"
   ]
  },
  {
   "cell_type": "code",
   "execution_count": null,
   "metadata": {},
   "outputs": [],
   "source": []
  }
 ],
 "metadata": {
  "kernelspec": {
   "display_name": "Python 3",
   "language": "python",
   "name": "python3"
  },
  "language_info": {
   "codemirror_mode": {
    "name": "ipython",
    "version": 3
   },
   "file_extension": ".py",
   "mimetype": "text/x-python",
   "name": "python",
   "nbconvert_exporter": "python",
   "pygments_lexer": "ipython3",
   "version": "3.8.5"
  }
 },
 "nbformat": 4,
 "nbformat_minor": 4
}

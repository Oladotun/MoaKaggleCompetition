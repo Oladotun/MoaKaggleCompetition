{
 "cells": [
  {
   "cell_type": "code",
   "execution_count": 1,
   "metadata": {},
   "outputs": [],
   "source": [
    "import numpy as np\n",
    "import pandas as pd\n",
    "from sklearn.preprocessing import StandardScaler, MinMaxScaler"
   ]
  },
  {
   "cell_type": "code",
   "execution_count": 2,
   "metadata": {},
   "outputs": [],
   "source": [
    "import matplotlib.pyplot as plt\n",
    "import seaborn as sns\n",
    "%matplotlib inline\n",
    "sns.set()\n",
    "sns.set_style('whitegrid')"
   ]
  },
  {
   "cell_type": "code",
   "execution_count": 3,
   "metadata": {},
   "outputs": [],
   "source": [
    "import category_encoders as ce"
   ]
  },
  {
   "cell_type": "code",
   "execution_count": 4,
   "metadata": {},
   "outputs": [],
   "source": [
    "from sklearn.decomposition import PCA\n",
    "from sklearn.cluster import KMeans, MeanShift, DBSCAN"
   ]
  },
  {
   "cell_type": "code",
   "execution_count": 5,
   "metadata": {},
   "outputs": [],
   "source": [
    "from sklearn.model_selection import train_test_split"
   ]
  },
  {
   "cell_type": "code",
   "execution_count": 6,
   "metadata": {},
   "outputs": [],
   "source": [
    "import tensorflow as tf"
   ]
  },
  {
   "cell_type": "code",
   "execution_count": 7,
   "metadata": {},
   "outputs": [],
   "source": [
    "import keras\n",
    "from keras.models import Model\n",
    "import kerastuner"
   ]
  },
  {
   "cell_type": "code",
   "execution_count": 8,
   "metadata": {},
   "outputs": [],
   "source": [
    "from sklearn import metrics"
   ]
  },
  {
   "cell_type": "code",
   "execution_count": 9,
   "metadata": {},
   "outputs": [],
   "source": [
    "from keras.layers import Dense, Input, Dropout"
   ]
  },
  {
   "cell_type": "markdown",
   "metadata": {},
   "source": [
    "## Keras notebook with clustering added\n",
    "1. Plot PCA explained variance, pick a number of PCA dimensions to pass to NN.\n",
    "1. Visualize 2D PCA of this dataset.\n",
    "1. Conduct elbow and/or silhouette tests of the data reduced to various PCA dimensions.\n",
    "1. Select an optimal clustering algorithm and hyperparameters and number of PCA dimensions to cluster on, then cluster.\n",
    "1. Make cluster id a categorical feature, hot encode it.\n",
    "1. Pass PCA dimensions and cluster id to three layer NN.\n",
    "1. Tune the network & train up the best candidate."
   ]
  },
  {
   "cell_type": "code",
   "execution_count": 10,
   "metadata": {},
   "outputs": [],
   "source": [
    "tf_df = pd.read_csv('../train_features.csv',index_col='sig_id')\n",
    "tts_df = pd.read_csv('../train_targets_scored.csv',index_col='sig_id')\n",
    "tf_df['cp_type']=tf_df['cp_type'].astype('category')\n",
    "scaler = MinMaxScaler(feature_range=(-0.5,0.5))\n",
    "tf_df['cp_time']=scaler.fit_transform((np.array(tf_df['cp_time'])).reshape(-1,1))\n",
    "tf_df['cp_dose']=tf_df['cp_dose'].astype('category')\n",
    "transformer = StandardScaler()\n",
    "tf_df.loc[:,'g-0':'c-99']=transformer.fit_transform(tf_df.loc[:,'g-0':'c-99'])"
   ]
  },
  {
   "cell_type": "code",
   "execution_count": 11,
   "metadata": {},
   "outputs": [
    {
     "name": "stdout",
     "output_type": "stream",
     "text": [
      "['trt_cp', 'ctl_vehicle']\n",
      "Categories (2, object): ['trt_cp', 'ctl_vehicle'] ['D1', 'D2']\n",
      "Categories (2, object): ['D1', 'D2']\n"
     ]
    }
   ],
   "source": [
    "print(tf_df['cp_type'].unique(),tf_df['cp_dose'].unique())"
   ]
  },
  {
   "cell_type": "code",
   "execution_count": 12,
   "metadata": {},
   "outputs": [
    {
     "data": {
      "text/html": [
       "<div>\n",
       "<style scoped>\n",
       "    .dataframe tbody tr th:only-of-type {\n",
       "        vertical-align: middle;\n",
       "    }\n",
       "\n",
       "    .dataframe tbody tr th {\n",
       "        vertical-align: top;\n",
       "    }\n",
       "\n",
       "    .dataframe thead th {\n",
       "        text-align: right;\n",
       "    }\n",
       "</style>\n",
       "<table border=\"1\" class=\"dataframe\">\n",
       "  <thead>\n",
       "    <tr style=\"text-align: right;\">\n",
       "      <th></th>\n",
       "      <th>cp_type</th>\n",
       "      <th>cp_time</th>\n",
       "      <th>cp_dose</th>\n",
       "      <th>g-0</th>\n",
       "      <th>g-1</th>\n",
       "      <th>g-2</th>\n",
       "      <th>g-3</th>\n",
       "      <th>g-4</th>\n",
       "      <th>g-5</th>\n",
       "      <th>g-6</th>\n",
       "      <th>...</th>\n",
       "      <th>c-90</th>\n",
       "      <th>c-91</th>\n",
       "      <th>c-92</th>\n",
       "      <th>c-93</th>\n",
       "      <th>c-94</th>\n",
       "      <th>c-95</th>\n",
       "      <th>c-96</th>\n",
       "      <th>c-97</th>\n",
       "      <th>c-98</th>\n",
       "      <th>c-99</th>\n",
       "    </tr>\n",
       "    <tr>\n",
       "      <th>sig_id</th>\n",
       "      <th></th>\n",
       "      <th></th>\n",
       "      <th></th>\n",
       "      <th></th>\n",
       "      <th></th>\n",
       "      <th></th>\n",
       "      <th></th>\n",
       "      <th></th>\n",
       "      <th></th>\n",
       "      <th></th>\n",
       "      <th></th>\n",
       "      <th></th>\n",
       "      <th></th>\n",
       "      <th></th>\n",
       "      <th></th>\n",
       "      <th></th>\n",
       "      <th></th>\n",
       "      <th></th>\n",
       "      <th></th>\n",
       "      <th></th>\n",
       "      <th></th>\n",
       "    </tr>\n",
       "  </thead>\n",
       "  <tbody>\n",
       "    <tr>\n",
       "      <th>id_ec319843a</th>\n",
       "      <td>1</td>\n",
       "      <td>-0.5</td>\n",
       "      <td>2</td>\n",
       "      <td>-0.654289</td>\n",
       "      <td>-0.407235</td>\n",
       "      <td>0.920863</td>\n",
       "      <td>0.250243</td>\n",
       "      <td>0.927896</td>\n",
       "      <td>0.263138</td>\n",
       "      <td>1.064330</td>\n",
       "      <td>...</td>\n",
       "      <td>0.031165</td>\n",
       "      <td>0.406041</td>\n",
       "      <td>0.532733</td>\n",
       "      <td>0.256823</td>\n",
       "      <td>-0.183885</td>\n",
       "      <td>0.872009</td>\n",
       "      <td>0.099231</td>\n",
       "      <td>0.553976</td>\n",
       "      <td>0.107125</td>\n",
       "      <td>-0.299736</td>\n",
       "    </tr>\n",
       "    <tr>\n",
       "      <th>id_535884392</th>\n",
       "      <td>1</td>\n",
       "      <td>-0.5</td>\n",
       "      <td>2</td>\n",
       "      <td>-0.471710</td>\n",
       "      <td>0.508384</td>\n",
       "      <td>-0.176066</td>\n",
       "      <td>0.501508</td>\n",
       "      <td>-0.070971</td>\n",
       "      <td>0.776975</td>\n",
       "      <td>0.491105</td>\n",
       "      <td>...</td>\n",
       "      <td>0.738957</td>\n",
       "      <td>0.426311</td>\n",
       "      <td>-0.009464</td>\n",
       "      <td>-0.366794</td>\n",
       "      <td>-0.340770</td>\n",
       "      <td>-0.036443</td>\n",
       "      <td>0.372041</td>\n",
       "      <td>-0.422498</td>\n",
       "      <td>0.274719</td>\n",
       "      <td>-0.085230</td>\n",
       "    </tr>\n",
       "    <tr>\n",
       "      <th>id_2988f18e7</th>\n",
       "      <td>1</td>\n",
       "      <td>-0.5</td>\n",
       "      <td>2</td>\n",
       "      <td>-0.111935</td>\n",
       "      <td>1.434959</td>\n",
       "      <td>-0.889297</td>\n",
       "      <td>-1.171559</td>\n",
       "      <td>0.762597</td>\n",
       "      <td>-0.244848</td>\n",
       "      <td>0.582676</td>\n",
       "      <td>...</td>\n",
       "      <td>0.147189</td>\n",
       "      <td>-0.206464</td>\n",
       "      <td>-0.142103</td>\n",
       "      <td>0.411114</td>\n",
       "      <td>0.080060</td>\n",
       "      <td>-0.272072</td>\n",
       "      <td>0.313876</td>\n",
       "      <td>0.747568</td>\n",
       "      <td>0.482318</td>\n",
       "      <td>-0.117903</td>\n",
       "    </tr>\n",
       "    <tr>\n",
       "      <th>id_c0fecd46e</th>\n",
       "      <td>1</td>\n",
       "      <td>0.5</td>\n",
       "      <td>1</td>\n",
       "      <td>-0.452691</td>\n",
       "      <td>0.233994</td>\n",
       "      <td>-0.290577</td>\n",
       "      <td>0.834984</td>\n",
       "      <td>-0.665214</td>\n",
       "      <td>0.186741</td>\n",
       "      <td>0.846056</td>\n",
       "      <td>...</td>\n",
       "      <td>0.710114</td>\n",
       "      <td>0.801696</td>\n",
       "      <td>0.306722</td>\n",
       "      <td>0.706122</td>\n",
       "      <td>0.380494</td>\n",
       "      <td>0.778837</td>\n",
       "      <td>0.535415</td>\n",
       "      <td>-0.073703</td>\n",
       "      <td>0.788075</td>\n",
       "      <td>0.867615</td>\n",
       "    </tr>\n",
       "    <tr>\n",
       "      <th>id_5994f5ca2</th>\n",
       "      <td>1</td>\n",
       "      <td>0.0</td>\n",
       "      <td>2</td>\n",
       "      <td>-0.306930</td>\n",
       "      <td>0.250735</td>\n",
       "      <td>0.011824</td>\n",
       "      <td>0.570245</td>\n",
       "      <td>0.472888</td>\n",
       "      <td>0.464264</td>\n",
       "      <td>-0.036448</td>\n",
       "      <td>...</td>\n",
       "      <td>0.162586</td>\n",
       "      <td>0.112273</td>\n",
       "      <td>0.593882</td>\n",
       "      <td>0.308934</td>\n",
       "      <td>-0.008801</td>\n",
       "      <td>0.352201</td>\n",
       "      <td>0.036212</td>\n",
       "      <td>-0.076403</td>\n",
       "      <td>0.591813</td>\n",
       "      <td>-0.187369</td>\n",
       "    </tr>\n",
       "  </tbody>\n",
       "</table>\n",
       "<p>5 rows × 875 columns</p>\n",
       "</div>"
      ],
      "text/plain": [
       "              cp_type  cp_time  cp_dose       g-0       g-1       g-2  \\\n",
       "sig_id                                                                  \n",
       "id_ec319843a        1     -0.5        2 -0.654289 -0.407235  0.920863   \n",
       "id_535884392        1     -0.5        2 -0.471710  0.508384 -0.176066   \n",
       "id_2988f18e7        1     -0.5        2 -0.111935  1.434959 -0.889297   \n",
       "id_c0fecd46e        1      0.5        1 -0.452691  0.233994 -0.290577   \n",
       "id_5994f5ca2        1      0.0        2 -0.306930  0.250735  0.011824   \n",
       "\n",
       "                   g-3       g-4       g-5       g-6  ...      c-90      c-91  \\\n",
       "sig_id                                                ...                       \n",
       "id_ec319843a  0.250243  0.927896  0.263138  1.064330  ...  0.031165  0.406041   \n",
       "id_535884392  0.501508 -0.070971  0.776975  0.491105  ...  0.738957  0.426311   \n",
       "id_2988f18e7 -1.171559  0.762597 -0.244848  0.582676  ...  0.147189 -0.206464   \n",
       "id_c0fecd46e  0.834984 -0.665214  0.186741  0.846056  ...  0.710114  0.801696   \n",
       "id_5994f5ca2  0.570245  0.472888  0.464264 -0.036448  ...  0.162586  0.112273   \n",
       "\n",
       "                  c-92      c-93      c-94      c-95      c-96      c-97  \\\n",
       "sig_id                                                                     \n",
       "id_ec319843a  0.532733  0.256823 -0.183885  0.872009  0.099231  0.553976   \n",
       "id_535884392 -0.009464 -0.366794 -0.340770 -0.036443  0.372041 -0.422498   \n",
       "id_2988f18e7 -0.142103  0.411114  0.080060 -0.272072  0.313876  0.747568   \n",
       "id_c0fecd46e  0.306722  0.706122  0.380494  0.778837  0.535415 -0.073703   \n",
       "id_5994f5ca2  0.593882  0.308934 -0.008801  0.352201  0.036212 -0.076403   \n",
       "\n",
       "                  c-98      c-99  \n",
       "sig_id                            \n",
       "id_ec319843a  0.107125 -0.299736  \n",
       "id_535884392  0.274719 -0.085230  \n",
       "id_2988f18e7  0.482318 -0.117903  \n",
       "id_c0fecd46e  0.788075  0.867615  \n",
       "id_5994f5ca2  0.591813 -0.187369  \n",
       "\n",
       "[5 rows x 875 columns]"
      ]
     },
     "execution_count": 12,
     "metadata": {},
     "output_type": "execute_result"
    }
   ],
   "source": [
    "oenc = ce.ordinal.OrdinalEncoder()\n",
    "tf_df = oenc.fit_transform(tf_df)\n",
    "tf_df.sample(5)"
   ]
  },
  {
   "cell_type": "code",
   "execution_count": 13,
   "metadata": {},
   "outputs": [
    {
     "data": {
      "text/html": [
       "<div>\n",
       "<style scoped>\n",
       "    .dataframe tbody tr th:only-of-type {\n",
       "        vertical-align: middle;\n",
       "    }\n",
       "\n",
       "    .dataframe tbody tr th {\n",
       "        vertical-align: top;\n",
       "    }\n",
       "\n",
       "    .dataframe thead th {\n",
       "        text-align: right;\n",
       "    }\n",
       "</style>\n",
       "<table border=\"1\" class=\"dataframe\">\n",
       "  <thead>\n",
       "    <tr style=\"text-align: right;\">\n",
       "      <th></th>\n",
       "      <th>cp_type</th>\n",
       "      <th>cp_time</th>\n",
       "      <th>cp_dose</th>\n",
       "      <th>g-0</th>\n",
       "      <th>g-1</th>\n",
       "      <th>g-2</th>\n",
       "      <th>g-3</th>\n",
       "      <th>g-4</th>\n",
       "      <th>g-5</th>\n",
       "      <th>g-6</th>\n",
       "      <th>...</th>\n",
       "      <th>c-90</th>\n",
       "      <th>c-91</th>\n",
       "      <th>c-92</th>\n",
       "      <th>c-93</th>\n",
       "      <th>c-94</th>\n",
       "      <th>c-95</th>\n",
       "      <th>c-96</th>\n",
       "      <th>c-97</th>\n",
       "      <th>c-98</th>\n",
       "      <th>c-99</th>\n",
       "    </tr>\n",
       "    <tr>\n",
       "      <th>sig_id</th>\n",
       "      <th></th>\n",
       "      <th></th>\n",
       "      <th></th>\n",
       "      <th></th>\n",
       "      <th></th>\n",
       "      <th></th>\n",
       "      <th></th>\n",
       "      <th></th>\n",
       "      <th></th>\n",
       "      <th></th>\n",
       "      <th></th>\n",
       "      <th></th>\n",
       "      <th></th>\n",
       "      <th></th>\n",
       "      <th></th>\n",
       "      <th></th>\n",
       "      <th></th>\n",
       "      <th></th>\n",
       "      <th></th>\n",
       "      <th></th>\n",
       "      <th></th>\n",
       "    </tr>\n",
       "  </thead>\n",
       "  <tbody>\n",
       "    <tr>\n",
       "      <th>id_000644bb2</th>\n",
       "      <td>0</td>\n",
       "      <td>-0.5</td>\n",
       "      <td>0</td>\n",
       "      <td>0.583933</td>\n",
       "      <td>0.804317</td>\n",
       "      <td>-0.386357</td>\n",
       "      <td>-0.739765</td>\n",
       "      <td>-0.243924</td>\n",
       "      <td>-0.740369</td>\n",
       "      <td>-1.198991</td>\n",
       "      <td>...</td>\n",
       "      <td>0.377638</td>\n",
       "      <td>0.352428</td>\n",
       "      <td>0.659876</td>\n",
       "      <td>0.499484</td>\n",
       "      <td>0.146278</td>\n",
       "      <td>0.621219</td>\n",
       "      <td>0.031745</td>\n",
       "      <td>0.347587</td>\n",
       "      <td>0.463460</td>\n",
       "      <td>0.510769</td>\n",
       "    </tr>\n",
       "    <tr>\n",
       "      <th>id_000779bfc</th>\n",
       "      <td>0</td>\n",
       "      <td>0.5</td>\n",
       "      <td>0</td>\n",
       "      <td>-0.124925</td>\n",
       "      <td>0.620898</td>\n",
       "      <td>0.141784</td>\n",
       "      <td>-0.022707</td>\n",
       "      <td>0.931772</td>\n",
       "      <td>0.559230</td>\n",
       "      <td>0.224552</td>\n",
       "      <td>...</td>\n",
       "      <td>0.021367</td>\n",
       "      <td>0.595227</td>\n",
       "      <td>0.491617</td>\n",
       "      <td>0.248281</td>\n",
       "      <td>0.371742</td>\n",
       "      <td>0.517798</td>\n",
       "      <td>0.298922</td>\n",
       "      <td>0.294874</td>\n",
       "      <td>0.587507</td>\n",
       "      <td>0.737704</td>\n",
       "    </tr>\n",
       "    <tr>\n",
       "      <th>id_000a6266a</th>\n",
       "      <td>0</td>\n",
       "      <td>0.0</td>\n",
       "      <td>0</td>\n",
       "      <td>0.272457</td>\n",
       "      <td>0.833861</td>\n",
       "      <td>1.353417</td>\n",
       "      <td>-0.166708</td>\n",
       "      <td>-0.086861</td>\n",
       "      <td>1.168288</td>\n",
       "      <td>0.153607</td>\n",
       "      <td>...</td>\n",
       "      <td>-0.127850</td>\n",
       "      <td>-0.082397</td>\n",
       "      <td>0.561309</td>\n",
       "      <td>0.247948</td>\n",
       "      <td>-0.378278</td>\n",
       "      <td>0.022296</td>\n",
       "      <td>-0.086525</td>\n",
       "      <td>0.093651</td>\n",
       "      <td>-0.511093</td>\n",
       "      <td>0.706452</td>\n",
       "    </tr>\n",
       "    <tr>\n",
       "      <th>id_0015fd391</th>\n",
       "      <td>0</td>\n",
       "      <td>0.0</td>\n",
       "      <td>0</td>\n",
       "      <td>-0.546995</td>\n",
       "      <td>-0.188856</td>\n",
       "      <td>-0.403446</td>\n",
       "      <td>0.470350</td>\n",
       "      <td>3.880216</td>\n",
       "      <td>-0.568667</td>\n",
       "      <td>-2.260896</td>\n",
       "      <td>...</td>\n",
       "      <td>-0.814697</td>\n",
       "      <td>-0.089447</td>\n",
       "      <td>-2.556236</td>\n",
       "      <td>-0.416627</td>\n",
       "      <td>-0.164899</td>\n",
       "      <td>-0.573436</td>\n",
       "      <td>-0.561987</td>\n",
       "      <td>-0.293593</td>\n",
       "      <td>0.045047</td>\n",
       "      <td>-0.365011</td>\n",
       "    </tr>\n",
       "    <tr>\n",
       "      <th>id_001626bd3</th>\n",
       "      <td>0</td>\n",
       "      <td>0.5</td>\n",
       "      <td>1</td>\n",
       "      <td>-0.411783</td>\n",
       "      <td>-0.375722</td>\n",
       "      <td>0.789552</td>\n",
       "      <td>0.642035</td>\n",
       "      <td>1.318373</td>\n",
       "      <td>-0.581300</td>\n",
       "      <td>-0.358079</td>\n",
       "      <td>...</td>\n",
       "      <td>0.236669</td>\n",
       "      <td>0.228262</td>\n",
       "      <td>0.589635</td>\n",
       "      <td>0.744707</td>\n",
       "      <td>0.490563</td>\n",
       "      <td>0.031073</td>\n",
       "      <td>0.278143</td>\n",
       "      <td>0.391377</td>\n",
       "      <td>0.049952</td>\n",
       "      <td>0.720231</td>\n",
       "    </tr>\n",
       "  </tbody>\n",
       "</table>\n",
       "<p>5 rows × 875 columns</p>\n",
       "</div>"
      ],
      "text/plain": [
       "              cp_type  cp_time  cp_dose       g-0       g-1       g-2  \\\n",
       "sig_id                                                                  \n",
       "id_000644bb2        0     -0.5        0  0.583933  0.804317 -0.386357   \n",
       "id_000779bfc        0      0.5        0 -0.124925  0.620898  0.141784   \n",
       "id_000a6266a        0      0.0        0  0.272457  0.833861  1.353417   \n",
       "id_0015fd391        0      0.0        0 -0.546995 -0.188856 -0.403446   \n",
       "id_001626bd3        0      0.5        1 -0.411783 -0.375722  0.789552   \n",
       "\n",
       "                   g-3       g-4       g-5       g-6  ...      c-90      c-91  \\\n",
       "sig_id                                                ...                       \n",
       "id_000644bb2 -0.739765 -0.243924 -0.740369 -1.198991  ...  0.377638  0.352428   \n",
       "id_000779bfc -0.022707  0.931772  0.559230  0.224552  ...  0.021367  0.595227   \n",
       "id_000a6266a -0.166708 -0.086861  1.168288  0.153607  ... -0.127850 -0.082397   \n",
       "id_0015fd391  0.470350  3.880216 -0.568667 -2.260896  ... -0.814697 -0.089447   \n",
       "id_001626bd3  0.642035  1.318373 -0.581300 -0.358079  ...  0.236669  0.228262   \n",
       "\n",
       "                  c-92      c-93      c-94      c-95      c-96      c-97  \\\n",
       "sig_id                                                                     \n",
       "id_000644bb2  0.659876  0.499484  0.146278  0.621219  0.031745  0.347587   \n",
       "id_000779bfc  0.491617  0.248281  0.371742  0.517798  0.298922  0.294874   \n",
       "id_000a6266a  0.561309  0.247948 -0.378278  0.022296 -0.086525  0.093651   \n",
       "id_0015fd391 -2.556236 -0.416627 -0.164899 -0.573436 -0.561987 -0.293593   \n",
       "id_001626bd3  0.589635  0.744707  0.490563  0.031073  0.278143  0.391377   \n",
       "\n",
       "                  c-98      c-99  \n",
       "sig_id                            \n",
       "id_000644bb2  0.463460  0.510769  \n",
       "id_000779bfc  0.587507  0.737704  \n",
       "id_000a6266a -0.511093  0.706452  \n",
       "id_0015fd391  0.045047 -0.365011  \n",
       "id_001626bd3  0.049952  0.720231  \n",
       "\n",
       "[5 rows x 875 columns]"
      ]
     },
     "execution_count": 13,
     "metadata": {},
     "output_type": "execute_result"
    }
   ],
   "source": [
    "tf_df['cp_type']=tf_df['cp_type']-1\n",
    "tf_df['cp_dose']=tf_df['cp_dose']-1\n",
    "tf_df.head()"
   ]
  },
  {
   "cell_type": "markdown",
   "metadata": {},
   "source": [
    "1. Plot PCA explained variance."
   ]
  },
  {
   "cell_type": "code",
   "execution_count": 14,
   "metadata": {},
   "outputs": [
    {
     "data": {
      "image/png": "[encoded data removed]",
      "text/plain": [
       "<Figure size 432x288 with 1 Axes>"
      ]
     },
     "metadata": {},
     "output_type": "display_data"
    }
   ],
   "source": [
    "pca = PCA()\n",
    "pca_df = pd.DataFrame(pca.fit_transform(tf_df),index=tf_df.index)\n",
    "var_explain = np.cumsum(pca.explained_variance_ratio_)\n",
    "plt.plot(var_explain)\n",
    "plt.show()"
   ]
  },
  {
   "cell_type": "markdown",
   "metadata": {},
   "source": [
    "1. Pick a number of PCA dimension to pass as NN inputs:"
   ]
  },
  {
   "cell_type": "code",
   "execution_count": 15,
   "metadata": {},
   "outputs": [
    {
     "data": {
      "text/plain": [
       "array([0.28775034, 0.32782045, 0.36001795, 0.38915401, 0.41040127,\n",
       "       0.43118162, 0.44850562, 0.46499128, 0.47759148, 0.48873435,\n",
       "       0.4990097 , 0.50816347, 0.51619619, 0.52375074, 0.53113156,\n",
       "       0.5382704 , 0.54462608, 0.55056391, 0.55589954, 0.56097575,\n",
       "       0.56532816, 0.56965964, 0.5737198 , 0.5775231 , 0.58112902,\n",
       "       0.58458155, 0.58797941, 0.59125316, 0.59438609, 0.59741847])"
      ]
     },
     "execution_count": 15,
     "metadata": {},
     "output_type": "execute_result"
    }
   ],
   "source": [
    "var_explain[var_explain<0.6]"
   ]
  },
  {
   "cell_type": "markdown",
   "metadata": {},
   "source": [
    "Thirty is a surprisingly tractable number."
   ]
  },
  {
   "cell_type": "code",
   "execution_count": 16,
   "metadata": {},
   "outputs": [
    {
     "data": {
      "text/html": [
       "<div>\n",
       "<style scoped>\n",
       "    .dataframe tbody tr th:only-of-type {\n",
       "        vertical-align: middle;\n",
       "    }\n",
       "\n",
       "    .dataframe tbody tr th {\n",
       "        vertical-align: top;\n",
       "    }\n",
       "\n",
       "    .dataframe thead th {\n",
       "        text-align: right;\n",
       "    }\n",
       "</style>\n",
       "<table border=\"1\" class=\"dataframe\">\n",
       "  <thead>\n",
       "    <tr style=\"text-align: right;\">\n",
       "      <th></th>\n",
       "      <th>0</th>\n",
       "      <th>1</th>\n",
       "      <th>2</th>\n",
       "      <th>3</th>\n",
       "      <th>4</th>\n",
       "      <th>5</th>\n",
       "      <th>6</th>\n",
       "      <th>7</th>\n",
       "      <th>8</th>\n",
       "      <th>9</th>\n",
       "      <th>...</th>\n",
       "      <th>865</th>\n",
       "      <th>866</th>\n",
       "      <th>867</th>\n",
       "      <th>868</th>\n",
       "      <th>869</th>\n",
       "      <th>870</th>\n",
       "      <th>871</th>\n",
       "      <th>872</th>\n",
       "      <th>873</th>\n",
       "      <th>874</th>\n",
       "    </tr>\n",
       "    <tr>\n",
       "      <th>sig_id</th>\n",
       "      <th></th>\n",
       "      <th></th>\n",
       "      <th></th>\n",
       "      <th></th>\n",
       "      <th></th>\n",
       "      <th></th>\n",
       "      <th></th>\n",
       "      <th></th>\n",
       "      <th></th>\n",
       "      <th></th>\n",
       "      <th></th>\n",
       "      <th></th>\n",
       "      <th></th>\n",
       "      <th></th>\n",
       "      <th></th>\n",
       "      <th></th>\n",
       "      <th></th>\n",
       "      <th></th>\n",
       "      <th></th>\n",
       "      <th></th>\n",
       "      <th></th>\n",
       "    </tr>\n",
       "  </thead>\n",
       "  <tbody>\n",
       "    <tr>\n",
       "      <th>id_000644bb2</th>\n",
       "      <td>-7.107259</td>\n",
       "      <td>-1.168778</td>\n",
       "      <td>-0.310614</td>\n",
       "      <td>7.708409</td>\n",
       "      <td>-4.206789</td>\n",
       "      <td>-2.876220</td>\n",
       "      <td>2.219229</td>\n",
       "      <td>3.733861</td>\n",
       "      <td>-2.235870</td>\n",
       "      <td>-1.567758</td>\n",
       "      <td>...</td>\n",
       "      <td>-0.084736</td>\n",
       "      <td>-0.026212</td>\n",
       "      <td>0.031605</td>\n",
       "      <td>-0.263764</td>\n",
       "      <td>-0.086280</td>\n",
       "      <td>-0.098859</td>\n",
       "      <td>-0.105082</td>\n",
       "      <td>0.025546</td>\n",
       "      <td>-0.127693</td>\n",
       "      <td>0.157130</td>\n",
       "    </tr>\n",
       "    <tr>\n",
       "      <th>id_000779bfc</th>\n",
       "      <td>-6.361546</td>\n",
       "      <td>3.714502</td>\n",
       "      <td>7.178185</td>\n",
       "      <td>-4.380409</td>\n",
       "      <td>3.715265</td>\n",
       "      <td>3.302999</td>\n",
       "      <td>1.701060</td>\n",
       "      <td>0.001956</td>\n",
       "      <td>0.150894</td>\n",
       "      <td>1.241798</td>\n",
       "      <td>...</td>\n",
       "      <td>0.173947</td>\n",
       "      <td>-0.148990</td>\n",
       "      <td>0.103297</td>\n",
       "      <td>-0.281370</td>\n",
       "      <td>-0.210922</td>\n",
       "      <td>0.142719</td>\n",
       "      <td>-0.128665</td>\n",
       "      <td>0.015662</td>\n",
       "      <td>-0.100796</td>\n",
       "      <td>-0.173679</td>\n",
       "    </tr>\n",
       "    <tr>\n",
       "      <th>id_000a6266a</th>\n",
       "      <td>-1.731815</td>\n",
       "      <td>2.388899</td>\n",
       "      <td>-3.213443</td>\n",
       "      <td>-5.197731</td>\n",
       "      <td>0.391750</td>\n",
       "      <td>-1.006098</td>\n",
       "      <td>1.554354</td>\n",
       "      <td>-2.843535</td>\n",
       "      <td>0.268474</td>\n",
       "      <td>-3.741226</td>\n",
       "      <td>...</td>\n",
       "      <td>-0.167156</td>\n",
       "      <td>0.017084</td>\n",
       "      <td>0.165514</td>\n",
       "      <td>-0.069780</td>\n",
       "      <td>-0.144941</td>\n",
       "      <td>0.343237</td>\n",
       "      <td>-0.026656</td>\n",
       "      <td>0.052571</td>\n",
       "      <td>-0.037894</td>\n",
       "      <td>0.029508</td>\n",
       "    </tr>\n",
       "    <tr>\n",
       "      <th>id_0015fd391</th>\n",
       "      <td>9.183812</td>\n",
       "      <td>-2.753994</td>\n",
       "      <td>-5.093871</td>\n",
       "      <td>-8.610308</td>\n",
       "      <td>-4.969259</td>\n",
       "      <td>-6.347330</td>\n",
       "      <td>1.799940</td>\n",
       "      <td>-6.918809</td>\n",
       "      <td>-0.713619</td>\n",
       "      <td>4.037423</td>\n",
       "      <td>...</td>\n",
       "      <td>0.119759</td>\n",
       "      <td>-0.337072</td>\n",
       "      <td>0.247771</td>\n",
       "      <td>-0.249129</td>\n",
       "      <td>-0.185941</td>\n",
       "      <td>-0.461194</td>\n",
       "      <td>-0.197853</td>\n",
       "      <td>0.209215</td>\n",
       "      <td>0.192482</td>\n",
       "      <td>0.067413</td>\n",
       "    </tr>\n",
       "    <tr>\n",
       "      <th>id_001626bd3</th>\n",
       "      <td>-6.472174</td>\n",
       "      <td>1.019788</td>\n",
       "      <td>4.140000</td>\n",
       "      <td>-8.496081</td>\n",
       "      <td>-3.039038</td>\n",
       "      <td>-2.312408</td>\n",
       "      <td>-0.923099</td>\n",
       "      <td>0.415253</td>\n",
       "      <td>6.733137</td>\n",
       "      <td>4.569647</td>\n",
       "      <td>...</td>\n",
       "      <td>-0.301818</td>\n",
       "      <td>-0.322237</td>\n",
       "      <td>0.228351</td>\n",
       "      <td>0.021456</td>\n",
       "      <td>-0.265926</td>\n",
       "      <td>0.164691</td>\n",
       "      <td>-0.063793</td>\n",
       "      <td>0.038360</td>\n",
       "      <td>0.059974</td>\n",
       "      <td>0.017034</td>\n",
       "    </tr>\n",
       "  </tbody>\n",
       "</table>\n",
       "<p>5 rows × 875 columns</p>\n",
       "</div>"
      ],
      "text/plain": [
       "                   0         1         2         3         4         5    \\\n",
       "sig_id                                                                     \n",
       "id_000644bb2 -7.107259 -1.168778 -0.310614  7.708409 -4.206789 -2.876220   \n",
       "id_000779bfc -6.361546  3.714502  7.178185 -4.380409  3.715265  3.302999   \n",
       "id_000a6266a -1.731815  2.388899 -3.213443 -5.197731  0.391750 -1.006098   \n",
       "id_0015fd391  9.183812 -2.753994 -5.093871 -8.610308 -4.969259 -6.347330   \n",
       "id_001626bd3 -6.472174  1.019788  4.140000 -8.496081 -3.039038 -2.312408   \n",
       "\n",
       "                   6         7         8         9    ...       865       866  \\\n",
       "sig_id                                                ...                       \n",
       "id_000644bb2  2.219229  3.733861 -2.235870 -1.567758  ... -0.084736 -0.026212   \n",
       "id_000779bfc  1.701060  0.001956  0.150894  1.241798  ...  0.173947 -0.148990   \n",
       "id_000a6266a  1.554354 -2.843535  0.268474 -3.741226  ... -0.167156  0.017084   \n",
       "id_0015fd391  1.799940 -6.918809 -0.713619  4.037423  ...  0.119759 -0.337072   \n",
       "id_001626bd3 -0.923099  0.415253  6.733137  4.569647  ... -0.301818 -0.322237   \n",
       "\n",
       "                   867       868       869       870       871       872  \\\n",
       "sig_id                                                                     \n",
       "id_000644bb2  0.031605 -0.263764 -0.086280 -0.098859 -0.105082  0.025546   \n",
       "id_000779bfc  0.103297 -0.281370 -0.210922  0.142719 -0.128665  0.015662   \n",
       "id_000a6266a  0.165514 -0.069780 -0.144941  0.343237 -0.026656  0.052571   \n",
       "id_0015fd391  0.247771 -0.249129 -0.185941 -0.461194 -0.197853  0.209215   \n",
       "id_001626bd3  0.228351  0.021456 -0.265926  0.164691 -0.063793  0.038360   \n",
       "\n",
       "                   873       874  \n",
       "sig_id                            \n",
       "id_000644bb2 -0.127693  0.157130  \n",
       "id_000779bfc -0.100796 -0.173679  \n",
       "id_000a6266a -0.037894  0.029508  \n",
       "id_0015fd391  0.192482  0.067413  \n",
       "id_001626bd3  0.059974  0.017034  \n",
       "\n",
       "[5 rows x 875 columns]"
      ]
     },
     "execution_count": 16,
     "metadata": {},
     "output_type": "execute_result"
    }
   ],
   "source": [
    "pca_df.head()"
   ]
  },
  {
   "cell_type": "code",
   "execution_count": 17,
   "metadata": {},
   "outputs": [
    {
     "data": {
      "text/plain": [
       "RangeIndex(start=0, stop=875, step=1)"
      ]
     },
     "execution_count": 17,
     "metadata": {},
     "output_type": "execute_result"
    }
   ],
   "source": [
    "pca_df.columns"
   ]
  },
  {
   "cell_type": "markdown",
   "metadata": {},
   "source": [
    "2. Visualize 2D PCA of this dataset."
   ]
  },
  {
   "cell_type": "code",
   "execution_count": 18,
   "metadata": {},
   "outputs": [
    {
     "data": {
      "text/plain": [
       "<AxesSubplot:xlabel='0', ylabel='1'>"
      ]
     },
     "execution_count": 18,
     "metadata": {},
     "output_type": "execute_result"
    },
    {
     "data": {
      "image/png": "[encoded data removed]",
      "text/plain": [
       "<Figure size 432x288 with 1 Axes>"
      ]
     },
     "metadata": {},
     "output_type": "display_data"
    }
   ],
   "source": [
    "sns.scatterplot(x=pca_df[0],y=pca_df[1])"
   ]
  },
  {
   "cell_type": "markdown",
   "metadata": {},
   "source": [
    "Hrmmmm... there might even be some clusters in that.\n",
    "\n",
    "It seems to me that I should check the total range of the first several PCA columns and then shrink them to be proportional to the amount of variation those dimensions explain. I don't have any theoretical justification for this; it just sounds reasonable."
   ]
  },
  {
   "cell_type": "code",
   "execution_count": 19,
   "metadata": {},
   "outputs": [
    {
     "name": "stdout",
     "output_type": "stream",
     "text": [
      "0   -13.264071\n",
      "1   -39.080326\n",
      "2   -27.349713\n",
      "3   -36.893205\n",
      "4   -24.195581\n",
      "5   -24.178498\n",
      "6   -35.158631\n",
      "dtype: float64 \n",
      " 0    97.329572\n",
      "1    43.987695\n",
      "2    41.765544\n",
      "3    42.829925\n",
      "4    31.531683\n",
      "5    32.382433\n",
      "6    45.266259\n",
      "dtype: float64\n"
     ]
    }
   ],
   "source": [
    "print(pca_df.loc[:,0:6].min(),'\\n',pca_df.loc[:,0:6].max())"
   ]
  },
  {
   "cell_type": "code",
   "execution_count": 20,
   "metadata": {},
   "outputs": [
    {
     "data": {
      "text/plain": [
       "0    110.593643\n",
       "1     83.068021\n",
       "2     69.115257\n",
       "3     79.723130\n",
       "4     55.727264\n",
       "5     56.560931\n",
       "6     80.424890\n",
       "dtype: float64"
      ]
     },
     "execution_count": 20,
     "metadata": {},
     "output_type": "execute_result"
    }
   ],
   "source": [
    "ranges = pca_df.loc[:,0:6].max()-pca_df.loc[:,0:6].min()\n",
    "ranges"
   ]
  },
  {
   "cell_type": "markdown",
   "metadata": {},
   "source": [
    "They definitely do not taper evenly."
   ]
  },
  {
   "cell_type": "code",
   "execution_count": 21,
   "metadata": {},
   "outputs": [
    {
     "data": {
      "text/plain": [
       "array([100.        ,  13.92530325,  11.18938767,  10.12546597,\n",
       "         7.3839208 ,   7.22165958])"
      ]
     },
     "execution_count": 21,
     "metadata": {},
     "output_type": "execute_result"
    }
   ],
   "source": [
    "variances = pca.explained_variance_ratio_\n",
    "top_var = variances[0]\n",
    "scaled_variances = variances * 100 / top_var\n",
    "scaled_variances[0:6]"
   ]
  },
  {
   "cell_type": "code",
   "execution_count": 22,
   "metadata": {},
   "outputs": [
    {
     "name": "stdout",
     "output_type": "stream",
     "text": [
      "0   -13.264071\n",
      "1   -39.080326\n",
      "2   -27.349713\n",
      "3   -36.893205\n",
      "4   -24.195581\n",
      "5   -24.178498\n",
      "6   -35.158631\n",
      "dtype: float64 \n",
      " 0    97.329572\n",
      "1    43.987695\n",
      "2    41.765544\n",
      "3    42.829925\n",
      "4    31.531683\n",
      "5    32.382433\n",
      "6    45.266259\n",
      "dtype: float64\n"
     ]
    },
    {
     "data": {
      "text/plain": [
       "0    110.593643\n",
       "1     83.068021\n",
       "2     69.115257\n",
       "3     79.723130\n",
       "4     55.727264\n",
       "5     56.560931\n",
       "6     80.424890\n",
       "dtype: float64"
      ]
     },
     "execution_count": 22,
     "metadata": {},
     "output_type": "execute_result"
    }
   ],
   "source": [
    "print(pca_df.loc[:,0:6].min(),'\\n',pca_df.loc[:,0:6].max())\n",
    "pca_df.loc[:,0:6].max()-pca_df.loc[:,0:6].min()"
   ]
  },
  {
   "cell_type": "code",
   "execution_count": 23,
   "metadata": {},
   "outputs": [
    {
     "name": "stdout",
     "output_type": "stream",
     "text": [
      "0   -11.993520\n",
      "1    -6.551323\n",
      "2    -4.427771\n",
      "3    -4.685728\n",
      "4    -3.205940\n",
      "5    -3.087094\n",
      "6   -35.158631\n",
      "dtype: float64 \n",
      " 0    88.006480\n",
      "1     7.373981\n",
      "2     6.761616\n",
      "3     5.439738\n",
      "4     4.177981\n",
      "5     4.134566\n",
      "6    45.266259\n",
      "dtype: float64\n"
     ]
    },
    {
     "data": {
      "text/plain": [
       "0    100.000000\n",
       "1     13.925303\n",
       "2     11.189388\n",
       "3     10.125466\n",
       "4      7.383921\n",
       "5      7.221660\n",
       "6     80.424890\n",
       "dtype: float64"
      ]
     },
     "execution_count": 23,
     "metadata": {},
     "output_type": "execute_result"
    }
   ],
   "source": [
    "scaled_pca6 = pca_df.loc[:,0:6].copy()\n",
    "for col in range(6):\n",
    "    scaled_pca6.loc[:,col] = scaled_pca6.loc[:,col] * scaled_variances[col] / ranges[col]\n",
    "print(scaled_pca6.loc[:,0:6].min(),'\\n',scaled_pca6.loc[:,0:6].max())\n",
    "scaled_pca6.loc[:,0:6].max()-scaled_pca6.loc[:,0:6].min()"
   ]
  },
  {
   "cell_type": "markdown",
   "metadata": {},
   "source": [
    "3. Conduct elbow and/or silhouette tests of the data reduced to various PCA dimensions. (I semi-intentionally picked a maximum of 6.)\n",
    "\n",
    "This calls for a gridsearch loop:\n",
    "* Loop over dimensions 1 to 6\n",
    "    * Loop over k = 1 to 10\n",
    "        * KMeans\n",
    "        * save scores and silhouette_scores\n",
    "    * plot scores and silhouette_scores\n",
    "    * DBSCAN, defaults\n",
    "        * save score and silhouette_score\n",
    "    * MeanShift, defaults\n",
    "        * save score and silhouette_score\n",
    "* Plot DBSCAN and MeanShift results"
   ]
  },
  {
   "cell_type": "code",
   "execution_count": 24,
   "metadata": {},
   "outputs": [
    {
     "data": {
      "text/html": [
       "<div>\n",
       "<style scoped>\n",
       "    .dataframe tbody tr th:only-of-type {\n",
       "        vertical-align: middle;\n",
       "    }\n",
       "\n",
       "    .dataframe tbody tr th {\n",
       "        vertical-align: top;\n",
       "    }\n",
       "\n",
       "    .dataframe thead th {\n",
       "        text-align: right;\n",
       "    }\n",
       "</style>\n",
       "<table border=\"1\" class=\"dataframe\">\n",
       "  <thead>\n",
       "    <tr style=\"text-align: right;\">\n",
       "      <th></th>\n",
       "      <th>0</th>\n",
       "      <th>1</th>\n",
       "      <th>2</th>\n",
       "      <th>3</th>\n",
       "      <th>4</th>\n",
       "      <th>5</th>\n",
       "    </tr>\n",
       "    <tr>\n",
       "      <th>sig_id</th>\n",
       "      <th></th>\n",
       "      <th></th>\n",
       "      <th></th>\n",
       "      <th></th>\n",
       "      <th></th>\n",
       "      <th></th>\n",
       "    </tr>\n",
       "  </thead>\n",
       "  <tbody>\n",
       "    <tr>\n",
       "      <th>id_000644bb2</th>\n",
       "      <td>-6.426463</td>\n",
       "      <td>-0.195931</td>\n",
       "      <td>-0.050287</td>\n",
       "      <td>0.979029</td>\n",
       "      <td>-0.557404</td>\n",
       "      <td>-0.367234</td>\n",
       "    </tr>\n",
       "    <tr>\n",
       "      <th>id_000779bfc</th>\n",
       "      <td>-5.752181</td>\n",
       "      <td>0.622689</td>\n",
       "      <td>1.162110</td>\n",
       "      <td>-0.556346</td>\n",
       "      <td>0.492277</td>\n",
       "      <td>0.421725</td>\n",
       "    </tr>\n",
       "    <tr>\n",
       "      <th>id_000a6266a</th>\n",
       "      <td>-1.565927</td>\n",
       "      <td>0.400469</td>\n",
       "      <td>-0.520239</td>\n",
       "      <td>-0.660153</td>\n",
       "      <td>0.051907</td>\n",
       "      <td>-0.128458</td>\n",
       "    </tr>\n",
       "    <tr>\n",
       "      <th>id_0015fd391</th>\n",
       "      <td>8.304105</td>\n",
       "      <td>-0.461672</td>\n",
       "      <td>-0.824670</td>\n",
       "      <td>-1.093577</td>\n",
       "      <td>-0.658432</td>\n",
       "      <td>-0.810423</td>\n",
       "    </tr>\n",
       "    <tr>\n",
       "      <th>id_001626bd3</th>\n",
       "      <td>-5.852212</td>\n",
       "      <td>0.170955</td>\n",
       "      <td>0.670244</td>\n",
       "      <td>-1.079069</td>\n",
       "      <td>-0.402676</td>\n",
       "      <td>-0.295247</td>\n",
       "    </tr>\n",
       "  </tbody>\n",
       "</table>\n",
       "</div>"
      ],
      "text/plain": [
       "                     0         1         2         3         4         5\n",
       "sig_id                                                                  \n",
       "id_000644bb2 -6.426463 -0.195931 -0.050287  0.979029 -0.557404 -0.367234\n",
       "id_000779bfc -5.752181  0.622689  1.162110 -0.556346  0.492277  0.421725\n",
       "id_000a6266a -1.565927  0.400469 -0.520239 -0.660153  0.051907 -0.128458\n",
       "id_0015fd391  8.304105 -0.461672 -0.824670 -1.093577 -0.658432 -0.810423\n",
       "id_001626bd3 -5.852212  0.170955  0.670244 -1.079069 -0.402676 -0.295247"
      ]
     },
     "execution_count": 24,
     "metadata": {},
     "output_type": "execute_result"
    }
   ],
   "source": [
    "del scaled_pca6[6]\n",
    "scaled_pca6.head()"
   ]
  },
  {
   "cell_type": "code",
   "execution_count": 29,
   "metadata": {},
   "outputs": [],
   "source": [
    "def plot_sil_scores(pca_input):\n",
    "    k_sils = []\n",
    "    d_sils = []\n",
    "    m_sils = []\n",
    "    for dim in range(1,6):\n",
    "        k_sils.append([])\n",
    "        data = pca_input.loc[:,0:dim-1].copy()\n",
    "        for k in range(2,11):\n",
    "            model = KMeans(n_clusters=k)\n",
    "            model.fit(data)\n",
    "            labels = model.labels_\n",
    "            k_sils[dim-1].append(metrics.silhouette_score(data,labels))\n",
    "        k_df = pd.DataFrame(k_sils,index=[f'd{i+1}' for i in range(len(k_sils))],\n",
    "            columns=[f'k={k+2}' for k in range(len(k_sils[0]))]).T\n",
    "        plt.title(f'KMeans in {dim} PCA dimensions')\n",
    "        for col in list(k_df.columns):\n",
    "            sns.scatterplot(x=range(2,11),y=k_df[col])\n",
    "        plt.legend()\n",
    "        plt.show()\n",
    "        db = DBSCAN()\n",
    "        db.fit(data)\n",
    "        labels = db.labels_\n",
    "        d_sils.append(metrics.silhouette_score(data,labels))\n",
    "        ms = MeanShift()\n",
    "        ms.fit(data)\n",
    "        labels = ms.labels_\n",
    "        m_sils.append(metrics.silhouette_score(data,labels))\n",
    "    plt.title('DBSCAN results for varying PCA dimensions')\n",
    "    sns.scatterplot(x=range(1,6),y=d_sils)\n",
    "    plt.legend()\n",
    "    plt.show()\n",
    "    plt.title('Mean Shift results for varying PCA dimensions')\n",
    "    sns.scatterplot(x=range(1,6),y=m_sils)\n",
    "    plt.legend()\n",
    "    plt.show()\n",
    "    return k_sils, d_sils, m_sils"
   ]
  },
  {
   "cell_type": "code",
   "execution_count": 30,
   "metadata": {},
   "outputs": [
    {
     "name": "stderr",
     "output_type": "stream",
     "text": [
      "No handles with labels found to put in legend.\n"
     ]
    },
    {
     "data": {
      "image/png": "[encoded data removed]",
      "text/plain": [
       "<Figure size 432x288 with 1 Axes>"
      ]
     },
     "metadata": {},
     "output_type": "display_data"
    },
    {
     "name": "stderr",
     "output_type": "stream",
     "text": [
      "No handles with labels found to put in legend.\n"
     ]
    },
    {
     "data": {
      "image/png": "[encoded data removed]",
      "text/plain": [
       "<Figure size 432x288 with 1 Axes>"
      ]
     },
     "metadata": {},
     "output_type": "display_data"
    },
    {
     "name": "stderr",
     "output_type": "stream",
     "text": [
      "No handles with labels found to put in legend.\n"
     ]
    },
    {
     "data": {
      "image/png": "[encoded data removed]",
      "text/plain": [
       "<Figure size 432x288 with 1 Axes>"
      ]
     },
     "metadata": {},
     "output_type": "display_data"
    },
    {
     "name": "stderr",
     "output_type": "stream",
     "text": [
      "No handles with labels found to put in legend.\n"
     ]
    },
    {
     "data": {
      "image/png": "[encoded data removed]",
      "text/plain": [
       "<Figure size 432x288 with 1 Axes>"
      ]
     },
     "metadata": {},
     "output_type": "display_data"
    },
    {
     "name": "stderr",
     "output_type": "stream",
     "text": [
      "No handles with labels found to put in legend.\n"
     ]
    },
    {
     "data": {
      "image/png": "[encoded data removed]",
      "text/plain": [
       "<Figure size 432x288 with 1 Axes>"
      ]
     },
     "metadata": {},
     "output_type": "display_data"
    },
    {
     "name": "stderr",
     "output_type": "stream",
     "text": [
      "No handles with labels found to put in legend.\n"
     ]
    },
    {
     "data": {
      "image/png": "[encoded data removed]",
      "text/plain": [
       "<Figure size 432x288 with 1 Axes>"
      ]
     },
     "metadata": {},
     "output_type": "display_data"
    },
    {
     "name": "stderr",
     "output_type": "stream",
     "text": [
      "No handles with labels found to put in legend.\n"
     ]
    },
    {
     "data": {
      "image/png": "[encoded data removed]",
      "text/plain": [
       "<Figure size 432x288 with 1 Axes>"
      ]
     },
     "metadata": {},
     "output_type": "display_data"
    }
   ],
   "source": [
    "k_sils, d_sils, m_sils = plot_sil_scores(scaled_pca6)"
   ]
  },
  {
   "cell_type": "code",
   "execution_count": 31,
   "metadata": {},
   "outputs": [
    {
     "data": {
      "text/html": [
       "<div>\n",
       "<style scoped>\n",
       "    .dataframe tbody tr th:only-of-type {\n",
       "        vertical-align: middle;\n",
       "    }\n",
       "\n",
       "    .dataframe tbody tr th {\n",
       "        vertical-align: top;\n",
       "    }\n",
       "\n",
       "    .dataframe thead th {\n",
       "        text-align: right;\n",
       "    }\n",
       "</style>\n",
       "<table border=\"1\" class=\"dataframe\">\n",
       "  <thead>\n",
       "    <tr style=\"text-align: right;\">\n",
       "      <th></th>\n",
       "      <th>d1</th>\n",
       "      <th>d2</th>\n",
       "      <th>d3</th>\n",
       "      <th>d4</th>\n",
       "      <th>d5</th>\n",
       "    </tr>\n",
       "  </thead>\n",
       "  <tbody>\n",
       "    <tr>\n",
       "      <th>k=2</th>\n",
       "      <td>0.907701</td>\n",
       "      <td>0.905620</td>\n",
       "      <td>0.901629</td>\n",
       "      <td>0.899602</td>\n",
       "      <td>0.898656</td>\n",
       "    </tr>\n",
       "    <tr>\n",
       "      <th>k=3</th>\n",
       "      <td>0.840075</td>\n",
       "      <td>0.835749</td>\n",
       "      <td>0.824947</td>\n",
       "      <td>0.820743</td>\n",
       "      <td>0.818225</td>\n",
       "    </tr>\n",
       "    <tr>\n",
       "      <th>k=4</th>\n",
       "      <td>0.798806</td>\n",
       "      <td>0.792007</td>\n",
       "      <td>0.776689</td>\n",
       "      <td>0.768718</td>\n",
       "      <td>0.765935</td>\n",
       "    </tr>\n",
       "    <tr>\n",
       "      <th>k=5</th>\n",
       "      <td>0.717975</td>\n",
       "      <td>0.696095</td>\n",
       "      <td>0.668389</td>\n",
       "      <td>0.654706</td>\n",
       "      <td>0.650776</td>\n",
       "    </tr>\n",
       "    <tr>\n",
       "      <th>k=6</th>\n",
       "      <td>0.535339</td>\n",
       "      <td>0.508561</td>\n",
       "      <td>0.451603</td>\n",
       "      <td>0.423260</td>\n",
       "      <td>0.412728</td>\n",
       "    </tr>\n",
       "    <tr>\n",
       "      <th>k=7</th>\n",
       "      <td>0.533575</td>\n",
       "      <td>0.497871</td>\n",
       "      <td>0.433898</td>\n",
       "      <td>0.403568</td>\n",
       "      <td>0.384955</td>\n",
       "    </tr>\n",
       "    <tr>\n",
       "      <th>k=8</th>\n",
       "      <td>0.532047</td>\n",
       "      <td>0.495445</td>\n",
       "      <td>0.424944</td>\n",
       "      <td>0.393533</td>\n",
       "      <td>0.381073</td>\n",
       "    </tr>\n",
       "    <tr>\n",
       "      <th>k=9</th>\n",
       "      <td>0.525096</td>\n",
       "      <td>0.479661</td>\n",
       "      <td>0.392397</td>\n",
       "      <td>0.358474</td>\n",
       "      <td>0.341308</td>\n",
       "    </tr>\n",
       "    <tr>\n",
       "      <th>k=10</th>\n",
       "      <td>0.524647</td>\n",
       "      <td>0.476193</td>\n",
       "      <td>0.385195</td>\n",
       "      <td>0.354258</td>\n",
       "      <td>0.336414</td>\n",
       "    </tr>\n",
       "  </tbody>\n",
       "</table>\n",
       "</div>"
      ],
      "text/plain": [
       "            d1        d2        d3        d4        d5\n",
       "k=2   0.907701  0.905620  0.901629  0.899602  0.898656\n",
       "k=3   0.840075  0.835749  0.824947  0.820743  0.818225\n",
       "k=4   0.798806  0.792007  0.776689  0.768718  0.765935\n",
       "k=5   0.717975  0.696095  0.668389  0.654706  0.650776\n",
       "k=6   0.535339  0.508561  0.451603  0.423260  0.412728\n",
       "k=7   0.533575  0.497871  0.433898  0.403568  0.384955\n",
       "k=8   0.532047  0.495445  0.424944  0.393533  0.381073\n",
       "k=9   0.525096  0.479661  0.392397  0.358474  0.341308\n",
       "k=10  0.524647  0.476193  0.385195  0.354258  0.336414"
      ]
     },
     "execution_count": 31,
     "metadata": {},
     "output_type": "execute_result"
    }
   ],
   "source": [
    "k_df = pd.DataFrame(k_sils,index=[f'd{i+1}' for i in range(len(k_sils))],\n",
    "                    columns=[f'k={k+2}' for k in range(len(k_sils[0]))]).T\n",
    "k_df"
   ]
  },
  {
   "cell_type": "markdown",
   "metadata": {},
   "source": [
    "Let me check what happens when I just pass the raw PCA to the clusterer."
   ]
  },
  {
   "cell_type": "code",
   "execution_count": 32,
   "metadata": {},
   "outputs": [
    {
     "name": "stderr",
     "output_type": "stream",
     "text": [
      "No handles with labels found to put in legend.\n"
     ]
    },
    {
     "data": {
      "image/png": "[encoded data removed]",
      "text/plain": [
       "<Figure size 432x288 with 1 Axes>"
      ]
     },
     "metadata": {},
     "output_type": "display_data"
    },
    {
     "name": "stderr",
     "output_type": "stream",
     "text": [
      "No handles with labels found to put in legend.\n"
     ]
    },
    {
     "data": {
      "image/png": "[encoded data removed]",
      "text/plain": [
       "<Figure size 432x288 with 1 Axes>"
      ]
     },
     "metadata": {},
     "output_type": "display_data"
    },
    {
     "name": "stderr",
     "output_type": "stream",
     "text": [
      "No handles with labels found to put in legend.\n"
     ]
    },
    {
     "data": {
      "image/png": "[encoded data removed]",
      "text/plain": [
       "<Figure size 432x288 with 1 Axes>"
      ]
     },
     "metadata": {},
     "output_type": "display_data"
    },
    {
     "name": "stderr",
     "output_type": "stream",
     "text": [
      "No handles with labels found to put in legend.\n"
     ]
    },
    {
     "data": {
      "image/png": "[encoded data removed]",
      "text/plain": [
       "<Figure size 432x288 with 1 Axes>"
      ]
     },
     "metadata": {},
     "output_type": "display_data"
    },
    {
     "name": "stderr",
     "output_type": "stream",
     "text": [
      "No handles with labels found to put in legend.\n"
     ]
    },
    {
     "data": {
      "image/png": "[encoded data removed]",
      "text/plain": [
       "<Figure size 432x288 with 1 Axes>"
      ]
     },
     "metadata": {},
     "output_type": "display_data"
    },
    {
     "name": "stderr",
     "output_type": "stream",
     "text": [
      "No handles with labels found to put in legend.\n"
     ]
    },
    {
     "data": {
      "image/png": "[encoded data removed]",
      "text/plain": [
       "<Figure size 432x288 with 1 Axes>"
      ]
     },
     "metadata": {},
     "output_type": "display_data"
    },
    {
     "name": "stderr",
     "output_type": "stream",
     "text": [
      "No handles with labels found to put in legend.\n"
     ]
    },
    {
     "data": {
      "image/png": "[encoded data removed]",
      "text/plain": [
       "<Figure size 432x288 with 1 Axes>"
      ]
     },
     "metadata": {},
     "output_type": "display_data"
    }
   ],
   "source": [
    "k2, d2, m2 = plot_sil_scores(pca_df)"
   ]
  },
  {
   "cell_type": "code",
   "execution_count": null,
   "metadata": {},
   "outputs": [],
   "source": []
  },
  {
   "cell_type": "code",
   "execution_count": null,
   "metadata": {},
   "outputs": [],
   "source": []
  },
  {
   "cell_type": "code",
   "execution_count": null,
   "metadata": {},
   "outputs": [],
   "source": []
  },
  {
   "cell_type": "code",
   "execution_count": null,
   "metadata": {},
   "outputs": [],
   "source": []
  },
  {
   "cell_type": "code",
   "execution_count": null,
   "metadata": {},
   "outputs": [],
   "source": [
    "strategy = tf.distribute.get_strategy()\n",
    "print(\"Number of accelerators: \", strategy.num_replicas_in_sync)"
   ]
  },
  {
   "cell_type": "code",
   "execution_count": null,
   "metadata": {},
   "outputs": [],
   "source": [
    "with strategy.scope():\n",
    "    inputs = Input(shape=(875,))\n",
    "    x = Dense(1024,activation='elu')(inputs)\n",
    "    x = Dropout(0.2,input_shape=(1024,))(x)\n",
    "    x = Dense(256,activation='elu')(x)\n",
    "    x = Dropout(0.2,input_shape=(256,))(x)\n",
    "    x = Dense(64,activation='elu')(x)\n",
    "    x = Dropout(0.2,input_shape=(64,))(x)\n",
    "    outputs = Dense(206,activation='sigmoid')(x)\n",
    "    model1 = Model(inputs,outputs)\n",
    "    model1.compile(\"adam\", \"binary_crossentropy\", metrics=[\"binary_crossentropy\"])"
   ]
  },
  {
   "cell_type": "code",
   "execution_count": null,
   "metadata": {},
   "outputs": [],
   "source": [
    "model1.summary()"
   ]
  },
  {
   "cell_type": "code",
   "execution_count": null,
   "metadata": {},
   "outputs": [],
   "source": [
    "n_epochs = 40\n",
    "n_batch = 32\n",
    "print('Starting Training')\n",
    "model1.fit(tf_arr,tts_arr,epochs=n_epochs,batch_size=n_batch)\n",
    "print('Finished Training')"
   ]
  },
  {
   "cell_type": "code",
   "execution_count": null,
   "metadata": {},
   "outputs": [],
   "source": [
    "tts_pred = model1.predict(tf_arr)\n",
    "log_loss(tts_arr,tts_pred)"
   ]
  },
  {
   "cell_type": "markdown",
   "metadata": {},
   "source": [
    "Wow, that's worse than my single layer model.\n",
    "Now let's tune."
   ]
  },
  {
   "cell_type": "code",
   "execution_count": null,
   "metadata": {},
   "outputs": [],
   "source": [
    "!rm -R /kaggle/working/keras_tune"
   ]
  },
  {
   "cell_type": "code",
   "execution_count": null,
   "metadata": {},
   "outputs": [],
   "source": [
    "def build_model(hp):\n",
    "    inputs = Input(shape=(875,))\n",
    "    x = Dense(\n",
    "        units = hp.Choice('units 1',values=[64,256,1024]),\n",
    "        activation = hp.Choice('activation function 1',values=['relu','elu'])\n",
    "    )(inputs)\n",
    "    x = Dropout(hp.Choice('dropout 1',values=[0.2,0.35,0.5]))(x)\n",
    "    x = Dense(\n",
    "        units = hp.Choice('units 2',values=[32,128,512]),\n",
    "        activation = hp.Choice('activation function 2',values=['relu','elu'])\n",
    "    )(x)\n",
    "    x = Dropout(hp.Choice('dropout 2',values=[0.2,0.35,0.5]))(x)\n",
    "    x = Dense(\n",
    "        units = hp.Choice('units 3',values=[16,64,256]),\n",
    "        activation = hp.Choice('activation function 3',values=['relu','elu'])\n",
    "    )(x)\n",
    "    x = Dropout(hp.Choice('dropout 3',values=[0.2,0.35,0.5]))(x)\n",
    "\n",
    "    outputs = Dense(206,activation = hp.Choice('classify function',values =\n",
    "                                              ['sigmoid','softmax']))(x)\n",
    "    model = Model(inputs, outputs)\n",
    "    # should throw in a choice of optimizer here: adam, etc.\n",
    "    opt = tf.keras.optimizers.Adam(\n",
    "        learning_rate=hp.Choice('learn rate',values=[0.01,0.001,0.0001]),\n",
    "        beta_1=0.9,\n",
    "        beta_2=0.999,\n",
    "        epsilon=1e-07,\n",
    "        amsgrad=False\n",
    "    )\n",
    "    model.compile(optimizer=opt,loss='binary_crossentropy',metrics=['binary_crossentropy'])\n",
    "    return model"
   ]
  },
  {
   "cell_type": "code",
   "execution_count": null,
   "metadata": {},
   "outputs": [],
   "source": [
    "# let's try this\n",
    "with strategy.scope():\n",
    "    tuner = kerastuner.tuners.Hyperband(\n",
    "            build_model,\n",
    "            objective='binary_crossentropy',\n",
    "            max_epochs=18,\n",
    "            executions_per_trial=2,\n",
    "            directory='keras_tune'\n",
    "    )"
   ]
  },
  {
   "cell_type": "code",
   "execution_count": null,
   "metadata": {},
   "outputs": [],
   "source": [
    "print('Starting Tuning')\n",
    "X_train, X_val, y_train, y_val = train_test_split(tf_arr,tts_arr,test_size=0.2,random_state=84)\n",
    "tuner.search(X_train,y_train,validation_data=(X_val,y_val))\n",
    "print('Finished Tuning')"
   ]
  },
  {
   "cell_type": "markdown",
   "metadata": {},
   "source": [
    "Chollet put this reasonably comprehensible notebook up on Kaggle: https://www.kaggle.com/fchollet/keras-kerastuner-best-practices/ Let's try the next steps from there."
   ]
  },
  {
   "cell_type": "code",
   "execution_count": null,
   "metadata": {},
   "outputs": [],
   "source": [
    "best_hp = tuner.get_best_hyperparameters()[0]\n",
    "print(best_hp.values)"
   ]
  },
  {
   "cell_type": "code",
   "execution_count": null,
   "metadata": {},
   "outputs": [],
   "source": [
    "model2 = build_model(best_hp)\n",
    "history = model2.fit(tf_arr, tts_arr, validation_split=0.2, epochs=50)"
   ]
  },
  {
   "cell_type": "code",
   "execution_count": null,
   "metadata": {},
   "outputs": [],
   "source": [
    "model2.summary()"
   ]
  },
  {
   "cell_type": "code",
   "execution_count": null,
   "metadata": {},
   "outputs": [],
   "source": [
    "val_logloss_per_epoch = history.history['val_binary_crossentropy']\n",
    "best_epoch = val_logloss_per_epoch.index(max(val_logloss_per_epoch)) + 1\n",
    "best_epoch"
   ]
  },
  {
   "cell_type": "code",
   "execution_count": null,
   "metadata": {},
   "outputs": [],
   "source": [
    "model2a = build_model(best_hp)\n",
    "model2a.fit(tf_arr, tts_arr, epochs=best_epoch)"
   ]
  },
  {
   "cell_type": "code",
   "execution_count": null,
   "metadata": {},
   "outputs": [],
   "source": [
    "model2a.evaluate(tf_arr,tts_arr)"
   ]
  },
  {
   "cell_type": "code",
   "execution_count": null,
   "metadata": {},
   "outputs": [],
   "source": [
    "# need dill to pickle these models?\n",
    "# with open('/kaggle/working/model_design2.pkl', 'wb') as cellar:\n",
    "#    pickle.dump(model2a,cellar)\n",
    "model2a.summary()"
   ]
  },
  {
   "cell_type": "code",
   "execution_count": null,
   "metadata": {},
   "outputs": [],
   "source": [
    "testf_df = pd.read_csv('../input/lish-moa/test_features.csv',index_col='sig_id')"
   ]
  },
  {
   "cell_type": "code",
   "execution_count": null,
   "metadata": {},
   "outputs": [],
   "source": [
    "testf_df['cp_type']=testf_df['cp_type'].astype('category')\n",
    "testf_df['cp_time']=scaler.transform((np.array(testf_df['cp_time'])).reshape(-1,1))\n",
    "testf_df['cp_dose']=testf_df['cp_dose'].astype('category')\n",
    "testf_df.loc[:,'g-0':'c-99']=transformer.transform(testf_df.loc[:,'g-0':'c-99'])\n",
    "testf_df = oenc.transform(testf_df)\n",
    "testf_df['cp_type']=testf_df['cp_type']-1\n",
    "testf_df['cp_dose']=testf_df['cp_dose']-1\n",
    "testf_arr = np.array(testf_df)"
   ]
  },
  {
   "cell_type": "code",
   "execution_count": null,
   "metadata": {},
   "outputs": [],
   "source": [
    "tts_pred2 = model2a.predict(testf_arr)\n",
    "sub_df = pd.DataFrame(tts_pred2,index=testf_df.index,columns=tts_df.columns)\n",
    "sub_df.head()"
   ]
  },
  {
   "cell_type": "code",
   "execution_count": null,
   "metadata": {},
   "outputs": [],
   "source": [
    "sub_df.to_csv('/kaggle/working/submission.csv')"
   ]
  },
  {
   "cell_type": "code",
   "execution_count": null,
   "metadata": {},
   "outputs": [],
   "source": []
  }
 ],
 "metadata": {
  "kernelspec": {
   "display_name": "Python 3",
   "language": "python",
   "name": "python3"
  },
  "language_info": {
   "codemirror_mode": {
    "name": "ipython",
    "version": 3
   },
   "file_extension": ".py",
   "mimetype": "text/x-python",
   "name": "python",
   "nbconvert_exporter": "python",
   "pygments_lexer": "ipython3",
   "version": "3.8.5"
  }
 },
 "nbformat": 4,
 "nbformat_minor": 4
}

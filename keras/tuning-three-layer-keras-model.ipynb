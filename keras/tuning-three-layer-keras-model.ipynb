{
 "cells": [
  {
   "cell_type": "code",
   "execution_count": 1,
   "metadata": {
    "execution": {
     "iopub.execute_input": "2020-11-17T21:59:41.931961Z",
     "iopub.status.busy": "2020-11-17T21:59:41.931191Z",
     "iopub.status.idle": "2020-11-17T21:59:42.714111Z",
     "shell.execute_reply": "2020-11-17T21:59:42.713437Z"
    },
    "papermill": {
     "duration": 0.814252,
     "end_time": "2020-11-17T21:59:42.714239",
     "exception": false,
     "start_time": "2020-11-17T21:59:41.899987",
     "status": "completed"
    },
    "tags": []
   },
   "outputs": [],
   "source": [
    "import numpy as np\n",
    "import pandas as pd\n",
    "import pickle\n",
    "from sklearn.preprocessing import MinMaxScaler, StandardScaler"
   ]
  },
  {
   "cell_type": "code",
   "execution_count": 2,
   "metadata": {
    "execution": {
     "iopub.execute_input": "2020-11-17T21:59:42.768096Z",
     "iopub.status.busy": "2020-11-17T21:59:42.767249Z",
     "iopub.status.idle": "2020-11-17T21:59:42.961037Z",
     "shell.execute_reply": "2020-11-17T21:59:42.960022Z"
    },
    "papermill": {
     "duration": 0.222379,
     "end_time": "2020-11-17T21:59:42.961162",
     "exception": false,
     "start_time": "2020-11-17T21:59:42.738783",
     "status": "completed"
    },
    "tags": []
   },
   "outputs": [],
   "source": [
    "import category_encoders as ce"
   ]
  },
  {
   "cell_type": "code",
   "execution_count": 3,
   "metadata": {
    "execution": {
     "iopub.execute_input": "2020-11-17T21:59:43.014453Z",
     "iopub.status.busy": "2020-11-17T21:59:43.013667Z",
     "iopub.status.idle": "2020-11-17T21:59:43.055868Z",
     "shell.execute_reply": "2020-11-17T21:59:43.055290Z"
    },
    "papermill": {
     "duration": 0.070555,
     "end_time": "2020-11-17T21:59:43.055991",
     "exception": false,
     "start_time": "2020-11-17T21:59:42.985436",
     "status": "completed"
    },
    "tags": []
   },
   "outputs": [],
   "source": [
    "from sklearn.model_selection import train_test_split"
   ]
  },
  {
   "cell_type": "code",
   "execution_count": 4,
   "metadata": {
    "execution": {
     "iopub.execute_input": "2020-11-17T21:59:43.110223Z",
     "iopub.status.busy": "2020-11-17T21:59:43.109491Z",
     "iopub.status.idle": "2020-11-17T21:59:48.144041Z",
     "shell.execute_reply": "2020-11-17T21:59:48.143222Z"
    },
    "papermill": {
     "duration": 5.063274,
     "end_time": "2020-11-17T21:59:48.144163",
     "exception": false,
     "start_time": "2020-11-17T21:59:43.080889",
     "status": "completed"
    },
    "tags": []
   },
   "outputs": [],
   "source": [
    "import tensorflow as tf"
   ]
  },
  {
   "cell_type": "code",
   "execution_count": 5,
   "metadata": {
    "execution": {
     "iopub.execute_input": "2020-11-17T21:59:48.199088Z",
     "iopub.status.busy": "2020-11-17T21:59:48.198271Z",
     "iopub.status.idle": "2020-11-17T21:59:48.305049Z",
     "shell.execute_reply": "2020-11-17T21:59:48.304481Z"
    },
    "papermill": {
     "duration": 0.136026,
     "end_time": "2020-11-17T21:59:48.305177",
     "exception": false,
     "start_time": "2020-11-17T21:59:48.169151",
     "status": "completed"
    },
    "tags": []
   },
   "outputs": [],
   "source": [
    "import keras\n",
    "from keras.models import Model\n",
    "import kerastuner"
   ]
  },
  {
   "cell_type": "code",
   "execution_count": 6,
   "metadata": {
    "execution": {
     "iopub.execute_input": "2020-11-17T21:59:48.360195Z",
     "iopub.status.busy": "2020-11-17T21:59:48.359433Z",
     "iopub.status.idle": "2020-11-17T21:59:48.363753Z",
     "shell.execute_reply": "2020-11-17T21:59:48.363287Z"
    },
    "papermill": {
     "duration": 0.033689,
     "end_time": "2020-11-17T21:59:48.363882",
     "exception": false,
     "start_time": "2020-11-17T21:59:48.330193",
     "status": "completed"
    },
    "tags": []
   },
   "outputs": [],
   "source": [
    "from sklearn.metrics import log_loss"
   ]
  },
  {
   "cell_type": "code",
   "execution_count": 7,
   "metadata": {
    "execution": {
     "iopub.execute_input": "2020-11-17T21:59:48.420635Z",
     "iopub.status.busy": "2020-11-17T21:59:48.418911Z",
     "iopub.status.idle": "2020-11-17T21:59:48.421305Z",
     "shell.execute_reply": "2020-11-17T21:59:48.421754Z"
    },
    "papermill": {
     "duration": 0.032638,
     "end_time": "2020-11-17T21:59:48.421906",
     "exception": false,
     "start_time": "2020-11-17T21:59:48.389268",
     "status": "completed"
    },
    "tags": []
   },
   "outputs": [],
   "source": [
    "from keras.layers import Dense, Input, Dropout"
   ]
  },
  {
   "cell_type": "markdown",
   "metadata": {
    "papermill": {
     "duration": 0.024781,
     "end_time": "2020-11-17T21:59:48.472022",
     "exception": false,
     "start_time": "2020-11-17T21:59:48.447241",
     "status": "completed"
    },
    "tags": []
   },
   "source": [
    "## Highly basic Keras notebook\n",
    "1. Manually transform data: binary, simple MinMaxScaler, StandardScaler.\n",
    "1. Ran another basic autokeras on this more amenable dataset; a one-hidden-layer model did ok.\n",
    "1. Tune the resulting keras-from-autokeras model.    "
   ]
  },
  {
   "cell_type": "code",
   "execution_count": 8,
   "metadata": {
    "execution": {
     "iopub.execute_input": "2020-11-17T21:59:48.533066Z",
     "iopub.status.busy": "2020-11-17T21:59:48.532106Z",
     "iopub.status.idle": "2020-11-17T21:59:59.842298Z",
     "shell.execute_reply": "2020-11-17T21:59:59.841205Z"
    },
    "papermill": {
     "duration": 11.345354,
     "end_time": "2020-11-17T21:59:59.842426",
     "exception": false,
     "start_time": "2020-11-17T21:59:48.497072",
     "status": "completed"
    },
    "tags": []
   },
   "outputs": [],
   "source": [
    "tf_df = pd.read_csv('../input/lish-moa/train_features.csv',index_col='sig_id')\n",
    "tts_df = pd.read_csv('../input/lish-moa/train_targets_scored.csv',index_col='sig_id')\n",
    "tf_df['cp_type']=tf_df['cp_type'].astype('category')\n",
    "scaler = MinMaxScaler(feature_range=(-0.5,0.5))\n",
    "tf_df['cp_time']=scaler.fit_transform((np.array(tf_df['cp_time'])).reshape(-1,1))\n",
    "tf_df['cp_dose']=tf_df['cp_dose'].astype('category')\n",
    "transformer = StandardScaler()\n",
    "tf_df.loc[:,'g-0':'c-99']=transformer.fit_transform(tf_df.loc[:,'g-0':'c-99'])"
   ]
  },
  {
   "cell_type": "code",
   "execution_count": 9,
   "metadata": {
    "execution": {
     "iopub.execute_input": "2020-11-17T21:59:59.899356Z",
     "iopub.status.busy": "2020-11-17T21:59:59.898464Z",
     "iopub.status.idle": "2020-11-17T21:59:59.910978Z",
     "shell.execute_reply": "2020-11-17T21:59:59.909312Z"
    },
    "papermill": {
     "duration": 0.043137,
     "end_time": "2020-11-17T21:59:59.911110",
     "exception": false,
     "start_time": "2020-11-17T21:59:59.867973",
     "status": "completed"
    },
    "tags": []
   },
   "outputs": [
    {
     "name": "stdout",
     "output_type": "stream",
     "text": [
      "['trt_cp', 'ctl_vehicle']\n",
      "Categories (2, object): ['trt_cp', 'ctl_vehicle'] ['D1', 'D2']\n",
      "Categories (2, object): ['D1', 'D2']\n"
     ]
    }
   ],
   "source": [
    "print(tf_df['cp_type'].unique(),tf_df['cp_dose'].unique())"
   ]
  },
  {
   "cell_type": "code",
   "execution_count": 10,
   "metadata": {
    "execution": {
     "iopub.execute_input": "2020-11-17T21:59:59.977275Z",
     "iopub.status.busy": "2020-11-17T21:59:59.975988Z",
     "iopub.status.idle": "2020-11-17T22:00:00.239762Z",
     "shell.execute_reply": "2020-11-17T22:00:00.240441Z"
    },
    "papermill": {
     "duration": 0.301546,
     "end_time": "2020-11-17T22:00:00.240608",
     "exception": false,
     "start_time": "2020-11-17T21:59:59.939062",
     "status": "completed"
    },
    "tags": []
   },
   "outputs": [
    {
     "data": {
      "text/html": [
       "<div>\n",
       "<style scoped>\n",
       "    .dataframe tbody tr th:only-of-type {\n",
       "        vertical-align: middle;\n",
       "    }\n",
       "\n",
       "    .dataframe tbody tr th {\n",
       "        vertical-align: top;\n",
       "    }\n",
       "\n",
       "    .dataframe thead th {\n",
       "        text-align: right;\n",
       "    }\n",
       "</style>\n",
       "<table border=\"1\" class=\"dataframe\">\n",
       "  <thead>\n",
       "    <tr style=\"text-align: right;\">\n",
       "      <th></th>\n",
       "      <th>cp_type</th>\n",
       "      <th>cp_time</th>\n",
       "      <th>cp_dose</th>\n",
       "      <th>g-0</th>\n",
       "      <th>g-1</th>\n",
       "      <th>g-2</th>\n",
       "      <th>g-3</th>\n",
       "      <th>g-4</th>\n",
       "      <th>g-5</th>\n",
       "      <th>g-6</th>\n",
       "      <th>...</th>\n",
       "      <th>c-90</th>\n",
       "      <th>c-91</th>\n",
       "      <th>c-92</th>\n",
       "      <th>c-93</th>\n",
       "      <th>c-94</th>\n",
       "      <th>c-95</th>\n",
       "      <th>c-96</th>\n",
       "      <th>c-97</th>\n",
       "      <th>c-98</th>\n",
       "      <th>c-99</th>\n",
       "    </tr>\n",
       "    <tr>\n",
       "      <th>sig_id</th>\n",
       "      <th></th>\n",
       "      <th></th>\n",
       "      <th></th>\n",
       "      <th></th>\n",
       "      <th></th>\n",
       "      <th></th>\n",
       "      <th></th>\n",
       "      <th></th>\n",
       "      <th></th>\n",
       "      <th></th>\n",
       "      <th></th>\n",
       "      <th></th>\n",
       "      <th></th>\n",
       "      <th></th>\n",
       "      <th></th>\n",
       "      <th></th>\n",
       "      <th></th>\n",
       "      <th></th>\n",
       "      <th></th>\n",
       "      <th></th>\n",
       "      <th></th>\n",
       "    </tr>\n",
       "  </thead>\n",
       "  <tbody>\n",
       "    <tr>\n",
       "      <th>id_84f004e1a</th>\n",
       "      <td>1</td>\n",
       "      <td>0.5</td>\n",
       "      <td>1</td>\n",
       "      <td>0.027009</td>\n",
       "      <td>0.528449</td>\n",
       "      <td>0.761455</td>\n",
       "      <td>-0.158076</td>\n",
       "      <td>-0.941164</td>\n",
       "      <td>0.081515</td>\n",
       "      <td>-0.547681</td>\n",
       "      <td>...</td>\n",
       "      <td>0.202427</td>\n",
       "      <td>-0.228693</td>\n",
       "      <td>-0.047282</td>\n",
       "      <td>0.193038</td>\n",
       "      <td>0.243196</td>\n",
       "      <td>0.268973</td>\n",
       "      <td>0.042863</td>\n",
       "      <td>0.247268</td>\n",
       "      <td>0.354238</td>\n",
       "      <td>-0.663756</td>\n",
       "    </tr>\n",
       "    <tr>\n",
       "      <th>id_7ed95e96b</th>\n",
       "      <td>1</td>\n",
       "      <td>0.5</td>\n",
       "      <td>2</td>\n",
       "      <td>-0.085811</td>\n",
       "      <td>0.668660</td>\n",
       "      <td>0.079990</td>\n",
       "      <td>-0.192287</td>\n",
       "      <td>0.253910</td>\n",
       "      <td>0.178092</td>\n",
       "      <td>0.531677</td>\n",
       "      <td>...</td>\n",
       "      <td>0.231170</td>\n",
       "      <td>0.546804</td>\n",
       "      <td>0.606821</td>\n",
       "      <td>0.336508</td>\n",
       "      <td>0.336642</td>\n",
       "      <td>-0.356589</td>\n",
       "      <td>0.246390</td>\n",
       "      <td>0.122883</td>\n",
       "      <td>0.669097</td>\n",
       "      <td>0.786785</td>\n",
       "    </tr>\n",
       "    <tr>\n",
       "      <th>id_e5ae8674c</th>\n",
       "      <td>1</td>\n",
       "      <td>0.5</td>\n",
       "      <td>1</td>\n",
       "      <td>-0.026458</td>\n",
       "      <td>0.396363</td>\n",
       "      <td>0.972036</td>\n",
       "      <td>-1.347349</td>\n",
       "      <td>0.158665</td>\n",
       "      <td>0.208193</td>\n",
       "      <td>1.602536</td>\n",
       "      <td>...</td>\n",
       "      <td>0.394084</td>\n",
       "      <td>0.536718</td>\n",
       "      <td>0.650484</td>\n",
       "      <td>0.469632</td>\n",
       "      <td>0.400452</td>\n",
       "      <td>0.637914</td>\n",
       "      <td>0.410008</td>\n",
       "      <td>0.272040</td>\n",
       "      <td>0.392335</td>\n",
       "      <td>0.285467</td>\n",
       "    </tr>\n",
       "    <tr>\n",
       "      <th>id_d034694bd</th>\n",
       "      <td>2</td>\n",
       "      <td>0.0</td>\n",
       "      <td>2</td>\n",
       "      <td>0.031889</td>\n",
       "      <td>-3.425037</td>\n",
       "      <td>-0.951863</td>\n",
       "      <td>-2.512622</td>\n",
       "      <td>-3.188106</td>\n",
       "      <td>-0.256549</td>\n",
       "      <td>0.604549</td>\n",
       "      <td>...</td>\n",
       "      <td>-0.081210</td>\n",
       "      <td>-0.613283</td>\n",
       "      <td>-0.111579</td>\n",
       "      <td>-0.803896</td>\n",
       "      <td>-0.096088</td>\n",
       "      <td>-0.198173</td>\n",
       "      <td>-0.285246</td>\n",
       "      <td>-0.933187</td>\n",
       "      <td>-0.005258</td>\n",
       "      <td>-0.262943</td>\n",
       "    </tr>\n",
       "    <tr>\n",
       "      <th>id_7c0b91323</th>\n",
       "      <td>1</td>\n",
       "      <td>-0.5</td>\n",
       "      <td>1</td>\n",
       "      <td>-0.363053</td>\n",
       "      <td>0.186231</td>\n",
       "      <td>0.150570</td>\n",
       "      <td>-0.227867</td>\n",
       "      <td>1.679783</td>\n",
       "      <td>-0.142928</td>\n",
       "      <td>0.329496</td>\n",
       "      <td>...</td>\n",
       "      <td>0.646278</td>\n",
       "      <td>-0.059434</td>\n",
       "      <td>0.796962</td>\n",
       "      <td>0.703654</td>\n",
       "      <td>0.361879</td>\n",
       "      <td>-0.382429</td>\n",
       "      <td>0.006693</td>\n",
       "      <td>0.427595</td>\n",
       "      <td>-0.157864</td>\n",
       "      <td>0.602680</td>\n",
       "    </tr>\n",
       "    <tr>\n",
       "      <th>id_a631edc03</th>\n",
       "      <td>1</td>\n",
       "      <td>-0.5</td>\n",
       "      <td>1</td>\n",
       "      <td>-0.615032</td>\n",
       "      <td>-0.762256</td>\n",
       "      <td>-0.432219</td>\n",
       "      <td>0.319085</td>\n",
       "      <td>1.202102</td>\n",
       "      <td>0.242534</td>\n",
       "      <td>0.331423</td>\n",
       "      <td>...</td>\n",
       "      <td>0.600338</td>\n",
       "      <td>0.468858</td>\n",
       "      <td>0.489819</td>\n",
       "      <td>0.261617</td>\n",
       "      <td>0.895140</td>\n",
       "      <td>-0.308960</td>\n",
       "      <td>0.098697</td>\n",
       "      <td>0.156577</td>\n",
       "      <td>0.181248</td>\n",
       "      <td>-0.064064</td>\n",
       "    </tr>\n",
       "    <tr>\n",
       "      <th>id_b41b8443a</th>\n",
       "      <td>1</td>\n",
       "      <td>0.5</td>\n",
       "      <td>2</td>\n",
       "      <td>0.212387</td>\n",
       "      <td>0.347615</td>\n",
       "      <td>0.954656</td>\n",
       "      <td>1.009512</td>\n",
       "      <td>0.376092</td>\n",
       "      <td>1.205596</td>\n",
       "      <td>0.041410</td>\n",
       "      <td>...</td>\n",
       "      <td>0.199528</td>\n",
       "      <td>-0.215375</td>\n",
       "      <td>-0.319105</td>\n",
       "      <td>0.040883</td>\n",
       "      <td>0.154428</td>\n",
       "      <td>0.257066</td>\n",
       "      <td>-0.271166</td>\n",
       "      <td>-0.492938</td>\n",
       "      <td>-2.441015</td>\n",
       "      <td>0.308267</td>\n",
       "    </tr>\n",
       "    <tr>\n",
       "      <th>id_8a2385bc9</th>\n",
       "      <td>2</td>\n",
       "      <td>0.0</td>\n",
       "      <td>1</td>\n",
       "      <td>0.369632</td>\n",
       "      <td>0.427261</td>\n",
       "      <td>0.522875</td>\n",
       "      <td>-1.481035</td>\n",
       "      <td>0.593519</td>\n",
       "      <td>0.438317</td>\n",
       "      <td>0.808090</td>\n",
       "      <td>...</td>\n",
       "      <td>-0.092507</td>\n",
       "      <td>0.360213</td>\n",
       "      <td>0.143708</td>\n",
       "      <td>0.552638</td>\n",
       "      <td>0.560949</td>\n",
       "      <td>0.613302</td>\n",
       "      <td>-0.272622</td>\n",
       "      <td>0.428182</td>\n",
       "      <td>0.277826</td>\n",
       "      <td>-0.164285</td>\n",
       "    </tr>\n",
       "    <tr>\n",
       "      <th>id_37f0b887e</th>\n",
       "      <td>1</td>\n",
       "      <td>0.5</td>\n",
       "      <td>1</td>\n",
       "      <td>0.063898</td>\n",
       "      <td>-0.297307</td>\n",
       "      <td>0.415316</td>\n",
       "      <td>0.569087</td>\n",
       "      <td>-1.254127</td>\n",
       "      <td>-1.744301</td>\n",
       "      <td>-1.136432</td>\n",
       "      <td>...</td>\n",
       "      <td>-0.307310</td>\n",
       "      <td>-0.257286</td>\n",
       "      <td>-0.196558</td>\n",
       "      <td>-0.200022</td>\n",
       "      <td>-0.061451</td>\n",
       "      <td>0.167147</td>\n",
       "      <td>-0.386232</td>\n",
       "      <td>-0.360159</td>\n",
       "      <td>0.229810</td>\n",
       "      <td>0.049795</td>\n",
       "    </tr>\n",
       "    <tr>\n",
       "      <th>id_634926e25</th>\n",
       "      <td>1</td>\n",
       "      <td>0.5</td>\n",
       "      <td>2</td>\n",
       "      <td>0.186335</td>\n",
       "      <td>0.668537</td>\n",
       "      <td>-0.684993</td>\n",
       "      <td>-0.687976</td>\n",
       "      <td>-0.174452</td>\n",
       "      <td>0.210567</td>\n",
       "      <td>0.715839</td>\n",
       "      <td>...</td>\n",
       "      <td>-0.009526</td>\n",
       "      <td>0.452456</td>\n",
       "      <td>0.082109</td>\n",
       "      <td>0.030299</td>\n",
       "      <td>0.085478</td>\n",
       "      <td>0.551985</td>\n",
       "      <td>-0.352246</td>\n",
       "      <td>0.308610</td>\n",
       "      <td>0.498723</td>\n",
       "      <td>-0.086509</td>\n",
       "    </tr>\n",
       "    <tr>\n",
       "      <th>id_32cbd34c8</th>\n",
       "      <td>1</td>\n",
       "      <td>0.5</td>\n",
       "      <td>2</td>\n",
       "      <td>-0.110069</td>\n",
       "      <td>0.836446</td>\n",
       "      <td>0.157039</td>\n",
       "      <td>0.931932</td>\n",
       "      <td>-1.014996</td>\n",
       "      <td>0.726354</td>\n",
       "      <td>0.597522</td>\n",
       "      <td>...</td>\n",
       "      <td>0.465118</td>\n",
       "      <td>0.620883</td>\n",
       "      <td>-0.497956</td>\n",
       "      <td>0.259007</td>\n",
       "      <td>0.376882</td>\n",
       "      <td>1.097265</td>\n",
       "      <td>0.459821</td>\n",
       "      <td>0.641556</td>\n",
       "      <td>0.786277</td>\n",
       "      <td>0.450182</td>\n",
       "    </tr>\n",
       "    <tr>\n",
       "      <th>id_ec21ac568</th>\n",
       "      <td>1</td>\n",
       "      <td>-0.5</td>\n",
       "      <td>2</td>\n",
       "      <td>0.313581</td>\n",
       "      <td>-0.753639</td>\n",
       "      <td>0.100073</td>\n",
       "      <td>-0.256814</td>\n",
       "      <td>-0.546811</td>\n",
       "      <td>-0.509906</td>\n",
       "      <td>1.180947</td>\n",
       "      <td>...</td>\n",
       "      <td>-0.212331</td>\n",
       "      <td>0.146595</td>\n",
       "      <td>-0.149847</td>\n",
       "      <td>0.403948</td>\n",
       "      <td>0.676714</td>\n",
       "      <td>0.108531</td>\n",
       "      <td>0.393937</td>\n",
       "      <td>0.538185</td>\n",
       "      <td>-0.036434</td>\n",
       "      <td>-0.343916</td>\n",
       "    </tr>\n",
       "    <tr>\n",
       "      <th>id_c7e5c7fcd</th>\n",
       "      <td>2</td>\n",
       "      <td>0.5</td>\n",
       "      <td>1</td>\n",
       "      <td>-1.010763</td>\n",
       "      <td>-1.345874</td>\n",
       "      <td>-0.148742</td>\n",
       "      <td>0.312559</td>\n",
       "      <td>-1.638791</td>\n",
       "      <td>-1.892686</td>\n",
       "      <td>-0.070447</td>\n",
       "      <td>...</td>\n",
       "      <td>0.425577</td>\n",
       "      <td>0.256170</td>\n",
       "      <td>0.500510</td>\n",
       "      <td>0.191139</td>\n",
       "      <td>0.050980</td>\n",
       "      <td>0.079377</td>\n",
       "      <td>0.148074</td>\n",
       "      <td>0.410454</td>\n",
       "      <td>0.218691</td>\n",
       "      <td>-0.117548</td>\n",
       "    </tr>\n",
       "    <tr>\n",
       "      <th>id_30c2ad88b</th>\n",
       "      <td>1</td>\n",
       "      <td>0.0</td>\n",
       "      <td>1</td>\n",
       "      <td>-0.579291</td>\n",
       "      <td>-0.277857</td>\n",
       "      <td>0.309881</td>\n",
       "      <td>0.070452</td>\n",
       "      <td>1.144936</td>\n",
       "      <td>-0.344308</td>\n",
       "      <td>0.365762</td>\n",
       "      <td>...</td>\n",
       "      <td>0.029865</td>\n",
       "      <td>0.052541</td>\n",
       "      <td>0.395198</td>\n",
       "      <td>-0.021242</td>\n",
       "      <td>0.028012</td>\n",
       "      <td>-0.311844</td>\n",
       "      <td>0.345774</td>\n",
       "      <td>0.492810</td>\n",
       "      <td>0.411465</td>\n",
       "      <td>0.793036</td>\n",
       "    </tr>\n",
       "    <tr>\n",
       "      <th>id_83f53fe6e</th>\n",
       "      <td>1</td>\n",
       "      <td>0.5</td>\n",
       "      <td>1</td>\n",
       "      <td>0.147078</td>\n",
       "      <td>-0.244866</td>\n",
       "      <td>0.020707</td>\n",
       "      <td>1.482148</td>\n",
       "      <td>0.372313</td>\n",
       "      <td>0.875163</td>\n",
       "      <td>0.275891</td>\n",
       "      <td>...</td>\n",
       "      <td>0.832437</td>\n",
       "      <td>0.348609</td>\n",
       "      <td>-0.065467</td>\n",
       "      <td>0.660988</td>\n",
       "      <td>0.917830</td>\n",
       "      <td>-0.189826</td>\n",
       "      <td>0.414571</td>\n",
       "      <td>0.939341</td>\n",
       "      <td>0.868357</td>\n",
       "      <td>-0.282547</td>\n",
       "    </tr>\n",
       "    <tr>\n",
       "      <th>id_fd16a5e89</th>\n",
       "      <td>1</td>\n",
       "      <td>0.5</td>\n",
       "      <td>2</td>\n",
       "      <td>0.198033</td>\n",
       "      <td>0.835338</td>\n",
       "      <td>0.777773</td>\n",
       "      <td>3.246373</td>\n",
       "      <td>-0.417168</td>\n",
       "      <td>0.585176</td>\n",
       "      <td>0.190666</td>\n",
       "      <td>...</td>\n",
       "      <td>-0.392291</td>\n",
       "      <td>-0.400302</td>\n",
       "      <td>0.604972</td>\n",
       "      <td>0.317382</td>\n",
       "      <td>0.633881</td>\n",
       "      <td>0.496684</td>\n",
       "      <td>-0.073757</td>\n",
       "      <td>-0.538137</td>\n",
       "      <td>-0.455501</td>\n",
       "      <td>-0.044105</td>\n",
       "    </tr>\n",
       "    <tr>\n",
       "      <th>id_174b39d03</th>\n",
       "      <td>1</td>\n",
       "      <td>0.0</td>\n",
       "      <td>2</td>\n",
       "      <td>3.056357</td>\n",
       "      <td>0.711992</td>\n",
       "      <td>0.506075</td>\n",
       "      <td>-1.566299</td>\n",
       "      <td>1.028664</td>\n",
       "      <td>-0.892146</td>\n",
       "      <td>1.267078</td>\n",
       "      <td>...</td>\n",
       "      <td>-4.570860</td>\n",
       "      <td>-4.649647</td>\n",
       "      <td>-3.574884</td>\n",
       "      <td>-4.488650</td>\n",
       "      <td>-4.376345</td>\n",
       "      <td>-3.982967</td>\n",
       "      <td>-4.609700</td>\n",
       "      <td>-4.390614</td>\n",
       "      <td>-3.719091</td>\n",
       "      <td>-2.970758</td>\n",
       "    </tr>\n",
       "    <tr>\n",
       "      <th>id_1ab7d9dbe</th>\n",
       "      <td>1</td>\n",
       "      <td>0.0</td>\n",
       "      <td>2</td>\n",
       "      <td>-0.224468</td>\n",
       "      <td>1.660233</td>\n",
       "      <td>-2.365773</td>\n",
       "      <td>-0.304815</td>\n",
       "      <td>0.088321</td>\n",
       "      <td>0.119332</td>\n",
       "      <td>-1.076367</td>\n",
       "      <td>...</td>\n",
       "      <td>-0.003877</td>\n",
       "      <td>0.505334</td>\n",
       "      <td>0.042243</td>\n",
       "      <td>0.603040</td>\n",
       "      <td>0.289549</td>\n",
       "      <td>0.128172</td>\n",
       "      <td>0.302661</td>\n",
       "      <td>-0.378473</td>\n",
       "      <td>0.475069</td>\n",
       "      <td>-0.383834</td>\n",
       "    </tr>\n",
       "    <tr>\n",
       "      <th>id_cb949c026</th>\n",
       "      <td>1</td>\n",
       "      <td>0.0</td>\n",
       "      <td>2</td>\n",
       "      <td>-0.101600</td>\n",
       "      <td>-0.014546</td>\n",
       "      <td>-0.706620</td>\n",
       "      <td>-0.710923</td>\n",
       "      <td>0.184245</td>\n",
       "      <td>-0.055339</td>\n",
       "      <td>-0.626446</td>\n",
       "      <td>...</td>\n",
       "      <td>0.220673</td>\n",
       "      <td>0.524331</td>\n",
       "      <td>0.566255</td>\n",
       "      <td>0.184305</td>\n",
       "      <td>0.209671</td>\n",
       "      <td>-0.158891</td>\n",
       "      <td>0.201286</td>\n",
       "      <td>-0.326054</td>\n",
       "      <td>0.285347</td>\n",
       "      <td>0.601472</td>\n",
       "    </tr>\n",
       "    <tr>\n",
       "      <th>id_8d153a90f</th>\n",
       "      <td>1</td>\n",
       "      <td>0.0</td>\n",
       "      <td>2</td>\n",
       "      <td>-0.089184</td>\n",
       "      <td>1.915050</td>\n",
       "      <td>-0.373998</td>\n",
       "      <td>-2.427358</td>\n",
       "      <td>0.799707</td>\n",
       "      <td>1.103846</td>\n",
       "      <td>-0.441717</td>\n",
       "      <td>...</td>\n",
       "      <td>-1.556531</td>\n",
       "      <td>-2.858645</td>\n",
       "      <td>-1.481634</td>\n",
       "      <td>-1.228658</td>\n",
       "      <td>-1.903600</td>\n",
       "      <td>-1.991875</td>\n",
       "      <td>-1.097992</td>\n",
       "      <td>-2.517499</td>\n",
       "      <td>-1.826230</td>\n",
       "      <td>-2.632663</td>\n",
       "    </tr>\n",
       "  </tbody>\n",
       "</table>\n",
       "<p>20 rows × 875 columns</p>\n",
       "</div>"
      ],
      "text/plain": [
       "              cp_type  cp_time  cp_dose       g-0       g-1       g-2  \\\n",
       "sig_id                                                                  \n",
       "id_84f004e1a        1      0.5        1  0.027009  0.528449  0.761455   \n",
       "id_7ed95e96b        1      0.5        2 -0.085811  0.668660  0.079990   \n",
       "id_e5ae8674c        1      0.5        1 -0.026458  0.396363  0.972036   \n",
       "id_d034694bd        2      0.0        2  0.031889 -3.425037 -0.951863   \n",
       "id_7c0b91323        1     -0.5        1 -0.363053  0.186231  0.150570   \n",
       "id_a631edc03        1     -0.5        1 -0.615032 -0.762256 -0.432219   \n",
       "id_b41b8443a        1      0.5        2  0.212387  0.347615  0.954656   \n",
       "id_8a2385bc9        2      0.0        1  0.369632  0.427261  0.522875   \n",
       "id_37f0b887e        1      0.5        1  0.063898 -0.297307  0.415316   \n",
       "id_634926e25        1      0.5        2  0.186335  0.668537 -0.684993   \n",
       "id_32cbd34c8        1      0.5        2 -0.110069  0.836446  0.157039   \n",
       "id_ec21ac568        1     -0.5        2  0.313581 -0.753639  0.100073   \n",
       "id_c7e5c7fcd        2      0.5        1 -1.010763 -1.345874 -0.148742   \n",
       "id_30c2ad88b        1      0.0        1 -0.579291 -0.277857  0.309881   \n",
       "id_83f53fe6e        1      0.5        1  0.147078 -0.244866  0.020707   \n",
       "id_fd16a5e89        1      0.5        2  0.198033  0.835338  0.777773   \n",
       "id_174b39d03        1      0.0        2  3.056357  0.711992  0.506075   \n",
       "id_1ab7d9dbe        1      0.0        2 -0.224468  1.660233 -2.365773   \n",
       "id_cb949c026        1      0.0        2 -0.101600 -0.014546 -0.706620   \n",
       "id_8d153a90f        1      0.0        2 -0.089184  1.915050 -0.373998   \n",
       "\n",
       "                   g-3       g-4       g-5       g-6  ...      c-90      c-91  \\\n",
       "sig_id                                                ...                       \n",
       "id_84f004e1a -0.158076 -0.941164  0.081515 -0.547681  ...  0.202427 -0.228693   \n",
       "id_7ed95e96b -0.192287  0.253910  0.178092  0.531677  ...  0.231170  0.546804   \n",
       "id_e5ae8674c -1.347349  0.158665  0.208193  1.602536  ...  0.394084  0.536718   \n",
       "id_d034694bd -2.512622 -3.188106 -0.256549  0.604549  ... -0.081210 -0.613283   \n",
       "id_7c0b91323 -0.227867  1.679783 -0.142928  0.329496  ...  0.646278 -0.059434   \n",
       "id_a631edc03  0.319085  1.202102  0.242534  0.331423  ...  0.600338  0.468858   \n",
       "id_b41b8443a  1.009512  0.376092  1.205596  0.041410  ...  0.199528 -0.215375   \n",
       "id_8a2385bc9 -1.481035  0.593519  0.438317  0.808090  ... -0.092507  0.360213   \n",
       "id_37f0b887e  0.569087 -1.254127 -1.744301 -1.136432  ... -0.307310 -0.257286   \n",
       "id_634926e25 -0.687976 -0.174452  0.210567  0.715839  ... -0.009526  0.452456   \n",
       "id_32cbd34c8  0.931932 -1.014996  0.726354  0.597522  ...  0.465118  0.620883   \n",
       "id_ec21ac568 -0.256814 -0.546811 -0.509906  1.180947  ... -0.212331  0.146595   \n",
       "id_c7e5c7fcd  0.312559 -1.638791 -1.892686 -0.070447  ...  0.425577  0.256170   \n",
       "id_30c2ad88b  0.070452  1.144936 -0.344308  0.365762  ...  0.029865  0.052541   \n",
       "id_83f53fe6e  1.482148  0.372313  0.875163  0.275891  ...  0.832437  0.348609   \n",
       "id_fd16a5e89  3.246373 -0.417168  0.585176  0.190666  ... -0.392291 -0.400302   \n",
       "id_174b39d03 -1.566299  1.028664 -0.892146  1.267078  ... -4.570860 -4.649647   \n",
       "id_1ab7d9dbe -0.304815  0.088321  0.119332 -1.076367  ... -0.003877  0.505334   \n",
       "id_cb949c026 -0.710923  0.184245 -0.055339 -0.626446  ...  0.220673  0.524331   \n",
       "id_8d153a90f -2.427358  0.799707  1.103846 -0.441717  ... -1.556531 -2.858645   \n",
       "\n",
       "                  c-92      c-93      c-94      c-95      c-96      c-97  \\\n",
       "sig_id                                                                     \n",
       "id_84f004e1a -0.047282  0.193038  0.243196  0.268973  0.042863  0.247268   \n",
       "id_7ed95e96b  0.606821  0.336508  0.336642 -0.356589  0.246390  0.122883   \n",
       "id_e5ae8674c  0.650484  0.469632  0.400452  0.637914  0.410008  0.272040   \n",
       "id_d034694bd -0.111579 -0.803896 -0.096088 -0.198173 -0.285246 -0.933187   \n",
       "id_7c0b91323  0.796962  0.703654  0.361879 -0.382429  0.006693  0.427595   \n",
       "id_a631edc03  0.489819  0.261617  0.895140 -0.308960  0.098697  0.156577   \n",
       "id_b41b8443a -0.319105  0.040883  0.154428  0.257066 -0.271166 -0.492938   \n",
       "id_8a2385bc9  0.143708  0.552638  0.560949  0.613302 -0.272622  0.428182   \n",
       "id_37f0b887e -0.196558 -0.200022 -0.061451  0.167147 -0.386232 -0.360159   \n",
       "id_634926e25  0.082109  0.030299  0.085478  0.551985 -0.352246  0.308610   \n",
       "id_32cbd34c8 -0.497956  0.259007  0.376882  1.097265  0.459821  0.641556   \n",
       "id_ec21ac568 -0.149847  0.403948  0.676714  0.108531  0.393937  0.538185   \n",
       "id_c7e5c7fcd  0.500510  0.191139  0.050980  0.079377  0.148074  0.410454   \n",
       "id_30c2ad88b  0.395198 -0.021242  0.028012 -0.311844  0.345774  0.492810   \n",
       "id_83f53fe6e -0.065467  0.660988  0.917830 -0.189826  0.414571  0.939341   \n",
       "id_fd16a5e89  0.604972  0.317382  0.633881  0.496684 -0.073757 -0.538137   \n",
       "id_174b39d03 -3.574884 -4.488650 -4.376345 -3.982967 -4.609700 -4.390614   \n",
       "id_1ab7d9dbe  0.042243  0.603040  0.289549  0.128172  0.302661 -0.378473   \n",
       "id_cb949c026  0.566255  0.184305  0.209671 -0.158891  0.201286 -0.326054   \n",
       "id_8d153a90f -1.481634 -1.228658 -1.903600 -1.991875 -1.097992 -2.517499   \n",
       "\n",
       "                  c-98      c-99  \n",
       "sig_id                            \n",
       "id_84f004e1a  0.354238 -0.663756  \n",
       "id_7ed95e96b  0.669097  0.786785  \n",
       "id_e5ae8674c  0.392335  0.285467  \n",
       "id_d034694bd -0.005258 -0.262943  \n",
       "id_7c0b91323 -0.157864  0.602680  \n",
       "id_a631edc03  0.181248 -0.064064  \n",
       "id_b41b8443a -2.441015  0.308267  \n",
       "id_8a2385bc9  0.277826 -0.164285  \n",
       "id_37f0b887e  0.229810  0.049795  \n",
       "id_634926e25  0.498723 -0.086509  \n",
       "id_32cbd34c8  0.786277  0.450182  \n",
       "id_ec21ac568 -0.036434 -0.343916  \n",
       "id_c7e5c7fcd  0.218691 -0.117548  \n",
       "id_30c2ad88b  0.411465  0.793036  \n",
       "id_83f53fe6e  0.868357 -0.282547  \n",
       "id_fd16a5e89 -0.455501 -0.044105  \n",
       "id_174b39d03 -3.719091 -2.970758  \n",
       "id_1ab7d9dbe  0.475069 -0.383834  \n",
       "id_cb949c026  0.285347  0.601472  \n",
       "id_8d153a90f -1.826230 -2.632663  \n",
       "\n",
       "[20 rows x 875 columns]"
      ]
     },
     "execution_count": 10,
     "metadata": {},
     "output_type": "execute_result"
    }
   ],
   "source": [
    "oenc = ce.ordinal.OrdinalEncoder()\n",
    "tf_df = oenc.fit_transform(tf_df)\n",
    "tf_df.sample(20)"
   ]
  },
  {
   "cell_type": "code",
   "execution_count": 11,
   "metadata": {
    "execution": {
     "iopub.execute_input": "2020-11-17T22:00:00.324424Z",
     "iopub.status.busy": "2020-11-17T22:00:00.323334Z",
     "iopub.status.idle": "2020-11-17T22:00:00.373587Z",
     "shell.execute_reply": "2020-11-17T22:00:00.372414Z"
    },
    "papermill": {
     "duration": 0.095022,
     "end_time": "2020-11-17T22:00:00.373775",
     "exception": false,
     "start_time": "2020-11-17T22:00:00.278753",
     "status": "completed"
    },
    "tags": []
   },
   "outputs": [
    {
     "data": {
      "text/html": [
       "<div>\n",
       "<style scoped>\n",
       "    .dataframe tbody tr th:only-of-type {\n",
       "        vertical-align: middle;\n",
       "    }\n",
       "\n",
       "    .dataframe tbody tr th {\n",
       "        vertical-align: top;\n",
       "    }\n",
       "\n",
       "    .dataframe thead th {\n",
       "        text-align: right;\n",
       "    }\n",
       "</style>\n",
       "<table border=\"1\" class=\"dataframe\">\n",
       "  <thead>\n",
       "    <tr style=\"text-align: right;\">\n",
       "      <th></th>\n",
       "      <th>cp_type</th>\n",
       "      <th>cp_time</th>\n",
       "      <th>cp_dose</th>\n",
       "      <th>g-0</th>\n",
       "      <th>g-1</th>\n",
       "      <th>g-2</th>\n",
       "      <th>g-3</th>\n",
       "      <th>g-4</th>\n",
       "      <th>g-5</th>\n",
       "      <th>g-6</th>\n",
       "      <th>...</th>\n",
       "      <th>c-90</th>\n",
       "      <th>c-91</th>\n",
       "      <th>c-92</th>\n",
       "      <th>c-93</th>\n",
       "      <th>c-94</th>\n",
       "      <th>c-95</th>\n",
       "      <th>c-96</th>\n",
       "      <th>c-97</th>\n",
       "      <th>c-98</th>\n",
       "      <th>c-99</th>\n",
       "    </tr>\n",
       "    <tr>\n",
       "      <th>sig_id</th>\n",
       "      <th></th>\n",
       "      <th></th>\n",
       "      <th></th>\n",
       "      <th></th>\n",
       "      <th></th>\n",
       "      <th></th>\n",
       "      <th></th>\n",
       "      <th></th>\n",
       "      <th></th>\n",
       "      <th></th>\n",
       "      <th></th>\n",
       "      <th></th>\n",
       "      <th></th>\n",
       "      <th></th>\n",
       "      <th></th>\n",
       "      <th></th>\n",
       "      <th></th>\n",
       "      <th></th>\n",
       "      <th></th>\n",
       "      <th></th>\n",
       "      <th></th>\n",
       "    </tr>\n",
       "  </thead>\n",
       "  <tbody>\n",
       "    <tr>\n",
       "      <th>id_000644bb2</th>\n",
       "      <td>0</td>\n",
       "      <td>-0.5</td>\n",
       "      <td>0</td>\n",
       "      <td>0.583933</td>\n",
       "      <td>0.804317</td>\n",
       "      <td>-0.386357</td>\n",
       "      <td>-0.739765</td>\n",
       "      <td>-0.243924</td>\n",
       "      <td>-0.740369</td>\n",
       "      <td>-1.198991</td>\n",
       "      <td>...</td>\n",
       "      <td>0.377638</td>\n",
       "      <td>0.352428</td>\n",
       "      <td>0.659876</td>\n",
       "      <td>0.499484</td>\n",
       "      <td>0.146278</td>\n",
       "      <td>0.621219</td>\n",
       "      <td>0.031745</td>\n",
       "      <td>0.347587</td>\n",
       "      <td>0.463460</td>\n",
       "      <td>0.510769</td>\n",
       "    </tr>\n",
       "    <tr>\n",
       "      <th>id_000779bfc</th>\n",
       "      <td>0</td>\n",
       "      <td>0.5</td>\n",
       "      <td>0</td>\n",
       "      <td>-0.124925</td>\n",
       "      <td>0.620898</td>\n",
       "      <td>0.141784</td>\n",
       "      <td>-0.022707</td>\n",
       "      <td>0.931772</td>\n",
       "      <td>0.559230</td>\n",
       "      <td>0.224552</td>\n",
       "      <td>...</td>\n",
       "      <td>0.021367</td>\n",
       "      <td>0.595227</td>\n",
       "      <td>0.491617</td>\n",
       "      <td>0.248281</td>\n",
       "      <td>0.371742</td>\n",
       "      <td>0.517798</td>\n",
       "      <td>0.298922</td>\n",
       "      <td>0.294874</td>\n",
       "      <td>0.587507</td>\n",
       "      <td>0.737704</td>\n",
       "    </tr>\n",
       "    <tr>\n",
       "      <th>id_000a6266a</th>\n",
       "      <td>0</td>\n",
       "      <td>0.0</td>\n",
       "      <td>0</td>\n",
       "      <td>0.272457</td>\n",
       "      <td>0.833861</td>\n",
       "      <td>1.353417</td>\n",
       "      <td>-0.166708</td>\n",
       "      <td>-0.086861</td>\n",
       "      <td>1.168288</td>\n",
       "      <td>0.153607</td>\n",
       "      <td>...</td>\n",
       "      <td>-0.127850</td>\n",
       "      <td>-0.082397</td>\n",
       "      <td>0.561309</td>\n",
       "      <td>0.247948</td>\n",
       "      <td>-0.378278</td>\n",
       "      <td>0.022296</td>\n",
       "      <td>-0.086525</td>\n",
       "      <td>0.093651</td>\n",
       "      <td>-0.511093</td>\n",
       "      <td>0.706452</td>\n",
       "    </tr>\n",
       "    <tr>\n",
       "      <th>id_0015fd391</th>\n",
       "      <td>0</td>\n",
       "      <td>0.0</td>\n",
       "      <td>0</td>\n",
       "      <td>-0.546995</td>\n",
       "      <td>-0.188856</td>\n",
       "      <td>-0.403446</td>\n",
       "      <td>0.470350</td>\n",
       "      <td>3.880216</td>\n",
       "      <td>-0.568667</td>\n",
       "      <td>-2.260896</td>\n",
       "      <td>...</td>\n",
       "      <td>-0.814697</td>\n",
       "      <td>-0.089447</td>\n",
       "      <td>-2.556236</td>\n",
       "      <td>-0.416627</td>\n",
       "      <td>-0.164899</td>\n",
       "      <td>-0.573436</td>\n",
       "      <td>-0.561987</td>\n",
       "      <td>-0.293593</td>\n",
       "      <td>0.045047</td>\n",
       "      <td>-0.365011</td>\n",
       "    </tr>\n",
       "    <tr>\n",
       "      <th>id_001626bd3</th>\n",
       "      <td>0</td>\n",
       "      <td>0.5</td>\n",
       "      <td>1</td>\n",
       "      <td>-0.411783</td>\n",
       "      <td>-0.375722</td>\n",
       "      <td>0.789552</td>\n",
       "      <td>0.642035</td>\n",
       "      <td>1.318373</td>\n",
       "      <td>-0.581300</td>\n",
       "      <td>-0.358079</td>\n",
       "      <td>...</td>\n",
       "      <td>0.236669</td>\n",
       "      <td>0.228262</td>\n",
       "      <td>0.589635</td>\n",
       "      <td>0.744707</td>\n",
       "      <td>0.490563</td>\n",
       "      <td>0.031073</td>\n",
       "      <td>0.278143</td>\n",
       "      <td>0.391377</td>\n",
       "      <td>0.049952</td>\n",
       "      <td>0.720231</td>\n",
       "    </tr>\n",
       "  </tbody>\n",
       "</table>\n",
       "<p>5 rows × 875 columns</p>\n",
       "</div>"
      ],
      "text/plain": [
       "              cp_type  cp_time  cp_dose       g-0       g-1       g-2  \\\n",
       "sig_id                                                                  \n",
       "id_000644bb2        0     -0.5        0  0.583933  0.804317 -0.386357   \n",
       "id_000779bfc        0      0.5        0 -0.124925  0.620898  0.141784   \n",
       "id_000a6266a        0      0.0        0  0.272457  0.833861  1.353417   \n",
       "id_0015fd391        0      0.0        0 -0.546995 -0.188856 -0.403446   \n",
       "id_001626bd3        0      0.5        1 -0.411783 -0.375722  0.789552   \n",
       "\n",
       "                   g-3       g-4       g-5       g-6  ...      c-90      c-91  \\\n",
       "sig_id                                                ...                       \n",
       "id_000644bb2 -0.739765 -0.243924 -0.740369 -1.198991  ...  0.377638  0.352428   \n",
       "id_000779bfc -0.022707  0.931772  0.559230  0.224552  ...  0.021367  0.595227   \n",
       "id_000a6266a -0.166708 -0.086861  1.168288  0.153607  ... -0.127850 -0.082397   \n",
       "id_0015fd391  0.470350  3.880216 -0.568667 -2.260896  ... -0.814697 -0.089447   \n",
       "id_001626bd3  0.642035  1.318373 -0.581300 -0.358079  ...  0.236669  0.228262   \n",
       "\n",
       "                  c-92      c-93      c-94      c-95      c-96      c-97  \\\n",
       "sig_id                                                                     \n",
       "id_000644bb2  0.659876  0.499484  0.146278  0.621219  0.031745  0.347587   \n",
       "id_000779bfc  0.491617  0.248281  0.371742  0.517798  0.298922  0.294874   \n",
       "id_000a6266a  0.561309  0.247948 -0.378278  0.022296 -0.086525  0.093651   \n",
       "id_0015fd391 -2.556236 -0.416627 -0.164899 -0.573436 -0.561987 -0.293593   \n",
       "id_001626bd3  0.589635  0.744707  0.490563  0.031073  0.278143  0.391377   \n",
       "\n",
       "                  c-98      c-99  \n",
       "sig_id                            \n",
       "id_000644bb2  0.463460  0.510769  \n",
       "id_000779bfc  0.587507  0.737704  \n",
       "id_000a6266a -0.511093  0.706452  \n",
       "id_0015fd391  0.045047 -0.365011  \n",
       "id_001626bd3  0.049952  0.720231  \n",
       "\n",
       "[5 rows x 875 columns]"
      ]
     },
     "execution_count": 11,
     "metadata": {},
     "output_type": "execute_result"
    }
   ],
   "source": [
    "tf_df['cp_type']=tf_df['cp_type']-1\n",
    "tf_df['cp_dose']=tf_df['cp_dose']-1\n",
    "tf_df.head()"
   ]
  },
  {
   "cell_type": "code",
   "execution_count": 12,
   "metadata": {
    "execution": {
     "iopub.execute_input": "2020-11-17T22:00:00.469450Z",
     "iopub.status.busy": "2020-11-17T22:00:00.464130Z",
     "iopub.status.idle": "2020-11-17T22:00:00.507886Z",
     "shell.execute_reply": "2020-11-17T22:00:00.508917Z"
    },
    "papermill": {
     "duration": 0.096616,
     "end_time": "2020-11-17T22:00:00.509083",
     "exception": false,
     "start_time": "2020-11-17T22:00:00.412467",
     "status": "completed"
    },
    "tags": []
   },
   "outputs": [
    {
     "name": "stdout",
     "output_type": "stream",
     "text": [
      "<class 'pandas.core.frame.DataFrame'>\n",
      "Index: 23814 entries, id_000644bb2 to id_ffffdd77b\n",
      "Columns: 875 entries, cp_type to c-99\n",
      "dtypes: float64(873), int64(2)\n",
      "memory usage: 159.2+ MB\n"
     ]
    }
   ],
   "source": [
    "tf_df.info()"
   ]
  },
  {
   "cell_type": "code",
   "execution_count": 13,
   "metadata": {
    "execution": {
     "iopub.execute_input": "2020-11-17T22:00:00.604053Z",
     "iopub.status.busy": "2020-11-17T22:00:00.602898Z",
     "iopub.status.idle": "2020-11-17T22:00:00.607375Z",
     "shell.execute_reply": "2020-11-17T22:00:00.608080Z"
    },
    "papermill": {
     "duration": 0.059823,
     "end_time": "2020-11-17T22:00:00.608252",
     "exception": false,
     "start_time": "2020-11-17T22:00:00.548429",
     "status": "completed"
    },
    "tags": []
   },
   "outputs": [
    {
     "name": "stdout",
     "output_type": "stream",
     "text": [
      "<class 'pandas.core.frame.DataFrame'>\n",
      "Index: 23814 entries, id_000644bb2 to id_ffffdd77b\n",
      "Columns: 206 entries, 5-alpha_reductase_inhibitor to wnt_inhibitor\n",
      "dtypes: int64(206)\n",
      "memory usage: 37.6+ MB\n"
     ]
    }
   ],
   "source": [
    "tts_df.info()"
   ]
  },
  {
   "cell_type": "markdown",
   "metadata": {
    "papermill": {
     "duration": 0.031095,
     "end_time": "2020-11-17T22:00:00.671368",
     "exception": false,
     "start_time": "2020-11-17T22:00:00.640273",
     "status": "completed"
    },
    "tags": []
   },
   "source": [
    "Floats and ints now, just like it needs to be.\n",
    "\n",
    "Let's hardcode these into numpy arrays since that's technically what Keras wants."
   ]
  },
  {
   "cell_type": "code",
   "execution_count": 14,
   "metadata": {
    "execution": {
     "iopub.execute_input": "2020-11-17T22:00:00.738311Z",
     "iopub.status.busy": "2020-11-17T22:00:00.736969Z",
     "iopub.status.idle": "2020-11-17T22:00:00.862518Z",
     "shell.execute_reply": "2020-11-17T22:00:00.861955Z"
    },
    "papermill": {
     "duration": 0.16085,
     "end_time": "2020-11-17T22:00:00.862621",
     "exception": false,
     "start_time": "2020-11-17T22:00:00.701771",
     "status": "completed"
    },
    "tags": []
   },
   "outputs": [],
   "source": [
    "tf_arr = np.array(tf_df)\n",
    "tts_arr = np.array(tts_df)"
   ]
  },
  {
   "cell_type": "markdown",
   "metadata": {
    "papermill": {
     "duration": 0.030162,
     "end_time": "2020-11-17T22:00:00.923486",
     "exception": false,
     "start_time": "2020-11-17T22:00:00.893324",
     "status": "completed"
    },
    "tags": []
   },
   "source": [
    "Let's try the TPU. Wait, I have to have internet access turned on? Boo."
   ]
  },
  {
   "cell_type": "code",
   "execution_count": 15,
   "metadata": {
    "execution": {
     "iopub.execute_input": "2020-11-17T22:00:00.989800Z",
     "iopub.status.busy": "2020-11-17T22:00:00.989201Z",
     "iopub.status.idle": "2020-11-17T22:00:01.005382Z",
     "shell.execute_reply": "2020-11-17T22:00:01.006085Z"
    },
    "papermill": {
     "duration": 0.05241,
     "end_time": "2020-11-17T22:00:01.006258",
     "exception": false,
     "start_time": "2020-11-17T22:00:00.953848",
     "status": "completed"
    },
    "tags": []
   },
   "outputs": [
    {
     "name": "stdout",
     "output_type": "stream",
     "text": [
      "Number of accelerators:  1\n"
     ]
    }
   ],
   "source": [
    "strategy = tf.distribute.get_strategy()\n",
    "print(\"Number of accelerators: \", strategy.num_replicas_in_sync)"
   ]
  },
  {
   "cell_type": "code",
   "execution_count": 16,
   "metadata": {
    "execution": {
     "iopub.execute_input": "2020-11-17T22:00:01.081773Z",
     "iopub.status.busy": "2020-11-17T22:00:01.081150Z",
     "iopub.status.idle": "2020-11-17T22:00:03.872582Z",
     "shell.execute_reply": "2020-11-17T22:00:03.871473Z"
    },
    "papermill": {
     "duration": 2.833658,
     "end_time": "2020-11-17T22:00:03.872711",
     "exception": false,
     "start_time": "2020-11-17T22:00:01.039053",
     "status": "completed"
    },
    "tags": []
   },
   "outputs": [],
   "source": [
    "bce = tf.losses.BinaryCrossentropy(from_logits=True)\n",
    "with strategy.scope():\n",
    "    inputs = Input(shape=(875,))\n",
    "    x = Dense(1024,activation='elu')(inputs)\n",
    "    x = Dropout(0.2,input_shape=(1024,))(x)\n",
    "    x = Dense(256,activation='elu')(x)\n",
    "    x = Dropout(0.2,input_shape=(256,))(x)\n",
    "    x = Dense(64,activation='elu')(x)\n",
    "    x = Dropout(0.2,input_shape=(64,))(x)\n",
    "    outputs = Dense(206,activation='sigmoid')(x)\n",
    "    model1 = Model(inputs,outputs)\n",
    "    model1.compile(\"adam\", bce, metrics=[\"binary_crossentropy\",\"accuracy\"])"
   ]
  },
  {
   "cell_type": "code",
   "execution_count": 17,
   "metadata": {
    "execution": {
     "iopub.execute_input": "2020-11-17T22:00:03.943331Z",
     "iopub.status.busy": "2020-11-17T22:00:03.942492Z",
     "iopub.status.idle": "2020-11-17T22:00:04.157481Z",
     "shell.execute_reply": "2020-11-17T22:00:04.119609Z"
    },
    "papermill": {
     "duration": 0.252043,
     "end_time": "2020-11-17T22:00:04.157647",
     "exception": false,
     "start_time": "2020-11-17T22:00:03.905604",
     "status": "completed"
    },
    "tags": []
   },
   "outputs": [
    {
     "name": "stdout",
     "output_type": "stream",
     "text": [
      "Model: \"functional_1\"\n",
      "_________________________________________________________________\n",
      "Layer (type)                 Output Shape              Param #   \n",
      "=================================================================\n",
      "input_1 (InputLayer)         [(None, 875)]             0         \n",
      "_________________________________________________________________\n",
      "dense (Dense)                (None, 1024)              897024    \n",
      "_________________________________________________________________\n",
      "dropout (Dropout)            (None, 1024)              0         \n",
      "_________________________________________________________________\n",
      "dense_1 (Dense)              (None, 256)               262400    \n",
      "_________________________________________________________________\n",
      "dropout_1 (Dropout)          (None, 256)               0         \n",
      "_________________________________________________________________\n",
      "dense_2 (Dense)              (None, 64)                16448     \n",
      "_________________________________________________________________\n",
      "dropout_2 (Dropout)          (None, 64)                0         \n",
      "_________________________________________________________________\n",
      "dense_3 (Dense)              (None, 206)               13390     \n",
      "=================================================================\n",
      "Total params: 1,189,262\n",
      "Trainable params: 1,189,262\n",
      "Non-trainable params: 0\n",
      "_________________________________________________________________\n"
     ]
    }
   ],
   "source": [
    "model1.summary()"
   ]
  },
  {
   "cell_type": "code",
   "execution_count": 18,
   "metadata": {
    "execution": {
     "iopub.execute_input": "2020-11-17T22:00:04.319174Z",
     "iopub.status.busy": "2020-11-17T22:00:04.317983Z",
     "iopub.status.idle": "2020-11-17T22:01:52.446409Z",
     "shell.execute_reply": "2020-11-17T22:01:52.445843Z"
    },
    "papermill": {
     "duration": 108.212005,
     "end_time": "2020-11-17T22:01:52.446530",
     "exception": false,
     "start_time": "2020-11-17T22:00:04.234525",
     "status": "completed"
    },
    "tags": []
   },
   "outputs": [
    {
     "name": "stdout",
     "output_type": "stream",
     "text": [
      "Starting Training\n",
      "Epoch 1/40\n",
      "745/745 [==============================] - 3s 5ms/step - loss: 0.6981 - binary_crossentropy: 0.2224 - accuracy: 0.0058\n",
      "Epoch 2/40\n",
      "745/745 [==============================] - 3s 4ms/step - loss: 0.6932 - binary_crossentropy: 0.3827 - accuracy: 0.0165\n",
      "Epoch 3/40\n",
      "745/745 [==============================] - 2s 3ms/step - loss: 0.6931 - binary_crossentropy: 0.4336 - accuracy: 0.0188\n",
      "Epoch 4/40\n",
      "745/745 [==============================] - 3s 3ms/step - loss: 0.6931 - binary_crossentropy: 0.4564 - accuracy: 0.0210\n",
      "Epoch 5/40\n",
      "745/745 [==============================] - 2s 3ms/step - loss: 0.6931 - binary_crossentropy: 0.5092 - accuracy: 0.0223\n",
      "Epoch 6/40\n",
      "745/745 [==============================] - 3s 4ms/step - loss: 0.6931 - binary_crossentropy: 0.5674 - accuracy: 0.0255\n",
      "Epoch 7/40\n",
      "745/745 [==============================] - 2s 3ms/step - loss: 0.6931 - binary_crossentropy: 0.6595 - accuracy: 0.0308\n",
      "Epoch 8/40\n",
      "745/745 [==============================] - 2s 3ms/step - loss: 0.6931 - binary_crossentropy: 0.6839 - accuracy: 0.0356\n",
      "Epoch 9/40\n",
      "745/745 [==============================] - 3s 4ms/step - loss: 0.6931 - binary_crossentropy: 0.7126 - accuracy: 0.0393\n",
      "Epoch 10/40\n",
      "745/745 [==============================] - 3s 4ms/step - loss: 0.6931 - binary_crossentropy: 0.7350 - accuracy: 0.0449\n",
      "Epoch 11/40\n",
      "745/745 [==============================] - 3s 4ms/step - loss: 0.6931 - binary_crossentropy: 0.7533 - accuracy: 0.0587\n",
      "Epoch 12/40\n",
      "745/745 [==============================] - 2s 3ms/step - loss: 0.6931 - binary_crossentropy: 0.7831 - accuracy: 0.0873\n",
      "Epoch 13/40\n",
      "745/745 [==============================] - 2s 3ms/step - loss: 0.6931 - binary_crossentropy: 0.8172 - accuracy: 0.1281\n",
      "Epoch 14/40\n",
      "745/745 [==============================] - 3s 4ms/step - loss: 0.6931 - binary_crossentropy: 0.8281 - accuracy: 0.1418\n",
      "Epoch 15/40\n",
      "745/745 [==============================] - 2s 3ms/step - loss: 0.6931 - binary_crossentropy: 0.8460 - accuracy: 0.1563\n",
      "Epoch 16/40\n",
      "745/745 [==============================] - 3s 4ms/step - loss: 0.6931 - binary_crossentropy: 0.8575 - accuracy: 0.1666\n",
      "Epoch 17/40\n",
      "745/745 [==============================] - 2s 3ms/step - loss: 0.6931 - binary_crossentropy: 0.8747 - accuracy: 0.1840\n",
      "Epoch 18/40\n",
      "745/745 [==============================] - 3s 4ms/step - loss: 0.6931 - binary_crossentropy: 0.9725 - accuracy: 0.2167\n",
      "Epoch 19/40\n",
      "745/745 [==============================] - 3s 3ms/step - loss: 0.6931 - binary_crossentropy: 1.0508 - accuracy: 0.2932\n",
      "Epoch 20/40\n",
      "745/745 [==============================] - 2s 3ms/step - loss: 0.6931 - binary_crossentropy: 1.1242 - accuracy: 0.3147\n",
      "Epoch 21/40\n",
      "745/745 [==============================] - 3s 4ms/step - loss: 0.6931 - binary_crossentropy: 1.1868 - accuracy: 0.3295\n",
      "Epoch 22/40\n",
      "745/745 [==============================] - 3s 4ms/step - loss: 0.6931 - binary_crossentropy: 1.2035 - accuracy: 0.3367\n",
      "Epoch 23/40\n",
      "745/745 [==============================] - 3s 4ms/step - loss: 0.6931 - binary_crossentropy: 1.2103 - accuracy: 0.3391\n",
      "Epoch 24/40\n",
      "745/745 [==============================] - 3s 4ms/step - loss: 0.6931 - binary_crossentropy: 1.2393 - accuracy: 0.3463\n",
      "Epoch 25/40\n",
      "745/745 [==============================] - 2s 3ms/step - loss: 0.6931 - binary_crossentropy: 1.2468 - accuracy: 0.3490\n",
      "Epoch 26/40\n",
      "745/745 [==============================] - 3s 4ms/step - loss: 0.6931 - binary_crossentropy: 1.2599 - accuracy: 0.3532\n",
      "Epoch 27/40\n",
      "745/745 [==============================] - 2s 3ms/step - loss: 0.6931 - binary_crossentropy: 1.2718 - accuracy: 0.3591\n",
      "Epoch 28/40\n",
      "745/745 [==============================] - 3s 3ms/step - loss: 0.6931 - binary_crossentropy: 1.2708 - accuracy: 0.3539\n",
      "Epoch 29/40\n",
      "745/745 [==============================] - 2s 3ms/step - loss: 0.6931 - binary_crossentropy: 1.2726 - accuracy: 0.3567\n",
      "Epoch 30/40\n",
      "745/745 [==============================] - 2s 3ms/step - loss: 0.6931 - binary_crossentropy: 1.2709 - accuracy: 0.3559\n",
      "Epoch 31/40\n",
      "745/745 [==============================] - 3s 3ms/step - loss: 0.6931 - binary_crossentropy: 1.3047 - accuracy: 0.3639\n",
      "Epoch 32/40\n",
      "745/745 [==============================] - 3s 3ms/step - loss: 0.6931 - binary_crossentropy: 1.3493 - accuracy: 0.3610\n",
      "Epoch 33/40\n",
      "745/745 [==============================] - 3s 4ms/step - loss: 0.6931 - binary_crossentropy: 1.5834 - accuracy: 0.3731\n",
      "Epoch 34/40\n",
      "745/745 [==============================] - 3s 3ms/step - loss: 0.6931 - binary_crossentropy: 1.5912 - accuracy: 0.3753\n",
      "Epoch 35/40\n",
      "745/745 [==============================] - 3s 3ms/step - loss: 0.6931 - binary_crossentropy: 1.6027 - accuracy: 0.3762\n",
      "Epoch 36/40\n",
      "745/745 [==============================] - 3s 4ms/step - loss: 0.6931 - binary_crossentropy: 1.6098 - accuracy: 0.3764\n",
      "Epoch 37/40\n",
      "745/745 [==============================] - 3s 4ms/step - loss: 0.6931 - binary_crossentropy: 1.6183 - accuracy: 0.3769\n",
      "Epoch 38/40\n",
      "745/745 [==============================] - 3s 3ms/step - loss: 0.6931 - binary_crossentropy: 1.6222 - accuracy: 0.3779\n",
      "Epoch 39/40\n",
      "745/745 [==============================] - 3s 4ms/step - loss: 0.6931 - binary_crossentropy: 1.6223 - accuracy: 0.3777\n",
      "Epoch 40/40\n",
      "745/745 [==============================] - 2s 3ms/step - loss: 0.6931 - binary_crossentropy: 1.6427 - accuracy: 0.3777\n",
      "Finished Training\n"
     ]
    }
   ],
   "source": [
    "n_epochs = 40\n",
    "n_batch = 32\n",
    "print('Starting Training')\n",
    "model1.fit(tf_arr,tts_arr,epochs=n_epochs,batch_size=n_batch)\n",
    "print('Finished Training')"
   ]
  },
  {
   "cell_type": "code",
   "execution_count": 19,
   "metadata": {
    "execution": {
     "iopub.execute_input": "2020-11-17T22:01:58.230860Z",
     "iopub.status.busy": "2020-11-17T22:01:58.229977Z",
     "iopub.status.idle": "2020-11-17T22:01:59.757714Z",
     "shell.execute_reply": "2020-11-17T22:01:59.757121Z"
    },
    "papermill": {
     "duration": 4.44849,
     "end_time": "2020-11-17T22:01:59.757851",
     "exception": false,
     "start_time": "2020-11-17T22:01:55.309361",
     "status": "completed"
    },
    "tags": []
   },
   "outputs": [
    {
     "data": {
      "text/plain": [
       "3.7692548074519654"
      ]
     },
     "execution_count": 19,
     "metadata": {},
     "output_type": "execute_result"
    }
   ],
   "source": [
    "tts_pred = model1.predict(tf_arr)\n",
    "log_loss(tts_arr,tts_pred)"
   ]
  },
  {
   "cell_type": "markdown",
   "metadata": {
    "papermill": {
     "duration": 3.848446,
     "end_time": "2020-11-17T22:02:06.478220",
     "exception": false,
     "start_time": "2020-11-17T22:02:02.629774",
     "status": "completed"
    },
    "tags": []
   },
   "source": [
    "Wow, that's worse than my single layer model.\n",
    "Now let's tune."
   ]
  },
  {
   "cell_type": "code",
   "execution_count": 20,
   "metadata": {
    "execution": {
     "iopub.execute_input": "2020-11-17T22:02:12.761307Z",
     "iopub.status.busy": "2020-11-17T22:02:12.760636Z",
     "iopub.status.idle": "2020-11-17T22:02:13.451364Z",
     "shell.execute_reply": "2020-11-17T22:02:13.451881Z"
    },
    "papermill": {
     "duration": 3.997929,
     "end_time": "2020-11-17T22:02:13.452041",
     "exception": false,
     "start_time": "2020-11-17T22:02:09.454112",
     "status": "completed"
    },
    "tags": []
   },
   "outputs": [
    {
     "name": "stdout",
     "output_type": "stream",
     "text": [
      "rm: cannot remove '/kaggle/working/keras_tune': No such file or directory\r\n"
     ]
    }
   ],
   "source": [
    "!rm -R /kaggle/working/keras_tune"
   ]
  },
  {
   "cell_type": "code",
   "execution_count": 21,
   "metadata": {
    "execution": {
     "iopub.execute_input": "2020-11-17T22:02:19.197655Z",
     "iopub.status.busy": "2020-11-17T22:02:19.196845Z",
     "iopub.status.idle": "2020-11-17T22:02:19.200222Z",
     "shell.execute_reply": "2020-11-17T22:02:19.200660Z"
    },
    "papermill": {
     "duration": 2.890011,
     "end_time": "2020-11-17T22:02:19.200796",
     "exception": false,
     "start_time": "2020-11-17T22:02:16.310785",
     "status": "completed"
    },
    "tags": []
   },
   "outputs": [],
   "source": [
    "def build_model(hp):\n",
    "    inputs = Input(shape=(875,))\n",
    "    x = Dense(\n",
    "        units = hp.Choice('units 1',values=[64,256,1024]),\n",
    "        activation = hp.Choice('activation function 1',values=['relu','elu'])\n",
    "    )(inputs)\n",
    "    x = Dropout(hp.Choice('dropout 1',values=[0.2,0.35,0.5]))(x)\n",
    "    x = Dense(\n",
    "        units = hp.Choice('units 2',values=[32,128,512]),\n",
    "        activation = hp.Choice('activation function 2',values=['relu','elu'])\n",
    "    )(x)\n",
    "    x = Dropout(hp.Choice('dropout 2',values=[0.2,0.35,0.5]))(x)\n",
    "    x = Dense(\n",
    "        units = hp.Choice('units 3',values=[16,64,256]),\n",
    "        activation = hp.Choice('activation function 3',values=['relu','elu'])\n",
    "    )(x)\n",
    "    x = Dropout(hp.Choice('dropout 3',values=[0.2,0.35,0.5]))(x)\n",
    "\n",
    "    outputs = Dense(206,activation = hp.Choice('classify function',values =\n",
    "                                              ['sigmoid','softmax']))(x)\n",
    "    model = Model(inputs, outputs)\n",
    "    # should throw in a choice of optimizer here: adam, etc.\n",
    "    opt = tf.keras.optimizers.Adam(\n",
    "        learning_rate=hp.Choice('learn rate',values=[0.01,0.001,0.0001]),\n",
    "        beta_1=0.9,\n",
    "        beta_2=0.999,\n",
    "        epsilon=1e-07,\n",
    "        amsgrad=False\n",
    "    )\n",
    "    bce = tf.losses.BinaryCrossentropy(from_logits=True)\n",
    "    model.compile(optimizer=opt,loss=bce,metrics=[bce,'accuracy'])\n",
    "    return model"
   ]
  },
  {
   "cell_type": "code",
   "execution_count": 22,
   "metadata": {
    "execution": {
     "iopub.execute_input": "2020-11-17T22:02:25.280511Z",
     "iopub.status.busy": "2020-11-17T22:02:25.279593Z",
     "iopub.status.idle": "2020-11-17T22:02:25.535587Z",
     "shell.execute_reply": "2020-11-17T22:02:25.534767Z"
    },
    "papermill": {
     "duration": 3.22093,
     "end_time": "2020-11-17T22:02:25.535709",
     "exception": false,
     "start_time": "2020-11-17T22:02:22.314779",
     "status": "completed"
    },
    "tags": []
   },
   "outputs": [],
   "source": [
    "# let's try this\n",
    "with strategy.scope():\n",
    "    tuner = kerastuner.tuners.Hyperband(\n",
    "            build_model,\n",
    "            objective='binary_crossentropy',\n",
    "            max_epochs=18,\n",
    "            executions_per_trial=2,\n",
    "            directory='keras_tune'\n",
    "    )"
   ]
  },
  {
   "cell_type": "code",
   "execution_count": 23,
   "metadata": {
    "execution": {
     "iopub.execute_input": "2020-11-17T22:02:31.250967Z",
     "iopub.status.busy": "2020-11-17T22:02:31.249568Z",
     "iopub.status.idle": "2020-11-17T22:19:34.761292Z",
     "shell.execute_reply": "2020-11-17T22:19:34.760397Z"
    },
    "papermill": {
     "duration": 1026.364698,
     "end_time": "2020-11-17T22:19:34.761491",
     "exception": false,
     "start_time": "2020-11-17T22:02:28.396793",
     "status": "completed"
    },
    "tags": []
   },
   "outputs": [
    {
     "name": "stdout",
     "output_type": "stream",
     "text": [
      "Starting Tuning\n",
      "Epoch 1/2\n",
      "596/596 [==============================] - 2s 4ms/step - loss: 0.6954 - binary_crossentropy: 0.6954 - accuracy: 0.0351 - val_loss: 0.6952 - val_binary_crossentropy: 0.6952 - val_accuracy: 0.0775\n",
      "Epoch 2/2\n",
      "596/596 [==============================] - 3s 4ms/step - loss: 0.6952 - binary_crossentropy: 0.6952 - accuracy: 0.0823 - val_loss: 0.6951 - val_binary_crossentropy: 0.6951 - val_accuracy: 0.0848\n",
      "Epoch 1/2\n",
      "596/596 [==============================] - 2s 4ms/step - loss: 0.6954 - binary_crossentropy: 0.6954 - accuracy: 0.0354 - val_loss: 0.6952 - val_binary_crossentropy: 0.6952 - val_accuracy: 0.0655\n",
      "Epoch 2/2\n",
      "596/596 [==============================] - 2s 4ms/step - loss: 0.6952 - binary_crossentropy: 0.6952 - accuracy: 0.0617 - val_loss: 0.6952 - val_binary_crossentropy: 0.6952 - val_accuracy: 0.0741\n"
     ]
    },
    {
     "data": {
      "text/html": [
       "<span style=\"color:#4527A0\"><h1 style=\"font-size:18px\">Trial complete</h1></span>"
      ],
      "text/plain": [
       "<IPython.core.display.HTML object>"
      ]
     },
     "metadata": {},
     "output_type": "display_data"
    },
    {
     "data": {
      "text/html": [
       "<span style=\"color:#4527A0\"><h1 style=\"font-size:18px\">Trial summary</h1></span>"
      ],
      "text/plain": [
       "<IPython.core.display.HTML object>"
      ]
     },
     "metadata": {},
     "output_type": "display_data"
    },
    {
     "data": {
      "text/html": [
       "<span style=\"color:cyan\"> |-Trial ID: fd3922c2694fb815fa418ddf360af22e</span>"
      ],
      "text/plain": [
       "<IPython.core.display.HTML object>"
      ]
     },
     "metadata": {},
     "output_type": "display_data"
    },
    {
     "data": {
      "text/html": [
       "<span style=\"color:cyan\"> |-Score: 0.6952290236949921</span>"
      ],
      "text/plain": [
       "<IPython.core.display.HTML object>"
      ]
     },
     "metadata": {},
     "output_type": "display_data"
    },
    {
     "data": {
      "text/html": [
       "<span style=\"color:cyan\"> |-Best step: 0</span>"
      ],
      "text/plain": [
       "<IPython.core.display.HTML object>"
      ]
     },
     "metadata": {},
     "output_type": "display_data"
    },
    {
     "data": {
      "text/html": [
       "<span style=\"color:#7E57C2\"><h2 style=\"font-size:16px\">Hyperparameters:</h2></span>"
      ],
      "text/plain": [
       "<IPython.core.display.HTML object>"
      ]
     },
     "metadata": {},
     "output_type": "display_data"
    },
    {
     "data": {
      "text/html": [
       "<span style=\"color:cyan\"> |-activation function 1: elu</span>"
      ],
      "text/plain": [
       "<IPython.core.display.HTML object>"
      ]
     },
     "metadata": {},
     "output_type": "display_data"
    },
    {
     "data": {
      "text/html": [
       "<span style=\"color:blue\"> |-activation function 2: relu</span>"
      ],
      "text/plain": [
       "<IPython.core.display.HTML object>"
      ]
     },
     "metadata": {},
     "output_type": "display_data"
    },
    {
     "data": {
      "text/html": [
       "<span style=\"color:cyan\"> |-activation function 3: elu</span>"
      ],
      "text/plain": [
       "<IPython.core.display.HTML object>"
      ]
     },
     "metadata": {},
     "output_type": "display_data"
    },
    {
     "data": {
      "text/html": [
       "<span style=\"color:blue\"> |-classify function: softmax</span>"
      ],
      "text/plain": [
       "<IPython.core.display.HTML object>"
      ]
     },
     "metadata": {},
     "output_type": "display_data"
    },
    {
     "data": {
      "text/html": [
       "<span style=\"color:cyan\"> |-dropout 1: 0.35</span>"
      ],
      "text/plain": [
       "<IPython.core.display.HTML object>"
      ]
     },
     "metadata": {},
     "output_type": "display_data"
    },
    {
     "data": {
      "text/html": [
       "<span style=\"color:blue\"> |-dropout 2: 0.5</span>"
      ],
      "text/plain": [
       "<IPython.core.display.HTML object>"
      ]
     },
     "metadata": {},
     "output_type": "display_data"
    },
    {
     "data": {
      "text/html": [
       "<span style=\"color:cyan\"> |-dropout 3: 0.35</span>"
      ],
      "text/plain": [
       "<IPython.core.display.HTML object>"
      ]
     },
     "metadata": {},
     "output_type": "display_data"
    },
    {
     "data": {
      "text/html": [
       "<span style=\"color:blue\"> |-learn rate: 0.001</span>"
      ],
      "text/plain": [
       "<IPython.core.display.HTML object>"
      ]
     },
     "metadata": {},
     "output_type": "display_data"
    },
    {
     "data": {
      "text/html": [
       "<span style=\"color:cyan\"> |-tuner/bracket: 2</span>"
      ],
      "text/plain": [
       "<IPython.core.display.HTML object>"
      ]
     },
     "metadata": {},
     "output_type": "display_data"
    },
    {
     "data": {
      "text/html": [
       "<span style=\"color:blue\"> |-tuner/epochs: 2</span>"
      ],
      "text/plain": [
       "<IPython.core.display.HTML object>"
      ]
     },
     "metadata": {},
     "output_type": "display_data"
    },
    {
     "data": {
      "text/html": [
       "<span style=\"color:cyan\"> |-tuner/initial_epoch: 0</span>"
      ],
      "text/plain": [
       "<IPython.core.display.HTML object>"
      ]
     },
     "metadata": {},
     "output_type": "display_data"
    },
    {
     "data": {
      "text/html": [
       "<span style=\"color:blue\"> |-tuner/round: 0</span>"
      ],
      "text/plain": [
       "<IPython.core.display.HTML object>"
      ]
     },
     "metadata": {},
     "output_type": "display_data"
    },
    {
     "data": {
      "text/html": [
       "<span style=\"color:cyan\"> |-units 1: 256</span>"
      ],
      "text/plain": [
       "<IPython.core.display.HTML object>"
      ]
     },
     "metadata": {},
     "output_type": "display_data"
    },
    {
     "data": {
      "text/html": [
       "<span style=\"color:blue\"> |-units 2: 512</span>"
      ],
      "text/plain": [
       "<IPython.core.display.HTML object>"
      ]
     },
     "metadata": {},
     "output_type": "display_data"
    },
    {
     "data": {
      "text/html": [
       "<span style=\"color:cyan\"> |-units 3: 16</span>"
      ],
      "text/plain": [
       "<IPython.core.display.HTML object>"
      ]
     },
     "metadata": {},
     "output_type": "display_data"
    },
    {
     "name": "stdout",
     "output_type": "stream",
     "text": [
      "Epoch 1/2\n",
      "596/596 [==============================] - 2s 4ms/step - loss: 0.7131 - binary_crossentropy: 0.7131 - accuracy: 0.0036 - val_loss: 0.6931 - val_binary_crossentropy: 0.6931 - val_accuracy: 0.0044\n",
      "Epoch 2/2\n",
      "596/596 [==============================] - 2s 4ms/step - loss: 0.6938 - binary_crossentropy: 0.6938 - accuracy: 0.0117 - val_loss: 0.6931 - val_binary_crossentropy: 0.6931 - val_accuracy: 0.0052\n",
      "Epoch 1/2\n",
      "596/596 [==============================] - 2s 4ms/step - loss: 0.7131 - binary_crossentropy: 0.7131 - accuracy: 0.0067 - val_loss: 0.6931 - val_binary_crossentropy: 0.6931 - val_accuracy: 0.0019\n",
      "Epoch 2/2\n",
      "596/596 [==============================] - 2s 4ms/step - loss: 0.6938 - binary_crossentropy: 0.6938 - accuracy: 0.0220 - val_loss: 0.6931 - val_binary_crossentropy: 0.6931 - val_accuracy: 0.0418\n"
     ]
    },
    {
     "data": {
      "text/html": [
       "<span style=\"color:#4527A0\"><h1 style=\"font-size:18px\">Trial complete</h1></span>"
      ],
      "text/plain": [
       "<IPython.core.display.HTML object>"
      ]
     },
     "metadata": {},
     "output_type": "display_data"
    },
    {
     "data": {
      "text/html": [
       "<span style=\"color:#4527A0\"><h1 style=\"font-size:18px\">Trial summary</h1></span>"
      ],
      "text/plain": [
       "<IPython.core.display.HTML object>"
      ]
     },
     "metadata": {},
     "output_type": "display_data"
    },
    {
     "data": {
      "text/html": [
       "<span style=\"color:cyan\"> |-Trial ID: 07cd0be96c5bccae353a457f6464ac76</span>"
      ],
      "text/plain": [
       "<IPython.core.display.HTML object>"
      ]
     },
     "metadata": {},
     "output_type": "display_data"
    },
    {
     "data": {
      "text/html": [
       "<span style=\"color:cyan\"> |-Score: 0.6938022077083588</span>"
      ],
      "text/plain": [
       "<IPython.core.display.HTML object>"
      ]
     },
     "metadata": {},
     "output_type": "display_data"
    },
    {
     "data": {
      "text/html": [
       "<span style=\"color:cyan\"> |-Best step: 0</span>"
      ],
      "text/plain": [
       "<IPython.core.display.HTML object>"
      ]
     },
     "metadata": {},
     "output_type": "display_data"
    },
    {
     "data": {
      "text/html": [
       "<span style=\"color:#7E57C2\"><h2 style=\"font-size:16px\">Hyperparameters:</h2></span>"
      ],
      "text/plain": [
       "<IPython.core.display.HTML object>"
      ]
     },
     "metadata": {},
     "output_type": "display_data"
    },
    {
     "data": {
      "text/html": [
       "<span style=\"color:cyan\"> |-activation function 1: relu</span>"
      ],
      "text/plain": [
       "<IPython.core.display.HTML object>"
      ]
     },
     "metadata": {},
     "output_type": "display_data"
    },
    {
     "data": {
      "text/html": [
       "<span style=\"color:blue\"> |-activation function 2: elu</span>"
      ],
      "text/plain": [
       "<IPython.core.display.HTML object>"
      ]
     },
     "metadata": {},
     "output_type": "display_data"
    },
    {
     "data": {
      "text/html": [
       "<span style=\"color:cyan\"> |-activation function 3: elu</span>"
      ],
      "text/plain": [
       "<IPython.core.display.HTML object>"
      ]
     },
     "metadata": {},
     "output_type": "display_data"
    },
    {
     "data": {
      "text/html": [
       "<span style=\"color:blue\"> |-classify function: sigmoid</span>"
      ],
      "text/plain": [
       "<IPython.core.display.HTML object>"
      ]
     },
     "metadata": {},
     "output_type": "display_data"
    },
    {
     "data": {
      "text/html": [
       "<span style=\"color:cyan\"> |-dropout 1: 0.2</span>"
      ],
      "text/plain": [
       "<IPython.core.display.HTML object>"
      ]
     },
     "metadata": {},
     "output_type": "display_data"
    },
    {
     "data": {
      "text/html": [
       "<span style=\"color:blue\"> |-dropout 2: 0.35</span>"
      ],
      "text/plain": [
       "<IPython.core.display.HTML object>"
      ]
     },
     "metadata": {},
     "output_type": "display_data"
    },
    {
     "data": {
      "text/html": [
       "<span style=\"color:cyan\"> |-dropout 3: 0.5</span>"
      ],
      "text/plain": [
       "<IPython.core.display.HTML object>"
      ]
     },
     "metadata": {},
     "output_type": "display_data"
    },
    {
     "data": {
      "text/html": [
       "<span style=\"color:blue\"> |-learn rate: 0.001</span>"
      ],
      "text/plain": [
       "<IPython.core.display.HTML object>"
      ]
     },
     "metadata": {},
     "output_type": "display_data"
    },
    {
     "data": {
      "text/html": [
       "<span style=\"color:cyan\"> |-tuner/bracket: 2</span>"
      ],
      "text/plain": [
       "<IPython.core.display.HTML object>"
      ]
     },
     "metadata": {},
     "output_type": "display_data"
    },
    {
     "data": {
      "text/html": [
       "<span style=\"color:blue\"> |-tuner/epochs: 2</span>"
      ],
      "text/plain": [
       "<IPython.core.display.HTML object>"
      ]
     },
     "metadata": {},
     "output_type": "display_data"
    },
    {
     "data": {
      "text/html": [
       "<span style=\"color:cyan\"> |-tuner/initial_epoch: 0</span>"
      ],
      "text/plain": [
       "<IPython.core.display.HTML object>"
      ]
     },
     "metadata": {},
     "output_type": "display_data"
    },
    {
     "data": {
      "text/html": [
       "<span style=\"color:blue\"> |-tuner/round: 0</span>"
      ],
      "text/plain": [
       "<IPython.core.display.HTML object>"
      ]
     },
     "metadata": {},
     "output_type": "display_data"
    },
    {
     "data": {
      "text/html": [
       "<span style=\"color:cyan\"> |-units 1: 256</span>"
      ],
      "text/plain": [
       "<IPython.core.display.HTML object>"
      ]
     },
     "metadata": {},
     "output_type": "display_data"
    },
    {
     "data": {
      "text/html": [
       "<span style=\"color:blue\"> |-units 2: 512</span>"
      ],
      "text/plain": [
       "<IPython.core.display.HTML object>"
      ]
     },
     "metadata": {},
     "output_type": "display_data"
    },
    {
     "data": {
      "text/html": [
       "<span style=\"color:cyan\"> |-units 3: 16</span>"
      ],
      "text/plain": [
       "<IPython.core.display.HTML object>"
      ]
     },
     "metadata": {},
     "output_type": "display_data"
    },
    {
     "name": "stdout",
     "output_type": "stream",
     "text": [
      "Epoch 1/2\n",
      "596/596 [==============================] - 2s 4ms/step - loss: 0.6955 - binary_crossentropy: 0.6955 - accuracy: 0.0133 - val_loss: 0.6954 - val_binary_crossentropy: 0.6954 - val_accuracy: 0.0342\n",
      "Epoch 2/2\n",
      "596/596 [==============================] - 2s 3ms/step - loss: 0.6953 - binary_crossentropy: 0.6953 - accuracy: 0.0457 - val_loss: 0.6953 - val_binary_crossentropy: 0.6953 - val_accuracy: 0.0586\n",
      "Epoch 1/2\n",
      "596/596 [==============================] - 3s 5ms/step - loss: 0.6955 - binary_crossentropy: 0.6955 - accuracy: 0.0132 - val_loss: 0.6954 - val_binary_crossentropy: 0.6954 - val_accuracy: 0.0178\n",
      "Epoch 2/2\n",
      "596/596 [==============================] - 4s 7ms/step - loss: 0.6954 - binary_crossentropy: 0.6954 - accuracy: 0.0422 - val_loss: 0.6953 - val_binary_crossentropy: 0.6953 - val_accuracy: 0.0592\n"
     ]
    },
    {
     "data": {
      "text/html": [
       "<span style=\"color:#4527A0\"><h1 style=\"font-size:18px\">Trial complete</h1></span>"
      ],
      "text/plain": [
       "<IPython.core.display.HTML object>"
      ]
     },
     "metadata": {},
     "output_type": "display_data"
    },
    {
     "data": {
      "text/html": [
       "<span style=\"color:#4527A0\"><h1 style=\"font-size:18px\">Trial summary</h1></span>"
      ],
      "text/plain": [
       "<IPython.core.display.HTML object>"
      ]
     },
     "metadata": {},
     "output_type": "display_data"
    },
    {
     "data": {
      "text/html": [
       "<span style=\"color:cyan\"> |-Trial ID: 7a7a3b7c53244ea022796f9c512f981c</span>"
      ],
      "text/plain": [
       "<IPython.core.display.HTML object>"
      ]
     },
     "metadata": {},
     "output_type": "display_data"
    },
    {
     "data": {
      "text/html": [
       "<span style=\"color:cyan\"> |-Score: 0.6953502595424652</span>"
      ],
      "text/plain": [
       "<IPython.core.display.HTML object>"
      ]
     },
     "metadata": {},
     "output_type": "display_data"
    },
    {
     "data": {
      "text/html": [
       "<span style=\"color:cyan\"> |-Best step: 0</span>"
      ],
      "text/plain": [
       "<IPython.core.display.HTML object>"
      ]
     },
     "metadata": {},
     "output_type": "display_data"
    },
    {
     "data": {
      "text/html": [
       "<span style=\"color:#7E57C2\"><h2 style=\"font-size:16px\">Hyperparameters:</h2></span>"
      ],
      "text/plain": [
       "<IPython.core.display.HTML object>"
      ]
     },
     "metadata": {},
     "output_type": "display_data"
    },
    {
     "data": {
      "text/html": [
       "<span style=\"color:cyan\"> |-activation function 1: relu</span>"
      ],
      "text/plain": [
       "<IPython.core.display.HTML object>"
      ]
     },
     "metadata": {},
     "output_type": "display_data"
    },
    {
     "data": {
      "text/html": [
       "<span style=\"color:blue\"> |-activation function 2: elu</span>"
      ],
      "text/plain": [
       "<IPython.core.display.HTML object>"
      ]
     },
     "metadata": {},
     "output_type": "display_data"
    },
    {
     "data": {
      "text/html": [
       "<span style=\"color:cyan\"> |-activation function 3: elu</span>"
      ],
      "text/plain": [
       "<IPython.core.display.HTML object>"
      ]
     },
     "metadata": {},
     "output_type": "display_data"
    },
    {
     "data": {
      "text/html": [
       "<span style=\"color:blue\"> |-classify function: softmax</span>"
      ],
      "text/plain": [
       "<IPython.core.display.HTML object>"
      ]
     },
     "metadata": {},
     "output_type": "display_data"
    },
    {
     "data": {
      "text/html": [
       "<span style=\"color:cyan\"> |-dropout 1: 0.2</span>"
      ],
      "text/plain": [
       "<IPython.core.display.HTML object>"
      ]
     },
     "metadata": {},
     "output_type": "display_data"
    },
    {
     "data": {
      "text/html": [
       "<span style=\"color:blue\"> |-dropout 2: 0.35</span>"
      ],
      "text/plain": [
       "<IPython.core.display.HTML object>"
      ]
     },
     "metadata": {},
     "output_type": "display_data"
    },
    {
     "data": {
      "text/html": [
       "<span style=\"color:cyan\"> |-dropout 3: 0.35</span>"
      ],
      "text/plain": [
       "<IPython.core.display.HTML object>"
      ]
     },
     "metadata": {},
     "output_type": "display_data"
    },
    {
     "data": {
      "text/html": [
       "<span style=\"color:blue\"> |-learn rate: 0.0001</span>"
      ],
      "text/plain": [
       "<IPython.core.display.HTML object>"
      ]
     },
     "metadata": {},
     "output_type": "display_data"
    },
    {
     "data": {
      "text/html": [
       "<span style=\"color:cyan\"> |-tuner/bracket: 2</span>"
      ],
      "text/plain": [
       "<IPython.core.display.HTML object>"
      ]
     },
     "metadata": {},
     "output_type": "display_data"
    },
    {
     "data": {
      "text/html": [
       "<span style=\"color:blue\"> |-tuner/epochs: 2</span>"
      ],
      "text/plain": [
       "<IPython.core.display.HTML object>"
      ]
     },
     "metadata": {},
     "output_type": "display_data"
    },
    {
     "data": {
      "text/html": [
       "<span style=\"color:cyan\"> |-tuner/initial_epoch: 0</span>"
      ],
      "text/plain": [
       "<IPython.core.display.HTML object>"
      ]
     },
     "metadata": {},
     "output_type": "display_data"
    },
    {
     "data": {
      "text/html": [
       "<span style=\"color:blue\"> |-tuner/round: 0</span>"
      ],
      "text/plain": [
       "<IPython.core.display.HTML object>"
      ]
     },
     "metadata": {},
     "output_type": "display_data"
    },
    {
     "data": {
      "text/html": [
       "<span style=\"color:cyan\"> |-units 1: 256</span>"
      ],
      "text/plain": [
       "<IPython.core.display.HTML object>"
      ]
     },
     "metadata": {},
     "output_type": "display_data"
    },
    {
     "data": {
      "text/html": [
       "<span style=\"color:blue\"> |-units 2: 32</span>"
      ],
      "text/plain": [
       "<IPython.core.display.HTML object>"
      ]
     },
     "metadata": {},
     "output_type": "display_data"
    },
    {
     "data": {
      "text/html": [
       "<span style=\"color:cyan\"> |-units 3: 256</span>"
      ],
      "text/plain": [
       "<IPython.core.display.HTML object>"
      ]
     },
     "metadata": {},
     "output_type": "display_data"
    },
    {
     "name": "stdout",
     "output_type": "stream",
     "text": [
      "Epoch 1/2\n",
      "596/596 [==============================] - 3s 5ms/step - loss: 0.6939 - binary_crossentropy: 0.6939 - accuracy: 0.3877 - val_loss: 0.6931 - val_binary_crossentropy: 0.6931 - val_accuracy: 0.3953\n",
      "Epoch 2/2\n",
      "596/596 [==============================] - 2s 3ms/step - loss: 0.6931 - binary_crossentropy: 0.6931 - accuracy: 0.3936 - val_loss: 0.6931 - val_binary_crossentropy: 0.6931 - val_accuracy: 0.3953\n",
      "Epoch 1/2\n",
      "596/596 [==============================] - 2s 4ms/step - loss: 0.6940 - binary_crossentropy: 0.6940 - accuracy: 0.3872 - val_loss: 0.6931 - val_binary_crossentropy: 0.6931 - val_accuracy: 0.3953\n",
      "Epoch 2/2\n",
      "596/596 [==============================] - 2s 4ms/step - loss: 0.6931 - binary_crossentropy: 0.6931 - accuracy: 0.3932 - val_loss: 0.6931 - val_binary_crossentropy: 0.6931 - val_accuracy: 0.3953\n"
     ]
    },
    {
     "data": {
      "text/html": [
       "<span style=\"color:#4527A0\"><h1 style=\"font-size:18px\">Trial complete</h1></span>"
      ],
      "text/plain": [
       "<IPython.core.display.HTML object>"
      ]
     },
     "metadata": {},
     "output_type": "display_data"
    },
    {
     "data": {
      "text/html": [
       "<span style=\"color:#4527A0\"><h1 style=\"font-size:18px\">Trial summary</h1></span>"
      ],
      "text/plain": [
       "<IPython.core.display.HTML object>"
      ]
     },
     "metadata": {},
     "output_type": "display_data"
    },
    {
     "data": {
      "text/html": [
       "<span style=\"color:cyan\"> |-Trial ID: 23484dbc53550edd42ad67fce3e0d60f</span>"
      ],
      "text/plain": [
       "<IPython.core.display.HTML object>"
      ]
     },
     "metadata": {},
     "output_type": "display_data"
    },
    {
     "data": {
      "text/html": [
       "<span style=\"color:cyan\"> |-Score: 0.6931459307670593</span>"
      ],
      "text/plain": [
       "<IPython.core.display.HTML object>"
      ]
     },
     "metadata": {},
     "output_type": "display_data"
    },
    {
     "data": {
      "text/html": [
       "<span style=\"color:cyan\"> |-Best step: 0</span>"
      ],
      "text/plain": [
       "<IPython.core.display.HTML object>"
      ]
     },
     "metadata": {},
     "output_type": "display_data"
    },
    {
     "data": {
      "text/html": [
       "<span style=\"color:#7E57C2\"><h2 style=\"font-size:16px\">Hyperparameters:</h2></span>"
      ],
      "text/plain": [
       "<IPython.core.display.HTML object>"
      ]
     },
     "metadata": {},
     "output_type": "display_data"
    },
    {
     "data": {
      "text/html": [
       "<span style=\"color:cyan\"> |-activation function 1: relu</span>"
      ],
      "text/plain": [
       "<IPython.core.display.HTML object>"
      ]
     },
     "metadata": {},
     "output_type": "display_data"
    },
    {
     "data": {
      "text/html": [
       "<span style=\"color:blue\"> |-activation function 2: elu</span>"
      ],
      "text/plain": [
       "<IPython.core.display.HTML object>"
      ]
     },
     "metadata": {},
     "output_type": "display_data"
    },
    {
     "data": {
      "text/html": [
       "<span style=\"color:cyan\"> |-activation function 3: elu</span>"
      ],
      "text/plain": [
       "<IPython.core.display.HTML object>"
      ]
     },
     "metadata": {},
     "output_type": "display_data"
    },
    {
     "data": {
      "text/html": [
       "<span style=\"color:blue\"> |-classify function: sigmoid</span>"
      ],
      "text/plain": [
       "<IPython.core.display.HTML object>"
      ]
     },
     "metadata": {},
     "output_type": "display_data"
    },
    {
     "data": {
      "text/html": [
       "<span style=\"color:cyan\"> |-dropout 1: 0.2</span>"
      ],
      "text/plain": [
       "<IPython.core.display.HTML object>"
      ]
     },
     "metadata": {},
     "output_type": "display_data"
    },
    {
     "data": {
      "text/html": [
       "<span style=\"color:blue\"> |-dropout 2: 0.2</span>"
      ],
      "text/plain": [
       "<IPython.core.display.HTML object>"
      ]
     },
     "metadata": {},
     "output_type": "display_data"
    },
    {
     "data": {
      "text/html": [
       "<span style=\"color:cyan\"> |-dropout 3: 0.5</span>"
      ],
      "text/plain": [
       "<IPython.core.display.HTML object>"
      ]
     },
     "metadata": {},
     "output_type": "display_data"
    },
    {
     "data": {
      "text/html": [
       "<span style=\"color:blue\"> |-learn rate: 0.01</span>"
      ],
      "text/plain": [
       "<IPython.core.display.HTML object>"
      ]
     },
     "metadata": {},
     "output_type": "display_data"
    },
    {
     "data": {
      "text/html": [
       "<span style=\"color:cyan\"> |-tuner/bracket: 2</span>"
      ],
      "text/plain": [
       "<IPython.core.display.HTML object>"
      ]
     },
     "metadata": {},
     "output_type": "display_data"
    },
    {
     "data": {
      "text/html": [
       "<span style=\"color:blue\"> |-tuner/epochs: 2</span>"
      ],
      "text/plain": [
       "<IPython.core.display.HTML object>"
      ]
     },
     "metadata": {},
     "output_type": "display_data"
    },
    {
     "data": {
      "text/html": [
       "<span style=\"color:cyan\"> |-tuner/initial_epoch: 0</span>"
      ],
      "text/plain": [
       "<IPython.core.display.HTML object>"
      ]
     },
     "metadata": {},
     "output_type": "display_data"
    },
    {
     "data": {
      "text/html": [
       "<span style=\"color:blue\"> |-tuner/round: 0</span>"
      ],
      "text/plain": [
       "<IPython.core.display.HTML object>"
      ]
     },
     "metadata": {},
     "output_type": "display_data"
    },
    {
     "data": {
      "text/html": [
       "<span style=\"color:cyan\"> |-units 1: 64</span>"
      ],
      "text/plain": [
       "<IPython.core.display.HTML object>"
      ]
     },
     "metadata": {},
     "output_type": "display_data"
    },
    {
     "data": {
      "text/html": [
       "<span style=\"color:blue\"> |-units 2: 512</span>"
      ],
      "text/plain": [
       "<IPython.core.display.HTML object>"
      ]
     },
     "metadata": {},
     "output_type": "display_data"
    },
    {
     "data": {
      "text/html": [
       "<span style=\"color:cyan\"> |-units 3: 256</span>"
      ],
      "text/plain": [
       "<IPython.core.display.HTML object>"
      ]
     },
     "metadata": {},
     "output_type": "display_data"
    },
    {
     "name": "stdout",
     "output_type": "stream",
     "text": [
      "Epoch 1/2\n",
      "596/596 [==============================] - 2s 4ms/step - loss: 0.6956 - binary_crossentropy: 0.6956 - accuracy: 0.0134 - val_loss: 0.6955 - val_binary_crossentropy: 0.6955 - val_accuracy: 6.2986e-04\n",
      "Epoch 2/2\n",
      "596/596 [==============================] - 2s 4ms/step - loss: 0.6956 - binary_crossentropy: 0.6956 - accuracy: 0.0141 - val_loss: 0.6956 - val_binary_crossentropy: 0.6956 - val_accuracy: 6.2986e-04\n",
      "Epoch 1/2\n",
      "596/596 [==============================] - 2s 4ms/step - loss: 0.6956 - binary_crossentropy: 0.6956 - accuracy: 0.0153 - val_loss: 0.6955 - val_binary_crossentropy: 0.6955 - val_accuracy: 6.2986e-04\n",
      "Epoch 2/2\n",
      "596/596 [==============================] - 2s 4ms/step - loss: 0.6956 - binary_crossentropy: 0.6956 - accuracy: 0.0155 - val_loss: 0.6955 - val_binary_crossentropy: 0.6955 - val_accuracy: 0.0311\n"
     ]
    },
    {
     "data": {
      "text/html": [
       "<span style=\"color:#4527A0\"><h1 style=\"font-size:18px\">Trial complete</h1></span>"
      ],
      "text/plain": [
       "<IPython.core.display.HTML object>"
      ]
     },
     "metadata": {},
     "output_type": "display_data"
    },
    {
     "data": {
      "text/html": [
       "<span style=\"color:#4527A0\"><h1 style=\"font-size:18px\">Trial summary</h1></span>"
      ],
      "text/plain": [
       "<IPython.core.display.HTML object>"
      ]
     },
     "metadata": {},
     "output_type": "display_data"
    },
    {
     "data": {
      "text/html": [
       "<span style=\"color:cyan\"> |-Trial ID: 5caf2c164f674aaf3c7ed1091fcfd6c6</span>"
      ],
      "text/plain": [
       "<IPython.core.display.HTML object>"
      ]
     },
     "metadata": {},
     "output_type": "display_data"
    },
    {
     "data": {
      "text/html": [
       "<span style=\"color:cyan\"> |-Score: 0.6955582201480865</span>"
      ],
      "text/plain": [
       "<IPython.core.display.HTML object>"
      ]
     },
     "metadata": {},
     "output_type": "display_data"
    },
    {
     "data": {
      "text/html": [
       "<span style=\"color:cyan\"> |-Best step: 0</span>"
      ],
      "text/plain": [
       "<IPython.core.display.HTML object>"
      ]
     },
     "metadata": {},
     "output_type": "display_data"
    },
    {
     "data": {
      "text/html": [
       "<span style=\"color:#7E57C2\"><h2 style=\"font-size:16px\">Hyperparameters:</h2></span>"
      ],
      "text/plain": [
       "<IPython.core.display.HTML object>"
      ]
     },
     "metadata": {},
     "output_type": "display_data"
    },
    {
     "data": {
      "text/html": [
       "<span style=\"color:cyan\"> |-activation function 1: relu</span>"
      ],
      "text/plain": [
       "<IPython.core.display.HTML object>"
      ]
     },
     "metadata": {},
     "output_type": "display_data"
    },
    {
     "data": {
      "text/html": [
       "<span style=\"color:blue\"> |-activation function 2: elu</span>"
      ],
      "text/plain": [
       "<IPython.core.display.HTML object>"
      ]
     },
     "metadata": {},
     "output_type": "display_data"
    },
    {
     "data": {
      "text/html": [
       "<span style=\"color:cyan\"> |-activation function 3: elu</span>"
      ],
      "text/plain": [
       "<IPython.core.display.HTML object>"
      ]
     },
     "metadata": {},
     "output_type": "display_data"
    },
    {
     "data": {
      "text/html": [
       "<span style=\"color:blue\"> |-classify function: softmax</span>"
      ],
      "text/plain": [
       "<IPython.core.display.HTML object>"
      ]
     },
     "metadata": {},
     "output_type": "display_data"
    },
    {
     "data": {
      "text/html": [
       "<span style=\"color:cyan\"> |-dropout 1: 0.2</span>"
      ],
      "text/plain": [
       "<IPython.core.display.HTML object>"
      ]
     },
     "metadata": {},
     "output_type": "display_data"
    },
    {
     "data": {
      "text/html": [
       "<span style=\"color:blue\"> |-dropout 2: 0.5</span>"
      ],
      "text/plain": [
       "<IPython.core.display.HTML object>"
      ]
     },
     "metadata": {},
     "output_type": "display_data"
    },
    {
     "data": {
      "text/html": [
       "<span style=\"color:cyan\"> |-dropout 3: 0.5</span>"
      ],
      "text/plain": [
       "<IPython.core.display.HTML object>"
      ]
     },
     "metadata": {},
     "output_type": "display_data"
    },
    {
     "data": {
      "text/html": [
       "<span style=\"color:blue\"> |-learn rate: 0.01</span>"
      ],
      "text/plain": [
       "<IPython.core.display.HTML object>"
      ]
     },
     "metadata": {},
     "output_type": "display_data"
    },
    {
     "data": {
      "text/html": [
       "<span style=\"color:cyan\"> |-tuner/bracket: 2</span>"
      ],
      "text/plain": [
       "<IPython.core.display.HTML object>"
      ]
     },
     "metadata": {},
     "output_type": "display_data"
    },
    {
     "data": {
      "text/html": [
       "<span style=\"color:blue\"> |-tuner/epochs: 2</span>"
      ],
      "text/plain": [
       "<IPython.core.display.HTML object>"
      ]
     },
     "metadata": {},
     "output_type": "display_data"
    },
    {
     "data": {
      "text/html": [
       "<span style=\"color:cyan\"> |-tuner/initial_epoch: 0</span>"
      ],
      "text/plain": [
       "<IPython.core.display.HTML object>"
      ]
     },
     "metadata": {},
     "output_type": "display_data"
    },
    {
     "data": {
      "text/html": [
       "<span style=\"color:blue\"> |-tuner/round: 0</span>"
      ],
      "text/plain": [
       "<IPython.core.display.HTML object>"
      ]
     },
     "metadata": {},
     "output_type": "display_data"
    },
    {
     "data": {
      "text/html": [
       "<span style=\"color:cyan\"> |-units 1: 1024</span>"
      ],
      "text/plain": [
       "<IPython.core.display.HTML object>"
      ]
     },
     "metadata": {},
     "output_type": "display_data"
    },
    {
     "data": {
      "text/html": [
       "<span style=\"color:blue\"> |-units 2: 512</span>"
      ],
      "text/plain": [
       "<IPython.core.display.HTML object>"
      ]
     },
     "metadata": {},
     "output_type": "display_data"
    },
    {
     "data": {
      "text/html": [
       "<span style=\"color:cyan\"> |-units 3: 64</span>"
      ],
      "text/plain": [
       "<IPython.core.display.HTML object>"
      ]
     },
     "metadata": {},
     "output_type": "display_data"
    },
    {
     "name": "stdout",
     "output_type": "stream",
     "text": [
      "Epoch 1/2\n",
      "596/596 [==============================] - 2s 4ms/step - loss: 0.8040 - binary_crossentropy: 0.8039 - accuracy: 0.0016 - val_loss: 0.6935 - val_binary_crossentropy: 0.6935 - val_accuracy: 4.1990e-04\n",
      "Epoch 2/2\n",
      "596/596 [==============================] - 2s 4ms/step - loss: 0.6954 - binary_crossentropy: 0.6954 - accuracy: 0.0026 - val_loss: 0.6932 - val_binary_crossentropy: 0.6932 - val_accuracy: 0.0013\n",
      "Epoch 1/2\n",
      "596/596 [==============================] - 2s 4ms/step - loss: 0.7998 - binary_crossentropy: 0.7997 - accuracy: 0.0019 - val_loss: 0.6966 - val_binary_crossentropy: 0.6966 - val_accuracy: 0.0013\n",
      "Epoch 2/2\n",
      "596/596 [==============================] - 3s 4ms/step - loss: 0.6964 - binary_crossentropy: 0.6964 - accuracy: 0.0027 - val_loss: 0.6932 - val_binary_crossentropy: 0.6932 - val_accuracy: 0.0023\n"
     ]
    },
    {
     "data": {
      "text/html": [
       "<span style=\"color:#4527A0\"><h1 style=\"font-size:18px\">Trial complete</h1></span>"
      ],
      "text/plain": [
       "<IPython.core.display.HTML object>"
      ]
     },
     "metadata": {},
     "output_type": "display_data"
    },
    {
     "data": {
      "text/html": [
       "<span style=\"color:#4527A0\"><h1 style=\"font-size:18px\">Trial summary</h1></span>"
      ],
      "text/plain": [
       "<IPython.core.display.HTML object>"
      ]
     },
     "metadata": {},
     "output_type": "display_data"
    },
    {
     "data": {
      "text/html": [
       "<span style=\"color:cyan\"> |-Trial ID: 8d5193bdb9f2247addd70ef583281a5a</span>"
      ],
      "text/plain": [
       "<IPython.core.display.HTML object>"
      ]
     },
     "metadata": {},
     "output_type": "display_data"
    },
    {
     "data": {
      "text/html": [
       "<span style=\"color:cyan\"> |-Score: 0.6959009170532227</span>"
      ],
      "text/plain": [
       "<IPython.core.display.HTML object>"
      ]
     },
     "metadata": {},
     "output_type": "display_data"
    },
    {
     "data": {
      "text/html": [
       "<span style=\"color:cyan\"> |-Best step: 0</span>"
      ],
      "text/plain": [
       "<IPython.core.display.HTML object>"
      ]
     },
     "metadata": {},
     "output_type": "display_data"
    },
    {
     "data": {
      "text/html": [
       "<span style=\"color:#7E57C2\"><h2 style=\"font-size:16px\">Hyperparameters:</h2></span>"
      ],
      "text/plain": [
       "<IPython.core.display.HTML object>"
      ]
     },
     "metadata": {},
     "output_type": "display_data"
    },
    {
     "data": {
      "text/html": [
       "<span style=\"color:cyan\"> |-activation function 1: relu</span>"
      ],
      "text/plain": [
       "<IPython.core.display.HTML object>"
      ]
     },
     "metadata": {},
     "output_type": "display_data"
    },
    {
     "data": {
      "text/html": [
       "<span style=\"color:blue\"> |-activation function 2: relu</span>"
      ],
      "text/plain": [
       "<IPython.core.display.HTML object>"
      ]
     },
     "metadata": {},
     "output_type": "display_data"
    },
    {
     "data": {
      "text/html": [
       "<span style=\"color:cyan\"> |-activation function 3: relu</span>"
      ],
      "text/plain": [
       "<IPython.core.display.HTML object>"
      ]
     },
     "metadata": {},
     "output_type": "display_data"
    },
    {
     "data": {
      "text/html": [
       "<span style=\"color:blue\"> |-classify function: sigmoid</span>"
      ],
      "text/plain": [
       "<IPython.core.display.HTML object>"
      ]
     },
     "metadata": {},
     "output_type": "display_data"
    },
    {
     "data": {
      "text/html": [
       "<span style=\"color:cyan\"> |-dropout 1: 0.2</span>"
      ],
      "text/plain": [
       "<IPython.core.display.HTML object>"
      ]
     },
     "metadata": {},
     "output_type": "display_data"
    },
    {
     "data": {
      "text/html": [
       "<span style=\"color:blue\"> |-dropout 2: 0.2</span>"
      ],
      "text/plain": [
       "<IPython.core.display.HTML object>"
      ]
     },
     "metadata": {},
     "output_type": "display_data"
    },
    {
     "data": {
      "text/html": [
       "<span style=\"color:cyan\"> |-dropout 3: 0.2</span>"
      ],
      "text/plain": [
       "<IPython.core.display.HTML object>"
      ]
     },
     "metadata": {},
     "output_type": "display_data"
    },
    {
     "data": {
      "text/html": [
       "<span style=\"color:blue\"> |-learn rate: 0.0001</span>"
      ],
      "text/plain": [
       "<IPython.core.display.HTML object>"
      ]
     },
     "metadata": {},
     "output_type": "display_data"
    },
    {
     "data": {
      "text/html": [
       "<span style=\"color:cyan\"> |-tuner/bracket: 2</span>"
      ],
      "text/plain": [
       "<IPython.core.display.HTML object>"
      ]
     },
     "metadata": {},
     "output_type": "display_data"
    },
    {
     "data": {
      "text/html": [
       "<span style=\"color:blue\"> |-tuner/epochs: 2</span>"
      ],
      "text/plain": [
       "<IPython.core.display.HTML object>"
      ]
     },
     "metadata": {},
     "output_type": "display_data"
    },
    {
     "data": {
      "text/html": [
       "<span style=\"color:cyan\"> |-tuner/initial_epoch: 0</span>"
      ],
      "text/plain": [
       "<IPython.core.display.HTML object>"
      ]
     },
     "metadata": {},
     "output_type": "display_data"
    },
    {
     "data": {
      "text/html": [
       "<span style=\"color:blue\"> |-tuner/round: 0</span>"
      ],
      "text/plain": [
       "<IPython.core.display.HTML object>"
      ]
     },
     "metadata": {},
     "output_type": "display_data"
    },
    {
     "data": {
      "text/html": [
       "<span style=\"color:cyan\"> |-units 1: 256</span>"
      ],
      "text/plain": [
       "<IPython.core.display.HTML object>"
      ]
     },
     "metadata": {},
     "output_type": "display_data"
    },
    {
     "data": {
      "text/html": [
       "<span style=\"color:blue\"> |-units 2: 32</span>"
      ],
      "text/plain": [
       "<IPython.core.display.HTML object>"
      ]
     },
     "metadata": {},
     "output_type": "display_data"
    },
    {
     "data": {
      "text/html": [
       "<span style=\"color:cyan\"> |-units 3: 16</span>"
      ],
      "text/plain": [
       "<IPython.core.display.HTML object>"
      ]
     },
     "metadata": {},
     "output_type": "display_data"
    },
    {
     "name": "stdout",
     "output_type": "stream",
     "text": [
      "Epoch 1/2\n",
      "596/596 [==============================] - 2s 4ms/step - loss: 0.6955 - binary_crossentropy: 0.6955 - accuracy: 0.0356 - val_loss: 0.6954 - val_binary_crossentropy: 0.6954 - val_accuracy: 0.0594\n",
      "Epoch 2/2\n",
      "596/596 [==============================] - 2s 4ms/step - loss: 0.6953 - binary_crossentropy: 0.6953 - accuracy: 0.0718 - val_loss: 0.6952 - val_binary_crossentropy: 0.6952 - val_accuracy: 0.0934\n",
      "Epoch 1/2\n",
      "596/596 [==============================] - 2s 4ms/step - loss: 0.6954 - binary_crossentropy: 0.6954 - accuracy: 0.0092 - val_loss: 0.6954 - val_binary_crossentropy: 0.6954 - val_accuracy: 0.0262\n",
      "Epoch 2/2\n",
      "596/596 [==============================] - 2s 4ms/step - loss: 0.6953 - binary_crossentropy: 0.6953 - accuracy: 0.0355 - val_loss: 0.6953 - val_binary_crossentropy: 0.6953 - val_accuracy: 0.0502\n"
     ]
    },
    {
     "data": {
      "text/html": [
       "<span style=\"color:#4527A0\"><h1 style=\"font-size:18px\">Trial complete</h1></span>"
      ],
      "text/plain": [
       "<IPython.core.display.HTML object>"
      ]
     },
     "metadata": {},
     "output_type": "display_data"
    },
    {
     "data": {
      "text/html": [
       "<span style=\"color:#4527A0\"><h1 style=\"font-size:18px\">Trial summary</h1></span>"
      ],
      "text/plain": [
       "<IPython.core.display.HTML object>"
      ]
     },
     "metadata": {},
     "output_type": "display_data"
    },
    {
     "data": {
      "text/html": [
       "<span style=\"color:cyan\"> |-Trial ID: 074d1c1ead172d7859172c568898dd50</span>"
      ],
      "text/plain": [
       "<IPython.core.display.HTML object>"
      ]
     },
     "metadata": {},
     "output_type": "display_data"
    },
    {
     "data": {
      "text/html": [
       "<span style=\"color:cyan\"> |-Score: 0.6953427195549011</span>"
      ],
      "text/plain": [
       "<IPython.core.display.HTML object>"
      ]
     },
     "metadata": {},
     "output_type": "display_data"
    },
    {
     "data": {
      "text/html": [
       "<span style=\"color:cyan\"> |-Best step: 0</span>"
      ],
      "text/plain": [
       "<IPython.core.display.HTML object>"
      ]
     },
     "metadata": {},
     "output_type": "display_data"
    },
    {
     "data": {
      "text/html": [
       "<span style=\"color:#7E57C2\"><h2 style=\"font-size:16px\">Hyperparameters:</h2></span>"
      ],
      "text/plain": [
       "<IPython.core.display.HTML object>"
      ]
     },
     "metadata": {},
     "output_type": "display_data"
    },
    {
     "data": {
      "text/html": [
       "<span style=\"color:cyan\"> |-activation function 1: elu</span>"
      ],
      "text/plain": [
       "<IPython.core.display.HTML object>"
      ]
     },
     "metadata": {},
     "output_type": "display_data"
    },
    {
     "data": {
      "text/html": [
       "<span style=\"color:blue\"> |-activation function 2: relu</span>"
      ],
      "text/plain": [
       "<IPython.core.display.HTML object>"
      ]
     },
     "metadata": {},
     "output_type": "display_data"
    },
    {
     "data": {
      "text/html": [
       "<span style=\"color:cyan\"> |-activation function 3: relu</span>"
      ],
      "text/plain": [
       "<IPython.core.display.HTML object>"
      ]
     },
     "metadata": {},
     "output_type": "display_data"
    },
    {
     "data": {
      "text/html": [
       "<span style=\"color:blue\"> |-classify function: softmax</span>"
      ],
      "text/plain": [
       "<IPython.core.display.HTML object>"
      ]
     },
     "metadata": {},
     "output_type": "display_data"
    },
    {
     "data": {
      "text/html": [
       "<span style=\"color:cyan\"> |-dropout 1: 0.2</span>"
      ],
      "text/plain": [
       "<IPython.core.display.HTML object>"
      ]
     },
     "metadata": {},
     "output_type": "display_data"
    },
    {
     "data": {
      "text/html": [
       "<span style=\"color:blue\"> |-dropout 2: 0.5</span>"
      ],
      "text/plain": [
       "<IPython.core.display.HTML object>"
      ]
     },
     "metadata": {},
     "output_type": "display_data"
    },
    {
     "data": {
      "text/html": [
       "<span style=\"color:cyan\"> |-dropout 3: 0.2</span>"
      ],
      "text/plain": [
       "<IPython.core.display.HTML object>"
      ]
     },
     "metadata": {},
     "output_type": "display_data"
    },
    {
     "data": {
      "text/html": [
       "<span style=\"color:blue\"> |-learn rate: 0.0001</span>"
      ],
      "text/plain": [
       "<IPython.core.display.HTML object>"
      ]
     },
     "metadata": {},
     "output_type": "display_data"
    },
    {
     "data": {
      "text/html": [
       "<span style=\"color:cyan\"> |-tuner/bracket: 2</span>"
      ],
      "text/plain": [
       "<IPython.core.display.HTML object>"
      ]
     },
     "metadata": {},
     "output_type": "display_data"
    },
    {
     "data": {
      "text/html": [
       "<span style=\"color:blue\"> |-tuner/epochs: 2</span>"
      ],
      "text/plain": [
       "<IPython.core.display.HTML object>"
      ]
     },
     "metadata": {},
     "output_type": "display_data"
    },
    {
     "data": {
      "text/html": [
       "<span style=\"color:cyan\"> |-tuner/initial_epoch: 0</span>"
      ],
      "text/plain": [
       "<IPython.core.display.HTML object>"
      ]
     },
     "metadata": {},
     "output_type": "display_data"
    },
    {
     "data": {
      "text/html": [
       "<span style=\"color:blue\"> |-tuner/round: 0</span>"
      ],
      "text/plain": [
       "<IPython.core.display.HTML object>"
      ]
     },
     "metadata": {},
     "output_type": "display_data"
    },
    {
     "data": {
      "text/html": [
       "<span style=\"color:cyan\"> |-units 1: 1024</span>"
      ],
      "text/plain": [
       "<IPython.core.display.HTML object>"
      ]
     },
     "metadata": {},
     "output_type": "display_data"
    },
    {
     "data": {
      "text/html": [
       "<span style=\"color:blue\"> |-units 2: 512</span>"
      ],
      "text/plain": [
       "<IPython.core.display.HTML object>"
      ]
     },
     "metadata": {},
     "output_type": "display_data"
    },
    {
     "data": {
      "text/html": [
       "<span style=\"color:cyan\"> |-units 3: 16</span>"
      ],
      "text/plain": [
       "<IPython.core.display.HTML object>"
      ]
     },
     "metadata": {},
     "output_type": "display_data"
    },
    {
     "name": "stdout",
     "output_type": "stream",
     "text": [
      "Epoch 1/2\n",
      "596/596 [==============================] - 2s 4ms/step - loss: 0.6955 - binary_crossentropy: 0.6955 - accuracy: 0.0223 - val_loss: 0.6955 - val_binary_crossentropy: 0.6954 - val_accuracy: 0.0351\n",
      "Epoch 2/2\n",
      "596/596 [==============================] - 2s 4ms/step - loss: 0.6954 - binary_crossentropy: 0.6954 - accuracy: 0.0367 - val_loss: 0.6954 - val_binary_crossentropy: 0.6954 - val_accuracy: 0.0481\n",
      "Epoch 1/2\n",
      "596/596 [==============================] - 2s 4ms/step - loss: 0.6955 - binary_crossentropy: 0.6955 - accuracy: 0.0282 - val_loss: 0.6955 - val_binary_crossentropy: 0.6954 - val_accuracy: 0.0412\n",
      "Epoch 2/2\n",
      "596/596 [==============================] - 3s 5ms/step - loss: 0.6954 - binary_crossentropy: 0.6954 - accuracy: 0.0436 - val_loss: 0.6954 - val_binary_crossentropy: 0.6954 - val_accuracy: 0.0449\n"
     ]
    },
    {
     "data": {
      "text/html": [
       "<span style=\"color:#4527A0\"><h1 style=\"font-size:18px\">Trial complete</h1></span>"
      ],
      "text/plain": [
       "<IPython.core.display.HTML object>"
      ]
     },
     "metadata": {},
     "output_type": "display_data"
    },
    {
     "data": {
      "text/html": [
       "<span style=\"color:#4527A0\"><h1 style=\"font-size:18px\">Trial summary</h1></span>"
      ],
      "text/plain": [
       "<IPython.core.display.HTML object>"
      ]
     },
     "metadata": {},
     "output_type": "display_data"
    },
    {
     "data": {
      "text/html": [
       "<span style=\"color:cyan\"> |-Trial ID: 8979eff06b2a29f414f31654641fdead</span>"
      ],
      "text/plain": [
       "<IPython.core.display.HTML object>"
      ]
     },
     "metadata": {},
     "output_type": "display_data"
    },
    {
     "data": {
      "text/html": [
       "<span style=\"color:cyan\"> |-Score: 0.6954347491264343</span>"
      ],
      "text/plain": [
       "<IPython.core.display.HTML object>"
      ]
     },
     "metadata": {},
     "output_type": "display_data"
    },
    {
     "data": {
      "text/html": [
       "<span style=\"color:cyan\"> |-Best step: 0</span>"
      ],
      "text/plain": [
       "<IPython.core.display.HTML object>"
      ]
     },
     "metadata": {},
     "output_type": "display_data"
    },
    {
     "data": {
      "text/html": [
       "<span style=\"color:#7E57C2\"><h2 style=\"font-size:16px\">Hyperparameters:</h2></span>"
      ],
      "text/plain": [
       "<IPython.core.display.HTML object>"
      ]
     },
     "metadata": {},
     "output_type": "display_data"
    },
    {
     "data": {
      "text/html": [
       "<span style=\"color:cyan\"> |-activation function 1: relu</span>"
      ],
      "text/plain": [
       "<IPython.core.display.HTML object>"
      ]
     },
     "metadata": {},
     "output_type": "display_data"
    },
    {
     "data": {
      "text/html": [
       "<span style=\"color:blue\"> |-activation function 2: elu</span>"
      ],
      "text/plain": [
       "<IPython.core.display.HTML object>"
      ]
     },
     "metadata": {},
     "output_type": "display_data"
    },
    {
     "data": {
      "text/html": [
       "<span style=\"color:cyan\"> |-activation function 3: relu</span>"
      ],
      "text/plain": [
       "<IPython.core.display.HTML object>"
      ]
     },
     "metadata": {},
     "output_type": "display_data"
    },
    {
     "data": {
      "text/html": [
       "<span style=\"color:blue\"> |-classify function: softmax</span>"
      ],
      "text/plain": [
       "<IPython.core.display.HTML object>"
      ]
     },
     "metadata": {},
     "output_type": "display_data"
    },
    {
     "data": {
      "text/html": [
       "<span style=\"color:cyan\"> |-dropout 1: 0.35</span>"
      ],
      "text/plain": [
       "<IPython.core.display.HTML object>"
      ]
     },
     "metadata": {},
     "output_type": "display_data"
    },
    {
     "data": {
      "text/html": [
       "<span style=\"color:blue\"> |-dropout 2: 0.35</span>"
      ],
      "text/plain": [
       "<IPython.core.display.HTML object>"
      ]
     },
     "metadata": {},
     "output_type": "display_data"
    },
    {
     "data": {
      "text/html": [
       "<span style=\"color:cyan\"> |-dropout 3: 0.5</span>"
      ],
      "text/plain": [
       "<IPython.core.display.HTML object>"
      ]
     },
     "metadata": {},
     "output_type": "display_data"
    },
    {
     "data": {
      "text/html": [
       "<span style=\"color:blue\"> |-learn rate: 0.0001</span>"
      ],
      "text/plain": [
       "<IPython.core.display.HTML object>"
      ]
     },
     "metadata": {},
     "output_type": "display_data"
    },
    {
     "data": {
      "text/html": [
       "<span style=\"color:cyan\"> |-tuner/bracket: 2</span>"
      ],
      "text/plain": [
       "<IPython.core.display.HTML object>"
      ]
     },
     "metadata": {},
     "output_type": "display_data"
    },
    {
     "data": {
      "text/html": [
       "<span style=\"color:blue\"> |-tuner/epochs: 2</span>"
      ],
      "text/plain": [
       "<IPython.core.display.HTML object>"
      ]
     },
     "metadata": {},
     "output_type": "display_data"
    },
    {
     "data": {
      "text/html": [
       "<span style=\"color:cyan\"> |-tuner/initial_epoch: 0</span>"
      ],
      "text/plain": [
       "<IPython.core.display.HTML object>"
      ]
     },
     "metadata": {},
     "output_type": "display_data"
    },
    {
     "data": {
      "text/html": [
       "<span style=\"color:blue\"> |-tuner/round: 0</span>"
      ],
      "text/plain": [
       "<IPython.core.display.HTML object>"
      ]
     },
     "metadata": {},
     "output_type": "display_data"
    },
    {
     "data": {
      "text/html": [
       "<span style=\"color:cyan\"> |-units 1: 64</span>"
      ],
      "text/plain": [
       "<IPython.core.display.HTML object>"
      ]
     },
     "metadata": {},
     "output_type": "display_data"
    },
    {
     "data": {
      "text/html": [
       "<span style=\"color:blue\"> |-units 2: 128</span>"
      ],
      "text/plain": [
       "<IPython.core.display.HTML object>"
      ]
     },
     "metadata": {},
     "output_type": "display_data"
    },
    {
     "data": {
      "text/html": [
       "<span style=\"color:cyan\"> |-units 3: 64</span>"
      ],
      "text/plain": [
       "<IPython.core.display.HTML object>"
      ]
     },
     "metadata": {},
     "output_type": "display_data"
    },
    {
     "name": "stdout",
     "output_type": "stream",
     "text": [
      "Epoch 1/2\n",
      "596/596 [==============================] - 3s 5ms/step - loss: 0.6954 - binary_crossentropy: 0.6954 - accuracy: 0.0271 - val_loss: 0.6952 - val_binary_crossentropy: 0.6952 - val_accuracy: 0.0626\n",
      "Epoch 2/2\n",
      "596/596 [==============================] - 3s 5ms/step - loss: 0.6953 - binary_crossentropy: 0.6953 - accuracy: 0.0614 - val_loss: 0.6952 - val_binary_crossentropy: 0.6952 - val_accuracy: 0.0754\n",
      "Epoch 1/2\n",
      "596/596 [==============================] - 3s 5ms/step - loss: 0.6954 - binary_crossentropy: 0.6954 - accuracy: 0.0367 - val_loss: 0.6952 - val_binary_crossentropy: 0.6952 - val_accuracy: 0.0579\n",
      "Epoch 2/2\n",
      "596/596 [==============================] - 3s 4ms/step - loss: 0.6953 - binary_crossentropy: 0.6953 - accuracy: 0.0652 - val_loss: 0.6952 - val_binary_crossentropy: 0.6952 - val_accuracy: 0.0932\n"
     ]
    },
    {
     "data": {
      "text/html": [
       "<span style=\"color:#4527A0\"><h1 style=\"font-size:18px\">Trial complete</h1></span>"
      ],
      "text/plain": [
       "<IPython.core.display.HTML object>"
      ]
     },
     "metadata": {},
     "output_type": "display_data"
    },
    {
     "data": {
      "text/html": [
       "<span style=\"color:#4527A0\"><h1 style=\"font-size:18px\">Trial summary</h1></span>"
      ],
      "text/plain": [
       "<IPython.core.display.HTML object>"
      ]
     },
     "metadata": {},
     "output_type": "display_data"
    },
    {
     "data": {
      "text/html": [
       "<span style=\"color:cyan\"> |-Trial ID: ce40787ef235be9820e9c22ce9aabe28</span>"
      ],
      "text/plain": [
       "<IPython.core.display.HTML object>"
      ]
     },
     "metadata": {},
     "output_type": "display_data"
    },
    {
     "data": {
      "text/html": [
       "<span style=\"color:cyan\"> |-Score: 0.6952557861804962</span>"
      ],
      "text/plain": [
       "<IPython.core.display.HTML object>"
      ]
     },
     "metadata": {},
     "output_type": "display_data"
    },
    {
     "data": {
      "text/html": [
       "<span style=\"color:cyan\"> |-Best step: 0</span>"
      ],
      "text/plain": [
       "<IPython.core.display.HTML object>"
      ]
     },
     "metadata": {},
     "output_type": "display_data"
    },
    {
     "data": {
      "text/html": [
       "<span style=\"color:#7E57C2\"><h2 style=\"font-size:16px\">Hyperparameters:</h2></span>"
      ],
      "text/plain": [
       "<IPython.core.display.HTML object>"
      ]
     },
     "metadata": {},
     "output_type": "display_data"
    },
    {
     "data": {
      "text/html": [
       "<span style=\"color:cyan\"> |-activation function 1: elu</span>"
      ],
      "text/plain": [
       "<IPython.core.display.HTML object>"
      ]
     },
     "metadata": {},
     "output_type": "display_data"
    },
    {
     "data": {
      "text/html": [
       "<span style=\"color:blue\"> |-activation function 2: elu</span>"
      ],
      "text/plain": [
       "<IPython.core.display.HTML object>"
      ]
     },
     "metadata": {},
     "output_type": "display_data"
    },
    {
     "data": {
      "text/html": [
       "<span style=\"color:cyan\"> |-activation function 3: elu</span>"
      ],
      "text/plain": [
       "<IPython.core.display.HTML object>"
      ]
     },
     "metadata": {},
     "output_type": "display_data"
    },
    {
     "data": {
      "text/html": [
       "<span style=\"color:blue\"> |-classify function: softmax</span>"
      ],
      "text/plain": [
       "<IPython.core.display.HTML object>"
      ]
     },
     "metadata": {},
     "output_type": "display_data"
    },
    {
     "data": {
      "text/html": [
       "<span style=\"color:cyan\"> |-dropout 1: 0.35</span>"
      ],
      "text/plain": [
       "<IPython.core.display.HTML object>"
      ]
     },
     "metadata": {},
     "output_type": "display_data"
    },
    {
     "data": {
      "text/html": [
       "<span style=\"color:blue\"> |-dropout 2: 0.35</span>"
      ],
      "text/plain": [
       "<IPython.core.display.HTML object>"
      ]
     },
     "metadata": {},
     "output_type": "display_data"
    },
    {
     "data": {
      "text/html": [
       "<span style=\"color:cyan\"> |-dropout 3: 0.35</span>"
      ],
      "text/plain": [
       "<IPython.core.display.HTML object>"
      ]
     },
     "metadata": {},
     "output_type": "display_data"
    },
    {
     "data": {
      "text/html": [
       "<span style=\"color:blue\"> |-learn rate: 0.001</span>"
      ],
      "text/plain": [
       "<IPython.core.display.HTML object>"
      ]
     },
     "metadata": {},
     "output_type": "display_data"
    },
    {
     "data": {
      "text/html": [
       "<span style=\"color:cyan\"> |-tuner/bracket: 2</span>"
      ],
      "text/plain": [
       "<IPython.core.display.HTML object>"
      ]
     },
     "metadata": {},
     "output_type": "display_data"
    },
    {
     "data": {
      "text/html": [
       "<span style=\"color:blue\"> |-tuner/epochs: 2</span>"
      ],
      "text/plain": [
       "<IPython.core.display.HTML object>"
      ]
     },
     "metadata": {},
     "output_type": "display_data"
    },
    {
     "data": {
      "text/html": [
       "<span style=\"color:cyan\"> |-tuner/initial_epoch: 0</span>"
      ],
      "text/plain": [
       "<IPython.core.display.HTML object>"
      ]
     },
     "metadata": {},
     "output_type": "display_data"
    },
    {
     "data": {
      "text/html": [
       "<span style=\"color:blue\"> |-tuner/round: 0</span>"
      ],
      "text/plain": [
       "<IPython.core.display.HTML object>"
      ]
     },
     "metadata": {},
     "output_type": "display_data"
    },
    {
     "data": {
      "text/html": [
       "<span style=\"color:cyan\"> |-units 1: 256</span>"
      ],
      "text/plain": [
       "<IPython.core.display.HTML object>"
      ]
     },
     "metadata": {},
     "output_type": "display_data"
    },
    {
     "data": {
      "text/html": [
       "<span style=\"color:blue\"> |-units 2: 32</span>"
      ],
      "text/plain": [
       "<IPython.core.display.HTML object>"
      ]
     },
     "metadata": {},
     "output_type": "display_data"
    },
    {
     "data": {
      "text/html": [
       "<span style=\"color:cyan\"> |-units 3: 16</span>"
      ],
      "text/plain": [
       "<IPython.core.display.HTML object>"
      ]
     },
     "metadata": {},
     "output_type": "display_data"
    },
    {
     "name": "stdout",
     "output_type": "stream",
     "text": [
      "Epoch 1/2\n",
      "596/596 [==============================] - 2s 4ms/step - loss: 0.6955 - binary_crossentropy: 0.6955 - accuracy: 0.0384 - val_loss: 0.6954 - val_binary_crossentropy: 0.6954 - val_accuracy: 0.0544\n",
      "Epoch 2/2\n",
      "596/596 [==============================] - 2s 4ms/step - loss: 0.6953 - binary_crossentropy: 0.6953 - accuracy: 0.0673 - val_loss: 0.6953 - val_binary_crossentropy: 0.6953 - val_accuracy: 0.0819\n",
      "Epoch 1/2\n",
      "596/596 [==============================] - 2s 4ms/step - loss: 0.6955 - binary_crossentropy: 0.6955 - accuracy: 0.0307 - val_loss: 0.6954 - val_binary_crossentropy: 0.6954 - val_accuracy: 0.0588\n",
      "Epoch 2/2\n",
      "596/596 [==============================] - 2s 3ms/step - loss: 0.6953 - binary_crossentropy: 0.6953 - accuracy: 0.0726 - val_loss: 0.6953 - val_binary_crossentropy: 0.6953 - val_accuracy: 0.0871\n"
     ]
    },
    {
     "data": {
      "text/html": [
       "<span style=\"color:#4527A0\"><h1 style=\"font-size:18px\">Trial complete</h1></span>"
      ],
      "text/plain": [
       "<IPython.core.display.HTML object>"
      ]
     },
     "metadata": {},
     "output_type": "display_data"
    },
    {
     "data": {
      "text/html": [
       "<span style=\"color:#4527A0\"><h1 style=\"font-size:18px\">Trial summary</h1></span>"
      ],
      "text/plain": [
       "<IPython.core.display.HTML object>"
      ]
     },
     "metadata": {},
     "output_type": "display_data"
    },
    {
     "data": {
      "text/html": [
       "<span style=\"color:cyan\"> |-Trial ID: 37c722f0711d333ea41313dd8d46bdfe</span>"
      ],
      "text/plain": [
       "<IPython.core.display.HTML object>"
      ]
     },
     "metadata": {},
     "output_type": "display_data"
    },
    {
     "data": {
      "text/html": [
       "<span style=\"color:cyan\"> |-Score: 0.6953348219394684</span>"
      ],
      "text/plain": [
       "<IPython.core.display.HTML object>"
      ]
     },
     "metadata": {},
     "output_type": "display_data"
    },
    {
     "data": {
      "text/html": [
       "<span style=\"color:cyan\"> |-Best step: 0</span>"
      ],
      "text/plain": [
       "<IPython.core.display.HTML object>"
      ]
     },
     "metadata": {},
     "output_type": "display_data"
    },
    {
     "data": {
      "text/html": [
       "<span style=\"color:#7E57C2\"><h2 style=\"font-size:16px\">Hyperparameters:</h2></span>"
      ],
      "text/plain": [
       "<IPython.core.display.HTML object>"
      ]
     },
     "metadata": {},
     "output_type": "display_data"
    },
    {
     "data": {
      "text/html": [
       "<span style=\"color:cyan\"> |-activation function 1: elu</span>"
      ],
      "text/plain": [
       "<IPython.core.display.HTML object>"
      ]
     },
     "metadata": {},
     "output_type": "display_data"
    },
    {
     "data": {
      "text/html": [
       "<span style=\"color:blue\"> |-activation function 2: relu</span>"
      ],
      "text/plain": [
       "<IPython.core.display.HTML object>"
      ]
     },
     "metadata": {},
     "output_type": "display_data"
    },
    {
     "data": {
      "text/html": [
       "<span style=\"color:cyan\"> |-activation function 3: relu</span>"
      ],
      "text/plain": [
       "<IPython.core.display.HTML object>"
      ]
     },
     "metadata": {},
     "output_type": "display_data"
    },
    {
     "data": {
      "text/html": [
       "<span style=\"color:blue\"> |-classify function: softmax</span>"
      ],
      "text/plain": [
       "<IPython.core.display.HTML object>"
      ]
     },
     "metadata": {},
     "output_type": "display_data"
    },
    {
     "data": {
      "text/html": [
       "<span style=\"color:cyan\"> |-dropout 1: 0.2</span>"
      ],
      "text/plain": [
       "<IPython.core.display.HTML object>"
      ]
     },
     "metadata": {},
     "output_type": "display_data"
    },
    {
     "data": {
      "text/html": [
       "<span style=\"color:blue\"> |-dropout 2: 0.35</span>"
      ],
      "text/plain": [
       "<IPython.core.display.HTML object>"
      ]
     },
     "metadata": {},
     "output_type": "display_data"
    },
    {
     "data": {
      "text/html": [
       "<span style=\"color:cyan\"> |-dropout 3: 0.2</span>"
      ],
      "text/plain": [
       "<IPython.core.display.HTML object>"
      ]
     },
     "metadata": {},
     "output_type": "display_data"
    },
    {
     "data": {
      "text/html": [
       "<span style=\"color:blue\"> |-learn rate: 0.0001</span>"
      ],
      "text/plain": [
       "<IPython.core.display.HTML object>"
      ]
     },
     "metadata": {},
     "output_type": "display_data"
    },
    {
     "data": {
      "text/html": [
       "<span style=\"color:cyan\"> |-tuner/bracket: 2</span>"
      ],
      "text/plain": [
       "<IPython.core.display.HTML object>"
      ]
     },
     "metadata": {},
     "output_type": "display_data"
    },
    {
     "data": {
      "text/html": [
       "<span style=\"color:blue\"> |-tuner/epochs: 2</span>"
      ],
      "text/plain": [
       "<IPython.core.display.HTML object>"
      ]
     },
     "metadata": {},
     "output_type": "display_data"
    },
    {
     "data": {
      "text/html": [
       "<span style=\"color:cyan\"> |-tuner/initial_epoch: 0</span>"
      ],
      "text/plain": [
       "<IPython.core.display.HTML object>"
      ]
     },
     "metadata": {},
     "output_type": "display_data"
    },
    {
     "data": {
      "text/html": [
       "<span style=\"color:blue\"> |-tuner/round: 0</span>"
      ],
      "text/plain": [
       "<IPython.core.display.HTML object>"
      ]
     },
     "metadata": {},
     "output_type": "display_data"
    },
    {
     "data": {
      "text/html": [
       "<span style=\"color:cyan\"> |-units 1: 256</span>"
      ],
      "text/plain": [
       "<IPython.core.display.HTML object>"
      ]
     },
     "metadata": {},
     "output_type": "display_data"
    },
    {
     "data": {
      "text/html": [
       "<span style=\"color:blue\"> |-units 2: 128</span>"
      ],
      "text/plain": [
       "<IPython.core.display.HTML object>"
      ]
     },
     "metadata": {},
     "output_type": "display_data"
    },
    {
     "data": {
      "text/html": [
       "<span style=\"color:cyan\"> |-units 3: 64</span>"
      ],
      "text/plain": [
       "<IPython.core.display.HTML object>"
      ]
     },
     "metadata": {},
     "output_type": "display_data"
    },
    {
     "name": "stdout",
     "output_type": "stream",
     "text": [
      "Epoch 1/2\n",
      "596/596 [==============================] - 2s 4ms/step - loss: 0.6953 - binary_crossentropy: 0.6953 - accuracy: 0.0433 - val_loss: 0.6952 - val_binary_crossentropy: 0.6952 - val_accuracy: 0.0642\n",
      "Epoch 2/2\n",
      "596/596 [==============================] - 2s 4ms/step - loss: 0.6952 - binary_crossentropy: 0.6952 - accuracy: 0.0693 - val_loss: 0.6951 - val_binary_crossentropy: 0.6951 - val_accuracy: 0.0842\n",
      "Epoch 1/2\n",
      "596/596 [==============================] - 2s 4ms/step - loss: 0.6953 - binary_crossentropy: 0.6953 - accuracy: 0.0668 - val_loss: 0.6952 - val_binary_crossentropy: 0.6952 - val_accuracy: 0.0993\n",
      "Epoch 2/2\n",
      "596/596 [==============================] - 2s 4ms/step - loss: 0.6952 - binary_crossentropy: 0.6952 - accuracy: 0.0920 - val_loss: 0.6951 - val_binary_crossentropy: 0.6951 - val_accuracy: 0.0823\n"
     ]
    },
    {
     "data": {
      "text/html": [
       "<span style=\"color:#4527A0\"><h1 style=\"font-size:18px\">Trial complete</h1></span>"
      ],
      "text/plain": [
       "<IPython.core.display.HTML object>"
      ]
     },
     "metadata": {},
     "output_type": "display_data"
    },
    {
     "data": {
      "text/html": [
       "<span style=\"color:#4527A0\"><h1 style=\"font-size:18px\">Trial summary</h1></span>"
      ],
      "text/plain": [
       "<IPython.core.display.HTML object>"
      ]
     },
     "metadata": {},
     "output_type": "display_data"
    },
    {
     "data": {
      "text/html": [
       "<span style=\"color:cyan\"> |-Trial ID: c6278314f097ab6a1191b1057810aef9</span>"
      ],
      "text/plain": [
       "<IPython.core.display.HTML object>"
      ]
     },
     "metadata": {},
     "output_type": "display_data"
    },
    {
     "data": {
      "text/html": [
       "<span style=\"color:cyan\"> |-Score: 0.6952032446861267</span>"
      ],
      "text/plain": [
       "<IPython.core.display.HTML object>"
      ]
     },
     "metadata": {},
     "output_type": "display_data"
    },
    {
     "data": {
      "text/html": [
       "<span style=\"color:cyan\"> |-Best step: 0</span>"
      ],
      "text/plain": [
       "<IPython.core.display.HTML object>"
      ]
     },
     "metadata": {},
     "output_type": "display_data"
    },
    {
     "data": {
      "text/html": [
       "<span style=\"color:#7E57C2\"><h2 style=\"font-size:16px\">Hyperparameters:</h2></span>"
      ],
      "text/plain": [
       "<IPython.core.display.HTML object>"
      ]
     },
     "metadata": {},
     "output_type": "display_data"
    },
    {
     "data": {
      "text/html": [
       "<span style=\"color:cyan\"> |-activation function 1: elu</span>"
      ],
      "text/plain": [
       "<IPython.core.display.HTML object>"
      ]
     },
     "metadata": {},
     "output_type": "display_data"
    },
    {
     "data": {
      "text/html": [
       "<span style=\"color:blue\"> |-activation function 2: elu</span>"
      ],
      "text/plain": [
       "<IPython.core.display.HTML object>"
      ]
     },
     "metadata": {},
     "output_type": "display_data"
    },
    {
     "data": {
      "text/html": [
       "<span style=\"color:cyan\"> |-activation function 3: elu</span>"
      ],
      "text/plain": [
       "<IPython.core.display.HTML object>"
      ]
     },
     "metadata": {},
     "output_type": "display_data"
    },
    {
     "data": {
      "text/html": [
       "<span style=\"color:blue\"> |-classify function: softmax</span>"
      ],
      "text/plain": [
       "<IPython.core.display.HTML object>"
      ]
     },
     "metadata": {},
     "output_type": "display_data"
    },
    {
     "data": {
      "text/html": [
       "<span style=\"color:cyan\"> |-dropout 1: 0.2</span>"
      ],
      "text/plain": [
       "<IPython.core.display.HTML object>"
      ]
     },
     "metadata": {},
     "output_type": "display_data"
    },
    {
     "data": {
      "text/html": [
       "<span style=\"color:blue\"> |-dropout 2: 0.35</span>"
      ],
      "text/plain": [
       "<IPython.core.display.HTML object>"
      ]
     },
     "metadata": {},
     "output_type": "display_data"
    },
    {
     "data": {
      "text/html": [
       "<span style=\"color:cyan\"> |-dropout 3: 0.35</span>"
      ],
      "text/plain": [
       "<IPython.core.display.HTML object>"
      ]
     },
     "metadata": {},
     "output_type": "display_data"
    },
    {
     "data": {
      "text/html": [
       "<span style=\"color:blue\"> |-learn rate: 0.001</span>"
      ],
      "text/plain": [
       "<IPython.core.display.HTML object>"
      ]
     },
     "metadata": {},
     "output_type": "display_data"
    },
    {
     "data": {
      "text/html": [
       "<span style=\"color:cyan\"> |-tuner/bracket: 2</span>"
      ],
      "text/plain": [
       "<IPython.core.display.HTML object>"
      ]
     },
     "metadata": {},
     "output_type": "display_data"
    },
    {
     "data": {
      "text/html": [
       "<span style=\"color:blue\"> |-tuner/epochs: 2</span>"
      ],
      "text/plain": [
       "<IPython.core.display.HTML object>"
      ]
     },
     "metadata": {},
     "output_type": "display_data"
    },
    {
     "data": {
      "text/html": [
       "<span style=\"color:cyan\"> |-tuner/initial_epoch: 0</span>"
      ],
      "text/plain": [
       "<IPython.core.display.HTML object>"
      ]
     },
     "metadata": {},
     "output_type": "display_data"
    },
    {
     "data": {
      "text/html": [
       "<span style=\"color:blue\"> |-tuner/round: 0</span>"
      ],
      "text/plain": [
       "<IPython.core.display.HTML object>"
      ]
     },
     "metadata": {},
     "output_type": "display_data"
    },
    {
     "data": {
      "text/html": [
       "<span style=\"color:cyan\"> |-units 1: 256</span>"
      ],
      "text/plain": [
       "<IPython.core.display.HTML object>"
      ]
     },
     "metadata": {},
     "output_type": "display_data"
    },
    {
     "data": {
      "text/html": [
       "<span style=\"color:blue\"> |-units 2: 512</span>"
      ],
      "text/plain": [
       "<IPython.core.display.HTML object>"
      ]
     },
     "metadata": {},
     "output_type": "display_data"
    },
    {
     "data": {
      "text/html": [
       "<span style=\"color:cyan\"> |-units 3: 16</span>"
      ],
      "text/plain": [
       "<IPython.core.display.HTML object>"
      ]
     },
     "metadata": {},
     "output_type": "display_data"
    },
    {
     "name": "stdout",
     "output_type": "stream",
     "text": [
      "Epoch 1/2\n",
      "596/596 [==============================] - 3s 4ms/step - loss: 0.6954 - binary_crossentropy: 0.6954 - accuracy: 0.0120 - val_loss: 0.6953 - val_binary_crossentropy: 0.6953 - val_accuracy: 0.0367\n",
      "Epoch 2/2\n",
      "596/596 [==============================] - 2s 4ms/step - loss: 0.6953 - binary_crossentropy: 0.6953 - accuracy: 0.0428 - val_loss: 0.6953 - val_binary_crossentropy: 0.6953 - val_accuracy: 0.0603\n",
      "Epoch 1/2\n",
      "596/596 [==============================] - 2s 4ms/step - loss: 0.6954 - binary_crossentropy: 0.6954 - accuracy: 0.0176 - val_loss: 0.6953 - val_binary_crossentropy: 0.6953 - val_accuracy: 0.0367\n",
      "Epoch 2/2\n",
      "596/596 [==============================] - 2s 4ms/step - loss: 0.6953 - binary_crossentropy: 0.6953 - accuracy: 0.0513 - val_loss: 0.6952 - val_binary_crossentropy: 0.6952 - val_accuracy: 0.0726\n"
     ]
    },
    {
     "data": {
      "text/html": [
       "<span style=\"color:#4527A0\"><h1 style=\"font-size:18px\">Trial complete</h1></span>"
      ],
      "text/plain": [
       "<IPython.core.display.HTML object>"
      ]
     },
     "metadata": {},
     "output_type": "display_data"
    },
    {
     "data": {
      "text/html": [
       "<span style=\"color:#4527A0\"><h1 style=\"font-size:18px\">Trial summary</h1></span>"
      ],
      "text/plain": [
       "<IPython.core.display.HTML object>"
      ]
     },
     "metadata": {},
     "output_type": "display_data"
    },
    {
     "data": {
      "text/html": [
       "<span style=\"color:cyan\"> |-Trial ID: dc8ed76eeac9ebe847e8aac4b1f62019</span>"
      ],
      "text/plain": [
       "<IPython.core.display.HTML object>"
      ]
     },
     "metadata": {},
     "output_type": "display_data"
    },
    {
     "data": {
      "text/html": [
       "<span style=\"color:cyan\"> |-Score: 0.6953191161155701</span>"
      ],
      "text/plain": [
       "<IPython.core.display.HTML object>"
      ]
     },
     "metadata": {},
     "output_type": "display_data"
    },
    {
     "data": {
      "text/html": [
       "<span style=\"color:cyan\"> |-Best step: 0</span>"
      ],
      "text/plain": [
       "<IPython.core.display.HTML object>"
      ]
     },
     "metadata": {},
     "output_type": "display_data"
    },
    {
     "data": {
      "text/html": [
       "<span style=\"color:#7E57C2\"><h2 style=\"font-size:16px\">Hyperparameters:</h2></span>"
      ],
      "text/plain": [
       "<IPython.core.display.HTML object>"
      ]
     },
     "metadata": {},
     "output_type": "display_data"
    },
    {
     "data": {
      "text/html": [
       "<span style=\"color:cyan\"> |-activation function 1: elu</span>"
      ],
      "text/plain": [
       "<IPython.core.display.HTML object>"
      ]
     },
     "metadata": {},
     "output_type": "display_data"
    },
    {
     "data": {
      "text/html": [
       "<span style=\"color:blue\"> |-activation function 2: elu</span>"
      ],
      "text/plain": [
       "<IPython.core.display.HTML object>"
      ]
     },
     "metadata": {},
     "output_type": "display_data"
    },
    {
     "data": {
      "text/html": [
       "<span style=\"color:cyan\"> |-activation function 3: relu</span>"
      ],
      "text/plain": [
       "<IPython.core.display.HTML object>"
      ]
     },
     "metadata": {},
     "output_type": "display_data"
    },
    {
     "data": {
      "text/html": [
       "<span style=\"color:blue\"> |-classify function: softmax</span>"
      ],
      "text/plain": [
       "<IPython.core.display.HTML object>"
      ]
     },
     "metadata": {},
     "output_type": "display_data"
    },
    {
     "data": {
      "text/html": [
       "<span style=\"color:cyan\"> |-dropout 1: 0.2</span>"
      ],
      "text/plain": [
       "<IPython.core.display.HTML object>"
      ]
     },
     "metadata": {},
     "output_type": "display_data"
    },
    {
     "data": {
      "text/html": [
       "<span style=\"color:blue\"> |-dropout 2: 0.35</span>"
      ],
      "text/plain": [
       "<IPython.core.display.HTML object>"
      ]
     },
     "metadata": {},
     "output_type": "display_data"
    },
    {
     "data": {
      "text/html": [
       "<span style=\"color:cyan\"> |-dropout 3: 0.35</span>"
      ],
      "text/plain": [
       "<IPython.core.display.HTML object>"
      ]
     },
     "metadata": {},
     "output_type": "display_data"
    },
    {
     "data": {
      "text/html": [
       "<span style=\"color:blue\"> |-learn rate: 0.0001</span>"
      ],
      "text/plain": [
       "<IPython.core.display.HTML object>"
      ]
     },
     "metadata": {},
     "output_type": "display_data"
    },
    {
     "data": {
      "text/html": [
       "<span style=\"color:cyan\"> |-tuner/bracket: 2</span>"
      ],
      "text/plain": [
       "<IPython.core.display.HTML object>"
      ]
     },
     "metadata": {},
     "output_type": "display_data"
    },
    {
     "data": {
      "text/html": [
       "<span style=\"color:blue\"> |-tuner/epochs: 2</span>"
      ],
      "text/plain": [
       "<IPython.core.display.HTML object>"
      ]
     },
     "metadata": {},
     "output_type": "display_data"
    },
    {
     "data": {
      "text/html": [
       "<span style=\"color:cyan\"> |-tuner/initial_epoch: 0</span>"
      ],
      "text/plain": [
       "<IPython.core.display.HTML object>"
      ]
     },
     "metadata": {},
     "output_type": "display_data"
    },
    {
     "data": {
      "text/html": [
       "<span style=\"color:blue\"> |-tuner/round: 0</span>"
      ],
      "text/plain": [
       "<IPython.core.display.HTML object>"
      ]
     },
     "metadata": {},
     "output_type": "display_data"
    },
    {
     "data": {
      "text/html": [
       "<span style=\"color:cyan\"> |-units 1: 1024</span>"
      ],
      "text/plain": [
       "<IPython.core.display.HTML object>"
      ]
     },
     "metadata": {},
     "output_type": "display_data"
    },
    {
     "data": {
      "text/html": [
       "<span style=\"color:blue\"> |-units 2: 32</span>"
      ],
      "text/plain": [
       "<IPython.core.display.HTML object>"
      ]
     },
     "metadata": {},
     "output_type": "display_data"
    },
    {
     "data": {
      "text/html": [
       "<span style=\"color:cyan\"> |-units 3: 256</span>"
      ],
      "text/plain": [
       "<IPython.core.display.HTML object>"
      ]
     },
     "metadata": {},
     "output_type": "display_data"
    },
    {
     "name": "stdout",
     "output_type": "stream",
     "text": [
      "Epoch 3/6\n",
      "596/596 [==============================] - 2s 4ms/step - loss: 0.6939 - binary_crossentropy: 0.6939 - accuracy: 0.3879 - val_loss: 0.6931 - val_binary_crossentropy: 0.6931 - val_accuracy: 0.3953\n",
      "Epoch 4/6\n",
      "596/596 [==============================] - 2s 3ms/step - loss: 0.6931 - binary_crossentropy: 0.6931 - accuracy: 0.3937 - val_loss: 0.6931 - val_binary_crossentropy: 0.6931 - val_accuracy: 0.3953\n",
      "Epoch 5/6\n",
      "596/596 [==============================] - 2s 3ms/step - loss: 0.6931 - binary_crossentropy: 0.6931 - accuracy: 0.3937 - val_loss: 0.6931 - val_binary_crossentropy: 0.6931 - val_accuracy: 0.3953\n",
      "Epoch 6/6\n",
      "596/596 [==============================] - 3s 4ms/step - loss: 0.6931 - binary_crossentropy: 0.6931 - accuracy: 0.3936 - val_loss: 0.6931 - val_binary_crossentropy: 0.6931 - val_accuracy: 0.3953\n",
      "Epoch 3/6\n",
      "596/596 [==============================] - 3s 5ms/step - loss: 0.6939 - binary_crossentropy: 0.6939 - accuracy: 0.3882 - val_loss: 0.6931 - val_binary_crossentropy: 0.6931 - val_accuracy: 0.3953\n",
      "Epoch 4/6\n",
      "596/596 [==============================] - 3s 4ms/step - loss: 0.6931 - binary_crossentropy: 0.6931 - accuracy: 0.3937 - val_loss: 0.6931 - val_binary_crossentropy: 0.6931 - val_accuracy: 0.3953\n",
      "Epoch 5/6\n",
      "596/596 [==============================] - 3s 4ms/step - loss: 0.6931 - binary_crossentropy: 0.6931 - accuracy: 0.3937 - val_loss: 0.6931 - val_binary_crossentropy: 0.6931 - val_accuracy: 0.3953\n",
      "Epoch 6/6\n",
      "596/596 [==============================] - 2s 4ms/step - loss: 0.6931 - binary_crossentropy: 0.6931 - accuracy: 0.3937 - val_loss: 0.6931 - val_binary_crossentropy: 0.6931 - val_accuracy: 0.3953\n"
     ]
    },
    {
     "data": {
      "text/html": [
       "<span style=\"color:#4527A0\"><h1 style=\"font-size:18px\">Trial complete</h1></span>"
      ],
      "text/plain": [
       "<IPython.core.display.HTML object>"
      ]
     },
     "metadata": {},
     "output_type": "display_data"
    },
    {
     "data": {
      "text/html": [
       "<span style=\"color:#4527A0\"><h1 style=\"font-size:18px\">Trial summary</h1></span>"
      ],
      "text/plain": [
       "<IPython.core.display.HTML object>"
      ]
     },
     "metadata": {},
     "output_type": "display_data"
    },
    {
     "data": {
      "text/html": [
       "<span style=\"color:cyan\"> |-Trial ID: 7b0367110e907d182782cecaf518904d</span>"
      ],
      "text/plain": [
       "<IPython.core.display.HTML object>"
      ]
     },
     "metadata": {},
     "output_type": "display_data"
    },
    {
     "data": {
      "text/html": [
       "<span style=\"color:cyan\"> |-Score: 0.6931459307670593</span>"
      ],
      "text/plain": [
       "<IPython.core.display.HTML object>"
      ]
     },
     "metadata": {},
     "output_type": "display_data"
    },
    {
     "data": {
      "text/html": [
       "<span style=\"color:cyan\"> |-Best step: 0</span>"
      ],
      "text/plain": [
       "<IPython.core.display.HTML object>"
      ]
     },
     "metadata": {},
     "output_type": "display_data"
    },
    {
     "data": {
      "text/html": [
       "<span style=\"color:#7E57C2\"><h2 style=\"font-size:16px\">Hyperparameters:</h2></span>"
      ],
      "text/plain": [
       "<IPython.core.display.HTML object>"
      ]
     },
     "metadata": {},
     "output_type": "display_data"
    },
    {
     "data": {
      "text/html": [
       "<span style=\"color:cyan\"> |-activation function 1: relu</span>"
      ],
      "text/plain": [
       "<IPython.core.display.HTML object>"
      ]
     },
     "metadata": {},
     "output_type": "display_data"
    },
    {
     "data": {
      "text/html": [
       "<span style=\"color:blue\"> |-activation function 2: elu</span>"
      ],
      "text/plain": [
       "<IPython.core.display.HTML object>"
      ]
     },
     "metadata": {},
     "output_type": "display_data"
    },
    {
     "data": {
      "text/html": [
       "<span style=\"color:cyan\"> |-activation function 3: elu</span>"
      ],
      "text/plain": [
       "<IPython.core.display.HTML object>"
      ]
     },
     "metadata": {},
     "output_type": "display_data"
    },
    {
     "data": {
      "text/html": [
       "<span style=\"color:blue\"> |-classify function: sigmoid</span>"
      ],
      "text/plain": [
       "<IPython.core.display.HTML object>"
      ]
     },
     "metadata": {},
     "output_type": "display_data"
    },
    {
     "data": {
      "text/html": [
       "<span style=\"color:cyan\"> |-dropout 1: 0.2</span>"
      ],
      "text/plain": [
       "<IPython.core.display.HTML object>"
      ]
     },
     "metadata": {},
     "output_type": "display_data"
    },
    {
     "data": {
      "text/html": [
       "<span style=\"color:blue\"> |-dropout 2: 0.2</span>"
      ],
      "text/plain": [
       "<IPython.core.display.HTML object>"
      ]
     },
     "metadata": {},
     "output_type": "display_data"
    },
    {
     "data": {
      "text/html": [
       "<span style=\"color:cyan\"> |-dropout 3: 0.5</span>"
      ],
      "text/plain": [
       "<IPython.core.display.HTML object>"
      ]
     },
     "metadata": {},
     "output_type": "display_data"
    },
    {
     "data": {
      "text/html": [
       "<span style=\"color:blue\"> |-learn rate: 0.01</span>"
      ],
      "text/plain": [
       "<IPython.core.display.HTML object>"
      ]
     },
     "metadata": {},
     "output_type": "display_data"
    },
    {
     "data": {
      "text/html": [
       "<span style=\"color:cyan\"> |-tuner/bracket: 2</span>"
      ],
      "text/plain": [
       "<IPython.core.display.HTML object>"
      ]
     },
     "metadata": {},
     "output_type": "display_data"
    },
    {
     "data": {
      "text/html": [
       "<span style=\"color:blue\"> |-tuner/epochs: 6</span>"
      ],
      "text/plain": [
       "<IPython.core.display.HTML object>"
      ]
     },
     "metadata": {},
     "output_type": "display_data"
    },
    {
     "data": {
      "text/html": [
       "<span style=\"color:cyan\"> |-tuner/initial_epoch: 2</span>"
      ],
      "text/plain": [
       "<IPython.core.display.HTML object>"
      ]
     },
     "metadata": {},
     "output_type": "display_data"
    },
    {
     "data": {
      "text/html": [
       "<span style=\"color:blue\"> |-tuner/round: 1</span>"
      ],
      "text/plain": [
       "<IPython.core.display.HTML object>"
      ]
     },
     "metadata": {},
     "output_type": "display_data"
    },
    {
     "data": {
      "text/html": [
       "<span style=\"color:cyan\"> |-tuner/trial_id: 23484dbc53550edd42ad67fce3e0d60f</span>"
      ],
      "text/plain": [
       "<IPython.core.display.HTML object>"
      ]
     },
     "metadata": {},
     "output_type": "display_data"
    },
    {
     "data": {
      "text/html": [
       "<span style=\"color:blue\"> |-units 1: 64</span>"
      ],
      "text/plain": [
       "<IPython.core.display.HTML object>"
      ]
     },
     "metadata": {},
     "output_type": "display_data"
    },
    {
     "data": {
      "text/html": [
       "<span style=\"color:cyan\"> |-units 2: 512</span>"
      ],
      "text/plain": [
       "<IPython.core.display.HTML object>"
      ]
     },
     "metadata": {},
     "output_type": "display_data"
    },
    {
     "data": {
      "text/html": [
       "<span style=\"color:blue\"> |-units 3: 256</span>"
      ],
      "text/plain": [
       "<IPython.core.display.HTML object>"
      ]
     },
     "metadata": {},
     "output_type": "display_data"
    },
    {
     "name": "stdout",
     "output_type": "stream",
     "text": [
      "Epoch 3/6\n",
      "596/596 [==============================] - 3s 5ms/step - loss: 0.7127 - binary_crossentropy: 0.7127 - accuracy: 0.0068 - val_loss: 0.6931 - val_binary_crossentropy: 0.6931 - val_accuracy: 8.3981e-04\n",
      "Epoch 4/6\n",
      "596/596 [==============================] - 3s 5ms/step - loss: 0.6936 - binary_crossentropy: 0.6936 - accuracy: 0.0240 - val_loss: 0.6931 - val_binary_crossentropy: 0.6931 - val_accuracy: 0.0330\n",
      "Epoch 5/6\n",
      "596/596 [==============================] - 3s 4ms/step - loss: 0.6936 - binary_crossentropy: 0.6936 - accuracy: 0.0475 - val_loss: 0.6931 - val_binary_crossentropy: 0.6931 - val_accuracy: 0.0785\n",
      "Epoch 6/6\n",
      "596/596 [==============================] - 3s 5ms/step - loss: 0.6935 - binary_crossentropy: 0.6935 - accuracy: 0.0610 - val_loss: 0.6931 - val_binary_crossentropy: 0.6931 - val_accuracy: 0.1281\n",
      "Epoch 3/6\n",
      "596/596 [==============================] - 3s 5ms/step - loss: 0.7129 - binary_crossentropy: 0.7129 - accuracy: 0.0029 - val_loss: 0.6931 - val_binary_crossentropy: 0.6931 - val_accuracy: 0.0019\n",
      "Epoch 4/6\n",
      "596/596 [==============================] - 2s 4ms/step - loss: 0.6936 - binary_crossentropy: 0.6936 - accuracy: 0.0148 - val_loss: 0.6931 - val_binary_crossentropy: 0.6931 - val_accuracy: 0.0214\n",
      "Epoch 5/6\n",
      "596/596 [==============================] - 2s 3ms/step - loss: 0.6935 - binary_crossentropy: 0.6935 - accuracy: 0.0378 - val_loss: 0.6931 - val_binary_crossentropy: 0.6931 - val_accuracy: 0.0747\n",
      "Epoch 6/6\n",
      "596/596 [==============================] - 2s 4ms/step - loss: 0.6935 - binary_crossentropy: 0.6935 - accuracy: 0.0568 - val_loss: 0.6931 - val_binary_crossentropy: 0.6931 - val_accuracy: 0.1205\n"
     ]
    },
    {
     "data": {
      "text/html": [
       "<span style=\"color:#4527A0\"><h1 style=\"font-size:18px\">Trial complete</h1></span>"
      ],
      "text/plain": [
       "<IPython.core.display.HTML object>"
      ]
     },
     "metadata": {},
     "output_type": "display_data"
    },
    {
     "data": {
      "text/html": [
       "<span style=\"color:#4527A0\"><h1 style=\"font-size:18px\">Trial summary</h1></span>"
      ],
      "text/plain": [
       "<IPython.core.display.HTML object>"
      ]
     },
     "metadata": {},
     "output_type": "display_data"
    },
    {
     "data": {
      "text/html": [
       "<span style=\"color:cyan\"> |-Trial ID: 350ba6309d3f33b018c197b932202b7a</span>"
      ],
      "text/plain": [
       "<IPython.core.display.HTML object>"
      ]
     },
     "metadata": {},
     "output_type": "display_data"
    },
    {
     "data": {
      "text/html": [
       "<span style=\"color:cyan\"> |-Score: 0.6934940218925476</span>"
      ],
      "text/plain": [
       "<IPython.core.display.HTML object>"
      ]
     },
     "metadata": {},
     "output_type": "display_data"
    },
    {
     "data": {
      "text/html": [
       "<span style=\"color:cyan\"> |-Best step: 0</span>"
      ],
      "text/plain": [
       "<IPython.core.display.HTML object>"
      ]
     },
     "metadata": {},
     "output_type": "display_data"
    },
    {
     "data": {
      "text/html": [
       "<span style=\"color:#7E57C2\"><h2 style=\"font-size:16px\">Hyperparameters:</h2></span>"
      ],
      "text/plain": [
       "<IPython.core.display.HTML object>"
      ]
     },
     "metadata": {},
     "output_type": "display_data"
    },
    {
     "data": {
      "text/html": [
       "<span style=\"color:cyan\"> |-activation function 1: relu</span>"
      ],
      "text/plain": [
       "<IPython.core.display.HTML object>"
      ]
     },
     "metadata": {},
     "output_type": "display_data"
    },
    {
     "data": {
      "text/html": [
       "<span style=\"color:blue\"> |-activation function 2: elu</span>"
      ],
      "text/plain": [
       "<IPython.core.display.HTML object>"
      ]
     },
     "metadata": {},
     "output_type": "display_data"
    },
    {
     "data": {
      "text/html": [
       "<span style=\"color:cyan\"> |-activation function 3: elu</span>"
      ],
      "text/plain": [
       "<IPython.core.display.HTML object>"
      ]
     },
     "metadata": {},
     "output_type": "display_data"
    },
    {
     "data": {
      "text/html": [
       "<span style=\"color:blue\"> |-classify function: sigmoid</span>"
      ],
      "text/plain": [
       "<IPython.core.display.HTML object>"
      ]
     },
     "metadata": {},
     "output_type": "display_data"
    },
    {
     "data": {
      "text/html": [
       "<span style=\"color:cyan\"> |-dropout 1: 0.2</span>"
      ],
      "text/plain": [
       "<IPython.core.display.HTML object>"
      ]
     },
     "metadata": {},
     "output_type": "display_data"
    },
    {
     "data": {
      "text/html": [
       "<span style=\"color:blue\"> |-dropout 2: 0.35</span>"
      ],
      "text/plain": [
       "<IPython.core.display.HTML object>"
      ]
     },
     "metadata": {},
     "output_type": "display_data"
    },
    {
     "data": {
      "text/html": [
       "<span style=\"color:cyan\"> |-dropout 3: 0.5</span>"
      ],
      "text/plain": [
       "<IPython.core.display.HTML object>"
      ]
     },
     "metadata": {},
     "output_type": "display_data"
    },
    {
     "data": {
      "text/html": [
       "<span style=\"color:blue\"> |-learn rate: 0.001</span>"
      ],
      "text/plain": [
       "<IPython.core.display.HTML object>"
      ]
     },
     "metadata": {},
     "output_type": "display_data"
    },
    {
     "data": {
      "text/html": [
       "<span style=\"color:cyan\"> |-tuner/bracket: 2</span>"
      ],
      "text/plain": [
       "<IPython.core.display.HTML object>"
      ]
     },
     "metadata": {},
     "output_type": "display_data"
    },
    {
     "data": {
      "text/html": [
       "<span style=\"color:blue\"> |-tuner/epochs: 6</span>"
      ],
      "text/plain": [
       "<IPython.core.display.HTML object>"
      ]
     },
     "metadata": {},
     "output_type": "display_data"
    },
    {
     "data": {
      "text/html": [
       "<span style=\"color:cyan\"> |-tuner/initial_epoch: 2</span>"
      ],
      "text/plain": [
       "<IPython.core.display.HTML object>"
      ]
     },
     "metadata": {},
     "output_type": "display_data"
    },
    {
     "data": {
      "text/html": [
       "<span style=\"color:blue\"> |-tuner/round: 1</span>"
      ],
      "text/plain": [
       "<IPython.core.display.HTML object>"
      ]
     },
     "metadata": {},
     "output_type": "display_data"
    },
    {
     "data": {
      "text/html": [
       "<span style=\"color:cyan\"> |-tuner/trial_id: 07cd0be96c5bccae353a457f6464ac76</span>"
      ],
      "text/plain": [
       "<IPython.core.display.HTML object>"
      ]
     },
     "metadata": {},
     "output_type": "display_data"
    },
    {
     "data": {
      "text/html": [
       "<span style=\"color:blue\"> |-units 1: 256</span>"
      ],
      "text/plain": [
       "<IPython.core.display.HTML object>"
      ]
     },
     "metadata": {},
     "output_type": "display_data"
    },
    {
     "data": {
      "text/html": [
       "<span style=\"color:cyan\"> |-units 2: 512</span>"
      ],
      "text/plain": [
       "<IPython.core.display.HTML object>"
      ]
     },
     "metadata": {},
     "output_type": "display_data"
    },
    {
     "data": {
      "text/html": [
       "<span style=\"color:blue\"> |-units 3: 16</span>"
      ],
      "text/plain": [
       "<IPython.core.display.HTML object>"
      ]
     },
     "metadata": {},
     "output_type": "display_data"
    },
    {
     "name": "stdout",
     "output_type": "stream",
     "text": [
      "Epoch 3/6\n",
      "596/596 [==============================] - 2s 4ms/step - loss: 0.6953 - binary_crossentropy: 0.6953 - accuracy: 0.0555 - val_loss: 0.6952 - val_binary_crossentropy: 0.6952 - val_accuracy: 0.1052\n",
      "Epoch 4/6\n",
      "596/596 [==============================] - 2s 4ms/step - loss: 0.6952 - binary_crossentropy: 0.6952 - accuracy: 0.0868 - val_loss: 0.6951 - val_binary_crossentropy: 0.6951 - val_accuracy: 0.0817\n",
      "Epoch 5/6\n",
      "596/596 [==============================] - 2s 3ms/step - loss: 0.6951 - binary_crossentropy: 0.6951 - accuracy: 0.0987 - val_loss: 0.6951 - val_binary_crossentropy: 0.6951 - val_accuracy: 0.1119\n",
      "Epoch 6/6\n",
      "596/596 [==============================] - 3s 5ms/step - loss: 0.6951 - binary_crossentropy: 0.6951 - accuracy: 0.0967 - val_loss: 0.6951 - val_binary_crossentropy: 0.6951 - val_accuracy: 0.0890\n",
      "Epoch 3/6\n",
      "596/596 [==============================] - 2s 4ms/step - loss: 0.6953 - binary_crossentropy: 0.6953 - accuracy: 0.0649 - val_loss: 0.6952 - val_binary_crossentropy: 0.6952 - val_accuracy: 0.1008\n",
      "Epoch 4/6\n",
      "596/596 [==============================] - 2s 4ms/step - loss: 0.6952 - binary_crossentropy: 0.6952 - accuracy: 0.0943 - val_loss: 0.6952 - val_binary_crossentropy: 0.6952 - val_accuracy: 0.1033\n",
      "Epoch 5/6\n",
      "596/596 [==============================] - 2s 4ms/step - loss: 0.6952 - binary_crossentropy: 0.6952 - accuracy: 0.0997 - val_loss: 0.6951 - val_binary_crossentropy: 0.6951 - val_accuracy: 0.1083\n",
      "Epoch 6/6\n",
      "596/596 [==============================] - 2s 4ms/step - loss: 0.6952 - binary_crossentropy: 0.6952 - accuracy: 0.1044 - val_loss: 0.6951 - val_binary_crossentropy: 0.6951 - val_accuracy: 0.1043\n"
     ]
    },
    {
     "data": {
      "text/html": [
       "<span style=\"color:#4527A0\"><h1 style=\"font-size:18px\">Trial complete</h1></span>"
      ],
      "text/plain": [
       "<IPython.core.display.HTML object>"
      ]
     },
     "metadata": {},
     "output_type": "display_data"
    },
    {
     "data": {
      "text/html": [
       "<span style=\"color:#4527A0\"><h1 style=\"font-size:18px\">Trial summary</h1></span>"
      ],
      "text/plain": [
       "<IPython.core.display.HTML object>"
      ]
     },
     "metadata": {},
     "output_type": "display_data"
    },
    {
     "data": {
      "text/html": [
       "<span style=\"color:cyan\"> |-Trial ID: 93d35dceeaf8efd8b95d535b284b6662</span>"
      ],
      "text/plain": [
       "<IPython.core.display.HTML object>"
      ]
     },
     "metadata": {},
     "output_type": "display_data"
    },
    {
     "data": {
      "text/html": [
       "<span style=\"color:cyan\"> |-Score: 0.6951475441455841</span>"
      ],
      "text/plain": [
       "<IPython.core.display.HTML object>"
      ]
     },
     "metadata": {},
     "output_type": "display_data"
    },
    {
     "data": {
      "text/html": [
       "<span style=\"color:cyan\"> |-Best step: 0</span>"
      ],
      "text/plain": [
       "<IPython.core.display.HTML object>"
      ]
     },
     "metadata": {},
     "output_type": "display_data"
    },
    {
     "data": {
      "text/html": [
       "<span style=\"color:#7E57C2\"><h2 style=\"font-size:16px\">Hyperparameters:</h2></span>"
      ],
      "text/plain": [
       "<IPython.core.display.HTML object>"
      ]
     },
     "metadata": {},
     "output_type": "display_data"
    },
    {
     "data": {
      "text/html": [
       "<span style=\"color:cyan\"> |-activation function 1: elu</span>"
      ],
      "text/plain": [
       "<IPython.core.display.HTML object>"
      ]
     },
     "metadata": {},
     "output_type": "display_data"
    },
    {
     "data": {
      "text/html": [
       "<span style=\"color:blue\"> |-activation function 2: elu</span>"
      ],
      "text/plain": [
       "<IPython.core.display.HTML object>"
      ]
     },
     "metadata": {},
     "output_type": "display_data"
    },
    {
     "data": {
      "text/html": [
       "<span style=\"color:cyan\"> |-activation function 3: elu</span>"
      ],
      "text/plain": [
       "<IPython.core.display.HTML object>"
      ]
     },
     "metadata": {},
     "output_type": "display_data"
    },
    {
     "data": {
      "text/html": [
       "<span style=\"color:blue\"> |-classify function: softmax</span>"
      ],
      "text/plain": [
       "<IPython.core.display.HTML object>"
      ]
     },
     "metadata": {},
     "output_type": "display_data"
    },
    {
     "data": {
      "text/html": [
       "<span style=\"color:cyan\"> |-dropout 1: 0.2</span>"
      ],
      "text/plain": [
       "<IPython.core.display.HTML object>"
      ]
     },
     "metadata": {},
     "output_type": "display_data"
    },
    {
     "data": {
      "text/html": [
       "<span style=\"color:blue\"> |-dropout 2: 0.35</span>"
      ],
      "text/plain": [
       "<IPython.core.display.HTML object>"
      ]
     },
     "metadata": {},
     "output_type": "display_data"
    },
    {
     "data": {
      "text/html": [
       "<span style=\"color:cyan\"> |-dropout 3: 0.35</span>"
      ],
      "text/plain": [
       "<IPython.core.display.HTML object>"
      ]
     },
     "metadata": {},
     "output_type": "display_data"
    },
    {
     "data": {
      "text/html": [
       "<span style=\"color:blue\"> |-learn rate: 0.001</span>"
      ],
      "text/plain": [
       "<IPython.core.display.HTML object>"
      ]
     },
     "metadata": {},
     "output_type": "display_data"
    },
    {
     "data": {
      "text/html": [
       "<span style=\"color:cyan\"> |-tuner/bracket: 2</span>"
      ],
      "text/plain": [
       "<IPython.core.display.HTML object>"
      ]
     },
     "metadata": {},
     "output_type": "display_data"
    },
    {
     "data": {
      "text/html": [
       "<span style=\"color:blue\"> |-tuner/epochs: 6</span>"
      ],
      "text/plain": [
       "<IPython.core.display.HTML object>"
      ]
     },
     "metadata": {},
     "output_type": "display_data"
    },
    {
     "data": {
      "text/html": [
       "<span style=\"color:cyan\"> |-tuner/initial_epoch: 2</span>"
      ],
      "text/plain": [
       "<IPython.core.display.HTML object>"
      ]
     },
     "metadata": {},
     "output_type": "display_data"
    },
    {
     "data": {
      "text/html": [
       "<span style=\"color:blue\"> |-tuner/round: 1</span>"
      ],
      "text/plain": [
       "<IPython.core.display.HTML object>"
      ]
     },
     "metadata": {},
     "output_type": "display_data"
    },
    {
     "data": {
      "text/html": [
       "<span style=\"color:cyan\"> |-tuner/trial_id: c6278314f097ab6a1191b1057810aef9</span>"
      ],
      "text/plain": [
       "<IPython.core.display.HTML object>"
      ]
     },
     "metadata": {},
     "output_type": "display_data"
    },
    {
     "data": {
      "text/html": [
       "<span style=\"color:blue\"> |-units 1: 256</span>"
      ],
      "text/plain": [
       "<IPython.core.display.HTML object>"
      ]
     },
     "metadata": {},
     "output_type": "display_data"
    },
    {
     "data": {
      "text/html": [
       "<span style=\"color:cyan\"> |-units 2: 512</span>"
      ],
      "text/plain": [
       "<IPython.core.display.HTML object>"
      ]
     },
     "metadata": {},
     "output_type": "display_data"
    },
    {
     "data": {
      "text/html": [
       "<span style=\"color:blue\"> |-units 3: 16</span>"
      ],
      "text/plain": [
       "<IPython.core.display.HTML object>"
      ]
     },
     "metadata": {},
     "output_type": "display_data"
    },
    {
     "name": "stdout",
     "output_type": "stream",
     "text": [
      "Epoch 3/6\n",
      "596/596 [==============================] - 2s 4ms/step - loss: 0.6954 - binary_crossentropy: 0.6954 - accuracy: 0.0461 - val_loss: 0.6952 - val_binary_crossentropy: 0.6952 - val_accuracy: 0.0548\n",
      "Epoch 4/6\n",
      "596/596 [==============================] - 3s 5ms/step - loss: 0.6952 - binary_crossentropy: 0.6952 - accuracy: 0.0792 - val_loss: 0.6952 - val_binary_crossentropy: 0.6952 - val_accuracy: 0.1016\n",
      "Epoch 5/6\n",
      "596/596 [==============================] - 2s 4ms/step - loss: 0.6952 - binary_crossentropy: 0.6952 - accuracy: 0.0888 - val_loss: 0.6951 - val_binary_crossentropy: 0.6951 - val_accuracy: 0.1083\n",
      "Epoch 6/6\n",
      "596/596 [==============================] - 2s 4ms/step - loss: 0.6952 - binary_crossentropy: 0.6952 - accuracy: 0.0930 - val_loss: 0.6951 - val_binary_crossentropy: 0.6951 - val_accuracy: 0.1159\n",
      "Epoch 3/6\n",
      "596/596 [==============================] - 2s 4ms/step - loss: 0.6954 - binary_crossentropy: 0.6954 - accuracy: 0.0661 - val_loss: 0.6952 - val_binary_crossentropy: 0.6952 - val_accuracy: 0.0989\n",
      "Epoch 4/6\n",
      "596/596 [==============================] - 2s 4ms/step - loss: 0.6952 - binary_crossentropy: 0.6952 - accuracy: 0.0882 - val_loss: 0.6952 - val_binary_crossentropy: 0.6952 - val_accuracy: 0.1073\n",
      "Epoch 5/6\n",
      "596/596 [==============================] - 2s 3ms/step - loss: 0.6952 - binary_crossentropy: 0.6952 - accuracy: 0.0952 - val_loss: 0.6951 - val_binary_crossentropy: 0.6951 - val_accuracy: 0.1077\n",
      "Epoch 6/6\n",
      "596/596 [==============================] - 2s 4ms/step - loss: 0.6952 - binary_crossentropy: 0.6952 - accuracy: 0.0998 - val_loss: 0.6951 - val_binary_crossentropy: 0.6951 - val_accuracy: 0.1222\n"
     ]
    },
    {
     "data": {
      "text/html": [
       "<span style=\"color:#4527A0\"><h1 style=\"font-size:18px\">Trial complete</h1></span>"
      ],
      "text/plain": [
       "<IPython.core.display.HTML object>"
      ]
     },
     "metadata": {},
     "output_type": "display_data"
    },
    {
     "data": {
      "text/html": [
       "<span style=\"color:#4527A0\"><h1 style=\"font-size:18px\">Trial summary</h1></span>"
      ],
      "text/plain": [
       "<IPython.core.display.HTML object>"
      ]
     },
     "metadata": {},
     "output_type": "display_data"
    },
    {
     "data": {
      "text/html": [
       "<span style=\"color:cyan\"> |-Trial ID: bdcc8571c56ccc5cc8bb4476b50bb183</span>"
      ],
      "text/plain": [
       "<IPython.core.display.HTML object>"
      ]
     },
     "metadata": {},
     "output_type": "display_data"
    },
    {
     "data": {
      "text/html": [
       "<span style=\"color:cyan\"> |-Score: 0.6951724886894226</span>"
      ],
      "text/plain": [
       "<IPython.core.display.HTML object>"
      ]
     },
     "metadata": {},
     "output_type": "display_data"
    },
    {
     "data": {
      "text/html": [
       "<span style=\"color:cyan\"> |-Best step: 0</span>"
      ],
      "text/plain": [
       "<IPython.core.display.HTML object>"
      ]
     },
     "metadata": {},
     "output_type": "display_data"
    },
    {
     "data": {
      "text/html": [
       "<span style=\"color:#7E57C2\"><h2 style=\"font-size:16px\">Hyperparameters:</h2></span>"
      ],
      "text/plain": [
       "<IPython.core.display.HTML object>"
      ]
     },
     "metadata": {},
     "output_type": "display_data"
    },
    {
     "data": {
      "text/html": [
       "<span style=\"color:cyan\"> |-activation function 1: elu</span>"
      ],
      "text/plain": [
       "<IPython.core.display.HTML object>"
      ]
     },
     "metadata": {},
     "output_type": "display_data"
    },
    {
     "data": {
      "text/html": [
       "<span style=\"color:blue\"> |-activation function 2: relu</span>"
      ],
      "text/plain": [
       "<IPython.core.display.HTML object>"
      ]
     },
     "metadata": {},
     "output_type": "display_data"
    },
    {
     "data": {
      "text/html": [
       "<span style=\"color:cyan\"> |-activation function 3: elu</span>"
      ],
      "text/plain": [
       "<IPython.core.display.HTML object>"
      ]
     },
     "metadata": {},
     "output_type": "display_data"
    },
    {
     "data": {
      "text/html": [
       "<span style=\"color:blue\"> |-classify function: softmax</span>"
      ],
      "text/plain": [
       "<IPython.core.display.HTML object>"
      ]
     },
     "metadata": {},
     "output_type": "display_data"
    },
    {
     "data": {
      "text/html": [
       "<span style=\"color:cyan\"> |-dropout 1: 0.35</span>"
      ],
      "text/plain": [
       "<IPython.core.display.HTML object>"
      ]
     },
     "metadata": {},
     "output_type": "display_data"
    },
    {
     "data": {
      "text/html": [
       "<span style=\"color:blue\"> |-dropout 2: 0.5</span>"
      ],
      "text/plain": [
       "<IPython.core.display.HTML object>"
      ]
     },
     "metadata": {},
     "output_type": "display_data"
    },
    {
     "data": {
      "text/html": [
       "<span style=\"color:cyan\"> |-dropout 3: 0.35</span>"
      ],
      "text/plain": [
       "<IPython.core.display.HTML object>"
      ]
     },
     "metadata": {},
     "output_type": "display_data"
    },
    {
     "data": {
      "text/html": [
       "<span style=\"color:blue\"> |-learn rate: 0.001</span>"
      ],
      "text/plain": [
       "<IPython.core.display.HTML object>"
      ]
     },
     "metadata": {},
     "output_type": "display_data"
    },
    {
     "data": {
      "text/html": [
       "<span style=\"color:cyan\"> |-tuner/bracket: 2</span>"
      ],
      "text/plain": [
       "<IPython.core.display.HTML object>"
      ]
     },
     "metadata": {},
     "output_type": "display_data"
    },
    {
     "data": {
      "text/html": [
       "<span style=\"color:blue\"> |-tuner/epochs: 6</span>"
      ],
      "text/plain": [
       "<IPython.core.display.HTML object>"
      ]
     },
     "metadata": {},
     "output_type": "display_data"
    },
    {
     "data": {
      "text/html": [
       "<span style=\"color:cyan\"> |-tuner/initial_epoch: 2</span>"
      ],
      "text/plain": [
       "<IPython.core.display.HTML object>"
      ]
     },
     "metadata": {},
     "output_type": "display_data"
    },
    {
     "data": {
      "text/html": [
       "<span style=\"color:blue\"> |-tuner/round: 1</span>"
      ],
      "text/plain": [
       "<IPython.core.display.HTML object>"
      ]
     },
     "metadata": {},
     "output_type": "display_data"
    },
    {
     "data": {
      "text/html": [
       "<span style=\"color:cyan\"> |-tuner/trial_id: fd3922c2694fb815fa418ddf360af22e</span>"
      ],
      "text/plain": [
       "<IPython.core.display.HTML object>"
      ]
     },
     "metadata": {},
     "output_type": "display_data"
    },
    {
     "data": {
      "text/html": [
       "<span style=\"color:blue\"> |-units 1: 256</span>"
      ],
      "text/plain": [
       "<IPython.core.display.HTML object>"
      ]
     },
     "metadata": {},
     "output_type": "display_data"
    },
    {
     "data": {
      "text/html": [
       "<span style=\"color:cyan\"> |-units 2: 512</span>"
      ],
      "text/plain": [
       "<IPython.core.display.HTML object>"
      ]
     },
     "metadata": {},
     "output_type": "display_data"
    },
    {
     "data": {
      "text/html": [
       "<span style=\"color:blue\"> |-units 3: 16</span>"
      ],
      "text/plain": [
       "<IPython.core.display.HTML object>"
      ]
     },
     "metadata": {},
     "output_type": "display_data"
    },
    {
     "name": "stdout",
     "output_type": "stream",
     "text": [
      "Epoch 7/18\n",
      "596/596 [==============================] - 2s 4ms/step - loss: 0.6940 - binary_crossentropy: 0.6940 - accuracy: 0.3879 - val_loss: 0.6931 - val_binary_crossentropy: 0.6931 - val_accuracy: 0.3953\n",
      "Epoch 8/18\n",
      "596/596 [==============================] - 2s 4ms/step - loss: 0.6931 - binary_crossentropy: 0.6931 - accuracy: 0.3936 - val_loss: 0.6931 - val_binary_crossentropy: 0.6931 - val_accuracy: 0.3953\n",
      "Epoch 9/18\n",
      "596/596 [==============================] - 2s 3ms/step - loss: 0.6931 - binary_crossentropy: 0.6931 - accuracy: 0.3936 - val_loss: 0.6931 - val_binary_crossentropy: 0.6931 - val_accuracy: 0.3953\n",
      "Epoch 10/18\n",
      "596/596 [==============================] - 2s 4ms/step - loss: 0.6931 - binary_crossentropy: 0.6931 - accuracy: 0.3936 - val_loss: 0.6931 - val_binary_crossentropy: 0.6931 - val_accuracy: 0.3953\n",
      "Epoch 11/18\n",
      "596/596 [==============================] - 3s 5ms/step - loss: 0.6931 - binary_crossentropy: 0.6931 - accuracy: 0.3937 - val_loss: 0.6931 - val_binary_crossentropy: 0.6931 - val_accuracy: 0.3953\n",
      "Epoch 12/18\n",
      "596/596 [==============================] - 3s 5ms/step - loss: 0.6931 - binary_crossentropy: 0.6931 - accuracy: 0.3936 - val_loss: 0.6931 - val_binary_crossentropy: 0.6931 - val_accuracy: 0.3953\n",
      "Epoch 13/18\n",
      "596/596 [==============================] - 3s 5ms/step - loss: 0.6931 - binary_crossentropy: 0.6931 - accuracy: 0.3937 - val_loss: 0.6931 - val_binary_crossentropy: 0.6931 - val_accuracy: 0.3953\n",
      "Epoch 14/18\n",
      "596/596 [==============================] - 3s 4ms/step - loss: 0.6931 - binary_crossentropy: 0.6931 - accuracy: 0.3934 - val_loss: 0.6931 - val_binary_crossentropy: 0.6931 - val_accuracy: 0.3953\n",
      "Epoch 15/18\n",
      "596/596 [==============================] - 3s 5ms/step - loss: 0.6931 - binary_crossentropy: 0.6931 - accuracy: 0.3936 - val_loss: 0.6931 - val_binary_crossentropy: 0.6931 - val_accuracy: 0.3953\n",
      "Epoch 16/18\n",
      "596/596 [==============================] - 3s 5ms/step - loss: 0.6931 - binary_crossentropy: 0.6931 - accuracy: 0.3936 - val_loss: 0.6931 - val_binary_crossentropy: 0.6931 - val_accuracy: 0.3953\n",
      "Epoch 17/18\n",
      "596/596 [==============================] - 2s 3ms/step - loss: 0.6931 - binary_crossentropy: 0.6931 - accuracy: 0.3936 - val_loss: 0.6931 - val_binary_crossentropy: 0.6931 - val_accuracy: 0.3953\n",
      "Epoch 18/18\n",
      "596/596 [==============================] - 2s 4ms/step - loss: 0.6931 - binary_crossentropy: 0.6931 - accuracy: 0.3937 - val_loss: 0.6931 - val_binary_crossentropy: 0.6931 - val_accuracy: 0.3953\n",
      "Epoch 7/18\n",
      "596/596 [==============================] - 3s 4ms/step - loss: 0.6939 - binary_crossentropy: 0.6939 - accuracy: 0.3877 - val_loss: 0.6931 - val_binary_crossentropy: 0.6931 - val_accuracy: 0.3953\n",
      "Epoch 8/18\n",
      "596/596 [==============================] - 2s 3ms/step - loss: 0.6931 - binary_crossentropy: 0.6931 - accuracy: 0.3936 - val_loss: 0.6931 - val_binary_crossentropy: 0.6931 - val_accuracy: 0.3953\n",
      "Epoch 9/18\n",
      "596/596 [==============================] - 2s 3ms/step - loss: 0.6931 - binary_crossentropy: 0.6931 - accuracy: 0.3936 - val_loss: 0.6931 - val_binary_crossentropy: 0.6931 - val_accuracy: 0.3953\n",
      "Epoch 10/18\n",
      "596/596 [==============================] - 2s 4ms/step - loss: 0.6931 - binary_crossentropy: 0.6931 - accuracy: 0.3936 - val_loss: 0.6931 - val_binary_crossentropy: 0.6931 - val_accuracy: 0.3953\n",
      "Epoch 11/18\n",
      "596/596 [==============================] - 3s 4ms/step - loss: 0.6931 - binary_crossentropy: 0.6931 - accuracy: 0.3937 - val_loss: 0.6931 - val_binary_crossentropy: 0.6931 - val_accuracy: 0.3953\n",
      "Epoch 12/18\n",
      "596/596 [==============================] - 3s 5ms/step - loss: 0.6931 - binary_crossentropy: 0.6931 - accuracy: 0.3937 - val_loss: 0.6931 - val_binary_crossentropy: 0.6931 - val_accuracy: 0.3953\n",
      "Epoch 13/18\n",
      "596/596 [==============================] - 2s 4ms/step - loss: 0.6931 - binary_crossentropy: 0.6931 - accuracy: 0.3937 - val_loss: 0.6931 - val_binary_crossentropy: 0.6931 - val_accuracy: 0.3953\n",
      "Epoch 14/18\n",
      "596/596 [==============================] - 2s 4ms/step - loss: 0.6931 - binary_crossentropy: 0.6931 - accuracy: 0.3936 - val_loss: 0.6931 - val_binary_crossentropy: 0.6931 - val_accuracy: 0.3953\n",
      "Epoch 15/18\n",
      "596/596 [==============================] - 2s 3ms/step - loss: 0.6931 - binary_crossentropy: 0.6931 - accuracy: 0.3937 - val_loss: 0.6931 - val_binary_crossentropy: 0.6931 - val_accuracy: 0.3953\n",
      "Epoch 16/18\n",
      "596/596 [==============================] - 2s 4ms/step - loss: 0.6931 - binary_crossentropy: 0.6931 - accuracy: 0.3937 - val_loss: 0.6931 - val_binary_crossentropy: 0.6931 - val_accuracy: 0.3953\n",
      "Epoch 17/18\n",
      "596/596 [==============================] - 2s 4ms/step - loss: 0.6931 - binary_crossentropy: 0.6931 - accuracy: 0.3936 - val_loss: 0.6931 - val_binary_crossentropy: 0.6931 - val_accuracy: 0.3953\n",
      "Epoch 18/18\n",
      "596/596 [==============================] - 2s 4ms/step - loss: 0.6931 - binary_crossentropy: 0.6931 - accuracy: 0.3936 - val_loss: 0.6931 - val_binary_crossentropy: 0.6931 - val_accuracy: 0.3953\n"
     ]
    },
    {
     "data": {
      "text/html": [
       "<span style=\"color:#4527A0\"><h1 style=\"font-size:18px\">Trial complete</h1></span>"
      ],
      "text/plain": [
       "<IPython.core.display.HTML object>"
      ]
     },
     "metadata": {},
     "output_type": "display_data"
    },
    {
     "data": {
      "text/html": [
       "<span style=\"color:#4527A0\"><h1 style=\"font-size:18px\">Trial summary</h1></span>"
      ],
      "text/plain": [
       "<IPython.core.display.HTML object>"
      ]
     },
     "metadata": {},
     "output_type": "display_data"
    },
    {
     "data": {
      "text/html": [
       "<span style=\"color:cyan\"> |-Trial ID: beb69b67be0f47690e14e4d261d3f516</span>"
      ],
      "text/plain": [
       "<IPython.core.display.HTML object>"
      ]
     },
     "metadata": {},
     "output_type": "display_data"
    },
    {
     "data": {
      "text/html": [
       "<span style=\"color:cyan\"> |-Score: 0.6931459307670593</span>"
      ],
      "text/plain": [
       "<IPython.core.display.HTML object>"
      ]
     },
     "metadata": {},
     "output_type": "display_data"
    },
    {
     "data": {
      "text/html": [
       "<span style=\"color:cyan\"> |-Best step: 0</span>"
      ],
      "text/plain": [
       "<IPython.core.display.HTML object>"
      ]
     },
     "metadata": {},
     "output_type": "display_data"
    },
    {
     "data": {
      "text/html": [
       "<span style=\"color:#7E57C2\"><h2 style=\"font-size:16px\">Hyperparameters:</h2></span>"
      ],
      "text/plain": [
       "<IPython.core.display.HTML object>"
      ]
     },
     "metadata": {},
     "output_type": "display_data"
    },
    {
     "data": {
      "text/html": [
       "<span style=\"color:cyan\"> |-activation function 1: relu</span>"
      ],
      "text/plain": [
       "<IPython.core.display.HTML object>"
      ]
     },
     "metadata": {},
     "output_type": "display_data"
    },
    {
     "data": {
      "text/html": [
       "<span style=\"color:blue\"> |-activation function 2: elu</span>"
      ],
      "text/plain": [
       "<IPython.core.display.HTML object>"
      ]
     },
     "metadata": {},
     "output_type": "display_data"
    },
    {
     "data": {
      "text/html": [
       "<span style=\"color:cyan\"> |-activation function 3: elu</span>"
      ],
      "text/plain": [
       "<IPython.core.display.HTML object>"
      ]
     },
     "metadata": {},
     "output_type": "display_data"
    },
    {
     "data": {
      "text/html": [
       "<span style=\"color:blue\"> |-classify function: sigmoid</span>"
      ],
      "text/plain": [
       "<IPython.core.display.HTML object>"
      ]
     },
     "metadata": {},
     "output_type": "display_data"
    },
    {
     "data": {
      "text/html": [
       "<span style=\"color:cyan\"> |-dropout 1: 0.2</span>"
      ],
      "text/plain": [
       "<IPython.core.display.HTML object>"
      ]
     },
     "metadata": {},
     "output_type": "display_data"
    },
    {
     "data": {
      "text/html": [
       "<span style=\"color:blue\"> |-dropout 2: 0.2</span>"
      ],
      "text/plain": [
       "<IPython.core.display.HTML object>"
      ]
     },
     "metadata": {},
     "output_type": "display_data"
    },
    {
     "data": {
      "text/html": [
       "<span style=\"color:cyan\"> |-dropout 3: 0.5</span>"
      ],
      "text/plain": [
       "<IPython.core.display.HTML object>"
      ]
     },
     "metadata": {},
     "output_type": "display_data"
    },
    {
     "data": {
      "text/html": [
       "<span style=\"color:blue\"> |-learn rate: 0.01</span>"
      ],
      "text/plain": [
       "<IPython.core.display.HTML object>"
      ]
     },
     "metadata": {},
     "output_type": "display_data"
    },
    {
     "data": {
      "text/html": [
       "<span style=\"color:cyan\"> |-tuner/bracket: 2</span>"
      ],
      "text/plain": [
       "<IPython.core.display.HTML object>"
      ]
     },
     "metadata": {},
     "output_type": "display_data"
    },
    {
     "data": {
      "text/html": [
       "<span style=\"color:blue\"> |-tuner/epochs: 18</span>"
      ],
      "text/plain": [
       "<IPython.core.display.HTML object>"
      ]
     },
     "metadata": {},
     "output_type": "display_data"
    },
    {
     "data": {
      "text/html": [
       "<span style=\"color:cyan\"> |-tuner/initial_epoch: 6</span>"
      ],
      "text/plain": [
       "<IPython.core.display.HTML object>"
      ]
     },
     "metadata": {},
     "output_type": "display_data"
    },
    {
     "data": {
      "text/html": [
       "<span style=\"color:blue\"> |-tuner/round: 2</span>"
      ],
      "text/plain": [
       "<IPython.core.display.HTML object>"
      ]
     },
     "metadata": {},
     "output_type": "display_data"
    },
    {
     "data": {
      "text/html": [
       "<span style=\"color:cyan\"> |-tuner/trial_id: 7b0367110e907d182782cecaf518904d</span>"
      ],
      "text/plain": [
       "<IPython.core.display.HTML object>"
      ]
     },
     "metadata": {},
     "output_type": "display_data"
    },
    {
     "data": {
      "text/html": [
       "<span style=\"color:blue\"> |-units 1: 64</span>"
      ],
      "text/plain": [
       "<IPython.core.display.HTML object>"
      ]
     },
     "metadata": {},
     "output_type": "display_data"
    },
    {
     "data": {
      "text/html": [
       "<span style=\"color:cyan\"> |-units 2: 512</span>"
      ],
      "text/plain": [
       "<IPython.core.display.HTML object>"
      ]
     },
     "metadata": {},
     "output_type": "display_data"
    },
    {
     "data": {
      "text/html": [
       "<span style=\"color:blue\"> |-units 3: 256</span>"
      ],
      "text/plain": [
       "<IPython.core.display.HTML object>"
      ]
     },
     "metadata": {},
     "output_type": "display_data"
    },
    {
     "name": "stdout",
     "output_type": "stream",
     "text": [
      "Epoch 7/18\n",
      "596/596 [==============================] - 3s 5ms/step - loss: 0.7117 - binary_crossentropy: 0.7117 - accuracy: 0.0048 - val_loss: 0.6931 - val_binary_crossentropy: 0.6931 - val_accuracy: 4.1990e-04\n",
      "Epoch 8/18\n",
      "596/596 [==============================] - 2s 4ms/step - loss: 0.6937 - binary_crossentropy: 0.6937 - accuracy: 0.0194 - val_loss: 0.6931 - val_binary_crossentropy: 0.6931 - val_accuracy: 0.0338\n",
      "Epoch 9/18\n",
      "596/596 [==============================] - 2s 4ms/step - loss: 0.6935 - binary_crossentropy: 0.6935 - accuracy: 0.0387 - val_loss: 0.6931 - val_binary_crossentropy: 0.6931 - val_accuracy: 0.0941\n",
      "Epoch 10/18\n",
      "596/596 [==============================] - 2s 3ms/step - loss: 0.6935 - binary_crossentropy: 0.6935 - accuracy: 0.0534 - val_loss: 0.6931 - val_binary_crossentropy: 0.6931 - val_accuracy: 0.1440\n",
      "Epoch 11/18\n",
      "596/596 [==============================] - 2s 4ms/step - loss: 0.6935 - binary_crossentropy: 0.6935 - accuracy: 0.0676 - val_loss: 0.6931 - val_binary_crossentropy: 0.6931 - val_accuracy: 0.1770\n",
      "Epoch 12/18\n",
      "596/596 [==============================] - 2s 3ms/step - loss: 0.6933 - binary_crossentropy: 0.6933 - accuracy: 0.0777 - val_loss: 0.6931 - val_binary_crossentropy: 0.6931 - val_accuracy: 0.2123\n",
      "Epoch 13/18\n",
      "596/596 [==============================] - 2s 4ms/step - loss: 0.6933 - binary_crossentropy: 0.6933 - accuracy: 0.0810 - val_loss: 0.6931 - val_binary_crossentropy: 0.6931 - val_accuracy: 0.2383\n",
      "Epoch 14/18\n",
      "596/596 [==============================] - 2s 4ms/step - loss: 0.6933 - binary_crossentropy: 0.6933 - accuracy: 0.0912 - val_loss: 0.6931 - val_binary_crossentropy: 0.6931 - val_accuracy: 0.2564\n",
      "Epoch 15/18\n",
      "596/596 [==============================] - 2s 3ms/step - loss: 0.6933 - binary_crossentropy: 0.6933 - accuracy: 0.1009 - val_loss: 0.6931 - val_binary_crossentropy: 0.6931 - val_accuracy: 0.2715\n",
      "Epoch 16/18\n",
      "596/596 [==============================] - 2s 4ms/step - loss: 0.6932 - binary_crossentropy: 0.6932 - accuracy: 0.1088 - val_loss: 0.6931 - val_binary_crossentropy: 0.6931 - val_accuracy: 0.2891\n",
      "Epoch 17/18\n",
      "596/596 [==============================] - 2s 3ms/step - loss: 0.6932 - binary_crossentropy: 0.6932 - accuracy: 0.1143 - val_loss: 0.6931 - val_binary_crossentropy: 0.6931 - val_accuracy: 0.2990\n",
      "Epoch 18/18\n",
      "596/596 [==============================] - 2s 3ms/step - loss: 0.6932 - binary_crossentropy: 0.6932 - accuracy: 0.1225 - val_loss: 0.6931 - val_binary_crossentropy: 0.6931 - val_accuracy: 0.3063\n",
      "Epoch 7/18\n",
      "596/596 [==============================] - 2s 4ms/step - loss: 0.7149 - binary_crossentropy: 0.7148 - accuracy: 0.0064 - val_loss: 0.6931 - val_binary_crossentropy: 0.6931 - val_accuracy: 0.0105\n",
      "Epoch 8/18\n",
      "596/596 [==============================] - 2s 4ms/step - loss: 0.6943 - binary_crossentropy: 0.6943 - accuracy: 0.0101 - val_loss: 0.6931 - val_binary_crossentropy: 0.6931 - val_accuracy: 0.0109\n",
      "Epoch 9/18\n",
      "596/596 [==============================] - 3s 4ms/step - loss: 0.6940 - binary_crossentropy: 0.6940 - accuracy: 0.0160 - val_loss: 0.6931 - val_binary_crossentropy: 0.6931 - val_accuracy: 0.0115\n",
      "Epoch 10/18\n",
      "596/596 [==============================] - 2s 4ms/step - loss: 0.6937 - binary_crossentropy: 0.6937 - accuracy: 0.0232 - val_loss: 0.6931 - val_binary_crossentropy: 0.6931 - val_accuracy: 0.0122\n",
      "Epoch 11/18\n",
      "596/596 [==============================] - 2s 4ms/step - loss: 0.6936 - binary_crossentropy: 0.6936 - accuracy: 0.0274 - val_loss: 0.6931 - val_binary_crossentropy: 0.6931 - val_accuracy: 0.0124\n",
      "Epoch 12/18\n",
      "596/596 [==============================] - 3s 5ms/step - loss: 0.6934 - binary_crossentropy: 0.6934 - accuracy: 0.0329 - val_loss: 0.6931 - val_binary_crossentropy: 0.6931 - val_accuracy: 0.0139\n",
      "Epoch 13/18\n",
      "596/596 [==============================] - 2s 4ms/step - loss: 0.6933 - binary_crossentropy: 0.6933 - accuracy: 0.0352 - val_loss: 0.6931 - val_binary_crossentropy: 0.6931 - val_accuracy: 0.0145\n",
      "Epoch 14/18\n",
      "596/596 [==============================] - 2s 4ms/step - loss: 0.6933 - binary_crossentropy: 0.6933 - accuracy: 0.0420 - val_loss: 0.6931 - val_binary_crossentropy: 0.6931 - val_accuracy: 0.0174\n",
      "Epoch 15/18\n",
      "596/596 [==============================] - 2s 4ms/step - loss: 0.6933 - binary_crossentropy: 0.6933 - accuracy: 0.0444 - val_loss: 0.6931 - val_binary_crossentropy: 0.6931 - val_accuracy: 0.0189\n",
      "Epoch 16/18\n",
      "596/596 [==============================] - 3s 4ms/step - loss: 0.6933 - binary_crossentropy: 0.6933 - accuracy: 0.0465 - val_loss: 0.6931 - val_binary_crossentropy: 0.6931 - val_accuracy: 0.0210\n",
      "Epoch 17/18\n",
      "596/596 [==============================] - 2s 4ms/step - loss: 0.6932 - binary_crossentropy: 0.6932 - accuracy: 0.0497 - val_loss: 0.6931 - val_binary_crossentropy: 0.6931 - val_accuracy: 0.0223\n",
      "Epoch 18/18\n",
      "596/596 [==============================] - 2s 4ms/step - loss: 0.6932 - binary_crossentropy: 0.6932 - accuracy: 0.0537 - val_loss: 0.6931 - val_binary_crossentropy: 0.6931 - val_accuracy: 0.0229\n"
     ]
    },
    {
     "data": {
      "text/html": [
       "<span style=\"color:#4527A0\"><h1 style=\"font-size:18px\">Trial complete</h1></span>"
      ],
      "text/plain": [
       "<IPython.core.display.HTML object>"
      ]
     },
     "metadata": {},
     "output_type": "display_data"
    },
    {
     "data": {
      "text/html": [
       "<span style=\"color:#4527A0\"><h1 style=\"font-size:18px\">Trial summary</h1></span>"
      ],
      "text/plain": [
       "<IPython.core.display.HTML object>"
      ]
     },
     "metadata": {},
     "output_type": "display_data"
    },
    {
     "data": {
      "text/html": [
       "<span style=\"color:cyan\"> |-Trial ID: 49bce5af6977be4dcd558ecc55f242c0</span>"
      ],
      "text/plain": [
       "<IPython.core.display.HTML object>"
      ]
     },
     "metadata": {},
     "output_type": "display_data"
    },
    {
     "data": {
      "text/html": [
       "<span style=\"color:cyan\"> |-Score: 0.6932218670845032</span>"
      ],
      "text/plain": [
       "<IPython.core.display.HTML object>"
      ]
     },
     "metadata": {},
     "output_type": "display_data"
    },
    {
     "data": {
      "text/html": [
       "<span style=\"color:cyan\"> |-Best step: 0</span>"
      ],
      "text/plain": [
       "<IPython.core.display.HTML object>"
      ]
     },
     "metadata": {},
     "output_type": "display_data"
    },
    {
     "data": {
      "text/html": [
       "<span style=\"color:#7E57C2\"><h2 style=\"font-size:16px\">Hyperparameters:</h2></span>"
      ],
      "text/plain": [
       "<IPython.core.display.HTML object>"
      ]
     },
     "metadata": {},
     "output_type": "display_data"
    },
    {
     "data": {
      "text/html": [
       "<span style=\"color:cyan\"> |-activation function 1: relu</span>"
      ],
      "text/plain": [
       "<IPython.core.display.HTML object>"
      ]
     },
     "metadata": {},
     "output_type": "display_data"
    },
    {
     "data": {
      "text/html": [
       "<span style=\"color:blue\"> |-activation function 2: elu</span>"
      ],
      "text/plain": [
       "<IPython.core.display.HTML object>"
      ]
     },
     "metadata": {},
     "output_type": "display_data"
    },
    {
     "data": {
      "text/html": [
       "<span style=\"color:cyan\"> |-activation function 3: elu</span>"
      ],
      "text/plain": [
       "<IPython.core.display.HTML object>"
      ]
     },
     "metadata": {},
     "output_type": "display_data"
    },
    {
     "data": {
      "text/html": [
       "<span style=\"color:blue\"> |-classify function: sigmoid</span>"
      ],
      "text/plain": [
       "<IPython.core.display.HTML object>"
      ]
     },
     "metadata": {},
     "output_type": "display_data"
    },
    {
     "data": {
      "text/html": [
       "<span style=\"color:cyan\"> |-dropout 1: 0.2</span>"
      ],
      "text/plain": [
       "<IPython.core.display.HTML object>"
      ]
     },
     "metadata": {},
     "output_type": "display_data"
    },
    {
     "data": {
      "text/html": [
       "<span style=\"color:blue\"> |-dropout 2: 0.35</span>"
      ],
      "text/plain": [
       "<IPython.core.display.HTML object>"
      ]
     },
     "metadata": {},
     "output_type": "display_data"
    },
    {
     "data": {
      "text/html": [
       "<span style=\"color:cyan\"> |-dropout 3: 0.5</span>"
      ],
      "text/plain": [
       "<IPython.core.display.HTML object>"
      ]
     },
     "metadata": {},
     "output_type": "display_data"
    },
    {
     "data": {
      "text/html": [
       "<span style=\"color:blue\"> |-learn rate: 0.001</span>"
      ],
      "text/plain": [
       "<IPython.core.display.HTML object>"
      ]
     },
     "metadata": {},
     "output_type": "display_data"
    },
    {
     "data": {
      "text/html": [
       "<span style=\"color:cyan\"> |-tuner/bracket: 2</span>"
      ],
      "text/plain": [
       "<IPython.core.display.HTML object>"
      ]
     },
     "metadata": {},
     "output_type": "display_data"
    },
    {
     "data": {
      "text/html": [
       "<span style=\"color:blue\"> |-tuner/epochs: 18</span>"
      ],
      "text/plain": [
       "<IPython.core.display.HTML object>"
      ]
     },
     "metadata": {},
     "output_type": "display_data"
    },
    {
     "data": {
      "text/html": [
       "<span style=\"color:cyan\"> |-tuner/initial_epoch: 6</span>"
      ],
      "text/plain": [
       "<IPython.core.display.HTML object>"
      ]
     },
     "metadata": {},
     "output_type": "display_data"
    },
    {
     "data": {
      "text/html": [
       "<span style=\"color:blue\"> |-tuner/round: 2</span>"
      ],
      "text/plain": [
       "<IPython.core.display.HTML object>"
      ]
     },
     "metadata": {},
     "output_type": "display_data"
    },
    {
     "data": {
      "text/html": [
       "<span style=\"color:cyan\"> |-tuner/trial_id: 350ba6309d3f33b018c197b932202b7a</span>"
      ],
      "text/plain": [
       "<IPython.core.display.HTML object>"
      ]
     },
     "metadata": {},
     "output_type": "display_data"
    },
    {
     "data": {
      "text/html": [
       "<span style=\"color:blue\"> |-units 1: 256</span>"
      ],
      "text/plain": [
       "<IPython.core.display.HTML object>"
      ]
     },
     "metadata": {},
     "output_type": "display_data"
    },
    {
     "data": {
      "text/html": [
       "<span style=\"color:cyan\"> |-units 2: 512</span>"
      ],
      "text/plain": [
       "<IPython.core.display.HTML object>"
      ]
     },
     "metadata": {},
     "output_type": "display_data"
    },
    {
     "data": {
      "text/html": [
       "<span style=\"color:blue\"> |-units 3: 16</span>"
      ],
      "text/plain": [
       "<IPython.core.display.HTML object>"
      ]
     },
     "metadata": {},
     "output_type": "display_data"
    },
    {
     "name": "stdout",
     "output_type": "stream",
     "text": [
      "Epoch 1/6\n",
      "596/596 [==============================] - 2s 4ms/step - loss: 0.7118 - binary_crossentropy: 0.7118 - accuracy: 0.0057 - val_loss: 0.6932 - val_binary_crossentropy: 0.6932 - val_accuracy: 0.0115\n",
      "Epoch 2/6\n",
      "596/596 [==============================] - 3s 4ms/step - loss: 0.6933 - binary_crossentropy: 0.6933 - accuracy: 0.0061 - val_loss: 0.6931 - val_binary_crossentropy: 0.6931 - val_accuracy: 0.0120\n",
      "Epoch 3/6\n",
      "596/596 [==============================] - 2s 4ms/step - loss: 0.6932 - binary_crossentropy: 0.6932 - accuracy: 0.0091 - val_loss: 0.6931 - val_binary_crossentropy: 0.6931 - val_accuracy: 0.0145\n",
      "Epoch 4/6\n",
      "596/596 [==============================] - 3s 5ms/step - loss: 0.6932 - binary_crossentropy: 0.6932 - accuracy: 0.0147 - val_loss: 0.6931 - val_binary_crossentropy: 0.6931 - val_accuracy: 0.0170\n",
      "Epoch 5/6\n",
      "596/596 [==============================] - 2s 4ms/step - loss: 0.6932 - binary_crossentropy: 0.6932 - accuracy: 0.0251 - val_loss: 0.6931 - val_binary_crossentropy: 0.6931 - val_accuracy: 0.0227\n",
      "Epoch 6/6\n",
      "596/596 [==============================] - 3s 5ms/step - loss: 0.6932 - binary_crossentropy: 0.6932 - accuracy: 0.0375 - val_loss: 0.6931 - val_binary_crossentropy: 0.6931 - val_accuracy: 0.0300\n",
      "Epoch 1/6\n",
      "596/596 [==============================] - 2s 4ms/step - loss: 0.7102 - binary_crossentropy: 0.7102 - accuracy: 0.0044 - val_loss: 0.6931 - val_binary_crossentropy: 0.6931 - val_accuracy: 0.0073\n",
      "Epoch 2/6\n",
      "596/596 [==============================] - 2s 4ms/step - loss: 0.6933 - binary_crossentropy: 0.6933 - accuracy: 0.0059 - val_loss: 0.6931 - val_binary_crossentropy: 0.6931 - val_accuracy: 0.0090\n",
      "Epoch 3/6\n",
      "596/596 [==============================] - 2s 4ms/step - loss: 0.6933 - binary_crossentropy: 0.6933 - accuracy: 0.0364 - val_loss: 0.6931 - val_binary_crossentropy: 0.6931 - val_accuracy: 0.1776\n",
      "Epoch 4/6\n",
      "596/596 [==============================] - 2s 4ms/step - loss: 0.6932 - binary_crossentropy: 0.6932 - accuracy: 0.1251 - val_loss: 0.6931 - val_binary_crossentropy: 0.6931 - val_accuracy: 0.1950\n",
      "Epoch 5/6\n",
      "596/596 [==============================] - 3s 4ms/step - loss: 0.6932 - binary_crossentropy: 0.6932 - accuracy: 0.1376 - val_loss: 0.6931 - val_binary_crossentropy: 0.6931 - val_accuracy: 0.2242\n",
      "Epoch 6/6\n",
      "596/596 [==============================] - 3s 5ms/step - loss: 0.6932 - binary_crossentropy: 0.6932 - accuracy: 0.1548 - val_loss: 0.6931 - val_binary_crossentropy: 0.6931 - val_accuracy: 0.2643\n"
     ]
    },
    {
     "data": {
      "text/html": [
       "<span style=\"color:#4527A0\"><h1 style=\"font-size:18px\">Trial complete</h1></span>"
      ],
      "text/plain": [
       "<IPython.core.display.HTML object>"
      ]
     },
     "metadata": {},
     "output_type": "display_data"
    },
    {
     "data": {
      "text/html": [
       "<span style=\"color:#4527A0\"><h1 style=\"font-size:18px\">Trial summary</h1></span>"
      ],
      "text/plain": [
       "<IPython.core.display.HTML object>"
      ]
     },
     "metadata": {},
     "output_type": "display_data"
    },
    {
     "data": {
      "text/html": [
       "<span style=\"color:cyan\"> |-Trial ID: f689fb7228e196a1bdb6b7c3e8a8478f</span>"
      ],
      "text/plain": [
       "<IPython.core.display.HTML object>"
      ]
     },
     "metadata": {},
     "output_type": "display_data"
    },
    {
     "data": {
      "text/html": [
       "<span style=\"color:cyan\"> |-Score: 0.693172037601471</span>"
      ],
      "text/plain": [
       "<IPython.core.display.HTML object>"
      ]
     },
     "metadata": {},
     "output_type": "display_data"
    },
    {
     "data": {
      "text/html": [
       "<span style=\"color:cyan\"> |-Best step: 0</span>"
      ],
      "text/plain": [
       "<IPython.core.display.HTML object>"
      ]
     },
     "metadata": {},
     "output_type": "display_data"
    },
    {
     "data": {
      "text/html": [
       "<span style=\"color:#7E57C2\"><h2 style=\"font-size:16px\">Hyperparameters:</h2></span>"
      ],
      "text/plain": [
       "<IPython.core.display.HTML object>"
      ]
     },
     "metadata": {},
     "output_type": "display_data"
    },
    {
     "data": {
      "text/html": [
       "<span style=\"color:cyan\"> |-activation function 1: elu</span>"
      ],
      "text/plain": [
       "<IPython.core.display.HTML object>"
      ]
     },
     "metadata": {},
     "output_type": "display_data"
    },
    {
     "data": {
      "text/html": [
       "<span style=\"color:blue\"> |-activation function 2: elu</span>"
      ],
      "text/plain": [
       "<IPython.core.display.HTML object>"
      ]
     },
     "metadata": {},
     "output_type": "display_data"
    },
    {
     "data": {
      "text/html": [
       "<span style=\"color:cyan\"> |-activation function 3: elu</span>"
      ],
      "text/plain": [
       "<IPython.core.display.HTML object>"
      ]
     },
     "metadata": {},
     "output_type": "display_data"
    },
    {
     "data": {
      "text/html": [
       "<span style=\"color:blue\"> |-classify function: sigmoid</span>"
      ],
      "text/plain": [
       "<IPython.core.display.HTML object>"
      ]
     },
     "metadata": {},
     "output_type": "display_data"
    },
    {
     "data": {
      "text/html": [
       "<span style=\"color:cyan\"> |-dropout 1: 0.5</span>"
      ],
      "text/plain": [
       "<IPython.core.display.HTML object>"
      ]
     },
     "metadata": {},
     "output_type": "display_data"
    },
    {
     "data": {
      "text/html": [
       "<span style=\"color:blue\"> |-dropout 2: 0.35</span>"
      ],
      "text/plain": [
       "<IPython.core.display.HTML object>"
      ]
     },
     "metadata": {},
     "output_type": "display_data"
    },
    {
     "data": {
      "text/html": [
       "<span style=\"color:cyan\"> |-dropout 3: 0.35</span>"
      ],
      "text/plain": [
       "<IPython.core.display.HTML object>"
      ]
     },
     "metadata": {},
     "output_type": "display_data"
    },
    {
     "data": {
      "text/html": [
       "<span style=\"color:blue\"> |-learn rate: 0.001</span>"
      ],
      "text/plain": [
       "<IPython.core.display.HTML object>"
      ]
     },
     "metadata": {},
     "output_type": "display_data"
    },
    {
     "data": {
      "text/html": [
       "<span style=\"color:cyan\"> |-tuner/bracket: 1</span>"
      ],
      "text/plain": [
       "<IPython.core.display.HTML object>"
      ]
     },
     "metadata": {},
     "output_type": "display_data"
    },
    {
     "data": {
      "text/html": [
       "<span style=\"color:blue\"> |-tuner/epochs: 6</span>"
      ],
      "text/plain": [
       "<IPython.core.display.HTML object>"
      ]
     },
     "metadata": {},
     "output_type": "display_data"
    },
    {
     "data": {
      "text/html": [
       "<span style=\"color:cyan\"> |-tuner/initial_epoch: 0</span>"
      ],
      "text/plain": [
       "<IPython.core.display.HTML object>"
      ]
     },
     "metadata": {},
     "output_type": "display_data"
    },
    {
     "data": {
      "text/html": [
       "<span style=\"color:blue\"> |-tuner/round: 0</span>"
      ],
      "text/plain": [
       "<IPython.core.display.HTML object>"
      ]
     },
     "metadata": {},
     "output_type": "display_data"
    },
    {
     "data": {
      "text/html": [
       "<span style=\"color:cyan\"> |-units 1: 1024</span>"
      ],
      "text/plain": [
       "<IPython.core.display.HTML object>"
      ]
     },
     "metadata": {},
     "output_type": "display_data"
    },
    {
     "data": {
      "text/html": [
       "<span style=\"color:blue\"> |-units 2: 512</span>"
      ],
      "text/plain": [
       "<IPython.core.display.HTML object>"
      ]
     },
     "metadata": {},
     "output_type": "display_data"
    },
    {
     "data": {
      "text/html": [
       "<span style=\"color:cyan\"> |-units 3: 16</span>"
      ],
      "text/plain": [
       "<IPython.core.display.HTML object>"
      ]
     },
     "metadata": {},
     "output_type": "display_data"
    },
    {
     "name": "stdout",
     "output_type": "stream",
     "text": [
      "Epoch 1/6\n",
      "596/596 [==============================] - 3s 5ms/step - loss: 0.8259 - binary_crossentropy: 0.8258 - accuracy: 0.0025 - val_loss: 0.6944 - val_binary_crossentropy: 0.6944 - val_accuracy: 8.3981e-04\n",
      "Epoch 2/6\n",
      "596/596 [==============================] - 3s 5ms/step - loss: 0.7020 - binary_crossentropy: 0.7020 - accuracy: 0.0035 - val_loss: 0.6932 - val_binary_crossentropy: 0.6932 - val_accuracy: 0.0113\n",
      "Epoch 3/6\n",
      "596/596 [==============================] - 3s 5ms/step - loss: 0.6957 - binary_crossentropy: 0.6957 - accuracy: 0.0036 - val_loss: 0.6932 - val_binary_crossentropy: 0.6932 - val_accuracy: 0.0120\n",
      "Epoch 4/6\n",
      "596/596 [==============================] - 4s 6ms/step - loss: 0.6943 - binary_crossentropy: 0.6943 - accuracy: 0.0039 - val_loss: 0.6931 - val_binary_crossentropy: 0.6931 - val_accuracy: 0.0126\n",
      "Epoch 5/6\n",
      "596/596 [==============================] - 3s 5ms/step - loss: 0.6938 - binary_crossentropy: 0.6938 - accuracy: 0.0055 - val_loss: 0.6931 - val_binary_crossentropy: 0.6931 - val_accuracy: 0.0147\n",
      "Epoch 6/6\n",
      "596/596 [==============================] - 3s 6ms/step - loss: 0.6936 - binary_crossentropy: 0.6936 - accuracy: 0.0052 - val_loss: 0.6931 - val_binary_crossentropy: 0.6931 - val_accuracy: 0.0157\n",
      "Epoch 1/6\n",
      "596/596 [==============================] - 3s 4ms/step - loss: 0.8245 - binary_crossentropy: 0.8243 - accuracy: 0.0037 - val_loss: 0.6944 - val_binary_crossentropy: 0.6944 - val_accuracy: 0.0019\n",
      "Epoch 2/6\n",
      "596/596 [==============================] - 2s 4ms/step - loss: 0.7042 - binary_crossentropy: 0.7042 - accuracy: 0.0039 - val_loss: 0.6932 - val_binary_crossentropy: 0.6932 - val_accuracy: 0.0021\n",
      "Epoch 3/6\n",
      "596/596 [==============================] - 2s 4ms/step - loss: 0.6960 - binary_crossentropy: 0.6960 - accuracy: 0.0044 - val_loss: 0.6932 - val_binary_crossentropy: 0.6932 - val_accuracy: 0.0023\n",
      "Epoch 4/6\n",
      "596/596 [==============================] - 2s 4ms/step - loss: 0.6945 - binary_crossentropy: 0.6945 - accuracy: 0.0033 - val_loss: 0.6931 - val_binary_crossentropy: 0.6931 - val_accuracy: 0.0023\n",
      "Epoch 5/6\n",
      "596/596 [==============================] - 2s 4ms/step - loss: 0.6938 - binary_crossentropy: 0.6938 - accuracy: 0.0041 - val_loss: 0.6931 - val_binary_crossentropy: 0.6931 - val_accuracy: 0.0046\n",
      "Epoch 6/6\n",
      "596/596 [==============================] - 2s 4ms/step - loss: 0.6936 - binary_crossentropy: 0.6936 - accuracy: 0.0038 - val_loss: 0.6931 - val_binary_crossentropy: 0.6931 - val_accuracy: 0.0061\n"
     ]
    },
    {
     "data": {
      "text/html": [
       "<span style=\"color:#4527A0\"><h1 style=\"font-size:18px\">Trial complete</h1></span>"
      ],
      "text/plain": [
       "<IPython.core.display.HTML object>"
      ]
     },
     "metadata": {},
     "output_type": "display_data"
    },
    {
     "data": {
      "text/html": [
       "<span style=\"color:#4527A0\"><h1 style=\"font-size:18px\">Trial summary</h1></span>"
      ],
      "text/plain": [
       "<IPython.core.display.HTML object>"
      ]
     },
     "metadata": {},
     "output_type": "display_data"
    },
    {
     "data": {
      "text/html": [
       "<span style=\"color:cyan\"> |-Trial ID: a2760c6d41ed0610c08cec702a385a7d</span>"
      ],
      "text/plain": [
       "<IPython.core.display.HTML object>"
      ]
     },
     "metadata": {},
     "output_type": "display_data"
    },
    {
     "data": {
      "text/html": [
       "<span style=\"color:cyan\"> |-Score: 0.6935797035694122</span>"
      ],
      "text/plain": [
       "<IPython.core.display.HTML object>"
      ]
     },
     "metadata": {},
     "output_type": "display_data"
    },
    {
     "data": {
      "text/html": [
       "<span style=\"color:cyan\"> |-Best step: 0</span>"
      ],
      "text/plain": [
       "<IPython.core.display.HTML object>"
      ]
     },
     "metadata": {},
     "output_type": "display_data"
    },
    {
     "data": {
      "text/html": [
       "<span style=\"color:#7E57C2\"><h2 style=\"font-size:16px\">Hyperparameters:</h2></span>"
      ],
      "text/plain": [
       "<IPython.core.display.HTML object>"
      ]
     },
     "metadata": {},
     "output_type": "display_data"
    },
    {
     "data": {
      "text/html": [
       "<span style=\"color:cyan\"> |-activation function 1: elu</span>"
      ],
      "text/plain": [
       "<IPython.core.display.HTML object>"
      ]
     },
     "metadata": {},
     "output_type": "display_data"
    },
    {
     "data": {
      "text/html": [
       "<span style=\"color:blue\"> |-activation function 2: relu</span>"
      ],
      "text/plain": [
       "<IPython.core.display.HTML object>"
      ]
     },
     "metadata": {},
     "output_type": "display_data"
    },
    {
     "data": {
      "text/html": [
       "<span style=\"color:cyan\"> |-activation function 3: relu</span>"
      ],
      "text/plain": [
       "<IPython.core.display.HTML object>"
      ]
     },
     "metadata": {},
     "output_type": "display_data"
    },
    {
     "data": {
      "text/html": [
       "<span style=\"color:blue\"> |-classify function: sigmoid</span>"
      ],
      "text/plain": [
       "<IPython.core.display.HTML object>"
      ]
     },
     "metadata": {},
     "output_type": "display_data"
    },
    {
     "data": {
      "text/html": [
       "<span style=\"color:cyan\"> |-dropout 1: 0.2</span>"
      ],
      "text/plain": [
       "<IPython.core.display.HTML object>"
      ]
     },
     "metadata": {},
     "output_type": "display_data"
    },
    {
     "data": {
      "text/html": [
       "<span style=\"color:blue\"> |-dropout 2: 0.35</span>"
      ],
      "text/plain": [
       "<IPython.core.display.HTML object>"
      ]
     },
     "metadata": {},
     "output_type": "display_data"
    },
    {
     "data": {
      "text/html": [
       "<span style=\"color:cyan\"> |-dropout 3: 0.5</span>"
      ],
      "text/plain": [
       "<IPython.core.display.HTML object>"
      ]
     },
     "metadata": {},
     "output_type": "display_data"
    },
    {
     "data": {
      "text/html": [
       "<span style=\"color:blue\"> |-learn rate: 0.0001</span>"
      ],
      "text/plain": [
       "<IPython.core.display.HTML object>"
      ]
     },
     "metadata": {},
     "output_type": "display_data"
    },
    {
     "data": {
      "text/html": [
       "<span style=\"color:cyan\"> |-tuner/bracket: 1</span>"
      ],
      "text/plain": [
       "<IPython.core.display.HTML object>"
      ]
     },
     "metadata": {},
     "output_type": "display_data"
    },
    {
     "data": {
      "text/html": [
       "<span style=\"color:blue\"> |-tuner/epochs: 6</span>"
      ],
      "text/plain": [
       "<IPython.core.display.HTML object>"
      ]
     },
     "metadata": {},
     "output_type": "display_data"
    },
    {
     "data": {
      "text/html": [
       "<span style=\"color:cyan\"> |-tuner/initial_epoch: 0</span>"
      ],
      "text/plain": [
       "<IPython.core.display.HTML object>"
      ]
     },
     "metadata": {},
     "output_type": "display_data"
    },
    {
     "data": {
      "text/html": [
       "<span style=\"color:blue\"> |-tuner/round: 0</span>"
      ],
      "text/plain": [
       "<IPython.core.display.HTML object>"
      ]
     },
     "metadata": {},
     "output_type": "display_data"
    },
    {
     "data": {
      "text/html": [
       "<span style=\"color:cyan\"> |-units 1: 256</span>"
      ],
      "text/plain": [
       "<IPython.core.display.HTML object>"
      ]
     },
     "metadata": {},
     "output_type": "display_data"
    },
    {
     "data": {
      "text/html": [
       "<span style=\"color:blue\"> |-units 2: 128</span>"
      ],
      "text/plain": [
       "<IPython.core.display.HTML object>"
      ]
     },
     "metadata": {},
     "output_type": "display_data"
    },
    {
     "data": {
      "text/html": [
       "<span style=\"color:cyan\"> |-units 3: 16</span>"
      ],
      "text/plain": [
       "<IPython.core.display.HTML object>"
      ]
     },
     "metadata": {},
     "output_type": "display_data"
    },
    {
     "name": "stdout",
     "output_type": "stream",
     "text": [
      "Epoch 1/6\n",
      "596/596 [==============================] - 3s 5ms/step - loss: 0.6955 - binary_crossentropy: 0.6955 - accuracy: 0.0209 - val_loss: 0.6955 - val_binary_crossentropy: 0.6955 - val_accuracy: 0.0456\n",
      "Epoch 2/6\n",
      "596/596 [==============================] - 2s 4ms/step - loss: 0.6955 - binary_crossentropy: 0.6955 - accuracy: 0.0269 - val_loss: 0.6956 - val_binary_crossentropy: 0.6956 - val_accuracy: 0.0164\n",
      "Epoch 3/6\n",
      "596/596 [==============================] - 2s 4ms/step - loss: 0.6954 - binary_crossentropy: 0.6954 - accuracy: 0.0339 - val_loss: 0.6954 - val_binary_crossentropy: 0.6954 - val_accuracy: 0.0449\n",
      "Epoch 4/6\n",
      "596/596 [==============================] - 3s 4ms/step - loss: 0.6954 - binary_crossentropy: 0.6954 - accuracy: 0.0335 - val_loss: 0.6956 - val_binary_crossentropy: 0.6956 - val_accuracy: 0.0126\n",
      "Epoch 5/6\n",
      "596/596 [==============================] - 2s 3ms/step - loss: 0.6955 - binary_crossentropy: 0.6955 - accuracy: 0.0234 - val_loss: 0.6954 - val_binary_crossentropy: 0.6954 - val_accuracy: 0.0451\n",
      "Epoch 6/6\n",
      "596/596 [==============================] - 3s 4ms/step - loss: 0.6954 - binary_crossentropy: 0.6954 - accuracy: 0.0305 - val_loss: 0.6954 - val_binary_crossentropy: 0.6954 - val_accuracy: 0.0451\n",
      "Epoch 1/6\n",
      "596/596 [==============================] - 2s 4ms/step - loss: 0.6955 - binary_crossentropy: 0.6955 - accuracy: 0.0158 - val_loss: 0.6955 - val_binary_crossentropy: 0.6955 - val_accuracy: 0.0122\n",
      "Epoch 2/6\n",
      "596/596 [==============================] - 2s 3ms/step - loss: 0.6955 - binary_crossentropy: 0.6955 - accuracy: 0.0210 - val_loss: 0.6955 - val_binary_crossentropy: 0.6955 - val_accuracy: 0.0311\n",
      "Epoch 3/6\n",
      "596/596 [==============================] - 2s 3ms/step - loss: 0.6955 - binary_crossentropy: 0.6955 - accuracy: 0.0231 - val_loss: 0.6955 - val_binary_crossentropy: 0.6955 - val_accuracy: 0.0311\n",
      "Epoch 4/6\n",
      "596/596 [==============================] - 2s 4ms/step - loss: 0.6955 - binary_crossentropy: 0.6955 - accuracy: 0.0252 - val_loss: 0.6955 - val_binary_crossentropy: 0.6955 - val_accuracy: 0.0311\n",
      "Epoch 5/6\n",
      "596/596 [==============================] - 2s 4ms/step - loss: 0.6955 - binary_crossentropy: 0.6955 - accuracy: 0.0234 - val_loss: 0.6955 - val_binary_crossentropy: 0.6955 - val_accuracy: 0.0311\n",
      "Epoch 6/6\n",
      "596/596 [==============================] - 2s 4ms/step - loss: 0.6955 - binary_crossentropy: 0.6955 - accuracy: 0.0216 - val_loss: 0.6955 - val_binary_crossentropy: 0.6955 - val_accuracy: 0.0311\n"
     ]
    },
    {
     "data": {
      "text/html": [
       "<span style=\"color:#4527A0\"><h1 style=\"font-size:18px\">Trial complete</h1></span>"
      ],
      "text/plain": [
       "<IPython.core.display.HTML object>"
      ]
     },
     "metadata": {},
     "output_type": "display_data"
    },
    {
     "data": {
      "text/html": [
       "<span style=\"color:#4527A0\"><h1 style=\"font-size:18px\">Trial summary</h1></span>"
      ],
      "text/plain": [
       "<IPython.core.display.HTML object>"
      ]
     },
     "metadata": {},
     "output_type": "display_data"
    },
    {
     "data": {
      "text/html": [
       "<span style=\"color:cyan\"> |-Trial ID: 461e1b491285cf3a24c4c759566c9b50</span>"
      ],
      "text/plain": [
       "<IPython.core.display.HTML object>"
      ]
     },
     "metadata": {},
     "output_type": "display_data"
    },
    {
     "data": {
      "text/html": [
       "<span style=\"color:cyan\"> |-Score: 0.6954815983772278</span>"
      ],
      "text/plain": [
       "<IPython.core.display.HTML object>"
      ]
     },
     "metadata": {},
     "output_type": "display_data"
    },
    {
     "data": {
      "text/html": [
       "<span style=\"color:cyan\"> |-Best step: 0</span>"
      ],
      "text/plain": [
       "<IPython.core.display.HTML object>"
      ]
     },
     "metadata": {},
     "output_type": "display_data"
    },
    {
     "data": {
      "text/html": [
       "<span style=\"color:#7E57C2\"><h2 style=\"font-size:16px\">Hyperparameters:</h2></span>"
      ],
      "text/plain": [
       "<IPython.core.display.HTML object>"
      ]
     },
     "metadata": {},
     "output_type": "display_data"
    },
    {
     "data": {
      "text/html": [
       "<span style=\"color:cyan\"> |-activation function 1: elu</span>"
      ],
      "text/plain": [
       "<IPython.core.display.HTML object>"
      ]
     },
     "metadata": {},
     "output_type": "display_data"
    },
    {
     "data": {
      "text/html": [
       "<span style=\"color:blue\"> |-activation function 2: relu</span>"
      ],
      "text/plain": [
       "<IPython.core.display.HTML object>"
      ]
     },
     "metadata": {},
     "output_type": "display_data"
    },
    {
     "data": {
      "text/html": [
       "<span style=\"color:cyan\"> |-activation function 3: elu</span>"
      ],
      "text/plain": [
       "<IPython.core.display.HTML object>"
      ]
     },
     "metadata": {},
     "output_type": "display_data"
    },
    {
     "data": {
      "text/html": [
       "<span style=\"color:blue\"> |-classify function: softmax</span>"
      ],
      "text/plain": [
       "<IPython.core.display.HTML object>"
      ]
     },
     "metadata": {},
     "output_type": "display_data"
    },
    {
     "data": {
      "text/html": [
       "<span style=\"color:cyan\"> |-dropout 1: 0.5</span>"
      ],
      "text/plain": [
       "<IPython.core.display.HTML object>"
      ]
     },
     "metadata": {},
     "output_type": "display_data"
    },
    {
     "data": {
      "text/html": [
       "<span style=\"color:blue\"> |-dropout 2: 0.2</span>"
      ],
      "text/plain": [
       "<IPython.core.display.HTML object>"
      ]
     },
     "metadata": {},
     "output_type": "display_data"
    },
    {
     "data": {
      "text/html": [
       "<span style=\"color:cyan\"> |-dropout 3: 0.5</span>"
      ],
      "text/plain": [
       "<IPython.core.display.HTML object>"
      ]
     },
     "metadata": {},
     "output_type": "display_data"
    },
    {
     "data": {
      "text/html": [
       "<span style=\"color:blue\"> |-learn rate: 0.01</span>"
      ],
      "text/plain": [
       "<IPython.core.display.HTML object>"
      ]
     },
     "metadata": {},
     "output_type": "display_data"
    },
    {
     "data": {
      "text/html": [
       "<span style=\"color:cyan\"> |-tuner/bracket: 1</span>"
      ],
      "text/plain": [
       "<IPython.core.display.HTML object>"
      ]
     },
     "metadata": {},
     "output_type": "display_data"
    },
    {
     "data": {
      "text/html": [
       "<span style=\"color:blue\"> |-tuner/epochs: 6</span>"
      ],
      "text/plain": [
       "<IPython.core.display.HTML object>"
      ]
     },
     "metadata": {},
     "output_type": "display_data"
    },
    {
     "data": {
      "text/html": [
       "<span style=\"color:cyan\"> |-tuner/initial_epoch: 0</span>"
      ],
      "text/plain": [
       "<IPython.core.display.HTML object>"
      ]
     },
     "metadata": {},
     "output_type": "display_data"
    },
    {
     "data": {
      "text/html": [
       "<span style=\"color:blue\"> |-tuner/round: 0</span>"
      ],
      "text/plain": [
       "<IPython.core.display.HTML object>"
      ]
     },
     "metadata": {},
     "output_type": "display_data"
    },
    {
     "data": {
      "text/html": [
       "<span style=\"color:cyan\"> |-units 1: 64</span>"
      ],
      "text/plain": [
       "<IPython.core.display.HTML object>"
      ]
     },
     "metadata": {},
     "output_type": "display_data"
    },
    {
     "data": {
      "text/html": [
       "<span style=\"color:blue\"> |-units 2: 32</span>"
      ],
      "text/plain": [
       "<IPython.core.display.HTML object>"
      ]
     },
     "metadata": {},
     "output_type": "display_data"
    },
    {
     "data": {
      "text/html": [
       "<span style=\"color:cyan\"> |-units 3: 16</span>"
      ],
      "text/plain": [
       "<IPython.core.display.HTML object>"
      ]
     },
     "metadata": {},
     "output_type": "display_data"
    },
    {
     "name": "stdout",
     "output_type": "stream",
     "text": [
      "Epoch 1/6\n",
      "596/596 [==============================] - 2s 4ms/step - loss: 0.8397 - binary_crossentropy: 0.8396 - accuracy: 0.0023 - val_loss: 0.7145 - val_binary_crossentropy: 0.7146 - val_accuracy: 4.1990e-04\n",
      "Epoch 2/6\n",
      "596/596 [==============================] - 2s 4ms/step - loss: 0.7268 - binary_crossentropy: 0.7268 - accuracy: 0.0019 - val_loss: 0.6993 - val_binary_crossentropy: 0.6993 - val_accuracy: 4.1990e-04\n",
      "Epoch 3/6\n",
      "596/596 [==============================] - 3s 5ms/step - loss: 0.7093 - binary_crossentropy: 0.7093 - accuracy: 0.0021 - val_loss: 0.6962 - val_binary_crossentropy: 0.6962 - val_accuracy: 4.1990e-04\n",
      "Epoch 4/6\n",
      "596/596 [==============================] - 2s 4ms/step - loss: 0.7030 - binary_crossentropy: 0.7030 - accuracy: 0.0022 - val_loss: 0.6962 - val_binary_crossentropy: 0.6962 - val_accuracy: 4.1990e-04\n",
      "Epoch 5/6\n",
      "596/596 [==============================] - 3s 6ms/step - loss: 0.7015 - binary_crossentropy: 0.7015 - accuracy: 0.0018 - val_loss: 0.6962 - val_binary_crossentropy: 0.6962 - val_accuracy: 4.1990e-04\n",
      "Epoch 6/6\n",
      "596/596 [==============================] - 2s 4ms/step - loss: 0.7011 - binary_crossentropy: 0.7011 - accuracy: 0.0015 - val_loss: 0.6962 - val_binary_crossentropy: 0.6962 - val_accuracy: 4.1990e-04\n",
      "Epoch 1/6\n",
      "596/596 [==============================] - 3s 4ms/step - loss: 0.8003 - binary_crossentropy: 0.8002 - accuracy: 8.9234e-04 - val_loss: 0.6966 - val_binary_crossentropy: 0.6966 - val_accuracy: 6.2986e-04\n",
      "Epoch 2/6\n",
      "596/596 [==============================] - 2s 4ms/step - loss: 0.7020 - binary_crossentropy: 0.7019 - accuracy: 0.0016 - val_loss: 0.6932 - val_binary_crossentropy: 0.6932 - val_accuracy: 8.3981e-04\n",
      "Epoch 3/6\n",
      "596/596 [==============================] - 2s 4ms/step - loss: 0.6956 - binary_crossentropy: 0.6956 - accuracy: 0.0020 - val_loss: 0.6931 - val_binary_crossentropy: 0.6931 - val_accuracy: 8.3981e-04\n",
      "Epoch 4/6\n",
      "596/596 [==============================] - 2s 4ms/step - loss: 0.6944 - binary_crossentropy: 0.6944 - accuracy: 0.0025 - val_loss: 0.6931 - val_binary_crossentropy: 0.6931 - val_accuracy: 8.3981e-04\n",
      "Epoch 5/6\n",
      "596/596 [==============================] - 3s 5ms/step - loss: 0.6939 - binary_crossentropy: 0.6939 - accuracy: 0.0018 - val_loss: 0.6931 - val_binary_crossentropy: 0.6931 - val_accuracy: 8.3981e-04\n",
      "Epoch 6/6\n",
      "596/596 [==============================] - 3s 4ms/step - loss: 0.6936 - binary_crossentropy: 0.6936 - accuracy: 0.0018 - val_loss: 0.6931 - val_binary_crossentropy: 0.6931 - val_accuracy: 8.3981e-04\n"
     ]
    },
    {
     "data": {
      "text/html": [
       "<span style=\"color:#4527A0\"><h1 style=\"font-size:18px\">Trial complete</h1></span>"
      ],
      "text/plain": [
       "<IPython.core.display.HTML object>"
      ]
     },
     "metadata": {},
     "output_type": "display_data"
    },
    {
     "data": {
      "text/html": [
       "<span style=\"color:#4527A0\"><h1 style=\"font-size:18px\">Trial summary</h1></span>"
      ],
      "text/plain": [
       "<IPython.core.display.HTML object>"
      ]
     },
     "metadata": {},
     "output_type": "display_data"
    },
    {
     "data": {
      "text/html": [
       "<span style=\"color:cyan\"> |-Trial ID: 0bd285f2351d92be3df76c2b5da277af</span>"
      ],
      "text/plain": [
       "<IPython.core.display.HTML object>"
      ]
     },
     "metadata": {},
     "output_type": "display_data"
    },
    {
     "data": {
      "text/html": [
       "<span style=\"color:cyan\"> |-Score: 0.6973660886287689</span>"
      ],
      "text/plain": [
       "<IPython.core.display.HTML object>"
      ]
     },
     "metadata": {},
     "output_type": "display_data"
    },
    {
     "data": {
      "text/html": [
       "<span style=\"color:cyan\"> |-Best step: 0</span>"
      ],
      "text/plain": [
       "<IPython.core.display.HTML object>"
      ]
     },
     "metadata": {},
     "output_type": "display_data"
    },
    {
     "data": {
      "text/html": [
       "<span style=\"color:#7E57C2\"><h2 style=\"font-size:16px\">Hyperparameters:</h2></span>"
      ],
      "text/plain": [
       "<IPython.core.display.HTML object>"
      ]
     },
     "metadata": {},
     "output_type": "display_data"
    },
    {
     "data": {
      "text/html": [
       "<span style=\"color:cyan\"> |-activation function 1: elu</span>"
      ],
      "text/plain": [
       "<IPython.core.display.HTML object>"
      ]
     },
     "metadata": {},
     "output_type": "display_data"
    },
    {
     "data": {
      "text/html": [
       "<span style=\"color:blue\"> |-activation function 2: relu</span>"
      ],
      "text/plain": [
       "<IPython.core.display.HTML object>"
      ]
     },
     "metadata": {},
     "output_type": "display_data"
    },
    {
     "data": {
      "text/html": [
       "<span style=\"color:cyan\"> |-activation function 3: elu</span>"
      ],
      "text/plain": [
       "<IPython.core.display.HTML object>"
      ]
     },
     "metadata": {},
     "output_type": "display_data"
    },
    {
     "data": {
      "text/html": [
       "<span style=\"color:blue\"> |-classify function: sigmoid</span>"
      ],
      "text/plain": [
       "<IPython.core.display.HTML object>"
      ]
     },
     "metadata": {},
     "output_type": "display_data"
    },
    {
     "data": {
      "text/html": [
       "<span style=\"color:cyan\"> |-dropout 1: 0.5</span>"
      ],
      "text/plain": [
       "<IPython.core.display.HTML object>"
      ]
     },
     "metadata": {},
     "output_type": "display_data"
    },
    {
     "data": {
      "text/html": [
       "<span style=\"color:blue\"> |-dropout 2: 0.2</span>"
      ],
      "text/plain": [
       "<IPython.core.display.HTML object>"
      ]
     },
     "metadata": {},
     "output_type": "display_data"
    },
    {
     "data": {
      "text/html": [
       "<span style=\"color:cyan\"> |-dropout 3: 0.2</span>"
      ],
      "text/plain": [
       "<IPython.core.display.HTML object>"
      ]
     },
     "metadata": {},
     "output_type": "display_data"
    },
    {
     "data": {
      "text/html": [
       "<span style=\"color:blue\"> |-learn rate: 0.0001</span>"
      ],
      "text/plain": [
       "<IPython.core.display.HTML object>"
      ]
     },
     "metadata": {},
     "output_type": "display_data"
    },
    {
     "data": {
      "text/html": [
       "<span style=\"color:cyan\"> |-tuner/bracket: 1</span>"
      ],
      "text/plain": [
       "<IPython.core.display.HTML object>"
      ]
     },
     "metadata": {},
     "output_type": "display_data"
    },
    {
     "data": {
      "text/html": [
       "<span style=\"color:blue\"> |-tuner/epochs: 6</span>"
      ],
      "text/plain": [
       "<IPython.core.display.HTML object>"
      ]
     },
     "metadata": {},
     "output_type": "display_data"
    },
    {
     "data": {
      "text/html": [
       "<span style=\"color:cyan\"> |-tuner/initial_epoch: 0</span>"
      ],
      "text/plain": [
       "<IPython.core.display.HTML object>"
      ]
     },
     "metadata": {},
     "output_type": "display_data"
    },
    {
     "data": {
      "text/html": [
       "<span style=\"color:blue\"> |-tuner/round: 0</span>"
      ],
      "text/plain": [
       "<IPython.core.display.HTML object>"
      ]
     },
     "metadata": {},
     "output_type": "display_data"
    },
    {
     "data": {
      "text/html": [
       "<span style=\"color:cyan\"> |-units 1: 1024</span>"
      ],
      "text/plain": [
       "<IPython.core.display.HTML object>"
      ]
     },
     "metadata": {},
     "output_type": "display_data"
    },
    {
     "data": {
      "text/html": [
       "<span style=\"color:blue\"> |-units 2: 512</span>"
      ],
      "text/plain": [
       "<IPython.core.display.HTML object>"
      ]
     },
     "metadata": {},
     "output_type": "display_data"
    },
    {
     "data": {
      "text/html": [
       "<span style=\"color:cyan\"> |-units 3: 16</span>"
      ],
      "text/plain": [
       "<IPython.core.display.HTML object>"
      ]
     },
     "metadata": {},
     "output_type": "display_data"
    },
    {
     "name": "stdout",
     "output_type": "stream",
     "text": [
      "Epoch 1/6\n",
      "596/596 [==============================] - 3s 4ms/step - loss: 0.6939 - binary_crossentropy: 0.6939 - accuracy: 0.3889 - val_loss: 0.6931 - val_binary_crossentropy: 0.6931 - val_accuracy: 0.3953\n",
      "Epoch 2/6\n",
      "596/596 [==============================] - 2s 4ms/step - loss: 0.6931 - binary_crossentropy: 0.6931 - accuracy: 0.3937 - val_loss: 0.6931 - val_binary_crossentropy: 0.6931 - val_accuracy: 0.3953\n",
      "Epoch 3/6\n",
      "596/596 [==============================] - 2s 4ms/step - loss: 0.6931 - binary_crossentropy: 0.6931 - accuracy: 0.3937 - val_loss: 0.6931 - val_binary_crossentropy: 0.6931 - val_accuracy: 0.3953\n",
      "Epoch 4/6\n",
      "596/596 [==============================] - 2s 4ms/step - loss: 0.6931 - binary_crossentropy: 0.6931 - accuracy: 0.3937 - val_loss: 0.6931 - val_binary_crossentropy: 0.6931 - val_accuracy: 0.3953\n",
      "Epoch 5/6\n",
      "596/596 [==============================] - 2s 3ms/step - loss: 0.6931 - binary_crossentropy: 0.6931 - accuracy: 0.3937 - val_loss: 0.6931 - val_binary_crossentropy: 0.6931 - val_accuracy: 0.3953\n",
      "Epoch 6/6\n",
      "596/596 [==============================] - 3s 4ms/step - loss: 0.6931 - binary_crossentropy: 0.6931 - accuracy: 0.3937 - val_loss: 0.6931 - val_binary_crossentropy: 0.6931 - val_accuracy: 0.3953\n",
      "Epoch 1/6\n",
      "596/596 [==============================] - 3s 4ms/step - loss: 0.6939 - binary_crossentropy: 0.6939 - accuracy: 0.3897 - val_loss: 0.6931 - val_binary_crossentropy: 0.6931 - val_accuracy: 0.3953\n",
      "Epoch 2/6\n",
      "596/596 [==============================] - 2s 3ms/step - loss: 0.6931 - binary_crossentropy: 0.6931 - accuracy: 0.3937 - val_loss: 0.6931 - val_binary_crossentropy: 0.6931 - val_accuracy: 0.3953\n",
      "Epoch 3/6\n",
      "596/596 [==============================] - 2s 4ms/step - loss: 0.6931 - binary_crossentropy: 0.6931 - accuracy: 0.3937 - val_loss: 0.6931 - val_binary_crossentropy: 0.6931 - val_accuracy: 0.3953\n",
      "Epoch 4/6\n",
      "596/596 [==============================] - 2s 4ms/step - loss: 0.6931 - binary_crossentropy: 0.6931 - accuracy: 0.3937 - val_loss: 0.6931 - val_binary_crossentropy: 0.6931 - val_accuracy: 0.3953\n",
      "Epoch 5/6\n",
      "596/596 [==============================] - 2s 4ms/step - loss: 0.6931 - binary_crossentropy: 0.6931 - accuracy: 0.3937 - val_loss: 0.6931 - val_binary_crossentropy: 0.6931 - val_accuracy: 0.3953\n",
      "Epoch 6/6\n",
      "596/596 [==============================] - 2s 4ms/step - loss: 0.6931 - binary_crossentropy: 0.6931 - accuracy: 0.3937 - val_loss: 0.6931 - val_binary_crossentropy: 0.6931 - val_accuracy: 0.3953\n"
     ]
    },
    {
     "data": {
      "text/html": [
       "<span style=\"color:#4527A0\"><h1 style=\"font-size:18px\">Trial complete</h1></span>"
      ],
      "text/plain": [
       "<IPython.core.display.HTML object>"
      ]
     },
     "metadata": {},
     "output_type": "display_data"
    },
    {
     "data": {
      "text/html": [
       "<span style=\"color:#4527A0\"><h1 style=\"font-size:18px\">Trial summary</h1></span>"
      ],
      "text/plain": [
       "<IPython.core.display.HTML object>"
      ]
     },
     "metadata": {},
     "output_type": "display_data"
    },
    {
     "data": {
      "text/html": [
       "<span style=\"color:cyan\"> |-Trial ID: 8eae32abb428a6549d9f1bc00dc62b1a</span>"
      ],
      "text/plain": [
       "<IPython.core.display.HTML object>"
      ]
     },
     "metadata": {},
     "output_type": "display_data"
    },
    {
     "data": {
      "text/html": [
       "<span style=\"color:cyan\"> |-Score: 0.6931459307670593</span>"
      ],
      "text/plain": [
       "<IPython.core.display.HTML object>"
      ]
     },
     "metadata": {},
     "output_type": "display_data"
    },
    {
     "data": {
      "text/html": [
       "<span style=\"color:cyan\"> |-Best step: 0</span>"
      ],
      "text/plain": [
       "<IPython.core.display.HTML object>"
      ]
     },
     "metadata": {},
     "output_type": "display_data"
    },
    {
     "data": {
      "text/html": [
       "<span style=\"color:#7E57C2\"><h2 style=\"font-size:16px\">Hyperparameters:</h2></span>"
      ],
      "text/plain": [
       "<IPython.core.display.HTML object>"
      ]
     },
     "metadata": {},
     "output_type": "display_data"
    },
    {
     "data": {
      "text/html": [
       "<span style=\"color:cyan\"> |-activation function 1: relu</span>"
      ],
      "text/plain": [
       "<IPython.core.display.HTML object>"
      ]
     },
     "metadata": {},
     "output_type": "display_data"
    },
    {
     "data": {
      "text/html": [
       "<span style=\"color:blue\"> |-activation function 2: elu</span>"
      ],
      "text/plain": [
       "<IPython.core.display.HTML object>"
      ]
     },
     "metadata": {},
     "output_type": "display_data"
    },
    {
     "data": {
      "text/html": [
       "<span style=\"color:cyan\"> |-activation function 3: relu</span>"
      ],
      "text/plain": [
       "<IPython.core.display.HTML object>"
      ]
     },
     "metadata": {},
     "output_type": "display_data"
    },
    {
     "data": {
      "text/html": [
       "<span style=\"color:blue\"> |-classify function: sigmoid</span>"
      ],
      "text/plain": [
       "<IPython.core.display.HTML object>"
      ]
     },
     "metadata": {},
     "output_type": "display_data"
    },
    {
     "data": {
      "text/html": [
       "<span style=\"color:cyan\"> |-dropout 1: 0.5</span>"
      ],
      "text/plain": [
       "<IPython.core.display.HTML object>"
      ]
     },
     "metadata": {},
     "output_type": "display_data"
    },
    {
     "data": {
      "text/html": [
       "<span style=\"color:blue\"> |-dropout 2: 0.2</span>"
      ],
      "text/plain": [
       "<IPython.core.display.HTML object>"
      ]
     },
     "metadata": {},
     "output_type": "display_data"
    },
    {
     "data": {
      "text/html": [
       "<span style=\"color:cyan\"> |-dropout 3: 0.5</span>"
      ],
      "text/plain": [
       "<IPython.core.display.HTML object>"
      ]
     },
     "metadata": {},
     "output_type": "display_data"
    },
    {
     "data": {
      "text/html": [
       "<span style=\"color:blue\"> |-learn rate: 0.01</span>"
      ],
      "text/plain": [
       "<IPython.core.display.HTML object>"
      ]
     },
     "metadata": {},
     "output_type": "display_data"
    },
    {
     "data": {
      "text/html": [
       "<span style=\"color:cyan\"> |-tuner/bracket: 1</span>"
      ],
      "text/plain": [
       "<IPython.core.display.HTML object>"
      ]
     },
     "metadata": {},
     "output_type": "display_data"
    },
    {
     "data": {
      "text/html": [
       "<span style=\"color:blue\"> |-tuner/epochs: 6</span>"
      ],
      "text/plain": [
       "<IPython.core.display.HTML object>"
      ]
     },
     "metadata": {},
     "output_type": "display_data"
    },
    {
     "data": {
      "text/html": [
       "<span style=\"color:cyan\"> |-tuner/initial_epoch: 0</span>"
      ],
      "text/plain": [
       "<IPython.core.display.HTML object>"
      ]
     },
     "metadata": {},
     "output_type": "display_data"
    },
    {
     "data": {
      "text/html": [
       "<span style=\"color:blue\"> |-tuner/round: 0</span>"
      ],
      "text/plain": [
       "<IPython.core.display.HTML object>"
      ]
     },
     "metadata": {},
     "output_type": "display_data"
    },
    {
     "data": {
      "text/html": [
       "<span style=\"color:cyan\"> |-units 1: 1024</span>"
      ],
      "text/plain": [
       "<IPython.core.display.HTML object>"
      ]
     },
     "metadata": {},
     "output_type": "display_data"
    },
    {
     "data": {
      "text/html": [
       "<span style=\"color:blue\"> |-units 2: 32</span>"
      ],
      "text/plain": [
       "<IPython.core.display.HTML object>"
      ]
     },
     "metadata": {},
     "output_type": "display_data"
    },
    {
     "data": {
      "text/html": [
       "<span style=\"color:cyan\"> |-units 3: 256</span>"
      ],
      "text/plain": [
       "<IPython.core.display.HTML object>"
      ]
     },
     "metadata": {},
     "output_type": "display_data"
    },
    {
     "name": "stdout",
     "output_type": "stream",
     "text": [
      "Epoch 1/6\n",
      "596/596 [==============================] - 2s 4ms/step - loss: 0.8375 - binary_crossentropy: 0.8374 - accuracy: 0.0071 - val_loss: 0.6979 - val_binary_crossentropy: 0.6979 - val_accuracy: 0.0311\n",
      "Epoch 2/6\n",
      "596/596 [==============================] - 3s 4ms/step - loss: 0.7134 - binary_crossentropy: 0.7134 - accuracy: 0.0027 - val_loss: 0.6933 - val_binary_crossentropy: 0.6933 - val_accuracy: 0.0311\n",
      "Epoch 3/6\n",
      "596/596 [==============================] - 2s 4ms/step - loss: 0.6993 - binary_crossentropy: 0.6993 - accuracy: 0.0031 - val_loss: 0.6932 - val_binary_crossentropy: 0.6932 - val_accuracy: 0.0311\n",
      "Epoch 4/6\n",
      "596/596 [==============================] - 3s 5ms/step - loss: 0.6959 - binary_crossentropy: 0.6959 - accuracy: 0.0037 - val_loss: 0.6932 - val_binary_crossentropy: 0.6932 - val_accuracy: 0.0311\n",
      "Epoch 5/6\n",
      "596/596 [==============================] - 3s 5ms/step - loss: 0.6949 - binary_crossentropy: 0.6949 - accuracy: 0.0041 - val_loss: 0.6932 - val_binary_crossentropy: 0.6932 - val_accuracy: 0.0311\n",
      "Epoch 6/6\n",
      "596/596 [==============================] - 3s 6ms/step - loss: 0.6944 - binary_crossentropy: 0.6944 - accuracy: 0.0046 - val_loss: 0.6931 - val_binary_crossentropy: 0.6931 - val_accuracy: 0.0311\n",
      "Epoch 1/6\n",
      "596/596 [==============================] - 3s 6ms/step - loss: 0.8425 - binary_crossentropy: 0.8424 - accuracy: 0.0034 - val_loss: 0.7009 - val_binary_crossentropy: 0.7009 - val_accuracy: 0.0029\n",
      "Epoch 2/6\n",
      "596/596 [==============================] - 3s 5ms/step - loss: 0.7195 - binary_crossentropy: 0.7195 - accuracy: 0.0028 - val_loss: 0.6934 - val_binary_crossentropy: 0.6934 - val_accuracy: 0.0023\n",
      "Epoch 3/6\n",
      "596/596 [==============================] - 3s 5ms/step - loss: 0.7015 - binary_crossentropy: 0.7015 - accuracy: 0.0028 - val_loss: 0.6932 - val_binary_crossentropy: 0.6932 - val_accuracy: 0.0025\n",
      "Epoch 4/6\n",
      "596/596 [==============================] - 3s 4ms/step - loss: 0.6973 - binary_crossentropy: 0.6973 - accuracy: 0.0018 - val_loss: 0.6932 - val_binary_crossentropy: 0.6932 - val_accuracy: 0.0025\n",
      "Epoch 5/6\n",
      "596/596 [==============================] - 3s 5ms/step - loss: 0.6961 - binary_crossentropy: 0.6961 - accuracy: 0.0023 - val_loss: 0.6932 - val_binary_crossentropy: 0.6932 - val_accuracy: 0.0025\n",
      "Epoch 6/6\n",
      "596/596 [==============================] - 3s 5ms/step - loss: 0.6955 - binary_crossentropy: 0.6955 - accuracy: 0.0017 - val_loss: 0.6931 - val_binary_crossentropy: 0.6931 - val_accuracy: 0.0025\n"
     ]
    },
    {
     "data": {
      "text/html": [
       "<span style=\"color:#4527A0\"><h1 style=\"font-size:18px\">Trial complete</h1></span>"
      ],
      "text/plain": [
       "<IPython.core.display.HTML object>"
      ]
     },
     "metadata": {},
     "output_type": "display_data"
    },
    {
     "data": {
      "text/html": [
       "<span style=\"color:#4527A0\"><h1 style=\"font-size:18px\">Trial summary</h1></span>"
      ],
      "text/plain": [
       "<IPython.core.display.HTML object>"
      ]
     },
     "metadata": {},
     "output_type": "display_data"
    },
    {
     "data": {
      "text/html": [
       "<span style=\"color:cyan\"> |-Trial ID: 41adfcd79c517458f093a36bb8aa95ef</span>"
      ],
      "text/plain": [
       "<IPython.core.display.HTML object>"
      ]
     },
     "metadata": {},
     "output_type": "display_data"
    },
    {
     "data": {
      "text/html": [
       "<span style=\"color:cyan\"> |-Score: 0.6949389278888702</span>"
      ],
      "text/plain": [
       "<IPython.core.display.HTML object>"
      ]
     },
     "metadata": {},
     "output_type": "display_data"
    },
    {
     "data": {
      "text/html": [
       "<span style=\"color:cyan\"> |-Best step: 0</span>"
      ],
      "text/plain": [
       "<IPython.core.display.HTML object>"
      ]
     },
     "metadata": {},
     "output_type": "display_data"
    },
    {
     "data": {
      "text/html": [
       "<span style=\"color:#7E57C2\"><h2 style=\"font-size:16px\">Hyperparameters:</h2></span>"
      ],
      "text/plain": [
       "<IPython.core.display.HTML object>"
      ]
     },
     "metadata": {},
     "output_type": "display_data"
    },
    {
     "data": {
      "text/html": [
       "<span style=\"color:cyan\"> |-activation function 1: elu</span>"
      ],
      "text/plain": [
       "<IPython.core.display.HTML object>"
      ]
     },
     "metadata": {},
     "output_type": "display_data"
    },
    {
     "data": {
      "text/html": [
       "<span style=\"color:blue\"> |-activation function 2: relu</span>"
      ],
      "text/plain": [
       "<IPython.core.display.HTML object>"
      ]
     },
     "metadata": {},
     "output_type": "display_data"
    },
    {
     "data": {
      "text/html": [
       "<span style=\"color:cyan\"> |-activation function 3: elu</span>"
      ],
      "text/plain": [
       "<IPython.core.display.HTML object>"
      ]
     },
     "metadata": {},
     "output_type": "display_data"
    },
    {
     "data": {
      "text/html": [
       "<span style=\"color:blue\"> |-classify function: sigmoid</span>"
      ],
      "text/plain": [
       "<IPython.core.display.HTML object>"
      ]
     },
     "metadata": {},
     "output_type": "display_data"
    },
    {
     "data": {
      "text/html": [
       "<span style=\"color:cyan\"> |-dropout 1: 0.35</span>"
      ],
      "text/plain": [
       "<IPython.core.display.HTML object>"
      ]
     },
     "metadata": {},
     "output_type": "display_data"
    },
    {
     "data": {
      "text/html": [
       "<span style=\"color:blue\"> |-dropout 2: 0.2</span>"
      ],
      "text/plain": [
       "<IPython.core.display.HTML object>"
      ]
     },
     "metadata": {},
     "output_type": "display_data"
    },
    {
     "data": {
      "text/html": [
       "<span style=\"color:cyan\"> |-dropout 3: 0.5</span>"
      ],
      "text/plain": [
       "<IPython.core.display.HTML object>"
      ]
     },
     "metadata": {},
     "output_type": "display_data"
    },
    {
     "data": {
      "text/html": [
       "<span style=\"color:blue\"> |-learn rate: 0.0001</span>"
      ],
      "text/plain": [
       "<IPython.core.display.HTML object>"
      ]
     },
     "metadata": {},
     "output_type": "display_data"
    },
    {
     "data": {
      "text/html": [
       "<span style=\"color:cyan\"> |-tuner/bracket: 1</span>"
      ],
      "text/plain": [
       "<IPython.core.display.HTML object>"
      ]
     },
     "metadata": {},
     "output_type": "display_data"
    },
    {
     "data": {
      "text/html": [
       "<span style=\"color:blue\"> |-tuner/epochs: 6</span>"
      ],
      "text/plain": [
       "<IPython.core.display.HTML object>"
      ]
     },
     "metadata": {},
     "output_type": "display_data"
    },
    {
     "data": {
      "text/html": [
       "<span style=\"color:cyan\"> |-tuner/initial_epoch: 0</span>"
      ],
      "text/plain": [
       "<IPython.core.display.HTML object>"
      ]
     },
     "metadata": {},
     "output_type": "display_data"
    },
    {
     "data": {
      "text/html": [
       "<span style=\"color:blue\"> |-tuner/round: 0</span>"
      ],
      "text/plain": [
       "<IPython.core.display.HTML object>"
      ]
     },
     "metadata": {},
     "output_type": "display_data"
    },
    {
     "data": {
      "text/html": [
       "<span style=\"color:cyan\"> |-units 1: 64</span>"
      ],
      "text/plain": [
       "<IPython.core.display.HTML object>"
      ]
     },
     "metadata": {},
     "output_type": "display_data"
    },
    {
     "data": {
      "text/html": [
       "<span style=\"color:blue\"> |-units 2: 128</span>"
      ],
      "text/plain": [
       "<IPython.core.display.HTML object>"
      ]
     },
     "metadata": {},
     "output_type": "display_data"
    },
    {
     "data": {
      "text/html": [
       "<span style=\"color:cyan\"> |-units 3: 16</span>"
      ],
      "text/plain": [
       "<IPython.core.display.HTML object>"
      ]
     },
     "metadata": {},
     "output_type": "display_data"
    },
    {
     "name": "stdout",
     "output_type": "stream",
     "text": [
      "Epoch 7/18\n",
      "596/596 [==============================] - 3s 6ms/step - loss: 0.6938 - binary_crossentropy: 0.6938 - accuracy: 0.3900 - val_loss: 0.6931 - val_binary_crossentropy: 0.6931 - val_accuracy: 0.3953\n",
      "Epoch 8/18\n",
      "596/596 [==============================] - 2s 4ms/step - loss: 0.6931 - binary_crossentropy: 0.6931 - accuracy: 0.3937 - val_loss: 0.6931 - val_binary_crossentropy: 0.6931 - val_accuracy: 0.3953\n",
      "Epoch 9/18\n",
      "596/596 [==============================] - 2s 3ms/step - loss: 0.6931 - binary_crossentropy: 0.6931 - accuracy: 0.3937 - val_loss: 0.6931 - val_binary_crossentropy: 0.6931 - val_accuracy: 0.3953\n",
      "Epoch 10/18\n",
      "596/596 [==============================] - 2s 4ms/step - loss: 0.6931 - binary_crossentropy: 0.6931 - accuracy: 0.3937 - val_loss: 0.6931 - val_binary_crossentropy: 0.6931 - val_accuracy: 0.3953\n",
      "Epoch 11/18\n",
      "596/596 [==============================] - 3s 4ms/step - loss: 0.6931 - binary_crossentropy: 0.6931 - accuracy: 0.3937 - val_loss: 0.6931 - val_binary_crossentropy: 0.6931 - val_accuracy: 0.3953\n",
      "Epoch 12/18\n",
      "596/596 [==============================] - 2s 4ms/step - loss: 0.6931 - binary_crossentropy: 0.6931 - accuracy: 0.3937 - val_loss: 0.6931 - val_binary_crossentropy: 0.6931 - val_accuracy: 0.3953\n",
      "Epoch 13/18\n",
      "596/596 [==============================] - 3s 5ms/step - loss: 0.6931 - binary_crossentropy: 0.6931 - accuracy: 0.3937 - val_loss: 0.6931 - val_binary_crossentropy: 0.6931 - val_accuracy: 0.3953\n",
      "Epoch 14/18\n",
      "596/596 [==============================] - 2s 4ms/step - loss: 0.6931 - binary_crossentropy: 0.6931 - accuracy: 0.3937 - val_loss: 0.6931 - val_binary_crossentropy: 0.6931 - val_accuracy: 0.3953\n",
      "Epoch 15/18\n",
      "596/596 [==============================] - 2s 4ms/step - loss: 0.6931 - binary_crossentropy: 0.6931 - accuracy: 0.3937 - val_loss: 0.6931 - val_binary_crossentropy: 0.6931 - val_accuracy: 0.3953\n",
      "Epoch 16/18\n",
      "596/596 [==============================] - 2s 4ms/step - loss: 0.6931 - binary_crossentropy: 0.6931 - accuracy: 0.3937 - val_loss: 0.6931 - val_binary_crossentropy: 0.6931 - val_accuracy: 0.3953\n",
      "Epoch 17/18\n",
      "596/596 [==============================] - 3s 5ms/step - loss: 0.6931 - binary_crossentropy: 0.6931 - accuracy: 0.3937 - val_loss: 0.6931 - val_binary_crossentropy: 0.6931 - val_accuracy: 0.3953\n",
      "Epoch 18/18\n",
      "596/596 [==============================] - 2s 4ms/step - loss: 0.6931 - binary_crossentropy: 0.6931 - accuracy: 0.3937 - val_loss: 0.6931 - val_binary_crossentropy: 0.6931 - val_accuracy: 0.3953\n",
      "Epoch 7/18\n",
      "596/596 [==============================] - 2s 4ms/step - loss: 0.6939 - binary_crossentropy: 0.6939 - accuracy: 0.3901 - val_loss: 0.6931 - val_binary_crossentropy: 0.6931 - val_accuracy: 0.3953\n",
      "Epoch 8/18\n",
      "596/596 [==============================] - 2s 4ms/step - loss: 0.6931 - binary_crossentropy: 0.6931 - accuracy: 0.3937 - val_loss: 0.6931 - val_binary_crossentropy: 0.6931 - val_accuracy: 0.3953\n",
      "Epoch 9/18\n",
      "596/596 [==============================] - 2s 4ms/step - loss: 0.6931 - binary_crossentropy: 0.6931 - accuracy: 0.3937 - val_loss: 0.6931 - val_binary_crossentropy: 0.6931 - val_accuracy: 0.3953\n",
      "Epoch 10/18\n",
      "596/596 [==============================] - 2s 4ms/step - loss: 0.6931 - binary_crossentropy: 0.6931 - accuracy: 0.3937 - val_loss: 0.6931 - val_binary_crossentropy: 0.6931 - val_accuracy: 0.3953\n",
      "Epoch 11/18\n",
      "596/596 [==============================] - 2s 4ms/step - loss: 0.6931 - binary_crossentropy: 0.6931 - accuracy: 0.3937 - val_loss: 0.6931 - val_binary_crossentropy: 0.6931 - val_accuracy: 0.3953\n",
      "Epoch 12/18\n",
      "596/596 [==============================] - 3s 5ms/step - loss: 0.6931 - binary_crossentropy: 0.6931 - accuracy: 0.3937 - val_loss: 0.6931 - val_binary_crossentropy: 0.6931 - val_accuracy: 0.3953\n",
      "Epoch 13/18\n",
      "596/596 [==============================] - 2s 4ms/step - loss: 0.6931 - binary_crossentropy: 0.6931 - accuracy: 0.3937 - val_loss: 0.6931 - val_binary_crossentropy: 0.6931 - val_accuracy: 0.3953\n",
      "Epoch 14/18\n",
      "596/596 [==============================] - 2s 4ms/step - loss: 0.6931 - binary_crossentropy: 0.6931 - accuracy: 0.3937 - val_loss: 0.6931 - val_binary_crossentropy: 0.6931 - val_accuracy: 0.3953\n",
      "Epoch 15/18\n",
      "596/596 [==============================] - 2s 4ms/step - loss: 0.6931 - binary_crossentropy: 0.6931 - accuracy: 0.3937 - val_loss: 0.6931 - val_binary_crossentropy: 0.6931 - val_accuracy: 0.3953\n",
      "Epoch 16/18\n",
      "596/596 [==============================] - 2s 4ms/step - loss: 0.6931 - binary_crossentropy: 0.6931 - accuracy: 0.3937 - val_loss: 0.6931 - val_binary_crossentropy: 0.6931 - val_accuracy: 0.3953\n",
      "Epoch 17/18\n",
      "596/596 [==============================] - 2s 3ms/step - loss: 0.6931 - binary_crossentropy: 0.6931 - accuracy: 0.3937 - val_loss: 0.6931 - val_binary_crossentropy: 0.6931 - val_accuracy: 0.3953\n",
      "Epoch 18/18\n",
      "596/596 [==============================] - 2s 3ms/step - loss: 0.6931 - binary_crossentropy: 0.6931 - accuracy: 0.3937 - val_loss: 0.6931 - val_binary_crossentropy: 0.6931 - val_accuracy: 0.3953\n"
     ]
    },
    {
     "data": {
      "text/html": [
       "<span style=\"color:#4527A0\"><h1 style=\"font-size:18px\">Trial complete</h1></span>"
      ],
      "text/plain": [
       "<IPython.core.display.HTML object>"
      ]
     },
     "metadata": {},
     "output_type": "display_data"
    },
    {
     "data": {
      "text/html": [
       "<span style=\"color:#4527A0\"><h1 style=\"font-size:18px\">Trial summary</h1></span>"
      ],
      "text/plain": [
       "<IPython.core.display.HTML object>"
      ]
     },
     "metadata": {},
     "output_type": "display_data"
    },
    {
     "data": {
      "text/html": [
       "<span style=\"color:cyan\"> |-Trial ID: 1a0ac6efd85b50f59b5c22de74e4f6eb</span>"
      ],
      "text/plain": [
       "<IPython.core.display.HTML object>"
      ]
     },
     "metadata": {},
     "output_type": "display_data"
    },
    {
     "data": {
      "text/html": [
       "<span style=\"color:cyan\"> |-Score: 0.6931459307670593</span>"
      ],
      "text/plain": [
       "<IPython.core.display.HTML object>"
      ]
     },
     "metadata": {},
     "output_type": "display_data"
    },
    {
     "data": {
      "text/html": [
       "<span style=\"color:cyan\"> |-Best step: 0</span>"
      ],
      "text/plain": [
       "<IPython.core.display.HTML object>"
      ]
     },
     "metadata": {},
     "output_type": "display_data"
    },
    {
     "data": {
      "text/html": [
       "<span style=\"color:#7E57C2\"><h2 style=\"font-size:16px\">Hyperparameters:</h2></span>"
      ],
      "text/plain": [
       "<IPython.core.display.HTML object>"
      ]
     },
     "metadata": {},
     "output_type": "display_data"
    },
    {
     "data": {
      "text/html": [
       "<span style=\"color:cyan\"> |-activation function 1: relu</span>"
      ],
      "text/plain": [
       "<IPython.core.display.HTML object>"
      ]
     },
     "metadata": {},
     "output_type": "display_data"
    },
    {
     "data": {
      "text/html": [
       "<span style=\"color:blue\"> |-activation function 2: elu</span>"
      ],
      "text/plain": [
       "<IPython.core.display.HTML object>"
      ]
     },
     "metadata": {},
     "output_type": "display_data"
    },
    {
     "data": {
      "text/html": [
       "<span style=\"color:cyan\"> |-activation function 3: relu</span>"
      ],
      "text/plain": [
       "<IPython.core.display.HTML object>"
      ]
     },
     "metadata": {},
     "output_type": "display_data"
    },
    {
     "data": {
      "text/html": [
       "<span style=\"color:blue\"> |-classify function: sigmoid</span>"
      ],
      "text/plain": [
       "<IPython.core.display.HTML object>"
      ]
     },
     "metadata": {},
     "output_type": "display_data"
    },
    {
     "data": {
      "text/html": [
       "<span style=\"color:cyan\"> |-dropout 1: 0.5</span>"
      ],
      "text/plain": [
       "<IPython.core.display.HTML object>"
      ]
     },
     "metadata": {},
     "output_type": "display_data"
    },
    {
     "data": {
      "text/html": [
       "<span style=\"color:blue\"> |-dropout 2: 0.2</span>"
      ],
      "text/plain": [
       "<IPython.core.display.HTML object>"
      ]
     },
     "metadata": {},
     "output_type": "display_data"
    },
    {
     "data": {
      "text/html": [
       "<span style=\"color:cyan\"> |-dropout 3: 0.5</span>"
      ],
      "text/plain": [
       "<IPython.core.display.HTML object>"
      ]
     },
     "metadata": {},
     "output_type": "display_data"
    },
    {
     "data": {
      "text/html": [
       "<span style=\"color:blue\"> |-learn rate: 0.01</span>"
      ],
      "text/plain": [
       "<IPython.core.display.HTML object>"
      ]
     },
     "metadata": {},
     "output_type": "display_data"
    },
    {
     "data": {
      "text/html": [
       "<span style=\"color:cyan\"> |-tuner/bracket: 1</span>"
      ],
      "text/plain": [
       "<IPython.core.display.HTML object>"
      ]
     },
     "metadata": {},
     "output_type": "display_data"
    },
    {
     "data": {
      "text/html": [
       "<span style=\"color:blue\"> |-tuner/epochs: 18</span>"
      ],
      "text/plain": [
       "<IPython.core.display.HTML object>"
      ]
     },
     "metadata": {},
     "output_type": "display_data"
    },
    {
     "data": {
      "text/html": [
       "<span style=\"color:cyan\"> |-tuner/initial_epoch: 6</span>"
      ],
      "text/plain": [
       "<IPython.core.display.HTML object>"
      ]
     },
     "metadata": {},
     "output_type": "display_data"
    },
    {
     "data": {
      "text/html": [
       "<span style=\"color:blue\"> |-tuner/round: 1</span>"
      ],
      "text/plain": [
       "<IPython.core.display.HTML object>"
      ]
     },
     "metadata": {},
     "output_type": "display_data"
    },
    {
     "data": {
      "text/html": [
       "<span style=\"color:cyan\"> |-tuner/trial_id: 8eae32abb428a6549d9f1bc00dc62b1a</span>"
      ],
      "text/plain": [
       "<IPython.core.display.HTML object>"
      ]
     },
     "metadata": {},
     "output_type": "display_data"
    },
    {
     "data": {
      "text/html": [
       "<span style=\"color:blue\"> |-units 1: 1024</span>"
      ],
      "text/plain": [
       "<IPython.core.display.HTML object>"
      ]
     },
     "metadata": {},
     "output_type": "display_data"
    },
    {
     "data": {
      "text/html": [
       "<span style=\"color:cyan\"> |-units 2: 32</span>"
      ],
      "text/plain": [
       "<IPython.core.display.HTML object>"
      ]
     },
     "metadata": {},
     "output_type": "display_data"
    },
    {
     "data": {
      "text/html": [
       "<span style=\"color:blue\"> |-units 3: 256</span>"
      ],
      "text/plain": [
       "<IPython.core.display.HTML object>"
      ]
     },
     "metadata": {},
     "output_type": "display_data"
    },
    {
     "name": "stdout",
     "output_type": "stream",
     "text": [
      "Epoch 7/18\n",
      "596/596 [==============================] - 2s 4ms/step - loss: 0.7089 - binary_crossentropy: 0.7089 - accuracy: 0.0067 - val_loss: 0.6931 - val_binary_crossentropy: 0.6931 - val_accuracy: 0.0174\n",
      "Epoch 8/18\n",
      "596/596 [==============================] - 2s 4ms/step - loss: 0.6933 - binary_crossentropy: 0.6933 - accuracy: 0.0098 - val_loss: 0.6931 - val_binary_crossentropy: 0.6931 - val_accuracy: 0.0233\n",
      "Epoch 9/18\n",
      "596/596 [==============================] - 2s 4ms/step - loss: 0.6932 - binary_crossentropy: 0.6932 - accuracy: 0.0134 - val_loss: 0.6931 - val_binary_crossentropy: 0.6931 - val_accuracy: 0.0241\n",
      "Epoch 10/18\n",
      "596/596 [==============================] - 2s 4ms/step - loss: 0.6932 - binary_crossentropy: 0.6932 - accuracy: 0.0204 - val_loss: 0.6931 - val_binary_crossentropy: 0.6931 - val_accuracy: 0.0262\n",
      "Epoch 11/18\n",
      "596/596 [==============================] - 2s 4ms/step - loss: 0.6932 - binary_crossentropy: 0.6932 - accuracy: 0.0281 - val_loss: 0.6931 - val_binary_crossentropy: 0.6931 - val_accuracy: 0.0382\n",
      "Epoch 12/18\n",
      "596/596 [==============================] - 2s 4ms/step - loss: 0.6932 - binary_crossentropy: 0.6932 - accuracy: 0.0409 - val_loss: 0.6931 - val_binary_crossentropy: 0.6931 - val_accuracy: 0.0651\n",
      "Epoch 13/18\n",
      "596/596 [==============================] - 2s 4ms/step - loss: 0.6932 - binary_crossentropy: 0.6932 - accuracy: 0.0597 - val_loss: 0.6931 - val_binary_crossentropy: 0.6931 - val_accuracy: 0.0941\n",
      "Epoch 14/18\n",
      "596/596 [==============================] - 3s 4ms/step - loss: 0.6931 - binary_crossentropy: 0.6931 - accuracy: 0.0611 - val_loss: 0.6931 - val_binary_crossentropy: 0.6931 - val_accuracy: 0.1043\n",
      "Epoch 15/18\n",
      "596/596 [==============================] - 2s 4ms/step - loss: 0.6932 - binary_crossentropy: 0.6932 - accuracy: 0.0693 - val_loss: 0.6931 - val_binary_crossentropy: 0.6931 - val_accuracy: 0.1243\n",
      "Epoch 16/18\n",
      "596/596 [==============================] - 2s 4ms/step - loss: 0.6932 - binary_crossentropy: 0.6932 - accuracy: 0.0840 - val_loss: 0.6931 - val_binary_crossentropy: 0.6931 - val_accuracy: 0.1997\n",
      "Epoch 17/18\n",
      "596/596 [==============================] - 2s 4ms/step - loss: 0.6931 - binary_crossentropy: 0.6931 - accuracy: 0.1193 - val_loss: 0.6931 - val_binary_crossentropy: 0.6931 - val_accuracy: 0.2643\n",
      "Epoch 18/18\n",
      "596/596 [==============================] - 3s 4ms/step - loss: 0.6933 - binary_crossentropy: 0.6933 - accuracy: 0.2325 - val_loss: 0.6931 - val_binary_crossentropy: 0.6931 - val_accuracy: 0.3544\n",
      "Epoch 7/18\n",
      "596/596 [==============================] - 3s 4ms/step - loss: 0.7090 - binary_crossentropy: 0.7090 - accuracy: 0.0063 - val_loss: 0.6933 - val_binary_crossentropy: 0.6933 - val_accuracy: 0.0210\n",
      "Epoch 8/18\n",
      "596/596 [==============================] - 2s 4ms/step - loss: 0.6933 - binary_crossentropy: 0.6933 - accuracy: 0.0195 - val_loss: 0.6931 - val_binary_crossentropy: 0.6931 - val_accuracy: 0.0252\n",
      "Epoch 9/18\n",
      "596/596 [==============================] - 2s 4ms/step - loss: 0.6932 - binary_crossentropy: 0.6932 - accuracy: 0.0332 - val_loss: 0.6931 - val_binary_crossentropy: 0.6931 - val_accuracy: 0.0502\n",
      "Epoch 10/18\n",
      "596/596 [==============================] - 2s 4ms/step - loss: 0.6932 - binary_crossentropy: 0.6932 - accuracy: 0.0535 - val_loss: 0.6931 - val_binary_crossentropy: 0.6931 - val_accuracy: 0.0875\n",
      "Epoch 11/18\n",
      "596/596 [==============================] - 2s 4ms/step - loss: 0.6932 - binary_crossentropy: 0.6932 - accuracy: 0.0683 - val_loss: 0.6931 - val_binary_crossentropy: 0.6931 - val_accuracy: 0.1365\n",
      "Epoch 12/18\n",
      "596/596 [==============================] - 2s 4ms/step - loss: 0.6932 - binary_crossentropy: 0.6932 - accuracy: 0.0968 - val_loss: 0.6931 - val_binary_crossentropy: 0.6931 - val_accuracy: 0.1967\n",
      "Epoch 13/18\n",
      "596/596 [==============================] - 2s 4ms/step - loss: 0.6932 - binary_crossentropy: 0.6932 - accuracy: 0.1109 - val_loss: 0.6931 - val_binary_crossentropy: 0.6931 - val_accuracy: 0.2093\n",
      "Epoch 14/18\n",
      "596/596 [==============================] - 2s 3ms/step - loss: 0.6932 - binary_crossentropy: 0.6932 - accuracy: 0.1256 - val_loss: 0.6931 - val_binary_crossentropy: 0.6931 - val_accuracy: 0.2561\n",
      "Epoch 15/18\n",
      "596/596 [==============================] - 2s 3ms/step - loss: 0.6932 - binary_crossentropy: 0.6932 - accuracy: 0.1426 - val_loss: 0.6931 - val_binary_crossentropy: 0.6931 - val_accuracy: 0.2687\n",
      "Epoch 16/18\n",
      "596/596 [==============================] - 3s 4ms/step - loss: 0.6931 - binary_crossentropy: 0.6931 - accuracy: 0.1489 - val_loss: 0.6931 - val_binary_crossentropy: 0.6931 - val_accuracy: 0.2824\n",
      "Epoch 17/18\n",
      "596/596 [==============================] - 2s 4ms/step - loss: 0.6931 - binary_crossentropy: 0.6931 - accuracy: 0.1648 - val_loss: 0.6931 - val_binary_crossentropy: 0.6931 - val_accuracy: 0.2954\n",
      "Epoch 18/18\n",
      "596/596 [==============================] - 3s 4ms/step - loss: 0.6931 - binary_crossentropy: 0.6931 - accuracy: 0.1732 - val_loss: 0.6931 - val_binary_crossentropy: 0.6931 - val_accuracy: 0.3055\n"
     ]
    },
    {
     "data": {
      "text/html": [
       "<span style=\"color:#4527A0\"><h1 style=\"font-size:18px\">Trial complete</h1></span>"
      ],
      "text/plain": [
       "<IPython.core.display.HTML object>"
      ]
     },
     "metadata": {},
     "output_type": "display_data"
    },
    {
     "data": {
      "text/html": [
       "<span style=\"color:#4527A0\"><h1 style=\"font-size:18px\">Trial summary</h1></span>"
      ],
      "text/plain": [
       "<IPython.core.display.HTML object>"
      ]
     },
     "metadata": {},
     "output_type": "display_data"
    },
    {
     "data": {
      "text/html": [
       "<span style=\"color:cyan\"> |-Trial ID: 761ba16e3ff6cf7fe503ba7b9ee310b3</span>"
      ],
      "text/plain": [
       "<IPython.core.display.HTML object>"
      ]
     },
     "metadata": {},
     "output_type": "display_data"
    },
    {
     "data": {
      "text/html": [
       "<span style=\"color:cyan\"> |-Score: 0.6931461095809937</span>"
      ],
      "text/plain": [
       "<IPython.core.display.HTML object>"
      ]
     },
     "metadata": {},
     "output_type": "display_data"
    },
    {
     "data": {
      "text/html": [
       "<span style=\"color:cyan\"> |-Best step: 0</span>"
      ],
      "text/plain": [
       "<IPython.core.display.HTML object>"
      ]
     },
     "metadata": {},
     "output_type": "display_data"
    },
    {
     "data": {
      "text/html": [
       "<span style=\"color:#7E57C2\"><h2 style=\"font-size:16px\">Hyperparameters:</h2></span>"
      ],
      "text/plain": [
       "<IPython.core.display.HTML object>"
      ]
     },
     "metadata": {},
     "output_type": "display_data"
    },
    {
     "data": {
      "text/html": [
       "<span style=\"color:cyan\"> |-activation function 1: elu</span>"
      ],
      "text/plain": [
       "<IPython.core.display.HTML object>"
      ]
     },
     "metadata": {},
     "output_type": "display_data"
    },
    {
     "data": {
      "text/html": [
       "<span style=\"color:blue\"> |-activation function 2: elu</span>"
      ],
      "text/plain": [
       "<IPython.core.display.HTML object>"
      ]
     },
     "metadata": {},
     "output_type": "display_data"
    },
    {
     "data": {
      "text/html": [
       "<span style=\"color:cyan\"> |-activation function 3: elu</span>"
      ],
      "text/plain": [
       "<IPython.core.display.HTML object>"
      ]
     },
     "metadata": {},
     "output_type": "display_data"
    },
    {
     "data": {
      "text/html": [
       "<span style=\"color:blue\"> |-classify function: sigmoid</span>"
      ],
      "text/plain": [
       "<IPython.core.display.HTML object>"
      ]
     },
     "metadata": {},
     "output_type": "display_data"
    },
    {
     "data": {
      "text/html": [
       "<span style=\"color:cyan\"> |-dropout 1: 0.5</span>"
      ],
      "text/plain": [
       "<IPython.core.display.HTML object>"
      ]
     },
     "metadata": {},
     "output_type": "display_data"
    },
    {
     "data": {
      "text/html": [
       "<span style=\"color:blue\"> |-dropout 2: 0.35</span>"
      ],
      "text/plain": [
       "<IPython.core.display.HTML object>"
      ]
     },
     "metadata": {},
     "output_type": "display_data"
    },
    {
     "data": {
      "text/html": [
       "<span style=\"color:cyan\"> |-dropout 3: 0.35</span>"
      ],
      "text/plain": [
       "<IPython.core.display.HTML object>"
      ]
     },
     "metadata": {},
     "output_type": "display_data"
    },
    {
     "data": {
      "text/html": [
       "<span style=\"color:blue\"> |-learn rate: 0.001</span>"
      ],
      "text/plain": [
       "<IPython.core.display.HTML object>"
      ]
     },
     "metadata": {},
     "output_type": "display_data"
    },
    {
     "data": {
      "text/html": [
       "<span style=\"color:cyan\"> |-tuner/bracket: 1</span>"
      ],
      "text/plain": [
       "<IPython.core.display.HTML object>"
      ]
     },
     "metadata": {},
     "output_type": "display_data"
    },
    {
     "data": {
      "text/html": [
       "<span style=\"color:blue\"> |-tuner/epochs: 18</span>"
      ],
      "text/plain": [
       "<IPython.core.display.HTML object>"
      ]
     },
     "metadata": {},
     "output_type": "display_data"
    },
    {
     "data": {
      "text/html": [
       "<span style=\"color:cyan\"> |-tuner/initial_epoch: 6</span>"
      ],
      "text/plain": [
       "<IPython.core.display.HTML object>"
      ]
     },
     "metadata": {},
     "output_type": "display_data"
    },
    {
     "data": {
      "text/html": [
       "<span style=\"color:blue\"> |-tuner/round: 1</span>"
      ],
      "text/plain": [
       "<IPython.core.display.HTML object>"
      ]
     },
     "metadata": {},
     "output_type": "display_data"
    },
    {
     "data": {
      "text/html": [
       "<span style=\"color:cyan\"> |-tuner/trial_id: f689fb7228e196a1bdb6b7c3e8a8478f</span>"
      ],
      "text/plain": [
       "<IPython.core.display.HTML object>"
      ]
     },
     "metadata": {},
     "output_type": "display_data"
    },
    {
     "data": {
      "text/html": [
       "<span style=\"color:blue\"> |-units 1: 1024</span>"
      ],
      "text/plain": [
       "<IPython.core.display.HTML object>"
      ]
     },
     "metadata": {},
     "output_type": "display_data"
    },
    {
     "data": {
      "text/html": [
       "<span style=\"color:cyan\"> |-units 2: 512</span>"
      ],
      "text/plain": [
       "<IPython.core.display.HTML object>"
      ]
     },
     "metadata": {},
     "output_type": "display_data"
    },
    {
     "data": {
      "text/html": [
       "<span style=\"color:blue\"> |-units 3: 16</span>"
      ],
      "text/plain": [
       "<IPython.core.display.HTML object>"
      ]
     },
     "metadata": {},
     "output_type": "display_data"
    },
    {
     "name": "stdout",
     "output_type": "stream",
     "text": [
      "Epoch 1/18\n",
      "596/596 [==============================] - 3s 4ms/step - loss: 0.7000 - binary_crossentropy: 0.7000 - accuracy: 0.0092 - val_loss: 0.6931 - val_binary_crossentropy: 0.6931 - val_accuracy: 0.0334\n",
      "Epoch 2/18\n",
      "596/596 [==============================] - 3s 5ms/step - loss: 0.6932 - binary_crossentropy: 0.6932 - accuracy: 0.0109 - val_loss: 0.6931 - val_binary_crossentropy: 0.6931 - val_accuracy: 0.0655\n",
      "Epoch 3/18\n",
      "596/596 [==============================] - 3s 4ms/step - loss: 0.6931 - binary_crossentropy: 0.6931 - accuracy: 0.0163 - val_loss: 0.6931 - val_binary_crossentropy: 0.6931 - val_accuracy: 0.0831\n",
      "Epoch 4/18\n",
      "596/596 [==============================] - 3s 5ms/step - loss: 0.6931 - binary_crossentropy: 0.6931 - accuracy: 0.0187 - val_loss: 0.6931 - val_binary_crossentropy: 0.6931 - val_accuracy: 0.1436\n",
      "Epoch 5/18\n",
      "596/596 [==============================] - 3s 5ms/step - loss: 0.6931 - binary_crossentropy: 0.6931 - accuracy: 0.0204 - val_loss: 0.6931 - val_binary_crossentropy: 0.6931 - val_accuracy: 0.1516\n",
      "Epoch 6/18\n",
      "596/596 [==============================] - 3s 5ms/step - loss: 0.6931 - binary_crossentropy: 0.6931 - accuracy: 0.0273 - val_loss: 0.6931 - val_binary_crossentropy: 0.6931 - val_accuracy: 0.1678\n",
      "Epoch 7/18\n",
      "596/596 [==============================] - 3s 6ms/step - loss: 0.6931 - binary_crossentropy: 0.6931 - accuracy: 0.0342 - val_loss: 0.6931 - val_binary_crossentropy: 0.6931 - val_accuracy: 0.1822\n",
      "Epoch 8/18\n",
      "596/596 [==============================] - 3s 5ms/step - loss: 0.6931 - binary_crossentropy: 0.6931 - accuracy: 0.0459 - val_loss: 0.6931 - val_binary_crossentropy: 0.6931 - val_accuracy: 0.2221\n",
      "Epoch 9/18\n",
      "596/596 [==============================] - 3s 6ms/step - loss: 0.6931 - binary_crossentropy: 0.6931 - accuracy: 0.0582 - val_loss: 0.6931 - val_binary_crossentropy: 0.6931 - val_accuracy: 0.2272\n",
      "Epoch 10/18\n",
      "596/596 [==============================] - 3s 6ms/step - loss: 0.6931 - binary_crossentropy: 0.6931 - accuracy: 0.0680 - val_loss: 0.6931 - val_binary_crossentropy: 0.6931 - val_accuracy: 0.2379\n",
      "Epoch 11/18\n",
      "596/596 [==============================] - 3s 6ms/step - loss: 0.6931 - binary_crossentropy: 0.6931 - accuracy: 0.0739 - val_loss: 0.6931 - val_binary_crossentropy: 0.6931 - val_accuracy: 0.2522\n",
      "Epoch 12/18\n",
      "596/596 [==============================] - 3s 5ms/step - loss: 0.6931 - binary_crossentropy: 0.6931 - accuracy: 0.0837 - val_loss: 0.6931 - val_binary_crossentropy: 0.6931 - val_accuracy: 0.2767\n",
      "Epoch 13/18\n",
      "596/596 [==============================] - 3s 5ms/step - loss: 0.6931 - binary_crossentropy: 0.6931 - accuracy: 0.1035 - val_loss: 0.6931 - val_binary_crossentropy: 0.6931 - val_accuracy: 0.2939\n",
      "Epoch 14/18\n",
      "596/596 [==============================] - 3s 5ms/step - loss: 0.6931 - binary_crossentropy: 0.6931 - accuracy: 0.1092 - val_loss: 0.6931 - val_binary_crossentropy: 0.6931 - val_accuracy: 0.2941\n",
      "Epoch 15/18\n",
      "596/596 [==============================] - 2s 4ms/step - loss: 0.6931 - binary_crossentropy: 0.6931 - accuracy: 0.1136 - val_loss: 0.6931 - val_binary_crossentropy: 0.6931 - val_accuracy: 0.2941\n",
      "Epoch 16/18\n",
      "596/596 [==============================] - 2s 3ms/step - loss: 0.6931 - binary_crossentropy: 0.6931 - accuracy: 0.1357 - val_loss: 0.6931 - val_binary_crossentropy: 0.6931 - val_accuracy: 0.3275\n",
      "Epoch 17/18\n",
      "596/596 [==============================] - 2s 4ms/step - loss: 0.6931 - binary_crossentropy: 0.6931 - accuracy: 0.2041 - val_loss: 0.6931 - val_binary_crossentropy: 0.6931 - val_accuracy: 0.3317\n",
      "Epoch 18/18\n",
      "596/596 [==============================] - 2s 4ms/step - loss: 0.6931 - binary_crossentropy: 0.6931 - accuracy: 0.2231 - val_loss: 0.6931 - val_binary_crossentropy: 0.6931 - val_accuracy: 0.3603\n",
      "Epoch 1/18\n",
      "596/596 [==============================] - 2s 4ms/step - loss: 0.6995 - binary_crossentropy: 0.6995 - accuracy: 0.0054 - val_loss: 0.6931 - val_binary_crossentropy: 0.6931 - val_accuracy: 0.0281\n",
      "Epoch 2/18\n",
      "596/596 [==============================] - 2s 3ms/step - loss: 0.6932 - binary_crossentropy: 0.6932 - accuracy: 0.0078 - val_loss: 0.6931 - val_binary_crossentropy: 0.6931 - val_accuracy: 0.0506\n",
      "Epoch 3/18\n",
      "596/596 [==============================] - 2s 4ms/step - loss: 0.6932 - binary_crossentropy: 0.6932 - accuracy: 0.0104 - val_loss: 0.6931 - val_binary_crossentropy: 0.6931 - val_accuracy: 0.0661\n",
      "Epoch 4/18\n",
      "596/596 [==============================] - 2s 4ms/step - loss: 0.6931 - binary_crossentropy: 0.6931 - accuracy: 0.0140 - val_loss: 0.6931 - val_binary_crossentropy: 0.6931 - val_accuracy: 0.0829\n",
      "Epoch 5/18\n",
      "596/596 [==============================] - 2s 4ms/step - loss: 0.6931 - binary_crossentropy: 0.6931 - accuracy: 0.0165 - val_loss: 0.6931 - val_binary_crossentropy: 0.6931 - val_accuracy: 0.1031\n",
      "Epoch 6/18\n",
      "596/596 [==============================] - 2s 3ms/step - loss: 0.6931 - binary_crossentropy: 0.6931 - accuracy: 0.0192 - val_loss: 0.6931 - val_binary_crossentropy: 0.6931 - val_accuracy: 0.1172\n",
      "Epoch 7/18\n",
      "596/596 [==============================] - 2s 3ms/step - loss: 0.6931 - binary_crossentropy: 0.6931 - accuracy: 0.0233 - val_loss: 0.6931 - val_binary_crossentropy: 0.6931 - val_accuracy: 0.1327\n",
      "Epoch 8/18\n",
      "596/596 [==============================] - 2s 4ms/step - loss: 0.6931 - binary_crossentropy: 0.6931 - accuracy: 0.0276 - val_loss: 0.6931 - val_binary_crossentropy: 0.6931 - val_accuracy: 0.1543\n",
      "Epoch 9/18\n",
      "596/596 [==============================] - 2s 4ms/step - loss: 0.6931 - binary_crossentropy: 0.6931 - accuracy: 0.0362 - val_loss: 0.6931 - val_binary_crossentropy: 0.6931 - val_accuracy: 0.1969\n",
      "Epoch 10/18\n",
      "596/596 [==============================] - 2s 4ms/step - loss: 0.6931 - binary_crossentropy: 0.6931 - accuracy: 0.0419 - val_loss: 0.6931 - val_binary_crossentropy: 0.6931 - val_accuracy: 0.2221\n",
      "Epoch 11/18\n",
      "596/596 [==============================] - 2s 4ms/step - loss: 0.6931 - binary_crossentropy: 0.6931 - accuracy: 0.0509 - val_loss: 0.6931 - val_binary_crossentropy: 0.6931 - val_accuracy: 0.2314\n",
      "Epoch 12/18\n",
      "596/596 [==============================] - 2s 4ms/step - loss: 0.6931 - binary_crossentropy: 0.6931 - accuracy: 0.0557 - val_loss: 0.6931 - val_binary_crossentropy: 0.6931 - val_accuracy: 0.2316\n",
      "Epoch 13/18\n",
      "596/596 [==============================] - 2s 4ms/step - loss: 0.6931 - binary_crossentropy: 0.6931 - accuracy: 0.0634 - val_loss: 0.6931 - val_binary_crossentropy: 0.6931 - val_accuracy: 0.2125\n",
      "Epoch 14/18\n",
      "596/596 [==============================] - 2s 3ms/step - loss: 0.6931 - binary_crossentropy: 0.6931 - accuracy: 0.0657 - val_loss: 0.6931 - val_binary_crossentropy: 0.6931 - val_accuracy: 0.2448\n",
      "Epoch 15/18\n",
      "596/596 [==============================] - 2s 4ms/step - loss: 0.6931 - binary_crossentropy: 0.6931 - accuracy: 0.0834 - val_loss: 0.6931 - val_binary_crossentropy: 0.6931 - val_accuracy: 0.2864\n",
      "Epoch 16/18\n",
      "596/596 [==============================] - 2s 4ms/step - loss: 0.6931 - binary_crossentropy: 0.6931 - accuracy: 0.1175 - val_loss: 0.6931 - val_binary_crossentropy: 0.6931 - val_accuracy: 0.3208\n",
      "Epoch 17/18\n",
      "596/596 [==============================] - 3s 5ms/step - loss: 0.6931 - binary_crossentropy: 0.6931 - accuracy: 0.1684 - val_loss: 0.6931 - val_binary_crossentropy: 0.6931 - val_accuracy: 0.3208\n",
      "Epoch 18/18\n",
      "596/596 [==============================] - 2s 4ms/step - loss: 0.6931 - binary_crossentropy: 0.6931 - accuracy: 0.1586 - val_loss: 0.6931 - val_binary_crossentropy: 0.6931 - val_accuracy: 0.3292\n"
     ]
    },
    {
     "data": {
      "text/html": [
       "<span style=\"color:#4527A0\"><h1 style=\"font-size:18px\">Trial complete</h1></span>"
      ],
      "text/plain": [
       "<IPython.core.display.HTML object>"
      ]
     },
     "metadata": {},
     "output_type": "display_data"
    },
    {
     "data": {
      "text/html": [
       "<span style=\"color:#4527A0\"><h1 style=\"font-size:18px\">Trial summary</h1></span>"
      ],
      "text/plain": [
       "<IPython.core.display.HTML object>"
      ]
     },
     "metadata": {},
     "output_type": "display_data"
    },
    {
     "data": {
      "text/html": [
       "<span style=\"color:cyan\"> |-Trial ID: 7d6c89a9432961e4a9f8b4acfc5ac4a3</span>"
      ],
      "text/plain": [
       "<IPython.core.display.HTML object>"
      ]
     },
     "metadata": {},
     "output_type": "display_data"
    },
    {
     "data": {
      "text/html": [
       "<span style=\"color:cyan\"> |-Score: 0.6931459307670593</span>"
      ],
      "text/plain": [
       "<IPython.core.display.HTML object>"
      ]
     },
     "metadata": {},
     "output_type": "display_data"
    },
    {
     "data": {
      "text/html": [
       "<span style=\"color:cyan\"> |-Best step: 0</span>"
      ],
      "text/plain": [
       "<IPython.core.display.HTML object>"
      ]
     },
     "metadata": {},
     "output_type": "display_data"
    },
    {
     "data": {
      "text/html": [
       "<span style=\"color:#7E57C2\"><h2 style=\"font-size:16px\">Hyperparameters:</h2></span>"
      ],
      "text/plain": [
       "<IPython.core.display.HTML object>"
      ]
     },
     "metadata": {},
     "output_type": "display_data"
    },
    {
     "data": {
      "text/html": [
       "<span style=\"color:cyan\"> |-activation function 1: elu</span>"
      ],
      "text/plain": [
       "<IPython.core.display.HTML object>"
      ]
     },
     "metadata": {},
     "output_type": "display_data"
    },
    {
     "data": {
      "text/html": [
       "<span style=\"color:blue\"> |-activation function 2: relu</span>"
      ],
      "text/plain": [
       "<IPython.core.display.HTML object>"
      ]
     },
     "metadata": {},
     "output_type": "display_data"
    },
    {
     "data": {
      "text/html": [
       "<span style=\"color:cyan\"> |-activation function 3: relu</span>"
      ],
      "text/plain": [
       "<IPython.core.display.HTML object>"
      ]
     },
     "metadata": {},
     "output_type": "display_data"
    },
    {
     "data": {
      "text/html": [
       "<span style=\"color:blue\"> |-classify function: sigmoid</span>"
      ],
      "text/plain": [
       "<IPython.core.display.HTML object>"
      ]
     },
     "metadata": {},
     "output_type": "display_data"
    },
    {
     "data": {
      "text/html": [
       "<span style=\"color:cyan\"> |-dropout 1: 0.2</span>"
      ],
      "text/plain": [
       "<IPython.core.display.HTML object>"
      ]
     },
     "metadata": {},
     "output_type": "display_data"
    },
    {
     "data": {
      "text/html": [
       "<span style=\"color:blue\"> |-dropout 2: 0.2</span>"
      ],
      "text/plain": [
       "<IPython.core.display.HTML object>"
      ]
     },
     "metadata": {},
     "output_type": "display_data"
    },
    {
     "data": {
      "text/html": [
       "<span style=\"color:cyan\"> |-dropout 3: 0.35</span>"
      ],
      "text/plain": [
       "<IPython.core.display.HTML object>"
      ]
     },
     "metadata": {},
     "output_type": "display_data"
    },
    {
     "data": {
      "text/html": [
       "<span style=\"color:blue\"> |-learn rate: 0.001</span>"
      ],
      "text/plain": [
       "<IPython.core.display.HTML object>"
      ]
     },
     "metadata": {},
     "output_type": "display_data"
    },
    {
     "data": {
      "text/html": [
       "<span style=\"color:cyan\"> |-tuner/bracket: 0</span>"
      ],
      "text/plain": [
       "<IPython.core.display.HTML object>"
      ]
     },
     "metadata": {},
     "output_type": "display_data"
    },
    {
     "data": {
      "text/html": [
       "<span style=\"color:blue\"> |-tuner/epochs: 18</span>"
      ],
      "text/plain": [
       "<IPython.core.display.HTML object>"
      ]
     },
     "metadata": {},
     "output_type": "display_data"
    },
    {
     "data": {
      "text/html": [
       "<span style=\"color:cyan\"> |-tuner/initial_epoch: 0</span>"
      ],
      "text/plain": [
       "<IPython.core.display.HTML object>"
      ]
     },
     "metadata": {},
     "output_type": "display_data"
    },
    {
     "data": {
      "text/html": [
       "<span style=\"color:blue\"> |-tuner/round: 0</span>"
      ],
      "text/plain": [
       "<IPython.core.display.HTML object>"
      ]
     },
     "metadata": {},
     "output_type": "display_data"
    },
    {
     "data": {
      "text/html": [
       "<span style=\"color:cyan\"> |-units 1: 1024</span>"
      ],
      "text/plain": [
       "<IPython.core.display.HTML object>"
      ]
     },
     "metadata": {},
     "output_type": "display_data"
    },
    {
     "data": {
      "text/html": [
       "<span style=\"color:blue\"> |-units 2: 128</span>"
      ],
      "text/plain": [
       "<IPython.core.display.HTML object>"
      ]
     },
     "metadata": {},
     "output_type": "display_data"
    },
    {
     "data": {
      "text/html": [
       "<span style=\"color:cyan\"> |-units 3: 64</span>"
      ],
      "text/plain": [
       "<IPython.core.display.HTML object>"
      ]
     },
     "metadata": {},
     "output_type": "display_data"
    },
    {
     "name": "stdout",
     "output_type": "stream",
     "text": [
      "Epoch 1/18\n",
      "596/596 [==============================] - 3s 5ms/step - loss: 0.6981 - binary_crossentropy: 0.6981 - accuracy: 0.0068 - val_loss: 0.6931 - val_binary_crossentropy: 0.6931 - val_accuracy: 0.0134\n",
      "Epoch 2/18\n",
      "596/596 [==============================] - 2s 4ms/step - loss: 0.6931 - binary_crossentropy: 0.6931 - accuracy: 0.0056 - val_loss: 0.6931 - val_binary_crossentropy: 0.6931 - val_accuracy: 0.0059\n",
      "Epoch 3/18\n",
      "596/596 [==============================] - 2s 4ms/step - loss: 0.6931 - binary_crossentropy: 0.6931 - accuracy: 0.0056 - val_loss: 0.6931 - val_binary_crossentropy: 0.6931 - val_accuracy: 0.0042\n",
      "Epoch 4/18\n",
      "596/596 [==============================] - 2s 4ms/step - loss: 0.6931 - binary_crossentropy: 0.6931 - accuracy: 0.0052 - val_loss: 0.6931 - val_binary_crossentropy: 0.6931 - val_accuracy: 0.0034\n",
      "Epoch 5/18\n",
      "596/596 [==============================] - 2s 4ms/step - loss: 0.6931 - binary_crossentropy: 0.6931 - accuracy: 0.0044 - val_loss: 0.6931 - val_binary_crossentropy: 0.6931 - val_accuracy: 0.0023\n",
      "Epoch 6/18\n",
      "596/596 [==============================] - 2s 4ms/step - loss: 0.6931 - binary_crossentropy: 0.6931 - accuracy: 0.0051 - val_loss: 0.6931 - val_binary_crossentropy: 0.6931 - val_accuracy: 0.0027\n",
      "Epoch 7/18\n",
      "596/596 [==============================] - 2s 4ms/step - loss: 0.6931 - binary_crossentropy: 0.6931 - accuracy: 0.0048 - val_loss: 0.6931 - val_binary_crossentropy: 0.6931 - val_accuracy: 0.0031\n",
      "Epoch 8/18\n",
      "596/596 [==============================] - 2s 4ms/step - loss: 0.6931 - binary_crossentropy: 0.6931 - accuracy: 0.0052 - val_loss: 0.6931 - val_binary_crossentropy: 0.6931 - val_accuracy: 0.0034\n",
      "Epoch 9/18\n",
      "596/596 [==============================] - 2s 3ms/step - loss: 0.6931 - binary_crossentropy: 0.6931 - accuracy: 0.0055 - val_loss: 0.6931 - val_binary_crossentropy: 0.6931 - val_accuracy: 0.0036\n",
      "Epoch 10/18\n",
      "596/596 [==============================] - 2s 4ms/step - loss: 0.6931 - binary_crossentropy: 0.6931 - accuracy: 0.0053 - val_loss: 0.6931 - val_binary_crossentropy: 0.6931 - val_accuracy: 0.0038\n",
      "Epoch 11/18\n",
      "596/596 [==============================] - 3s 4ms/step - loss: 0.6931 - binary_crossentropy: 0.6931 - accuracy: 0.0050 - val_loss: 0.6931 - val_binary_crossentropy: 0.6931 - val_accuracy: 0.0040\n",
      "Epoch 12/18\n",
      "596/596 [==============================] - 2s 4ms/step - loss: 0.6931 - binary_crossentropy: 0.6931 - accuracy: 0.0058 - val_loss: 0.6931 - val_binary_crossentropy: 0.6931 - val_accuracy: 0.0042\n",
      "Epoch 13/18\n",
      "596/596 [==============================] - 3s 5ms/step - loss: 0.6931 - binary_crossentropy: 0.6931 - accuracy: 0.0040 - val_loss: 0.6931 - val_binary_crossentropy: 0.6931 - val_accuracy: 0.0052\n",
      "Epoch 14/18\n",
      "596/596 [==============================] - 2s 4ms/step - loss: 0.6931 - binary_crossentropy: 0.6931 - accuracy: 0.0050 - val_loss: 0.6931 - val_binary_crossentropy: 0.6931 - val_accuracy: 0.0052\n",
      "Epoch 15/18\n",
      "596/596 [==============================] - 2s 4ms/step - loss: 0.6931 - binary_crossentropy: 0.6931 - accuracy: 0.0051 - val_loss: 0.6931 - val_binary_crossentropy: 0.6931 - val_accuracy: 0.0055\n",
      "Epoch 16/18\n",
      "596/596 [==============================] - 2s 4ms/step - loss: 0.6931 - binary_crossentropy: 0.6931 - accuracy: 0.0051 - val_loss: 0.6931 - val_binary_crossentropy: 0.6931 - val_accuracy: 0.0061\n",
      "Epoch 17/18\n",
      "596/596 [==============================] - 2s 4ms/step - loss: 0.6931 - binary_crossentropy: 0.6931 - accuracy: 0.0055 - val_loss: 0.6931 - val_binary_crossentropy: 0.6931 - val_accuracy: 0.0065\n",
      "Epoch 18/18\n",
      "596/596 [==============================] - 2s 4ms/step - loss: 0.6931 - binary_crossentropy: 0.6931 - accuracy: 0.0051 - val_loss: 0.6931 - val_binary_crossentropy: 0.6931 - val_accuracy: 0.0067\n",
      "Epoch 1/18\n",
      "596/596 [==============================] - 2s 4ms/step - loss: 0.6976 - binary_crossentropy: 0.6976 - accuracy: 0.0027 - val_loss: 0.6931 - val_binary_crossentropy: 0.6931 - val_accuracy: 0.0027\n",
      "Epoch 2/18\n",
      "596/596 [==============================] - 2s 4ms/step - loss: 0.6931 - binary_crossentropy: 0.6931 - accuracy: 0.0037 - val_loss: 0.6931 - val_binary_crossentropy: 0.6931 - val_accuracy: 0.0025\n",
      "Epoch 3/18\n",
      "596/596 [==============================] - 2s 3ms/step - loss: 0.6931 - binary_crossentropy: 0.6931 - accuracy: 0.0028 - val_loss: 0.6931 - val_binary_crossentropy: 0.6931 - val_accuracy: 0.0017\n",
      "Epoch 4/18\n",
      "596/596 [==============================] - 2s 4ms/step - loss: 0.6931 - binary_crossentropy: 0.6931 - accuracy: 0.0034 - val_loss: 0.6931 - val_binary_crossentropy: 0.6931 - val_accuracy: 8.3981e-04\n",
      "Epoch 5/18\n",
      "596/596 [==============================] - 2s 4ms/step - loss: 0.6931 - binary_crossentropy: 0.6931 - accuracy: 0.0038 - val_loss: 0.6931 - val_binary_crossentropy: 0.6931 - val_accuracy: 8.3981e-04\n",
      "Epoch 6/18\n",
      "596/596 [==============================] - 3s 5ms/step - loss: 0.6931 - binary_crossentropy: 0.6931 - accuracy: 0.0034 - val_loss: 0.6931 - val_binary_crossentropy: 0.6931 - val_accuracy: 0.0010\n",
      "Epoch 7/18\n",
      "596/596 [==============================] - 2s 4ms/step - loss: 0.6931 - binary_crossentropy: 0.6931 - accuracy: 0.0043 - val_loss: 0.6931 - val_binary_crossentropy: 0.6931 - val_accuracy: 8.3981e-04\n",
      "Epoch 8/18\n",
      "596/596 [==============================] - 2s 4ms/step - loss: 0.6931 - binary_crossentropy: 0.6931 - accuracy: 0.0036 - val_loss: 0.6931 - val_binary_crossentropy: 0.6931 - val_accuracy: 6.2986e-04\n",
      "Epoch 9/18\n",
      "596/596 [==============================] - 3s 4ms/step - loss: 0.6931 - binary_crossentropy: 0.6931 - accuracy: 0.0033 - val_loss: 0.6931 - val_binary_crossentropy: 0.6931 - val_accuracy: 4.1990e-04\n",
      "Epoch 10/18\n",
      "596/596 [==============================] - 2s 4ms/step - loss: 0.6931 - binary_crossentropy: 0.6931 - accuracy: 0.0039 - val_loss: 0.6931 - val_binary_crossentropy: 0.6931 - val_accuracy: 6.2986e-04\n",
      "Epoch 11/18\n",
      "596/596 [==============================] - 2s 4ms/step - loss: 0.6931 - binary_crossentropy: 0.6931 - accuracy: 0.0045 - val_loss: 0.6931 - val_binary_crossentropy: 0.6931 - val_accuracy: 0.0010\n",
      "Epoch 12/18\n",
      "596/596 [==============================] - 2s 4ms/step - loss: 0.6931 - binary_crossentropy: 0.6931 - accuracy: 0.0041 - val_loss: 0.6931 - val_binary_crossentropy: 0.6931 - val_accuracy: 0.0010\n",
      "Epoch 13/18\n",
      "596/596 [==============================] - 2s 4ms/step - loss: 0.6931 - binary_crossentropy: 0.6931 - accuracy: 0.0043 - val_loss: 0.6931 - val_binary_crossentropy: 0.6931 - val_accuracy: 0.0015\n",
      "Epoch 14/18\n",
      "596/596 [==============================] - 2s 3ms/step - loss: 0.6931 - binary_crossentropy: 0.6931 - accuracy: 0.0046 - val_loss: 0.6931 - val_binary_crossentropy: 0.6931 - val_accuracy: 0.0015\n",
      "Epoch 15/18\n",
      "596/596 [==============================] - 2s 4ms/step - loss: 0.6931 - binary_crossentropy: 0.6931 - accuracy: 0.0047 - val_loss: 0.6931 - val_binary_crossentropy: 0.6931 - val_accuracy: 0.0019\n",
      "Epoch 16/18\n",
      "596/596 [==============================] - 2s 4ms/step - loss: 0.6931 - binary_crossentropy: 0.6931 - accuracy: 0.0047 - val_loss: 0.6931 - val_binary_crossentropy: 0.6931 - val_accuracy: 0.0025\n",
      "Epoch 17/18\n",
      "596/596 [==============================] - 2s 4ms/step - loss: 0.6931 - binary_crossentropy: 0.6931 - accuracy: 0.0045 - val_loss: 0.6931 - val_binary_crossentropy: 0.6931 - val_accuracy: 0.0027\n",
      "Epoch 18/18\n",
      "596/596 [==============================] - 2s 4ms/step - loss: 0.6931 - binary_crossentropy: 0.6931 - accuracy: 0.0054 - val_loss: 0.6931 - val_binary_crossentropy: 0.6931 - val_accuracy: 0.0031\n"
     ]
    },
    {
     "data": {
      "text/html": [
       "<span style=\"color:#4527A0\"><h1 style=\"font-size:18px\">Trial complete</h1></span>"
      ],
      "text/plain": [
       "<IPython.core.display.HTML object>"
      ]
     },
     "metadata": {},
     "output_type": "display_data"
    },
    {
     "data": {
      "text/html": [
       "<span style=\"color:#4527A0\"><h1 style=\"font-size:18px\">Trial summary</h1></span>"
      ],
      "text/plain": [
       "<IPython.core.display.HTML object>"
      ]
     },
     "metadata": {},
     "output_type": "display_data"
    },
    {
     "data": {
      "text/html": [
       "<span style=\"color:cyan\"> |-Trial ID: f3abef094e79564619227773b1047e3d</span>"
      ],
      "text/plain": [
       "<IPython.core.display.HTML object>"
      ]
     },
     "metadata": {},
     "output_type": "display_data"
    },
    {
     "data": {
      "text/html": [
       "<span style=\"color:cyan\"> |-Score: 0.6931459307670593</span>"
      ],
      "text/plain": [
       "<IPython.core.display.HTML object>"
      ]
     },
     "metadata": {},
     "output_type": "display_data"
    },
    {
     "data": {
      "text/html": [
       "<span style=\"color:cyan\"> |-Best step: 0</span>"
      ],
      "text/plain": [
       "<IPython.core.display.HTML object>"
      ]
     },
     "metadata": {},
     "output_type": "display_data"
    },
    {
     "data": {
      "text/html": [
       "<span style=\"color:#7E57C2\"><h2 style=\"font-size:16px\">Hyperparameters:</h2></span>"
      ],
      "text/plain": [
       "<IPython.core.display.HTML object>"
      ]
     },
     "metadata": {},
     "output_type": "display_data"
    },
    {
     "data": {
      "text/html": [
       "<span style=\"color:cyan\"> |-activation function 1: relu</span>"
      ],
      "text/plain": [
       "<IPython.core.display.HTML object>"
      ]
     },
     "metadata": {},
     "output_type": "display_data"
    },
    {
     "data": {
      "text/html": [
       "<span style=\"color:blue\"> |-activation function 2: elu</span>"
      ],
      "text/plain": [
       "<IPython.core.display.HTML object>"
      ]
     },
     "metadata": {},
     "output_type": "display_data"
    },
    {
     "data": {
      "text/html": [
       "<span style=\"color:cyan\"> |-activation function 3: elu</span>"
      ],
      "text/plain": [
       "<IPython.core.display.HTML object>"
      ]
     },
     "metadata": {},
     "output_type": "display_data"
    },
    {
     "data": {
      "text/html": [
       "<span style=\"color:blue\"> |-classify function: sigmoid</span>"
      ],
      "text/plain": [
       "<IPython.core.display.HTML object>"
      ]
     },
     "metadata": {},
     "output_type": "display_data"
    },
    {
     "data": {
      "text/html": [
       "<span style=\"color:cyan\"> |-dropout 1: 0.5</span>"
      ],
      "text/plain": [
       "<IPython.core.display.HTML object>"
      ]
     },
     "metadata": {},
     "output_type": "display_data"
    },
    {
     "data": {
      "text/html": [
       "<span style=\"color:blue\"> |-dropout 2: 0.2</span>"
      ],
      "text/plain": [
       "<IPython.core.display.HTML object>"
      ]
     },
     "metadata": {},
     "output_type": "display_data"
    },
    {
     "data": {
      "text/html": [
       "<span style=\"color:cyan\"> |-dropout 3: 0.2</span>"
      ],
      "text/plain": [
       "<IPython.core.display.HTML object>"
      ]
     },
     "metadata": {},
     "output_type": "display_data"
    },
    {
     "data": {
      "text/html": [
       "<span style=\"color:blue\"> |-learn rate: 0.001</span>"
      ],
      "text/plain": [
       "<IPython.core.display.HTML object>"
      ]
     },
     "metadata": {},
     "output_type": "display_data"
    },
    {
     "data": {
      "text/html": [
       "<span style=\"color:cyan\"> |-tuner/bracket: 0</span>"
      ],
      "text/plain": [
       "<IPython.core.display.HTML object>"
      ]
     },
     "metadata": {},
     "output_type": "display_data"
    },
    {
     "data": {
      "text/html": [
       "<span style=\"color:blue\"> |-tuner/epochs: 18</span>"
      ],
      "text/plain": [
       "<IPython.core.display.HTML object>"
      ]
     },
     "metadata": {},
     "output_type": "display_data"
    },
    {
     "data": {
      "text/html": [
       "<span style=\"color:cyan\"> |-tuner/initial_epoch: 0</span>"
      ],
      "text/plain": [
       "<IPython.core.display.HTML object>"
      ]
     },
     "metadata": {},
     "output_type": "display_data"
    },
    {
     "data": {
      "text/html": [
       "<span style=\"color:blue\"> |-tuner/round: 0</span>"
      ],
      "text/plain": [
       "<IPython.core.display.HTML object>"
      ]
     },
     "metadata": {},
     "output_type": "display_data"
    },
    {
     "data": {
      "text/html": [
       "<span style=\"color:cyan\"> |-units 1: 256</span>"
      ],
      "text/plain": [
       "<IPython.core.display.HTML object>"
      ]
     },
     "metadata": {},
     "output_type": "display_data"
    },
    {
     "data": {
      "text/html": [
       "<span style=\"color:blue\"> |-units 2: 32</span>"
      ],
      "text/plain": [
       "<IPython.core.display.HTML object>"
      ]
     },
     "metadata": {},
     "output_type": "display_data"
    },
    {
     "data": {
      "text/html": [
       "<span style=\"color:cyan\"> |-units 3: 256</span>"
      ],
      "text/plain": [
       "<IPython.core.display.HTML object>"
      ]
     },
     "metadata": {},
     "output_type": "display_data"
    },
    {
     "name": "stdout",
     "output_type": "stream",
     "text": [
      "Epoch 1/18\n",
      "596/596 [==============================] - 2s 4ms/step - loss: 0.6946 - binary_crossentropy: 0.6946 - accuracy: 0.3623 - val_loss: 0.6931 - val_binary_crossentropy: 0.6931 - val_accuracy: 0.3802\n",
      "Epoch 2/18\n",
      "596/596 [==============================] - 2s 4ms/step - loss: 0.6931 - binary_crossentropy: 0.6931 - accuracy: 0.3711 - val_loss: 0.6931 - val_binary_crossentropy: 0.6931 - val_accuracy: 0.3802\n",
      "Epoch 3/18\n",
      "596/596 [==============================] - 2s 4ms/step - loss: 0.6931 - binary_crossentropy: 0.6931 - accuracy: 0.3770 - val_loss: 0.6931 - val_binary_crossentropy: 0.6931 - val_accuracy: 0.3890\n",
      "Epoch 4/18\n",
      "596/596 [==============================] - 2s 4ms/step - loss: 0.6931 - binary_crossentropy: 0.6931 - accuracy: 0.3826 - val_loss: 0.6931 - val_binary_crossentropy: 0.6931 - val_accuracy: 0.3890\n",
      "Epoch 5/18\n",
      "596/596 [==============================] - 3s 4ms/step - loss: 0.6931 - binary_crossentropy: 0.6931 - accuracy: 0.3827 - val_loss: 0.6931 - val_binary_crossentropy: 0.6931 - val_accuracy: 0.3890\n",
      "Epoch 6/18\n",
      "596/596 [==============================] - 2s 4ms/step - loss: 0.6931 - binary_crossentropy: 0.6931 - accuracy: 0.3825 - val_loss: 0.6931 - val_binary_crossentropy: 0.6931 - val_accuracy: 0.3893\n",
      "Epoch 7/18\n",
      "596/596 [==============================] - 2s 4ms/step - loss: 0.6931 - binary_crossentropy: 0.6931 - accuracy: 0.3830 - val_loss: 0.6931 - val_binary_crossentropy: 0.6931 - val_accuracy: 0.3893\n",
      "Epoch 8/18\n",
      "596/596 [==============================] - 2s 3ms/step - loss: 0.6931 - binary_crossentropy: 0.6931 - accuracy: 0.3826 - val_loss: 0.6931 - val_binary_crossentropy: 0.6931 - val_accuracy: 0.3893\n",
      "Epoch 9/18\n",
      "596/596 [==============================] - 2s 3ms/step - loss: 0.6931 - binary_crossentropy: 0.6931 - accuracy: 0.3830 - val_loss: 0.6931 - val_binary_crossentropy: 0.6931 - val_accuracy: 0.3893\n",
      "Epoch 10/18\n",
      "596/596 [==============================] - 2s 3ms/step - loss: 0.6931 - binary_crossentropy: 0.6931 - accuracy: 0.3880 - val_loss: 0.6931 - val_binary_crossentropy: 0.6931 - val_accuracy: 0.3937\n",
      "Epoch 11/18\n",
      "596/596 [==============================] - 2s 3ms/step - loss: 0.6931 - binary_crossentropy: 0.6931 - accuracy: 0.3891 - val_loss: 0.6931 - val_binary_crossentropy: 0.6931 - val_accuracy: 0.3937\n",
      "Epoch 12/18\n",
      "596/596 [==============================] - 3s 4ms/step - loss: 0.6931 - binary_crossentropy: 0.6931 - accuracy: 0.3886 - val_loss: 0.6931 - val_binary_crossentropy: 0.6931 - val_accuracy: 0.3937\n",
      "Epoch 13/18\n",
      "596/596 [==============================] - 2s 3ms/step - loss: 0.6931 - binary_crossentropy: 0.6931 - accuracy: 0.3880 - val_loss: 0.6931 - val_binary_crossentropy: 0.6931 - val_accuracy: 0.3937\n",
      "Epoch 14/18\n",
      "596/596 [==============================] - 3s 4ms/step - loss: 0.6931 - binary_crossentropy: 0.6931 - accuracy: 0.3889 - val_loss: 0.6931 - val_binary_crossentropy: 0.6931 - val_accuracy: 0.3937\n",
      "Epoch 15/18\n",
      "596/596 [==============================] - 2s 4ms/step - loss: 0.6931 - binary_crossentropy: 0.6931 - accuracy: 0.3886 - val_loss: 0.6931 - val_binary_crossentropy: 0.6931 - val_accuracy: 0.3937\n",
      "Epoch 16/18\n",
      "596/596 [==============================] - 3s 4ms/step - loss: 0.6931 - binary_crossentropy: 0.6931 - accuracy: 0.3886 - val_loss: 0.6931 - val_binary_crossentropy: 0.6931 - val_accuracy: 0.3937\n",
      "Epoch 17/18\n",
      "596/596 [==============================] - 2s 4ms/step - loss: 0.6931 - binary_crossentropy: 0.6931 - accuracy: 0.3884 - val_loss: 0.6931 - val_binary_crossentropy: 0.6931 - val_accuracy: 0.3937\n",
      "Epoch 18/18\n",
      "596/596 [==============================] - 2s 4ms/step - loss: 0.6931 - binary_crossentropy: 0.6931 - accuracy: 0.3890 - val_loss: 0.6931 - val_binary_crossentropy: 0.6931 - val_accuracy: 0.3937\n",
      "Epoch 1/18\n",
      "596/596 [==============================] - 3s 4ms/step - loss: 0.6945 - binary_crossentropy: 0.6945 - accuracy: 0.3622 - val_loss: 0.6931 - val_binary_crossentropy: 0.6931 - val_accuracy: 0.3813\n",
      "Epoch 2/18\n",
      "596/596 [==============================] - 2s 3ms/step - loss: 0.6931 - binary_crossentropy: 0.6931 - accuracy: 0.3731 - val_loss: 0.6931 - val_binary_crossentropy: 0.6931 - val_accuracy: 0.3815\n",
      "Epoch 3/18\n",
      "596/596 [==============================] - 3s 4ms/step - loss: 0.6931 - binary_crossentropy: 0.6931 - accuracy: 0.3727 - val_loss: 0.6931 - val_binary_crossentropy: 0.6931 - val_accuracy: 0.3815\n",
      "Epoch 4/18\n",
      "596/596 [==============================] - 2s 3ms/step - loss: 0.6931 - binary_crossentropy: 0.6931 - accuracy: 0.3729 - val_loss: 0.6931 - val_binary_crossentropy: 0.6931 - val_accuracy: 0.3815\n",
      "Epoch 5/18\n",
      "596/596 [==============================] - 2s 3ms/step - loss: 0.6931 - binary_crossentropy: 0.6931 - accuracy: 0.3735 - val_loss: 0.6931 - val_binary_crossentropy: 0.6931 - val_accuracy: 0.3815\n",
      "Epoch 6/18\n",
      "596/596 [==============================] - 2s 4ms/step - loss: 0.6931 - binary_crossentropy: 0.6931 - accuracy: 0.3724 - val_loss: 0.6931 - val_binary_crossentropy: 0.6931 - val_accuracy: 0.3815\n",
      "Epoch 7/18\n",
      "596/596 [==============================] - 2s 3ms/step - loss: 0.6931 - binary_crossentropy: 0.6931 - accuracy: 0.3738 - val_loss: 0.6931 - val_binary_crossentropy: 0.6931 - val_accuracy: 0.3861\n",
      "Epoch 8/18\n",
      "596/596 [==============================] - 3s 4ms/step - loss: 0.6931 - binary_crossentropy: 0.6931 - accuracy: 0.3774 - val_loss: 0.6931 - val_binary_crossentropy: 0.6931 - val_accuracy: 0.3861\n",
      "Epoch 9/18\n",
      "596/596 [==============================] - 2s 3ms/step - loss: 0.6931 - binary_crossentropy: 0.6931 - accuracy: 0.3782 - val_loss: 0.6931 - val_binary_crossentropy: 0.6931 - val_accuracy: 0.3861\n",
      "Epoch 10/18\n",
      "596/596 [==============================] - 2s 4ms/step - loss: 0.6931 - binary_crossentropy: 0.6931 - accuracy: 0.3781 - val_loss: 0.6931 - val_binary_crossentropy: 0.6931 - val_accuracy: 0.3861\n",
      "Epoch 11/18\n",
      "596/596 [==============================] - 2s 3ms/step - loss: 0.6931 - binary_crossentropy: 0.6931 - accuracy: 0.3779 - val_loss: 0.6931 - val_binary_crossentropy: 0.6931 - val_accuracy: 0.3861\n",
      "Epoch 12/18\n",
      "596/596 [==============================] - 2s 4ms/step - loss: 0.6931 - binary_crossentropy: 0.6931 - accuracy: 0.3780 - val_loss: 0.6931 - val_binary_crossentropy: 0.6931 - val_accuracy: 0.3863\n",
      "Epoch 13/18\n",
      "596/596 [==============================] - 2s 4ms/step - loss: 0.6931 - binary_crossentropy: 0.6931 - accuracy: 0.3777 - val_loss: 0.6931 - val_binary_crossentropy: 0.6931 - val_accuracy: 0.3863\n",
      "Epoch 14/18\n",
      "596/596 [==============================] - 2s 3ms/step - loss: 0.6931 - binary_crossentropy: 0.6931 - accuracy: 0.3778 - val_loss: 0.6931 - val_binary_crossentropy: 0.6931 - val_accuracy: 0.3863\n",
      "Epoch 15/18\n",
      "596/596 [==============================] - 3s 4ms/step - loss: 0.6931 - binary_crossentropy: 0.6931 - accuracy: 0.3784 - val_loss: 0.6931 - val_binary_crossentropy: 0.6931 - val_accuracy: 0.3863\n",
      "Epoch 16/18\n",
      "596/596 [==============================] - 2s 4ms/step - loss: 0.6931 - binary_crossentropy: 0.6931 - accuracy: 0.3785 - val_loss: 0.6931 - val_binary_crossentropy: 0.6931 - val_accuracy: 0.3865\n",
      "Epoch 17/18\n",
      "596/596 [==============================] - 2s 3ms/step - loss: 0.6931 - binary_crossentropy: 0.6931 - accuracy: 0.3784 - val_loss: 0.6931 - val_binary_crossentropy: 0.6931 - val_accuracy: 0.3874\n",
      "Epoch 18/18\n",
      "596/596 [==============================] - 2s 4ms/step - loss: 0.6931 - binary_crossentropy: 0.6931 - accuracy: 0.3784 - val_loss: 0.6931 - val_binary_crossentropy: 0.6931 - val_accuracy: 0.3880\n"
     ]
    },
    {
     "data": {
      "text/html": [
       "<span style=\"color:#4527A0\"><h1 style=\"font-size:18px\">Trial complete</h1></span>"
      ],
      "text/plain": [
       "<IPython.core.display.HTML object>"
      ]
     },
     "metadata": {},
     "output_type": "display_data"
    },
    {
     "data": {
      "text/html": [
       "<span style=\"color:#4527A0\"><h1 style=\"font-size:18px\">Trial summary</h1></span>"
      ],
      "text/plain": [
       "<IPython.core.display.HTML object>"
      ]
     },
     "metadata": {},
     "output_type": "display_data"
    },
    {
     "data": {
      "text/html": [
       "<span style=\"color:cyan\"> |-Trial ID: 03edb615b9cae77dae567d916d11e303</span>"
      ],
      "text/plain": [
       "<IPython.core.display.HTML object>"
      ]
     },
     "metadata": {},
     "output_type": "display_data"
    },
    {
     "data": {
      "text/html": [
       "<span style=\"color:cyan\"> |-Score: 0.6931459307670593</span>"
      ],
      "text/plain": [
       "<IPython.core.display.HTML object>"
      ]
     },
     "metadata": {},
     "output_type": "display_data"
    },
    {
     "data": {
      "text/html": [
       "<span style=\"color:cyan\"> |-Best step: 0</span>"
      ],
      "text/plain": [
       "<IPython.core.display.HTML object>"
      ]
     },
     "metadata": {},
     "output_type": "display_data"
    },
    {
     "data": {
      "text/html": [
       "<span style=\"color:#7E57C2\"><h2 style=\"font-size:16px\">Hyperparameters:</h2></span>"
      ],
      "text/plain": [
       "<IPython.core.display.HTML object>"
      ]
     },
     "metadata": {},
     "output_type": "display_data"
    },
    {
     "data": {
      "text/html": [
       "<span style=\"color:cyan\"> |-activation function 1: elu</span>"
      ],
      "text/plain": [
       "<IPython.core.display.HTML object>"
      ]
     },
     "metadata": {},
     "output_type": "display_data"
    },
    {
     "data": {
      "text/html": [
       "<span style=\"color:blue\"> |-activation function 2: relu</span>"
      ],
      "text/plain": [
       "<IPython.core.display.HTML object>"
      ]
     },
     "metadata": {},
     "output_type": "display_data"
    },
    {
     "data": {
      "text/html": [
       "<span style=\"color:cyan\"> |-activation function 3: relu</span>"
      ],
      "text/plain": [
       "<IPython.core.display.HTML object>"
      ]
     },
     "metadata": {},
     "output_type": "display_data"
    },
    {
     "data": {
      "text/html": [
       "<span style=\"color:blue\"> |-classify function: sigmoid</span>"
      ],
      "text/plain": [
       "<IPython.core.display.HTML object>"
      ]
     },
     "metadata": {},
     "output_type": "display_data"
    },
    {
     "data": {
      "text/html": [
       "<span style=\"color:cyan\"> |-dropout 1: 0.2</span>"
      ],
      "text/plain": [
       "<IPython.core.display.HTML object>"
      ]
     },
     "metadata": {},
     "output_type": "display_data"
    },
    {
     "data": {
      "text/html": [
       "<span style=\"color:blue\"> |-dropout 2: 0.2</span>"
      ],
      "text/plain": [
       "<IPython.core.display.HTML object>"
      ]
     },
     "metadata": {},
     "output_type": "display_data"
    },
    {
     "data": {
      "text/html": [
       "<span style=\"color:cyan\"> |-dropout 3: 0.35</span>"
      ],
      "text/plain": [
       "<IPython.core.display.HTML object>"
      ]
     },
     "metadata": {},
     "output_type": "display_data"
    },
    {
     "data": {
      "text/html": [
       "<span style=\"color:blue\"> |-learn rate: 0.01</span>"
      ],
      "text/plain": [
       "<IPython.core.display.HTML object>"
      ]
     },
     "metadata": {},
     "output_type": "display_data"
    },
    {
     "data": {
      "text/html": [
       "<span style=\"color:cyan\"> |-tuner/bracket: 0</span>"
      ],
      "text/plain": [
       "<IPython.core.display.HTML object>"
      ]
     },
     "metadata": {},
     "output_type": "display_data"
    },
    {
     "data": {
      "text/html": [
       "<span style=\"color:blue\"> |-tuner/epochs: 18</span>"
      ],
      "text/plain": [
       "<IPython.core.display.HTML object>"
      ]
     },
     "metadata": {},
     "output_type": "display_data"
    },
    {
     "data": {
      "text/html": [
       "<span style=\"color:cyan\"> |-tuner/initial_epoch: 0</span>"
      ],
      "text/plain": [
       "<IPython.core.display.HTML object>"
      ]
     },
     "metadata": {},
     "output_type": "display_data"
    },
    {
     "data": {
      "text/html": [
       "<span style=\"color:blue\"> |-tuner/round: 0</span>"
      ],
      "text/plain": [
       "<IPython.core.display.HTML object>"
      ]
     },
     "metadata": {},
     "output_type": "display_data"
    },
    {
     "data": {
      "text/html": [
       "<span style=\"color:cyan\"> |-units 1: 64</span>"
      ],
      "text/plain": [
       "<IPython.core.display.HTML object>"
      ]
     },
     "metadata": {},
     "output_type": "display_data"
    },
    {
     "data": {
      "text/html": [
       "<span style=\"color:blue\"> |-units 2: 32</span>"
      ],
      "text/plain": [
       "<IPython.core.display.HTML object>"
      ]
     },
     "metadata": {},
     "output_type": "display_data"
    },
    {
     "data": {
      "text/html": [
       "<span style=\"color:cyan\"> |-units 3: 64</span>"
      ],
      "text/plain": [
       "<IPython.core.display.HTML object>"
      ]
     },
     "metadata": {},
     "output_type": "display_data"
    },
    {
     "name": "stdout",
     "output_type": "stream",
     "text": [
      "Epoch 1/18\n",
      "596/596 [==============================] - 2s 4ms/step - loss: 0.6938 - binary_crossentropy: 0.6938 - accuracy: 0.3892 - val_loss: 0.6931 - val_binary_crossentropy: 0.6931 - val_accuracy: 0.3953\n",
      "Epoch 2/18\n",
      "596/596 [==============================] - 2s 4ms/step - loss: 0.6931 - binary_crossentropy: 0.6931 - accuracy: 0.3937 - val_loss: 0.6931 - val_binary_crossentropy: 0.6931 - val_accuracy: 0.3953\n",
      "Epoch 3/18\n",
      "596/596 [==============================] - 3s 4ms/step - loss: 0.6931 - binary_crossentropy: 0.6931 - accuracy: 0.3937 - val_loss: 0.6931 - val_binary_crossentropy: 0.6931 - val_accuracy: 0.3953\n",
      "Epoch 4/18\n",
      "596/596 [==============================] - 3s 4ms/step - loss: 0.6931 - binary_crossentropy: 0.6931 - accuracy: 0.3937 - val_loss: 0.6931 - val_binary_crossentropy: 0.6931 - val_accuracy: 0.3953\n",
      "Epoch 5/18\n",
      "596/596 [==============================] - 2s 4ms/step - loss: 0.6931 - binary_crossentropy: 0.6931 - accuracy: 0.3937 - val_loss: 0.6931 - val_binary_crossentropy: 0.6931 - val_accuracy: 0.3953\n",
      "Epoch 6/18\n",
      "596/596 [==============================] - 2s 4ms/step - loss: 0.6931 - binary_crossentropy: 0.6931 - accuracy: 0.3937 - val_loss: 0.6931 - val_binary_crossentropy: 0.6931 - val_accuracy: 0.3953\n",
      "Epoch 7/18\n",
      "596/596 [==============================] - 3s 4ms/step - loss: 0.6931 - binary_crossentropy: 0.6931 - accuracy: 0.3937 - val_loss: 0.6931 - val_binary_crossentropy: 0.6931 - val_accuracy: 0.3953\n",
      "Epoch 8/18\n",
      "596/596 [==============================] - 3s 5ms/step - loss: 0.6931 - binary_crossentropy: 0.6931 - accuracy: 0.3936 - val_loss: 0.6931 - val_binary_crossentropy: 0.6931 - val_accuracy: 0.3953\n",
      "Epoch 9/18\n",
      "596/596 [==============================] - 3s 6ms/step - loss: 0.6931 - binary_crossentropy: 0.6931 - accuracy: 0.3937 - val_loss: 0.6931 - val_binary_crossentropy: 0.6931 - val_accuracy: 0.3953\n",
      "Epoch 10/18\n",
      "596/596 [==============================] - 3s 5ms/step - loss: 0.6931 - binary_crossentropy: 0.6931 - accuracy: 0.3937 - val_loss: 0.6931 - val_binary_crossentropy: 0.6931 - val_accuracy: 0.3953\n",
      "Epoch 11/18\n",
      "596/596 [==============================] - 3s 5ms/step - loss: 0.6931 - binary_crossentropy: 0.6931 - accuracy: 0.3937 - val_loss: 0.6931 - val_binary_crossentropy: 0.6931 - val_accuracy: 0.3953\n",
      "Epoch 12/18\n",
      "596/596 [==============================] - 3s 5ms/step - loss: 0.6931 - binary_crossentropy: 0.6931 - accuracy: 0.3937 - val_loss: 0.6931 - val_binary_crossentropy: 0.6931 - val_accuracy: 0.3953\n",
      "Epoch 13/18\n",
      "596/596 [==============================] - 3s 5ms/step - loss: 0.6931 - binary_crossentropy: 0.6931 - accuracy: 0.3937 - val_loss: 0.6931 - val_binary_crossentropy: 0.6931 - val_accuracy: 0.3953\n",
      "Epoch 14/18\n",
      "596/596 [==============================] - 3s 4ms/step - loss: 0.6931 - binary_crossentropy: 0.6931 - accuracy: 0.3936 - val_loss: 0.6931 - val_binary_crossentropy: 0.6931 - val_accuracy: 0.3953\n",
      "Epoch 15/18\n",
      "596/596 [==============================] - 2s 4ms/step - loss: 0.6931 - binary_crossentropy: 0.6931 - accuracy: 0.3937 - val_loss: 0.6931 - val_binary_crossentropy: 0.6931 - val_accuracy: 0.3953\n",
      "Epoch 16/18\n",
      "596/596 [==============================] - 3s 6ms/step - loss: 0.6931 - binary_crossentropy: 0.6931 - accuracy: 0.3937 - val_loss: 0.6931 - val_binary_crossentropy: 0.6931 - val_accuracy: 0.3953\n",
      "Epoch 17/18\n",
      "596/596 [==============================] - 3s 5ms/step - loss: 0.6931 - binary_crossentropy: 0.6931 - accuracy: 0.3937 - val_loss: 0.6931 - val_binary_crossentropy: 0.6931 - val_accuracy: 0.3953\n",
      "Epoch 18/18\n",
      "596/596 [==============================] - 3s 5ms/step - loss: 0.6931 - binary_crossentropy: 0.6931 - accuracy: 0.3937 - val_loss: 0.6931 - val_binary_crossentropy: 0.6931 - val_accuracy: 0.3953\n",
      "Epoch 1/18\n",
      "596/596 [==============================] - 3s 5ms/step - loss: 0.6938 - binary_crossentropy: 0.6938 - accuracy: 0.3891 - val_loss: 0.6931 - val_binary_crossentropy: 0.6931 - val_accuracy: 0.3953\n",
      "Epoch 2/18\n",
      "596/596 [==============================] - 3s 5ms/step - loss: 0.6931 - binary_crossentropy: 0.6931 - accuracy: 0.3936 - val_loss: 0.6931 - val_binary_crossentropy: 0.6931 - val_accuracy: 0.3953\n",
      "Epoch 3/18\n",
      "596/596 [==============================] - 3s 5ms/step - loss: 0.6931 - binary_crossentropy: 0.6931 - accuracy: 0.3937 - val_loss: 0.6931 - val_binary_crossentropy: 0.6931 - val_accuracy: 0.3953\n",
      "Epoch 4/18\n",
      "596/596 [==============================] - 3s 4ms/step - loss: 0.6931 - binary_crossentropy: 0.6931 - accuracy: 0.3937 - val_loss: 0.6931 - val_binary_crossentropy: 0.6931 - val_accuracy: 0.3953\n",
      "Epoch 5/18\n",
      "596/596 [==============================] - 3s 5ms/step - loss: 0.6931 - binary_crossentropy: 0.6931 - accuracy: 0.3937 - val_loss: 0.6931 - val_binary_crossentropy: 0.6931 - val_accuracy: 0.3953\n",
      "Epoch 6/18\n",
      "596/596 [==============================] - 3s 6ms/step - loss: 0.6931 - binary_crossentropy: 0.6931 - accuracy: 0.3937 - val_loss: 0.6931 - val_binary_crossentropy: 0.6931 - val_accuracy: 0.3953\n",
      "Epoch 7/18\n",
      "596/596 [==============================] - 3s 5ms/step - loss: 0.6931 - binary_crossentropy: 0.6931 - accuracy: 0.3937 - val_loss: 0.6931 - val_binary_crossentropy: 0.6931 - val_accuracy: 0.3953\n",
      "Epoch 8/18\n",
      "596/596 [==============================] - 2s 3ms/step - loss: 0.6931 - binary_crossentropy: 0.6931 - accuracy: 0.3937 - val_loss: 0.6931 - val_binary_crossentropy: 0.6931 - val_accuracy: 0.3953\n",
      "Epoch 9/18\n",
      "596/596 [==============================] - 3s 5ms/step - loss: 0.6931 - binary_crossentropy: 0.6931 - accuracy: 0.3937 - val_loss: 0.6931 - val_binary_crossentropy: 0.6931 - val_accuracy: 0.3953\n",
      "Epoch 10/18\n",
      "596/596 [==============================] - 2s 4ms/step - loss: 0.6931 - binary_crossentropy: 0.6931 - accuracy: 0.3937 - val_loss: 0.6931 - val_binary_crossentropy: 0.6931 - val_accuracy: 0.3953\n",
      "Epoch 11/18\n",
      "596/596 [==============================] - 2s 4ms/step - loss: 0.6931 - binary_crossentropy: 0.6931 - accuracy: 0.3937 - val_loss: 0.6931 - val_binary_crossentropy: 0.6931 - val_accuracy: 0.3953\n",
      "Epoch 12/18\n",
      "596/596 [==============================] - 2s 4ms/step - loss: 0.6931 - binary_crossentropy: 0.6931 - accuracy: 0.3937 - val_loss: 0.6931 - val_binary_crossentropy: 0.6931 - val_accuracy: 0.3953\n",
      "Epoch 13/18\n",
      "596/596 [==============================] - 2s 3ms/step - loss: 0.6931 - binary_crossentropy: 0.6931 - accuracy: 0.3937 - val_loss: 0.6931 - val_binary_crossentropy: 0.6931 - val_accuracy: 0.3953\n",
      "Epoch 14/18\n",
      "596/596 [==============================] - 3s 5ms/step - loss: 0.6931 - binary_crossentropy: 0.6931 - accuracy: 0.3936 - val_loss: 0.6931 - val_binary_crossentropy: 0.6931 - val_accuracy: 0.3953\n",
      "Epoch 15/18\n",
      "596/596 [==============================] - 2s 4ms/step - loss: 0.6931 - binary_crossentropy: 0.6931 - accuracy: 0.3937 - val_loss: 0.6931 - val_binary_crossentropy: 0.6931 - val_accuracy: 0.3953\n",
      "Epoch 16/18\n",
      "596/596 [==============================] - 2s 4ms/step - loss: 0.6931 - binary_crossentropy: 0.6931 - accuracy: 0.3937 - val_loss: 0.6931 - val_binary_crossentropy: 0.6931 - val_accuracy: 0.3953\n",
      "Epoch 17/18\n",
      "596/596 [==============================] - 2s 4ms/step - loss: 0.6931 - binary_crossentropy: 0.6931 - accuracy: 0.3937 - val_loss: 0.6931 - val_binary_crossentropy: 0.6931 - val_accuracy: 0.3953\n",
      "Epoch 18/18\n",
      "596/596 [==============================] - 2s 4ms/step - loss: 0.6931 - binary_crossentropy: 0.6931 - accuracy: 0.3937 - val_loss: 0.6931 - val_binary_crossentropy: 0.6931 - val_accuracy: 0.3953\n"
     ]
    },
    {
     "data": {
      "text/html": [
       "<span style=\"color:#4527A0\"><h1 style=\"font-size:18px\">Trial complete</h1></span>"
      ],
      "text/plain": [
       "<IPython.core.display.HTML object>"
      ]
     },
     "metadata": {},
     "output_type": "display_data"
    },
    {
     "data": {
      "text/html": [
       "<span style=\"color:#4527A0\"><h1 style=\"font-size:18px\">Trial summary</h1></span>"
      ],
      "text/plain": [
       "<IPython.core.display.HTML object>"
      ]
     },
     "metadata": {},
     "output_type": "display_data"
    },
    {
     "data": {
      "text/html": [
       "<span style=\"color:cyan\"> |-Trial ID: 421f6ddb8fdb9cd2025d6c9f7902880c</span>"
      ],
      "text/plain": [
       "<IPython.core.display.HTML object>"
      ]
     },
     "metadata": {},
     "output_type": "display_data"
    },
    {
     "data": {
      "text/html": [
       "<span style=\"color:cyan\"> |-Score: 0.6931459307670593</span>"
      ],
      "text/plain": [
       "<IPython.core.display.HTML object>"
      ]
     },
     "metadata": {},
     "output_type": "display_data"
    },
    {
     "data": {
      "text/html": [
       "<span style=\"color:cyan\"> |-Best step: 0</span>"
      ],
      "text/plain": [
       "<IPython.core.display.HTML object>"
      ]
     },
     "metadata": {},
     "output_type": "display_data"
    },
    {
     "data": {
      "text/html": [
       "<span style=\"color:#7E57C2\"><h2 style=\"font-size:16px\">Hyperparameters:</h2></span>"
      ],
      "text/plain": [
       "<IPython.core.display.HTML object>"
      ]
     },
     "metadata": {},
     "output_type": "display_data"
    },
    {
     "data": {
      "text/html": [
       "<span style=\"color:cyan\"> |-activation function 1: elu</span>"
      ],
      "text/plain": [
       "<IPython.core.display.HTML object>"
      ]
     },
     "metadata": {},
     "output_type": "display_data"
    },
    {
     "data": {
      "text/html": [
       "<span style=\"color:blue\"> |-activation function 2: relu</span>"
      ],
      "text/plain": [
       "<IPython.core.display.HTML object>"
      ]
     },
     "metadata": {},
     "output_type": "display_data"
    },
    {
     "data": {
      "text/html": [
       "<span style=\"color:cyan\"> |-activation function 3: relu</span>"
      ],
      "text/plain": [
       "<IPython.core.display.HTML object>"
      ]
     },
     "metadata": {},
     "output_type": "display_data"
    },
    {
     "data": {
      "text/html": [
       "<span style=\"color:blue\"> |-classify function: sigmoid</span>"
      ],
      "text/plain": [
       "<IPython.core.display.HTML object>"
      ]
     },
     "metadata": {},
     "output_type": "display_data"
    },
    {
     "data": {
      "text/html": [
       "<span style=\"color:cyan\"> |-dropout 1: 0.2</span>"
      ],
      "text/plain": [
       "<IPython.core.display.HTML object>"
      ]
     },
     "metadata": {},
     "output_type": "display_data"
    },
    {
     "data": {
      "text/html": [
       "<span style=\"color:blue\"> |-dropout 2: 0.2</span>"
      ],
      "text/plain": [
       "<IPython.core.display.HTML object>"
      ]
     },
     "metadata": {},
     "output_type": "display_data"
    },
    {
     "data": {
      "text/html": [
       "<span style=\"color:cyan\"> |-dropout 3: 0.2</span>"
      ],
      "text/plain": [
       "<IPython.core.display.HTML object>"
      ]
     },
     "metadata": {},
     "output_type": "display_data"
    },
    {
     "data": {
      "text/html": [
       "<span style=\"color:blue\"> |-learn rate: 0.01</span>"
      ],
      "text/plain": [
       "<IPython.core.display.HTML object>"
      ]
     },
     "metadata": {},
     "output_type": "display_data"
    },
    {
     "data": {
      "text/html": [
       "<span style=\"color:cyan\"> |-tuner/bracket: 0</span>"
      ],
      "text/plain": [
       "<IPython.core.display.HTML object>"
      ]
     },
     "metadata": {},
     "output_type": "display_data"
    },
    {
     "data": {
      "text/html": [
       "<span style=\"color:blue\"> |-tuner/epochs: 18</span>"
      ],
      "text/plain": [
       "<IPython.core.display.HTML object>"
      ]
     },
     "metadata": {},
     "output_type": "display_data"
    },
    {
     "data": {
      "text/html": [
       "<span style=\"color:cyan\"> |-tuner/initial_epoch: 0</span>"
      ],
      "text/plain": [
       "<IPython.core.display.HTML object>"
      ]
     },
     "metadata": {},
     "output_type": "display_data"
    },
    {
     "data": {
      "text/html": [
       "<span style=\"color:blue\"> |-tuner/round: 0</span>"
      ],
      "text/plain": [
       "<IPython.core.display.HTML object>"
      ]
     },
     "metadata": {},
     "output_type": "display_data"
    },
    {
     "data": {
      "text/html": [
       "<span style=\"color:cyan\"> |-units 1: 256</span>"
      ],
      "text/plain": [
       "<IPython.core.display.HTML object>"
      ]
     },
     "metadata": {},
     "output_type": "display_data"
    },
    {
     "data": {
      "text/html": [
       "<span style=\"color:blue\"> |-units 2: 128</span>"
      ],
      "text/plain": [
       "<IPython.core.display.HTML object>"
      ]
     },
     "metadata": {},
     "output_type": "display_data"
    },
    {
     "data": {
      "text/html": [
       "<span style=\"color:cyan\"> |-units 3: 256</span>"
      ],
      "text/plain": [
       "<IPython.core.display.HTML object>"
      ]
     },
     "metadata": {},
     "output_type": "display_data"
    },
    {
     "name": "stdout",
     "output_type": "stream",
     "text": [
      "Finished Tuning\n"
     ]
    }
   ],
   "source": [
    "print('Starting Tuning')\n",
    "X_train, X_val, y_train, y_val = train_test_split(tf_arr,tts_arr,test_size=0.2,random_state=84)\n",
    "tuner.search(X_train,y_train,validation_data=(X_val,y_val))\n",
    "print('Finished Tuning')"
   ]
  },
  {
   "cell_type": "markdown",
   "metadata": {
    "papermill": {
     "duration": 26.71745,
     "end_time": "2020-11-17T22:20:27.916712",
     "exception": false,
     "start_time": "2020-11-17T22:20:01.199262",
     "status": "completed"
    },
    "tags": []
   },
   "source": [
    "Chollet put this reasonably comprehensible notebook up on Kaggle: https://www.kaggle.com/fchollet/keras-kerastuner-best-practices/ Let's try the next steps from there."
   ]
  },
  {
   "cell_type": "code",
   "execution_count": 24,
   "metadata": {
    "execution": {
     "iopub.execute_input": "2020-11-17T22:21:21.342231Z",
     "iopub.status.busy": "2020-11-17T22:21:21.340373Z",
     "iopub.status.idle": "2020-11-17T22:21:21.346541Z",
     "shell.execute_reply": "2020-11-17T22:21:21.344066Z"
    },
    "papermill": {
     "duration": 26.92953,
     "end_time": "2020-11-17T22:21:21.346652",
     "exception": false,
     "start_time": "2020-11-17T22:20:54.417122",
     "status": "completed"
    },
    "tags": []
   },
   "outputs": [
    {
     "name": "stdout",
     "output_type": "stream",
     "text": [
      "{'units 1': 64, 'activation function 1': 'relu', 'dropout 1': 0.2, 'units 2': 512, 'activation function 2': 'elu', 'dropout 2': 0.2, 'units 3': 256, 'activation function 3': 'elu', 'dropout 3': 0.5, 'classify function': 'sigmoid', 'learn rate': 0.01, 'tuner/epochs': 2, 'tuner/initial_epoch': 0, 'tuner/bracket': 2, 'tuner/round': 0}\n"
     ]
    }
   ],
   "source": [
    "best_hp = tuner.get_best_hyperparameters()[0]\n",
    "print(best_hp.values)"
   ]
  },
  {
   "cell_type": "code",
   "execution_count": 25,
   "metadata": {
    "execution": {
     "iopub.execute_input": "2020-11-17T22:22:14.844951Z",
     "iopub.status.busy": "2020-11-17T22:22:14.844028Z",
     "iopub.status.idle": "2020-11-17T22:24:08.426022Z",
     "shell.execute_reply": "2020-11-17T22:24:08.426520Z"
    },
    "papermill": {
     "duration": 140.794081,
     "end_time": "2020-11-17T22:24:08.426686",
     "exception": false,
     "start_time": "2020-11-17T22:21:47.632605",
     "status": "completed"
    },
    "tags": []
   },
   "outputs": [
    {
     "name": "stdout",
     "output_type": "stream",
     "text": [
      "Epoch 1/50\n",
      "596/596 [==============================] - 2s 4ms/step - loss: 0.6940 - binary_crossentropy: 0.6939 - accuracy: 0.3883 - val_loss: 0.6931 - val_binary_crossentropy: 0.6931 - val_accuracy: 0.3932\n",
      "Epoch 2/50\n",
      "596/596 [==============================] - 2s 4ms/step - loss: 0.6931 - binary_crossentropy: 0.6931 - accuracy: 0.3942 - val_loss: 0.6931 - val_binary_crossentropy: 0.6931 - val_accuracy: 0.3932\n",
      "Epoch 3/50\n",
      "596/596 [==============================] - 2s 4ms/step - loss: 0.6931 - binary_crossentropy: 0.6931 - accuracy: 0.3943 - val_loss: 0.6931 - val_binary_crossentropy: 0.6931 - val_accuracy: 0.3932\n",
      "Epoch 4/50\n",
      "596/596 [==============================] - 2s 4ms/step - loss: 0.6931 - binary_crossentropy: 0.6931 - accuracy: 0.3943 - val_loss: 0.6931 - val_binary_crossentropy: 0.6931 - val_accuracy: 0.3932\n",
      "Epoch 5/50\n",
      "596/596 [==============================] - 2s 3ms/step - loss: 0.6931 - binary_crossentropy: 0.6931 - accuracy: 0.3942 - val_loss: 0.6931 - val_binary_crossentropy: 0.6931 - val_accuracy: 0.3932\n",
      "Epoch 6/50\n",
      "596/596 [==============================] - 2s 3ms/step - loss: 0.6931 - binary_crossentropy: 0.6931 - accuracy: 0.3943 - val_loss: 0.6931 - val_binary_crossentropy: 0.6931 - val_accuracy: 0.3932\n",
      "Epoch 7/50\n",
      "596/596 [==============================] - 2s 4ms/step - loss: 0.6931 - binary_crossentropy: 0.6931 - accuracy: 0.3942 - val_loss: 0.6931 - val_binary_crossentropy: 0.6931 - val_accuracy: 0.3932\n",
      "Epoch 8/50\n",
      "596/596 [==============================] - 2s 4ms/step - loss: 0.6931 - binary_crossentropy: 0.6931 - accuracy: 0.3942 - val_loss: 0.6931 - val_binary_crossentropy: 0.6931 - val_accuracy: 0.3932\n",
      "Epoch 9/50\n",
      "596/596 [==============================] - 2s 4ms/step - loss: 0.6931 - binary_crossentropy: 0.6931 - accuracy: 0.3940 - val_loss: 0.6931 - val_binary_crossentropy: 0.6931 - val_accuracy: 0.3932\n",
      "Epoch 10/50\n",
      "596/596 [==============================] - 2s 4ms/step - loss: 0.6931 - binary_crossentropy: 0.6931 - accuracy: 0.3943 - val_loss: 0.6931 - val_binary_crossentropy: 0.6931 - val_accuracy: 0.3932\n",
      "Epoch 11/50\n",
      "596/596 [==============================] - 2s 4ms/step - loss: 0.6931 - binary_crossentropy: 0.6931 - accuracy: 0.3943 - val_loss: 0.6931 - val_binary_crossentropy: 0.6931 - val_accuracy: 0.3932\n",
      "Epoch 12/50\n",
      "596/596 [==============================] - 2s 4ms/step - loss: 0.6931 - binary_crossentropy: 0.6931 - accuracy: 0.3942 - val_loss: 0.6931 - val_binary_crossentropy: 0.6931 - val_accuracy: 0.3932\n",
      "Epoch 13/50\n",
      "596/596 [==============================] - 2s 4ms/step - loss: 0.6931 - binary_crossentropy: 0.6931 - accuracy: 0.3940 - val_loss: 0.6931 - val_binary_crossentropy: 0.6931 - val_accuracy: 0.3932\n",
      "Epoch 14/50\n",
      "596/596 [==============================] - 2s 3ms/step - loss: 0.6931 - binary_crossentropy: 0.6931 - accuracy: 0.3943 - val_loss: 0.6931 - val_binary_crossentropy: 0.6931 - val_accuracy: 0.3932\n",
      "Epoch 15/50\n",
      "596/596 [==============================] - 2s 3ms/step - loss: 0.6931 - binary_crossentropy: 0.6931 - accuracy: 0.3942 - val_loss: 0.6931 - val_binary_crossentropy: 0.6931 - val_accuracy: 0.3932\n",
      "Epoch 16/50\n",
      "596/596 [==============================] - 2s 3ms/step - loss: 0.6931 - binary_crossentropy: 0.6931 - accuracy: 0.3942 - val_loss: 0.6931 - val_binary_crossentropy: 0.6931 - val_accuracy: 0.3932\n",
      "Epoch 17/50\n",
      "596/596 [==============================] - 2s 4ms/step - loss: 0.6931 - binary_crossentropy: 0.6931 - accuracy: 0.3942 - val_loss: 0.6931 - val_binary_crossentropy: 0.6931 - val_accuracy: 0.3932\n",
      "Epoch 18/50\n",
      "596/596 [==============================] - 2s 4ms/step - loss: 0.6931 - binary_crossentropy: 0.6931 - accuracy: 0.3942 - val_loss: 0.6931 - val_binary_crossentropy: 0.6931 - val_accuracy: 0.3932\n",
      "Epoch 19/50\n",
      "596/596 [==============================] - 2s 4ms/step - loss: 0.6931 - binary_crossentropy: 0.6931 - accuracy: 0.3941 - val_loss: 0.6931 - val_binary_crossentropy: 0.6931 - val_accuracy: 0.3932\n",
      "Epoch 20/50\n",
      "596/596 [==============================] - 2s 3ms/step - loss: 0.6931 - binary_crossentropy: 0.6931 - accuracy: 0.3942 - val_loss: 0.6931 - val_binary_crossentropy: 0.6931 - val_accuracy: 0.3932\n",
      "Epoch 21/50\n",
      "596/596 [==============================] - 2s 3ms/step - loss: 0.6931 - binary_crossentropy: 0.6931 - accuracy: 0.3942 - val_loss: 0.6931 - val_binary_crossentropy: 0.6931 - val_accuracy: 0.3932\n",
      "Epoch 22/50\n",
      "596/596 [==============================] - 3s 4ms/step - loss: 0.6931 - binary_crossentropy: 0.6931 - accuracy: 0.3942 - val_loss: 0.6931 - val_binary_crossentropy: 0.6931 - val_accuracy: 0.3932\n",
      "Epoch 23/50\n",
      "596/596 [==============================] - 3s 5ms/step - loss: 0.6931 - binary_crossentropy: 0.6931 - accuracy: 0.3942 - val_loss: 0.6931 - val_binary_crossentropy: 0.6931 - val_accuracy: 0.3932\n",
      "Epoch 24/50\n",
      "596/596 [==============================] - 3s 4ms/step - loss: 0.6931 - binary_crossentropy: 0.6931 - accuracy: 0.3942 - val_loss: 0.6931 - val_binary_crossentropy: 0.6931 - val_accuracy: 0.3932\n",
      "Epoch 25/50\n",
      "596/596 [==============================] - 2s 4ms/step - loss: 0.6931 - binary_crossentropy: 0.6931 - accuracy: 0.3943 - val_loss: 0.6931 - val_binary_crossentropy: 0.6931 - val_accuracy: 0.3932\n",
      "Epoch 26/50\n",
      "596/596 [==============================] - 2s 4ms/step - loss: 0.6931 - binary_crossentropy: 0.6931 - accuracy: 0.3941 - val_loss: 0.6931 - val_binary_crossentropy: 0.6931 - val_accuracy: 0.3932\n",
      "Epoch 27/50\n",
      "596/596 [==============================] - 2s 4ms/step - loss: 0.6931 - binary_crossentropy: 0.6931 - accuracy: 0.3942 - val_loss: 0.6931 - val_binary_crossentropy: 0.6931 - val_accuracy: 0.3932\n",
      "Epoch 28/50\n",
      "596/596 [==============================] - 2s 3ms/step - loss: 0.6931 - binary_crossentropy: 0.6931 - accuracy: 0.3943 - val_loss: 0.6931 - val_binary_crossentropy: 0.6931 - val_accuracy: 0.3932\n",
      "Epoch 29/50\n",
      "596/596 [==============================] - 2s 4ms/step - loss: 0.6931 - binary_crossentropy: 0.6931 - accuracy: 0.3942 - val_loss: 0.6931 - val_binary_crossentropy: 0.6931 - val_accuracy: 0.3932\n",
      "Epoch 30/50\n",
      "596/596 [==============================] - 2s 3ms/step - loss: 0.6931 - binary_crossentropy: 0.6931 - accuracy: 0.3942 - val_loss: 0.6931 - val_binary_crossentropy: 0.6931 - val_accuracy: 0.3932\n",
      "Epoch 31/50\n",
      "596/596 [==============================] - 2s 4ms/step - loss: 0.6931 - binary_crossentropy: 0.6931 - accuracy: 0.3942 - val_loss: 0.6931 - val_binary_crossentropy: 0.6931 - val_accuracy: 0.3932\n",
      "Epoch 32/50\n",
      "596/596 [==============================] - 2s 4ms/step - loss: 0.6931 - binary_crossentropy: 0.6931 - accuracy: 0.3943 - val_loss: 0.6931 - val_binary_crossentropy: 0.6931 - val_accuracy: 0.3932\n",
      "Epoch 33/50\n",
      "596/596 [==============================] - 2s 4ms/step - loss: 0.6931 - binary_crossentropy: 0.6931 - accuracy: 0.3942 - val_loss: 0.6931 - val_binary_crossentropy: 0.6931 - val_accuracy: 0.3932\n",
      "Epoch 34/50\n",
      "596/596 [==============================] - 2s 4ms/step - loss: 0.6931 - binary_crossentropy: 0.6931 - accuracy: 0.3943 - val_loss: 0.6931 - val_binary_crossentropy: 0.6931 - val_accuracy: 0.3932\n",
      "Epoch 35/50\n",
      "596/596 [==============================] - 2s 4ms/step - loss: 0.6931 - binary_crossentropy: 0.6931 - accuracy: 0.3941 - val_loss: 0.6931 - val_binary_crossentropy: 0.6931 - val_accuracy: 0.3932\n",
      "Epoch 36/50\n",
      "596/596 [==============================] - 2s 4ms/step - loss: 0.6931 - binary_crossentropy: 0.6931 - accuracy: 0.3942 - val_loss: 0.6931 - val_binary_crossentropy: 0.6931 - val_accuracy: 0.3932\n",
      "Epoch 37/50\n",
      "596/596 [==============================] - 3s 4ms/step - loss: 0.6931 - binary_crossentropy: 0.6931 - accuracy: 0.3942 - val_loss: 0.6931 - val_binary_crossentropy: 0.6931 - val_accuracy: 0.3932\n",
      "Epoch 38/50\n",
      "596/596 [==============================] - 2s 4ms/step - loss: 0.6931 - binary_crossentropy: 0.6931 - accuracy: 0.3942 - val_loss: 0.6931 - val_binary_crossentropy: 0.6931 - val_accuracy: 0.3932\n",
      "Epoch 39/50\n",
      "596/596 [==============================] - 2s 4ms/step - loss: 0.6931 - binary_crossentropy: 0.6931 - accuracy: 0.3941 - val_loss: 0.6931 - val_binary_crossentropy: 0.6931 - val_accuracy: 0.3932\n",
      "Epoch 40/50\n",
      "596/596 [==============================] - 2s 4ms/step - loss: 0.6931 - binary_crossentropy: 0.6931 - accuracy: 0.3942 - val_loss: 0.6931 - val_binary_crossentropy: 0.6931 - val_accuracy: 0.3932\n",
      "Epoch 41/50\n",
      "596/596 [==============================] - 2s 4ms/step - loss: 0.6931 - binary_crossentropy: 0.6931 - accuracy: 0.3943 - val_loss: 0.6931 - val_binary_crossentropy: 0.6931 - val_accuracy: 0.3932\n",
      "Epoch 42/50\n",
      "596/596 [==============================] - 2s 4ms/step - loss: 0.6931 - binary_crossentropy: 0.6931 - accuracy: 0.3942 - val_loss: 0.6931 - val_binary_crossentropy: 0.6931 - val_accuracy: 0.3932\n",
      "Epoch 43/50\n",
      "596/596 [==============================] - 2s 4ms/step - loss: 0.6931 - binary_crossentropy: 0.6931 - accuracy: 0.3942 - val_loss: 0.6931 - val_binary_crossentropy: 0.6931 - val_accuracy: 0.3932\n",
      "Epoch 44/50\n",
      "596/596 [==============================] - 2s 3ms/step - loss: 0.6931 - binary_crossentropy: 0.6931 - accuracy: 0.3942 - val_loss: 0.6931 - val_binary_crossentropy: 0.6931 - val_accuracy: 0.3932\n",
      "Epoch 45/50\n",
      "596/596 [==============================] - 2s 4ms/step - loss: 0.6931 - binary_crossentropy: 0.6931 - accuracy: 0.3942 - val_loss: 0.6931 - val_binary_crossentropy: 0.6931 - val_accuracy: 0.3932\n",
      "Epoch 46/50\n",
      "596/596 [==============================] - 2s 4ms/step - loss: 0.6931 - binary_crossentropy: 0.6931 - accuracy: 0.3941 - val_loss: 0.6931 - val_binary_crossentropy: 0.6931 - val_accuracy: 0.3932\n",
      "Epoch 47/50\n",
      "596/596 [==============================] - 2s 4ms/step - loss: 0.6931 - binary_crossentropy: 0.6931 - accuracy: 0.3942 - val_loss: 0.6931 - val_binary_crossentropy: 0.6931 - val_accuracy: 0.3932\n",
      "Epoch 48/50\n",
      "596/596 [==============================] - 2s 4ms/step - loss: 0.6931 - binary_crossentropy: 0.6931 - accuracy: 0.3942 - val_loss: 0.6931 - val_binary_crossentropy: 0.6931 - val_accuracy: 0.3932\n",
      "Epoch 49/50\n",
      "596/596 [==============================] - 3s 5ms/step - loss: 0.6931 - binary_crossentropy: 0.6931 - accuracy: 0.3942 - val_loss: 0.6931 - val_binary_crossentropy: 0.6931 - val_accuracy: 0.3932\n",
      "Epoch 50/50\n",
      "596/596 [==============================] - 2s 4ms/step - loss: 0.6931 - binary_crossentropy: 0.6931 - accuracy: 0.3942 - val_loss: 0.6931 - val_binary_crossentropy: 0.6931 - val_accuracy: 0.3932\n"
     ]
    }
   ],
   "source": [
    "model2 = build_model(best_hp)\n",
    "history = model2.fit(tf_arr, tts_arr, validation_split=0.2, epochs=50)"
   ]
  },
  {
   "cell_type": "code",
   "execution_count": 26,
   "metadata": {
    "execution": {
     "iopub.execute_input": "2020-11-17T22:25:07.452842Z",
     "iopub.status.busy": "2020-11-17T22:25:07.452158Z",
     "iopub.status.idle": "2020-11-17T22:25:07.521989Z",
     "shell.execute_reply": "2020-11-17T22:25:07.491174Z"
    },
    "papermill": {
     "duration": 29.62179,
     "end_time": "2020-11-17T22:25:07.522135",
     "exception": false,
     "start_time": "2020-11-17T22:24:37.900345",
     "status": "completed"
    },
    "tags": []
   },
   "outputs": [
    {
     "name": "stdout",
     "output_type": "stream",
     "text": [
      "Model: \"functional_3\"\n",
      "_________________________________________________________________\n",
      "Layer (type)                 Output Shape              Param #   \n",
      "=================================================================\n",
      "input_2 (InputLayer)         [(None, 875)]             0         \n",
      "_________________________________________________________________\n",
      "dense_4 (Dense)              (None, 64)                56064     \n",
      "_________________________________________________________________\n",
      "dropout_3 (Dropout)          (None, 64)                0         \n",
      "_________________________________________________________________\n",
      "dense_5 (Dense)              (None, 512)               33280     \n",
      "_________________________________________________________________\n",
      "dropout_4 (Dropout)          (None, 512)               0         \n",
      "_________________________________________________________________\n",
      "dense_6 (Dense)              (None, 256)               131328    \n",
      "_________________________________________________________________\n",
      "dropout_5 (Dropout)          (None, 256)               0         \n",
      "_________________________________________________________________\n",
      "dense_7 (Dense)              (None, 206)               52942     \n",
      "=================================================================\n",
      "Total params: 273,614\n",
      "Trainable params: 273,614\n",
      "Non-trainable params: 0\n",
      "_________________________________________________________________\n"
     ]
    }
   ],
   "source": [
    "model2.summary()"
   ]
  },
  {
   "cell_type": "code",
   "execution_count": 27,
   "metadata": {
    "execution": {
     "iopub.execute_input": "2020-11-17T22:26:06.614891Z",
     "iopub.status.busy": "2020-11-17T22:26:06.613364Z",
     "iopub.status.idle": "2020-11-17T22:26:06.617174Z",
     "shell.execute_reply": "2020-11-17T22:26:06.617724Z"
    },
    "papermill": {
     "duration": 29.943566,
     "end_time": "2020-11-17T22:26:06.617914",
     "exception": false,
     "start_time": "2020-11-17T22:25:36.674348",
     "status": "completed"
    },
    "tags": []
   },
   "outputs": [
    {
     "data": {
      "text/plain": [
       "1"
      ]
     },
     "execution_count": 27,
     "metadata": {},
     "output_type": "execute_result"
    }
   ],
   "source": [
    "val_logloss_per_epoch = history.history['val_binary_crossentropy']\n",
    "best_epoch = val_logloss_per_epoch.index(max(val_logloss_per_epoch)) + 1\n",
    "best_epoch"
   ]
  },
  {
   "cell_type": "code",
   "execution_count": 28,
   "metadata": {
    "execution": {
     "iopub.execute_input": "2020-11-17T22:27:04.970252Z",
     "iopub.status.busy": "2020-11-17T22:27:04.969516Z",
     "iopub.status.idle": "2020-11-17T22:27:08.413859Z",
     "shell.execute_reply": "2020-11-17T22:27:08.415323Z"
    },
    "papermill": {
     "duration": 32.440706,
     "end_time": "2020-11-17T22:27:08.415505",
     "exception": false,
     "start_time": "2020-11-17T22:26:35.974799",
     "status": "completed"
    },
    "tags": []
   },
   "outputs": [
    {
     "name": "stdout",
     "output_type": "stream",
     "text": [
      "745/745 [==============================] - 3s 3ms/step - loss: 0.6938 - binary_crossentropy: 0.6938 - accuracy: 0.3891\n"
     ]
    },
    {
     "data": {
      "text/plain": [
       "<tensorflow.python.keras.callbacks.History at 0x7fe052fe0110>"
      ]
     },
     "execution_count": 28,
     "metadata": {},
     "output_type": "execute_result"
    }
   ],
   "source": [
    "model2a = build_model(best_hp)\n",
    "model2a.fit(tf_arr, tts_arr, epochs=best_epoch)"
   ]
  },
  {
   "cell_type": "code",
   "execution_count": 29,
   "metadata": {
    "execution": {
     "iopub.execute_input": "2020-11-17T22:28:07.296461Z",
     "iopub.status.busy": "2020-11-17T22:28:07.295399Z",
     "iopub.status.idle": "2020-11-17T22:28:09.555118Z",
     "shell.execute_reply": "2020-11-17T22:28:09.555569Z"
    },
    "papermill": {
     "duration": 31.726306,
     "end_time": "2020-11-17T22:28:09.555713",
     "exception": false,
     "start_time": "2020-11-17T22:27:37.829407",
     "status": "completed"
    },
    "tags": []
   },
   "outputs": [
    {
     "name": "stdout",
     "output_type": "stream",
     "text": [
      "745/745 [==============================] - 2s 2ms/step - loss: 0.6931 - binary_crossentropy: 0.6931 - accuracy: 0.3941\n"
     ]
    },
    {
     "data": {
      "text/plain": [
       "[0.6931460499763489, 0.6931461095809937, 0.3940539062023163]"
      ]
     },
     "execution_count": 29,
     "metadata": {},
     "output_type": "execute_result"
    }
   ],
   "source": [
    "model2a.evaluate(tf_arr,tts_arr)"
   ]
  },
  {
   "cell_type": "code",
   "execution_count": 30,
   "metadata": {
    "execution": {
     "iopub.execute_input": "2020-11-17T22:29:08.396018Z",
     "iopub.status.busy": "2020-11-17T22:29:08.395138Z",
     "iopub.status.idle": "2020-11-17T22:29:09.901513Z",
     "shell.execute_reply": "2020-11-17T22:29:09.861763Z"
    },
    "papermill": {
     "duration": 31.164489,
     "end_time": "2020-11-17T22:29:09.901631",
     "exception": false,
     "start_time": "2020-11-17T22:28:38.737142",
     "status": "completed"
    },
    "tags": []
   },
   "outputs": [
    {
     "name": "stdout",
     "output_type": "stream",
     "text": [
      "Model: \"functional_5\"\n",
      "_________________________________________________________________\n",
      "Layer (type)                 Output Shape              Param #   \n",
      "=================================================================\n",
      "input_3 (InputLayer)         [(None, 875)]             0         \n",
      "_________________________________________________________________\n",
      "dense_8 (Dense)              (None, 64)                56064     \n",
      "_________________________________________________________________\n",
      "dropout_6 (Dropout)          (None, 64)                0         \n",
      "_________________________________________________________________\n",
      "dense_9 (Dense)              (None, 512)               33280     \n",
      "_________________________________________________________________\n",
      "dropout_7 (Dropout)          (None, 512)               0         \n",
      "_________________________________________________________________\n",
      "dense_10 (Dense)             (None, 256)               131328    \n",
      "_________________________________________________________________\n",
      "dropout_8 (Dropout)          (None, 256)               0         \n",
      "_________________________________________________________________\n",
      "dense_11 (Dense)             (None, 206)               52942     \n",
      "=================================================================\n",
      "Total params: 273,614\n",
      "Trainable params: 273,614\n",
      "Non-trainable params: 0\n",
      "_________________________________________________________________\n"
     ]
    }
   ],
   "source": [
    "model2a.save('/kaggle/working/model_design2.ker')\n",
    "model2a.summary()"
   ]
  },
  {
   "cell_type": "code",
   "execution_count": 31,
   "metadata": {
    "execution": {
     "iopub.execute_input": "2020-11-17T22:30:09.274129Z",
     "iopub.status.busy": "2020-11-17T22:30:09.273240Z",
     "iopub.status.idle": "2020-11-17T22:30:09.951706Z",
     "shell.execute_reply": "2020-11-17T22:30:09.951163Z"
    },
    "papermill": {
     "duration": 30.934315,
     "end_time": "2020-11-17T22:30:09.951856",
     "exception": false,
     "start_time": "2020-11-17T22:29:39.017541",
     "status": "completed"
    },
    "tags": []
   },
   "outputs": [],
   "source": [
    "testf_df = pd.read_csv('../input/lish-moa/test_features.csv',index_col='sig_id')"
   ]
  },
  {
   "cell_type": "code",
   "execution_count": 32,
   "metadata": {
    "execution": {
     "iopub.execute_input": "2020-11-17T22:31:09.010395Z",
     "iopub.status.busy": "2020-11-17T22:31:09.009577Z",
     "iopub.status.idle": "2020-11-17T22:31:10.304089Z",
     "shell.execute_reply": "2020-11-17T22:31:10.303015Z"
    },
    "papermill": {
     "duration": 30.677951,
     "end_time": "2020-11-17T22:31:10.304217",
     "exception": false,
     "start_time": "2020-11-17T22:30:39.626266",
     "status": "completed"
    },
    "tags": []
   },
   "outputs": [],
   "source": [
    "testf_df['cp_type']=testf_df['cp_type'].astype('category')\n",
    "testf_df['cp_time']=scaler.transform((np.array(testf_df['cp_time'])).reshape(-1,1))\n",
    "testf_df['cp_dose']=testf_df['cp_dose'].astype('category')\n",
    "testf_df.loc[:,'g-0':'c-99']=transformer.transform(testf_df.loc[:,'g-0':'c-99'])\n",
    "testf_df = oenc.transform(testf_df)\n",
    "testf_df['cp_type']=testf_df['cp_type']-1\n",
    "testf_df['cp_dose']=testf_df['cp_dose']-1\n",
    "testf_arr = np.array(testf_df)"
   ]
  },
  {
   "cell_type": "code",
   "execution_count": 33,
   "metadata": {
    "execution": {
     "iopub.execute_input": "2020-11-17T22:32:08.541946Z",
     "iopub.status.busy": "2020-11-17T22:32:08.541045Z",
     "iopub.status.idle": "2020-11-17T22:32:08.744855Z",
     "shell.execute_reply": "2020-11-17T22:32:08.744339Z"
    },
    "papermill": {
     "duration": 29.172704,
     "end_time": "2020-11-17T22:32:08.744971",
     "exception": false,
     "start_time": "2020-11-17T22:31:39.572267",
     "status": "completed"
    },
    "tags": []
   },
   "outputs": [
    {
     "data": {
      "text/html": [
       "<div>\n",
       "<style scoped>\n",
       "    .dataframe tbody tr th:only-of-type {\n",
       "        vertical-align: middle;\n",
       "    }\n",
       "\n",
       "    .dataframe tbody tr th {\n",
       "        vertical-align: top;\n",
       "    }\n",
       "\n",
       "    .dataframe thead th {\n",
       "        text-align: right;\n",
       "    }\n",
       "</style>\n",
       "<table border=\"1\" class=\"dataframe\">\n",
       "  <thead>\n",
       "    <tr style=\"text-align: right;\">\n",
       "      <th></th>\n",
       "      <th>5-alpha_reductase_inhibitor</th>\n",
       "      <th>11-beta-hsd1_inhibitor</th>\n",
       "      <th>acat_inhibitor</th>\n",
       "      <th>acetylcholine_receptor_agonist</th>\n",
       "      <th>acetylcholine_receptor_antagonist</th>\n",
       "      <th>acetylcholinesterase_inhibitor</th>\n",
       "      <th>adenosine_receptor_agonist</th>\n",
       "      <th>adenosine_receptor_antagonist</th>\n",
       "      <th>adenylyl_cyclase_activator</th>\n",
       "      <th>adrenergic_receptor_agonist</th>\n",
       "      <th>...</th>\n",
       "      <th>tropomyosin_receptor_kinase_inhibitor</th>\n",
       "      <th>trpv_agonist</th>\n",
       "      <th>trpv_antagonist</th>\n",
       "      <th>tubulin_inhibitor</th>\n",
       "      <th>tyrosine_kinase_inhibitor</th>\n",
       "      <th>ubiquitin_specific_protease_inhibitor</th>\n",
       "      <th>vegfr_inhibitor</th>\n",
       "      <th>vitamin_b</th>\n",
       "      <th>vitamin_d_receptor_agonist</th>\n",
       "      <th>wnt_inhibitor</th>\n",
       "    </tr>\n",
       "    <tr>\n",
       "      <th>sig_id</th>\n",
       "      <th></th>\n",
       "      <th></th>\n",
       "      <th></th>\n",
       "      <th></th>\n",
       "      <th></th>\n",
       "      <th></th>\n",
       "      <th></th>\n",
       "      <th></th>\n",
       "      <th></th>\n",
       "      <th></th>\n",
       "      <th></th>\n",
       "      <th></th>\n",
       "      <th></th>\n",
       "      <th></th>\n",
       "      <th></th>\n",
       "      <th></th>\n",
       "      <th></th>\n",
       "      <th></th>\n",
       "      <th></th>\n",
       "      <th></th>\n",
       "      <th></th>\n",
       "    </tr>\n",
       "  </thead>\n",
       "  <tbody>\n",
       "    <tr>\n",
       "      <th>id_0004d9e33</th>\n",
       "      <td>0.0</td>\n",
       "      <td>0.0</td>\n",
       "      <td>0.0</td>\n",
       "      <td>0.0</td>\n",
       "      <td>0.0</td>\n",
       "      <td>0.0</td>\n",
       "      <td>0.0</td>\n",
       "      <td>0.0</td>\n",
       "      <td>0.0</td>\n",
       "      <td>0.0</td>\n",
       "      <td>...</td>\n",
       "      <td>0.0</td>\n",
       "      <td>0.0</td>\n",
       "      <td>0.0</td>\n",
       "      <td>0.0</td>\n",
       "      <td>0.0</td>\n",
       "      <td>0.0</td>\n",
       "      <td>0.0</td>\n",
       "      <td>0.0</td>\n",
       "      <td>0.0</td>\n",
       "      <td>0.0</td>\n",
       "    </tr>\n",
       "    <tr>\n",
       "      <th>id_001897cda</th>\n",
       "      <td>0.0</td>\n",
       "      <td>0.0</td>\n",
       "      <td>0.0</td>\n",
       "      <td>0.0</td>\n",
       "      <td>0.0</td>\n",
       "      <td>0.0</td>\n",
       "      <td>0.0</td>\n",
       "      <td>0.0</td>\n",
       "      <td>0.0</td>\n",
       "      <td>0.0</td>\n",
       "      <td>...</td>\n",
       "      <td>0.0</td>\n",
       "      <td>0.0</td>\n",
       "      <td>0.0</td>\n",
       "      <td>0.0</td>\n",
       "      <td>0.0</td>\n",
       "      <td>0.0</td>\n",
       "      <td>0.0</td>\n",
       "      <td>0.0</td>\n",
       "      <td>0.0</td>\n",
       "      <td>0.0</td>\n",
       "    </tr>\n",
       "    <tr>\n",
       "      <th>id_002429b5b</th>\n",
       "      <td>0.0</td>\n",
       "      <td>0.0</td>\n",
       "      <td>0.0</td>\n",
       "      <td>0.0</td>\n",
       "      <td>0.0</td>\n",
       "      <td>0.0</td>\n",
       "      <td>0.0</td>\n",
       "      <td>0.0</td>\n",
       "      <td>0.0</td>\n",
       "      <td>0.0</td>\n",
       "      <td>...</td>\n",
       "      <td>0.0</td>\n",
       "      <td>0.0</td>\n",
       "      <td>0.0</td>\n",
       "      <td>0.0</td>\n",
       "      <td>0.0</td>\n",
       "      <td>0.0</td>\n",
       "      <td>0.0</td>\n",
       "      <td>0.0</td>\n",
       "      <td>0.0</td>\n",
       "      <td>0.0</td>\n",
       "    </tr>\n",
       "    <tr>\n",
       "      <th>id_00276f245</th>\n",
       "      <td>0.0</td>\n",
       "      <td>0.0</td>\n",
       "      <td>0.0</td>\n",
       "      <td>0.0</td>\n",
       "      <td>0.0</td>\n",
       "      <td>0.0</td>\n",
       "      <td>0.0</td>\n",
       "      <td>0.0</td>\n",
       "      <td>0.0</td>\n",
       "      <td>0.0</td>\n",
       "      <td>...</td>\n",
       "      <td>0.0</td>\n",
       "      <td>0.0</td>\n",
       "      <td>0.0</td>\n",
       "      <td>0.0</td>\n",
       "      <td>0.0</td>\n",
       "      <td>0.0</td>\n",
       "      <td>0.0</td>\n",
       "      <td>0.0</td>\n",
       "      <td>0.0</td>\n",
       "      <td>0.0</td>\n",
       "    </tr>\n",
       "    <tr>\n",
       "      <th>id_0027f1083</th>\n",
       "      <td>0.0</td>\n",
       "      <td>0.0</td>\n",
       "      <td>0.0</td>\n",
       "      <td>0.0</td>\n",
       "      <td>0.0</td>\n",
       "      <td>0.0</td>\n",
       "      <td>0.0</td>\n",
       "      <td>0.0</td>\n",
       "      <td>0.0</td>\n",
       "      <td>0.0</td>\n",
       "      <td>...</td>\n",
       "      <td>0.0</td>\n",
       "      <td>0.0</td>\n",
       "      <td>0.0</td>\n",
       "      <td>0.0</td>\n",
       "      <td>0.0</td>\n",
       "      <td>0.0</td>\n",
       "      <td>0.0</td>\n",
       "      <td>0.0</td>\n",
       "      <td>0.0</td>\n",
       "      <td>0.0</td>\n",
       "    </tr>\n",
       "  </tbody>\n",
       "</table>\n",
       "<p>5 rows × 206 columns</p>\n",
       "</div>"
      ],
      "text/plain": [
       "              5-alpha_reductase_inhibitor  11-beta-hsd1_inhibitor  \\\n",
       "sig_id                                                              \n",
       "id_0004d9e33                          0.0                     0.0   \n",
       "id_001897cda                          0.0                     0.0   \n",
       "id_002429b5b                          0.0                     0.0   \n",
       "id_00276f245                          0.0                     0.0   \n",
       "id_0027f1083                          0.0                     0.0   \n",
       "\n",
       "              acat_inhibitor  acetylcholine_receptor_agonist  \\\n",
       "sig_id                                                         \n",
       "id_0004d9e33             0.0                             0.0   \n",
       "id_001897cda             0.0                             0.0   \n",
       "id_002429b5b             0.0                             0.0   \n",
       "id_00276f245             0.0                             0.0   \n",
       "id_0027f1083             0.0                             0.0   \n",
       "\n",
       "              acetylcholine_receptor_antagonist  \\\n",
       "sig_id                                            \n",
       "id_0004d9e33                                0.0   \n",
       "id_001897cda                                0.0   \n",
       "id_002429b5b                                0.0   \n",
       "id_00276f245                                0.0   \n",
       "id_0027f1083                                0.0   \n",
       "\n",
       "              acetylcholinesterase_inhibitor  adenosine_receptor_agonist  \\\n",
       "sig_id                                                                     \n",
       "id_0004d9e33                             0.0                         0.0   \n",
       "id_001897cda                             0.0                         0.0   \n",
       "id_002429b5b                             0.0                         0.0   \n",
       "id_00276f245                             0.0                         0.0   \n",
       "id_0027f1083                             0.0                         0.0   \n",
       "\n",
       "              adenosine_receptor_antagonist  adenylyl_cyclase_activator  \\\n",
       "sig_id                                                                    \n",
       "id_0004d9e33                            0.0                         0.0   \n",
       "id_001897cda                            0.0                         0.0   \n",
       "id_002429b5b                            0.0                         0.0   \n",
       "id_00276f245                            0.0                         0.0   \n",
       "id_0027f1083                            0.0                         0.0   \n",
       "\n",
       "              adrenergic_receptor_agonist  ...  \\\n",
       "sig_id                                     ...   \n",
       "id_0004d9e33                          0.0  ...   \n",
       "id_001897cda                          0.0  ...   \n",
       "id_002429b5b                          0.0  ...   \n",
       "id_00276f245                          0.0  ...   \n",
       "id_0027f1083                          0.0  ...   \n",
       "\n",
       "              tropomyosin_receptor_kinase_inhibitor  trpv_agonist  \\\n",
       "sig_id                                                              \n",
       "id_0004d9e33                                    0.0           0.0   \n",
       "id_001897cda                                    0.0           0.0   \n",
       "id_002429b5b                                    0.0           0.0   \n",
       "id_00276f245                                    0.0           0.0   \n",
       "id_0027f1083                                    0.0           0.0   \n",
       "\n",
       "              trpv_antagonist  tubulin_inhibitor  tyrosine_kinase_inhibitor  \\\n",
       "sig_id                                                                        \n",
       "id_0004d9e33              0.0                0.0                        0.0   \n",
       "id_001897cda              0.0                0.0                        0.0   \n",
       "id_002429b5b              0.0                0.0                        0.0   \n",
       "id_00276f245              0.0                0.0                        0.0   \n",
       "id_0027f1083              0.0                0.0                        0.0   \n",
       "\n",
       "              ubiquitin_specific_protease_inhibitor  vegfr_inhibitor  \\\n",
       "sig_id                                                                 \n",
       "id_0004d9e33                                    0.0              0.0   \n",
       "id_001897cda                                    0.0              0.0   \n",
       "id_002429b5b                                    0.0              0.0   \n",
       "id_00276f245                                    0.0              0.0   \n",
       "id_0027f1083                                    0.0              0.0   \n",
       "\n",
       "              vitamin_b  vitamin_d_receptor_agonist  wnt_inhibitor  \n",
       "sig_id                                                              \n",
       "id_0004d9e33        0.0                         0.0            0.0  \n",
       "id_001897cda        0.0                         0.0            0.0  \n",
       "id_002429b5b        0.0                         0.0            0.0  \n",
       "id_00276f245        0.0                         0.0            0.0  \n",
       "id_0027f1083        0.0                         0.0            0.0  \n",
       "\n",
       "[5 rows x 206 columns]"
      ]
     },
     "execution_count": 33,
     "metadata": {},
     "output_type": "execute_result"
    }
   ],
   "source": [
    "tts_pred2 = model2a.predict(testf_arr)\n",
    "sub_df = pd.DataFrame(tts_pred2,index=testf_df.index,columns=tts_df.columns)\n",
    "sub_df.head()"
   ]
  },
  {
   "cell_type": "code",
   "execution_count": 34,
   "metadata": {
    "execution": {
     "iopub.execute_input": "2020-11-17T22:33:07.723492Z",
     "iopub.status.busy": "2020-11-17T22:33:07.722562Z",
     "iopub.status.idle": "2020-11-17T22:33:08.698700Z",
     "shell.execute_reply": "2020-11-17T22:33:08.697391Z"
    },
    "papermill": {
     "duration": 30.39659,
     "end_time": "2020-11-17T22:33:08.698852",
     "exception": false,
     "start_time": "2020-11-17T22:32:38.302262",
     "status": "completed"
    },
    "tags": []
   },
   "outputs": [],
   "source": [
    "sub_df.to_csv('/kaggle/working/submission.csv')"
   ]
  },
  {
   "cell_type": "code",
   "execution_count": null,
   "metadata": {
    "papermill": {
     "duration": 29.492338,
     "end_time": "2020-11-17T22:34:07.622529",
     "exception": false,
     "start_time": "2020-11-17T22:33:38.130191",
     "status": "completed"
    },
    "tags": []
   },
   "outputs": [],
   "source": []
  }
 ],
 "metadata": {
  "kernelspec": {
   "display_name": "Python 3",
   "language": "python",
   "name": "python3"
  },
  "language_info": {
   "codemirror_mode": {
    "name": "ipython",
    "version": 3
   },
   "file_extension": ".py",
   "mimetype": "text/x-python",
   "name": "python",
   "nbconvert_exporter": "python",
   "pygments_lexer": "ipython3",
   "version": "3.8.5"
  },
  "papermill": {
   "duration": 2100.465881,
   "end_time": "2020-11-17T22:34:38.271672",
   "environment_variables": {},
   "exception": null,
   "input_path": "__notebook__.ipynb",
   "output_path": "__notebook__.ipynb",
   "parameters": {},
   "start_time": "2020-11-17T21:59:37.805791",
   "version": "2.1.0"
  }
 },
 "nbformat": 4,
 "nbformat_minor": 4
}

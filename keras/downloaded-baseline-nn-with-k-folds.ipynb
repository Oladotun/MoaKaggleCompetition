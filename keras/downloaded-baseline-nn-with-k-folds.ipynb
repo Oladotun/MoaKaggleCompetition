{
 "cells": [
  {
   "cell_type": "markdown",
   "execution_count": null,
   "metadata": {
    "papermill": {
     "duration": 0.00502,
     "end_time": "2020-09-05T14:31:35.215708",
     "exception": false,
     "start_time": "2020-09-05T14:31:35.210688",
     "status": "completed"
    },
    "tags": []
   },
   "source": [
    "# Baseline quantile regression with K-fold\n",
    "\n",
    "# Please remember to upvote, especially if you fork! \n",
    "### It encourages me to make more content like this.\n",
    "\n",
    "Please leave feedback in the comments, as a newbie, it helps a ton!\n",
    "\n",
    "\n",
    "#### Changelog\n",
    "Implemented K-folds\n",
    "\n",
    "Changed to multilabel and sigmoid\n",
    "\n",
    "\n",
    "I have run out of submissions for today (due to errors) unfortunately, but this notebook should perform around 0.15 according to CV."
   ]
  },
  {
   "cell_type": "code",
   "execution_count": 1,
   "metadata": {
    "_cell_guid": "b1076dfc-b9ad-4769-8c92-a6c4dae69d19",
    "_uuid": "8f2839f25d086af736a60e9eeb907d3b93b6e0e5",
    "execution": {
     "iopub.execute_input": "2020-09-05T14:31:35.230201Z",
     "iopub.status.busy": "2020-09-05T14:31:35.229482Z",
     "iopub.status.idle": "2020-09-05T14:31:40.380770Z",
     "shell.execute_reply": "2020-09-05T14:31:40.379657Z"
    },
    "papermill": {
     "duration": 5.160912,
     "end_time": "2020-09-05T14:31:40.380891",
     "exception": false,
     "start_time": "2020-09-05T14:31:35.219979",
     "status": "completed"
    },
    "tags": []
   },
   "outputs": [],
   "source": [
    "import numpy as np\n",
    "import pandas as pd\n",
    "import tensorflow as tf\n",
    "import tensorflow.keras.backend as K\n",
    "import tensorflow.keras.layers as L\n",
    "import tensorflow.keras.models as M\n",
    "import random\n",
    "import os\n",
    "from tensorflow.keras.callbacks import ReduceLROnPlateau"
   ]
  },
  {
   "cell_type": "code",
   "execution_count": 2,
   "metadata": {
    "execution": {
     "iopub.execute_input": "2020-09-05T14:31:40.397199Z",
     "iopub.status.busy": "2020-09-05T14:31:40.395432Z",
     "iopub.status.idle": "2020-09-05T14:31:40.397894Z",
     "shell.execute_reply": "2020-09-05T14:31:40.398404Z"
    },
    "papermill": {
     "duration": 0.013229,
     "end_time": "2020-09-05T14:31:40.398517",
     "exception": false,
     "start_time": "2020-09-05T14:31:40.385288",
     "status": "completed"
    },
    "tags": []
   },
   "outputs": [],
   "source": [
    "def seed_everything(seed=2020):\n",
    "    random.seed(seed)\n",
    "    os.environ['PYTHONHASHSEED'] = str(seed)\n",
    "    np.random.seed(seed)\n",
    "    tf.random.set_seed(seed)\n",
    "    \n",
    "seed_everything(42)\n"
   ]
  },
  {
   "cell_type": "code",
   "execution_count": 3,
   "metadata": {
    "_cell_guid": "79c7e3d0-c299-4dcb-8224-4455121ee9b0",
    "_uuid": "d629ff2d2480ee46fbb7e2d37f6b5fab8052498a",
    "execution": {
     "iopub.execute_input": "2020-09-05T14:31:40.413789Z",
     "iopub.status.busy": "2020-09-05T14:31:40.413155Z",
     "iopub.status.idle": "2020-09-05T14:31:45.112118Z",
     "shell.execute_reply": "2020-09-05T14:31:45.111029Z"
    },
    "papermill": {
     "duration": 4.709485,
     "end_time": "2020-09-05T14:31:45.112237",
     "exception": false,
     "start_time": "2020-09-05T14:31:40.402752",
     "status": "completed"
    },
    "tags": []
   },
   "outputs": [],
   "source": [
    "train_features = pd.read_csv('../input/lish-moa/train_features.csv')\n",
    "train_targets = pd.read_csv('../input/lish-moa/train_targets_scored.csv')"
   ]
  },
  {
   "cell_type": "code",
   "execution_count": 4,
   "metadata": {
    "execution": {
     "iopub.execute_input": "2020-09-05T14:31:45.126129Z",
     "iopub.status.busy": "2020-09-05T14:31:45.125129Z",
     "iopub.status.idle": "2020-09-05T14:31:45.165540Z",
     "shell.execute_reply": "2020-09-05T14:31:45.166061Z"
    },
    "papermill": {
     "duration": 0.049434,
     "end_time": "2020-09-05T14:31:45.166191",
     "exception": false,
     "start_time": "2020-09-05T14:31:45.116757",
     "status": "completed"
    },
    "tags": []
   },
   "outputs": [],
   "source": [
    "COLS = ['cp_type','cp_dose']\n",
    "FE = []\n",
    "for col in COLS:\n",
    "    for mod in train_features[col].unique():\n",
    "        FE.append(mod)\n",
    "        train_features[mod] = (train_features[col] == mod).astype(int)\n",
    "del train_features['sig_id']\n",
    "del train_features['cp_type']\n",
    "del train_features['cp_dose']\n",
    "FE+=list(train_features.columns) \n",
    "del train_targets['sig_id']"
   ]
  },
  {
   "cell_type": "code",
   "execution_count": 5,
   "metadata": {
    "execution": {
     "iopub.execute_input": "2020-09-05T14:31:45.184872Z",
     "iopub.status.busy": "2020-09-05T14:31:45.183284Z",
     "iopub.status.idle": "2020-09-05T14:31:45.185802Z",
     "shell.execute_reply": "2020-09-05T14:31:45.186352Z"
    },
    "papermill": {
     "duration": 0.016085,
     "end_time": "2020-09-05T14:31:45.186464",
     "exception": false,
     "start_time": "2020-09-05T14:31:45.170379",
     "status": "completed"
    },
    "tags": []
   },
   "outputs": [],
   "source": [
    "def model():\n",
    "    model = tf.keras.Sequential([\n",
    "        tf.keras.layers.Input(877),\n",
    "        tf.keras.layers.BatchNormalization(),\n",
    "        tf.keras.layers.Dense(4096, activation=\"relu\"),\n",
    "        tf.keras.layers.BatchNormalization(),\n",
    "        tf.keras.layers.Dropout(0.2),\n",
    "        tf.keras.layers.Dense(4096, activation=\"relu\"),\n",
    "        tf.keras.layers.BatchNormalization(),\n",
    "        tf.keras.layers.Dropout(0.2),\n",
    "        tf.keras.layers.Dense(206, activation=\"sigmoid\")\n",
    "        ])\n",
    "\n",
    "    model.compile(optimizer=tf.keras.optimizers.Adam(lr=2.75e-5), loss='binary_crossentropy', metrics=[\"accuracy\", \"AUC\"])\n",
    "    return model\n",
    "# model.fit(train_dataset, epochs=10, batch_size=128)"
   ]
  },
  {
   "cell_type": "code",
   "execution_count": 6,
   "metadata": {
    "execution": {
     "iopub.execute_input": "2020-09-05T14:31:45.203811Z",
     "iopub.status.busy": "2020-09-05T14:31:45.202957Z",
     "iopub.status.idle": "2020-09-05T14:35:38.948525Z",
     "shell.execute_reply": "2020-09-05T14:35:38.947347Z"
    },
    "papermill": {
     "duration": 233.758015,
     "end_time": "2020-09-05T14:35:38.948659",
     "exception": false,
     "start_time": "2020-09-05T14:31:45.190644",
     "status": "completed"
    },
    "tags": []
   },
   "outputs": [
    {
     "name": "stdout",
     "output_type": "stream",
     "text": [
      "FOLD 1\n",
      "train [0.01489396020770073, 0.20350638031959534, 0.9504886865615845]\n",
      "val [0.017111966386437416, 0.11463363468647003, 0.8298360705375671]\n",
      "predict val...\n",
      "predict test...\n",
      "FOLD 2\n",
      "train [0.015128914266824722, 0.19516035914421082, 0.9459377527236938]\n",
      "val [0.017382029443979263, 0.12324165552854538, 0.8192379474639893]\n",
      "predict val...\n",
      "predict test...\n",
      "FOLD 3\n",
      "train [0.015040035359561443, 0.21353210508823395, 0.949771523475647]\n",
      "val [0.017083724960684776, 0.138148233294487, 0.8292100429534912]\n",
      "predict val...\n",
      "predict test...\n",
      "FOLD 4\n",
      "train [0.015567224472761154, 0.19642013311386108, 0.9476585388183594]\n",
      "val [0.01778488978743553, 0.12450136244297028, 0.8327372670173645]\n",
      "predict val...\n",
      "predict test...\n",
      "FOLD 5\n",
      "train [0.015148717910051346, 0.19131849706172943, 0.9469786286354065]\n",
      "val [0.017557326704263687, 0.1136077269911766, 0.8280659317970276]\n",
      "predict val...\n",
      "predict test...\n"
     ]
    }
   ],
   "source": [
    "from sklearn.model_selection import KFold\n",
    "NFOLD = 5\n",
    "kf = KFold(n_splits=NFOLD)\n",
    "\n",
    "BATCH_SIZE=128\n",
    "EPOCHS=35\n",
    "\n",
    "test_features = pd.read_csv('../input/lish-moa/test_features.csv')\n",
    "for col in COLS:\n",
    "    for mod in test_features[col].unique():\n",
    "        test_features[mod] = (test_features[col] == mod).astype(int)\n",
    "sig_id = pd.DataFrame()\n",
    "sig_id = test_features.pop('sig_id')\n",
    "del test_features['cp_type']\n",
    "del test_features['cp_dose']\n",
    "\n",
    "pe = np.zeros((test_features.shape[0], 206))\n",
    "\n",
    "train_features = train_features.values\n",
    "train_targets = train_targets.values\n",
    "pred = np.zeros((train_features.shape[0], 206))\n",
    "\n",
    "cnt=0\n",
    "for tr_idx, val_idx in kf.split(train_features):\n",
    "    reduce_lr_loss = ReduceLROnPlateau(monitor='val_loss', factor=0.1, patience=3, verbose=1, epsilon=1e-4, mode='min')\n",
    "    cnt += 1\n",
    "    print(f\"FOLD {cnt}\")\n",
    "    net = model()\n",
    "    net.fit(train_features[tr_idx], train_targets[tr_idx], batch_size=BATCH_SIZE, epochs=EPOCHS, \n",
    "            validation_data=(train_features[val_idx], train_targets[val_idx]), verbose=0, callbacks=[reduce_lr_loss])\n",
    "    print(\"train\", net.evaluate(train_features[tr_idx], train_targets[tr_idx], verbose=0, batch_size=BATCH_SIZE))\n",
    "    print(\"val\", net.evaluate(train_features[val_idx], train_targets[val_idx], verbose=0, batch_size=BATCH_SIZE))\n",
    "    print(\"predict val...\")\n",
    "    pred[val_idx] = net.predict(train_features[val_idx], batch_size=BATCH_SIZE, verbose=0)\n",
    "    print(\"predict test...\")\n",
    "    pe += net.predict(test_features, batch_size=BATCH_SIZE, verbose=0) / NFOLD"
   ]
  },
  {
   "cell_type": "code",
   "execution_count": 7,
   "metadata": {
    "execution": {
     "iopub.execute_input": "2020-09-05T14:35:38.967752Z",
     "iopub.status.busy": "2020-09-05T14:35:38.966935Z",
     "iopub.status.idle": "2020-09-05T14:35:39.214055Z",
     "shell.execute_reply": "2020-09-05T14:35:39.213424Z"
    },
    "papermill": {
     "duration": 0.259949,
     "end_time": "2020-09-05T14:35:39.214164",
     "exception": false,
     "start_time": "2020-09-05T14:35:38.954215",
     "status": "completed"
    },
    "tags": []
   },
   "outputs": [],
   "source": [
    "pe.shape\n",
    "\n",
    "columns = pd.read_csv('../input/lish-moa/train_targets_scored.csv')\n",
    "del columns['sig_id']\n",
    "sub = pd.DataFrame(data=pe, columns=columns.columns)"
   ]
  },
  {
   "cell_type": "code",
   "execution_count": 8,
   "metadata": {
    "execution": {
     "iopub.execute_input": "2020-09-05T14:35:39.231603Z",
     "iopub.status.busy": "2020-09-05T14:35:39.230463Z",
     "iopub.status.idle": "2020-09-05T14:35:39.323250Z",
     "shell.execute_reply": "2020-09-05T14:35:39.322680Z"
    },
    "papermill": {
     "duration": 0.10382,
     "end_time": "2020-09-05T14:35:39.323370",
     "exception": false,
     "start_time": "2020-09-05T14:35:39.219550",
     "status": "completed"
    },
    "tags": []
   },
   "outputs": [],
   "source": [
    "sample = pd.read_csv('../input/lish-moa/sample_submission.csv')\n",
    "sub.insert(0, column = 'sig_id', value=sample['sig_id'])"
   ]
  },
  {
   "cell_type": "code",
   "execution_count": 9,
   "metadata": {
    "execution": {
     "iopub.execute_input": "2020-09-05T14:35:39.337855Z",
     "iopub.status.busy": "2020-09-05T14:35:39.337275Z",
     "iopub.status.idle": "2020-09-05T14:35:41.374560Z",
     "shell.execute_reply": "2020-09-05T14:35:41.373811Z"
    },
    "papermill": {
     "duration": 2.046058,
     "end_time": "2020-09-05T14:35:41.374680",
     "exception": false,
     "start_time": "2020-09-05T14:35:39.328622",
     "status": "completed"
    },
    "tags": []
   },
   "outputs": [],
   "source": [
    "sub.to_csv('submission.csv', index=False)"
   ]
  },
  {
   "cell_type": "code",
   "execution_count": 10,
   "metadata": {
    "execution": {
     "iopub.execute_input": "2020-09-05T14:35:41.394219Z",
     "iopub.status.busy": "2020-09-05T14:35:41.393379Z",
     "iopub.status.idle": "2020-09-05T14:35:41.496221Z",
     "shell.execute_reply": "2020-09-05T14:35:41.496710Z"
    },
    "papermill": {
     "duration": 0.116785,
     "end_time": "2020-09-05T14:35:41.496837",
     "exception": false,
     "start_time": "2020-09-05T14:35:41.380052",
     "status": "completed"
    },
    "tags": []
   },
   "outputs": [
    {
     "data": {
      "text/plain": [
       "[]"
      ]
     },
     "execution_count": 10,
     "metadata": {},
     "output_type": "execute_result"
    }
   ],
   "source": [
    "# Make sure all the columns between our submission and the sample submission are the same\n",
    "def Diff(list1, list2): \n",
    "    return (list(list(set(list1)-set(list2)) + list(set(list2)-set(list1)))) \n",
    "\n",
    "Diff (sub.columns, pd.read_csv('../input/lish-moa/sample_submission.csv').columns)"
   ]
  },
  {
   "cell_type": "code",
   "execution_count": null,
   "metadata": {
    "papermill": {
     "duration": 0.00495,
     "end_time": "2020-09-05T14:35:41.507172",
     "exception": false,
     "start_time": "2020-09-05T14:35:41.502222",
     "status": "completed"
    },
    "tags": []
   },
   "outputs": [],
   "source": []
  }
 ],
 "metadata": {
  "kernelspec": {
   "display_name": "Python 3",
   "language": "python",
   "name": "python3"
  },
  "language_info": {
   "codemirror_mode": {
    "name": "ipython",
    "version": 3
   },
   "file_extension": ".py",
   "mimetype": "text/x-python",
   "name": "python",
   "nbconvert_exporter": "python",
   "pygments_lexer": "ipython3",
   "version": "3.7.6"
  },
  "papermill": {
   "duration": 251.891496,
   "end_time": "2020-09-05T14:35:42.989141",
   "environment_variables": {},
   "exception": null,
   "input_path": "__notebook__.ipynb",
   "output_path": "__notebook__.ipynb",
   "parameters": {},
   "start_time": "2020-09-05T14:31:31.097645",
   "version": "2.1.0"
  }
 },
 "nbformat": 4,
 "nbformat_minor": 4
}

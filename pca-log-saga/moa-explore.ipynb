{
 "cells": [
  {
   "cell_type": "markdown",
   "metadata": {},
   "source": [
    "### Data exploration notebook for Kaggle `lish-moa` competition"
   ]
  },
  {
   "cell_type": "code",
   "execution_count": 1,
   "metadata": {},
   "outputs": [],
   "source": [
    "import pandas as pd"
   ]
  },
  {
   "cell_type": "code",
   "execution_count": 27,
   "metadata": {},
   "outputs": [
    {
     "name": "stderr",
     "output_type": "stream",
     "text": [
      "Matplotlib is building the font cache; this may take a moment.\n"
     ]
    }
   ],
   "source": [
    "import seaborn as sns"
   ]
  },
  {
   "cell_type": "code",
   "execution_count": 36,
   "metadata": {},
   "outputs": [],
   "source": [
    "import matplotlib.pyplot as plt"
   ]
  },
  {
   "cell_type": "code",
   "execution_count": 2,
   "metadata": {},
   "outputs": [
    {
     "data": {
      "text/html": [
       "<div>\n",
       "<style scoped>\n",
       "    .dataframe tbody tr th:only-of-type {\n",
       "        vertical-align: middle;\n",
       "    }\n",
       "\n",
       "    .dataframe tbody tr th {\n",
       "        vertical-align: top;\n",
       "    }\n",
       "\n",
       "    .dataframe thead th {\n",
       "        text-align: right;\n",
       "    }\n",
       "</style>\n",
       "<table border=\"1\" class=\"dataframe\">\n",
       "  <thead>\n",
       "    <tr style=\"text-align: right;\">\n",
       "      <th></th>\n",
       "      <th>sig_id</th>\n",
       "      <th>cp_type</th>\n",
       "      <th>cp_time</th>\n",
       "      <th>cp_dose</th>\n",
       "      <th>g-0</th>\n",
       "      <th>g-1</th>\n",
       "      <th>g-2</th>\n",
       "      <th>g-3</th>\n",
       "      <th>g-4</th>\n",
       "      <th>g-5</th>\n",
       "      <th>...</th>\n",
       "      <th>c-90</th>\n",
       "      <th>c-91</th>\n",
       "      <th>c-92</th>\n",
       "      <th>c-93</th>\n",
       "      <th>c-94</th>\n",
       "      <th>c-95</th>\n",
       "      <th>c-96</th>\n",
       "      <th>c-97</th>\n",
       "      <th>c-98</th>\n",
       "      <th>c-99</th>\n",
       "    </tr>\n",
       "  </thead>\n",
       "  <tbody>\n",
       "    <tr>\n",
       "      <th>0</th>\n",
       "      <td>id_000644bb2</td>\n",
       "      <td>trt_cp</td>\n",
       "      <td>24</td>\n",
       "      <td>D1</td>\n",
       "      <td>1.0620</td>\n",
       "      <td>0.5577</td>\n",
       "      <td>-0.2479</td>\n",
       "      <td>-0.6208</td>\n",
       "      <td>-0.1944</td>\n",
       "      <td>-1.0120</td>\n",
       "      <td>...</td>\n",
       "      <td>0.2862</td>\n",
       "      <td>0.2584</td>\n",
       "      <td>0.8076</td>\n",
       "      <td>0.5523</td>\n",
       "      <td>-0.1912</td>\n",
       "      <td>0.6584</td>\n",
       "      <td>-0.3981</td>\n",
       "      <td>0.2139</td>\n",
       "      <td>0.3801</td>\n",
       "      <td>0.4176</td>\n",
       "    </tr>\n",
       "    <tr>\n",
       "      <th>1</th>\n",
       "      <td>id_000779bfc</td>\n",
       "      <td>trt_cp</td>\n",
       "      <td>72</td>\n",
       "      <td>D1</td>\n",
       "      <td>0.0743</td>\n",
       "      <td>0.4087</td>\n",
       "      <td>0.2991</td>\n",
       "      <td>0.0604</td>\n",
       "      <td>1.0190</td>\n",
       "      <td>0.5207</td>\n",
       "      <td>...</td>\n",
       "      <td>-0.4265</td>\n",
       "      <td>0.7543</td>\n",
       "      <td>0.4708</td>\n",
       "      <td>0.0230</td>\n",
       "      <td>0.2957</td>\n",
       "      <td>0.4899</td>\n",
       "      <td>0.1522</td>\n",
       "      <td>0.1241</td>\n",
       "      <td>0.6077</td>\n",
       "      <td>0.7371</td>\n",
       "    </tr>\n",
       "    <tr>\n",
       "      <th>2</th>\n",
       "      <td>id_000a6266a</td>\n",
       "      <td>trt_cp</td>\n",
       "      <td>48</td>\n",
       "      <td>D1</td>\n",
       "      <td>0.6280</td>\n",
       "      <td>0.5817</td>\n",
       "      <td>1.5540</td>\n",
       "      <td>-0.0764</td>\n",
       "      <td>-0.0323</td>\n",
       "      <td>1.2390</td>\n",
       "      <td>...</td>\n",
       "      <td>-0.7250</td>\n",
       "      <td>-0.6297</td>\n",
       "      <td>0.6103</td>\n",
       "      <td>0.0223</td>\n",
       "      <td>-1.3240</td>\n",
       "      <td>-0.3174</td>\n",
       "      <td>-0.6417</td>\n",
       "      <td>-0.2187</td>\n",
       "      <td>-1.4080</td>\n",
       "      <td>0.6931</td>\n",
       "    </tr>\n",
       "    <tr>\n",
       "      <th>3</th>\n",
       "      <td>id_0015fd391</td>\n",
       "      <td>trt_cp</td>\n",
       "      <td>48</td>\n",
       "      <td>D1</td>\n",
       "      <td>-0.5138</td>\n",
       "      <td>-0.2491</td>\n",
       "      <td>-0.2656</td>\n",
       "      <td>0.5288</td>\n",
       "      <td>4.0620</td>\n",
       "      <td>-0.8095</td>\n",
       "      <td>...</td>\n",
       "      <td>-2.0990</td>\n",
       "      <td>-0.6441</td>\n",
       "      <td>-5.6300</td>\n",
       "      <td>-1.3780</td>\n",
       "      <td>-0.8632</td>\n",
       "      <td>-1.2880</td>\n",
       "      <td>-1.6210</td>\n",
       "      <td>-0.8784</td>\n",
       "      <td>-0.3876</td>\n",
       "      <td>-0.8154</td>\n",
       "    </tr>\n",
       "    <tr>\n",
       "      <th>4</th>\n",
       "      <td>id_001626bd3</td>\n",
       "      <td>trt_cp</td>\n",
       "      <td>72</td>\n",
       "      <td>D2</td>\n",
       "      <td>-0.3254</td>\n",
       "      <td>-0.4009</td>\n",
       "      <td>0.9700</td>\n",
       "      <td>0.6919</td>\n",
       "      <td>1.4180</td>\n",
       "      <td>-0.8244</td>\n",
       "      <td>...</td>\n",
       "      <td>0.0042</td>\n",
       "      <td>0.0048</td>\n",
       "      <td>0.6670</td>\n",
       "      <td>1.0690</td>\n",
       "      <td>0.5523</td>\n",
       "      <td>-0.3031</td>\n",
       "      <td>0.1094</td>\n",
       "      <td>0.2885</td>\n",
       "      <td>-0.3786</td>\n",
       "      <td>0.7125</td>\n",
       "    </tr>\n",
       "  </tbody>\n",
       "</table>\n",
       "<p>5 rows × 876 columns</p>\n",
       "</div>"
      ],
      "text/plain": [
       "         sig_id cp_type  cp_time cp_dose     g-0     g-1     g-2     g-3  \\\n",
       "0  id_000644bb2  trt_cp       24      D1  1.0620  0.5577 -0.2479 -0.6208   \n",
       "1  id_000779bfc  trt_cp       72      D1  0.0743  0.4087  0.2991  0.0604   \n",
       "2  id_000a6266a  trt_cp       48      D1  0.6280  0.5817  1.5540 -0.0764   \n",
       "3  id_0015fd391  trt_cp       48      D1 -0.5138 -0.2491 -0.2656  0.5288   \n",
       "4  id_001626bd3  trt_cp       72      D2 -0.3254 -0.4009  0.9700  0.6919   \n",
       "\n",
       "      g-4     g-5  ...    c-90    c-91    c-92    c-93    c-94    c-95  \\\n",
       "0 -0.1944 -1.0120  ...  0.2862  0.2584  0.8076  0.5523 -0.1912  0.6584   \n",
       "1  1.0190  0.5207  ... -0.4265  0.7543  0.4708  0.0230  0.2957  0.4899   \n",
       "2 -0.0323  1.2390  ... -0.7250 -0.6297  0.6103  0.0223 -1.3240 -0.3174   \n",
       "3  4.0620 -0.8095  ... -2.0990 -0.6441 -5.6300 -1.3780 -0.8632 -1.2880   \n",
       "4  1.4180 -0.8244  ...  0.0042  0.0048  0.6670  1.0690  0.5523 -0.3031   \n",
       "\n",
       "     c-96    c-97    c-98    c-99  \n",
       "0 -0.3981  0.2139  0.3801  0.4176  \n",
       "1  0.1522  0.1241  0.6077  0.7371  \n",
       "2 -0.6417 -0.2187 -1.4080  0.6931  \n",
       "3 -1.6210 -0.8784 -0.3876 -0.8154  \n",
       "4  0.1094  0.2885 -0.3786  0.7125  \n",
       "\n",
       "[5 rows x 876 columns]"
      ]
     },
     "execution_count": 2,
     "metadata": {},
     "output_type": "execute_result"
    }
   ],
   "source": [
    "tf_df = pd.read_csv('train_features.csv')\n",
    "tf_df.head()"
   ]
  },
  {
   "cell_type": "markdown",
   "metadata": {},
   "source": [
    "### 0-771 gene expression features, 0-99 cell viability features"
   ]
  },
  {
   "cell_type": "code",
   "execution_count": 3,
   "metadata": {},
   "outputs": [
    {
     "data": {
      "text/plain": [
       "-10.0"
      ]
     },
     "execution_count": 3,
     "metadata": {},
     "output_type": "execute_result"
    }
   ],
   "source": [
    "(tf_df.loc[:,'g-0':'g-771'].min()).min()"
   ]
  },
  {
   "cell_type": "code",
   "execution_count": 4,
   "metadata": {},
   "outputs": [
    {
     "data": {
      "text/plain": [
       "10.0"
      ]
     },
     "execution_count": 4,
     "metadata": {},
     "output_type": "execute_result"
    }
   ],
   "source": [
    "(tf_df.loc[:,'g-0':'g-771'].max()).max()"
   ]
  },
  {
   "cell_type": "code",
   "execution_count": 5,
   "metadata": {},
   "outputs": [
    {
     "data": {
      "text/plain": [
       "g-0      -5.513\n",
       "g-1      -5.737\n",
       "g-2      -9.104\n",
       "g-3      -5.998\n",
       "g-4      -6.369\n",
       "          ...  \n",
       "g-767   -10.000\n",
       "g-768    -4.269\n",
       "g-769   -10.000\n",
       "g-770   -10.000\n",
       "g-771   -10.000\n",
       "Length: 772, dtype: float64"
      ]
     },
     "execution_count": 5,
     "metadata": {},
     "output_type": "execute_result"
    }
   ],
   "source": [
    "tf_df.loc[:,'g-0':'g-771'].min()"
   ]
  },
  {
   "cell_type": "code",
   "execution_count": 6,
   "metadata": {},
   "outputs": [
    {
     "data": {
      "text/plain": [
       "g-0      10.000\n",
       "g-1       5.039\n",
       "g-2       8.257\n",
       "g-3      10.000\n",
       "g-4      10.000\n",
       "          ...  \n",
       "g-767     6.317\n",
       "g-768    10.000\n",
       "g-769     5.911\n",
       "g-770    10.000\n",
       "g-771    10.000\n",
       "Length: 772, dtype: float64"
      ]
     },
     "execution_count": 6,
     "metadata": {},
     "output_type": "execute_result"
    }
   ],
   "source": [
    "tf_df.loc[:,'g-0':'g-771'].max()"
   ]
  },
  {
   "cell_type": "code",
   "execution_count": 7,
   "metadata": {},
   "outputs": [
    {
     "name": "stdout",
     "output_type": "stream",
     "text": [
      "-10.0 6.412\n"
     ]
    }
   ],
   "source": [
    "print((tf_df.loc[:,'c-0':'c-99'].min()).min(),(tf_df.loc[:,'c-0':'c-99'].max()).max())"
   ]
  },
  {
   "cell_type": "code",
   "execution_count": 8,
   "metadata": {},
   "outputs": [
    {
     "data": {
      "text/html": [
       "<div>\n",
       "<style scoped>\n",
       "    .dataframe tbody tr th:only-of-type {\n",
       "        vertical-align: middle;\n",
       "    }\n",
       "\n",
       "    .dataframe tbody tr th {\n",
       "        vertical-align: top;\n",
       "    }\n",
       "\n",
       "    .dataframe thead th {\n",
       "        text-align: right;\n",
       "    }\n",
       "</style>\n",
       "<table border=\"1\" class=\"dataframe\">\n",
       "  <thead>\n",
       "    <tr style=\"text-align: right;\">\n",
       "      <th></th>\n",
       "      <th>sig_id</th>\n",
       "      <th>5-alpha_reductase_inhibitor</th>\n",
       "      <th>11-beta-hsd1_inhibitor</th>\n",
       "      <th>acat_inhibitor</th>\n",
       "      <th>acetylcholine_receptor_agonist</th>\n",
       "      <th>acetylcholine_receptor_antagonist</th>\n",
       "      <th>acetylcholinesterase_inhibitor</th>\n",
       "      <th>adenosine_receptor_agonist</th>\n",
       "      <th>adenosine_receptor_antagonist</th>\n",
       "      <th>adenylyl_cyclase_activator</th>\n",
       "      <th>...</th>\n",
       "      <th>tropomyosin_receptor_kinase_inhibitor</th>\n",
       "      <th>trpv_agonist</th>\n",
       "      <th>trpv_antagonist</th>\n",
       "      <th>tubulin_inhibitor</th>\n",
       "      <th>tyrosine_kinase_inhibitor</th>\n",
       "      <th>ubiquitin_specific_protease_inhibitor</th>\n",
       "      <th>vegfr_inhibitor</th>\n",
       "      <th>vitamin_b</th>\n",
       "      <th>vitamin_d_receptor_agonist</th>\n",
       "      <th>wnt_inhibitor</th>\n",
       "    </tr>\n",
       "  </thead>\n",
       "  <tbody>\n",
       "    <tr>\n",
       "      <th>0</th>\n",
       "      <td>id_000644bb2</td>\n",
       "      <td>0</td>\n",
       "      <td>0</td>\n",
       "      <td>0</td>\n",
       "      <td>0</td>\n",
       "      <td>0</td>\n",
       "      <td>0</td>\n",
       "      <td>0</td>\n",
       "      <td>0</td>\n",
       "      <td>0</td>\n",
       "      <td>...</td>\n",
       "      <td>0</td>\n",
       "      <td>0</td>\n",
       "      <td>0</td>\n",
       "      <td>0</td>\n",
       "      <td>0</td>\n",
       "      <td>0</td>\n",
       "      <td>0</td>\n",
       "      <td>0</td>\n",
       "      <td>0</td>\n",
       "      <td>0</td>\n",
       "    </tr>\n",
       "    <tr>\n",
       "      <th>1</th>\n",
       "      <td>id_000779bfc</td>\n",
       "      <td>0</td>\n",
       "      <td>0</td>\n",
       "      <td>0</td>\n",
       "      <td>0</td>\n",
       "      <td>0</td>\n",
       "      <td>0</td>\n",
       "      <td>0</td>\n",
       "      <td>0</td>\n",
       "      <td>0</td>\n",
       "      <td>...</td>\n",
       "      <td>0</td>\n",
       "      <td>0</td>\n",
       "      <td>0</td>\n",
       "      <td>0</td>\n",
       "      <td>0</td>\n",
       "      <td>0</td>\n",
       "      <td>0</td>\n",
       "      <td>0</td>\n",
       "      <td>0</td>\n",
       "      <td>0</td>\n",
       "    </tr>\n",
       "    <tr>\n",
       "      <th>2</th>\n",
       "      <td>id_000a6266a</td>\n",
       "      <td>0</td>\n",
       "      <td>0</td>\n",
       "      <td>0</td>\n",
       "      <td>0</td>\n",
       "      <td>0</td>\n",
       "      <td>0</td>\n",
       "      <td>0</td>\n",
       "      <td>0</td>\n",
       "      <td>0</td>\n",
       "      <td>...</td>\n",
       "      <td>0</td>\n",
       "      <td>0</td>\n",
       "      <td>0</td>\n",
       "      <td>0</td>\n",
       "      <td>0</td>\n",
       "      <td>0</td>\n",
       "      <td>0</td>\n",
       "      <td>0</td>\n",
       "      <td>0</td>\n",
       "      <td>0</td>\n",
       "    </tr>\n",
       "    <tr>\n",
       "      <th>3</th>\n",
       "      <td>id_0015fd391</td>\n",
       "      <td>0</td>\n",
       "      <td>0</td>\n",
       "      <td>0</td>\n",
       "      <td>0</td>\n",
       "      <td>0</td>\n",
       "      <td>0</td>\n",
       "      <td>0</td>\n",
       "      <td>0</td>\n",
       "      <td>0</td>\n",
       "      <td>...</td>\n",
       "      <td>0</td>\n",
       "      <td>0</td>\n",
       "      <td>0</td>\n",
       "      <td>0</td>\n",
       "      <td>0</td>\n",
       "      <td>0</td>\n",
       "      <td>0</td>\n",
       "      <td>0</td>\n",
       "      <td>0</td>\n",
       "      <td>0</td>\n",
       "    </tr>\n",
       "    <tr>\n",
       "      <th>4</th>\n",
       "      <td>id_001626bd3</td>\n",
       "      <td>0</td>\n",
       "      <td>0</td>\n",
       "      <td>0</td>\n",
       "      <td>0</td>\n",
       "      <td>0</td>\n",
       "      <td>0</td>\n",
       "      <td>0</td>\n",
       "      <td>0</td>\n",
       "      <td>0</td>\n",
       "      <td>...</td>\n",
       "      <td>0</td>\n",
       "      <td>0</td>\n",
       "      <td>0</td>\n",
       "      <td>0</td>\n",
       "      <td>0</td>\n",
       "      <td>0</td>\n",
       "      <td>0</td>\n",
       "      <td>0</td>\n",
       "      <td>0</td>\n",
       "      <td>0</td>\n",
       "    </tr>\n",
       "  </tbody>\n",
       "</table>\n",
       "<p>5 rows × 207 columns</p>\n",
       "</div>"
      ],
      "text/plain": [
       "         sig_id  5-alpha_reductase_inhibitor  11-beta-hsd1_inhibitor  \\\n",
       "0  id_000644bb2                            0                       0   \n",
       "1  id_000779bfc                            0                       0   \n",
       "2  id_000a6266a                            0                       0   \n",
       "3  id_0015fd391                            0                       0   \n",
       "4  id_001626bd3                            0                       0   \n",
       "\n",
       "   acat_inhibitor  acetylcholine_receptor_agonist  \\\n",
       "0               0                               0   \n",
       "1               0                               0   \n",
       "2               0                               0   \n",
       "3               0                               0   \n",
       "4               0                               0   \n",
       "\n",
       "   acetylcholine_receptor_antagonist  acetylcholinesterase_inhibitor  \\\n",
       "0                                  0                               0   \n",
       "1                                  0                               0   \n",
       "2                                  0                               0   \n",
       "3                                  0                               0   \n",
       "4                                  0                               0   \n",
       "\n",
       "   adenosine_receptor_agonist  adenosine_receptor_antagonist  \\\n",
       "0                           0                              0   \n",
       "1                           0                              0   \n",
       "2                           0                              0   \n",
       "3                           0                              0   \n",
       "4                           0                              0   \n",
       "\n",
       "   adenylyl_cyclase_activator  ...  tropomyosin_receptor_kinase_inhibitor  \\\n",
       "0                           0  ...                                      0   \n",
       "1                           0  ...                                      0   \n",
       "2                           0  ...                                      0   \n",
       "3                           0  ...                                      0   \n",
       "4                           0  ...                                      0   \n",
       "\n",
       "   trpv_agonist  trpv_antagonist  tubulin_inhibitor  \\\n",
       "0             0                0                  0   \n",
       "1             0                0                  0   \n",
       "2             0                0                  0   \n",
       "3             0                0                  0   \n",
       "4             0                0                  0   \n",
       "\n",
       "   tyrosine_kinase_inhibitor  ubiquitin_specific_protease_inhibitor  \\\n",
       "0                          0                                      0   \n",
       "1                          0                                      0   \n",
       "2                          0                                      0   \n",
       "3                          0                                      0   \n",
       "4                          0                                      0   \n",
       "\n",
       "   vegfr_inhibitor  vitamin_b  vitamin_d_receptor_agonist  wnt_inhibitor  \n",
       "0                0          0                           0              0  \n",
       "1                0          0                           0              0  \n",
       "2                0          0                           0              0  \n",
       "3                0          0                           0              0  \n",
       "4                0          0                           0              0  \n",
       "\n",
       "[5 rows x 207 columns]"
      ]
     },
     "execution_count": 8,
     "metadata": {},
     "output_type": "execute_result"
    }
   ],
   "source": [
    "tts_df = pd.read_csv('train_targets_scored.csv')\n",
    "tts_df.head()"
   ]
  },
  {
   "cell_type": "code",
   "execution_count": 9,
   "metadata": {},
   "outputs": [
    {
     "data": {
      "text/plain": [
       "sig_id                                   id_000644bb2\n",
       "5-alpha_reductase_inhibitor                         0\n",
       "11-beta-hsd1_inhibitor                              0\n",
       "acat_inhibitor                                      0\n",
       "acetylcholine_receptor_agonist                      0\n",
       "                                             ...     \n",
       "ubiquitin_specific_protease_inhibitor               0\n",
       "vegfr_inhibitor                                     0\n",
       "vitamin_b                                           0\n",
       "vitamin_d_receptor_agonist                          0\n",
       "wnt_inhibitor                                       0\n",
       "Length: 207, dtype: object"
      ]
     },
     "execution_count": 9,
     "metadata": {},
     "output_type": "execute_result"
    }
   ],
   "source": [
    "tts_df.min()"
   ]
  },
  {
   "cell_type": "code",
   "execution_count": 10,
   "metadata": {},
   "outputs": [
    {
     "data": {
      "text/plain": [
       "sig_id                                   id_ffffdd77b\n",
       "5-alpha_reductase_inhibitor                         1\n",
       "11-beta-hsd1_inhibitor                              1\n",
       "acat_inhibitor                                      1\n",
       "acetylcholine_receptor_agonist                      1\n",
       "                                             ...     \n",
       "ubiquitin_specific_protease_inhibitor               1\n",
       "vegfr_inhibitor                                     1\n",
       "vitamin_b                                           1\n",
       "vitamin_d_receptor_agonist                          1\n",
       "wnt_inhibitor                                       1\n",
       "Length: 207, dtype: object"
      ]
     },
     "execution_count": 10,
     "metadata": {},
     "output_type": "execute_result"
    }
   ],
   "source": [
    "tts_df.max()"
   ]
  },
  {
   "cell_type": "markdown",
   "metadata": {},
   "source": [
    "### 206 targets"
   ]
  },
  {
   "cell_type": "code",
   "execution_count": 11,
   "metadata": {},
   "outputs": [
    {
     "data": {
      "text/plain": [
       "23814"
      ]
     },
     "execution_count": 11,
     "metadata": {},
     "output_type": "execute_result"
    }
   ],
   "source": [
    "len(tf_df)"
   ]
  },
  {
   "cell_type": "markdown",
   "metadata": {},
   "source": [
    "### 3982 values in test set"
   ]
  },
  {
   "cell_type": "code",
   "execution_count": 12,
   "metadata": {},
   "outputs": [
    {
     "data": {
      "text/plain": [
       "array(['D1', 'D2'], dtype=object)"
      ]
     },
     "execution_count": 12,
     "metadata": {},
     "output_type": "execute_result"
    }
   ],
   "source": [
    "tf_df['cp_dose'].unique()"
   ]
  },
  {
   "cell_type": "markdown",
   "metadata": {},
   "source": [
    "According to the competition website these dose codes map to \"(high or low)\", unknown whether in that order. That can be a first task: determine whether the distributions on the D1 dose rate with constant dose time and type (i.e., not control) are similar to D2 or more or less extreme.\n",
    "\n",
    "Even before that, I should figure out how many of each sig_id there are."
   ]
  },
  {
   "cell_type": "code",
   "execution_count": 13,
   "metadata": {},
   "outputs": [
    {
     "data": {
      "text/plain": [
       "23814"
      ]
     },
     "execution_count": 13,
     "metadata": {},
     "output_type": "execute_result"
    }
   ],
   "source": [
    "tf_df['sig_id'].nunique()"
   ]
  },
  {
   "cell_type": "markdown",
   "metadata": {},
   "source": [
    "That's... unexpected. We don't have any way of identifying the same compound given at differing dose rates or durations."
   ]
  },
  {
   "cell_type": "code",
   "execution_count": 14,
   "metadata": {},
   "outputs": [
    {
     "name": "stdout",
     "output_type": "stream",
     "text": [
      "-5.42 10.0\n"
     ]
    }
   ],
   "source": [
    "print(tf_df[tf_df['cp_dose']=='D1']['g-0'].min(),tf_df[tf_df['cp_dose']=='D1']['g-0'].max())"
   ]
  },
  {
   "cell_type": "code",
   "execution_count": 15,
   "metadata": {},
   "outputs": [
    {
     "name": "stdout",
     "output_type": "stream",
     "text": [
      "-5.513 10.0\n"
     ]
    }
   ],
   "source": [
    "print(tf_df[tf_df['cp_dose']=='D2']['g-0'].min(),tf_df[tf_df['cp_dose']=='D2']['g-0'].max())"
   ]
  },
  {
   "cell_type": "code",
   "execution_count": 16,
   "metadata": {},
   "outputs": [
    {
     "name": "stdout",
     "output_type": "stream",
     "text": [
      "-10.0 2.989\n",
      "-10.0 3.365\n"
     ]
    }
   ],
   "source": [
    "print(tf_df[tf_df['cp_dose']=='D1']['c-0'].min(),tf_df[tf_df['cp_dose']=='D1']['c-0'].max())\n",
    "print(tf_df[tf_df['cp_dose']=='D2']['c-0'].min(),tf_df[tf_df['cp_dose']=='D2']['c-0'].max())"
   ]
  },
  {
   "cell_type": "markdown",
   "metadata": {},
   "source": [
    "At some point we'll look for differences in handling different dose amounts and frequencies. Let's work with the most common combination. Hmmm... a little bit of Pandas research to identify that."
   ]
  },
  {
   "cell_type": "code",
   "execution_count": 17,
   "metadata": {},
   "outputs": [
    {
     "data": {
      "text/plain": [
       "Index(['sig_id', 'cp_type', 'cp_time', 'cp_dose', 'g-0', 'g-1', 'g-2', 'g-3',\n",
       "       'g-4', 'g-5',\n",
       "       ...\n",
       "       'c-90', 'c-91', 'c-92', 'c-93', 'c-94', 'c-95', 'c-96', 'c-97', 'c-98',\n",
       "       'c-99'],\n",
       "      dtype='object', length=876)"
      ]
     },
     "execution_count": 17,
     "metadata": {},
     "output_type": "execute_result"
    }
   ],
   "source": [
    "tf_df.columns"
   ]
  },
  {
   "cell_type": "code",
   "execution_count": 18,
   "metadata": {},
   "outputs": [
    {
     "data": {
      "text/plain": [
       "array(['trt_cp', 'ctl_vehicle'], dtype=object)"
      ]
     },
     "execution_count": 18,
     "metadata": {},
     "output_type": "execute_result"
    }
   ],
   "source": [
    "tf_df.cp_type.unique()"
   ]
  },
  {
   "cell_type": "code",
   "execution_count": 24,
   "metadata": {},
   "outputs": [
    {
     "name": "stdout",
     "output_type": "stream",
     "text": [
      "trt_cp\n",
      "ctl_vehicle\n"
     ]
    }
   ],
   "source": [
    "for trial in tf_df.cp_type.unique():\n",
    "    print(trial)"
   ]
  },
  {
   "cell_type": "code",
   "execution_count": 25,
   "metadata": {},
   "outputs": [
    {
     "name": "stdout",
     "output_type": "stream",
     "text": [
      "trt_cp 24 D1 Number of experiments:  3585\n",
      "trt_cp 24 D2 Number of experiments:  3581\n",
      "trt_cp 72 D1 Number of experiments:  3600\n",
      "trt_cp 72 D2 Number of experiments:  3580\n",
      "trt_cp 48 D1 Number of experiments:  4011\n",
      "trt_cp 48 D2 Number of experiments:  3591\n",
      "ctl_vehicle 24 D1 Number of experiments:  301\n",
      "ctl_vehicle 24 D2 Number of experiments:  305\n",
      "ctl_vehicle 72 D1 Number of experiments:  307\n",
      "ctl_vehicle 72 D2 Number of experiments:  305\n",
      "ctl_vehicle 48 D1 Number of experiments:  343\n",
      "ctl_vehicle 48 D2 Number of experiments:  305\n"
     ]
    }
   ],
   "source": [
    "for trial in tf_df.cp_type.unique():\n",
    "    for time in tf_df.cp_time.unique():\n",
    "        for dose in tf_df.cp_dose.unique():\n",
    "            print(trial, time, dose, 'Number of experiments: ', \n",
    "                  len(tf_df[(tf_df['cp_type']==trial) &\n",
    "                        (tf_df['cp_time']==time) &\n",
    "                        (tf_df['cp_dose']==dose)]))"
   ]
  },
  {
   "cell_type": "markdown",
   "metadata": {},
   "source": [
    "Hrm. Subequal, for better or worse."
   ]
  },
  {
   "cell_type": "code",
   "execution_count": 44,
   "metadata": {},
   "outputs": [
    {
     "data": {
      "image/png": "[encoded data removed]",
      "text/plain": [
       "<Figure size 864x432 with 8 Axes>"
      ]
     },
     "metadata": {
      "needs_background": "light"
     },
     "output_type": "display_data"
    }
   ],
   "source": [
    "f, axs = plt.subplots(2,4,figsize=(12,6))\n",
    "for i in range(0,701,100):\n",
    "    sns.histplot(data=tf_df,x='g-'+str(i),ax=axs[i//400,i%400//100])\n",
    "f.tight_layout()"
   ]
  },
  {
   "cell_type": "code",
   "execution_count": 45,
   "metadata": {},
   "outputs": [
    {
     "data": {
      "image/png": "[encoded data removed]",
      "text/plain": [
       "<Figure size 864x432 with 8 Axes>"
      ]
     },
     "metadata": {
      "needs_background": "light"
     },
     "output_type": "display_data"
    }
   ],
   "source": [
    "f, axs = plt.subplots(2,4,figsize=(12,6))\n",
    "for i in range(0,71,10):\n",
    "    sns.histplot(data=tf_df,x='c-'+str(i),ax=axs[i//40,i%40//10])\n",
    "f.tight_layout()"
   ]
  },
  {
   "cell_type": "code",
   "execution_count": 53,
   "metadata": {},
   "outputs": [],
   "source": [
    "corr_df = tf_df.loc[:,'g-0':'c-99'].corr()"
   ]
  },
  {
   "cell_type": "code",
   "execution_count": 54,
   "metadata": {},
   "outputs": [
    {
     "data": {
      "text/plain": [
       "872"
      ]
     },
     "execution_count": 54,
     "metadata": {},
     "output_type": "execute_result"
    }
   ],
   "source": [
    "len(corr_df)"
   ]
  },
  {
   "cell_type": "code",
   "execution_count": 55,
   "metadata": {},
   "outputs": [
    {
     "data": {
      "text/html": [
       "<div>\n",
       "<style scoped>\n",
       "    .dataframe tbody tr th:only-of-type {\n",
       "        vertical-align: middle;\n",
       "    }\n",
       "\n",
       "    .dataframe tbody tr th {\n",
       "        vertical-align: top;\n",
       "    }\n",
       "\n",
       "    .dataframe thead th {\n",
       "        text-align: right;\n",
       "    }\n",
       "</style>\n",
       "<table border=\"1\" class=\"dataframe\">\n",
       "  <thead>\n",
       "    <tr style=\"text-align: right;\">\n",
       "      <th></th>\n",
       "      <th>g-0</th>\n",
       "      <th>g-1</th>\n",
       "      <th>g-2</th>\n",
       "      <th>g-3</th>\n",
       "      <th>g-4</th>\n",
       "      <th>g-5</th>\n",
       "      <th>g-6</th>\n",
       "      <th>g-7</th>\n",
       "      <th>g-8</th>\n",
       "      <th>g-9</th>\n",
       "      <th>g-10</th>\n",
       "      <th>g-11</th>\n",
       "      <th>g-12</th>\n",
       "      <th>g-13</th>\n",
       "      <th>g-14</th>\n",
       "      <th>g-15</th>\n",
       "      <th>g-16</th>\n",
       "      <th>g-17</th>\n",
       "      <th>g-18</th>\n",
       "      <th>g-19</th>\n",
       "    </tr>\n",
       "  </thead>\n",
       "  <tbody>\n",
       "    <tr>\n",
       "      <th>g-0</th>\n",
       "      <td>1.000000</td>\n",
       "      <td>0.086032</td>\n",
       "      <td>0.176188</td>\n",
       "      <td>0.011266</td>\n",
       "      <td>0.403153</td>\n",
       "      <td>-0.165478</td>\n",
       "      <td>0.238348</td>\n",
       "      <td>-0.374451</td>\n",
       "      <td>-0.604212</td>\n",
       "      <td>-0.428779</td>\n",
       "      <td>-0.547606</td>\n",
       "      <td>0.219762</td>\n",
       "      <td>-0.199453</td>\n",
       "      <td>0.472223</td>\n",
       "      <td>-0.346179</td>\n",
       "      <td>-0.201323</td>\n",
       "      <td>-0.513026</td>\n",
       "      <td>-0.433536</td>\n",
       "      <td>-0.002073</td>\n",
       "      <td>-0.074622</td>\n",
       "    </tr>\n",
       "    <tr>\n",
       "      <th>g-1</th>\n",
       "      <td>0.086032</td>\n",
       "      <td>1.000000</td>\n",
       "      <td>-0.054518</td>\n",
       "      <td>-0.027855</td>\n",
       "      <td>0.193647</td>\n",
       "      <td>-0.151590</td>\n",
       "      <td>-0.122541</td>\n",
       "      <td>0.144537</td>\n",
       "      <td>-0.009973</td>\n",
       "      <td>-0.047558</td>\n",
       "      <td>-0.009051</td>\n",
       "      <td>0.161274</td>\n",
       "      <td>0.037178</td>\n",
       "      <td>-0.009256</td>\n",
       "      <td>0.002632</td>\n",
       "      <td>-0.070193</td>\n",
       "      <td>-0.063414</td>\n",
       "      <td>-0.000944</td>\n",
       "      <td>-0.023748</td>\n",
       "      <td>-0.034714</td>\n",
       "    </tr>\n",
       "    <tr>\n",
       "      <th>g-2</th>\n",
       "      <td>0.176188</td>\n",
       "      <td>-0.054518</td>\n",
       "      <td>1.000000</td>\n",
       "      <td>0.042633</td>\n",
       "      <td>0.013968</td>\n",
       "      <td>0.018516</td>\n",
       "      <td>0.015190</td>\n",
       "      <td>-0.144205</td>\n",
       "      <td>-0.128029</td>\n",
       "      <td>-0.081332</td>\n",
       "      <td>-0.105050</td>\n",
       "      <td>0.011198</td>\n",
       "      <td>-0.063501</td>\n",
       "      <td>0.082011</td>\n",
       "      <td>-0.082204</td>\n",
       "      <td>-0.059607</td>\n",
       "      <td>-0.137811</td>\n",
       "      <td>-0.085491</td>\n",
       "      <td>0.053335</td>\n",
       "      <td>0.028813</td>\n",
       "    </tr>\n",
       "    <tr>\n",
       "      <th>g-3</th>\n",
       "      <td>0.011266</td>\n",
       "      <td>-0.027855</td>\n",
       "      <td>0.042633</td>\n",
       "      <td>1.000000</td>\n",
       "      <td>-0.033039</td>\n",
       "      <td>0.042231</td>\n",
       "      <td>-0.043177</td>\n",
       "      <td>-0.175692</td>\n",
       "      <td>-0.086167</td>\n",
       "      <td>-0.014052</td>\n",
       "      <td>-0.074101</td>\n",
       "      <td>0.181024</td>\n",
       "      <td>0.030539</td>\n",
       "      <td>0.192727</td>\n",
       "      <td>0.128792</td>\n",
       "      <td>-0.045688</td>\n",
       "      <td>0.033974</td>\n",
       "      <td>-0.070920</td>\n",
       "      <td>0.237669</td>\n",
       "      <td>0.112392</td>\n",
       "    </tr>\n",
       "    <tr>\n",
       "      <th>g-4</th>\n",
       "      <td>0.403153</td>\n",
       "      <td>0.193647</td>\n",
       "      <td>0.013968</td>\n",
       "      <td>-0.033039</td>\n",
       "      <td>1.000000</td>\n",
       "      <td>-0.057449</td>\n",
       "      <td>0.206405</td>\n",
       "      <td>-0.032748</td>\n",
       "      <td>-0.474828</td>\n",
       "      <td>-0.274167</td>\n",
       "      <td>-0.458021</td>\n",
       "      <td>0.116467</td>\n",
       "      <td>-0.207078</td>\n",
       "      <td>0.210440</td>\n",
       "      <td>-0.307280</td>\n",
       "      <td>0.019531</td>\n",
       "      <td>-0.275700</td>\n",
       "      <td>-0.422889</td>\n",
       "      <td>-0.012207</td>\n",
       "      <td>-0.088152</td>\n",
       "    </tr>\n",
       "    <tr>\n",
       "      <th>g-5</th>\n",
       "      <td>-0.165478</td>\n",
       "      <td>-0.151590</td>\n",
       "      <td>0.018516</td>\n",
       "      <td>0.042231</td>\n",
       "      <td>-0.057449</td>\n",
       "      <td>1.000000</td>\n",
       "      <td>0.083620</td>\n",
       "      <td>0.102345</td>\n",
       "      <td>0.073885</td>\n",
       "      <td>0.126561</td>\n",
       "      <td>0.038743</td>\n",
       "      <td>-0.171709</td>\n",
       "      <td>-0.000393</td>\n",
       "      <td>-0.112423</td>\n",
       "      <td>0.073760</td>\n",
       "      <td>0.037763</td>\n",
       "      <td>0.221227</td>\n",
       "      <td>0.033641</td>\n",
       "      <td>0.041073</td>\n",
       "      <td>0.134431</td>\n",
       "    </tr>\n",
       "    <tr>\n",
       "      <th>g-6</th>\n",
       "      <td>0.238348</td>\n",
       "      <td>-0.122541</td>\n",
       "      <td>0.015190</td>\n",
       "      <td>-0.043177</td>\n",
       "      <td>0.206405</td>\n",
       "      <td>0.083620</td>\n",
       "      <td>1.000000</td>\n",
       "      <td>0.030544</td>\n",
       "      <td>-0.212292</td>\n",
       "      <td>-0.134739</td>\n",
       "      <td>-0.264575</td>\n",
       "      <td>-0.064363</td>\n",
       "      <td>-0.041731</td>\n",
       "      <td>0.110102</td>\n",
       "      <td>-0.126069</td>\n",
       "      <td>-0.107593</td>\n",
       "      <td>-0.109543</td>\n",
       "      <td>-0.182960</td>\n",
       "      <td>-0.058387</td>\n",
       "      <td>0.070343</td>\n",
       "    </tr>\n",
       "    <tr>\n",
       "      <th>g-7</th>\n",
       "      <td>-0.374451</td>\n",
       "      <td>0.144537</td>\n",
       "      <td>-0.144205</td>\n",
       "      <td>-0.175692</td>\n",
       "      <td>-0.032748</td>\n",
       "      <td>0.102345</td>\n",
       "      <td>0.030544</td>\n",
       "      <td>1.000000</td>\n",
       "      <td>0.278085</td>\n",
       "      <td>0.288780</td>\n",
       "      <td>0.382325</td>\n",
       "      <td>-0.184966</td>\n",
       "      <td>0.166101</td>\n",
       "      <td>-0.380687</td>\n",
       "      <td>0.266334</td>\n",
       "      <td>0.141999</td>\n",
       "      <td>0.372104</td>\n",
       "      <td>0.185269</td>\n",
       "      <td>-0.061020</td>\n",
       "      <td>0.121534</td>\n",
       "    </tr>\n",
       "    <tr>\n",
       "      <th>g-8</th>\n",
       "      <td>-0.604212</td>\n",
       "      <td>-0.009973</td>\n",
       "      <td>-0.128029</td>\n",
       "      <td>-0.086167</td>\n",
       "      <td>-0.474828</td>\n",
       "      <td>0.073885</td>\n",
       "      <td>-0.212292</td>\n",
       "      <td>0.278085</td>\n",
       "      <td>1.000000</td>\n",
       "      <td>0.330284</td>\n",
       "      <td>0.556854</td>\n",
       "      <td>-0.145569</td>\n",
       "      <td>0.278549</td>\n",
       "      <td>-0.386297</td>\n",
       "      <td>0.417574</td>\n",
       "      <td>-0.078128</td>\n",
       "      <td>0.424483</td>\n",
       "      <td>0.639804</td>\n",
       "      <td>-0.085082</td>\n",
       "      <td>-0.006910</td>\n",
       "    </tr>\n",
       "    <tr>\n",
       "      <th>g-9</th>\n",
       "      <td>-0.428779</td>\n",
       "      <td>-0.047558</td>\n",
       "      <td>-0.081332</td>\n",
       "      <td>-0.014052</td>\n",
       "      <td>-0.274167</td>\n",
       "      <td>0.126561</td>\n",
       "      <td>-0.134739</td>\n",
       "      <td>0.288780</td>\n",
       "      <td>0.330284</td>\n",
       "      <td>1.000000</td>\n",
       "      <td>0.423656</td>\n",
       "      <td>-0.182298</td>\n",
       "      <td>0.181920</td>\n",
       "      <td>-0.309551</td>\n",
       "      <td>0.306363</td>\n",
       "      <td>0.099181</td>\n",
       "      <td>0.390175</td>\n",
       "      <td>0.327539</td>\n",
       "      <td>-0.002785</td>\n",
       "      <td>-0.003900</td>\n",
       "    </tr>\n",
       "    <tr>\n",
       "      <th>g-10</th>\n",
       "      <td>-0.547606</td>\n",
       "      <td>-0.009051</td>\n",
       "      <td>-0.105050</td>\n",
       "      <td>-0.074101</td>\n",
       "      <td>-0.458021</td>\n",
       "      <td>0.038743</td>\n",
       "      <td>-0.264575</td>\n",
       "      <td>0.382325</td>\n",
       "      <td>0.556854</td>\n",
       "      <td>0.423656</td>\n",
       "      <td>1.000000</td>\n",
       "      <td>-0.207740</td>\n",
       "      <td>0.341042</td>\n",
       "      <td>-0.454897</td>\n",
       "      <td>0.407051</td>\n",
       "      <td>0.067700</td>\n",
       "      <td>0.393915</td>\n",
       "      <td>0.512309</td>\n",
       "      <td>-0.037036</td>\n",
       "      <td>-0.052095</td>\n",
       "    </tr>\n",
       "    <tr>\n",
       "      <th>g-11</th>\n",
       "      <td>0.219762</td>\n",
       "      <td>0.161274</td>\n",
       "      <td>0.011198</td>\n",
       "      <td>0.181024</td>\n",
       "      <td>0.116467</td>\n",
       "      <td>-0.171709</td>\n",
       "      <td>-0.064363</td>\n",
       "      <td>-0.184966</td>\n",
       "      <td>-0.145569</td>\n",
       "      <td>-0.182298</td>\n",
       "      <td>-0.207740</td>\n",
       "      <td>1.000000</td>\n",
       "      <td>-0.033609</td>\n",
       "      <td>0.274290</td>\n",
       "      <td>-0.030179</td>\n",
       "      <td>-0.065078</td>\n",
       "      <td>-0.209515</td>\n",
       "      <td>-0.138624</td>\n",
       "      <td>0.045394</td>\n",
       "      <td>-0.065191</td>\n",
       "    </tr>\n",
       "    <tr>\n",
       "      <th>g-12</th>\n",
       "      <td>-0.199453</td>\n",
       "      <td>0.037178</td>\n",
       "      <td>-0.063501</td>\n",
       "      <td>0.030539</td>\n",
       "      <td>-0.207078</td>\n",
       "      <td>-0.000393</td>\n",
       "      <td>-0.041731</td>\n",
       "      <td>0.166101</td>\n",
       "      <td>0.278549</td>\n",
       "      <td>0.181920</td>\n",
       "      <td>0.341042</td>\n",
       "      <td>-0.033609</td>\n",
       "      <td>1.000000</td>\n",
       "      <td>-0.131359</td>\n",
       "      <td>0.287201</td>\n",
       "      <td>-0.103731</td>\n",
       "      <td>0.181421</td>\n",
       "      <td>0.303911</td>\n",
       "      <td>-0.021739</td>\n",
       "      <td>-0.064549</td>\n",
       "    </tr>\n",
       "    <tr>\n",
       "      <th>g-13</th>\n",
       "      <td>0.472223</td>\n",
       "      <td>-0.009256</td>\n",
       "      <td>0.082011</td>\n",
       "      <td>0.192727</td>\n",
       "      <td>0.210440</td>\n",
       "      <td>-0.112423</td>\n",
       "      <td>0.110102</td>\n",
       "      <td>-0.380687</td>\n",
       "      <td>-0.386297</td>\n",
       "      <td>-0.309551</td>\n",
       "      <td>-0.454897</td>\n",
       "      <td>0.274290</td>\n",
       "      <td>-0.131359</td>\n",
       "      <td>1.000000</td>\n",
       "      <td>-0.209376</td>\n",
       "      <td>-0.147524</td>\n",
       "      <td>-0.332240</td>\n",
       "      <td>-0.305255</td>\n",
       "      <td>0.043595</td>\n",
       "      <td>-0.093609</td>\n",
       "    </tr>\n",
       "    <tr>\n",
       "      <th>g-14</th>\n",
       "      <td>-0.346179</td>\n",
       "      <td>0.002632</td>\n",
       "      <td>-0.082204</td>\n",
       "      <td>0.128792</td>\n",
       "      <td>-0.307280</td>\n",
       "      <td>0.073760</td>\n",
       "      <td>-0.126069</td>\n",
       "      <td>0.266334</td>\n",
       "      <td>0.417574</td>\n",
       "      <td>0.306363</td>\n",
       "      <td>0.407051</td>\n",
       "      <td>-0.030179</td>\n",
       "      <td>0.287201</td>\n",
       "      <td>-0.209376</td>\n",
       "      <td>1.000000</td>\n",
       "      <td>-0.062795</td>\n",
       "      <td>0.323921</td>\n",
       "      <td>0.341669</td>\n",
       "      <td>0.021301</td>\n",
       "      <td>-0.009360</td>\n",
       "    </tr>\n",
       "    <tr>\n",
       "      <th>g-15</th>\n",
       "      <td>-0.201323</td>\n",
       "      <td>-0.070193</td>\n",
       "      <td>-0.059607</td>\n",
       "      <td>-0.045688</td>\n",
       "      <td>0.019531</td>\n",
       "      <td>0.037763</td>\n",
       "      <td>-0.107593</td>\n",
       "      <td>0.141999</td>\n",
       "      <td>-0.078128</td>\n",
       "      <td>0.099181</td>\n",
       "      <td>0.067700</td>\n",
       "      <td>-0.065078</td>\n",
       "      <td>-0.103731</td>\n",
       "      <td>-0.147524</td>\n",
       "      <td>-0.062795</td>\n",
       "      <td>1.000000</td>\n",
       "      <td>0.101588</td>\n",
       "      <td>-0.103187</td>\n",
       "      <td>0.049834</td>\n",
       "      <td>0.089420</td>\n",
       "    </tr>\n",
       "    <tr>\n",
       "      <th>g-16</th>\n",
       "      <td>-0.513026</td>\n",
       "      <td>-0.063414</td>\n",
       "      <td>-0.137811</td>\n",
       "      <td>0.033974</td>\n",
       "      <td>-0.275700</td>\n",
       "      <td>0.221227</td>\n",
       "      <td>-0.109543</td>\n",
       "      <td>0.372104</td>\n",
       "      <td>0.424483</td>\n",
       "      <td>0.390175</td>\n",
       "      <td>0.393915</td>\n",
       "      <td>-0.209515</td>\n",
       "      <td>0.181421</td>\n",
       "      <td>-0.332240</td>\n",
       "      <td>0.323921</td>\n",
       "      <td>0.101588</td>\n",
       "      <td>1.000000</td>\n",
       "      <td>0.360481</td>\n",
       "      <td>0.011358</td>\n",
       "      <td>0.113838</td>\n",
       "    </tr>\n",
       "    <tr>\n",
       "      <th>g-17</th>\n",
       "      <td>-0.433536</td>\n",
       "      <td>-0.000944</td>\n",
       "      <td>-0.085491</td>\n",
       "      <td>-0.070920</td>\n",
       "      <td>-0.422889</td>\n",
       "      <td>0.033641</td>\n",
       "      <td>-0.182960</td>\n",
       "      <td>0.185269</td>\n",
       "      <td>0.639804</td>\n",
       "      <td>0.327539</td>\n",
       "      <td>0.512309</td>\n",
       "      <td>-0.138624</td>\n",
       "      <td>0.303911</td>\n",
       "      <td>-0.305255</td>\n",
       "      <td>0.341669</td>\n",
       "      <td>-0.103187</td>\n",
       "      <td>0.360481</td>\n",
       "      <td>1.000000</td>\n",
       "      <td>-0.069641</td>\n",
       "      <td>-0.067606</td>\n",
       "    </tr>\n",
       "    <tr>\n",
       "      <th>g-18</th>\n",
       "      <td>-0.002073</td>\n",
       "      <td>-0.023748</td>\n",
       "      <td>0.053335</td>\n",
       "      <td>0.237669</td>\n",
       "      <td>-0.012207</td>\n",
       "      <td>0.041073</td>\n",
       "      <td>-0.058387</td>\n",
       "      <td>-0.061020</td>\n",
       "      <td>-0.085082</td>\n",
       "      <td>-0.002785</td>\n",
       "      <td>-0.037036</td>\n",
       "      <td>0.045394</td>\n",
       "      <td>-0.021739</td>\n",
       "      <td>0.043595</td>\n",
       "      <td>0.021301</td>\n",
       "      <td>0.049834</td>\n",
       "      <td>0.011358</td>\n",
       "      <td>-0.069641</td>\n",
       "      <td>1.000000</td>\n",
       "      <td>0.164046</td>\n",
       "    </tr>\n",
       "    <tr>\n",
       "      <th>g-19</th>\n",
       "      <td>-0.074622</td>\n",
       "      <td>-0.034714</td>\n",
       "      <td>0.028813</td>\n",
       "      <td>0.112392</td>\n",
       "      <td>-0.088152</td>\n",
       "      <td>0.134431</td>\n",
       "      <td>0.070343</td>\n",
       "      <td>0.121534</td>\n",
       "      <td>-0.006910</td>\n",
       "      <td>-0.003900</td>\n",
       "      <td>-0.052095</td>\n",
       "      <td>-0.065191</td>\n",
       "      <td>-0.064549</td>\n",
       "      <td>-0.093609</td>\n",
       "      <td>-0.009360</td>\n",
       "      <td>0.089420</td>\n",
       "      <td>0.113838</td>\n",
       "      <td>-0.067606</td>\n",
       "      <td>0.164046</td>\n",
       "      <td>1.000000</td>\n",
       "    </tr>\n",
       "  </tbody>\n",
       "</table>\n",
       "</div>"
      ],
      "text/plain": [
       "           g-0       g-1       g-2       g-3       g-4       g-5       g-6  \\\n",
       "g-0   1.000000  0.086032  0.176188  0.011266  0.403153 -0.165478  0.238348   \n",
       "g-1   0.086032  1.000000 -0.054518 -0.027855  0.193647 -0.151590 -0.122541   \n",
       "g-2   0.176188 -0.054518  1.000000  0.042633  0.013968  0.018516  0.015190   \n",
       "g-3   0.011266 -0.027855  0.042633  1.000000 -0.033039  0.042231 -0.043177   \n",
       "g-4   0.403153  0.193647  0.013968 -0.033039  1.000000 -0.057449  0.206405   \n",
       "g-5  -0.165478 -0.151590  0.018516  0.042231 -0.057449  1.000000  0.083620   \n",
       "g-6   0.238348 -0.122541  0.015190 -0.043177  0.206405  0.083620  1.000000   \n",
       "g-7  -0.374451  0.144537 -0.144205 -0.175692 -0.032748  0.102345  0.030544   \n",
       "g-8  -0.604212 -0.009973 -0.128029 -0.086167 -0.474828  0.073885 -0.212292   \n",
       "g-9  -0.428779 -0.047558 -0.081332 -0.014052 -0.274167  0.126561 -0.134739   \n",
       "g-10 -0.547606 -0.009051 -0.105050 -0.074101 -0.458021  0.038743 -0.264575   \n",
       "g-11  0.219762  0.161274  0.011198  0.181024  0.116467 -0.171709 -0.064363   \n",
       "g-12 -0.199453  0.037178 -0.063501  0.030539 -0.207078 -0.000393 -0.041731   \n",
       "g-13  0.472223 -0.009256  0.082011  0.192727  0.210440 -0.112423  0.110102   \n",
       "g-14 -0.346179  0.002632 -0.082204  0.128792 -0.307280  0.073760 -0.126069   \n",
       "g-15 -0.201323 -0.070193 -0.059607 -0.045688  0.019531  0.037763 -0.107593   \n",
       "g-16 -0.513026 -0.063414 -0.137811  0.033974 -0.275700  0.221227 -0.109543   \n",
       "g-17 -0.433536 -0.000944 -0.085491 -0.070920 -0.422889  0.033641 -0.182960   \n",
       "g-18 -0.002073 -0.023748  0.053335  0.237669 -0.012207  0.041073 -0.058387   \n",
       "g-19 -0.074622 -0.034714  0.028813  0.112392 -0.088152  0.134431  0.070343   \n",
       "\n",
       "           g-7       g-8       g-9      g-10      g-11      g-12      g-13  \\\n",
       "g-0  -0.374451 -0.604212 -0.428779 -0.547606  0.219762 -0.199453  0.472223   \n",
       "g-1   0.144537 -0.009973 -0.047558 -0.009051  0.161274  0.037178 -0.009256   \n",
       "g-2  -0.144205 -0.128029 -0.081332 -0.105050  0.011198 -0.063501  0.082011   \n",
       "g-3  -0.175692 -0.086167 -0.014052 -0.074101  0.181024  0.030539  0.192727   \n",
       "g-4  -0.032748 -0.474828 -0.274167 -0.458021  0.116467 -0.207078  0.210440   \n",
       "g-5   0.102345  0.073885  0.126561  0.038743 -0.171709 -0.000393 -0.112423   \n",
       "g-6   0.030544 -0.212292 -0.134739 -0.264575 -0.064363 -0.041731  0.110102   \n",
       "g-7   1.000000  0.278085  0.288780  0.382325 -0.184966  0.166101 -0.380687   \n",
       "g-8   0.278085  1.000000  0.330284  0.556854 -0.145569  0.278549 -0.386297   \n",
       "g-9   0.288780  0.330284  1.000000  0.423656 -0.182298  0.181920 -0.309551   \n",
       "g-10  0.382325  0.556854  0.423656  1.000000 -0.207740  0.341042 -0.454897   \n",
       "g-11 -0.184966 -0.145569 -0.182298 -0.207740  1.000000 -0.033609  0.274290   \n",
       "g-12  0.166101  0.278549  0.181920  0.341042 -0.033609  1.000000 -0.131359   \n",
       "g-13 -0.380687 -0.386297 -0.309551 -0.454897  0.274290 -0.131359  1.000000   \n",
       "g-14  0.266334  0.417574  0.306363  0.407051 -0.030179  0.287201 -0.209376   \n",
       "g-15  0.141999 -0.078128  0.099181  0.067700 -0.065078 -0.103731 -0.147524   \n",
       "g-16  0.372104  0.424483  0.390175  0.393915 -0.209515  0.181421 -0.332240   \n",
       "g-17  0.185269  0.639804  0.327539  0.512309 -0.138624  0.303911 -0.305255   \n",
       "g-18 -0.061020 -0.085082 -0.002785 -0.037036  0.045394 -0.021739  0.043595   \n",
       "g-19  0.121534 -0.006910 -0.003900 -0.052095 -0.065191 -0.064549 -0.093609   \n",
       "\n",
       "          g-14      g-15      g-16      g-17      g-18      g-19  \n",
       "g-0  -0.346179 -0.201323 -0.513026 -0.433536 -0.002073 -0.074622  \n",
       "g-1   0.002632 -0.070193 -0.063414 -0.000944 -0.023748 -0.034714  \n",
       "g-2  -0.082204 -0.059607 -0.137811 -0.085491  0.053335  0.028813  \n",
       "g-3   0.128792 -0.045688  0.033974 -0.070920  0.237669  0.112392  \n",
       "g-4  -0.307280  0.019531 -0.275700 -0.422889 -0.012207 -0.088152  \n",
       "g-5   0.073760  0.037763  0.221227  0.033641  0.041073  0.134431  \n",
       "g-6  -0.126069 -0.107593 -0.109543 -0.182960 -0.058387  0.070343  \n",
       "g-7   0.266334  0.141999  0.372104  0.185269 -0.061020  0.121534  \n",
       "g-8   0.417574 -0.078128  0.424483  0.639804 -0.085082 -0.006910  \n",
       "g-9   0.306363  0.099181  0.390175  0.327539 -0.002785 -0.003900  \n",
       "g-10  0.407051  0.067700  0.393915  0.512309 -0.037036 -0.052095  \n",
       "g-11 -0.030179 -0.065078 -0.209515 -0.138624  0.045394 -0.065191  \n",
       "g-12  0.287201 -0.103731  0.181421  0.303911 -0.021739 -0.064549  \n",
       "g-13 -0.209376 -0.147524 -0.332240 -0.305255  0.043595 -0.093609  \n",
       "g-14  1.000000 -0.062795  0.323921  0.341669  0.021301 -0.009360  \n",
       "g-15 -0.062795  1.000000  0.101588 -0.103187  0.049834  0.089420  \n",
       "g-16  0.323921  0.101588  1.000000  0.360481  0.011358  0.113838  \n",
       "g-17  0.341669 -0.103187  0.360481  1.000000 -0.069641 -0.067606  \n",
       "g-18  0.021301  0.049834  0.011358 -0.069641  1.000000  0.164046  \n",
       "g-19 -0.009360  0.089420  0.113838 -0.067606  0.164046  1.000000  "
      ]
     },
     "execution_count": 55,
     "metadata": {},
     "output_type": "execute_result"
    }
   ],
   "source": [
    "corr_df.iloc[:20,:20]"
   ]
  },
  {
   "cell_type": "code",
   "execution_count": 56,
   "metadata": {},
   "outputs": [
    {
     "data": {
      "text/plain": [
       "379756"
      ]
     },
     "execution_count": 56,
     "metadata": {},
     "output_type": "execute_result"
    }
   ],
   "source": [
    "corr_lst = []\n",
    "for i in range(0,len(corr_df)-1):\n",
    "    for j in range(len(corr_df)-1,i,-1):\n",
    "        corr_lst.append(corr_df.iloc[j,i])\n",
    "len(corr_lst)"
   ]
  },
  {
   "cell_type": "code",
   "execution_count": 58,
   "metadata": {},
   "outputs": [
    {
     "data": {
      "text/plain": [
       "<AxesSubplot:ylabel='Count'>"
      ]
     },
     "execution_count": 58,
     "metadata": {},
     "output_type": "execute_result"
    },
    {
     "data": {
      "image/png": "[encoded data removed]",
      "text/plain": [
       "<Figure size 432x288 with 1 Axes>"
      ]
     },
     "metadata": {
      "needs_background": "light"
     },
     "output_type": "display_data"
    }
   ],
   "source": [
    "sns.histplot(data=corr_lst)"
   ]
  },
  {
   "cell_type": "code",
   "execution_count": 60,
   "metadata": {},
   "outputs": [
    {
     "data": {
      "text/plain": [
       "872"
      ]
     },
     "execution_count": 60,
     "metadata": {},
     "output_type": "execute_result"
    }
   ],
   "source": [
    "len(corr_df.mean())"
   ]
  },
  {
   "cell_type": "code",
   "execution_count": 61,
   "metadata": {},
   "outputs": [
    {
     "data": {
      "text/plain": [
       "pandas.core.series.Series"
      ]
     },
     "execution_count": 61,
     "metadata": {},
     "output_type": "execute_result"
    }
   ],
   "source": [
    "type(corr_df.mean())"
   ]
  },
  {
   "cell_type": "code",
   "execution_count": 62,
   "metadata": {},
   "outputs": [
    {
     "data": {
      "text/plain": [
       "-0.09119751260973122"
      ]
     },
     "execution_count": 62,
     "metadata": {},
     "output_type": "execute_result"
    }
   ],
   "source": [
    "corr_df.mean().min()"
   ]
  },
  {
   "cell_type": "code",
   "execution_count": 63,
   "metadata": {},
   "outputs": [
    {
     "data": {
      "text/plain": [
       "0.10080946303397952"
      ]
     },
     "execution_count": 63,
     "metadata": {},
     "output_type": "execute_result"
    }
   ],
   "source": [
    "corr_df.mean().max()"
   ]
  },
  {
   "cell_type": "code",
   "execution_count": 64,
   "metadata": {},
   "outputs": [
    {
     "data": {
      "text/plain": [
       "2.866076348463301e-05"
      ]
     },
     "execution_count": 64,
     "metadata": {},
     "output_type": "execute_result"
    }
   ],
   "source": [
    "corr_df.mean().abs().min()"
   ]
  },
  {
   "cell_type": "code",
   "execution_count": 66,
   "metadata": {},
   "outputs": [
    {
     "data": {
      "text/plain": [
       "<AxesSubplot:ylabel='Count'>"
      ]
     },
     "execution_count": 66,
     "metadata": {},
     "output_type": "execute_result"
    },
    {
     "data": {
      "image/png": "[encoded data removed]",
      "text/plain": [
       "<Figure size 432x288 with 1 Axes>"
      ]
     },
     "metadata": {
      "needs_background": "light"
     },
     "output_type": "display_data"
    }
   ],
   "source": [
    "sns.histplot(data=corr_df.abs().mean())"
   ]
  },
  {
   "cell_type": "code",
   "execution_count": null,
   "metadata": {},
   "outputs": [],
   "source": []
  }
 ],
 "metadata": {
  "kernelspec": {
   "display_name": "Python 3",
   "language": "python",
   "name": "python3"
  },
  "language_info": {
   "codemirror_mode": {
    "name": "ipython",
    "version": 3
   },
   "file_extension": ".py",
   "mimetype": "text/x-python",
   "name": "python",
   "nbconvert_exporter": "python",
   "pygments_lexer": "ipython3",
   "version": "3.8.5"
  }
 },
 "nbformat": 4,
 "nbformat_minor": 4
}

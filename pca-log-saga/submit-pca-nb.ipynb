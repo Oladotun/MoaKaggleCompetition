{
 "cells": [
  {
   "cell_type": "markdown",
   "metadata": {},
   "source": [
    "An exploratory notebook looking at the results of a Naive Bayes classifier prior to looking at the leaderboard or other resources."
   ]
  },
  {
   "cell_type": "code",
   "execution_count": null,
   "metadata": {},
   "outputs": [],
   "source": [
    "import pandas as pd\n",
    "import numpy as np\n",
    "from sklearn.decomposition import PCA\n",
    "from sklearn import metrics"
   ]
  },
  {
   "cell_type": "code",
   "execution_count": null,
   "metadata": {},
   "outputs": [],
   "source": [
    "from sklearn.naive_bayes import GaussianNB\n",
    "from sklearn.multioutput import MultiOutputClassifier"
   ]
  },
  {
   "cell_type": "code",
   "execution_count": null,
   "metadata": {},
   "outputs": [],
   "source": [
    "comp_path = 'kaggle/input/lish-moa/'"
   ]
  },
  {
   "cell_type": "code",
   "execution_count": null,
   "metadata": {},
   "outputs": [],
   "source": [
    "tf_df = pd.read_csv(comp_path+'train_features.csv',index_col='sig_id')"
   ]
  },
  {
   "cell_type": "code",
   "execution_count": null,
   "metadata": {},
   "outputs": [],
   "source": [
    "pca = PCA(n_components=50)\n",
    "pca.fit(tf_df.loc[:,'g-0':'c-99'])\n",
    "pca.explained_variance_ratio_"
   ]
  },
  {
   "cell_type": "markdown",
   "metadata": {},
   "source": [
    "Large drops after 2, 6, 8, 12 components."
   ]
  },
  {
   "cell_type": "code",
   "execution_count": null,
   "metadata": {},
   "outputs": [],
   "source": [
    "reduced_comps = pca.transform(tf_df.loc[:,'g-0':'c-99'])"
   ]
  },
  {
   "cell_type": "code",
   "execution_count": null,
   "metadata": {},
   "outputs": [],
   "source": [
    "reduced_comps = reduced_comps[:,:6]"
   ]
  },
  {
   "cell_type": "code",
   "execution_count": null,
   "metadata": {},
   "outputs": [],
   "source": [
    "tts_df = pd.read_csv(comp_path+'train_targets_scored.csv',index_col='sig_id')"
   ]
  },
  {
   "cell_type": "code",
   "execution_count": null,
   "metadata": {},
   "outputs": [],
   "source": [
    "tts_df.columns"
   ]
  },
  {
   "cell_type": "code",
   "execution_count": null,
   "metadata": {},
   "outputs": [],
   "source": [
    "nb_model = MultiOutputClassifier(GaussianNB())\n",
    "nb_model.fit(reduced_comps,tts_df)\n",
    "tts_pred = nb_model.predict(reduced_comps)\n",
    "metrics.log_loss(tts_df,tts_pred)"
   ]
  },
  {
   "cell_type": "markdown",
   "metadata": {},
   "source": [
    "It happens that we can predict column 1 quite well, but on average, worse than 21%. Looking at the results, I think that for column 1 the model simply decided to predict 0 for all runs because only 17 out of 2x,xxx rows had a 1.\n",
    "\n",
    "Logistic regression (saga, L1 regularization, 5000 `max_iter`) was \"better\", *i.e.* 42% accuracy, although that took over an hour to squeeze out on my antiquated hardware.\n",
    "\n",
    "I also checked and it turns out that throwing 8 PCA components at NB made the model *worse*, and all 50 PCA components made it a *lot* worse at predicting column 1.\n",
    "\n",
    "No wonder they want people pulling out deep learning to attack this.\n",
    "\n",
    "Would be good to cycle through the whole list and see which columns perform how.\n",
    "\n",
    "Oh, and interesting to see if any of the PCA components got zero coefficients under L1 regularization... for each target... that's a lot to check."
   ]
  },
  {
   "cell_type": "markdown",
   "metadata": {},
   "source": [
    "Can take this, spit it out and upload it to Kaggle as a baseline along with the logistic regression results."
   ]
  },
  {
   "cell_type": "code",
   "execution_count": null,
   "metadata": {},
   "outputs": [],
   "source": [
    "(pd.DataFrame(tts_pred,columns=tts_df.columns,index=tts_df.index)).to_csv(path_or_buf=\n",
    "            'submission.csv')"
   ]
  },
  {
   "cell_type": "code",
   "execution_count": null,
   "metadata": {},
   "outputs": [],
   "source": []
  }
 ],
 "metadata": {
  "kernelspec": {
   "display_name": "Python 3",
   "language": "python",
   "name": "python3"
  },
  "language_info": {
   "codemirror_mode": {
    "name": "ipython",
    "version": 3
   },
   "file_extension": ".py",
   "mimetype": "text/x-python",
   "name": "python",
   "nbconvert_exporter": "python",
   "pygments_lexer": "ipython3",
   "version": "3.8.5"
  }
 },
 "nbformat": 4,
 "nbformat_minor": 4
}

{
 "cells": [
  {
   "cell_type": "markdown",
   "metadata": {
    "colab_type": "text",
    "id": "twf1B5bSM6G6"
   },
   "source": [
    "# Challenge Set 8"
   ]
  },
  {
   "cell_type": "code",
   "execution_count": 1,
   "metadata": {
    "colab": {
     "base_uri": "https://localhost:8080/",
     "height": 71
    },
    "colab_type": "code",
    "executionInfo": {
     "elapsed": 893,
     "status": "ok",
     "timestamp": 1588168381434,
     "user": {
      "displayName": "Paul Giesting",
      "photoUrl": "https://lh3.googleusercontent.com/a-/AOh14GhzU8DYW0Zr8K6TisrzSrPIioQwyuiKLX6PZbRfQg=s64",
      "userId": "00127901002629530353"
     },
     "user_tz": 240
    },
    "id": "gz6Y8hPaM6HB",
    "outputId": "b9711aae-8e4a-4bf9-9d5a-0c8b6dfb453f"
   },
   "outputs": [],
   "source": [
    "import pandas as pd\n",
    "import numpy as np\n",
    "from sklearn.model_selection import train_test_split\n",
    "from sklearn.neighbors import KNeighborsClassifier\n",
    "from sklearn.metrics import accuracy_score\n",
    "from sklearn.linear_model import LogisticRegression\n",
    "import matplotlib.pyplot as plt\n",
    "import seaborn as sns\n",
    "%matplotlib inline\n",
    "sns.set()\n",
    "from sklearn.model_selection import learning_curve\n",
    "from sklearn.naive_bayes import GaussianNB\n",
    "from sklearn.svm import SVC\n",
    "from sklearn.tree import DecisionTreeClassifier\n",
    "from sklearn.ensemble import RandomForestClassifier\n",
    "from sklearn.model_selection import cross_val_score\n",
    "from sklearn.metrics import precision_recall_fscore_support as prfs\n",
    "from sklearn.metrics import plot_roc_curve"
   ]
  },
  {
   "cell_type": "code",
   "execution_count": 21,
   "metadata": {},
   "outputs": [],
   "source": [
    "from sklearn.model_selection import cross_validate"
   ]
  },
  {
   "cell_type": "code",
   "execution_count": 29,
   "metadata": {},
   "outputs": [],
   "source": [
    "from sklearn.preprocessing import LabelBinarizer"
   ]
  },
  {
   "cell_type": "markdown",
   "metadata": {
    "colab_type": "text",
    "id": "7nQTkZimM6IB"
   },
   "source": [
    "### Challenge 1\n",
    "\n",
    "For the house representatives data set, calculate the accuracy, precision, recall and f1 scores of each classifier you built (on the test set)."
   ]
  },
  {
   "cell_type": "markdown",
   "metadata": {
    "colab_type": "text",
    "id": "mDINHqMtM6IF"
   },
   "source": [
    "    knn_model = KNeighborsClassifier(n_neighbors=k)\n",
    "        knn_model.fit(data,target)\n",
    "        yp = knn_model.predict(test_data)\n",
    "    logit_model = LogisticRegression()\n",
    "    gnb_model = GaussianNB()\n",
    "    svc_model = SVC()\n",
    "    dtc_model = DecisionTreeClassifier()\n",
    "    rfc_model = RandomForestClassifier()\n",
    "    \n",
    "I assume we are ignoring Challenge 7.10 and reverting to the situation for the earlier challenges."
   ]
  },
  {
   "cell_type": "markdown",
   "metadata": {
    "colab_type": "text",
    "id": "NYJgDZ0ZM6IL"
   },
   "source": [
    "Accuracy = Correct Predictions / All Test Cases\n",
    "\n",
    "Precision = True Positives (Correctly Predicted Positives) / All Positive Predictions\n",
    "\n",
    "Recall = True Positives (Correctly Predicted Positives) / All Actual Positives\n",
    "\n",
    "F1 = 0.5 * (PR) / (P + R)\n",
    "\n",
    "The routine\n",
    "\n",
    "    sklearn.metrics.precision_recall_fscore_support\n",
    "\n",
    "produces values of precision, recall, and F (F1 by default) focused on each class in what looks like a tuple of arrays."
   ]
  },
  {
   "cell_type": "code",
   "execution_count": 2,
   "metadata": {
    "colab": {},
    "colab_type": "code",
    "id": "O_MmUSgkM6IP"
   },
   "outputs": [],
   "source": [
    "vote_df = pd.read_csv('house-votes-84.data',header=None)\n",
    "vote_df.replace(to_replace='y',value=1.0,inplace=True)\n",
    "vote_df.replace(to_replace='n',value=0.0,inplace=True)\n",
    "vote_df.replace(to_replace='?',value=np.nan,inplace=True)\n",
    "vote_df.fillna(vote_df.mean(),inplace=True)\n",
    "party = np.array(vote_df[0])\n",
    "df = vote_df.copy()\n",
    "del df[0]\n",
    "X_train, X_test, y_train, y_test = \\\n",
    "    train_test_split(df,party,test_size=0.30,random_state=4444)"
   ]
  },
  {
   "cell_type": "code",
   "execution_count": 3,
   "metadata": {
    "colab": {
     "base_uri": "https://localhost:8080/",
     "height": 34
    },
    "colab_type": "code",
    "executionInfo": {
     "elapsed": 553,
     "status": "ok",
     "timestamp": 1588169116102,
     "user": {
      "displayName": "Paul Giesting",
      "photoUrl": "https://lh3.googleusercontent.com/a-/AOh14GhzU8DYW0Zr8K6TisrzSrPIioQwyuiKLX6PZbRfQg=s64",
      "userId": "00127901002629530353"
     },
     "user_tz": 240
    },
    "id": "h8XcZIblM6In",
    "outputId": "56838a78-198e-4240-d732-14257d29dbf2"
   },
   "outputs": [
    {
     "data": {
      "text/plain": [
       "0.9312977099236641"
      ]
     },
     "execution_count": 3,
     "metadata": {},
     "output_type": "execute_result"
    }
   ],
   "source": [
    "knn_model = KNeighborsClassifier(n_neighbors=6)\n",
    "knn_model.fit(X_train,y_train)\n",
    "knn_model.score(X_test,y_test)"
   ]
  },
  {
   "cell_type": "code",
   "execution_count": 4,
   "metadata": {
    "colab": {
     "base_uri": "https://localhost:8080/",
     "height": 85
    },
    "colab_type": "code",
    "executionInfo": {
     "elapsed": 527,
     "status": "ok",
     "timestamp": 1588169135011,
     "user": {
      "displayName": "Paul Giesting",
      "photoUrl": "https://lh3.googleusercontent.com/a-/AOh14GhzU8DYW0Zr8K6TisrzSrPIioQwyuiKLX6PZbRfQg=s64",
      "userId": "00127901002629530353"
     },
     "user_tz": 240
    },
    "id": "GE7yABVvM6JV",
    "outputId": "65f19d84-62f4-4c34-d663-000c83116833"
   },
   "outputs": [
    {
     "data": {
      "text/plain": [
       "(array([0.925     , 0.94117647]),\n",
       " array([0.96103896, 0.88888889]),\n",
       " array([0.94267516, 0.91428571]),\n",
       " array([77, 54]))"
      ]
     },
     "execution_count": 4,
     "metadata": {},
     "output_type": "execute_result"
    }
   ],
   "source": [
    "yk = knn_model.predict(X_test)\n",
    "prfs(y_test,yk)"
   ]
  },
  {
   "cell_type": "code",
   "execution_count": 5,
   "metadata": {
    "colab": {
     "base_uri": "https://localhost:8080/",
     "height": 34
    },
    "colab_type": "code",
    "executionInfo": {
     "elapsed": 776,
     "status": "ok",
     "timestamp": 1588169141299,
     "user": {
      "displayName": "Paul Giesting",
      "photoUrl": "https://lh3.googleusercontent.com/a-/AOh14GhzU8DYW0Zr8K6TisrzSrPIioQwyuiKLX6PZbRfQg=s64",
      "userId": "00127901002629530353"
     },
     "user_tz": 240
    },
    "id": "Z4zDVlEPM6Js",
    "outputId": "026c9c58-0166-475c-bc49-f8f3239b855e"
   },
   "outputs": [
    {
     "data": {
      "text/plain": [
       "0.9312977099236641"
      ]
     },
     "execution_count": 5,
     "metadata": {},
     "output_type": "execute_result"
    }
   ],
   "source": [
    "logit_model = LogisticRegression()\n",
    "logit_model.fit(X_train,y_train)\n",
    "logit_model.score(X_test,y_test)"
   ]
  },
  {
   "cell_type": "code",
   "execution_count": 6,
   "metadata": {
    "colab": {
     "base_uri": "https://localhost:8080/",
     "height": 85
    },
    "colab_type": "code",
    "executionInfo": {
     "elapsed": 1156,
     "status": "ok",
     "timestamp": 1588169149906,
     "user": {
      "displayName": "Paul Giesting",
      "photoUrl": "https://lh3.googleusercontent.com/a-/AOh14GhzU8DYW0Zr8K6TisrzSrPIioQwyuiKLX6PZbRfQg=s64",
      "userId": "00127901002629530353"
     },
     "user_tz": 240
    },
    "id": "wGOldMjqM6KF",
    "outputId": "961077d4-a08b-4083-df06-e084559c40fe"
   },
   "outputs": [
    {
     "data": {
      "text/plain": [
       "(array([0.91463415, 0.95918367]),\n",
       " array([0.97402597, 0.87037037]),\n",
       " array([0.94339623, 0.91262136]),\n",
       " array([77, 54]))"
      ]
     },
     "execution_count": 6,
     "metadata": {},
     "output_type": "execute_result"
    }
   ],
   "source": [
    "yl = logit_model.predict(X_test)\n",
    "prfs(y_test,yl)"
   ]
  },
  {
   "cell_type": "code",
   "execution_count": 7,
   "metadata": {
    "colab": {
     "base_uri": "https://localhost:8080/",
     "height": 34
    },
    "colab_type": "code",
    "executionInfo": {
     "elapsed": 809,
     "status": "ok",
     "timestamp": 1588169157865,
     "user": {
      "displayName": "Paul Giesting",
      "photoUrl": "https://lh3.googleusercontent.com/a-/AOh14GhzU8DYW0Zr8K6TisrzSrPIioQwyuiKLX6PZbRfQg=s64",
      "userId": "00127901002629530353"
     },
     "user_tz": 240
    },
    "id": "N6q6Cj1kM6KY",
    "outputId": "f2761a0c-c861-4156-d697-3c47ae6cfe3f"
   },
   "outputs": [
    {
     "data": {
      "text/plain": [
       "0.9389312977099237"
      ]
     },
     "execution_count": 7,
     "metadata": {},
     "output_type": "execute_result"
    }
   ],
   "source": [
    "gnb_model = GaussianNB()\n",
    "gnb_model.fit(X_train,y_train)\n",
    "gnb_model.score(X_test,y_test)"
   ]
  },
  {
   "cell_type": "code",
   "execution_count": 8,
   "metadata": {
    "colab": {
     "base_uri": "https://localhost:8080/",
     "height": 85
    },
    "colab_type": "code",
    "executionInfo": {
     "elapsed": 294,
     "status": "ok",
     "timestamp": 1588169166320,
     "user": {
      "displayName": "Paul Giesting",
      "photoUrl": "https://lh3.googleusercontent.com/a-/AOh14GhzU8DYW0Zr8K6TisrzSrPIioQwyuiKLX6PZbRfQg=s64",
      "userId": "00127901002629530353"
     },
     "user_tz": 240
    },
    "id": "LjV29eTfM6Kq",
    "outputId": "6058fba7-1b0f-45bd-d3bc-63b04f1ac969"
   },
   "outputs": [
    {
     "data": {
      "text/plain": [
       "(array([0.91566265, 0.97916667]),\n",
       " array([0.98701299, 0.87037037]),\n",
       " array([0.95      , 0.92156863]),\n",
       " array([77, 54]))"
      ]
     },
     "execution_count": 8,
     "metadata": {},
     "output_type": "execute_result"
    }
   ],
   "source": [
    "yg = gnb_model.predict(X_test)\n",
    "prfs(y_test,yg)"
   ]
  },
  {
   "cell_type": "code",
   "execution_count": 9,
   "metadata": {
    "colab": {
     "base_uri": "https://localhost:8080/",
     "height": 34
    },
    "colab_type": "code",
    "executionInfo": {
     "elapsed": 434,
     "status": "ok",
     "timestamp": 1588169170929,
     "user": {
      "displayName": "Paul Giesting",
      "photoUrl": "https://lh3.googleusercontent.com/a-/AOh14GhzU8DYW0Zr8K6TisrzSrPIioQwyuiKLX6PZbRfQg=s64",
      "userId": "00127901002629530353"
     },
     "user_tz": 240
    },
    "id": "QwaZF4tNM6LB",
    "outputId": "35fb7085-b809-4096-83aa-8e89745b4df6"
   },
   "outputs": [
    {
     "data": {
      "text/plain": [
       "0.9465648854961832"
      ]
     },
     "execution_count": 9,
     "metadata": {},
     "output_type": "execute_result"
    }
   ],
   "source": [
    "svc_model = SVC()\n",
    "svc_model.fit(X_train,y_train)\n",
    "svc_model.score(X_test,y_test)"
   ]
  },
  {
   "cell_type": "code",
   "execution_count": 10,
   "metadata": {
    "colab": {
     "base_uri": "https://localhost:8080/",
     "height": 85
    },
    "colab_type": "code",
    "executionInfo": {
     "elapsed": 1120,
     "status": "ok",
     "timestamp": 1588169177577,
     "user": {
      "displayName": "Paul Giesting",
      "photoUrl": "https://lh3.googleusercontent.com/a-/AOh14GhzU8DYW0Zr8K6TisrzSrPIioQwyuiKLX6PZbRfQg=s64",
      "userId": "00127901002629530353"
     },
     "user_tz": 240
    },
    "id": "YF-nMSWuM6Ll",
    "outputId": "35afe299-ab1c-46be-8994-8256be431a62"
   },
   "outputs": [
    {
     "data": {
      "text/plain": [
       "(array([0.9375    , 0.96078431]),\n",
       " array([0.97402597, 0.90740741]),\n",
       " array([0.95541401, 0.93333333]),\n",
       " array([77, 54]))"
      ]
     },
     "execution_count": 10,
     "metadata": {},
     "output_type": "execute_result"
    }
   ],
   "source": [
    "ys = svc_model.predict(X_test)\n",
    "prfs(y_test,ys)"
   ]
  },
  {
   "cell_type": "code",
   "execution_count": 11,
   "metadata": {
    "colab": {
     "base_uri": "https://localhost:8080/",
     "height": 34
    },
    "colab_type": "code",
    "executionInfo": {
     "elapsed": 484,
     "status": "ok",
     "timestamp": 1588169180489,
     "user": {
      "displayName": "Paul Giesting",
      "photoUrl": "https://lh3.googleusercontent.com/a-/AOh14GhzU8DYW0Zr8K6TisrzSrPIioQwyuiKLX6PZbRfQg=s64",
      "userId": "00127901002629530353"
     },
     "user_tz": 240
    },
    "id": "dLy-PwuFM6L2",
    "outputId": "c3333efb-d947-4aa4-d29e-ace3781fd40e"
   },
   "outputs": [
    {
     "data": {
      "text/plain": [
       "0.9389312977099237"
      ]
     },
     "execution_count": 11,
     "metadata": {},
     "output_type": "execute_result"
    }
   ],
   "source": [
    "dtc_model = DecisionTreeClassifier()\n",
    "dtc_model.fit(X_train,y_train)\n",
    "dtc_model.score(X_test,y_test)"
   ]
  },
  {
   "cell_type": "code",
   "execution_count": 12,
   "metadata": {
    "colab": {
     "base_uri": "https://localhost:8080/",
     "height": 85
    },
    "colab_type": "code",
    "executionInfo": {
     "elapsed": 410,
     "status": "ok",
     "timestamp": 1588169183690,
     "user": {
      "displayName": "Paul Giesting",
      "photoUrl": "https://lh3.googleusercontent.com/a-/AOh14GhzU8DYW0Zr8K6TisrzSrPIioQwyuiKLX6PZbRfQg=s64",
      "userId": "00127901002629530353"
     },
     "user_tz": 240
    },
    "id": "oK_87GvhM6MI",
    "outputId": "bf2753b7-5f81-405d-ef67-6be91a7a1128"
   },
   "outputs": [
    {
     "data": {
      "text/plain": [
       "(array([0.92592593, 0.96      ]),\n",
       " array([0.97402597, 0.88888889]),\n",
       " array([0.94936709, 0.92307692]),\n",
       " array([77, 54]))"
      ]
     },
     "execution_count": 12,
     "metadata": {},
     "output_type": "execute_result"
    }
   ],
   "source": [
    "yd = dtc_model.predict(X_test)\n",
    "prfs(y_test,yd)"
   ]
  },
  {
   "cell_type": "code",
   "execution_count": 13,
   "metadata": {
    "colab": {
     "base_uri": "https://localhost:8080/",
     "height": 34
    },
    "colab_type": "code",
    "executionInfo": {
     "elapsed": 562,
     "status": "ok",
     "timestamp": 1588169194493,
     "user": {
      "displayName": "Paul Giesting",
      "photoUrl": "https://lh3.googleusercontent.com/a-/AOh14GhzU8DYW0Zr8K6TisrzSrPIioQwyuiKLX6PZbRfQg=s64",
      "userId": "00127901002629530353"
     },
     "user_tz": 240
    },
    "id": "wgFi01_5M6Mc",
    "outputId": "e4c55d4a-f1e6-4ee0-8542-419da952fac2"
   },
   "outputs": [
    {
     "data": {
      "text/plain": [
       "0.9541984732824428"
      ]
     },
     "execution_count": 13,
     "metadata": {},
     "output_type": "execute_result"
    }
   ],
   "source": [
    "rfc_model = RandomForestClassifier()\n",
    "rfc_model.fit(X_train,y_train)\n",
    "rfc_model.score(X_test,y_test)"
   ]
  },
  {
   "cell_type": "code",
   "execution_count": 14,
   "metadata": {
    "colab": {
     "base_uri": "https://localhost:8080/",
     "height": 85
    },
    "colab_type": "code",
    "executionInfo": {
     "elapsed": 658,
     "status": "ok",
     "timestamp": 1588169211764,
     "user": {
      "displayName": "Paul Giesting",
      "photoUrl": "https://lh3.googleusercontent.com/a-/AOh14GhzU8DYW0Zr8K6TisrzSrPIioQwyuiKLX6PZbRfQg=s64",
      "userId": "00127901002629530353"
     },
     "user_tz": 240
    },
    "id": "uLHZLtzwM6Mt",
    "outputId": "c3456c01-1458-450f-a0a1-eb5942d8f1e0"
   },
   "outputs": [
    {
     "data": {
      "text/plain": [
       "(array([0.94936709, 0.96153846]),\n",
       " array([0.97402597, 0.92592593]),\n",
       " array([0.96153846, 0.94339623]),\n",
       " array([77, 54]))"
      ]
     },
     "execution_count": 14,
     "metadata": {},
     "output_type": "execute_result"
    }
   ],
   "source": [
    "yr = rfc_model.predict(X_test)\n",
    "prfs(y_test,yr)"
   ]
  },
  {
   "cell_type": "markdown",
   "metadata": {
    "colab_type": "text",
    "id": "CaCVZcjkM6NE"
   },
   "source": [
    "### Challenge 2\n",
    "\n",
    "For each, draw the ROC curve and calculate the AUC."
   ]
  },
  {
   "cell_type": "code",
   "execution_count": 20,
   "metadata": {
    "colab": {},
    "colab_type": "code",
    "id": "MZme7KAEM6Na"
   },
   "outputs": [
    {
     "data": {
      "image/png": "[encoded data removed]",
      "text/plain": [
       "<Figure size 432x288 with 1 Axes>"
      ]
     },
     "metadata": {},
     "output_type": "display_data"
    }
   ],
   "source": [
    "ax = plt.gca()\n",
    "rfc_plot = plot_roc_curve(rfc_model,X_test,y_test,ax=ax)\n",
    "dtc_plot = plot_roc_curve(dtc_model,X_test,y_test,ax=ax)\n",
    "svc_plot = plot_roc_curve(svc_model,X_test,y_test,ax=ax)\n",
    "gnb_plot = plot_roc_curve(gnb_model,X_test,y_test,ax=ax)\n",
    "logit_plot = plot_roc_curve(logit_model,X_test,y_test,ax=ax)\n",
    "knn_plot = plot_roc_curve(knn_model,X_test,y_test,ax=ax)\n",
    "plt.show()"
   ]
  },
  {
   "cell_type": "markdown",
   "metadata": {
    "colab_type": "text",
    "id": "fJQ_5neJM6Nr"
   },
   "source": [
    "### Challenge 3\n",
    "\n",
    "Calculate the same metrics you did in challenge 1, but this time in a cross validation scheme with the cross_val_score function (like in Challenge 9)."
   ]
  },
  {
   "cell_type": "markdown",
   "metadata": {},
   "source": [
    "    knn, logit, gnb, svc, dtc, rfc\n",
    "    \n",
    "calculate the accuracy, precision, recall and f1 scores of each classifier\n",
    "\n",
    "I have to specify a \"positive\" label. I apparently need to call a new routine to do this. It maps the less common label 'republican' to 1 and the more common 'democrat' to 0."
   ]
  },
  {
   "cell_type": "code",
   "execution_count": 35,
   "metadata": {},
   "outputs": [],
   "source": [
    "lb = LabelBinarizer()\n",
    "target = np.ravel(lb.fit_transform(party))"
   ]
  },
  {
   "cell_type": "code",
   "execution_count": 38,
   "metadata": {
    "colab": {},
    "colab_type": "code",
    "id": "5CNeWrI2M6Nw"
   },
   "outputs": [
    {
     "name": "stdout",
     "output_type": "stream",
     "text": [
      "knn model results by cross-validation\n",
      "Accuracy:  0.9333333333333332\n",
      "Precision:  0.9044598285964509\n",
      "Recall:  0.9285204991087344\n",
      "F1:  0.9151236532780272\n"
     ]
    }
   ],
   "source": [
    "print(\"knn model results by cross-validation\")\n",
    "knn_acc = cross_validate(knn_model,df,target,scoring='accuracy',\n",
    "            return_train_score=True)\n",
    "print(\"Accuracy: \",np.mean(knn_acc['test_score']))\n",
    "knn_prec = cross_validate(knn_model,df,target,scoring='precision',\n",
    "            return_train_score=True)\n",
    "print(\"Precision: \",np.mean(knn_prec['test_score']))\n",
    "knn_rec = cross_validate(knn_model,df,target,scoring='recall',\n",
    "            return_train_score=True)\n",
    "print(\"Recall: \",np.mean(knn_rec['test_score']))\n",
    "knn_f1 = cross_validate(knn_model,df,target,scoring='f1',\n",
    "            return_train_score=True)\n",
    "print(\"F1: \",np.mean(knn_f1['test_score']))"
   ]
  },
  {
   "cell_type": "code",
   "execution_count": 39,
   "metadata": {},
   "outputs": [
    {
     "name": "stdout",
     "output_type": "stream",
     "text": [
      "logit model results by cross-validation\n",
      "Accuracy:  0.9540229885057471\n",
      "Precision:  0.9323998186498187\n",
      "Recall:  0.9524064171122995\n",
      "F1:  0.9415697346132129\n"
     ]
    }
   ],
   "source": [
    "print(\"logit model results by cross-validation\")\n",
    "logit_acc = cross_validate(logit_model,df,target,scoring='accuracy',\n",
    "            return_train_score=True)\n",
    "print(\"Accuracy: \",np.mean(logit_acc['test_score']))\n",
    "logit_prec = cross_validate(logit_model,df,target,scoring='precision',\n",
    "            return_train_score=True)\n",
    "print(\"Precision: \",np.mean(logit_prec['test_score']))\n",
    "logit_rec = cross_validate(logit_model,df,target,scoring='recall',\n",
    "            return_train_score=True)\n",
    "print(\"Recall: \",np.mean(logit_rec['test_score']))\n",
    "logit_f1 = cross_validate(logit_model,df,target,scoring='f1',\n",
    "            return_train_score=True)\n",
    "print(\"F1: \",np.mean(logit_f1['test_score']))"
   ]
  },
  {
   "cell_type": "code",
   "execution_count": 40,
   "metadata": {},
   "outputs": [
    {
     "name": "stdout",
     "output_type": "stream",
     "text": [
      "gnb model results by cross-validation\n",
      "Accuracy:  0.9402298850574713\n",
      "Precision:  0.9180567964349049\n",
      "Recall:  0.9345811051693405\n",
      "F1:  0.9247033331208974\n"
     ]
    }
   ],
   "source": [
    "print(\"gnb model results by cross-validation\")\n",
    "gnb_acc = cross_validate(gnb_model,df,target,scoring='accuracy',\n",
    "            return_train_score=True)\n",
    "print(\"Accuracy: \",np.mean(gnb_acc['test_score']))\n",
    "gnb_prec = cross_validate(gnb_model,df,target,scoring='precision',\n",
    "            return_train_score=True)\n",
    "print(\"Precision: \",np.mean(gnb_prec['test_score']))\n",
    "gnb_rec = cross_validate(gnb_model,df,target,scoring='recall',\n",
    "            return_train_score=True)\n",
    "print(\"Recall: \",np.mean(gnb_rec['test_score']))\n",
    "gnb_f1 = cross_validate(gnb_model,df,target,scoring='f1',\n",
    "            return_train_score=True)\n",
    "print(\"F1: \",np.mean(gnb_f1['test_score']))"
   ]
  },
  {
   "cell_type": "code",
   "execution_count": 41,
   "metadata": {},
   "outputs": [
    {
     "name": "stdout",
     "output_type": "stream",
     "text": [
      "svc model results by cross-validation\n",
      "Accuracy:  0.9563218390804596\n",
      "Precision:  0.9332533037138301\n",
      "Recall:  0.9584670231729057\n",
      "F1:  0.9447085676112008\n"
     ]
    }
   ],
   "source": [
    "print(\"svc model results by cross-validation\")\n",
    "svc_acc = cross_validate(svc_model,df,target,scoring='accuracy',\n",
    "            return_train_score=True)\n",
    "print(\"Accuracy: \",np.mean(svc_acc['test_score']))\n",
    "svc_prec = cross_validate(svc_model,df,target,scoring='precision',\n",
    "            return_train_score=True)\n",
    "print(\"Precision: \",np.mean(svc_prec['test_score']))\n",
    "svc_rec = cross_validate(svc_model,df,target,scoring='recall',\n",
    "            return_train_score=True)\n",
    "print(\"Recall: \",np.mean(svc_rec['test_score']))\n",
    "svc_f1 = cross_validate(svc_model,df,target,scoring='f1',\n",
    "            return_train_score=True)\n",
    "print(\"F1: \",np.mean(svc_f1['test_score']))"
   ]
  },
  {
   "cell_type": "code",
   "execution_count": 42,
   "metadata": {},
   "outputs": [
    {
     "name": "stdout",
     "output_type": "stream",
     "text": [
      "dtc model results by cross-validation\n",
      "Accuracy:  0.9379310344827587\n",
      "Precision:  0.9129363994639137\n",
      "Recall:  0.9401069518716578\n",
      "F1:  0.9288355839848379\n"
     ]
    }
   ],
   "source": [
    "print(\"dtc model results by cross-validation\")\n",
    "dtc_acc = cross_validate(dtc_model,df,target,scoring='accuracy',\n",
    "            return_train_score=True)\n",
    "print(\"Accuracy: \",np.mean(dtc_acc['test_score']))\n",
    "dtc_prec = cross_validate(dtc_model,df,target,scoring='precision',\n",
    "            return_train_score=True)\n",
    "print(\"Precision: \",np.mean(dtc_prec['test_score']))\n",
    "dtc_rec = cross_validate(dtc_model,df,target,scoring='recall',\n",
    "            return_train_score=True)\n",
    "print(\"Recall: \",np.mean(dtc_rec['test_score']))\n",
    "dtc_f1 = cross_validate(dtc_model,df,target,scoring='f1',\n",
    "            return_train_score=True)\n",
    "print(\"F1: \",np.mean(dtc_f1['test_score']))"
   ]
  },
  {
   "cell_type": "code",
   "execution_count": 43,
   "metadata": {},
   "outputs": [
    {
     "name": "stdout",
     "output_type": "stream",
     "text": [
      "rfc model results by cross-validation\n",
      "Accuracy:  0.9609195402298851\n",
      "Precision:  0.9441832904332905\n",
      "Recall:  0.9641711229946525\n",
      "F1:  0.953076946847226\n"
     ]
    }
   ],
   "source": [
    "print(\"rfc model results by cross-validation\")\n",
    "rfc_acc = cross_validate(rfc_model,df,target,scoring='accuracy',\n",
    "            return_train_score=True)\n",
    "print(\"Accuracy: \",np.mean(rfc_acc['test_score']))\n",
    "rfc_prec = cross_validate(rfc_model,df,target,scoring='precision',\n",
    "            return_train_score=True)\n",
    "print(\"Precision: \",np.mean(rfc_prec['test_score']))\n",
    "rfc_rec = cross_validate(rfc_model,df,target,scoring='recall',\n",
    "            return_train_score=True)\n",
    "print(\"Recall: \",np.mean(rfc_rec['test_score']))\n",
    "rfc_f1 = cross_validate(rfc_model,df,target,scoring='f1',\n",
    "            return_train_score=True)\n",
    "print(\"F1: \",np.mean(rfc_f1['test_score']))"
   ]
  },
  {
   "cell_type": "markdown",
   "metadata": {
    "colab_type": "text",
    "id": "O06ypRjhM6OG"
   },
   "source": [
    "### Challenge 4\n",
    "\n",
    "For your movie classifiers, calculate the precision and recall for each class."
   ]
  },
  {
   "cell_type": "code",
   "execution_count": 44,
   "metadata": {
    "colab": {},
    "colab_type": "code",
    "id": "UW8TVajFM6OJ"
   },
   "outputs": [],
   "source": [
    "mv_df = pd.read_csv('2013_movies.csv')\n",
    "mv_df = mv_df[mv_df['Rating']!='G']\n",
    "mv_df = mv_df[mv_df['Budget'].notna()]\n",
    "rat = mv_df['Rating'].copy()\n",
    "del mv_df['Rating']\n",
    "del mv_df['Title']\n",
    "del mv_df['Director']\n",
    "mv_df['Date']=pd.to_datetime(mv_df['ReleaseDate'],format='%Y-%m-%d %H:%M:%S')\n",
    "mv_df['JDay']=mv_df['Date'].dt.strftime('%j').astype(float)\n",
    "del mv_df['ReleaseDate']\n",
    "del mv_df['Date']\n",
    "mv_knn = KNeighborsClassifier(n_neighbors=6)\n",
    "mv_loge = LogisticRegression()"
   ]
  },
  {
   "cell_type": "code",
   "execution_count": 45,
   "metadata": {},
   "outputs": [],
   "source": [
    "d_train,d_test,r_train,r_test=train_test_split(mv_df,rat,random_state=4444,test_size=0.30)"
   ]
  },
  {
   "cell_type": "code",
   "execution_count": 49,
   "metadata": {},
   "outputs": [
    {
     "name": "stdout",
     "output_type": "stream",
     "text": [
      "Precision per category  ('PG', 'PG-13', 'R') :  (1.0, 0.38461538461538464, 0.38461538461538464)\n",
      "Recall per category:  (0.16666666666666666, 0.4166666666666667, 0.5555555555555556)\n"
     ]
    }
   ],
   "source": [
    "mv_knn.fit(d_train,r_train)\n",
    "rk = mv_knn.predict(d_test)\n",
    "klist = prfs(r_test,rk)\n",
    "print(\"Precision per category \",tuple(mv_knn.classes_),\": \",tuple(klist[0]))\n",
    "print(\"Recall per category: \",tuple(klist[1]))"
   ]
  },
  {
   "cell_type": "code",
   "execution_count": 50,
   "metadata": {},
   "outputs": [
    {
     "name": "stdout",
     "output_type": "stream",
     "text": [
      "Precision per category  ('PG', 'PG-13', 'R') :  (0.0, 0.4782608695652174, 0.5)\n",
      "Recall per category:  (0.0, 0.9166666666666666, 0.2222222222222222)\n"
     ]
    },
    {
     "name": "stderr",
     "output_type": "stream",
     "text": [
      "/home/paulus/anaconda3/lib/python3.7/site-packages/sklearn/metrics/_classification.py:1272: UndefinedMetricWarning: Precision and F-score are ill-defined and being set to 0.0 in labels with no predicted samples. Use `zero_division` parameter to control this behavior.\n",
      "  _warn_prf(average, modifier, msg_start, len(result))\n"
     ]
    }
   ],
   "source": [
    "mv_loge.fit(d_train,r_train)\n",
    "rl = mv_loge.predict(d_test)\n",
    "llist = prfs(r_test,rl)\n",
    "print(\"Precision per category \",tuple(mv_loge.classes_),\": \",tuple(llist[0]))\n",
    "print(\"Recall per category: \",tuple(llist[1]))"
   ]
  },
  {
   "cell_type": "markdown",
   "metadata": {
    "colab_type": "text",
    "id": "KliA_l4sM6Oa"
   },
   "source": [
    "### Challenge 5\n",
    "\n",
    "Draw the ROC curve (and calculate AUC) for the logistic regression classifier from challenge 12."
   ]
  },
  {
   "cell_type": "code",
   "execution_count": 52,
   "metadata": {
    "colab": {},
    "colab_type": "code",
    "id": "spQBH2Y2M6Od"
   },
   "outputs": [],
   "source": [
    "cdf = pd.read_csv('haberman.data',header=None)\n",
    "cdf.columns = ['Age','Year','Nodes','Survival']\n",
    "cmodel = LogisticRegression()\n",
    "y = cdf['Survival']\n",
    "X = cdf.copy()\n",
    "del X['Survival']\n",
    "X_train,X_test,y_train,y_test = train_test_split(X,y,\n",
    "                                test_size=0.30,\n",
    "                                random_state=4444)\n",
    "cmodel.fit(X_train,y_train);"
   ]
  },
  {
   "cell_type": "code",
   "execution_count": 53,
   "metadata": {},
   "outputs": [
    {
     "data": {
      "text/plain": [
       "<sklearn.metrics._plot.roc_curve.RocCurveDisplay at 0x7fa30f078150>"
      ]
     },
     "execution_count": 53,
     "metadata": {},
     "output_type": "execute_result"
    },
    {
     "data": {
      "image/png": "[encoded data removed]",
      "text/plain": [
       "<Figure size 432x288 with 1 Axes>"
      ]
     },
     "metadata": {},
     "output_type": "display_data"
    }
   ],
   "source": [
    "plot_roc_curve(cmodel,X_test,y_test)"
   ]
  },
  {
   "cell_type": "markdown",
   "metadata": {},
   "source": [
    "It is finished."
   ]
  }
 ],
 "metadata": {
  "colab": {
   "collapsed_sections": [],
   "name": "pag_08-classification.ipynb",
   "provenance": []
  },
  "kernelspec": {
   "display_name": "Python 3",
   "language": "python",
   "name": "python3"
  },
  "language_info": {
   "codemirror_mode": {
    "name": "ipython",
    "version": 3
   },
   "file_extension": ".py",
   "mimetype": "text/x-python",
   "name": "python",
   "nbconvert_exporter": "python",
   "pygments_lexer": "ipython3",
   "version": "3.7.6"
  }
 },
 "nbformat": 4,
 "nbformat_minor": 1
}

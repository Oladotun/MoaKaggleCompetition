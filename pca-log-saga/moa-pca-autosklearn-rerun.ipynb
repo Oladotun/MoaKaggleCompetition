{
 "cells": [
  {
   "cell_type": "code",
   "execution_count": 1,
   "metadata": {},
   "outputs": [],
   "source": [
    "import pandas as pd\n",
    "import numpy as np\n",
    "import matplotlib.pyplot as plt\n",
    "from sklearn.decomposition import PCA\n",
    "from sklearn import metrics\n",
    "%matplotlib inline"
   ]
  },
  {
   "cell_type": "code",
   "execution_count": 16,
   "metadata": {},
   "outputs": [],
   "source": [
    "import pickle\n",
    "import pprint"
   ]
  },
  {
   "cell_type": "code",
   "execution_count": 2,
   "metadata": {},
   "outputs": [
    {
     "name": "stderr",
     "output_type": "stream",
     "text": [
      "/home/paulus/.pyenv/versions/3.8.5/lib/python3.8/site-packages/pyparsing.py:3190: FutureWarning: Possible set intersection at position 3\n",
      "  self.re = re.compile(self.reString)\n"
     ]
    }
   ],
   "source": [
    "import autosklearn.classification\n",
    "import autosklearn.metrics\n",
    "from autosklearn.metrics import make_scorer"
   ]
  },
  {
   "cell_type": "code",
   "execution_count": 3,
   "metadata": {},
   "outputs": [],
   "source": [
    "tf_df = pd.read_csv('../train_features.csv',index_col='sig_id')"
   ]
  },
  {
   "cell_type": "code",
   "execution_count": 4,
   "metadata": {},
   "outputs": [
    {
     "data": {
      "text/plain": [
       "array([0.41821179, 0.03871707, 0.02358361, 0.02074852, 0.01890126,\n",
       "       0.01715049, 0.01382442, 0.01341586, 0.00987961, 0.00873211,\n",
       "       0.00841602, 0.00780523, 0.0066486 , 0.005899  , 0.00580112,\n",
       "       0.00560802, 0.00517967, 0.0047722 , 0.0047209 , 0.00426508,\n",
       "       0.00396959, 0.00371703, 0.00340236, 0.00314083, 0.00311071,\n",
       "       0.00292178, 0.00282075, 0.0026893 , 0.00262019, 0.00252038,\n",
       "       0.00234773, 0.00226718, 0.00222994, 0.0021396 , 0.00210259,\n",
       "       0.00200994, 0.00199003, 0.0019211 , 0.00187065, 0.00179917,\n",
       "       0.00175329, 0.00168097, 0.00165551, 0.00164069, 0.00160625,\n",
       "       0.00159609, 0.00156018, 0.00154453, 0.0015158 , 0.00146397])"
      ]
     },
     "execution_count": 4,
     "metadata": {},
     "output_type": "execute_result"
    }
   ],
   "source": [
    "pca = PCA(n_components=50)\n",
    "pca.fit(tf_df.loc[:,'g-0':'c-99'])\n",
    "pca.explained_variance_ratio_"
   ]
  },
  {
   "cell_type": "markdown",
   "metadata": {},
   "source": [
    "Large drops after 2, 6, 8, 12 components."
   ]
  },
  {
   "cell_type": "code",
   "execution_count": 5,
   "metadata": {},
   "outputs": [
    {
     "data": {
      "text/plain": [
       "(23814, 50)"
      ]
     },
     "execution_count": 5,
     "metadata": {},
     "output_type": "execute_result"
    }
   ],
   "source": [
    "reduced_comps = pca.transform(tf_df.loc[:,'g-0':'c-99'])\n",
    "reduced_comps.shape"
   ]
  },
  {
   "cell_type": "code",
   "execution_count": 6,
   "metadata": {},
   "outputs": [
    {
     "data": {
      "text/plain": [
       "(23814, 12)"
      ]
     },
     "execution_count": 6,
     "metadata": {},
     "output_type": "execute_result"
    }
   ],
   "source": [
    "reduced_comps = reduced_comps[:,:12]\n",
    "reduced_comps.shape"
   ]
  },
  {
   "cell_type": "code",
   "execution_count": 7,
   "metadata": {},
   "outputs": [
    {
     "name": "stdout",
     "output_type": "stream",
     "text": [
      "sig_id\n",
      "id_000644bb2    0\n",
      "id_000779bfc    0\n",
      "id_000a6266a    0\n",
      "id_0015fd391    0\n",
      "id_001626bd3    0\n",
      "Name: 5-alpha_reductase_inhibitor, dtype: int64\n"
     ]
    }
   ],
   "source": [
    "tts_df = pd.read_csv('../train_targets_scored.csv',index_col='sig_id')\n",
    "moa1 = tts_df.iloc[:,0]\n",
    "print(moa1.head())"
   ]
  },
  {
   "cell_type": "code",
   "execution_count": 8,
   "metadata": {},
   "outputs": [
    {
     "data": {
      "text/plain": [
       "Index(['5-alpha_reductase_inhibitor', '11-beta-hsd1_inhibitor',\n",
       "       'acat_inhibitor', 'acetylcholine_receptor_agonist',\n",
       "       'acetylcholine_receptor_antagonist', 'acetylcholinesterase_inhibitor',\n",
       "       'adenosine_receptor_agonist', 'adenosine_receptor_antagonist',\n",
       "       'adenylyl_cyclase_activator', 'adrenergic_receptor_agonist',\n",
       "       ...\n",
       "       'tropomyosin_receptor_kinase_inhibitor', 'trpv_agonist',\n",
       "       'trpv_antagonist', 'tubulin_inhibitor', 'tyrosine_kinase_inhibitor',\n",
       "       'ubiquitin_specific_protease_inhibitor', 'vegfr_inhibitor', 'vitamin_b',\n",
       "       'vitamin_d_receptor_agonist', 'wnt_inhibitor'],\n",
       "      dtype='object', length=206)"
      ]
     },
     "execution_count": 8,
     "metadata": {},
     "output_type": "execute_result"
    }
   ],
   "source": [
    "tts_df.columns"
   ]
  },
  {
   "cell_type": "code",
   "execution_count": 9,
   "metadata": {},
   "outputs": [
    {
     "data": {
      "text/plain": [
       "17"
      ]
     },
     "execution_count": 9,
     "metadata": {},
     "output_type": "execute_result"
    }
   ],
   "source": [
    "len(moa1[moa1==1])"
   ]
  },
  {
   "cell_type": "code",
   "execution_count": 10,
   "metadata": {},
   "outputs": [
    {
     "name": "stdout",
     "output_type": "stream",
     "text": [
      "Available CLASSIFICATION metrics autosklearn.metrics.*:\n",
      "\taccuracy\n",
      "\tbalanced_accuracy\n",
      "\troc_auc\n",
      "\taverage_precision\n",
      "\tlog_loss\n",
      "\tprecision\n",
      "\tprecision_macro\n",
      "\tprecision_micro\n",
      "\tprecision_samples\n",
      "\tprecision_weighted\n",
      "\trecall\n",
      "\trecall_macro\n",
      "\trecall_micro\n",
      "\trecall_samples\n",
      "\trecall_weighted\n",
      "\tf1\n",
      "\tf1_macro\n",
      "\tf1_micro\n",
      "\tf1_samples\n",
      "\tf1_weighted\n"
     ]
    }
   ],
   "source": [
    "print(\"Available CLASSIFICATION metrics autosklearn.metrics.*:\")\n",
    "print(\"\\t\" + \"\\n\\t\".join(autosklearn.metrics.CLASSIFICATION_METRICS))"
   ]
  },
  {
   "cell_type": "code",
   "execution_count": 19,
   "metadata": {},
   "outputs": [],
   "source": [
    "automl = autosklearn.classification.AutoSklearnClassifier(\n",
    "    time_left_for_this_task=360,\n",
    "    per_run_time_limit=30,\n",
    "    max_models_on_disc=None,\n",
    "    ensemble_memory_limit=1.75*1024,\n",
    "    ml_memory_limit=3.5*1024,\n",
    "    tmp_folder='./ask_tmp',\n",
    "    output_folder='./ask_out',\n",
    "    delete_output_folder_after_terminate=True,\n",
    "    n_jobs=2,\n",
    "    metric=autosklearn.metrics.log_loss\n",
    ")"
   ]
  },
  {
   "cell_type": "code",
   "execution_count": null,
   "metadata": {},
   "outputs": [],
   "source": [
    "automl.fit(reduced_comps, moa1)"
   ]
  },
  {
   "cell_type": "code",
   "execution_count": null,
   "metadata": {},
   "outputs": [],
   "source": [
    "print(automl.show_models())"
   ]
  },
  {
   "cell_type": "code",
   "execution_count": null,
   "metadata": {},
   "outputs": [],
   "source": [
    "model_suite = automl.get_models_with_weights()\n",
    "model_suite[0]"
   ]
  },
  {
   "cell_type": "code",
   "execution_count": null,
   "metadata": {},
   "outputs": [],
   "source": [
    "len(model_suite)"
   ]
  },
  {
   "cell_type": "code",
   "execution_count": null,
   "metadata": {},
   "outputs": [],
   "source": [
    "predictions = automl.predict(reduced_comps)"
   ]
  },
  {
   "cell_type": "code",
   "execution_count": null,
   "metadata": {},
   "outputs": [],
   "source": [
    "metrics.log_loss(moa1,predictions)"
   ]
  },
  {
   "cell_type": "code",
   "execution_count": null,
   "metadata": {},
   "outputs": [],
   "source": [
    "np.sum(predictions)"
   ]
  },
  {
   "cell_type": "code",
   "execution_count": 48,
   "metadata": {},
   "outputs": [
    {
     "data": {
      "text/plain": [
       "17"
      ]
     },
     "execution_count": 48,
     "metadata": {},
     "output_type": "execute_result"
    }
   ],
   "source": [
    "np.sum(np.array(moa1))"
   ]
  },
  {
   "cell_type": "code",
   "execution_count": 49,
   "metadata": {},
   "outputs": [],
   "source": [
    "automl_all = autosklearn.classification.AutoSklearnClassifier(\n",
    "    time_left_for_this_task=6000,\n",
    "    per_run_time_limit=300,\n",
    "    max_models_on_disc=None,\n",
    "    ensemble_memory_limit=1.75*1024,\n",
    "    ml_memory_limit=3.5*1024,\n",
    "    tmp_folder=None,\n",
    "    output_folder='./autosklearn_output',\n",
    "    delete_output_folder_after_terminate=True,\n",
    "    n_jobs=2,\n",
    "    metric=autosklearn.metrics.log_loss\n",
    ")"
   ]
  },
  {
   "cell_type": "code",
   "execution_count": 50,
   "metadata": {},
   "outputs": [
    {
     "name": "stdout",
     "output_type": "stream",
     "text": [
      "[WARNING] [2020-11-02 17:01:43,357:EnsembleBuilder(1):a885797645e95656a7e609cc6f2020a5] Memory Exception -- restart with less ensemble_nbest: 25\n",
      "[WARNING] [2020-11-02 17:20:46,718:EnsembleBuilder(1):a885797645e95656a7e609cc6f2020a5] Memory Exception -- restart with less ensemble_nbest: 12\n",
      "[WARNING] [2020-11-02 17:25:35,186:EnsembleBuilder(1):a885797645e95656a7e609cc6f2020a5] Memory Exception -- restart with less ensemble_nbest: 6\n",
      "[WARNING] [2020-11-02 17:30:45,659:EnsembleBuilder(1):a885797645e95656a7e609cc6f2020a5] Memory Exception -- restart with less ensemble_nbest: 3\n",
      "[WARNING] [2020-11-02 17:36:33,649:EnsembleBuilder(1):a885797645e95656a7e609cc6f2020a5] Memory Exception -- restart with less ensemble_nbest: 1\n"
     ]
    },
    {
     "name": "stderr",
     "output_type": "stream",
     "text": [
      "/home/paulus/.pyenv/versions/3.8.5/lib/python3.8/site-packages/sklearn/base.py:193: FutureWarning: From version 0.24, get_params will raise an AttributeError if a parameter cannot be retrieved as an instance attribute. Previously it would return None.\n",
      "  warnings.warn('From version 0.24, get_params will raise an '\n"
     ]
    },
    {
     "data": {
      "text/plain": [
       "AutoSklearnClassifier(dask_client=None,\n",
       "                      delete_output_folder_after_terminate=True,\n",
       "                      delete_tmp_folder_after_terminate=True,\n",
       "                      disable_evaluator_output=False,\n",
       "                      ensemble_memory_limit=1792.0, ensemble_nbest=50,\n",
       "                      ensemble_size=50, exclude_estimators=None,\n",
       "                      exclude_preprocessors=None, get_smac_object_callback=None,\n",
       "                      include_estimators=None, include_preprocessors=None,\n",
       "                      initial_configurations_via_metalearning=25,\n",
       "                      logging_config=None, max_models_on_disc=None,\n",
       "                      metadata_directory=None, metric=None,\n",
       "                      ml_memory_limit=3584.0, n_jobs=2,\n",
       "                      output_folder='./autosklearn_output',\n",
       "                      per_run_time_limit=300, resampling_strategy='holdout',\n",
       "                      resampling_strategy_arguments=None, seed=1,\n",
       "                      smac_scenario_args=None, time_left_for_this_task=6000,\n",
       "                      tmp_folder=None)"
      ]
     },
     "execution_count": 50,
     "metadata": {},
     "output_type": "execute_result"
    }
   ],
   "source": [
    "automl_all.fit(reduced_comps,tts_df)"
   ]
  },
  {
   "cell_type": "code",
   "execution_count": 51,
   "metadata": {},
   "outputs": [],
   "source": [
    "with open('automodel.pkl','wb') as cellar:\n",
    "    pickle.dump(automl_all,cellar)"
   ]
  },
  {
   "cell_type": "code",
   "execution_count": 12,
   "metadata": {},
   "outputs": [],
   "source": [
    "with open('automodel.pkl','rb') as cellar:\n",
    "    automl_all = pickle.load(cellar)"
   ]
  },
  {
   "cell_type": "code",
   "execution_count": 14,
   "metadata": {},
   "outputs": [
    {
     "data": {
      "text/plain": [
       "4.144142301877526"
      ]
     },
     "execution_count": 14,
     "metadata": {},
     "output_type": "execute_result"
    }
   ],
   "source": [
    "pred_all = automl_all.predict(reduced_comps)\n",
    "metrics.log_loss(tts_df,pred_all)"
   ]
  },
  {
   "cell_type": "code",
   "execution_count": 17,
   "metadata": {},
   "outputs": [
    {
     "name": "stdout",
     "output_type": "stream",
     "text": [
      "{'0': {'f1-score': 0.0, 'precision': 0.0, 'recall': 0.0, 'support': 17},\n",
      " '1': {'f1-score': 0.0, 'precision': 0.0, 'recall': 0.0, 'support': 18},\n",
      " '10': {'f1-score': 0.0, 'precision': 0.0, 'recall': 0.0, 'support': 360},\n",
      " '100': {'f1-score': 0.0, 'precision': 0.0, 'recall': 0.0, 'support': 18},\n",
      " '101': {'f1-score': 0.0, 'precision': 0.0, 'recall': 0.0, 'support': 60},\n",
      " '102': {'f1-score': 0.0, 'precision': 0.0, 'recall': 0.0, 'support': 72},\n",
      " '103': {'f1-score': 0.0, 'precision': 0.0, 'recall': 0.0, 'support': 106},\n",
      " '104': {'f1-score': 0.0, 'precision': 0.0, 'recall': 0.0, 'support': 59},\n",
      " '105': {'f1-score': 0.0, 'precision': 0.0, 'recall': 0.0, 'support': 241},\n",
      " '106': {'f1-score': 0.0, 'precision': 0.0, 'recall': 0.0, 'support': 24},\n",
      " '107': {'f1-score': 0.0, 'precision': 0.0, 'recall': 0.0, 'support': 32},\n",
      " '108': {'f1-score': 0.0, 'precision': 0.0, 'recall': 0.0, 'support': 72},\n",
      " '109': {'f1-score': 0.0, 'precision': 0.0, 'recall': 0.0, 'support': 283},\n",
      " '11': {'f1-score': 0.0, 'precision': 0.0, 'recall': 0.0, 'support': 66},\n",
      " '110': {'f1-score': 0.5595238095238095,\n",
      "         'precision': 0.6266666666666667,\n",
      "         'recall': 0.5053763440860215,\n",
      "         'support': 93},\n",
      " '111': {'f1-score': 0.0, 'precision': 0.0, 'recall': 0.0, 'support': 37},\n",
      " '112': {'f1-score': 0.0, 'precision': 0.0, 'recall': 0.0, 'support': 30},\n",
      " '113': {'f1-score': 0.0, 'precision': 0.0, 'recall': 0.0, 'support': 31},\n",
      " '114': {'f1-score': 0.0, 'precision': 0.0, 'recall': 0.0, 'support': 73},\n",
      " '115': {'f1-score': 0.0, 'precision': 0.0, 'recall': 0.0, 'support': 30},\n",
      " '116': {'f1-score': 0.0, 'precision': 0.0, 'recall': 0.0, 'support': 51},\n",
      " '117': {'f1-score': 0.0, 'precision': 0.0, 'recall': 0.0, 'support': 42},\n",
      " '118': {'f1-score': 0.0, 'precision': 0.0, 'recall': 0.0, 'support': 92},\n",
      " '119': {'f1-score': 0.0, 'precision': 0.0, 'recall': 0.0, 'support': 273},\n",
      " '12': {'f1-score': 0.0, 'precision': 0.0, 'recall': 0.0, 'support': 7},\n",
      " '120': {'f1-score': 0.0, 'precision': 0.0, 'recall': 0.0, 'support': 6},\n",
      " '121': {'f1-score': 0.0, 'precision': 0.0, 'recall': 0.0, 'support': 6},\n",
      " '122': {'f1-score': 0.0, 'precision': 0.0, 'recall': 0.0, 'support': 62},\n",
      " '123': {'f1-score': 0.0, 'precision': 0.0, 'recall': 0.0, 'support': 12},\n",
      " '124': {'f1-score': 0.0, 'precision': 0.0, 'recall': 0.0, 'support': 61},\n",
      " '125': {'f1-score': 0.0, 'precision': 0.0, 'recall': 0.0, 'support': 6},\n",
      " '126': {'f1-score': 0.0, 'precision': 0.0, 'recall': 0.0, 'support': 31},\n",
      " '127': {'f1-score': 0.28169014084507044,\n",
      "         'precision': 0.2857142857142857,\n",
      "         'recall': 0.2777777777777778,\n",
      "         'support': 72},\n",
      " '128': {'f1-score': 0.0, 'precision': 0.0, 'recall': 0.0, 'support': 74},\n",
      " '129': {'f1-score': 0.0, 'precision': 0.0, 'recall': 0.0, 'support': 25},\n",
      " '13': {'f1-score': 0.0, 'precision': 0.0, 'recall': 0.0, 'support': 42},\n",
      " '130': {'f1-score': 0.0, 'precision': 0.0, 'recall': 0.0, 'support': 12},\n",
      " '131': {'f1-score': 0.0, 'precision': 0.0, 'recall': 0.0, 'support': 85},\n",
      " '132': {'f1-score': 0.0, 'precision': 0.0, 'recall': 0.0, 'support': 18},\n",
      " '133': {'f1-score': 0.3450479233226837,\n",
      "         'precision': 0.29508196721311475,\n",
      "         'recall': 0.4153846153846154,\n",
      "         'support': 130},\n",
      " '134': {'f1-score': 0.0, 'precision': 0.0, 'recall': 0.0, 'support': 48},\n",
      " '135': {'f1-score': 0.0, 'precision': 0.0, 'recall': 0.0, 'support': 37},\n",
      " '136': {'f1-score': 0.04694835680751174,\n",
      "         'precision': 1.0,\n",
      "         'recall': 0.02403846153846154,\n",
      "         'support': 832},\n",
      " '137': {'f1-score': 0.0, 'precision': 0.0, 'recall': 0.0, 'support': 6},\n",
      " '138': {'f1-score': 0.0, 'precision': 0.0, 'recall': 0.0, 'support': 26},\n",
      " '139': {'f1-score': 0.0, 'precision': 0.0, 'recall': 0.0, 'support': 12},\n",
      " '14': {'f1-score': 0.0, 'precision': 0.0, 'recall': 0.0, 'support': 12},\n",
      " '140': {'f1-score': 0.0, 'precision': 0.0, 'recall': 0.0, 'support': 26},\n",
      " '141': {'f1-score': 0.0, 'precision': 0.0, 'recall': 0.0, 'support': 7},\n",
      " '142': {'f1-score': 0.0, 'precision': 0.0, 'recall': 0.0, 'support': 18},\n",
      " '143': {'f1-score': 0.0, 'precision': 0.0, 'recall': 0.0, 'support': 61},\n",
      " '144': {'f1-score': 0.0, 'precision': 0.0, 'recall': 0.0, 'support': 96},\n",
      " '145': {'f1-score': 0.0, 'precision': 0.0, 'recall': 0.0, 'support': 37},\n",
      " '146': {'f1-score': 0.0, 'precision': 0.0, 'recall': 0.0, 'support': 62},\n",
      " '147': {'f1-score': 0.0, 'precision': 0.0, 'recall': 0.0, 'support': 24},\n",
      " '148': {'f1-score': 0.0, 'precision': 0.0, 'recall': 0.0, 'support': 61},\n",
      " '149': {'f1-score': 0.0, 'precision': 0.0, 'recall': 0.0, 'support': 297},\n",
      " '15': {'f1-score': 0.0, 'precision': 0.0, 'recall': 0.0, 'support': 12},\n",
      " '150': {'f1-score': 0.0, 'precision': 0.0, 'recall': 0.0, 'support': 18},\n",
      " '151': {'f1-score': 0.0, 'precision': 0.0, 'recall': 0.0, 'support': 264},\n",
      " '152': {'f1-score': 0.0, 'precision': 0.0, 'recall': 0.0, 'support': 25},\n",
      " '153': {'f1-score': 0.0, 'precision': 0.0, 'recall': 0.0, 'support': 151},\n",
      " '154': {'f1-score': 0.0, 'precision': 0.0, 'recall': 0.0, 'support': 31},\n",
      " '155': {'f1-score': 0.0, 'precision': 0.0, 'recall': 0.0, 'support': 55},\n",
      " '156': {'f1-score': 0.0, 'precision': 0.0, 'recall': 0.0, 'support': 98},\n",
      " '157': {'f1-score': 0.0, 'precision': 0.0, 'recall': 0.0, 'support': 115},\n",
      " '158': {'f1-score': 0.0, 'precision': 0.0, 'recall': 0.0, 'support': 30},\n",
      " '159': {'f1-score': 0.0, 'precision': 0.0, 'recall': 0.0, 'support': 119},\n",
      " '16': {'f1-score': 0.0, 'precision': 0.0, 'recall': 0.0, 'support': 48},\n",
      " '160': {'f1-score': 0.0, 'precision': 0.0, 'recall': 0.0, 'support': 18},\n",
      " '161': {'f1-score': 0.0, 'precision': 0.0, 'recall': 0.0, 'support': 36},\n",
      " '162': {'f1-score': 0.0, 'precision': 0.0, 'recall': 0.0, 'support': 84},\n",
      " '163': {'f1-score': 0.11183355006501951,\n",
      "         'precision': 1.0,\n",
      "         'recall': 0.05922865013774105,\n",
      "         'support': 726},\n",
      " '164': {'f1-score': 0.0, 'precision': 0.0, 'recall': 0.0, 'support': 48},\n",
      " '165': {'f1-score': 0.0, 'precision': 0.0, 'recall': 0.0, 'support': 6},\n",
      " '166': {'f1-score': 0.0, 'precision': 0.0, 'recall': 0.0, 'support': 103},\n",
      " '167': {'f1-score': 0.0, 'precision': 0.0, 'recall': 0.0, 'support': 19},\n",
      " '168': {'f1-score': 0.0, 'precision': 0.0, 'recall': 0.0, 'support': 56},\n",
      " '169': {'f1-score': 0.5814977973568282,\n",
      "         'precision': 0.5714285714285714,\n",
      "         'recall': 0.5919282511210763,\n",
      "         'support': 223},\n",
      " '17': {'f1-score': 0.0, 'precision': 0.0, 'recall': 0.0, 'support': 89},\n",
      " '170': {'f1-score': 0.0, 'precision': 0.0, 'recall': 0.0, 'support': 12},\n",
      " '171': {'f1-score': 0.0, 'precision': 0.0, 'recall': 0.0, 'support': 67},\n",
      " '172': {'f1-score': 0.0, 'precision': 0.0, 'recall': 0.0, 'support': 6},\n",
      " '173': {'f1-score': 0.0, 'precision': 0.0, 'recall': 0.0, 'support': 35},\n",
      " '174': {'f1-score': 0.0, 'precision': 0.0, 'recall': 0.0, 'support': 37},\n",
      " '175': {'f1-score': 0.0, 'precision': 0.0, 'recall': 0.0, 'support': 25},\n",
      " '176': {'f1-score': 0.0, 'precision': 0.0, 'recall': 0.0, 'support': 236},\n",
      " '177': {'f1-score': 0.0, 'precision': 0.0, 'recall': 0.0, 'support': 404},\n",
      " '178': {'f1-score': 0.0, 'precision': 0.0, 'recall': 0.0, 'support': 44},\n",
      " '179': {'f1-score': 0.0, 'precision': 0.0, 'recall': 0.0, 'support': 36},\n",
      " '18': {'f1-score': 0.0, 'precision': 0.0, 'recall': 0.0, 'support': 80},\n",
      " '180': {'f1-score': 0.0, 'precision': 0.0, 'recall': 0.0, 'support': 36},\n",
      " '181': {'f1-score': 0.0, 'precision': 0.0, 'recall': 0.0, 'support': 25},\n",
      " '182': {'f1-score': 0.0, 'precision': 0.0, 'recall': 0.0, 'support': 267},\n",
      " '183': {'f1-score': 0.0, 'precision': 0.0, 'recall': 0.0, 'support': 25},\n",
      " '184': {'f1-score': 0.0, 'precision': 0.0, 'recall': 0.0, 'support': 71},\n",
      " '185': {'f1-score': 0.0, 'precision': 0.0, 'recall': 0.0, 'support': 6},\n",
      " '186': {'f1-score': 0.0, 'precision': 0.0, 'recall': 0.0, 'support': 19},\n",
      " '187': {'f1-score': 0.0, 'precision': 0.0, 'recall': 0.0, 'support': 60},\n",
      " '188': {'f1-score': 0.0, 'precision': 0.0, 'recall': 0.0, 'support': 30},\n",
      " '189': {'f1-score': 0.0, 'precision': 0.0, 'recall': 0.0, 'support': 19},\n",
      " '19': {'f1-score': 0.0, 'precision': 0.0, 'recall': 0.0, 'support': 36},\n",
      " '190': {'f1-score': 0.0, 'precision': 0.0, 'recall': 0.0, 'support': 37},\n",
      " '191': {'f1-score': 0.0, 'precision': 0.0, 'recall': 0.0, 'support': 30},\n",
      " '192': {'f1-score': 0.0, 'precision': 0.0, 'recall': 0.0, 'support': 7},\n",
      " '193': {'f1-score': 0.0, 'precision': 0.0, 'recall': 0.0, 'support': 36},\n",
      " '194': {'f1-score': 0.0, 'precision': 0.0, 'recall': 0.0, 'support': 127},\n",
      " '195': {'f1-score': 0.0, 'precision': 0.0, 'recall': 0.0, 'support': 18},\n",
      " '196': {'f1-score': 0.0, 'precision': 0.0, 'recall': 0.0, 'support': 6},\n",
      " '197': {'f1-score': 0.0, 'precision': 0.0, 'recall': 0.0, 'support': 25},\n",
      " '198': {'f1-score': 0.0, 'precision': 0.0, 'recall': 0.0, 'support': 48},\n",
      " '199': {'f1-score': 0.4659231722428748,\n",
      "         'precision': 0.38289205702647655,\n",
      "         'recall': 0.5949367088607594,\n",
      "         'support': 316},\n",
      " '2': {'f1-score': 0.0, 'precision': 0.0, 'recall': 0.0, 'support': 24},\n",
      " '20': {'f1-score': 0.0, 'precision': 0.0, 'recall': 0.0, 'support': 37},\n",
      " '200': {'f1-score': 0.0, 'precision': 0.0, 'recall': 0.0, 'support': 73},\n",
      " '201': {'f1-score': 0.0, 'precision': 0.0, 'recall': 0.0, 'support': 6},\n",
      " '202': {'f1-score': 0.0, 'precision': 0.0, 'recall': 0.0, 'support': 170},\n",
      " '203': {'f1-score': 0.0, 'precision': 0.0, 'recall': 0.0, 'support': 26},\n",
      " '204': {'f1-score': 0.0, 'precision': 0.0, 'recall': 0.0, 'support': 39},\n",
      " '205': {'f1-score': 0.0, 'precision': 0.0, 'recall': 0.0, 'support': 30},\n",
      " '21': {'f1-score': 0.0, 'precision': 0.0, 'recall': 0.0, 'support': 73},\n",
      " '22': {'f1-score': 0.0, 'precision': 0.0, 'recall': 0.0, 'support': 6},\n",
      " '23': {'f1-score': 0.0, 'precision': 0.0, 'recall': 0.0, 'support': 43},\n",
      " '24': {'f1-score': 0.0, 'precision': 0.0, 'recall': 0.0, 'support': 12},\n",
      " '25': {'f1-score': 0.0, 'precision': 0.0, 'recall': 0.0, 'support': 13},\n",
      " '26': {'f1-score': 0.0, 'precision': 0.0, 'recall': 0.0, 'support': 12},\n",
      " '27': {'f1-score': 0.0, 'precision': 0.0, 'recall': 0.0, 'support': 18},\n",
      " '28': {'f1-score': 0.0, 'precision': 0.0, 'recall': 0.0, 'support': 73},\n",
      " '29': {'f1-score': 0.0, 'precision': 0.0, 'recall': 0.0, 'support': 36},\n",
      " '3': {'f1-score': 0.0, 'precision': 0.0, 'recall': 0.0, 'support': 190},\n",
      " '30': {'f1-score': 0.0, 'precision': 0.0, 'recall': 0.0, 'support': 23},\n",
      " '31': {'f1-score': 0.0, 'precision': 0.0, 'recall': 0.0, 'support': 49},\n",
      " '32': {'f1-score': 0.0, 'precision': 0.0, 'recall': 0.0, 'support': 47},\n",
      " '33': {'f1-score': 0.0, 'precision': 0.0, 'recall': 0.0, 'support': 6},\n",
      " '34': {'f1-score': 0.0, 'precision': 0.0, 'recall': 0.0, 'support': 1},\n",
      " '35': {'f1-score': 0.0, 'precision': 0.0, 'recall': 0.0, 'support': 12},\n",
      " '36': {'f1-score': 0.0, 'precision': 0.0, 'recall': 0.0, 'support': 97},\n",
      " '37': {'f1-score': 0.0, 'precision': 0.0, 'recall': 0.0, 'support': 19},\n",
      " '38': {'f1-score': 0.0, 'precision': 0.0, 'recall': 0.0, 'support': 96},\n",
      " '39': {'f1-score': 0.0, 'precision': 0.0, 'recall': 0.0, 'support': 6},\n",
      " '4': {'f1-score': 0.0, 'precision': 0.0, 'recall': 0.0, 'support': 301},\n",
      " '40': {'f1-score': 0.0, 'precision': 0.0, 'recall': 0.0, 'support': 60},\n",
      " '41': {'f1-score': 0.0, 'precision': 0.0, 'recall': 0.0, 'support': 80},\n",
      " '42': {'f1-score': 0.0, 'precision': 0.0, 'recall': 0.0, 'support': 36},\n",
      " '43': {'f1-score': 0.0, 'precision': 0.0, 'recall': 0.0, 'support': 192},\n",
      " '44': {'f1-score': 0.0, 'precision': 0.0, 'recall': 0.0, 'support': 89},\n",
      " '45': {'f1-score': 0.0, 'precision': 0.0, 'recall': 0.0, 'support': 115},\n",
      " '46': {'f1-score': 0.0, 'precision': 0.0, 'recall': 0.0, 'support': 7},\n",
      " '47': {'f1-score': 0.0, 'precision': 0.0, 'recall': 0.0, 'support': 31},\n",
      " '48': {'f1-score': 0.0, 'precision': 0.0, 'recall': 0.0, 'support': 38},\n",
      " '49': {'f1-score': 0.0, 'precision': 0.0, 'recall': 0.0, 'support': 67},\n",
      " '5': {'f1-score': 0.0, 'precision': 0.0, 'recall': 0.0, 'support': 73},\n",
      " '50': {'f1-score': 0.0, 'precision': 0.0, 'recall': 0.0, 'support': 24},\n",
      " '51': {'f1-score': 0.0, 'precision': 0.0, 'recall': 0.0, 'support': 68},\n",
      " '52': {'f1-score': 0.0, 'precision': 0.0, 'recall': 0.0, 'support': 29},\n",
      " '53': {'f1-score': 0.0, 'precision': 0.0, 'recall': 0.0, 'support': 6},\n",
      " '54': {'f1-score': 0.0, 'precision': 0.0, 'recall': 0.0, 'support': 281},\n",
      " '55': {'f1-score': 0.0, 'precision': 0.0, 'recall': 0.0, 'support': 42},\n",
      " '56': {'f1-score': 0.0, 'precision': 0.0, 'recall': 0.0, 'support': 55},\n",
      " '57': {'f1-score': 0.0, 'precision': 0.0, 'recall': 0.0, 'support': 36},\n",
      " '58': {'f1-score': 0.0, 'precision': 0.0, 'recall': 0.0, 'support': 36},\n",
      " '59': {'f1-score': 0.0, 'precision': 0.0, 'recall': 0.0, 'support': 18},\n",
      " '6': {'f1-score': 0.0, 'precision': 0.0, 'recall': 0.0, 'support': 54},\n",
      " '60': {'f1-score': 0.0, 'precision': 0.0, 'recall': 0.0, 'support': 12},\n",
      " '61': {'f1-score': 0.0, 'precision': 0.0, 'recall': 0.0, 'support': 102},\n",
      " '62': {'f1-score': 0.0, 'precision': 0.0, 'recall': 0.0, 'support': 18},\n",
      " '63': {'f1-score': 0.5665101721439749,\n",
      "        'precision': 0.6053511705685619,\n",
      "        'recall': 0.5323529411764706,\n",
      "        'support': 340},\n",
      " '64': {'f1-score': 0.0, 'precision': 0.0, 'recall': 0.0, 'support': 54},\n",
      " '65': {'f1-score': 0.0, 'precision': 0.0, 'recall': 0.0, 'support': 24},\n",
      " '66': {'f1-score': 0.0, 'precision': 0.0, 'recall': 0.0, 'support': 42},\n",
      " '67': {'f1-score': 0.0, 'precision': 0.0, 'recall': 0.0, 'support': 48},\n",
      " '68': {'f1-score': 0.0, 'precision': 0.0, 'recall': 0.0, 'support': 54},\n",
      " '69': {'f1-score': 0.0, 'precision': 0.0, 'recall': 0.0, 'support': 6},\n",
      " '7': {'f1-score': 0.0, 'precision': 0.0, 'recall': 0.0, 'support': 96},\n",
      " '70': {'f1-score': 0.0, 'precision': 0.0, 'recall': 0.0, 'support': 36},\n",
      " '71': {'f1-score': 0.0, 'precision': 0.0, 'recall': 0.0, 'support': 435},\n",
      " '72': {'f1-score': 0.0, 'precision': 0.0, 'recall': 0.0, 'support': 104},\n",
      " '73': {'f1-score': 0.0, 'precision': 0.0, 'recall': 0.0, 'support': 36},\n",
      " '74': {'f1-score': 0.0, 'precision': 0.0, 'recall': 0.0, 'support': 25},\n",
      " '75': {'f1-score': 0.0, 'precision': 0.0, 'recall': 0.0, 'support': 6},\n",
      " '76': {'f1-score': 0.0, 'precision': 0.0, 'recall': 0.0, 'support': 48},\n",
      " '77': {'f1-score': 0.0, 'precision': 0.0, 'recall': 0.0, 'support': 402},\n",
      " '78': {'f1-score': 0.0, 'precision': 0.0, 'recall': 0.0, 'support': 121},\n",
      " '79': {'f1-score': 0.0, 'precision': 0.0, 'recall': 0.0, 'support': 424},\n",
      " '8': {'f1-score': 0.0, 'precision': 0.0, 'recall': 0.0, 'support': 12},\n",
      " '80': {'f1-score': 0.0, 'precision': 0.0, 'recall': 0.0, 'support': 336},\n",
      " '81': {'f1-score': 0.0, 'precision': 0.0, 'recall': 0.0, 'support': 6},\n",
      " '82': {'f1-score': 0.0, 'precision': 0.0, 'recall': 0.0, 'support': 1},\n",
      " '83': {'f1-score': 0.0, 'precision': 0.0, 'recall': 0.0, 'support': 158},\n",
      " '84': {'f1-score': 0.0, 'precision': 0.0, 'recall': 0.0, 'support': 48},\n",
      " '85': {'f1-score': 0.0, 'precision': 0.0, 'recall': 0.0, 'support': 36},\n",
      " '86': {'f1-score': 0.0, 'precision': 0.0, 'recall': 0.0, 'support': 18},\n",
      " '87': {'f1-score': 0.0, 'precision': 0.0, 'recall': 0.0, 'support': 25},\n",
      " '88': {'f1-score': 0.0, 'precision': 0.0, 'recall': 0.0, 'support': 50},\n",
      " '89': {'f1-score': 0.0, 'precision': 0.0, 'recall': 0.0, 'support': 279},\n",
      " '9': {'f1-score': 0.0, 'precision': 0.0, 'recall': 0.0, 'support': 270},\n",
      " '90': {'f1-score': 0.0, 'precision': 0.0, 'recall': 0.0, 'support': 18},\n",
      " '91': {'f1-score': 0.0, 'precision': 0.0, 'recall': 0.0, 'support': 18},\n",
      " '92': {'f1-score': 0.0, 'precision': 0.0, 'recall': 0.0, 'support': 23},\n",
      " '93': {'f1-score': 0.0, 'precision': 0.0, 'recall': 0.0, 'support': 106},\n",
      " '94': {'f1-score': 0.0, 'precision': 0.0, 'recall': 0.0, 'support': 165},\n",
      " '95': {'f1-score': 0.0, 'precision': 0.0, 'recall': 0.0, 'support': 56},\n",
      " '96': {'f1-score': 0.0, 'precision': 0.0, 'recall': 0.0, 'support': 266},\n",
      " '97': {'f1-score': 0.0, 'precision': 0.0, 'recall': 0.0, 'support': 13},\n",
      " '98': {'f1-score': 0.0, 'precision': 0.0, 'recall': 0.0, 'support': 74},\n",
      " '99': {'f1-score': 0.0, 'precision': 0.0, 'recall': 0.0, 'support': 367},\n",
      " 'macro avg': {'f1-score': 0.014363955933532877,\n",
      "               'precision': 0.023141430672901343,\n",
      "               'recall': 0.014568076456713222,\n",
      "               'support': 16844},\n",
      " 'micro avg': {'f1-score': 0.07504382120946537,\n",
      "               'precision': 0.48512747875354106,\n",
      "               'recall': 0.04066729992875801,\n",
      "               'support': 16844},\n",
      " 'samples avg': {'f1-score': 0.025629181713837795,\n",
      "                 'precision': 0.02556619355561154,\n",
      "                 'recall': 0.026811959351641892,\n",
      "                 'support': 16844},\n",
      " 'weighted avg': {'f1-score': 0.041970138591654875,\n",
      "                  'precision': 0.12642210542337823,\n",
      "                  'recall': 0.04066729992875801,\n",
      "                  'support': 16844}}\n"
     ]
    }
   ],
   "source": [
    "pprint.pprint(metrics.classification_report(tts_df,pred_all,output_dict=True))"
   ]
  },
  {
   "cell_type": "code",
   "execution_count": 18,
   "metadata": {},
   "outputs": [
    {
     "data": {
      "text/plain": [
       "\"[(1.000000, SimpleClassificationPipeline({'balancing:strategy': 'weighting', 'classifier:__choice__': 'bernoulli_nb', 'data_preprocessing:categorical_transformer:categorical_encoding:__choice__': 'one_hot_encoding', 'data_preprocessing:categorical_transformer:category_coalescence:__choice__': 'minority_coalescer', 'data_preprocessing:numerical_transformer:imputation:strategy': 'median', 'data_preprocessing:numerical_transformer:rescaling:__choice__': 'standardize', 'feature_preprocessor:__choice__': 'feature_agglomeration', 'classifier:bernoulli_nb:alpha': 2.9559216410631404, 'classifier:bernoulli_nb:fit_prior': 'True', 'data_preprocessing:categorical_transformer:category_coalescence:minority_coalescer:minimum_fraction': 0.03863647861706608, 'feature_preprocessor:feature_agglomeration:affinity': 'euclidean', 'feature_preprocessor:feature_agglomeration:linkage': 'average', 'feature_preprocessor:feature_agglomeration:n_clusters': 368, 'feature_preprocessor:feature_agglomeration:pooling_func': 'max'},\\ndataset_properties={\\n  'task': 3,\\n  'sparse': False,\\n  'multilabel': True,\\n  'multiclass': False,\\n  'target_type': 'classification',\\n  'signed': False})),\\n]\""
      ]
     },
     "execution_count": 18,
     "metadata": {},
     "output_type": "execute_result"
    }
   ],
   "source": [
    "automl_all.show_models()"
   ]
  },
  {
   "cell_type": "markdown",
   "metadata": {},
   "source": [
    "That did not do so well across the whole target space, did it?\n",
    "\n",
    "It is just too interesting... I will try running a model for each column. Also, I will use the whole input dataframe and let autosklearn one hot encode the two binary columns in addition to standardizing the treatment duration column."
   ]
  },
  {
   "cell_type": "code",
   "execution_count": null,
   "metadata": {},
   "outputs": [],
   "source": [
    "bespoke_models = []\n",
    "bespoke_scores = []\n",
    "for i in len(tts_df.columns):\n",
    "    bespoke = autosklearn.classification.AutoSklearnClassifier(\n",
    "        time_left_for_this_task=360,\n",
    "        per_run_time_limit=30,\n",
    "        max_models_on_disc=None,\n",
    "        ensemble_memory_limit=1.75*1024,\n",
    "        ml_memory_limit=3.5*1024,\n",
    "        tmp_folder='./bespoke_tmp',\n",
    "        output_folder='./bespoke_out',\n",
    "        delete_output_folder_after_terminate=True,\n",
    "        n_jobs=2,\n",
    "        metric=autosklearn.metrics.log_loss\n",
    "    )\n",
    "    bespoke.fit(tf_df,tts_df.iloc[:,i])\n",
    "    bespoke_models.append(bespoke)\n",
    "    bespoke_scores.append(metrics.log_loss(tts_df.iloc[:,i],bespoke.predict(tf_df)))\n",
    "with open('bespokemodels.pkl','wb') as cellar:\n",
    "    pickle.dump([bespoke_models,bespoke_scores],cellar)"
   ]
  }
 ],
 "metadata": {
  "kernelspec": {
   "display_name": "Python 3",
   "language": "python",
   "name": "python3"
  },
  "language_info": {
   "codemirror_mode": {
    "name": "ipython",
    "version": 3
   },
   "file_extension": ".py",
   "mimetype": "text/x-python",
   "name": "python",
   "nbconvert_exporter": "python",
   "pygments_lexer": "ipython3",
   "version": "3.8.5"
  }
 },
 "nbformat": 4,
 "nbformat_minor": 4
}
